{
 "cells": [
  {
   "cell_type": "markdown",
   "metadata": {},
   "source": [
    "## Problem: Detection of aggressive tweets"
   ]
  },
  {
   "cell_type": "markdown",
   "metadata": {},
   "source": [
    "Training dataset has 12800 tweets (in english) and validation dataset has 3200 tweets.<br/>\n",
    "Tweets are labeled (by human) as:\n",
    "* 1 (Cyber-Aggressive; 9714 items)\n",
    "* 0 (Non Cyber-Aggressive; 6286 items)"
   ]
  },
  {
   "cell_type": "markdown",
   "metadata": {},
   "source": [
    "# Classification of Tweets"
   ]
  },
  {
   "cell_type": "markdown",
   "metadata": {},
   "source": [
    "## Data"
   ]
  },
  {
   "cell_type": "code",
   "execution_count": 1,
   "metadata": {
    "collapsed": true
   },
   "outputs": [],
   "source": [
    "import pandas as pd\n",
    "import numpy as np"
   ]
  },
  {
   "cell_type": "code",
   "execution_count": 2,
   "metadata": {
    "collapsed": true
   },
   "outputs": [],
   "source": [
    "data_train = pd.read_json('./Data/train.json')\n",
    "data_valid = pd.read_json('./Data/valid.json')"
   ]
  },
  {
   "cell_type": "code",
   "execution_count": 3,
   "metadata": {
    "collapsed": true
   },
   "outputs": [],
   "source": [
    "X_train = data_train.content\n",
    "y_train = data_train.label\n",
    "X_test = data_valid.content\n",
    "y_test = data_valid.label"
   ]
  },
  {
   "cell_type": "markdown",
   "metadata": {},
   "source": [
    "## Preprocessing"
   ]
  },
  {
   "cell_type": "code",
   "execution_count": 4,
   "metadata": {
    "collapsed": false
   },
   "outputs": [],
   "source": [
    "import nltk\n",
    "import re\n",
    "\n",
    "from sklearn.pipeline import Pipeline\n",
    "from sklearn.pipeline import FeatureUnion\n",
    "from mytextpreprocessing import TextPreprocessor\n",
    "from mytextpreprocessing import FrequencyExtractor\n",
    "from sklearn.feature_extraction.text import CountVectorizer\n",
    "from sklearn.preprocessing import MaxAbsScaler\n",
    "from sklearn.linear_model import LogisticRegression\n",
    "\n",
    "from sklearn.metrics import accuracy_score\n",
    "from sklearn.metrics import roc_auc_score, roc_curve\n",
    "\n",
    "from myutils import *"
   ]
  },
  {
   "cell_type": "code",
   "execution_count": 5,
   "metadata": {
    "collapsed": false
   },
   "outputs": [],
   "source": [
    "# nltk.download()"
   ]
  },
  {
   "cell_type": "code",
   "execution_count": 6,
   "metadata": {
    "collapsed": true
   },
   "outputs": [],
   "source": [
    "def print_accuracy(pipe, X):\n",
    "    pipe.fit(X, y_train);\n",
    "\n",
    "    y_train_pred = pipe.predict(X)\n",
    "    y_test_pred = pipe.predict(X_test)\n",
    "\n",
    "    print('Tarining dataset: accuracy = %.3f' % accuracy_score(y_pred=y_train_pred, y_true=y_train))\n",
    "    print('Test dataset: accuracy = %.3f' % accuracy_score(y_pred=y_test_pred, y_true=y_test))"
   ]
  },
  {
   "cell_type": "markdown",
   "metadata": {},
   "source": [
    "Additional features give some infromation (the accuracy is higher than 0.607)"
   ]
  },
  {
   "cell_type": "code",
   "execution_count": 7,
   "metadata": {
    "collapsed": false
   },
   "outputs": [
    {
     "name": "stdout",
     "output_type": "stream",
     "text": [
      "Train: 0.6070\n",
      "Test: 0.6075\n"
     ]
    }
   ],
   "source": [
    "print('Train: {:.4f}'.format(1 - y_train.mean()))\n",
    "print('Test: {:.4f}'.format(1 - y_test.mean()))"
   ]
  },
  {
   "cell_type": "code",
   "execution_count": 8,
   "metadata": {
    "collapsed": false
   },
   "outputs": [
    {
     "name": "stdout",
     "output_type": "stream",
     "text": [
      "Tarining dataset: accuracy = 0.615\n",
      "Test dataset: accuracy = 0.617\n"
     ]
    }
   ],
   "source": [
    "test_pipe = Pipeline([('feats', FrequencyExtractor()),\n",
    "                      ('clf', LogisticRegression(penalty='l2', C=1.0))\n",
    "                     ])\n",
    "\n",
    "print_accuracy(test_pipe, X_train)"
   ]
  },
  {
   "cell_type": "markdown",
   "metadata": {},
   "source": [
    "Text normalization seems to be irrelevant for the results"
   ]
  },
  {
   "cell_type": "code",
   "execution_count": 9,
   "metadata": {
    "collapsed": true
   },
   "outputs": [],
   "source": [
    "token_pattern = '(?u)\\\\b[a-z\\'*]{2,}\\\\b'"
   ]
  },
  {
   "cell_type": "code",
   "execution_count": 10,
   "metadata": {
    "collapsed": false
   },
   "outputs": [
    {
     "name": "stdout",
     "output_type": "stream",
     "text": [
      "Tarining dataset: accuracy = 0.919\n",
      "Test dataset: accuracy = 0.807\n",
      "============================================\n",
      "Tarining dataset: accuracy = 0.919\n",
      "Test dataset: accuracy = 0.806\n"
     ]
    }
   ],
   "source": [
    "test_pipe = Pipeline([('vectorizer', CountVectorizer(token_pattern=token_pattern)),\n",
    "                      ('scaler', MaxAbsScaler()),\n",
    "                      ('clf', LogisticRegression(penalty='l2', C=1.0))])\n",
    "\n",
    "print_accuracy(test_pipe, X_train)\n",
    "print('============================================')\n",
    "X_train_normalized = TextPreprocessor().normalize(X_train)\n",
    "print_accuracy(test_pipe, X_train_normalized)"
   ]
  },
  {
   "cell_type": "code",
   "execution_count": 11,
   "metadata": {
    "collapsed": false
   },
   "outputs": [
    {
     "name": "stdout",
     "output_type": "stream",
     "text": [
      "Tarining dataset: accuracy = 0.987\n",
      "Test dataset: accuracy = 0.887\n",
      "============================================\n",
      "Tarining dataset: accuracy = 0.992\n",
      "Test dataset: accuracy = 0.884\n"
     ]
    }
   ],
   "source": [
    "test_pipe = Pipeline([('vectorizer', CountVectorizer(token_pattern=token_pattern, ngram_range=(1, 2))),\n",
    "                      ('scaler', MaxAbsScaler()),\n",
    "                      ('clf', LogisticRegression(penalty='l2', C=1.0))])\n",
    "\n",
    "print_accuracy(test_pipe, X_train)\n",
    "print('============================================')\n",
    "X_train_normalized = TextPreprocessor().normalize(X_train)\n",
    "print_accuracy(test_pipe, X_train_normalized)"
   ]
  },
  {
   "cell_type": "markdown",
   "metadata": {},
   "source": [
    "Text normalization is useful to reduce number of fetures"
   ]
  },
  {
   "cell_type": "code",
   "execution_count": 12,
   "metadata": {
    "collapsed": false
   },
   "outputs": [],
   "source": [
    "STOPWORDS = nltk.corpus.stopwords.words('english')\n",
    "IRRELEVANT_STOPWORDS = list(pd.read_csv('./Data/irrelevant_stopwords.csv', header=None)[0].values)"
   ]
  },
  {
   "cell_type": "code",
   "execution_count": 13,
   "metadata": {
    "collapsed": false
   },
   "outputs": [
    {
     "name": "stdout",
     "output_type": "stream",
     "text": [
      "Number of features: 13149\n",
      "Number of single words: 6191\n",
      "Ratio = 0.471\n"
     ]
    }
   ],
   "source": [
    "dtm = CountVectorizer(token_pattern=token_pattern).fit_transform(X_train)\n",
    "\n",
    "print('Number of features: %i' % dtm.shape[1])\n",
    "inds = np.argwhere(dtm.sum(axis=0) == 1)[:, 1]\n",
    "print('Number of single words: %i' % inds.shape[0])\n",
    "print('Ratio = %.3f' % (inds.shape[0] / dtm.shape[1],))"
   ]
  },
  {
   "cell_type": "code",
   "execution_count": 14,
   "metadata": {
    "collapsed": false
   },
   "outputs": [
    {
     "name": "stdout",
     "output_type": "stream",
     "text": [
      "======= max =======\n",
      "51\n",
      "0 0.00734375 51\n",
      "2\n",
      "======= min =======\n",
      "1\n",
      "======= mean =======\n",
      "1.10601566659\n",
      "======= no. of columns with outliers =======\n",
      "13149\n"
     ]
    }
   ],
   "source": [
    "# check outliers\n",
    "dtm_array = dtm.toarray()\n",
    "print('======= max =======')\n",
    "print((dtm_array.max(axis=0) - dtm_array.min(axis=0)).max())\n",
    "ind = np.argmax((dtm_array.max(axis=0) - dtm_array.min(axis=0)))\n",
    "print(dtm_array[:, ind].min(), dtm_array[:, ind].mean(), dtm_array[:, ind].max())\n",
    "print((dtm_array[:, ind] > 1).sum())\n",
    "print('======= min =======')\n",
    "print((dtm_array.max(axis=0) - dtm_array.min(axis=0)).min())\n",
    "print('======= mean =======')\n",
    "print((dtm_array.max(axis=0) - dtm_array.min(axis=0)).mean())\n",
    "print('======= no. of columns with outliers =======')\n",
    "mu, sigma = np.mean(dtm_array, axis=0), np.std(dtm_array, axis=0)\n",
    "print((np.abs(dtm_array - mu) > 3 * sigma).any(axis=0).sum())"
   ]
  },
  {
   "cell_type": "code",
   "execution_count": 15,
   "metadata": {
    "collapsed": false
   },
   "outputs": [
    {
     "name": "stdout",
     "output_type": "stream",
     "text": [
      "Number of features: 12680\n",
      "Number of single words: 5867\n",
      "Ratio = 0.463\n"
     ]
    }
   ],
   "source": [
    "# normalization\n",
    "test_pipe = Pipeline([('preprocessor', TextPreprocessor(process='', \n",
    "                                                        stopwords=[])),\n",
    "                      ('vectorizer', CountVectorizer(token_pattern=token_pattern))])\n",
    "dtm = test_pipe.fit_transform(X_train)\n",
    "\n",
    "print('Number of features: %i' % dtm.shape[1])\n",
    "inds = np.argwhere(dtm.sum(axis=0) == 1)[:, 1]\n",
    "print('Number of single words: %i' % inds.shape[0])\n",
    "print('Ratio = %.3f' % (inds.shape[0] / dtm.shape[1],))"
   ]
  },
  {
   "cell_type": "code",
   "execution_count": 16,
   "metadata": {
    "collapsed": false
   },
   "outputs": [
    {
     "name": "stdout",
     "output_type": "stream",
     "text": [
      "Number of features: 9883\n",
      "Number of single words: 4353\n",
      "Ratio = 0.440\n"
     ]
    }
   ],
   "source": [
    "# normalization + stemming\n",
    "test_pipe = Pipeline([('preprocessor', TextPreprocessor(process='stem', \n",
    "                                                        stopwords=IRRELEVANT_STOPWORDS)),\n",
    "                      ('vectorizer', CountVectorizer(token_pattern=token_pattern))])\n",
    "dtm = test_pipe.fit_transform(X_train)\n",
    "\n",
    "print('Number of features: %i' % dtm.shape[1])\n",
    "inds = np.argwhere(dtm.sum(axis=0) == 1)[:, 1]\n",
    "print('Number of single words: %i' % inds.shape[0])\n",
    "print('Ratio = %.3f' % (inds.shape[0] / dtm.shape[1],))"
   ]
  },
  {
   "cell_type": "code",
   "execution_count": 17,
   "metadata": {
    "collapsed": false
   },
   "outputs": [
    {
     "name": "stdout",
     "output_type": "stream",
     "text": [
      "Number of features: 10900\n",
      "Number of single words: 5114\n",
      "Ratio = 0.469\n"
     ]
    }
   ],
   "source": [
    "# normalization + lemmatization\n",
    "test_pipe = Pipeline([('preprocessor', TextPreprocessor(process='lem', \n",
    "                                                        stopwords=IRRELEVANT_STOPWORDS)),\n",
    "                      ('vectorizer', CountVectorizer(token_pattern=token_pattern))])\n",
    "dtm = test_pipe.fit_transform(X_train)\n",
    "\n",
    "print('Number of features: %i' % dtm.shape[1])\n",
    "inds = np.argwhere(dtm.sum(axis=0) == 1)[:, 1]\n",
    "print('Number of single words: %i' % inds.shape[0])\n",
    "print('Ratio = %.3f' % (inds.shape[0] / dtm.shape[1],))"
   ]
  },
  {
   "cell_type": "code",
   "execution_count": 18,
   "metadata": {
    "collapsed": false
   },
   "outputs": [
    {
     "data": {
      "text/plain": [
       "array([\"a'capella\", 'aa', 'aaron', 'aaronage', 'aawwhh', 'ab', 'abbey',\n",
       "       'abcdefghijklmnopqrstuvwxyz', 'abducted', 'aboard', 'abouht',\n",
       "       'abour', 'aboustly', 'aboutt', 'abraham', 'abrams', 'absolute',\n",
       "       'ac', 'academy', 'acai', 'accomplish', 'accomplishment',\n",
       "       'accountability', 'accountt', 'accpet', 'accumulate', 'accuracy',\n",
       "       'acid', 'acknowledgment', 'acne', 'acronym', 'acrylic', 'actaully',\n",
       "       'activesync', 'activex', 'activist', 'actress', 'actvities',\n",
       "       'adams', 'adangta', 'adapt', 'adapter', 'addy', 'adedd', 'adfreak',\n",
       "       'adhd', 'adidas', 'adium', 'admin', 'administration', 'admirer',\n",
       "       'adolescent', 'adonis', 'adrants', 'adtf', 'adtrotrain',\n",
       "       'adventure', 'advertise', 'advertising', 'aeddon', 'aerodynamic',\n",
       "       'afl', 'african', 'afro', 'aft', 'aftenoon', 'afternoon',\n",
       "       'afterward', 'aggravation', 'agh', 'agin', 'agony', 'agreat',\n",
       "       'aguilera', 'ahaa', \"aidan's\", 'aig', 'aiint', 'ails', 'airing',\n",
       "       'airplane', 'airplaning', 'airsoft', 'airway', 'ajula', 'ajung',\n",
       "       'akamonty', 'akc', 'akismet', 'alanis', 'alchy', 'aleak', 'alex',\n",
       "       'alexa', 'alexander', 'alexiss', 'alil', 'alittle', 'alix',\n",
       "       \"alix's\", \"all's\", 'allangoesdmb', 'allergic', 'allergy', 'allie',\n",
       "       'alligators', 'allisoncarter', 'allstate', 'alltime', 'almosr',\n",
       "       'alos', 'alott', 'alphabet', 'alrightt', 'alrighty', 'alrightyy',\n",
       "       'alrite', 'alternate', 'alternator', 'aluminum', 'alwaysthink',\n",
       "       'alwyz', 'alxeander', 'alybrooke', 'alynndeluc', 'alyssa', 'amaing',\n",
       "       'amaretto', 'amasing', 'amateur', 'ambba', 'ambiance', 'ambien',\n",
       "       'ambulance', 'amd', 'amel', 'amendment', 'americas', 'amici',\n",
       "       'amish', 'amnesia', 'amp', 'amputate', 'amusement', 'amywhere',\n",
       "       'anagrams', 'anally', 'analogy', 'analysis', 'analyst'], \n",
       "      dtype='<U244')"
      ]
     },
     "execution_count": 18,
     "metadata": {},
     "output_type": "execute_result"
    }
   ],
   "source": [
    "np.array(test_pipe.named_steps['vectorizer'].get_feature_names())[inds][:150]"
   ]
  },
  {
   "cell_type": "markdown",
   "metadata": {},
   "source": [
    "## Advanced (baseline) model"
   ]
  },
  {
   "cell_type": "markdown",
   "metadata": {},
   "source": [
    "### LogisticRegression"
   ]
  },
  {
   "cell_type": "code",
   "execution_count": 19,
   "metadata": {
    "collapsed": true
   },
   "outputs": [],
   "source": [
    "# stemming\n",
    "stem_pipe = Pipeline([\n",
    "    ('features', FeatureUnion([\n",
    "            ('numerical_feats', FrequencyExtractor()),    \n",
    "            ('text_feats', Pipeline([('preprocessor', TextPreprocessor(stopwords=IRRELEVANT_STOPWORDS, \n",
    "                                                                       process='stem')),\n",
    "                                     ('vectorizer', CountVectorizer(token_pattern=token_pattern, min_df=2))\n",
    "                                    ]))\n",
    "            ])),\n",
    "    ('scaler', MaxAbsScaler())\n",
    "    ])"
   ]
  },
  {
   "cell_type": "code",
   "execution_count": 20,
   "metadata": {
    "collapsed": true
   },
   "outputs": [],
   "source": [
    "X_train_stem_preprocessed = stem_pipe.fit_transform(X_train)\n",
    "X_test_stem_preprocessed = stem_pipe.transform(X_test)"
   ]
  },
  {
   "cell_type": "code",
   "execution_count": 21,
   "metadata": {
    "collapsed": false,
    "scrolled": true
   },
   "outputs": [
    {
     "data": {
      "text/plain": [
       "False"
      ]
     },
     "execution_count": 21,
     "metadata": {},
     "output_type": "execute_result"
    }
   ],
   "source": [
    "'n\\'t' in stem_pipe.named_steps['features'].transformer_list[1][1].named_steps['vectorizer'].vocabulary_"
   ]
  },
  {
   "cell_type": "code",
   "execution_count": 22,
   "metadata": {
    "collapsed": false
   },
   "outputs": [
    {
     "data": {
      "text/plain": [
       "True"
      ]
     },
     "execution_count": 22,
     "metadata": {},
     "output_type": "execute_result"
    }
   ],
   "source": [
    "'don\\'t' in stem_pipe.named_steps['features'].transformer_list[1][1].named_steps['vectorizer'].vocabulary_"
   ]
  },
  {
   "cell_type": "code",
   "execution_count": 23,
   "metadata": {
    "collapsed": false
   },
   "outputs": [
    {
     "data": {
      "text/plain": [
       "True"
      ]
     },
     "execution_count": 23,
     "metadata": {},
     "output_type": "execute_result"
    }
   ],
   "source": [
    "'f*cker' in stem_pipe.named_steps['features'].transformer_list[1][1].named_steps['vectorizer'].vocabulary_"
   ]
  },
  {
   "cell_type": "code",
   "execution_count": 24,
   "metadata": {
    "collapsed": false
   },
   "outputs": [
    {
     "name": "stdout",
     "output_type": "stream",
     "text": [
      "Tarining dataset: accuracy = 0.882\n",
      "Test dataset: accuracy = 0.783\n"
     ]
    }
   ],
   "source": [
    "stem_lr_model = LogisticRegression(penalty='l2', C=1.0)\n",
    "stem_lr_model.fit(X_train_stem_preprocessed, y_train);\n",
    "\n",
    "y_train_pred = stem_lr_model.predict(X_train_stem_preprocessed)\n",
    "y_test_pred = stem_lr_model.predict(X_test_stem_preprocessed)\n",
    "\n",
    "print('Tarining dataset: accuracy = %.3f' % accuracy_score(y_pred=y_train_pred, y_true=y_train))\n",
    "print('Test dataset: accuracy = %.3f' % accuracy_score(y_pred=y_test_pred, y_true=y_test))"
   ]
  },
  {
   "cell_type": "code",
   "execution_count": 25,
   "metadata": {
    "collapsed": false
   },
   "outputs": [
    {
     "name": "stdout",
     "output_type": "stream",
     "text": [
      "Tarining dataset: accuracy = 0.953\n",
      "Test dataset: accuracy = 0.857\n"
     ]
    }
   ],
   "source": [
    "y_train_proba = stem_lr_model.predict_proba(X_train_stem_preprocessed)[:, 1]\n",
    "y_test_proba = stem_lr_model.predict_proba(X_test_stem_preprocessed)[:, 1]\n",
    "print('Tarining dataset: accuracy = %.3f' % roc_auc_score(y_score=y_train_proba, y_true=y_train))\n",
    "print('Test dataset: accuracy = %.3f' % roc_auc_score(y_score=y_test_proba, y_true=y_test))"
   ]
  },
  {
   "cell_type": "code",
   "execution_count": 26,
   "metadata": {
    "collapsed": false
   },
   "outputs": [
    {
     "data": {
      "image/png": "[encoded data removed]",
      "text/plain": [
       "<matplotlib.figure.Figure at 0x7fa5c45fc6d8>"
      ]
     },
     "metadata": {},
     "output_type": "display_data"
    }
   ],
   "source": [
    "plot_confusion_matrix(y_train, y_train_pred)"
   ]
  },
  {
   "cell_type": "code",
   "execution_count": 27,
   "metadata": {
    "collapsed": false
   },
   "outputs": [
    {
     "data": {
      "image/png": "[encoded data removed]",
      "text/plain": [
       "<matplotlib.figure.Figure at 0x7fa5c45fc9e8>"
      ]
     },
     "metadata": {},
     "output_type": "display_data"
    }
   ],
   "source": [
    "plot_confusion_matrix(y_test, y_test_pred)"
   ]
  },
  {
   "cell_type": "markdown",
   "metadata": {},
   "source": [
    "The model seems to be overfitted"
   ]
  },
  {
   "cell_type": "code",
   "execution_count": 167,
   "metadata": {
    "collapsed": false
   },
   "outputs": [
    {
     "data": {
      "image/png": "[encoded data removed]",
      "text/plain": [
       "<matplotlib.figure.Figure at 0x7fd9f4d6fc50>"
      ]
     },
     "metadata": {},
     "output_type": "display_data"
    }
   ],
   "source": [
    "plot_learning_curve(estimator=stem_lr_model, X=X_train_stem_preprocessed, y=y_train)"
   ]
  },
  {
   "cell_type": "code",
   "execution_count": 28,
   "metadata": {
    "collapsed": true
   },
   "outputs": [],
   "source": [
    "# lemmatization\n",
    "lem_pipe = Pipeline([\n",
    "    ('features', FeatureUnion([\n",
    "            ('numerical_feats', FrequencyExtractor()),    \n",
    "            ('text_feats', Pipeline([('preprocessor', TextPreprocessor(stopwords=IRRELEVANT_STOPWORDS, \n",
    "                                                                       process='lem')),\n",
    "                                     ('vectorizer', CountVectorizer(token_pattern=token_pattern, min_df=2))\n",
    "                                    ]))\n",
    "            ])),\n",
    "    ('scaler', MaxAbsScaler())\n",
    "    ])"
   ]
  },
  {
   "cell_type": "code",
   "execution_count": 29,
   "metadata": {
    "collapsed": true
   },
   "outputs": [],
   "source": [
    "X_train_lem_preprocessed = lem_pipe.fit_transform(X_train)\n",
    "X_test_lem_preprocessed = lem_pipe.transform(X_test)"
   ]
  },
  {
   "cell_type": "code",
   "execution_count": 30,
   "metadata": {
    "collapsed": false
   },
   "outputs": [
    {
     "name": "stdout",
     "output_type": "stream",
     "text": [
      "Tarining dataset: accuracy = 0.881\n",
      "Test dataset: accuracy = 0.787\n"
     ]
    }
   ],
   "source": [
    "lem_lr_model = LogisticRegression(penalty='l2', C=1.0)\n",
    "lem_lr_model.fit(X_train_lem_preprocessed, y_train);\n",
    "\n",
    "y_train_pred = lem_lr_model.predict(X_train_lem_preprocessed)\n",
    "y_test_pred = lem_lr_model.predict(X_test_lem_preprocessed)\n",
    "\n",
    "print('Tarining dataset: accuracy = %.3f' % accuracy_score(y_pred=y_train_pred, y_true=y_train))\n",
    "print('Test dataset: accuracy = %.3f' % accuracy_score(y_pred=y_test_pred, y_true=y_test))"
   ]
  },
  {
   "cell_type": "code",
   "execution_count": 31,
   "metadata": {
    "collapsed": false
   },
   "outputs": [
    {
     "name": "stdout",
     "output_type": "stream",
     "text": [
      "Tarining dataset: roc_auc = 0.954\n",
      "Test dataset: roc_auc = 0.863\n"
     ]
    }
   ],
   "source": [
    "y_train_proba = lem_lr_model.predict_proba(X_train_lem_preprocessed)[:, 1]\n",
    "y_test_proba = lem_lr_model.predict_proba(X_test_lem_preprocessed)[:, 1]\n",
    "print('Tarining dataset: roc_auc = %.3f' % roc_auc_score(y_score=y_train_proba, y_true=y_train))\n",
    "print('Test dataset: roc_auc = %.3f' % roc_auc_score(y_score=y_test_proba, y_true=y_test))"
   ]
  },
  {
   "cell_type": "code",
   "execution_count": 32,
   "metadata": {
    "collapsed": false
   },
   "outputs": [
    {
     "data": {
      "image/png": "[encoded data removed]",
      "text/plain": [
       "<matplotlib.figure.Figure at 0x7fa5c2135630>"
      ]
     },
     "metadata": {},
     "output_type": "display_data"
    }
   ],
   "source": [
    "plot_confusion_matrix(y_train, y_train_pred)"
   ]
  },
  {
   "cell_type": "code",
   "execution_count": 33,
   "metadata": {
    "collapsed": false
   },
   "outputs": [
    {
     "data": {
      "image/png": "[encoded data removed]",
      "text/plain": [
       "<matplotlib.figure.Figure at 0x7fa5c26520b8>"
      ]
     },
     "metadata": {},
     "output_type": "display_data"
    }
   ],
   "source": [
    "plot_confusion_matrix(y_test, y_test_pred)"
   ]
  },
  {
   "cell_type": "code",
   "execution_count": 174,
   "metadata": {
    "collapsed": false
   },
   "outputs": [
    {
     "data": {
      "image/png": "[encoded data removed]",
      "text/plain": [
       "<matplotlib.figure.Figure at 0x7fda18948e10>"
      ]
     },
     "metadata": {},
     "output_type": "display_data"
    }
   ],
   "source": [
    "plot_learning_curve(estimator=lem_lr_model, X=X_train_lem_preprocessed, y=y_train)"
   ]
  },
  {
   "cell_type": "markdown",
   "metadata": {},
   "source": [
    "### RandomForestClassifier"
   ]
  },
  {
   "cell_type": "code",
   "execution_count": 34,
   "metadata": {
    "collapsed": true
   },
   "outputs": [],
   "source": [
    "from sklearn.ensemble import RandomForestClassifier"
   ]
  },
  {
   "cell_type": "code",
   "execution_count": 35,
   "metadata": {
    "collapsed": true
   },
   "outputs": [],
   "source": [
    "def get_sorted_features(pipe, selector_scores):\n",
    "    sorted_scores = np.sort(selector_scores)[::-1]\n",
    "    inds = np.argsort(selector_scores)[::-1]\n",
    "    word_list = list(pipe.named_steps['features'].transformer_list[1][1].\\\n",
    "                     named_steps['vectorizer'].get_feature_names())\n",
    "    tag_list = ['NOUN', 'VERB', 'ADJ', 'ADV', 'PRON', 'DET',\n",
    "                'ADP', 'NUM', 'CONJ', 'PRT', '.', 'X']\n",
    "    freq_name_list = ['repeatingletters_r', 'uppercase_r', 'firstcapital_r'] + tag_list\n",
    "    sorted_features = np.array(word_list + freq_name_list)[inds]\n",
    "    return sorted_features\n",
    "\n",
    "def print_kbest(pipe, selector_scores, k):\n",
    "    sorted_scores = np.sort(selector_scores)[::-1]\n",
    "    sorted_features = get_sorted_features(pipe, selector_scores)\n",
    "    for i in range(k):\n",
    "        print('Feature: {0:25s} Score: {1:8.3f}'.format(sorted_features[i], sorted_scores[i]))"
   ]
  },
  {
   "cell_type": "code",
   "execution_count": 36,
   "metadata": {
    "collapsed": false
   },
   "outputs": [
    {
     "name": "stdout",
     "output_type": "stream",
     "text": [
      "Tarining dataset: accuracy = 0.862\n",
      "Test dataset: accuracy = 0.775\n"
     ]
    }
   ],
   "source": [
    "stem_rfc_model = RandomForestClassifier(n_estimators=100, max_depth=15, max_features=1000)\n",
    "\n",
    "stem_rfc_model.fit(X_train_stem_preprocessed, y_train);\n",
    "\n",
    "y_train_pred = stem_rfc_model.predict(X_train_stem_preprocessed)\n",
    "y_test_pred = stem_rfc_model.predict(X_test_stem_preprocessed)\n",
    "\n",
    "print('Tarining dataset: accuracy = %.3f' % accuracy_score(y_pred=y_train_pred, y_true=y_train))\n",
    "print('Test dataset: accuracy = %.3f' % accuracy_score(y_pred=y_test_pred, y_true=y_test))"
   ]
  },
  {
   "cell_type": "code",
   "execution_count": 37,
   "metadata": {
    "collapsed": false
   },
   "outputs": [
    {
     "name": "stdout",
     "output_type": "stream",
     "text": [
      "Tarining dataset: roc_auc = 0.961\n",
      "Test dataset: roc_auc = 0.872\n"
     ]
    }
   ],
   "source": [
    "y_train_proba = stem_rfc_model.predict_proba(X_train_stem_preprocessed)[:, 1]\n",
    "y_test_proba = stem_rfc_model.predict_proba(X_test_stem_preprocessed)[:, 1]\n",
    "print('Tarining dataset: roc_auc = %.3f' % roc_auc_score(y_score=y_train_proba, y_true=y_train))\n",
    "print('Test dataset: roc_auc = %.3f' % roc_auc_score(y_score=y_test_proba, y_true=y_test))"
   ]
  },
  {
   "cell_type": "code",
   "execution_count": 38,
   "metadata": {
    "collapsed": false
   },
   "outputs": [
    {
     "data": {
      "image/png": "[encoded data removed]",
      "text/plain": [
       "<matplotlib.figure.Figure at 0x7fa5c25afb70>"
      ]
     },
     "metadata": {},
     "output_type": "display_data"
    }
   ],
   "source": [
    "plot_confusion_matrix(y_train, y_train_pred)"
   ]
  },
  {
   "cell_type": "code",
   "execution_count": 39,
   "metadata": {
    "collapsed": false
   },
   "outputs": [
    {
     "data": {
      "image/png": "[encoded data removed]",
      "text/plain": [
       "<matplotlib.figure.Figure at 0x7fa5c2516860>"
      ]
     },
     "metadata": {},
     "output_type": "display_data"
    }
   ],
   "source": [
    "plot_confusion_matrix(y_test, y_test_pred)"
   ]
  },
  {
   "cell_type": "code",
   "execution_count": 40,
   "metadata": {
    "collapsed": false
   },
   "outputs": [
    {
     "name": "stdout",
     "output_type": "stream",
     "text": [
      "Feature: fun                       Score:    0.097\n",
      "Feature: oprah                     Score:    0.040\n",
      "Feature: athlet                    Score:    0.034\n",
      "Feature: abil                      Score:    0.033\n",
      "Feature: georg                     Score:    0.032\n",
      "Feature: aardvark                  Score:    0.031\n",
      "Feature: abandon                   Score:    0.030\n",
      "Feature: abus                      Score:    0.028\n",
      "Feature: blame                     Score:    0.027\n",
      "Feature: absit                     Score:    0.027\n"
     ]
    }
   ],
   "source": [
    "print_kbest(stem_pipe, stem_rfc_model.feature_importances_, 10)"
   ]
  },
  {
   "cell_type": "code",
   "execution_count": 41,
   "metadata": {
    "collapsed": false
   },
   "outputs": [
    {
     "name": "stdout",
     "output_type": "stream",
     "text": [
      "Tarining dataset: accuracy = 0.869\n",
      "Test dataset: accuracy = 0.782\n"
     ]
    }
   ],
   "source": [
    "lem_rfc_model = RandomForestClassifier(n_estimators=100, max_depth=15, max_features=1000)\n",
    "lem_rfc_model.fit(X_train_stem_preprocessed, y_train);\n",
    "\n",
    "y_train_pred = lem_rfc_model.predict(X_train_stem_preprocessed)\n",
    "y_test_pred = lem_rfc_model.predict(X_test_stem_preprocessed)\n",
    "\n",
    "print('Tarining dataset: accuracy = %.3f' % accuracy_score(y_pred=y_train_pred, y_true=y_train))\n",
    "print('Test dataset: accuracy = %.3f' % accuracy_score(y_pred=y_test_pred, y_true=y_test))"
   ]
  },
  {
   "cell_type": "code",
   "execution_count": 42,
   "metadata": {
    "collapsed": false
   },
   "outputs": [
    {
     "name": "stdout",
     "output_type": "stream",
     "text": [
      "Tarining dataset: roc_auc = 0.964\n",
      "Test dataset: roc_auc = 0.875\n"
     ]
    }
   ],
   "source": [
    "y_train_proba = lem_rfc_model.predict_proba(X_train_stem_preprocessed)[:, 1]\n",
    "y_test_proba = lem_rfc_model.predict_proba(X_test_stem_preprocessed)[:, 1]\n",
    "print('Tarining dataset: roc_auc = %.3f' % roc_auc_score(y_score=y_train_proba, y_true=y_train))\n",
    "print('Test dataset: roc_auc = %.3f' % roc_auc_score(y_score=y_test_proba, y_true=y_test))"
   ]
  },
  {
   "cell_type": "code",
   "execution_count": 43,
   "metadata": {
    "collapsed": false
   },
   "outputs": [
    {
     "data": {
      "image/png": "[encoded data removed]",
      "text/plain": [
       "<matplotlib.figure.Figure at 0x7fa5c253d5c0>"
      ]
     },
     "metadata": {},
     "output_type": "display_data"
    }
   ],
   "source": [
    "plot_confusion_matrix(y_train, y_train_pred)"
   ]
  },
  {
   "cell_type": "code",
   "execution_count": 44,
   "metadata": {
    "collapsed": false
   },
   "outputs": [
    {
     "data": {
      "image/png": "[encoded data removed]",
      "text/plain": [
       "<matplotlib.figure.Figure at 0x7fa5c24e4940>"
      ]
     },
     "metadata": {},
     "output_type": "display_data"
    }
   ],
   "source": [
    "plot_confusion_matrix(y_test, y_test_pred)"
   ]
  },
  {
   "cell_type": "code",
   "execution_count": 45,
   "metadata": {
    "collapsed": false
   },
   "outputs": [
    {
     "name": "stdout",
     "output_type": "stream",
     "text": [
      "Feature: flying                    Score:    0.095\n",
      "Feature: networking                Score:    0.041\n",
      "Feature: asleep                    Score:    0.034\n",
      "Feature: abandon                   Score:    0.032\n",
      "Feature: aaye                      Score:    0.032\n",
      "Feature: frensh                    Score:    0.031\n",
      "Feature: aah                       Score:    0.030\n",
      "Feature: abundance                 Score:    0.029\n",
      "Feature: abortion                  Score:    0.027\n",
      "Feature: bio                       Score:    0.026\n"
     ]
    }
   ],
   "source": [
    "print_kbest(lem_pipe, lem_rfc_model.feature_importances_, 10)"
   ]
  },
  {
   "cell_type": "code",
   "execution_count": 46,
   "metadata": {
    "collapsed": false
   },
   "outputs": [
    {
     "data": {
      "image/png": "[encoded data removed]",
      "text/plain": [
       "<matplotlib.figure.Figure at 0x7fa5c23d4a90>"
      ]
     },
     "metadata": {},
     "output_type": "display_data"
    }
   ],
   "source": [
    "fprs, tprs, thresholds = roc_curve(y_true=y_test, y_score=y_test_proba)\n",
    "\n",
    "fig, ax = plt.subplots(figsize=(5, 5))\n",
    "ax.plot(fprs, tprs)\n",
    "ax.set_xlabel('False Positive Rate')\n",
    "ax.set_ylabel('True Positive Rate')\n",
    "ax.set_title('ROC')\n",
    "plt.show()"
   ]
  },
  {
   "cell_type": "code",
   "execution_count": 47,
   "metadata": {
    "collapsed": false
   },
   "outputs": [
    {
     "name": "stdout",
     "output_type": "stream",
     "text": [
      "FPR: 0.167\n",
      "TPR: 0.750\n",
      "Threshold: 0.441\n"
     ]
    }
   ],
   "source": [
    "ind = np.argmax(tprs >= 0.75)\n",
    "\n",
    "print('FPR: %.3f' % fprs[ind])\n",
    "print('TPR: %.3f' % tprs[ind])\n",
    "threshold = thresholds[ind]\n",
    "print('Threshold: %.3f' % threshold)"
   ]
  },
  {
   "cell_type": "code",
   "execution_count": 48,
   "metadata": {
    "collapsed": false
   },
   "outputs": [
    {
     "name": "stdout",
     "output_type": "stream",
     "text": [
      "Test dataset: accuracy = 0.801\n"
     ]
    }
   ],
   "source": [
    "y_test_pred_new_threshold = np.where(y_test_proba >= threshold, 1, 0)\n",
    "print('Test dataset: accuracy = %.3f' % accuracy_score(y_pred=y_test_pred_new_threshold, y_true=y_test))"
   ]
  },
  {
   "cell_type": "code",
   "execution_count": 49,
   "metadata": {
    "collapsed": false
   },
   "outputs": [
    {
     "data": {
      "image/png": "[encoded data removed]",
      "text/plain": [
       "<matplotlib.figure.Figure at 0x7fa5c25afbe0>"
      ]
     },
     "metadata": {},
     "output_type": "display_data"
    }
   ],
   "source": [
    "plot_confusion_matrix(y_test, y_test_pred_new_threshold)"
   ]
  },
  {
   "cell_type": "markdown",
   "metadata": {},
   "source": [
    "## Feature selection"
   ]
  },
  {
   "cell_type": "markdown",
   "metadata": {},
   "source": [
    "### ANOVA"
   ]
  },
  {
   "cell_type": "code",
   "execution_count": 50,
   "metadata": {
    "collapsed": true
   },
   "outputs": [],
   "source": [
    "from sklearn.feature_selection import f_classif, SelectFpr"
   ]
  },
  {
   "cell_type": "code",
   "execution_count": 51,
   "metadata": {
    "collapsed": false
   },
   "outputs": [
    {
     "data": {
      "text/plain": [
       "(12800, 273)"
      ]
     },
     "execution_count": 51,
     "metadata": {},
     "output_type": "execute_result"
    }
   ],
   "source": [
    "fpr_stem_selector = SelectFpr(score_func=f_classif, alpha=0.01)\n",
    "fpr_stem_dtm = fpr_stem_selector.fit_transform(X_train_stem_preprocessed, y_train)\n",
    "fpr_stem_dtm.shape"
   ]
  },
  {
   "cell_type": "code",
   "execution_count": 52,
   "metadata": {
    "collapsed": false
   },
   "outputs": [
    {
     "data": {
      "text/plain": [
       "(12800, 269)"
      ]
     },
     "execution_count": 52,
     "metadata": {},
     "output_type": "execute_result"
    }
   ],
   "source": [
    "fpr_lem_selector = SelectFpr(score_func=f_classif, alpha=0.01)\n",
    "fpr_lem_dtm = fpr_lem_selector.fit_transform(X_train_lem_preprocessed, y_train)\n",
    "fpr_lem_dtm.shape"
   ]
  },
  {
   "cell_type": "code",
   "execution_count": 53,
   "metadata": {
    "collapsed": false
   },
   "outputs": [
    {
     "name": "stdout",
     "output_type": "stream",
     "text": [
      "Feature: fun                       Score:  621.967\n",
      "Feature: oprah                     Score:  216.486\n",
      "Feature: athlet                    Score:  201.574\n",
      "Feature: blame                     Score:  149.281\n",
      "Feature: georg                     Score:  143.652\n",
      "Feature: aardvark                  Score:  116.041\n",
      "Feature: exact                     Score:   88.250\n",
      "Feature: whine                     Score:   80.969\n",
      "Feature: opposit                   Score:   77.936\n",
      "Feature: end                       Score:   75.726\n"
     ]
    }
   ],
   "source": [
    "print_kbest(stem_pipe, fpr_stem_selector.scores_, 10)"
   ]
  },
  {
   "cell_type": "code",
   "execution_count": 54,
   "metadata": {
    "collapsed": false,
    "scrolled": true
   },
   "outputs": [
    {
     "name": "stdout",
     "output_type": "stream",
     "text": [
      "Feature: fukin                     Score:  436.185\n",
      "Feature: oprah                     Score:  216.486\n",
      "Feature: fury                      Score:  177.097\n",
      "Feature: blagojevich               Score:  153.608\n",
      "Feature: generator                 Score:  148.322\n",
      "Feature: assure                    Score:  147.231\n",
      "Feature: aah                       Score:  116.041\n",
      "Feature: ex                        Score:   88.250\n",
      "Feature: opposite                  Score:   77.936\n",
      "Feature: enclose                   Score:   75.505\n"
     ]
    }
   ],
   "source": [
    "print_kbest(lem_pipe, fpr_lem_selector.scores_, 10)"
   ]
  },
  {
   "cell_type": "code",
   "execution_count": 55,
   "metadata": {
    "collapsed": false
   },
   "outputs": [
    {
     "name": "stdout",
     "output_type": "stream",
     "text": [
      "['fun' 'oprah' 'athlet' 'blame' 'georg' 'aardvark' 'exact' 'whine'\n",
      " 'opposit' 'end' 'energi' 'shortar' 'dom' 'oppos' 'they' 'he' 'sumth'\n",
      " 'loveabl' 'fell' 'util' 'aay' 'aah' 'cutest' 'wifi' 'honestli'\n",
      " 'luckystartup' 'shud' 'hamster' 'mario' 'wrt' 'nova' 'yuh' 'rack' 'abt'\n",
      " 'ikr' 'silver' 'colfax' 'question' 'yhur' 'shown' 'dunkin' 'heaven' 'digg'\n",
      " 'dare' 'un' 'philippin' 'rainbow' 'hinder' 'impli' 'smoke' 'soup' 'wud'\n",
      " 'mapl' 'abort' 'chuz' 'favrd' 'blushi' 'nj' 'bush' 'oic' 'xorcist' 'heal'\n",
      " 'rflect' 'suck' 'youu' 'fam' 'jaman' 'ideal' 'abl' 'ho' 'hahlo' 'ung'\n",
      " 'funnier' 'marc' 'usb' 'omg' 'yew' 'absurd' 'shrug' 'danni' 'known'\n",
      " 'canal' 'opportun' 'temp' 'mrh' 'wrong' 'enforc' 'goten' 'selfish'\n",
      " 'easier' 'planet' 'previous' 'peanut' 'form' 'bamf' 'seattl' 'theori'\n",
      " 'cut' 'drake' 'wish' 'adjust' 'beamer' 'mic' 'oz' 'hookhand' 'ate' 'fix'\n",
      " 'cigar' 'oper' 'despit' 'shayla' 'strand' 'graemem' 'sheep' 'threat'\n",
      " 'cowgurl' 'realz' 'com' 'rusti' 'funer' 'whoop' 'gotta' 'prison' 'stress'\n",
      " 'dine' 'nationwid' 'regularli' 'sum' 'poster' 'down' 'faith' 'alto' 'side'\n",
      " 'girl' 'hd' 'frigid' 'bangladesh' \"we'v\" 'ocean' 'bike' 'togeth' 'drumk'\n",
      " 'bfe' 'artifici' 'qh' 'enjoy' 'ri' 'sometim' 'tonight' 'caterpillar'\n",
      " 'marriag' 'toy' 'upp' 'losman' 'karkar' 'michael' 'login' 'weak' 'ps'\n",
      " 'kids' 'capitalist' 'utah' 'health' 'birth' 'sorri' 'horror' 'lawl' 'ay'\n",
      " 'abil' 'talk' 'clue' 'holla' 'midnight' 'gooli' 'user' 'jess' 'hung' 'den'\n",
      " 'midiev' 'countri' 'zackli' 'onto' 'ocd' 'lee' 'gon' 'koala' 'curs'\n",
      " 'pound' 'miami' 'forgot' 'marissa' 'realist' 'young' 'hey' 'meetup'\n",
      " 'omgomgomg' 'homework' 'iguess' 'zero' 'thur' 'contract' 'donahu' 'blog'\n",
      " 'onlin' 'butt' 'lick' 'arsehol' 'chimney' 'attn' 'downtown' 'frozen'\n",
      " 'reckon' 'daniel' 'gasp' 'incens' 'shopper' 'cure' 'andi' 'linux'\n",
      " 'firstcapital_r' 'silent' 'blue' 'instrument' 'breakfast' 'groovi' 'bat'\n",
      " 'bitey' 'dave' 'dew' 'wack' 'je' 'player' 'lmmfao' 'smallest' 'aha' 'gaza'\n",
      " 'disabl' 'stimulu' 'thre' 'naked' 'seth' 'lil' 'overlook' 'umbrella'\n",
      " 'bravest' 'among' 'tooth' 'unfair' 'aja' 'crock' 'forev' 'cast' 'load'\n",
      " 'shine' 'appl' 'qaeda' 'path' 'prosper' 'washcloth' 'givin' 'hundr'\n",
      " 'pizza' 'toseecopul' 'sin' 'presenc' 'mud' 'thier' 'concret' 'sandman'\n",
      " 'aint' 'bioshock' 'xen' 'seminar']\n"
     ]
    }
   ],
   "source": [
    "sorted_features = get_sorted_features(stem_pipe, fpr_stem_selector.scores_)\n",
    "print(sorted_features[:fpr_stem_dtm.shape[1]])"
   ]
  },
  {
   "cell_type": "code",
   "execution_count": 56,
   "metadata": {
    "collapsed": false
   },
   "outputs": [
    {
     "name": "stdout",
     "output_type": "stream",
     "text": [
      "['fukin' 'oprah' 'fury' 'blagojevich' 'generator' 'assure' 'aah' 'ex'\n",
      " 'opposite' 'enclose' 'enable' 'dome' 'which' 'shopping' 'opportunity'\n",
      " 'theres' 'fell' 'hazard' 'love' 'usually' 'aardvark' \"'s\" 'cut' 'wiff'\n",
      " 'honolulu' 'shuddup' 'hand' 'marissa' 'wtf' 'racist' 'nova' 'sumthing'\n",
      " 'yuh' 'summer' 'lucky' 'colfax' 'absurd' 'hola' 'ikno' 'silly' 'dumber'\n",
      " 'difficult' 'yhu' 'queue' 'showtime' 'darby' 'rain' 'soup' 'impetuosity'\n",
      " 'un' 'map' 'wut' 'smtg' 'able' 'whip' 'favrd' 'reward' 'chuz' 'ohkay'\n",
      " 'suck' 'blue' 'bury' 'xmas' 'headache' 'gin' 'heat' 'urgent' 'jake'\n",
      " 'ideal' 'fall' 'ability' 'hm' 'unfortunately' 'funny' 'nite' 'mario' 'yoo'\n",
      " 'one' 'hahhaa' 'phelps' 'absorb' 'shud' 'daniel' 'youu' 'knwo' 'heavily'\n",
      " 'themself' 'canadians' 'telw' 'likee' 'operate' 'encore' 'goten' 'certain'\n",
      " 'bishop' 'easter' 'own' 'previous' 'peace' 'bamf' 'forth' 'sheep'\n",
      " 'function' 'hay' 'continuity' 'drain' 'wit' 'addressemail' 'beaker' 'atcq'\n",
      " 'cigar' 'mic' 'self' 'open' 'prison' 'kill' 'gots' 'meetups' 'moving'\n",
      " 'rear' \"cowboy's\" 'colour' 'admire' 'rusty' 'faith' 'thread' 'plan'\n",
      " 'whoop' 'hop' 'stress' 'din' 'nathan' 'regular' 'suk' 'possible' 'down'\n",
      " 'side' 'notch' 'alton' 'banoffee' 'hd' 'occur' 'ikan' 'bill' 'drunk' 'bfe'\n",
      " 'putin' 'article' 'sometime' 'category' 'tonite' 'arent' 'pssh' 'cuss'\n",
      " 'kanyes' 'loser' \"we're\" 'upgrading' 'michael' 'log' 'mourns' 'marry'\n",
      " 'town' 'capacity' 'usual' 'headphones' \"today's\" 'horrify' 'lawlz' 'awz'\n",
      " 'abandon' 'clue' 'holly' 'goolies' 'jesse' 'hun' 'midnight' 'demented'\n",
      " 'occasion' 'lee' 'gon' 'sux' 'potato' 'miami' 'formsprings' 'soothe'\n",
      " 'might' 'mark' 'realised' 'youhr' 'serve' 'hes' \"one's\" 'homework' 'sched'\n",
      " 'ight' 'zero' 'recommend' 'thx' \"don't\" 'lick' 'onequestionmark'\n",
      " 'blogging' 'arsclan' 'chillin' 'downstairs' 'philippines' 'smart' 'aha'\n",
      " 'dew' 'NOUN' 'blowjob' 'jcroft' 'inbox' 'endless' 'bite' 'wadishness'\n",
      " 'pound' 'forgive' 'danie' 'sign' 'limp' 'liner' 'lmfaoo' 'bust' 'gas'\n",
      " 'shondor' 'bcs' 'analyze' 'bread' 'bass' 'cup' 'pattern' 'disable'\n",
      " 'thousand' 'talisa' \"we'd\" 'spot' 'sin' 'nakedness' 'think' 'fonts'\n",
      " 'tight' 'umbrella' 'seasonal' 'shine' 'designer' 'americans' 'unexplained'\n",
      " 'aja' 'couldnt' 'cassie' 'lo' 'reciprocity' 'puter' 'patent' 'tosha'\n",
      " 'givin' 'prosperity' 'presence' 'much' 'fries' 'thier' 'online' 'concert'\n",
      " 'aint' 'birthday' 'sender' 'ecoterrorists']\n"
     ]
    }
   ],
   "source": [
    "sorted_features = get_sorted_features(lem_pipe, fpr_lem_selector.scores_)\n",
    "print(sorted_features[:fpr_lem_dtm.shape[1]])"
   ]
  },
  {
   "cell_type": "code",
   "execution_count": 57,
   "metadata": {
    "collapsed": false
   },
   "outputs": [],
   "source": [
    "fpr_stem_pipe = Pipeline([\n",
    "    ('selector', SelectFpr(score_func=f_classif, alpha=0.01)),\n",
    "    ('clf', LogisticRegression(penalty='l2', C=1.0))\n",
    "    ])"
   ]
  },
  {
   "cell_type": "code",
   "execution_count": 58,
   "metadata": {
    "collapsed": false
   },
   "outputs": [
    {
     "name": "stdout",
     "output_type": "stream",
     "text": [
      "Tarining dataset: accuracy = 0.733\n",
      "Test dataset: accuracy = 0.709\n"
     ]
    }
   ],
   "source": [
    "fpr_stem_pipe.fit(X_train_stem_preprocessed, y_train);\n",
    "\n",
    "y_train_pred = fpr_stem_pipe.predict(X_train_stem_preprocessed)\n",
    "y_test_pred = fpr_stem_pipe.predict(X_test_stem_preprocessed)\n",
    "\n",
    "print('Tarining dataset: accuracy = %.3f' % accuracy_score(y_pred=y_train_pred, y_true=y_train))\n",
    "print('Test dataset: accuracy = %.3f' % accuracy_score(y_pred=y_test_pred, y_true=y_test))"
   ]
  },
  {
   "cell_type": "code",
   "execution_count": 59,
   "metadata": {
    "collapsed": false
   },
   "outputs": [
    {
     "data": {
      "image/png": "[encoded data removed]",
      "text/plain": [
       "<matplotlib.figure.Figure at 0x7fa5c23ee278>"
      ]
     },
     "metadata": {},
     "output_type": "display_data"
    }
   ],
   "source": [
    "plot_confusion_matrix(y_train, y_train_pred)"
   ]
  },
  {
   "cell_type": "code",
   "execution_count": 60,
   "metadata": {
    "collapsed": false
   },
   "outputs": [
    {
     "name": "stdout",
     "output_type": "stream",
     "text": [
      "Tarining dataset: accuracy = 0.738\n",
      "Test dataset: accuracy = 0.712\n"
     ]
    }
   ],
   "source": [
    "fpr_stem_pipe = Pipeline([\n",
    "    ('selector', SelectFpr(score_func=f_classif, alpha=0.01)),\n",
    "    ('clf', LogisticRegression(penalty='l2', C=1.0, class_weight={0: 1, 1: 1.25}))\n",
    "    ])\n",
    "\n",
    "fpr_stem_pipe.fit(X_train_stem_preprocessed, y_train);\n",
    "\n",
    "y_train_pred = fpr_stem_pipe.predict(X_train_stem_preprocessed)\n",
    "y_test_pred = fpr_stem_pipe.predict(X_test_stem_preprocessed)\n",
    "\n",
    "print('Tarining dataset: accuracy = %.3f' % accuracy_score(y_pred=y_train_pred, y_true=y_train))\n",
    "print('Test dataset: accuracy = %.3f' % accuracy_score(y_pred=y_test_pred, y_true=y_test))"
   ]
  },
  {
   "cell_type": "code",
   "execution_count": 61,
   "metadata": {
    "collapsed": false
   },
   "outputs": [
    {
     "data": {
      "image/png": "[encoded data removed]",
      "text/plain": [
       "<matplotlib.figure.Figure at 0x7fa5c25af320>"
      ]
     },
     "metadata": {},
     "output_type": "display_data"
    }
   ],
   "source": [
    "plot_confusion_matrix(y_train, y_train_pred)"
   ]
  },
  {
   "cell_type": "markdown",
   "metadata": {},
   "source": [
    "### Variance"
   ]
  },
  {
   "cell_type": "code",
   "execution_count": 62,
   "metadata": {
    "collapsed": true
   },
   "outputs": [],
   "source": [
    "from sklearn.feature_selection import VarianceThreshold"
   ]
  },
  {
   "cell_type": "code",
   "execution_count": 63,
   "metadata": {
    "collapsed": false
   },
   "outputs": [
    {
     "data": {
      "text/plain": [
       "(12800, 778)"
      ]
     },
     "execution_count": 63,
     "metadata": {},
     "output_type": "execute_result"
    }
   ],
   "source": [
    "vr_stem_selector = VarianceThreshold(threshold=10e-4)\n",
    "vr_stem_dtm = vr_stem_selector.fit_transform(X_train_stem_preprocessed, y_train)\n",
    "vr_stem_dtm.shape"
   ]
  },
  {
   "cell_type": "code",
   "execution_count": 64,
   "metadata": {
    "collapsed": false
   },
   "outputs": [
    {
     "data": {
      "text/plain": [
       "(12800, 745)"
      ]
     },
     "execution_count": 64,
     "metadata": {},
     "output_type": "execute_result"
    }
   ],
   "source": [
    "vr_lem_selector = VarianceThreshold(threshold=10e-4)\n",
    "vr_lem_dtm = vr_lem_selector.fit_transform(X_train_lem_preprocessed, y_train)\n",
    "vr_lem_dtm.shape"
   ]
  },
  {
   "cell_type": "code",
   "execution_count": 65,
   "metadata": {
    "collapsed": false
   },
   "outputs": [
    {
     "name": "stdout",
     "output_type": "stream",
     "text": [
      "Feature: abandon                   Score:    0.033\n",
      "Feature: abil                      Score:    0.025\n",
      "Feature: aay                       Score:    0.024\n",
      "Feature: aardvark                  Score:    0.019\n",
      "Feature: absit                     Score:    0.018\n",
      "Feature: abus                      Score:    0.017\n",
      "Feature: absorb                    Score:    0.015\n",
      "Feature: dunkin                    Score:    0.014\n",
      "Feature: abt                       Score:    0.013\n",
      "Feature: dom                       Score:    0.011\n"
     ]
    }
   ],
   "source": [
    "print_kbest(stem_pipe, vr_stem_selector.variances_, 10)"
   ]
  },
  {
   "cell_type": "code",
   "execution_count": 66,
   "metadata": {
    "collapsed": false
   },
   "outputs": [
    {
     "name": "stdout",
     "output_type": "stream",
     "text": [
      "Feature: aaye                      Score:    0.033\n",
      "Feature: abandon                   Score:    0.025\n",
      "Feature: aardvark                  Score:    0.024\n",
      "Feature: aah                       Score:    0.019\n",
      "Feature: abortion                  Score:    0.018\n",
      "Feature: abundance                 Score:    0.017\n",
      "Feature: absolutely                Score:    0.015\n",
      "Feature: jacket                    Score:    0.014\n",
      "Feature: absurd                    Score:    0.013\n",
      "Feature: dumber                    Score:    0.013\n"
     ]
    }
   ],
   "source": [
    "print_kbest(lem_pipe, vr_lem_selector.variances_, 10)"
   ]
  },
  {
   "cell_type": "code",
   "execution_count": 67,
   "metadata": {
    "collapsed": false
   },
   "outputs": [
    {
     "name": "stdout",
     "output_type": "stream",
     "text": [
      "['abandon' 'abil' 'aay' 'aardvark' 'absit' 'abus' 'absorb' 'dunkin' 'abt'\n",
      " 'dom' 'jacob' 'dose' 'abund' 'athlet' 'adob' 'blame' 'wonder' 'dine' 'he'\n",
      " 'whine' 'loop' 'fun' 'gotta' 'kids' 'flashlight' 'mankind' 'arsclan'\n",
      " 'babay' 'induc' 'ideal' 'toyboy' 'amberto' 'shud' 'abort' 'faith'\n",
      " 'niggaitu' 'ceo' 'hey' 'engag' 'wouldnt' 'amaz' 'energi' 'souljaboy'\n",
      " 'mario' 'awz' 'thre' 'abl' 'krista' 'analyz' 'oppos' 'naked' 'musician'\n",
      " 'lotto' 'sent' 'robot' 'umbrella' 'nova' 'ani' 'aah' 'nerv' 'util' 'mapl'\n",
      " 'heal' 'ive' 'air' 'mind' 'crisi' 'southern' 'ohio' 'shortar' 'absolut'\n",
      " 'attent' 'stoopid' 'lit' 'threat' 'airplan' 'theori' 'valu' 'nah' 'yhu'\n",
      " 'dare' 'down' 'exact' 'hahlo' 'project' 'cutest' 'schedul' 'bull' 'evolv'\n",
      " 'commut' 'coweta' 'eminem' 'aint' 'uhh' 'girl' 'recov' 'honestli' 'soup'\n",
      " 'els' 'terrifi' 'capitalist' 'holla' 'romo' 'pastor' 'kingston' 'persist'\n",
      " 'eagl' 'lawn' 'workhors' 'baltimor' 'stripe' 'holli' 'fla' 'belief'\n",
      " 'hotdog' 'throughout' 'opposit' 'tryin' 'weekend' 'although' 'whatsoev'\n",
      " 'newest' 'jersey' 'chew' 'meetup' 'affidavit' 'twink' 'hippi' 'impli'\n",
      " 'goal' 'knight' 'echelon' 'moon' 'welcom' 'parad' 'side' 'scheme' 'appear'\n",
      " 'hell' 'rflect' 'tos' 'alto' 'global' 'older' 'goodi' 'digg' 'favrd'\n",
      " 'evan' 'always' 'nickelback' 'amus' 'third' 'reckon' 'bien' 'yhur'\n",
      " 'interweb' 'nation' 'thru' 'philippin' 'sumth' \"why'd\" 'urgh' 'realist'\n",
      " 'jtp' 'blah' 'rail' 'anticip' 'tarzan' 'spaghetti' 'swear' 'prison' 'usb'\n",
      " 'limit' 'ii' 'bro' 'despis' 'logo' 'ugli' 'oic' \"we'v\" 'skate' 'gabe'\n",
      " 'wht' 'poop' 'harri' 'graemem' 'captain' 'yew' 'they' 'nobl' 'beg' 'ping'\n",
      " 'poster' 'sexual' 'appreci' 'koala' 'nice' 'sorta' \"what'r\" 'hinder']\n"
     ]
    }
   ],
   "source": [
    "sorted_features = get_sorted_features(stem_pipe, vr_stem_selector.variances_)\n",
    "print(sorted_features[:vr_stem_dtm.shape[1]][:200])"
   ]
  },
  {
   "cell_type": "code",
   "execution_count": 68,
   "metadata": {
    "collapsed": false
   },
   "outputs": [
    {
     "name": "stdout",
     "output_type": "stream",
     "text": [
      "['aaye' 'abandon' 'aardvark' 'aah' 'abortion' 'abundance' 'absolutely'\n",
      " 'jacket' 'absurd' 'dumber' 'dome' 'double' 'gots' 'abt' 'mance' 'womens'\n",
      " 'kill' 'blagojevich' 'din' 'admit' 'looking' 'hazard' 'flash' 'arrive'\n",
      " 'indirectly' 'b*tch' 'which' 'ideal' 'amberto' 'shuddup' 'able' 'niggas'\n",
      " 'faith' 'separate' 'center' 'hes' 'encourage' 'amazing' 'wp' 'enclose'\n",
      " 'krockxp' 'knife' 'marissa' 'thousand' 'ability' 'toyboy' 'amuses'\n",
      " 'souljaboy' 'opportunity' 'nakedness' 'musical' 'thread' 'fury' 'lotta'\n",
      " 'robin' 'umbrella' 'animal' 'nova' \"'s\" 'usually' 'terrible' 'itunes'\n",
      " 'headache' 'nerdy' 'map' 'assure' 'air' 'milliseconds' 'ballfuck' 'crook'\n",
      " 'summer' 'sp' 'communist' 'thesoxroxmaster' 'ohh' 'aww' 'absitence'\n",
      " 'attitude' 'storm' 'fukin' 'lisa' 'shopping' 'airport' 'yew' 'nah'\n",
      " 'vagina' 'darby' 'load' 'down' 'ex' 'hahhaa' 'sched' 'professional'\n",
      " 'scene' 'bullshit' 'cut' 'cowboy' 'evil' 'aint' 'stone' 'uh' 'theres'\n",
      " 'honolulu' 'ecoterrorists' \"else's\" 'capacity' 'embrace' 'past' 'soup'\n",
      " 'holly' 'kingston' 'persistent' 'recommend' 'stripper' 'bein' 'eagle'\n",
      " 'holy' 'fl' 'throw' 'hipster' 'opposite' 'turnovers' 'week' 'alto'\n",
      " 'workhorse' 'romantic' 'whitten' 'jersey' 'word' 'chew' 'affidavit'\n",
      " 'impetuosity' 'jail' 'side' 'twice' 'goal' 'knight' 'newcastle' 'gmn'\n",
      " 'apparel' \"what're\" 'reward' 'alton' 'toseecopulation' 'olive' 'favrd'\n",
      " 'nickname' 'amor' 'hasnt' 'am' 'eva' 'reciprocity' 'third' 'difficult'\n",
      " 'global' 'intuitive' 'month' 'sky' 'nastyy' 'hoster' 'yhu' 'thts' 'prison'\n",
      " 'they' 'realised' 'ups' 'jtp' 'task' 'apology' 'spam' 'urgent' 'likewise'\n",
      " 'ignore' 'daft' 'beg' 'logic' 'ohkay' 'soothe' 'pooh' 'six' 'whos' 'gad'\n",
      " 'blackout' 'capitalist' 'sumthing' 'yoo' \"we'd\" 'sux' 'ug' 'noble'\n",
      " 'sexual' 'possible' 'par' 'nicely' 'sorta' 'hm' 'sample' 'pimp' 'licks'\n",
      " 'crack']\n"
     ]
    }
   ],
   "source": [
    "sorted_features = get_sorted_features(lem_pipe, vr_lem_selector.variances_)\n",
    "print(sorted_features[:vr_lem_dtm.shape[1]][:200])"
   ]
  },
  {
   "cell_type": "code",
   "execution_count": 69,
   "metadata": {
    "collapsed": false
   },
   "outputs": [
    {
     "name": "stdout",
     "output_type": "stream",
     "text": [
      "Tarining dataset: accuracy = 0.749\n",
      "Test dataset: accuracy = 0.712\n"
     ]
    }
   ],
   "source": [
    "vr_stem_pipe = Pipeline([\n",
    "    ('selector', VarianceThreshold(threshold=10e-4)),\n",
    "    ('clf', LogisticRegression(penalty='l2', C=1.0, class_weight={0: 1, 1: 1.25}))\n",
    "    ])\n",
    "\n",
    "vr_stem_pipe.fit(X_train_stem_preprocessed, y_train);\n",
    "\n",
    "y_train_pred = vr_stem_pipe.predict(X_train_stem_preprocessed)\n",
    "y_test_pred = vr_stem_pipe.predict(X_test_stem_preprocessed)\n",
    "\n",
    "print('Tarining dataset: accuracy = %.3f' % accuracy_score(y_pred=y_train_pred, y_true=y_train))\n",
    "print('Test dataset: accuracy = %.3f' % accuracy_score(y_pred=y_test_pred, y_true=y_test))"
   ]
  },
  {
   "cell_type": "code",
   "execution_count": 70,
   "metadata": {
    "collapsed": false
   },
   "outputs": [
    {
     "data": {
      "image/png": "[encoded data removed]",
      "text/plain": [
       "<matplotlib.figure.Figure at 0x7fa5c2736a58>"
      ]
     },
     "metadata": {},
     "output_type": "display_data"
    }
   ],
   "source": [
    "plot_confusion_matrix(y_train, y_train_pred)"
   ]
  },
  {
   "cell_type": "code",
   "execution_count": 71,
   "metadata": {
    "collapsed": false
   },
   "outputs": [
    {
     "data": {
      "image/png": "[encoded data removed]",
      "text/plain": [
       "<matplotlib.figure.Figure at 0x7fa5c215ef60>"
      ]
     },
     "metadata": {},
     "output_type": "display_data"
    }
   ],
   "source": [
    "plot_confusion_matrix(y_test, y_test_pred)"
   ]
  },
  {
   "cell_type": "code",
   "execution_count": null,
   "metadata": {
    "collapsed": true
   },
   "outputs": [],
   "source": []
  },
  {
   "cell_type": "markdown",
   "metadata": {},
   "source": [
    "## Hyperparameter Tuning"
   ]
  },
  {
   "cell_type": "code",
   "execution_count": 72,
   "metadata": {
    "collapsed": true
   },
   "outputs": [],
   "source": [
    "from sklearn.feature_extraction.text import TfidfVectorizer\n",
    "from sklearn.decomposition import TruncatedSVD\n",
    "from sklearn.decomposition import LatentDirichletAllocation\n",
    "from sklearn.preprocessing import Normalizer\n",
    "\n",
    "from scipy.stats.distributions import uniform, randint\n",
    "from sklearn.model_selection import RandomizedSearchCV\n",
    "from sklearn.model_selection import StratifiedKFold\n",
    "\n",
    "from sklearn.svm import SVC\n",
    "from sklearn.tree import DecisionTreeClassifier\n",
    "from sklearn.neighbors import KNeighborsClassifier\n",
    "from sklearn.naive_bayes import GaussianNB\n",
    "from sklearn.discriminant_analysis import LinearDiscriminantAnalysis\n",
    "from sklearn.discriminant_analysis import QuadraticDiscriminantAnalysis\n",
    "\n",
    "from scipy.spatial.distance import cosine\n",
    "from pprint import pprint\n",
    "from sklearn.base import clone"
   ]
  },
  {
   "cell_type": "markdown",
   "metadata": {},
   "source": [
    "### Number of features"
   ]
  },
  {
   "cell_type": "markdown",
   "metadata": {},
   "source": [
    "#### Feature selection - CountVectorizer"
   ]
  },
  {
   "cell_type": "code",
   "execution_count": 73,
   "metadata": {
    "collapsed": true
   },
   "outputs": [],
   "source": [
    "def count_features(pipe_trans, param_range, param_name, process):\n",
    "    pipe = clone(pipe_trans)\n",
    "    no_features = []\n",
    "    for param in param_range:\n",
    "        pipe.set_params(**{'preprocessor__process': process, param_name: param})\n",
    "        dtm = pipe.fit_transform(X_train)\n",
    "        no_features.append(dtm.shape[1])\n",
    "    return no_features\n",
    "\n",
    "def plot_no_features(pipe_trans, param_range, param_name, process):    \n",
    "    no_features = count_features(pipe_trans, param_range, param_name, process)\n",
    "    \n",
    "    fig, ax = plt.subplots(figsize=(5, 5))    \n",
    "    ax.plot(param_range, no_features, '--o')\n",
    "    ax.set_xlabel(param_name)\n",
    "    ax.set_ylabel('Number of features')\n",
    "    ax.set_title('Process = ' + process)\n",
    "    ax.grid()\n",
    "    plt.show()    "
   ]
  },
  {
   "cell_type": "code",
   "execution_count": 74,
   "metadata": {
    "collapsed": false
   },
   "outputs": [],
   "source": [
    "tf_pipe = Pipeline([('preprocessor', TextPreprocessor()),\n",
    "                    ('vectorizer', CountVectorizer(token_pattern=token_pattern))\n",
    "                   ])"
   ]
  },
  {
   "cell_type": "code",
   "execution_count": 257,
   "metadata": {
    "collapsed": false
   },
   "outputs": [
    {
     "data": {
      "image/png": "[encoded data removed]",
      "text/plain": [
       "<matplotlib.figure.Figure at 0x7fda0e3463c8>"
      ]
     },
     "metadata": {},
     "output_type": "display_data"
    }
   ],
   "source": [
    "max_df_range = np.arange(0.1, 1.1, 0.1)\n",
    "process = ''\n",
    "param_name = 'vectorizer__max_df'\n",
    "plot_no_features(tf_pipe, max_df_range, param_name, process)"
   ]
  },
  {
   "cell_type": "code",
   "execution_count": 260,
   "metadata": {
    "collapsed": false
   },
   "outputs": [
    {
     "data": {
      "image/png": "[encoded data removed]",
      "text/plain": [
       "<matplotlib.figure.Figure at 0x7fd9f5eb30b8>"
      ]
     },
     "metadata": {},
     "output_type": "display_data"
    }
   ],
   "source": [
    "max_df_range = np.arange(0.1, 1.1, 0.1)\n",
    "process = 'stem'\n",
    "param_name = 'vectorizer__max_df'\n",
    "plot_no_features(tf_pipe, max_df_range, param_name, process)"
   ]
  },
  {
   "cell_type": "code",
   "execution_count": 261,
   "metadata": {
    "collapsed": false
   },
   "outputs": [
    {
     "data": {
      "image/png": "[encoded data removed]",
      "text/plain": [
       "<matplotlib.figure.Figure at 0x7fd9f5fa9080>"
      ]
     },
     "metadata": {},
     "output_type": "display_data"
    }
   ],
   "source": [
    "max_df_range = np.arange(0.1, 1.1, 0.1)\n",
    "process = 'lem'\n",
    "param_name = 'vectorizer__max_df'\n",
    "plot_no_features(tf_pipe, max_df_range, param_name, process)"
   ]
  },
  {
   "cell_type": "code",
   "execution_count": 263,
   "metadata": {
    "collapsed": false
   },
   "outputs": [
    {
     "data": {
      "image/png": "[encoded data removed]",
      "text/plain": [
       "<matplotlib.figure.Figure at 0x7fd9f414f8d0>"
      ]
     },
     "metadata": {},
     "output_type": "display_data"
    }
   ],
   "source": [
    "min_df_range = np.arange(1, 11, 1)\n",
    "process = ''\n",
    "param_name = 'vectorizer__min_df'\n",
    "plot_no_features(tf_pipe, min_df_range, param_name, process)"
   ]
  },
  {
   "cell_type": "code",
   "execution_count": 264,
   "metadata": {
    "collapsed": false
   },
   "outputs": [
    {
     "data": {
      "image/png": "[encoded data removed]",
      "text/plain": [
       "<matplotlib.figure.Figure at 0x7fd9f5ea7470>"
      ]
     },
     "metadata": {},
     "output_type": "display_data"
    }
   ],
   "source": [
    "min_df_range = np.arange(1, 11, 1)\n",
    "process = 'stem'\n",
    "param_name = 'vectorizer__min_df'\n",
    "plot_no_features(tf_pipe, min_df_range, param_name, process)"
   ]
  },
  {
   "cell_type": "code",
   "execution_count": 265,
   "metadata": {
    "collapsed": false
   },
   "outputs": [
    {
     "data": {
      "image/png": "[encoded data removed]",
      "text/plain": [
       "<matplotlib.figure.Figure at 0x7fda188d4da0>"
      ]
     },
     "metadata": {},
     "output_type": "display_data"
    }
   ],
   "source": [
    "min_df_range = np.arange(1, 11, 1)\n",
    "process = 'lem'\n",
    "param_name = 'vectorizer__min_df'\n",
    "plot_no_features(tf_pipe, min_df_range, param_name, process)"
   ]
  },
  {
   "cell_type": "code",
   "execution_count": 75,
   "metadata": {
    "collapsed": false
   },
   "outputs": [
    {
     "data": {
      "text/plain": [
       "[12680, 82635, 69955, 189991, 298005]"
      ]
     },
     "execution_count": 75,
     "metadata": {},
     "output_type": "execute_result"
    }
   ],
   "source": [
    "ngram_range = [(1, 1), (1, 2), (2, 2), (1, 3), (1, 4)]\n",
    "process = ''\n",
    "param_name = 'vectorizer__ngram_range'\n",
    "count_features(tf_pipe, ngram_range, param_name, process)"
   ]
  },
  {
   "cell_type": "code",
   "execution_count": 76,
   "metadata": {
    "collapsed": false
   },
   "outputs": [
    {
     "data": {
      "text/plain": [
       "[9962, 76060, 66098, 182406, 290255]"
      ]
     },
     "execution_count": 76,
     "metadata": {},
     "output_type": "execute_result"
    }
   ],
   "source": [
    "ngram_range = [(1, 1), (1, 2), (2, 2), (1, 3), (1, 4)]\n",
    "process = 'stem'\n",
    "param_name = 'vectorizer__ngram_range'\n",
    "count_features(tf_pipe, ngram_range, param_name, process)"
   ]
  },
  {
   "cell_type": "code",
   "execution_count": 77,
   "metadata": {
    "collapsed": false
   },
   "outputs": [
    {
     "data": {
      "text/plain": [
       "[10999, 77772, 66773, 184312, 292197]"
      ]
     },
     "execution_count": 77,
     "metadata": {},
     "output_type": "execute_result"
    }
   ],
   "source": [
    "ngram_range = [(1, 1), (1, 2), (2, 2), (1, 3), (1, 4)]\n",
    "process = 'lem'\n",
    "param_name = 'vectorizer__ngram_range'\n",
    "count_features(tf_pipe, ngram_range, param_name, process)"
   ]
  },
  {
   "cell_type": "markdown",
   "metadata": {},
   "source": [
    "#### Feature extraction - SVD"
   ]
  },
  {
   "cell_type": "code",
   "execution_count": 276,
   "metadata": {
    "collapsed": true
   },
   "outputs": [],
   "source": [
    "lsi_pipe= Pipeline([('preprocessor', TextPreprocessor()),\n",
    "                     ('vectorizer', TfidfVectorizer(token_pattern=token_pattern, norm='l2')),\n",
    "                     ('svd', TruncatedSVD())\n",
    "                    ])"
   ]
  },
  {
   "cell_type": "code",
   "execution_count": 277,
   "metadata": {
    "collapsed": false
   },
   "outputs": [],
   "source": [
    "component_range = np.arange(100, 2000, 100)\n",
    "explained_variance = []\n",
    "for n in component_range:\n",
    "    lsi_pipe.set_params(**{'svd__n_components': n})\n",
    "    dtm = lsi_pipe.fit_transform(X_train)\n",
    "    variance = lsi_pipe.named_steps['svd'].explained_variance_ratio_.sum()\n",
    "    explained_variance.append(variance)"
   ]
  },
  {
   "cell_type": "code",
   "execution_count": 278,
   "metadata": {
    "collapsed": false
   },
   "outputs": [
    {
     "data": {
      "image/png": "[encoded data removed]",
      "text/plain": [
       "<matplotlib.figure.Figure at 0x7fd9e7f69080>"
      ]
     },
     "metadata": {},
     "output_type": "display_data"
    }
   ],
   "source": [
    "fig, ax = plt.subplots(figsize=(5, 5))    \n",
    "ax.plot(component_range, explained_variance, '--o')\n",
    "ax.set_xlabel('Number of features')\n",
    "ax.set_ylabel('Explained variance')\n",
    "ax.set_title('LSI')\n",
    "ax.set_ylim(0, 1)\n",
    "ax.grid()\n",
    "plt.show()"
   ]
  },
  {
   "cell_type": "code",
   "execution_count": 279,
   "metadata": {
    "collapsed": false
   },
   "outputs": [
    {
     "name": "stdout",
     "output_type": "stream",
     "text": [
      "Explained variance = 0.017\n"
     ]
    }
   ],
   "source": [
    "lsi_pipe.set_params(**{'svd__n_components': 2})\n",
    "svd_dtm = lsi_pipe.fit_transform(X_train)\n",
    "print('Explained variance = %.3f' % lsi_pipe.named_steps['svd'].explained_variance_ratio_.sum())"
   ]
  },
  {
   "cell_type": "code",
   "execution_count": 280,
   "metadata": {
    "collapsed": false
   },
   "outputs": [
    {
     "name": "stderr",
     "output_type": "stream",
     "text": [
      "/home/kodolamacz/anaconda3/lib/python3.6/site-packages/ipykernel/__main__.py:2: FutureWarning: in the future, boolean array-likes will be handled as a boolean array index\n",
      "  from ipykernel import kernelapp as app\n",
      "/home/kodolamacz/anaconda3/lib/python3.6/site-packages/ipykernel/__main__.py:3: FutureWarning: in the future, boolean array-likes will be handled as a boolean array index\n",
      "  app.launch_new_instance()\n"
     ]
    },
    {
     "data": {
      "image/png": "[encoded data removed]",
      "text/plain": [
       "<matplotlib.figure.Figure at 0x7fda069c7e80>"
      ]
     },
     "metadata": {},
     "output_type": "display_data"
    }
   ],
   "source": [
    "fig, ax = plt.subplots(figsize=(5, 5))\n",
    "ax.scatter(svd_dtm[y_train == 0, 0], svd_dtm[y_train == 0, 1], label='Nonaggressive', alpha=0.5)\n",
    "ax.scatter(svd_dtm[y_train == 1, 0], svd_dtm[y_train == 1, 1], label='Aggressive', alpha=0.5)\n",
    "plt.legend()\n",
    "plt.show()"
   ]
  },
  {
   "cell_type": "code",
   "execution_count": 80,
   "metadata": {
    "collapsed": false
   },
   "outputs": [
    {
     "data": {
      "image/png": "[encoded data removed]",
      "text/plain": [
       "<matplotlib.figure.Figure at 0x288e3dc1b70>"
      ]
     },
     "metadata": {},
     "output_type": "display_data"
    }
   ],
   "source": [
    "svd_dtm_normalized = Normalizer().fit_transform(svd_dtm)\n",
    "\n",
    "fig, ax = plt.subplots(figsize=(5, 5))\n",
    "ax.scatter(svd_dtm_normalized[y_train == 0, 0], svd_dtm_normalized[y_train == 0, 1], \n",
    "           label='Nonaggressive', alpha=0.5)\n",
    "ax.scatter(svd_dtm_normalized[y_train == 1, 0], svd_dtm_normalized[y_train == 1, 1], \n",
    "           label='Aggressive', alpha=0.5)\n",
    "plt.axis('equal')\n",
    "plt.legend()\n",
    "plt.show()"
   ]
  },
  {
   "cell_type": "code",
   "execution_count": 291,
   "metadata": {
    "collapsed": true
   },
   "outputs": [],
   "source": [
    "lsi_pipe = Pipeline([('preprocessor', TextPreprocessor()),\n",
    "                     ('vectorizer', TfidfVectorizer(token_pattern=token_pattern, norm='l2',\n",
    "                                                    ngram_range=(1, 2), min_df=2)),\n",
    "                     ('svd', TruncatedSVD())\n",
    "                    ])"
   ]
  },
  {
   "cell_type": "code",
   "execution_count": 292,
   "metadata": {
    "collapsed": false
   },
   "outputs": [],
   "source": [
    "component_range = np.arange(100, 2000, 100)\n",
    "explained_variance = []\n",
    "for n in component_range:\n",
    "    lsi_pipe.set_params(**{'svd__n_components': n})\n",
    "    dtm = lsi_pipe.fit_transform(X_train)\n",
    "    variance = lsi_pipe.named_steps['svd'].explained_variance_ratio_.sum()\n",
    "    explained_variance.append(variance)"
   ]
  },
  {
   "cell_type": "code",
   "execution_count": 293,
   "metadata": {
    "collapsed": false
   },
   "outputs": [
    {
     "data": {
      "image/png": "[encoded data removed]",
      "text/plain": [
       "<matplotlib.figure.Figure at 0x7fda05dc7390>"
      ]
     },
     "metadata": {},
     "output_type": "display_data"
    }
   ],
   "source": [
    "fig, ax = plt.subplots(figsize=(5, 5))    \n",
    "ax.plot(component_range, explained_variance, '--o')\n",
    "ax.set_xlabel('Number of features')\n",
    "ax.set_ylabel('Explained variance')\n",
    "ax.set_title('LSI')\n",
    "ax.set_ylim(0, 1)\n",
    "ax.grid()\n",
    "plt.show()"
   ]
  },
  {
   "cell_type": "markdown",
   "metadata": {},
   "source": [
    "### Transformers"
   ]
  },
  {
   "cell_type": "markdown",
   "metadata": {},
   "source": [
    "#### CountVectorizer: Term Frequency"
   ]
  },
  {
   "cell_type": "code",
   "execution_count": 78,
   "metadata": {
    "collapsed": true
   },
   "outputs": [],
   "source": [
    "tf_pipe = Pipeline([\n",
    "    ('features', FeatureUnion([\n",
    "            ('freq_feats', FrequencyExtractor()),    \n",
    "            ('text_feats', Pipeline([('preprocessor', TextPreprocessor(stopwords=IRRELEVANT_STOPWORDS, \n",
    "                                                                       process='stem')),\n",
    "                                     ('vectorizer', CountVectorizer(token_pattern=token_pattern, min_df=2,\n",
    "                                                                    ngram_range=(1, 2)))\n",
    "                                    ]))\n",
    "            ])),\n",
    "    ('scaler', MaxAbsScaler())\n",
    "    ])\n",
    "\n",
    "preprocessor_path = 'transformer__features__text_feats__preprocessor'\n",
    "vectorizer_path = 'transformer__features__text_feats__vectorizer'\n",
    "tf_param_dist = {preprocessor_path + '__stopwords': [IRRELEVANT_STOPWORDS, STOPWORDS, []],\n",
    "                 preprocessor_path + '__process': ['lem', 'stem', ''],\n",
    "                 vectorizer_path + '__ngram_range': [(1, 1), (1, 2), (2, 2)],\n",
    "                 vectorizer_path + '__min_df': randint(1, 6)\n",
    "                 }"
   ]
  },
  {
   "cell_type": "code",
   "execution_count": 79,
   "metadata": {
    "collapsed": true
   },
   "outputs": [],
   "source": [
    "tf_dtm_train = tf_pipe.fit_transform(X_train)\n",
    "tf_dtm_test = tf_pipe.transform(X_test)"
   ]
  },
  {
   "cell_type": "markdown",
   "metadata": {},
   "source": [
    "#### TfidfVectorizer: Term Frequency - Inverse Document Frequency"
   ]
  },
  {
   "cell_type": "code",
   "execution_count": 80,
   "metadata": {
    "collapsed": true
   },
   "outputs": [],
   "source": [
    "tfidf_pipe = Pipeline([\n",
    "    ('features', FeatureUnion([\n",
    "            ('freq_feats', FrequencyExtractor()),    \n",
    "            ('text_feats', Pipeline([('preprocessor', TextPreprocessor(stopwords=IRRELEVANT_STOPWORDS, \n",
    "                                                                       process='stem')),\n",
    "                                     ('vectorizer', TfidfVectorizer(token_pattern=token_pattern, min_df=2,\n",
    "                                                                    ngram_range=(1, 2), norm='l2'))\n",
    "                                    ]))\n",
    "            ]))\n",
    "    ])\n",
    "\n",
    "tfidf_param_dist = {preprocessor_path + '__stopwords': [IRRELEVANT_STOPWORDS, STOPWORDS, []],\n",
    "                    preprocessor_path + '__process': ['lem', 'stem', ''],\n",
    "                    vectorizer_path + '__ngram_range': [(1, 1), (1, 2), (2, 2)],\n",
    "                    vectorizer_path + '__min_df': randint(1, 6)\n",
    "                    }"
   ]
  },
  {
   "cell_type": "code",
   "execution_count": 81,
   "metadata": {
    "collapsed": true
   },
   "outputs": [],
   "source": [
    "tfidf_dtm_train = tfidf_pipe.fit_transform(X_train)\n",
    "tfidf_dtm_test = tfidf_pipe.transform(X_test)"
   ]
  },
  {
   "cell_type": "markdown",
   "metadata": {},
   "source": [
    "#### SVD: Singular Value Decomposition (Latent Semantic Indexing)"
   ]
  },
  {
   "cell_type": "code",
   "execution_count": 82,
   "metadata": {
    "collapsed": true
   },
   "outputs": [],
   "source": [
    "lsi_pipe = Pipeline([\n",
    "    ('features', FeatureUnion([\n",
    "            ('freq_feats', FrequencyExtractor()),    \n",
    "            ('text_feats', Pipeline([('preprocessor', TextPreprocessor(stopwords=IRRELEVANT_STOPWORDS, \n",
    "                                                                       process='stem')),\n",
    "                                     ('vectorizer', TfidfVectorizer(token_pattern=token_pattern, min_df=2,\n",
    "                                                                    ngram_range=(1, 2), norm='l2')),\n",
    "                                     ('svd', TruncatedSVD(n_components=2000)),\n",
    "                                     ('normalizer', Normalizer())\n",
    "                                    ]))\n",
    "            ]))\n",
    "    ])\n",
    "\n",
    "svd_path = 'transformer__features__text_feats__svd'\n",
    "lsi_param_dist = {preprocessor_path + '__stopwords': [IRRELEVANT_STOPWORDS, STOPWORDS, []],\n",
    "                  preprocessor_path + '__process': ['lem', 'stem', ''],\n",
    "                  vectorizer_path + '__ngram_range': [(1, 1), (1, 2), (2, 2)],\n",
    "                  vectorizer_path + '__min_df': randint(1, 6),\n",
    "                  svd_path + '__n_components': randint(100, 2000)\n",
    "                  }"
   ]
  },
  {
   "cell_type": "code",
   "execution_count": 83,
   "metadata": {
    "collapsed": true
   },
   "outputs": [],
   "source": [
    "lsi_dtm_train = lsi_pipe.fit_transform(X_train)\n",
    "lsi_dtm_test = lsi_pipe.transform(X_test)"
   ]
  },
  {
   "cell_type": "code",
   "execution_count": 84,
   "metadata": {
    "collapsed": false
   },
   "outputs": [
    {
     "data": {
      "text/plain": [
       "0.64564843277100437"
      ]
     },
     "execution_count": 84,
     "metadata": {},
     "output_type": "execute_result"
    }
   ],
   "source": [
    "lsi_pipe.named_steps['features'].transformer_list[1][1].named_steps['svd'].explained_variance_ratio_.sum()"
   ]
  },
  {
   "cell_type": "markdown",
   "metadata": {},
   "source": [
    "#### LatentDirichletAllocation"
   ]
  },
  {
   "cell_type": "code",
   "execution_count": 85,
   "metadata": {
    "collapsed": true
   },
   "outputs": [],
   "source": [
    "lda_pipe = Pipeline([\n",
    "    ('features', FeatureUnion([\n",
    "            ('freq_feats', FrequencyExtractor()),    \n",
    "            ('text_feats', Pipeline([('preprocessor', TextPreprocessor(stopwords=IRRELEVANT_STOPWORDS, \n",
    "                                                                       process='stem')),\n",
    "                                     ('vectorizer', TfidfVectorizer(token_pattern=token_pattern, min_df=2,\n",
    "                                                                    ngram_range=(1, 2), norm='l2')),\n",
    "                                     ('lda', LatentDirichletAllocation(n_topics=25, learning_method='online', \n",
    "                                                                       doc_topic_prior=0.04,\n",
    "                                                                       topic_word_prior=0.04))\n",
    "                                    ]))\n",
    "            ]))\n",
    "    ])\n",
    "\n",
    "lda_path = 'transformer__features__text_feats__lda'\n",
    "lda_param_dist = {preprocessor_path + '__stopwords': [IRRELEVANT_STOPWORDS, STOPWORDS, []],\n",
    "                  preprocessor_path + '__process': ['lem', 'stem', ''],\n",
    "                  vectorizer_path + '__ngram_range': [(1, 1), (1, 2), (2, 2)],\n",
    "                  vectorizer_path + '__min_df': randint(1, 6),\n",
    "                  lda_path + '__n_topics': randint(10, 50),\n",
    "#                   lda_path + '__n_components': randint(10, 50),\n",
    "                  lda_path + '__doc_topic_prior': uniform(0.01, 3 - 0.01),\n",
    "                  lda_path + '__topic_word_prior': uniform(0.01, 3 - 0.01)\n",
    "                  }"
   ]
  },
  {
   "cell_type": "code",
   "execution_count": 86,
   "metadata": {
    "collapsed": true
   },
   "outputs": [],
   "source": [
    "lda_dtm_train = lda_pipe.fit_transform(X_train)\n",
    "lda_dtm_test = lda_pipe.transform(X_test)"
   ]
  },
  {
   "cell_type": "code",
   "execution_count": 87,
   "metadata": {
    "collapsed": true
   },
   "outputs": [],
   "source": [
    "X_train_dict = {'tf': tf_dtm_train,\n",
    "                'tfidf': tfidf_dtm_train,\n",
    "                'lsi': lsi_dtm_train,\n",
    "                'lda': lda_dtm_train,\n",
    "                'original': X_train\n",
    "                }\n",
    "\n",
    "X_test_dict = {'tf': tf_dtm_test,\n",
    "               'tfidf': tfidf_dtm_test,\n",
    "               'lsi': lsi_dtm_test,\n",
    "               'lda': lda_dtm_test,\n",
    "               'original': X_test\n",
    "               }"
   ]
  },
  {
   "cell_type": "code",
   "execution_count": 88,
   "metadata": {
    "collapsed": true
   },
   "outputs": [],
   "source": [
    "transformers = [('tf', tf_pipe),\n",
    "                ('tfidf', tfidf_pipe),\n",
    "                ('lsi', lsi_pipe),\n",
    "                ('lda', lda_pipe)                \n",
    "               ]\n",
    "\n",
    "transformers_param_dist = {'tf': tf_param_dist,\n",
    "                           'tfidf': tfidf_param_dist,\n",
    "                           'lsi': lsi_param_dist,\n",
    "                           'lda': lda_param_dist\n",
    "                          }"
   ]
  },
  {
   "cell_type": "markdown",
   "metadata": {},
   "source": [
    "### Estimators"
   ]
  },
  {
   "cell_type": "code",
   "execution_count": 89,
   "metadata": {
    "collapsed": true
   },
   "outputs": [],
   "source": [
    "estimators = {'lr': LogisticRegression(),\n",
    "              'lin_svm': SVC(kernel='linear', probability=True),\n",
    "              'rbf_svm': SVC(kernel='rbf', probability=True),\n",
    "              'dt': DecisionTreeClassifier(),\n",
    "              'knn': KNeighborsClassifier(),\n",
    "              'nb': GaussianNB(),\n",
    "              'lda': LinearDiscriminantAnalysis(),\n",
    "              'qda': QuadraticDiscriminantAnalysis(),\n",
    "             }\n",
    "\n",
    "estimators_param_dist = {'lr': {'clf__penalty': ['l1', 'l2'],\n",
    "                                'clf__C': uniform(0., 4.)},\n",
    "                         'lin_svm': {'clf__C': uniform(0., 4.)},\n",
    "                         'rbf_svm': {'clf__C': uniform(0., 4.),\n",
    "                                     'clf__gamma': uniform(0.1, 3 - 0.1)},\n",
    "                         'dt': {'clf__max_depth': randint(5, 15),\n",
    "                                'clf__min_samples_leaf': randint(2, 40)},\n",
    "                         'knn': {'clf__n_neighbors': randint(4, 15),\n",
    "                                 'clf__metric': ['minkowski', cosine]},\n",
    "                         'nb': {}, \n",
    "                         'lda': {},\n",
    "                         'qda': {},\n",
    "                        }"
   ]
  },
  {
   "cell_type": "markdown",
   "metadata": {},
   "source": [
    "### Classification"
   ]
  },
  {
   "cell_type": "code",
   "execution_count": 90,
   "metadata": {
    "collapsed": true
   },
   "outputs": [],
   "source": [
    "def search_best_clfs(clf_name, X_train_dict, X_test_dict, transformation=False, n_iter=3):\n",
    "    best_clfs = {}\n",
    "    scores = pd.DataFrame(columns=[clf_name + '_train', clf_name + '_test'])\n",
    "\n",
    "    for trans_name, trans_pipe in transformers:\n",
    "        print(trans_name)\n",
    "        if transformation:\n",
    "            pipe = Pipeline([('transformer', clone(trans_pipe)),\n",
    "                             ('clf', clone(estimators[clf_name]))])\n",
    "\n",
    "            param_dist = transformers_param_dist[trans_name].copy()\n",
    "            param_dist.update(estimators_param_dist[clf_name].items())\n",
    "            \n",
    "            X_train = X_train_dict['original']\n",
    "            X_test = X_test_dict['original']\n",
    "        else:\n",
    "            pipe = Pipeline([('clf', clone(estimators[clf_name]))])\n",
    "            param_dist = estimators_param_dist[clf_name]\n",
    "            \n",
    "            X_train = X_train_dict[trans_name]\n",
    "            X_test = X_test_dict[trans_name]\n",
    "\n",
    "        rs = RandomizedSearchCV(estimator=pipe, param_distributions=param_dist, \n",
    "                                n_iter=n_iter, n_jobs=-1, refit=True,\n",
    "                                scoring='accuracy',\n",
    "                                cv=StratifiedKFold(n_splits=5, shuffle=True, random_state=10))\n",
    "\n",
    "        rs.fit(X_train, y_train)\n",
    "\n",
    "        best_clfs.update({trans_name: rs.best_estimator_})\n",
    "\n",
    "        train_score = rs.score(X_train, y_train)\n",
    "        test_score = rs.score(X_test, y_test)\n",
    "        scores.loc[trans_name] = [train_score, test_score]\n",
    "        \n",
    "    return best_clfs, scores"
   ]
  },
  {
   "cell_type": "code",
   "execution_count": 91,
   "metadata": {
    "collapsed": true
   },
   "outputs": [],
   "source": [
    "import pickle\n",
    "import os"
   ]
  },
  {
   "cell_type": "code",
   "execution_count": 92,
   "metadata": {
    "collapsed": true
   },
   "outputs": [],
   "source": [
    "def save_model(model, file_name):\n",
    "    models_path = './Models'\n",
    "    if not os.path.exists(models_path):\n",
    "        os.makedirs(models_path)\n",
    "    \n",
    "    with open(os.path.join(models_path, file_name), 'wb') as file:\n",
    "        pickle.dump(model, file, protocol=4)"
   ]
  },
  {
   "cell_type": "code",
   "execution_count": 93,
   "metadata": {
    "collapsed": true
   },
   "outputs": [],
   "source": [
    "def save_kbest(kbest_array, file_name):\n",
    "    models_path = './kBest'\n",
    "    if not os.path.exists(models_path):\n",
    "        os.makedirs(models_path)\n",
    "\n",
    "    np.savetxt(os.path.join(models_path, file_name), kbest_array, fmt='%s')"
   ]
  },
  {
   "cell_type": "markdown",
   "metadata": {},
   "source": [
    "#### Logistic Regression"
   ]
  },
  {
   "cell_type": "code",
   "execution_count": 338,
   "metadata": {
    "collapsed": false
   },
   "outputs": [],
   "source": [
    "clf_name = 'lr'\n",
    "best_lrs, lr_scores = search_best_clfs(clf_name, X_train_dict, X_test_dict)"
   ]
  },
  {
   "cell_type": "code",
   "execution_count": 339,
   "metadata": {
    "collapsed": false
   },
   "outputs": [
    {
     "data": {
      "text/html": [
       "<div>\n",
       "<table border=\"1\" class=\"dataframe\">\n",
       "  <thead>\n",
       "    <tr style=\"text-align: right;\">\n",
       "      <th></th>\n",
       "      <th>lr_train</th>\n",
       "      <th>lr_test</th>\n",
       "    </tr>\n",
       "  </thead>\n",
       "  <tbody>\n",
       "    <tr>\n",
       "      <th>tf</th>\n",
       "      <td>0.989297</td>\n",
       "      <td>0.890938</td>\n",
       "    </tr>\n",
       "    <tr>\n",
       "      <th>tfidf</th>\n",
       "      <td>0.944531</td>\n",
       "      <td>0.833125</td>\n",
       "    </tr>\n",
       "    <tr>\n",
       "      <th>lsi</th>\n",
       "      <td>0.870781</td>\n",
       "      <td>0.780000</td>\n",
       "    </tr>\n",
       "    <tr>\n",
       "      <th>lda</th>\n",
       "      <td>0.685781</td>\n",
       "      <td>0.664375</td>\n",
       "    </tr>\n",
       "  </tbody>\n",
       "</table>\n",
       "</div>"
      ],
      "text/plain": [
       "       lr_train   lr_test\n",
       "tf     0.989297  0.890938\n",
       "tfidf  0.944531  0.833125\n",
       "lsi    0.870781  0.780000\n",
       "lda    0.685781  0.664375"
      ]
     },
     "execution_count": 339,
     "metadata": {},
     "output_type": "execute_result"
    }
   ],
   "source": [
    "lr_scores"
   ]
  },
  {
   "cell_type": "code",
   "execution_count": 340,
   "metadata": {
    "collapsed": true
   },
   "outputs": [],
   "source": [
    "for name, model in best_lrs.items():\n",
    "    file_name = name + '_logisticregression.p'\n",
    "    save_model(model, file_name)"
   ]
  },
  {
   "cell_type": "code",
   "execution_count": 347,
   "metadata": {
    "collapsed": false
   },
   "outputs": [
    {
     "name": "stdout",
     "output_type": "stream",
     "text": [
      "{'C': 3.8380999372657909,\n",
      " 'class_weight': None,\n",
      " 'dual': False,\n",
      " 'fit_intercept': True,\n",
      " 'intercept_scaling': 1,\n",
      " 'max_iter': 100,\n",
      " 'multi_class': 'ovr',\n",
      " 'n_jobs': 1,\n",
      " 'penalty': 'l2',\n",
      " 'random_state': None,\n",
      " 'solver': 'liblinear',\n",
      " 'tol': 0.0001,\n",
      " 'verbose': 0,\n",
      " 'warm_start': False}\n"
     ]
    }
   ],
   "source": [
    "pprint(best_lrs['tf'].named_steps['clf'].get_params())"
   ]
  },
  {
   "cell_type": "code",
   "execution_count": 342,
   "metadata": {
    "collapsed": false
   },
   "outputs": [
    {
     "name": "stdout",
     "output_type": "stream",
     "text": [
      "{'C': 1.9940595970744734,\n",
      " 'class_weight': None,\n",
      " 'dual': False,\n",
      " 'fit_intercept': True,\n",
      " 'intercept_scaling': 1,\n",
      " 'max_iter': 100,\n",
      " 'multi_class': 'ovr',\n",
      " 'n_jobs': 1,\n",
      " 'penalty': 'l2',\n",
      " 'random_state': None,\n",
      " 'solver': 'liblinear',\n",
      " 'tol': 0.0001,\n",
      " 'verbose': 0,\n",
      " 'warm_start': False}\n"
     ]
    }
   ],
   "source": [
    "pprint(best_lrs['tfidf'].named_steps['clf'].get_params())"
   ]
  },
  {
   "cell_type": "code",
   "execution_count": 343,
   "metadata": {
    "collapsed": false
   },
   "outputs": [
    {
     "name": "stdout",
     "output_type": "stream",
     "text": [
      "{'C': 3.884817013579597,\n",
      " 'class_weight': None,\n",
      " 'dual': False,\n",
      " 'fit_intercept': True,\n",
      " 'intercept_scaling': 1,\n",
      " 'max_iter': 100,\n",
      " 'multi_class': 'ovr',\n",
      " 'n_jobs': 1,\n",
      " 'penalty': 'l2',\n",
      " 'random_state': None,\n",
      " 'solver': 'liblinear',\n",
      " 'tol': 0.0001,\n",
      " 'verbose': 0,\n",
      " 'warm_start': False}\n"
     ]
    }
   ],
   "source": [
    "pprint(best_lrs['lsi'].named_steps['clf'].get_params())"
   ]
  },
  {
   "cell_type": "code",
   "execution_count": 345,
   "metadata": {
    "collapsed": false
   },
   "outputs": [
    {
     "name": "stdout",
     "output_type": "stream",
     "text": [
      "{'C': 2.8310905729662865,\n",
      " 'class_weight': None,\n",
      " 'dual': False,\n",
      " 'fit_intercept': True,\n",
      " 'intercept_scaling': 1,\n",
      " 'max_iter': 100,\n",
      " 'multi_class': 'ovr',\n",
      " 'n_jobs': 1,\n",
      " 'penalty': 'l1',\n",
      " 'random_state': None,\n",
      " 'solver': 'liblinear',\n",
      " 'tol': 0.0001,\n",
      " 'verbose': 0,\n",
      " 'warm_start': False}\n"
     ]
    }
   ],
   "source": [
    "pprint(best_lrs['lda'].named_steps['clf'].get_params())"
   ]
  },
  {
   "cell_type": "markdown",
   "metadata": {},
   "source": [
    "We can look at the learning and validation curve to check overfitting/underfitting"
   ]
  },
  {
   "cell_type": "code",
   "execution_count": 348,
   "metadata": {
    "collapsed": false
   },
   "outputs": [
    {
     "data": {
      "image/png": "[encoded data removed]",
      "text/plain": [
       "<matplotlib.figure.Figure at 0x7fd9eeb784e0>"
      ]
     },
     "metadata": {},
     "output_type": "display_data"
    }
   ],
   "source": [
    "trans_name = 'tf'\n",
    "plot_validation_curve(estimator=clone(best_lrs[trans_name]), X=X_train_dict[trans_name], y=y_train, \n",
    "                      param_name='clf__C', param_range=np.logspace(-3, 3, 7), x_scale='log')"
   ]
  },
  {
   "cell_type": "code",
   "execution_count": 388,
   "metadata": {
    "collapsed": false
   },
   "outputs": [
    {
     "name": "stdout",
     "output_type": "stream",
     "text": [
      "Tarining dataset: accuracy = 0.974\n",
      "Test dataset: accuracy = 0.872\n"
     ]
    }
   ],
   "source": [
    "trans_name = 'tf'\n",
    "lr_pipe = clone(best_lrs[trans_name])\n",
    "lr_pipe.set_params(**{'clf__C': 1.})\n",
    "\n",
    "lr_pipe.fit(X_train_dict[trans_name], y_train);\n",
    "\n",
    "y_train_pred = lr_pipe.predict(X_train_dict[trans_name])\n",
    "y_test_pred = lr_pipe.predict(X_test_dict[trans_name])\n",
    "print('Tarining dataset: accuracy = %.3f' % accuracy_score(y_pred=y_train_pred, y_true=y_train))\n",
    "print('Test dataset: accuracy = %.3f' % accuracy_score(y_pred=y_test_pred, y_true=y_test))"
   ]
  },
  {
   "cell_type": "code",
   "execution_count": 389,
   "metadata": {
    "collapsed": false
   },
   "outputs": [
    {
     "data": {
      "image/png": "[encoded data removed]",
      "text/plain": [
       "<matplotlib.figure.Figure at 0x7fda0d0b5358>"
      ]
     },
     "metadata": {},
     "output_type": "display_data"
    },
    {
     "data": {
      "image/png": "[encoded data removed]",
      "text/plain": [
       "<matplotlib.figure.Figure at 0x7fd9eee454a8>"
      ]
     },
     "metadata": {},
     "output_type": "display_data"
    }
   ],
   "source": [
    "plot_confusion_matrix(y_train, y_train_pred)\n",
    "plot_confusion_matrix(y_test, y_test_pred)"
   ]
  },
  {
   "cell_type": "code",
   "execution_count": 390,
   "metadata": {
    "collapsed": false
   },
   "outputs": [
    {
     "data": {
      "image/png": "[encoded data removed]",
      "text/plain": [
       "<matplotlib.figure.Figure at 0x7fda11f71710>"
      ]
     },
     "metadata": {},
     "output_type": "display_data"
    }
   ],
   "source": [
    "plot_learning_curve(estimator=clone(lr_pipe), X=X_train_dict[trans_name], y=y_train)"
   ]
  },
  {
   "cell_type": "code",
   "execution_count": 94,
   "metadata": {
    "collapsed": true
   },
   "outputs": [],
   "source": [
    "from sklearn.model_selection import cross_val_score\n",
    "import scipy"
   ]
  },
  {
   "cell_type": "code",
   "execution_count": 95,
   "metadata": {
    "collapsed": false
   },
   "outputs": [],
   "source": [
    "# X_extended = scipy.sparse.vstack([X_train_dict[trans_name], X_test_dict[trans_name]])\n",
    "# X_extended.shape"
   ]
  },
  {
   "cell_type": "code",
   "execution_count": 96,
   "metadata": {
    "collapsed": false
   },
   "outputs": [
    {
     "name": "stdout",
     "output_type": "stream",
     "text": [
      "(16000,) (16000,)\n"
     ]
    }
   ],
   "source": [
    "X_extended = np.r_[X_train, X_test]\n",
    "y_extended = np.r_[y_train, y_test]\n",
    "print(X_extended.shape, y_extended.shape)"
   ]
  },
  {
   "cell_type": "code",
   "execution_count": 472,
   "metadata": {
    "collapsed": false
   },
   "outputs": [
    {
     "name": "stdout",
     "output_type": "stream",
     "text": [
      "[ 0.867  0.866  0.869  0.864  0.872]\n",
      "Validation: accuracy = 0.867\n"
     ]
    }
   ],
   "source": [
    "lr_pipe_extended = Pipeline([('transformers', clone(tf_pipe)),\n",
    "                             ('clf', clone(lr_pipe.named_steps['clf']))])\n",
    "\n",
    "extended_scores = cross_val_score(lr_pipe_extended, X_extended, y_extended, scoring='accuracy', \n",
    "                                  cv=StratifiedKFold(n_splits=5, shuffle=True, random_state=10))\n",
    "print(np.round(extended_scores, 3))\n",
    "print('Validation: accuracy = %.3f' % extended_scores.mean())"
   ]
  },
  {
   "cell_type": "code",
   "execution_count": 490,
   "metadata": {
    "collapsed": false
   },
   "outputs": [
    {
     "name": "stdout",
     "output_type": "stream",
     "text": [
      "Tarining dataset: accuracy = 0.979\n"
     ]
    }
   ],
   "source": [
    "lr_pipe_extended.fit(X_extended, y_extended)\n",
    "y_extended_pred = lr_pipe_extended.predict(X_extended)\n",
    "print('Tarining dataset: accuracy = %.3f' % accuracy_score(y_pred=y_extended_pred, y_true=y_extended))"
   ]
  },
  {
   "cell_type": "code",
   "execution_count": 491,
   "metadata": {
    "collapsed": true
   },
   "outputs": [],
   "source": [
    "file_name = 'logisticregression.p'\n",
    "model = lr_pipe_extended\n",
    "save_model(model, file_name)"
   ]
  },
  {
   "cell_type": "code",
   "execution_count": 494,
   "metadata": {
    "collapsed": false,
    "scrolled": true
   },
   "outputs": [
    {
     "name": "stdout",
     "output_type": "stream",
     "text": [
      "Feature: fuck annoy                Score:    6.603\n",
      "Feature: bitch cuz                 Score:    4.289\n",
      "Feature: gay card                  Score:    4.032\n",
      "Feature: hate are                  Score:    3.495\n",
      "Feature: emo haha                  Score:    3.485\n",
      "Feature: ass bad                   Score:    3.356\n",
      "Feature: onequestionmark better    Score:    3.244\n",
      "Feature: suck cock                 Score:    3.133\n",
      "Feature: damn australian           Score:    3.021\n",
      "Feature: loser market              Score:    2.782\n"
     ]
    }
   ],
   "source": [
    "importance = np.abs(lr_pipe_extended.named_steps['clf'].coef_[0, :])\n",
    "print_kbest(lr_pipe_extended.named_steps['transformers'], importance, 10)"
   ]
  },
  {
   "cell_type": "code",
   "execution_count": 496,
   "metadata": {
    "collapsed": false
   },
   "outputs": [
    {
     "name": "stdout",
     "output_type": "stream",
     "text": [
      "['fuck annoy' 'bitch cuz' 'gay card' 'hate are' 'emo haha' 'ass bad'\n",
      " 'onequestionmark better' 'suck cock' 'damn australian' 'loser market'\n",
      " 'fat burn' 'uh manyexclamationmark' 'whore oneexclamationmark'\n",
      " 'damn reply' 'cock my' 'ever felt' 'whuut' 'gay run'\n",
      " 'dick onequestionmark' 'emoticonhappyfac emoticonheart' 'dude ur'\n",
      " 'nerd know' 'realtor' 'nose onequestionmark' 'small' 'hate procrastin'\n",
      " 'pig part' 'whose would' 'holdin phone' 'cunt that' 'damn addressurl'\n",
      " 'hate myzou' 'suck they' 'two peopl' 'fail onedot' 'pussi wanna'\n",
      " 'danc around' 'slam' 'bitch though' 'what coincid' 'that that'\n",
      " 'whup emoticonhappyfac' 'like he' 'favorit music' 'abbey'\n",
      " 'freak oneexclamationmark' 'hate oneexclamationmark' 'shit get'\n",
      " 'failur anyway' 'think they' 'good onequestionmark' 'fuck boo' 'do realiz'\n",
      " \"damn i'm\" 'haha emoticonheart' 'admit it' 'bitch still' 'love em'\n",
      " 'gay rotfl' 'of hi' 'damn bama' 'lost bet' 'that ladi' 'hate free'\n",
      " 'know onequestionmark' 'smallest' 'retro' 'wow ohkay' 'awesom right'\n",
      " 'am allow' 'im defin' 'bitter' 'do call' 'oo' 'damn get' 'get head'\n",
      " 'it took' 'luxuri' 'audrey' 'suck shit' 'ass plate' 'off work' 'post'\n",
      " 'what' 'yo freak' 'gay mean' 'evilbeet' 'idk what' 'yea bomb' 'bummer'\n",
      " 'watch manydot' 'thank ladi' 'ur easi' 'pattern wet' 'call person'\n",
      " 'onequestionmark work' 'suck hate' 'damn jet' 'retweet austin' 'onedot gr']\n"
     ]
    }
   ],
   "source": [
    "sorted_features = get_sorted_features(lr_pipe_extended.named_steps['transformers'], importance)\n",
    "print(sorted_features[:100])"
   ]
  },
  {
   "cell_type": "code",
   "execution_count": 497,
   "metadata": {
    "collapsed": false,
    "scrolled": true
   },
   "outputs": [],
   "source": [
    "k = 1000\n",
    "file_name = 'logisticregression' + str(k) + '.csv'\n",
    "kbest_array = sorted_features[:k]\n",
    "save_kbest(kbest_array, file_name)"
   ]
  },
  {
   "cell_type": "code",
   "execution_count": null,
   "metadata": {
    "collapsed": true
   },
   "outputs": [],
   "source": []
  },
  {
   "cell_type": "code",
   "execution_count": 414,
   "metadata": {
    "collapsed": false
   },
   "outputs": [],
   "source": [
    "# best_lrs['lsi'].named_steps['transformers'].named_steps['svd'].explained_variance_ratio_.sum()"
   ]
  },
  {
   "cell_type": "code",
   "execution_count": 415,
   "metadata": {
    "collapsed": false
   },
   "outputs": [],
   "source": [
    "# best_lrs['lsi'].named_steps['transformers'].named_steps['svd'].get_params()"
   ]
  },
  {
   "cell_type": "markdown",
   "metadata": {},
   "source": [
    "#### Linear SVM"
   ]
  },
  {
   "cell_type": "code",
   "execution_count": 465,
   "metadata": {
    "collapsed": false
   },
   "outputs": [
    {
     "ename": "KeyboardInterrupt",
     "evalue": "",
     "output_type": "error",
     "traceback": [
      "\u001b[0;31m---------------------------------------------------------------------------\u001b[0m",
      "\u001b[0;31mKeyboardInterrupt\u001b[0m                         Traceback (most recent call last)",
      "\u001b[0;32m<ipython-input-465-c9c9dc2604aa>\u001b[0m in \u001b[0;36m<module>\u001b[0;34m()\u001b[0m\n\u001b[1;32m      1\u001b[0m \u001b[0mclf_name\u001b[0m \u001b[0;34m=\u001b[0m \u001b[0;34m'lin_svm'\u001b[0m\u001b[0;34m\u001b[0m\u001b[0m\n\u001b[0;32m----> 2\u001b[0;31m \u001b[0mbest_lin_svms\u001b[0m\u001b[0;34m,\u001b[0m \u001b[0mlin_svm_scores\u001b[0m \u001b[0;34m=\u001b[0m \u001b[0msearch_best_clfs\u001b[0m\u001b[0;34m(\u001b[0m\u001b[0mclf_name\u001b[0m\u001b[0;34m,\u001b[0m \u001b[0mX_train_dict\u001b[0m\u001b[0;34m,\u001b[0m \u001b[0mX_test_dict\u001b[0m\u001b[0;34m)\u001b[0m\u001b[0;34m\u001b[0m\u001b[0m\n\u001b[0m",
      "\u001b[0;32m<ipython-input-335-d9d89db3b2cc>\u001b[0m in \u001b[0;36msearch_best_clfs\u001b[0;34m(clf_name, X_train_dict, X_test_dict, transformation, n_iter)\u001b[0m\n\u001b[1;32m     25\u001b[0m                                 cv=StratifiedKFold(n_splits=5, shuffle=True, random_state=10))\n\u001b[1;32m     26\u001b[0m \u001b[0;34m\u001b[0m\u001b[0m\n\u001b[0;32m---> 27\u001b[0;31m         \u001b[0mrs\u001b[0m\u001b[0;34m.\u001b[0m\u001b[0mfit\u001b[0m\u001b[0;34m(\u001b[0m\u001b[0mX_train\u001b[0m\u001b[0;34m,\u001b[0m \u001b[0my_train\u001b[0m\u001b[0;34m)\u001b[0m\u001b[0;34m\u001b[0m\u001b[0m\n\u001b[0m\u001b[1;32m     28\u001b[0m \u001b[0;34m\u001b[0m\u001b[0m\n\u001b[1;32m     29\u001b[0m         \u001b[0mbest_clfs\u001b[0m\u001b[0;34m.\u001b[0m\u001b[0mupdate\u001b[0m\u001b[0;34m(\u001b[0m\u001b[0;34m{\u001b[0m\u001b[0mtrans_name\u001b[0m\u001b[0;34m:\u001b[0m \u001b[0mrs\u001b[0m\u001b[0;34m.\u001b[0m\u001b[0mbest_estimator_\u001b[0m\u001b[0;34m}\u001b[0m\u001b[0;34m)\u001b[0m\u001b[0;34m\u001b[0m\u001b[0m\n",
      "\u001b[0;32m/home/kodolamacz/anaconda3/lib/python3.6/site-packages/sklearn/model_selection/_search.py\u001b[0m in \u001b[0;36mfit\u001b[0;34m(self, X, y, groups)\u001b[0m\n\u001b[1;32m   1188\u001b[0m                                           \u001b[0mself\u001b[0m\u001b[0;34m.\u001b[0m\u001b[0mn_iter\u001b[0m\u001b[0;34m,\u001b[0m\u001b[0;34m\u001b[0m\u001b[0m\n\u001b[1;32m   1189\u001b[0m                                           random_state=self.random_state)\n\u001b[0;32m-> 1190\u001b[0;31m         \u001b[0;32mreturn\u001b[0m \u001b[0mself\u001b[0m\u001b[0;34m.\u001b[0m\u001b[0m_fit\u001b[0m\u001b[0;34m(\u001b[0m\u001b[0mX\u001b[0m\u001b[0;34m,\u001b[0m \u001b[0my\u001b[0m\u001b[0;34m,\u001b[0m \u001b[0mgroups\u001b[0m\u001b[0;34m,\u001b[0m \u001b[0msampled_params\u001b[0m\u001b[0;34m)\u001b[0m\u001b[0;34m\u001b[0m\u001b[0m\n\u001b[0m",
      "\u001b[0;32m/home/kodolamacz/anaconda3/lib/python3.6/site-packages/sklearn/model_selection/_search.py\u001b[0m in \u001b[0;36m_fit\u001b[0;34m(self, X, y, groups, parameter_iterable)\u001b[0m\n\u001b[1;32m    562\u001b[0m                                   \u001b[0mreturn_times\u001b[0m\u001b[0;34m=\u001b[0m\u001b[0;32mTrue\u001b[0m\u001b[0;34m,\u001b[0m \u001b[0mreturn_parameters\u001b[0m\u001b[0;34m=\u001b[0m\u001b[0;32mTrue\u001b[0m\u001b[0;34m,\u001b[0m\u001b[0;34m\u001b[0m\u001b[0m\n\u001b[1;32m    563\u001b[0m                                   error_score=self.error_score)\n\u001b[0;32m--> 564\u001b[0;31m           \u001b[0;32mfor\u001b[0m \u001b[0mparameters\u001b[0m \u001b[0;32min\u001b[0m \u001b[0mparameter_iterable\u001b[0m\u001b[0;34m\u001b[0m\u001b[0m\n\u001b[0m\u001b[1;32m    565\u001b[0m           for train, test in cv_iter)\n\u001b[1;32m    566\u001b[0m \u001b[0;34m\u001b[0m\u001b[0m\n",
      "\u001b[0;32m/home/kodolamacz/anaconda3/lib/python3.6/site-packages/sklearn/externals/joblib/parallel.py\u001b[0m in \u001b[0;36m__call__\u001b[0;34m(self, iterable)\u001b[0m\n\u001b[1;32m    766\u001b[0m                 \u001b[0;31m# consumption.\u001b[0m\u001b[0;34m\u001b[0m\u001b[0;34m\u001b[0m\u001b[0m\n\u001b[1;32m    767\u001b[0m                 \u001b[0mself\u001b[0m\u001b[0;34m.\u001b[0m\u001b[0m_iterating\u001b[0m \u001b[0;34m=\u001b[0m \u001b[0;32mFalse\u001b[0m\u001b[0;34m\u001b[0m\u001b[0m\n\u001b[0;32m--> 768\u001b[0;31m             \u001b[0mself\u001b[0m\u001b[0;34m.\u001b[0m\u001b[0mretrieve\u001b[0m\u001b[0;34m(\u001b[0m\u001b[0;34m)\u001b[0m\u001b[0;34m\u001b[0m\u001b[0m\n\u001b[0m\u001b[1;32m    769\u001b[0m             \u001b[0;31m# Make sure that we get a last message telling us we are done\u001b[0m\u001b[0;34m\u001b[0m\u001b[0;34m\u001b[0m\u001b[0m\n\u001b[1;32m    770\u001b[0m             \u001b[0melapsed_time\u001b[0m \u001b[0;34m=\u001b[0m \u001b[0mtime\u001b[0m\u001b[0;34m.\u001b[0m\u001b[0mtime\u001b[0m\u001b[0;34m(\u001b[0m\u001b[0;34m)\u001b[0m \u001b[0;34m-\u001b[0m \u001b[0mself\u001b[0m\u001b[0;34m.\u001b[0m\u001b[0m_start_time\u001b[0m\u001b[0;34m\u001b[0m\u001b[0m\n",
      "\u001b[0;32m/home/kodolamacz/anaconda3/lib/python3.6/site-packages/sklearn/externals/joblib/parallel.py\u001b[0m in \u001b[0;36mretrieve\u001b[0;34m(self)\u001b[0m\n\u001b[1;32m    717\u001b[0m                     \u001b[0mensure_ready\u001b[0m \u001b[0;34m=\u001b[0m \u001b[0mself\u001b[0m\u001b[0;34m.\u001b[0m\u001b[0m_managed_backend\u001b[0m\u001b[0;34m\u001b[0m\u001b[0m\n\u001b[1;32m    718\u001b[0m                     \u001b[0mbackend\u001b[0m\u001b[0;34m.\u001b[0m\u001b[0mabort_everything\u001b[0m\u001b[0;34m(\u001b[0m\u001b[0mensure_ready\u001b[0m\u001b[0;34m=\u001b[0m\u001b[0mensure_ready\u001b[0m\u001b[0;34m)\u001b[0m\u001b[0;34m\u001b[0m\u001b[0m\n\u001b[0;32m--> 719\u001b[0;31m                 \u001b[0;32mraise\u001b[0m \u001b[0mexception\u001b[0m\u001b[0;34m\u001b[0m\u001b[0m\n\u001b[0m\u001b[1;32m    720\u001b[0m \u001b[0;34m\u001b[0m\u001b[0m\n\u001b[1;32m    721\u001b[0m     \u001b[0;32mdef\u001b[0m \u001b[0m__call__\u001b[0m\u001b[0;34m(\u001b[0m\u001b[0mself\u001b[0m\u001b[0;34m,\u001b[0m \u001b[0miterable\u001b[0m\u001b[0;34m)\u001b[0m\u001b[0;34m:\u001b[0m\u001b[0;34m\u001b[0m\u001b[0m\n",
      "\u001b[0;32m/home/kodolamacz/anaconda3/lib/python3.6/site-packages/sklearn/externals/joblib/parallel.py\u001b[0m in \u001b[0;36mretrieve\u001b[0;34m(self)\u001b[0m\n\u001b[1;32m    680\u001b[0m                 \u001b[0;31m# check if timeout supported in backend future implementation\u001b[0m\u001b[0;34m\u001b[0m\u001b[0;34m\u001b[0m\u001b[0m\n\u001b[1;32m    681\u001b[0m                 \u001b[0;32mif\u001b[0m \u001b[0;34m'timeout'\u001b[0m \u001b[0;32min\u001b[0m \u001b[0mgetfullargspec\u001b[0m\u001b[0;34m(\u001b[0m\u001b[0mjob\u001b[0m\u001b[0;34m.\u001b[0m\u001b[0mget\u001b[0m\u001b[0;34m)\u001b[0m\u001b[0;34m.\u001b[0m\u001b[0margs\u001b[0m\u001b[0;34m:\u001b[0m\u001b[0;34m\u001b[0m\u001b[0m\n\u001b[0;32m--> 682\u001b[0;31m                     \u001b[0mself\u001b[0m\u001b[0;34m.\u001b[0m\u001b[0m_output\u001b[0m\u001b[0;34m.\u001b[0m\u001b[0mextend\u001b[0m\u001b[0;34m(\u001b[0m\u001b[0mjob\u001b[0m\u001b[0;34m.\u001b[0m\u001b[0mget\u001b[0m\u001b[0;34m(\u001b[0m\u001b[0mtimeout\u001b[0m\u001b[0;34m=\u001b[0m\u001b[0mself\u001b[0m\u001b[0;34m.\u001b[0m\u001b[0mtimeout\u001b[0m\u001b[0;34m)\u001b[0m\u001b[0;34m)\u001b[0m\u001b[0;34m\u001b[0m\u001b[0m\n\u001b[0m\u001b[1;32m    683\u001b[0m                 \u001b[0;32melse\u001b[0m\u001b[0;34m:\u001b[0m\u001b[0;34m\u001b[0m\u001b[0m\n\u001b[1;32m    684\u001b[0m                     \u001b[0mself\u001b[0m\u001b[0;34m.\u001b[0m\u001b[0m_output\u001b[0m\u001b[0;34m.\u001b[0m\u001b[0mextend\u001b[0m\u001b[0;34m(\u001b[0m\u001b[0mjob\u001b[0m\u001b[0;34m.\u001b[0m\u001b[0mget\u001b[0m\u001b[0;34m(\u001b[0m\u001b[0;34m)\u001b[0m\u001b[0;34m)\u001b[0m\u001b[0;34m\u001b[0m\u001b[0m\n",
      "\u001b[0;32m/home/kodolamacz/anaconda3/lib/python3.6/multiprocessing/pool.py\u001b[0m in \u001b[0;36mget\u001b[0;34m(self, timeout)\u001b[0m\n\u001b[1;32m    600\u001b[0m \u001b[0;34m\u001b[0m\u001b[0m\n\u001b[1;32m    601\u001b[0m     \u001b[0;32mdef\u001b[0m \u001b[0mget\u001b[0m\u001b[0;34m(\u001b[0m\u001b[0mself\u001b[0m\u001b[0;34m,\u001b[0m \u001b[0mtimeout\u001b[0m\u001b[0;34m=\u001b[0m\u001b[0;32mNone\u001b[0m\u001b[0;34m)\u001b[0m\u001b[0;34m:\u001b[0m\u001b[0;34m\u001b[0m\u001b[0m\n\u001b[0;32m--> 602\u001b[0;31m         \u001b[0mself\u001b[0m\u001b[0;34m.\u001b[0m\u001b[0mwait\u001b[0m\u001b[0;34m(\u001b[0m\u001b[0mtimeout\u001b[0m\u001b[0;34m)\u001b[0m\u001b[0;34m\u001b[0m\u001b[0m\n\u001b[0m\u001b[1;32m    603\u001b[0m         \u001b[0;32mif\u001b[0m \u001b[0;32mnot\u001b[0m \u001b[0mself\u001b[0m\u001b[0;34m.\u001b[0m\u001b[0mready\u001b[0m\u001b[0;34m(\u001b[0m\u001b[0;34m)\u001b[0m\u001b[0;34m:\u001b[0m\u001b[0;34m\u001b[0m\u001b[0m\n\u001b[1;32m    604\u001b[0m             \u001b[0;32mraise\u001b[0m \u001b[0mTimeoutError\u001b[0m\u001b[0;34m\u001b[0m\u001b[0m\n",
      "\u001b[0;32m/home/kodolamacz/anaconda3/lib/python3.6/multiprocessing/pool.py\u001b[0m in \u001b[0;36mwait\u001b[0;34m(self, timeout)\u001b[0m\n\u001b[1;32m    597\u001b[0m \u001b[0;34m\u001b[0m\u001b[0m\n\u001b[1;32m    598\u001b[0m     \u001b[0;32mdef\u001b[0m \u001b[0mwait\u001b[0m\u001b[0;34m(\u001b[0m\u001b[0mself\u001b[0m\u001b[0;34m,\u001b[0m \u001b[0mtimeout\u001b[0m\u001b[0;34m=\u001b[0m\u001b[0;32mNone\u001b[0m\u001b[0;34m)\u001b[0m\u001b[0;34m:\u001b[0m\u001b[0;34m\u001b[0m\u001b[0m\n\u001b[0;32m--> 599\u001b[0;31m         \u001b[0mself\u001b[0m\u001b[0;34m.\u001b[0m\u001b[0m_event\u001b[0m\u001b[0;34m.\u001b[0m\u001b[0mwait\u001b[0m\u001b[0;34m(\u001b[0m\u001b[0mtimeout\u001b[0m\u001b[0;34m)\u001b[0m\u001b[0;34m\u001b[0m\u001b[0m\n\u001b[0m\u001b[1;32m    600\u001b[0m \u001b[0;34m\u001b[0m\u001b[0m\n\u001b[1;32m    601\u001b[0m     \u001b[0;32mdef\u001b[0m \u001b[0mget\u001b[0m\u001b[0;34m(\u001b[0m\u001b[0mself\u001b[0m\u001b[0;34m,\u001b[0m \u001b[0mtimeout\u001b[0m\u001b[0;34m=\u001b[0m\u001b[0;32mNone\u001b[0m\u001b[0;34m)\u001b[0m\u001b[0;34m:\u001b[0m\u001b[0;34m\u001b[0m\u001b[0m\n",
      "\u001b[0;32m/home/kodolamacz/anaconda3/lib/python3.6/threading.py\u001b[0m in \u001b[0;36mwait\u001b[0;34m(self, timeout)\u001b[0m\n\u001b[1;32m    549\u001b[0m             \u001b[0msignaled\u001b[0m \u001b[0;34m=\u001b[0m \u001b[0mself\u001b[0m\u001b[0;34m.\u001b[0m\u001b[0m_flag\u001b[0m\u001b[0;34m\u001b[0m\u001b[0m\n\u001b[1;32m    550\u001b[0m             \u001b[0;32mif\u001b[0m \u001b[0;32mnot\u001b[0m \u001b[0msignaled\u001b[0m\u001b[0;34m:\u001b[0m\u001b[0;34m\u001b[0m\u001b[0m\n\u001b[0;32m--> 551\u001b[0;31m                 \u001b[0msignaled\u001b[0m \u001b[0;34m=\u001b[0m \u001b[0mself\u001b[0m\u001b[0;34m.\u001b[0m\u001b[0m_cond\u001b[0m\u001b[0;34m.\u001b[0m\u001b[0mwait\u001b[0m\u001b[0;34m(\u001b[0m\u001b[0mtimeout\u001b[0m\u001b[0;34m)\u001b[0m\u001b[0;34m\u001b[0m\u001b[0m\n\u001b[0m\u001b[1;32m    552\u001b[0m             \u001b[0;32mreturn\u001b[0m \u001b[0msignaled\u001b[0m\u001b[0;34m\u001b[0m\u001b[0m\n\u001b[1;32m    553\u001b[0m \u001b[0;34m\u001b[0m\u001b[0m\n",
      "\u001b[0;32m/home/kodolamacz/anaconda3/lib/python3.6/threading.py\u001b[0m in \u001b[0;36mwait\u001b[0;34m(self, timeout)\u001b[0m\n\u001b[1;32m    293\u001b[0m         \u001b[0;32mtry\u001b[0m\u001b[0;34m:\u001b[0m    \u001b[0;31m# restore state no matter what (e.g., KeyboardInterrupt)\u001b[0m\u001b[0;34m\u001b[0m\u001b[0m\n\u001b[1;32m    294\u001b[0m             \u001b[0;32mif\u001b[0m \u001b[0mtimeout\u001b[0m \u001b[0;32mis\u001b[0m \u001b[0;32mNone\u001b[0m\u001b[0;34m:\u001b[0m\u001b[0;34m\u001b[0m\u001b[0m\n\u001b[0;32m--> 295\u001b[0;31m                 \u001b[0mwaiter\u001b[0m\u001b[0;34m.\u001b[0m\u001b[0macquire\u001b[0m\u001b[0;34m(\u001b[0m\u001b[0;34m)\u001b[0m\u001b[0;34m\u001b[0m\u001b[0m\n\u001b[0m\u001b[1;32m    296\u001b[0m                 \u001b[0mgotit\u001b[0m \u001b[0;34m=\u001b[0m \u001b[0;32mTrue\u001b[0m\u001b[0;34m\u001b[0m\u001b[0m\n\u001b[1;32m    297\u001b[0m             \u001b[0;32melse\u001b[0m\u001b[0;34m:\u001b[0m\u001b[0;34m\u001b[0m\u001b[0m\n",
      "\u001b[0;31mKeyboardInterrupt\u001b[0m: "
     ]
    }
   ],
   "source": [
    "clf_name = 'lin_svm'\n",
    "best_lin_svms, lin_svm_scores = search_best_clfs(clf_name, X_train_dict, X_test_dict, n_iter=3)"
   ]
  },
  {
   "cell_type": "code",
   "execution_count": null,
   "metadata": {
    "collapsed": true
   },
   "outputs": [],
   "source": [
    "lin_svm_scores"
   ]
  },
  {
   "cell_type": "code",
   "execution_count": null,
   "metadata": {
    "collapsed": true
   },
   "outputs": [],
   "source": [
    "for name, model in best_lin_svms.items():\n",
    "    file_name = name + '_linearsvm.p'\n",
    "    save_model(model, file_name)"
   ]
  },
  {
   "cell_type": "code",
   "execution_count": null,
   "metadata": {
    "collapsed": true
   },
   "outputs": [],
   "source": []
  },
  {
   "cell_type": "markdown",
   "metadata": {},
   "source": [
    "#### SVM with kernel RBF"
   ]
  },
  {
   "cell_type": "code",
   "execution_count": null,
   "metadata": {
    "collapsed": false
   },
   "outputs": [
    {
     "name": "stdout",
     "output_type": "stream",
     "text": [
      "tf\n"
     ]
    }
   ],
   "source": [
    "clf_name = 'rbf_svm'\n",
    "best_rbf_svms, rbf_svm_scores = search_best_clfs(clf_name, X_train_dict, X_test_dict, n_iter=4)"
   ]
  },
  {
   "cell_type": "code",
   "execution_count": 118,
   "metadata": {
    "collapsed": false
   },
   "outputs": [
    {
     "data": {
      "text/html": [
       "<div>\n",
       "<table border=\"1\" class=\"dataframe\">\n",
       "  <thead>\n",
       "    <tr style=\"text-align: right;\">\n",
       "      <th></th>\n",
       "      <th>svm_rbf_train</th>\n",
       "      <th>svm_rbf_test</th>\n",
       "    </tr>\n",
       "  </thead>\n",
       "  <tbody>\n",
       "    <tr>\n",
       "      <th>tf</th>\n",
       "      <td>0.994922</td>\n",
       "      <td>0.930937</td>\n",
       "    </tr>\n",
       "    <tr>\n",
       "      <th>tfidf</th>\n",
       "      <td>0.995703</td>\n",
       "      <td>0.932187</td>\n",
       "    </tr>\n",
       "    <tr>\n",
       "      <th>lsi</th>\n",
       "      <td>0.994219</td>\n",
       "      <td>0.925937</td>\n",
       "    </tr>\n",
       "    <tr>\n",
       "      <th>lda</th>\n",
       "      <td>0.783359</td>\n",
       "      <td>0.714688</td>\n",
       "    </tr>\n",
       "  </tbody>\n",
       "</table>\n",
       "</div>"
      ],
      "text/plain": [
       "       svm_rbf_train  svm_rbf_test\n",
       "tf          0.994922      0.930937\n",
       "tfidf       0.995703      0.932187\n",
       "lsi         0.994219      0.925937\n",
       "lda         0.783359      0.714688"
      ]
     },
     "execution_count": 118,
     "metadata": {},
     "output_type": "execute_result"
    }
   ],
   "source": [
    "rbf_svm_scores"
   ]
  },
  {
   "cell_type": "code",
   "execution_count": 340,
   "metadata": {
    "collapsed": true
   },
   "outputs": [],
   "source": [
    "for name, model in best_rbf_svms.items():\n",
    "    file_name = name + '_rbfsvm.p'\n",
    "    save_model(model, file_name)"
   ]
  },
  {
   "cell_type": "code",
   "execution_count": 347,
   "metadata": {
    "collapsed": false
   },
   "outputs": [
    {
     "name": "stdout",
     "output_type": "stream",
     "text": [
      "{'C': 3.8380999372657909,\n",
      " 'class_weight': None,\n",
      " 'dual': False,\n",
      " 'fit_intercept': True,\n",
      " 'intercept_scaling': 1,\n",
      " 'max_iter': 100,\n",
      " 'multi_class': 'ovr',\n",
      " 'n_jobs': 1,\n",
      " 'penalty': 'l2',\n",
      " 'random_state': None,\n",
      " 'solver': 'liblinear',\n",
      " 'tol': 0.0001,\n",
      " 'verbose': 0,\n",
      " 'warm_start': False}\n"
     ]
    }
   ],
   "source": [
    "pprint(best_rbf_svms['tf'].named_steps['clf'].get_params())"
   ]
  },
  {
   "cell_type": "code",
   "execution_count": 342,
   "metadata": {
    "collapsed": false
   },
   "outputs": [
    {
     "name": "stdout",
     "output_type": "stream",
     "text": [
      "{'C': 1.9940595970744734,\n",
      " 'class_weight': None,\n",
      " 'dual': False,\n",
      " 'fit_intercept': True,\n",
      " 'intercept_scaling': 1,\n",
      " 'max_iter': 100,\n",
      " 'multi_class': 'ovr',\n",
      " 'n_jobs': 1,\n",
      " 'penalty': 'l2',\n",
      " 'random_state': None,\n",
      " 'solver': 'liblinear',\n",
      " 'tol': 0.0001,\n",
      " 'verbose': 0,\n",
      " 'warm_start': False}\n"
     ]
    }
   ],
   "source": [
    "pprint(best_rbf_svms['tfidf'].named_steps['clf'].get_params())"
   ]
  },
  {
   "cell_type": "code",
   "execution_count": 343,
   "metadata": {
    "collapsed": false
   },
   "outputs": [
    {
     "name": "stdout",
     "output_type": "stream",
     "text": [
      "{'C': 3.884817013579597,\n",
      " 'class_weight': None,\n",
      " 'dual': False,\n",
      " 'fit_intercept': True,\n",
      " 'intercept_scaling': 1,\n",
      " 'max_iter': 100,\n",
      " 'multi_class': 'ovr',\n",
      " 'n_jobs': 1,\n",
      " 'penalty': 'l2',\n",
      " 'random_state': None,\n",
      " 'solver': 'liblinear',\n",
      " 'tol': 0.0001,\n",
      " 'verbose': 0,\n",
      " 'warm_start': False}\n"
     ]
    }
   ],
   "source": [
    "pprint(best_rbf_svms['lsi'].named_steps['clf'].get_params())"
   ]
  },
  {
   "cell_type": "code",
   "execution_count": 345,
   "metadata": {
    "collapsed": false
   },
   "outputs": [
    {
     "name": "stdout",
     "output_type": "stream",
     "text": [
      "{'C': 2.8310905729662865,\n",
      " 'class_weight': None,\n",
      " 'dual': False,\n",
      " 'fit_intercept': True,\n",
      " 'intercept_scaling': 1,\n",
      " 'max_iter': 100,\n",
      " 'multi_class': 'ovr',\n",
      " 'n_jobs': 1,\n",
      " 'penalty': 'l1',\n",
      " 'random_state': None,\n",
      " 'solver': 'liblinear',\n",
      " 'tol': 0.0001,\n",
      " 'verbose': 0,\n",
      " 'warm_start': False}\n"
     ]
    }
   ],
   "source": [
    "pprint(best_rbf_svms['lda'].named_steps['clf'].get_params())"
   ]
  },
  {
   "cell_type": "code",
   "execution_count": 348,
   "metadata": {
    "collapsed": false
   },
   "outputs": [
    {
     "data": {
      "image/png": "[encoded data removed]",
      "text/plain": [
       "<matplotlib.figure.Figure at 0x7fd9eeb784e0>"
      ]
     },
     "metadata": {},
     "output_type": "display_data"
    }
   ],
   "source": [
    "trans_name = 'tf'\n",
    "plot_validation_curve(estimator=clone(best_rbf_svms[trans_name]), X=X_train_dict[trans_name], y=y_train, \n",
    "                      param_name='clf__C', param_range=np.logspace(-3, 3, 7), x_scale='log')"
   ]
  },
  {
   "cell_type": "code",
   "execution_count": 388,
   "metadata": {
    "collapsed": false
   },
   "outputs": [
    {
     "name": "stdout",
     "output_type": "stream",
     "text": [
      "Tarining dataset: accuracy = 0.974\n",
      "Test dataset: accuracy = 0.872\n"
     ]
    }
   ],
   "source": [
    "trans_name = 'tf'\n",
    "rbf_svm_pipe = clone(best_rbf_svms[trans_name])\n",
    "rbf_svm_pipe.set_params(**{'clf__C': 1.})\n",
    "\n",
    "rbf_svm_pipe.fit(X_train_dict[trans_name], y_train);\n",
    "\n",
    "y_train_pred = rbf_svm_pipe.predict(X_train_dict[trans_name])\n",
    "y_test_pred = rbf_svm_pipe.predict(X_test_dict[trans_name])\n",
    "print('Tarining dataset: accuracy = %.3f' % accuracy_score(y_pred=y_train_pred, y_true=y_train))\n",
    "print('Test dataset: accuracy = %.3f' % accuracy_score(y_pred=y_test_pred, y_true=y_test))"
   ]
  },
  {
   "cell_type": "code",
   "execution_count": 389,
   "metadata": {
    "collapsed": false
   },
   "outputs": [
    {
     "data": {
      "image/png": "[encoded data removed]",
      "text/plain": [
       "<matplotlib.figure.Figure at 0x7fda0d0b5358>"
      ]
     },
     "metadata": {},
     "output_type": "display_data"
    },
    {
     "data": {
      "image/png": "[encoded data removed]",
      "text/plain": [
       "<matplotlib.figure.Figure at 0x7fd9eee454a8>"
      ]
     },
     "metadata": {},
     "output_type": "display_data"
    }
   ],
   "source": [
    "plot_confusion_matrix(y_train, y_train_pred)\n",
    "plot_confusion_matrix(y_test, y_test_pred)"
   ]
  },
  {
   "cell_type": "code",
   "execution_count": 390,
   "metadata": {
    "collapsed": false
   },
   "outputs": [
    {
     "data": {
      "image/png": "[encoded data removed]",
      "text/plain": [
       "<matplotlib.figure.Figure at 0x7fda11f71710>"
      ]
     },
     "metadata": {},
     "output_type": "display_data"
    }
   ],
   "source": [
    "plot_learning_curve(estimator=clone(rbf_svm_pipe), X=X_train_dict[trans_name], y=y_train)"
   ]
  },
  {
   "cell_type": "code",
   "execution_count": 96,
   "metadata": {
    "collapsed": false
   },
   "outputs": [
    {
     "name": "stdout",
     "output_type": "stream",
     "text": [
      "(16000,) (16000,)\n"
     ]
    }
   ],
   "source": [
    "X_extended = np.r_[X_train, X_test]\n",
    "y_extended = np.r_[y_train, y_test]\n",
    "print(X_extended.shape, y_extended.shape)"
   ]
  },
  {
   "cell_type": "code",
   "execution_count": 472,
   "metadata": {
    "collapsed": false
   },
   "outputs": [
    {
     "name": "stdout",
     "output_type": "stream",
     "text": [
      "[ 0.867  0.866  0.869  0.864  0.872]\n",
      "Validation: accuracy = 0.867\n"
     ]
    }
   ],
   "source": [
    "rbf_svm_pipe_extended = Pipeline([('transformers', clone(tf_pipe)),\n",
    "                                  ('clf', clone(rbf_svm_pipe.named_steps['clf']))])\n",
    "\n",
    "extended_scores = cross_val_score(lr_pipe_extended, X_extended, y_extended, scoring='accuracy', \n",
    "                                  cv=StratifiedKFold(n_splits=5, shuffle=True, random_state=10))\n",
    "print(np.round(extended_scores, 3))\n",
    "print('Validation: accuracy = %.3f' % extended_scores.mean())"
   ]
  },
  {
   "cell_type": "code",
   "execution_count": 490,
   "metadata": {
    "collapsed": false
   },
   "outputs": [
    {
     "name": "stdout",
     "output_type": "stream",
     "text": [
      "Tarining dataset: accuracy = 0.979\n"
     ]
    }
   ],
   "source": [
    "rbf_svm_pipe_extended.fit(X_extended, y_extended)\n",
    "y_extended_pred = rbf_svm_pipe_extended.predict(X_extended)\n",
    "print('Tarining dataset: accuracy = %.3f' % accuracy_score(y_pred=y_extended_pred, y_true=y_extended))"
   ]
  },
  {
   "cell_type": "code",
   "execution_count": 491,
   "metadata": {
    "collapsed": true
   },
   "outputs": [],
   "source": [
    "file_name = 'rbfsvm.p'\n",
    "model = rbf_svm_pipe_extended\n",
    "save_model(model, file_name)"
   ]
  },
  {
   "cell_type": "code",
   "execution_count": 494,
   "metadata": {
    "collapsed": false,
    "scrolled": true
   },
   "outputs": [
    {
     "name": "stdout",
     "output_type": "stream",
     "text": [
      "Feature: fuck annoy                Score:    6.603\n",
      "Feature: bitch cuz                 Score:    4.289\n",
      "Feature: gay card                  Score:    4.032\n",
      "Feature: hate are                  Score:    3.495\n",
      "Feature: emo haha                  Score:    3.485\n",
      "Feature: ass bad                   Score:    3.356\n",
      "Feature: onequestionmark better    Score:    3.244\n",
      "Feature: suck cock                 Score:    3.133\n",
      "Feature: damn australian           Score:    3.021\n",
      "Feature: loser market              Score:    2.782\n"
     ]
    }
   ],
   "source": [
    "importance = np.abs(rbf_svm_pipe_extended.named_steps['clf'].coef_[0, :])\n",
    "print_kbest(rbf_svm_pipe_extended.named_steps['transformers'], importance, 10)"
   ]
  },
  {
   "cell_type": "code",
   "execution_count": 496,
   "metadata": {
    "collapsed": false
   },
   "outputs": [
    {
     "name": "stdout",
     "output_type": "stream",
     "text": [
      "['fuck annoy' 'bitch cuz' 'gay card' 'hate are' 'emo haha' 'ass bad'\n",
      " 'onequestionmark better' 'suck cock' 'damn australian' 'loser market'\n",
      " 'fat burn' 'uh manyexclamationmark' 'whore oneexclamationmark'\n",
      " 'damn reply' 'cock my' 'ever felt' 'whuut' 'gay run'\n",
      " 'dick onequestionmark' 'emoticonhappyfac emoticonheart' 'dude ur'\n",
      " 'nerd know' 'realtor' 'nose onequestionmark' 'small' 'hate procrastin'\n",
      " 'pig part' 'whose would' 'holdin phone' 'cunt that' 'damn addressurl'\n",
      " 'hate myzou' 'suck they' 'two peopl' 'fail onedot' 'pussi wanna'\n",
      " 'danc around' 'slam' 'bitch though' 'what coincid' 'that that'\n",
      " 'whup emoticonhappyfac' 'like he' 'favorit music' 'abbey'\n",
      " 'freak oneexclamationmark' 'hate oneexclamationmark' 'shit get'\n",
      " 'failur anyway' 'think they' 'good onequestionmark' 'fuck boo' 'do realiz'\n",
      " \"damn i'm\" 'haha emoticonheart' 'admit it' 'bitch still' 'love em'\n",
      " 'gay rotfl' 'of hi' 'damn bama' 'lost bet' 'that ladi' 'hate free'\n",
      " 'know onequestionmark' 'smallest' 'retro' 'wow ohkay' 'awesom right'\n",
      " 'am allow' 'im defin' 'bitter' 'do call' 'oo' 'damn get' 'get head'\n",
      " 'it took' 'luxuri' 'audrey' 'suck shit' 'ass plate' 'off work' 'post'\n",
      " 'what' 'yo freak' 'gay mean' 'evilbeet' 'idk what' 'yea bomb' 'bummer'\n",
      " 'watch manydot' 'thank ladi' 'ur easi' 'pattern wet' 'call person'\n",
      " 'onequestionmark work' 'suck hate' 'damn jet' 'retweet austin' 'onedot gr']\n"
     ]
    }
   ],
   "source": [
    "sorted_features = get_sorted_features(rbf_svm_pipe_extended.named_steps['transformers'], importance)\n",
    "print(sorted_features[:100])"
   ]
  },
  {
   "cell_type": "code",
   "execution_count": 497,
   "metadata": {
    "collapsed": false,
    "scrolled": true
   },
   "outputs": [],
   "source": [
    "k = 1000\n",
    "file_name = 'rbfsvm' + str(k) + '.csv'\n",
    "kbest_array = sorted_features[:k]\n",
    "save_kbest(kbest_array, file_name)"
   ]
  },
  {
   "cell_type": "code",
   "execution_count": null,
   "metadata": {
    "collapsed": true
   },
   "outputs": [],
   "source": []
  },
  {
   "cell_type": "markdown",
   "metadata": {},
   "source": [
    "#### Decision Tree"
   ]
  },
  {
   "cell_type": "code",
   "execution_count": null,
   "metadata": {
    "collapsed": true
   },
   "outputs": [],
   "source": [
    "clf_name = 'dt'\n",
    "best_dts, dt_scores = search_best_clfs(clf_name, X_train_dict, X_test_dict, n_iter=4)"
   ]
  },
  {
   "cell_type": "markdown",
   "metadata": {},
   "source": [
    "#### K-Nearest Neighbors"
   ]
  },
  {
   "cell_type": "code",
   "execution_count": null,
   "metadata": {
    "collapsed": true
   },
   "outputs": [],
   "source": [
    "clf_name = 'knn'\n",
    "best_knns, knn_scores = search_best_clfs(clf_name, X_train_dict, X_test_dict, n_iter=4)"
   ]
  },
  {
   "cell_type": "code",
   "execution_count": null,
   "metadata": {
    "collapsed": true
   },
   "outputs": [],
   "source": []
  },
  {
   "cell_type": "code",
   "execution_count": null,
   "metadata": {
    "collapsed": true
   },
   "outputs": [],
   "source": [
    "clf_name = 'nb'\n",
    "best_nbs, nb_scores = search_best_clfs(clf_name, X_train_dict, X_test_dict, n_iter=4)"
   ]
  },
  {
   "cell_type": "code",
   "execution_count": null,
   "metadata": {
    "collapsed": true
   },
   "outputs": [],
   "source": [
    "clf_name = 'lda'\n",
    "best_ldas, lda_scores = search_best_clfs(clf_name, X_train_dict, X_test_dict, n_iter=4)"
   ]
  },
  {
   "cell_type": "code",
   "execution_count": null,
   "metadata": {
    "collapsed": true
   },
   "outputs": [],
   "source": [
    "clf_name = 'qda'\n",
    "best_qdas, qda_scores = search_best_clfs(clf_name, X_train_dict, X_test_dict, n_iter=4)"
   ]
  },
  {
   "cell_type": "code",
   "execution_count": null,
   "metadata": {
    "collapsed": true
   },
   "outputs": [],
   "source": []
  }
 ],
 "metadata": {
  "kernelspec": {
   "display_name": "Python 3",
   "language": "python",
   "name": "python3"
  },
  "language_info": {
   "codemirror_mode": {
    "name": "ipython",
    "version": 3
   },
   "file_extension": ".py",
   "mimetype": "text/x-python",
   "name": "python",
   "nbconvert_exporter": "python",
   "pygments_lexer": "ipython3",
   "version": "3.6.0"
  }
 },
 "nbformat": 4,
 "nbformat_minor": 2
}
