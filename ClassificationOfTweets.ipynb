{
 "cells": [
  {
   "cell_type": "markdown",
   "metadata": {},
   "source": [
    "## Problem: Detection of aggressive tweets"
   ]
  },
  {
   "cell_type": "markdown",
   "metadata": {},
   "source": [
    "Training dataset has 16000 tweets (in english) which are labeled (by human) as:\n",
    "* 1 (Cyber-Aggressive; 9714 items)\n",
    "* 0 (Non Cyber-Aggressive; 6286 items)"
   ]
  },
  {
   "cell_type": "markdown",
   "metadata": {},
   "source": [
    "# Classification of Tweets"
   ]
  },
  {
   "cell_type": "markdown",
   "metadata": {},
   "source": [
    "### Dividing data into the training and test part"
   ]
  },
  {
   "cell_type": "code",
   "execution_count": 1,
   "metadata": {},
   "outputs": [],
   "source": [
    "import pandas as pd\n",
    "import numpy as np\n",
    "from sklearn.model_selection import train_test_split"
   ]
  },
  {
   "cell_type": "code",
   "execution_count": 2,
   "metadata": {},
   "outputs": [],
   "source": [
    "data = pd.read_json('./Data/train.json')"
   ]
  },
  {
   "cell_type": "code",
   "execution_count": 3,
   "metadata": {},
   "outputs": [],
   "source": [
    "X = data.content\n",
    "y = data.label"
   ]
  },
  {
   "cell_type": "code",
   "execution_count": 4,
   "metadata": {},
   "outputs": [],
   "source": [
    "X_train, X_test, y_train, y_test = train_test_split(X, y, test_size=0.2, shuffle=True, random_state=0)"
   ]
  },
  {
   "cell_type": "markdown",
   "metadata": {},
   "source": [
    "### Advanced Preprocessing"
   ]
  },
  {
   "cell_type": "code",
   "execution_count": 181,
   "metadata": {},
   "outputs": [],
   "source": [
    "from sklearn.metrics import confusion_matrix\n",
    "import matplotlib.pyplot as plt\n",
    "import itertools"
   ]
  },
  {
   "cell_type": "code",
   "execution_count": 136,
   "metadata": {},
   "outputs": [],
   "source": [
    "def plot_confusion_matrix(y_true, y_pred):\n",
    "    conf_mat = confusion_matrix(y_true=y_true, y_pred=y_pred) / len(y_true)\n",
    "    \n",
    "    fig, ax = plt.subplots(figsize=(3, 3))    \n",
    "    ax.matshow(conf_mat, cmap=plt.cm.Greens, alpha=0.5)\n",
    "    \n",
    "    labels = np.unique(y_true)\n",
    "    for i, j in itertools.product(labels, repeat=len(labels)):\n",
    "        ax.annotate(s='%.2f' % conf_mat[i, j], xy=(j, i), va='center', ha='center')\n",
    "        \n",
    "    ax.set_xlabel('Predicted label', size=14)\n",
    "    ax.set_ylabel('Real label', size=14)\n",
    "    plt.show()"
   ]
  },
  {
   "cell_type": "code",
   "execution_count": 182,
   "metadata": {},
   "outputs": [],
   "source": [
    "from sklearn.base import TransformerMixin\n",
    "import nltk\n",
    "import string\n",
    "import re"
   ]
  },
  {
   "cell_type": "code",
   "execution_count": 199,
   "metadata": {},
   "outputs": [],
   "source": [
    "class AdvancedTextPreprocessor(TransformerMixin):\n",
    "    \n",
    "    def __init__(self, stopwords=[], punctuation=''):\n",
    "        self.stopwords = set(stopwords)\n",
    "        self.punctuation = set(punctuation)\n",
    "    \n",
    "    def fit(self, X, y=None):\n",
    "        return self\n",
    "    \n",
    "    def get_happy_emoticons(self, X, normalize=False):\n",
    "        # happy face or heart\n",
    "        regex = '[:;=8x]-?[)D\\\\]*]|<3'\n",
    "        emoticons = [' '.join(re.findall(regex, doc)) for doc in X]\n",
    "        \n",
    "        # normalize happy faces --> :)\n",
    "        if normalize:\n",
    "            emoticons = [re.sub('[;=8x]', ':', doc) for doc in emoticons]\n",
    "            emoticons = [re.sub('[D\\\\]*]', ')', doc) for doc in emoticons]\n",
    "            emoticons = [re.sub('-', '', doc) for doc in emoticons]\n",
    "            \n",
    "        return emoticons\n",
    "\n",
    "    def get_question_marks(self, X):\n",
    "        # one or more question marks\n",
    "        regex = '\\\\?{1,}'\n",
    "        question_marks = [' '.join(re.findall(regex, doc)) for doc in X]\n",
    "        return question_marks\n",
    "    \n",
    "    def transform(self, X):\n",
    "        stemmer = nltk.PorterStemmer()\n",
    "        \n",
    "        # keep happy faces and hearts\n",
    "        emoticons = self.get_happy_emoticons(X)\n",
    "        # keep one or more question marks\n",
    "        question_marks = self.get_question_marks(X)\n",
    "        \n",
    "        # convert to lowercase\n",
    "        X_lower = [doc.lower() for doc in X]\n",
    "        # split texts into words\n",
    "        X_tokenized = [nltk.word_tokenize(doc) for doc in X_lower]\n",
    "        # remove punctuation and stopwords\n",
    "        X_cleaned = [[token for token in doc_tokenized \n",
    "                      if token not in self.punctuation and token not in self.stopwords]\n",
    "                    for doc_tokenized in X_tokenized]\n",
    "        # leave stems of words\n",
    "        X_stemmed = [[stemmer.stem(token) for token in doc_tokenized]\n",
    "                    for doc_tokenized in X_cleaned]\n",
    "        # join list of stems, emoticons and question marks\n",
    "        X_preprocessed = [' '.join(doc_tokenized + [emoticons[i], question_marks[i]])\n",
    "                          for i, doc_tokenized in enumerate(X_stemmed)]\n",
    "        \n",
    "        return X_preprocessed"
   ]
  },
  {
   "cell_type": "code",
   "execution_count": 183,
   "metadata": {},
   "outputs": [],
   "source": [
    "from sklearn.pipeline import Pipeline\n",
    "from sklearn.feature_extraction.text import CountVectorizer\n",
    "from sklearn.preprocessing import MaxAbsScaler\n",
    "from sklearn.linear_model import LogisticRegression\n",
    "\n",
    "from sklearn.metrics import accuracy_score"
   ]
  },
  {
   "cell_type": "code",
   "execution_count": 212,
   "metadata": {},
   "outputs": [],
   "source": [
    "IRRELEVANT_STOPWORDS = pd.read_csv('./Data/irrelevant_stopwords.csv', header=None).T.values[0]\n",
    "PUNCTUATION = string.punctuation"
   ]
  },
  {
   "cell_type": "code",
   "execution_count": 207,
   "metadata": {},
   "outputs": [],
   "source": [
    "emoticon_regex = '[:;=8x]-?[)D\\\\]*]|<3'\n",
    "question_mark_regex = '\\\\?{1,}'\n",
    "advanced_token_pattern = '|'.join(['(?u)\\\\b'+ emoticon_regex, question_mark_regex, '\\\\w{2,}\\\\b'])\n",
    "\n",
    "pipe_advanced_baseline = Pipeline([\n",
    "                ('preprocessor', AdvancedTextPreprocessor(stopwords=IRRELEVANT_STOPWORDS, \n",
    "                                                          punctuation=PUNCTUATION)),\n",
    "                ('vectorizer', CountVectorizer(token_pattern=advanced_token_pattern)),\n",
    "                ('scaler', MaxAbsScaler()),\n",
    "                ('clf', LogisticRegression(penalty='l2', C=1.0))\n",
    "                ])"
   ]
  },
  {
   "cell_type": "code",
   "execution_count": 208,
   "metadata": {},
   "outputs": [
    {
     "data": {
      "text/plain": [
       "Pipeline(memory=None,\n",
       "     steps=[('preprocessor', <__main__.AdvancedTextPreprocessor object at 0x0000024320996550>), ('vectorizer', CountVectorizer(analyzer='word', binary=False, decode_error='strict',\n",
       "        dtype=<class 'numpy.int64'>, encoding='utf-8', input='content',\n",
       "        lowercase=True, max_df=1.0, max_features=Non...ty='l2', random_state=None, solver='liblinear', tol=0.0001,\n",
       "          verbose=0, warm_start=False))])"
      ]
     },
     "execution_count": 208,
     "metadata": {},
     "output_type": "execute_result"
    }
   ],
   "source": [
    "pipe_advanced_baseline.fit(X_train, y_train)"
   ]
  },
  {
   "cell_type": "code",
   "execution_count": 209,
   "metadata": {},
   "outputs": [],
   "source": [
    "y_train_pred = pipe_advanced_baseline.predict(X_train)\n",
    "y_test_pred = pipe_advanced_baseline.predict(X_test)"
   ]
  },
  {
   "cell_type": "markdown",
   "metadata": {},
   "source": [
    "Slight improvement (baseline model: accuracy = 0.792)"
   ]
  },
  {
   "cell_type": "code",
   "execution_count": 210,
   "metadata": {},
   "outputs": [
    {
     "name": "stdout",
     "output_type": "stream",
     "text": [
      "Tarining dataset: accuracy = 0.907\n",
      "Test dataset: accuracy = 0.799\n"
     ]
    }
   ],
   "source": [
    "print('Tarining dataset: accuracy = %.3f' % accuracy_score(y_pred=y_train_pred, y_true=y_train))\n",
    "print('Test dataset: accuracy = %.3f' % accuracy_score(y_pred=y_test_pred, y_true=y_test))"
   ]
  },
  {
   "cell_type": "code",
   "execution_count": 211,
   "metadata": {},
   "outputs": [
    {
     "data": {
      "image/png": "[encoded data removed]",
      "text/plain": [
       "<matplotlib.figure.Figure at 0x2432097d630>"
      ]
     },
     "metadata": {},
     "output_type": "display_data"
    }
   ],
   "source": [
    "plot_confusion_matrix(y_train, y_train_pred)"
   ]
  },
  {
   "cell_type": "code",
   "execution_count": null,
   "metadata": {},
   "outputs": [],
   "source": []
  }
 ],
 "metadata": {
  "kernelspec": {
   "display_name": "Python [default]",
   "language": "python",
   "name": "python3"
  },
  "language_info": {
   "codemirror_mode": {
    "name": "ipython",
    "version": 3
   },
   "file_extension": ".py",
   "mimetype": "text/x-python",
   "name": "python",
   "nbconvert_exporter": "python",
   "pygments_lexer": "ipython3",
   "version": "3.6.4"
  }
 },
 "nbformat": 4,
 "nbformat_minor": 2
}
