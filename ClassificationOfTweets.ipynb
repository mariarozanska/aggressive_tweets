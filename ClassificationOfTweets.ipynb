{
 "cells": [
  {
   "cell_type": "markdown",
   "metadata": {},
   "source": [
    "## Problem: Detection of aggressive tweets"
   ]
  },
  {
   "cell_type": "markdown",
   "metadata": {},
   "source": [
    "Training dataset has 12776 tweets (in english) and validation dataset has 3194 tweets.<br/>\n",
    "Tweets are labeled (by human) as:\n",
    "* 1 (Cyber-Aggressive)\n",
    "* 0 (Non Cyber-Aggressive)"
   ]
  },
  {
   "cell_type": "markdown",
   "metadata": {},
   "source": [
    "# Classification of Tweets"
   ]
  },
  {
   "cell_type": "markdown",
   "metadata": {},
   "source": [
    "## Data"
   ]
  },
  {
   "cell_type": "code",
   "execution_count": 1,
   "metadata": {},
   "outputs": [],
   "source": [
    "import pandas as pd\n",
    "import numpy as np"
   ]
  },
  {
   "cell_type": "code",
   "execution_count": 2,
   "metadata": {},
   "outputs": [],
   "source": [
    "data_train = pd.read_json('./Data/train.json')\n",
    "data_valid = pd.read_json('./Data/valid.json')"
   ]
  },
  {
   "cell_type": "code",
   "execution_count": 3,
   "metadata": {},
   "outputs": [],
   "source": [
    "X_train = data_train.content\n",
    "y_train = data_train.label\n",
    "X_test = data_valid.content\n",
    "y_test = data_valid.label"
   ]
  },
  {
   "cell_type": "code",
   "execution_count": 4,
   "metadata": {},
   "outputs": [
    {
     "name": "stdout",
     "output_type": "stream",
     "text": [
      "(15970,) (15970,)\n"
     ]
    }
   ],
   "source": [
    "X_extended = np.r_[X_train, X_test]\n",
    "y_extended = np.r_[y_train, y_test]\n",
    "print(X_extended.shape, y_extended.shape)"
   ]
  },
  {
   "cell_type": "markdown",
   "metadata": {},
   "source": [
    "## Preprocessing"
   ]
  },
  {
   "cell_type": "code",
   "execution_count": 6,
   "metadata": {},
   "outputs": [],
   "source": [
    "import nltk\n",
    "import re\n",
    "\n",
    "from sklearn.pipeline import Pipeline\n",
    "from sklearn.pipeline import FeatureUnion\n",
    "from mytextpreprocessing import TextPreprocessor\n",
    "from mytextpreprocessing import FrequencyExtractor\n",
    "from mytextpreprocessing import SimilarityToAggressiveTweets\n",
    "from sklearn.feature_extraction.text import CountVectorizer\n",
    "from sklearn.preprocessing import MaxAbsScaler\n",
    "from sklearn.linear_model import LogisticRegression\n",
    "from sklearn.ensemble import RandomForestClassifier\n",
    "\n",
    "from sklearn.metrics import accuracy_score\n",
    "from sklearn.metrics import roc_auc_score, roc_curve\n",
    "\n",
    "from myutils import *"
   ]
  },
  {
   "cell_type": "code",
   "execution_count": 7,
   "metadata": {},
   "outputs": [],
   "source": [
    "# nltk.download()"
   ]
  },
  {
   "cell_type": "code",
   "execution_count": 8,
   "metadata": {},
   "outputs": [],
   "source": [
    "def print_accuracy(pipe, X):\n",
    "    pipe.fit(X, y_train);\n",
    "\n",
    "    y_train_pred = pipe.predict(X)\n",
    "    y_test_pred = pipe.predict(X_test)\n",
    "\n",
    "    print('Tarining dataset: accuracy = %.3f' % accuracy_score(y_pred=y_train_pred, y_true=y_train))\n",
    "    print('Test dataset: accuracy = %.3f' % accuracy_score(y_pred=y_test_pred, y_true=y_test))"
   ]
  },
  {
   "cell_type": "markdown",
   "metadata": {},
   "source": [
    "Additional features give some infromation (the accuracy is higher than the contribution of class 0)"
   ]
  },
  {
   "cell_type": "code",
   "execution_count": 9,
   "metadata": {},
   "outputs": [
    {
     "name": "stdout",
     "output_type": "stream",
     "text": [
      "Train: 0.6032\n",
      "Test: 0.6183\n"
     ]
    }
   ],
   "source": [
    "print('Train: {:.4f}'.format(1 - y_train.mean()))\n",
    "print('Test: {:.4f}'.format(1 - y_test.mean()))"
   ]
  },
  {
   "cell_type": "code",
   "execution_count": 10,
   "metadata": {},
   "outputs": [
    {
     "name": "stdout",
     "output_type": "stream",
     "text": [
      "Tarining dataset: accuracy = 0.608\n",
      "Test dataset: accuracy = 0.628\n"
     ]
    }
   ],
   "source": [
    "test_pipe = Pipeline([('feats', FrequencyExtractor()),\n",
    "                      ('clf', LogisticRegression(penalty='l2', C=1.0))\n",
    "                     ])\n",
    "\n",
    "print_accuracy(test_pipe, X_train)"
   ]
  },
  {
   "cell_type": "markdown",
   "metadata": {},
   "source": [
    "Text normalization does not improve the results"
   ]
  },
  {
   "cell_type": "code",
   "execution_count": 9,
   "metadata": {},
   "outputs": [],
   "source": [
    "token_pattern = '(?u)\\\\b[a-z][a-z\\'*]+\\\\b'"
   ]
  },
  {
   "cell_type": "code",
   "execution_count": 12,
   "metadata": {},
   "outputs": [
    {
     "name": "stdout",
     "output_type": "stream",
     "text": [
      "Tarining dataset: accuracy = 0.924\n",
      "Test dataset: accuracy = 0.816\n",
      "============================================\n",
      "Tarining dataset: accuracy = 0.924\n",
      "Test dataset: accuracy = 0.812\n"
     ]
    }
   ],
   "source": [
    "test_pipe = Pipeline([('vectorizer', CountVectorizer(token_pattern=token_pattern)),\n",
    "                      ('scaler', MaxAbsScaler()),\n",
    "                      ('clf', LogisticRegression(penalty='l2', C=1.0))])\n",
    "\n",
    "print_accuracy(test_pipe, X_train)\n",
    "print('============================================')\n",
    "X_train_normalized = TextPreprocessor().fit_transform(X_train)\n",
    "print_accuracy(test_pipe, X_train_normalized)"
   ]
  },
  {
   "cell_type": "code",
   "execution_count": 13,
   "metadata": {},
   "outputs": [
    {
     "name": "stdout",
     "output_type": "stream",
     "text": [
      "Tarining dataset: accuracy = 0.988\n",
      "Test dataset: accuracy = 0.887\n",
      "============================================\n",
      "Tarining dataset: accuracy = 0.992\n",
      "Test dataset: accuracy = 0.881\n"
     ]
    }
   ],
   "source": [
    "test_pipe = Pipeline([('vectorizer', CountVectorizer(token_pattern=token_pattern, ngram_range=(1, 2))),\n",
    "                      ('scaler', MaxAbsScaler()),\n",
    "                      ('clf', LogisticRegression(penalty='l2', C=1.0))])\n",
    "\n",
    "print_accuracy(test_pipe, X_train)\n",
    "print('============================================')\n",
    "X_train_normalized = TextPreprocessor().fit_transform(X_train)\n",
    "print_accuracy(test_pipe, X_train_normalized)"
   ]
  },
  {
   "cell_type": "markdown",
   "metadata": {},
   "source": [
    "Text normalization is useful to reduce number of fetures"
   ]
  },
  {
   "cell_type": "markdown",
   "metadata": {},
   "source": [
    "There are many words which occur only once because tweets:\n",
    "- are short and related to different topics,\n",
    "- are not official, so they have many typos and nonexistent words."
   ]
  },
  {
   "cell_type": "code",
   "execution_count": 10,
   "metadata": {},
   "outputs": [],
   "source": [
    "STOPWORDS = nltk.corpus.stopwords.words('english')\n",
    "IRRELEVANT_STOPWORDS = list(pd.read_csv('./Data/irrelevant_stopwords.csv', header=None)[0].values)"
   ]
  },
  {
   "cell_type": "code",
   "execution_count": 15,
   "metadata": {},
   "outputs": [
    {
     "name": "stdout",
     "output_type": "stream",
     "text": [
      "Number of features: 13231\n",
      "Number of single words: 6344\n",
      "Ratio = 0.479\n"
     ]
    }
   ],
   "source": [
    "dtm = CountVectorizer(token_pattern=token_pattern).fit_transform(X_train)\n",
    "\n",
    "print('Number of features: %i' % dtm.shape[1])\n",
    "inds = np.argwhere(dtm.sum(axis=0) == 1)[:, 1]\n",
    "print('Number of single words: %i' % inds.shape[0])\n",
    "print('Ratio = %.3f' % (inds.shape[0] / dtm.shape[1],))"
   ]
  },
  {
   "cell_type": "code",
   "execution_count": 21,
   "metadata": {},
   "outputs": [
    {
     "name": "stdout",
     "output_type": "stream",
     "text": [
      "Number of features: 12744\n",
      "Number of single words: 6004\n",
      "Ratio = 0.471\n"
     ]
    }
   ],
   "source": [
    "# normalization\n",
    "test_pipe = Pipeline([('preprocessor', TextPreprocessor(process='', \n",
    "                                                        stopwords=[])),\n",
    "                      ('vectorizer', CountVectorizer(token_pattern=token_pattern))])\n",
    "dtm = test_pipe.fit_transform(X_train)\n",
    "\n",
    "print('Number of features: %i' % dtm.shape[1])\n",
    "inds = np.argwhere(dtm.sum(axis=0) == 1)[:, 1]\n",
    "print('Number of single words: %i' % inds.shape[0])\n",
    "print('Ratio = %.3f' % (inds.shape[0] / dtm.shape[1],))"
   ]
  },
  {
   "cell_type": "code",
   "execution_count": 22,
   "metadata": {},
   "outputs": [
    {
     "data": {
      "text/plain": [
       "array([\"a's\", 'aa', 'aaron', 'aaronage', 'aawwhh', 'ab', 'abandon',\n",
       "       'abcdefghijklmnopqrstuvwxyz', 'abducted', 'abide', 'abilities',\n",
       "       'aboard', 'abou', 'abouht', 'aboutt', 'abraham', 'abrams',\n",
       "       'absess', 'absolute', 'abundance', 'ac', 'acai', 'accidents',\n",
       "       'accommodate', 'accomplished', 'accomplishment', 'accountability',\n",
       "       'accountable', 'accountt', 'accpet', 'accumulating', 'accuracy',\n",
       "       'accurately', 'accuse', 'aches', 'aching', 'achingly', 'ack',\n",
       "       'acne', 'acoustic', 'acronym', 'activesync', 'activist',\n",
       "       'activity', 'actors', 'acts', 'actualy', 'actvities', 'acutely',\n",
       "       'adangta', 'adapt', 'adchifying', 'addies', 'adedd', 'adidas',\n",
       "       'adium', 'adjustment', 'adjustments', 'administration', 'admitted',\n",
       "       'adonis', 'adriane', 'adrianne', 'adtrotrain', 'adventures',\n",
       "       'advertise', 'adverts', 'aeongotbeats', 'aerial', 'aerodynamic',\n",
       "       'affligem', 'afl', 'afriad', 'african', 'afro', 'aft', 'aftermath',\n",
       "       'afterparty', 'aged', 'agency', 'aggress', 'aggressive', 'agh',\n",
       "       'agin', 'aging', 'agreat', 'ahaa', 'ahaah', 'ahhaaha', 'ahve',\n",
       "       'aight', 'aiint', 'ails', 'ain', 'airsoft', 'aite', 'aj', 'ajula',\n",
       "       'ajung', 'akamonty', 'akc', 'akekeke', 'akismet', 'alameda',\n",
       "       'alanis', 'alb', 'alchy', 'aleak', 'alejandro', 'alergic', 'alex',\n",
       "       'alexa', 'alexander', 'alexisnicolehodnett', 'alexiss', \"alix's\",\n",
       "       \"all's\", 'allangoesdmb', 'allegations', 'allergic', 'allergies',\n",
       "       'alliance', 'alligators', 'allstate', 'alltime', 'almighty',\n",
       "       'almosr', 'aloha', 'alors', 'alott', 'alotta', 'alphabet',\n",
       "       'alpine', 'alraedy', 'alreadya', 'alrightt', 'alrightyy', 'alrite',\n",
       "       'alter', 'alternate', 'alternatives', 'alternator', 'aluminum',\n",
       "       'alwyz', 'alxeander', 'alybrooke', 'alynndeluc', 'amaretto',\n",
       "       'amarok', 'amasing'], dtype='<U53')"
      ]
     },
     "execution_count": 22,
     "metadata": {},
     "output_type": "execute_result"
    }
   ],
   "source": [
    "# words which occur only once\n",
    "np.array(test_pipe.named_steps['vectorizer'].get_feature_names())[inds][:150]"
   ]
  },
  {
   "cell_type": "code",
   "execution_count": 17,
   "metadata": {},
   "outputs": [
    {
     "name": "stdout",
     "output_type": "stream",
     "text": [
      "Number of features: 9928\n",
      "Number of single words: 4435\n",
      "Ratio = 0.447\n"
     ]
    }
   ],
   "source": [
    "# normalization + stemming\n",
    "test_pipe = Pipeline([('preprocessor', TextPreprocessor(process='stem', \n",
    "                                                        stopwords=IRRELEVANT_STOPWORDS)),\n",
    "                      ('vectorizer', CountVectorizer(token_pattern=token_pattern))])\n",
    "dtm = test_pipe.fit_transform(X_train)\n",
    "\n",
    "print('Number of features: %i' % dtm.shape[1])\n",
    "inds = np.argwhere(dtm.sum(axis=0) == 1)[:, 1]\n",
    "print('Number of single words: %i' % inds.shape[0])\n",
    "print('Ratio = %.3f' % (inds.shape[0] / dtm.shape[1],))"
   ]
  },
  {
   "cell_type": "code",
   "execution_count": 18,
   "metadata": {},
   "outputs": [
    {
     "data": {
      "text/plain": [
       "array(['aa', 'aaron', 'aaronag', 'aawwhh', 'ab', 'abandon',\n",
       "       'abcdefghijklmnopqrstuvwxyz', 'abduct', 'abid', 'aboard', 'abou',\n",
       "       'abouht', 'aboutt', 'abraham', 'abram', 'absess', 'abund', 'ac',\n",
       "       'acai', 'accommod', 'accountt', 'accpet', 'accumul', 'accuraci',\n",
       "       'accus', 'achingli', 'ack', 'acn', 'acoust', 'acronym',\n",
       "       'activesync', 'activist', 'actuali', 'actviti', 'acut', 'adangta',\n",
       "       'adapt', 'adchifi', 'addi', 'adedd', 'adida', 'adium', 'administr',\n",
       "       'adoni', 'adrian', 'adriann', 'adtrotrain', 'advert',\n",
       "       'aeongotbeat', 'aerial', 'aerodynam', 'affligem', 'afl', 'afriad',\n",
       "       'african', 'afro', 'aft', 'aftermath', 'afterparti', 'again',\n",
       "       'agenc', 'agh', 'agin', 'agreat', 'ahaa', 'ahaah', 'ahhaaha',\n",
       "       'ahv', 'aight', 'aiint', 'ail', 'airsoft', 'ait', 'ajula', 'ajung',\n",
       "       'akamonti', 'akc', 'akekek', 'akismet', 'alameda', 'alani', 'alb',\n",
       "       'alchi', 'aleak', 'alejandro', 'alerg', 'alex', 'alexa', 'alexand',\n",
       "       'alexisnicolehodnett', 'alexiss', 'all', 'allangoesdmb', 'alleg',\n",
       "       'allerg', 'allergi', 'allianc', 'allig', 'allstat', 'alltim',\n",
       "       'almighti', 'almosr', 'aloha', 'alor', 'alott', 'alotta',\n",
       "       'alphabet', 'alpin', 'alraedi', 'alreadya', 'alrightt',\n",
       "       'alrightyy', 'alrit', 'alter', 'aluminum', 'alwyz', 'alxeand',\n",
       "       'alybrook', 'alynndeluc', 'amaretto', 'amarok', 'amas', 'amateur',\n",
       "       'amazingg', 'amber', 'ambul', 'amd', 'amel', 'amend', 'amici',\n",
       "       'amish', 'amnesia', 'amp', 'analog', 'analysi', 'analyst',\n",
       "       'analyt', 'andd', 'andrea', 'andyuhrlik', 'ane', 'angela',\n",
       "       'angelzilla', 'angl', 'angst', 'angu', 'ani', 'anit', 'anndgummi',\n",
       "       'anni'], dtype='<U53')"
      ]
     },
     "execution_count": 18,
     "metadata": {},
     "output_type": "execute_result"
    }
   ],
   "source": [
    "# words which occur only once\n",
    "np.array(test_pipe.named_steps['vectorizer'].get_feature_names())[inds][:150]"
   ]
  },
  {
   "cell_type": "code",
   "execution_count": 19,
   "metadata": {},
   "outputs": [
    {
     "name": "stdout",
     "output_type": "stream",
     "text": [
      "Number of features: 10946\n",
      "Number of single words: 5205\n",
      "Ratio = 0.476\n"
     ]
    }
   ],
   "source": [
    "# normalization + lemmatization\n",
    "test_pipe = Pipeline([('preprocessor', TextPreprocessor(process='lem', \n",
    "                                                        stopwords=IRRELEVANT_STOPWORDS)),\n",
    "                      ('vectorizer', CountVectorizer(token_pattern=token_pattern))])\n",
    "dtm = test_pipe.fit_transform(X_train)\n",
    "\n",
    "print('Number of features: %i' % dtm.shape[1])\n",
    "inds = np.argwhere(dtm.sum(axis=0) == 1)[:, 1]\n",
    "print('Number of single words: %i' % inds.shape[0])\n",
    "print('Ratio = %.3f' % (inds.shape[0] / dtm.shape[1],))"
   ]
  },
  {
   "cell_type": "code",
   "execution_count": 20,
   "metadata": {},
   "outputs": [
    {
     "data": {
      "text/plain": [
       "array([\"a's\", 'aa', 'aaron', 'aaronage', 'aawwhh', 'ab', 'abandon',\n",
       "       'abcdefghijklmnopqrstuvwxyz', 'abducted', 'abide', 'aboard',\n",
       "       'abou', 'abouht', 'aboutt', 'abraham', 'abrams', 'absess',\n",
       "       'absolute', 'abundance', 'ac', 'acai', 'accommodate', 'accomplish',\n",
       "       'accomplishment', 'accountability', 'accountable', 'accountt',\n",
       "       'accpet', 'accumulate', 'accuracy', 'accurately', 'accuse',\n",
       "       'achingly', 'ack', 'acne', 'acoustic', 'acronym', 'activesync',\n",
       "       'activist', 'activity', 'actualy', 'actvities', 'acutely',\n",
       "       'adangta', 'adapt', 'adchifying', 'addies', 'adedd', 'adidas',\n",
       "       'adium', 'administration', 'adonis', 'adriane', 'adrianne',\n",
       "       'adtrotrain', 'advertising', 'adverts', 'aeongotbeats', 'aerial',\n",
       "       'aerodynamic', 'affligem', 'afl', 'afriad', 'african', 'afro',\n",
       "       'aft', 'aftermath', 'afterparty', 'again', 'agency', 'aggress',\n",
       "       'aggressive', 'agh', 'agin', 'agreat', 'ahaa', 'ahaah', 'ahhaaha',\n",
       "       'ahve', 'aight', 'aiint', 'ails', 'airsoft', 'aite', 'aj', 'ajula',\n",
       "       'ajung', 'akamonty', 'akc', 'akekeke', 'akismet', 'alameda',\n",
       "       'alanis', 'alb', 'alchy', 'aleak', 'alejandro', 'alergic', 'alex',\n",
       "       'alexa', 'alexander', 'alexisnicolehodnett', 'alexiss', \"alix's\",\n",
       "       \"all's\", 'allangoesdmb', 'allegation', 'allergic', 'allergy',\n",
       "       'alliance', 'alligators', 'allstate', 'alltime', 'almighty',\n",
       "       'almosr', 'aloha', 'alors', 'alott', 'alotta', 'alphabet',\n",
       "       'alpine', 'alraedy', 'alreadya', 'alrightt', 'alrightyy', 'alrite',\n",
       "       'alter', 'alternate', 'alternative', 'alternator', 'aluminum',\n",
       "       'alwyz', 'alxeander', 'alybrooke', 'alynndeluc', 'amaretto',\n",
       "       'amarok', 'amasing', 'amateur', 'amazes', 'amazingg', 'amber',\n",
       "       'ambulance', 'amd', 'amel', 'amendment', \"america's\", 'americas',\n",
       "       'amici', 'amish'], dtype='<U53')"
      ]
     },
     "execution_count": 20,
     "metadata": {},
     "output_type": "execute_result"
    }
   ],
   "source": [
    "# words which occur only once\n",
    "np.array(test_pipe.named_steps['vectorizer'].get_feature_names())[inds][:150]"
   ]
  },
  {
   "cell_type": "markdown",
   "metadata": {},
   "source": [
    "## Advanced (baseline) model"
   ]
  },
  {
   "cell_type": "code",
   "execution_count": 11,
   "metadata": {},
   "outputs": [],
   "source": [
    "tag_list = ['NOUN_r', 'VERB_r', 'ADJ_r', 'ADV_r', 'PRON_r', 'DET_r',\n",
    "                'ADP_r', 'NUM_r', 'CONJ_r', 'PRT_r', '._r', 'X_r']\n",
    "freq_name_list = ['repeatingletters_r', 'uppercase_r', 'firstcapital_r'] + tag_list\n",
    "\n",
    "def get_sorted_features(trans_pipe, selector_scores):\n",
    "    inds = np.argsort(selector_scores)[::-1]\n",
    "    word_list = list(trans_pipe.named_steps['features'].transformer_list[1][1].\\\n",
    "                     named_steps['vectorizer'].get_feature_names())\n",
    "    sorted_features = np.array(freq_name_list + word_list)[inds]\n",
    "    return sorted_features\n",
    "\n",
    "def get_sorted_counts(trans_pipe, selector_scores, X):\n",
    "    inds = np.argsort(selector_scores)[::-1]\n",
    "    X_preprocessed = trans_pipe.named_steps['features'].transform(X).toarray()\n",
    "    sorted_counts = (X_preprocessed != 0).sum(axis=0)[inds]\n",
    "    return sorted_counts\n",
    "\n",
    "def print_kbest(trans_pipe, selector_scores, k, X):\n",
    "    sorted_scores = np.sort(selector_scores)[::-1]\n",
    "    sorted_features = get_sorted_features(trans_pipe, selector_scores)\n",
    "    sorted_count = get_sorted_counts(trans_pipe, selector_scores, X)\n",
    "    for i in range(k):\n",
    "        print('Feature: {0:20s} Score: {1:8.3f}\\tCount: {2:6d}'.\\\n",
    "              format(sorted_features[i], sorted_scores[i], sorted_count[i]))"
   ]
  },
  {
   "cell_type": "markdown",
   "metadata": {},
   "source": [
    "### LogisticRegression"
   ]
  },
  {
   "cell_type": "code",
   "execution_count": 24,
   "metadata": {},
   "outputs": [],
   "source": [
    "# stemming\n",
    "stem_pipe = Pipeline([\n",
    "    ('features', FeatureUnion([\n",
    "            ('numerical_feats', FrequencyExtractor()),    \n",
    "            ('text_feats', Pipeline([('preprocessor', TextPreprocessor(stopwords=IRRELEVANT_STOPWORDS, \n",
    "                                                                       process='stem')),\n",
    "                                     ('vectorizer', CountVectorizer(token_pattern=token_pattern, min_df=2))\n",
    "                                    ]))\n",
    "            ])),\n",
    "    ('scaler', MaxAbsScaler())\n",
    "    ])"
   ]
  },
  {
   "cell_type": "code",
   "execution_count": 25,
   "metadata": {},
   "outputs": [],
   "source": [
    "X_train_stem_preprocessed = stem_pipe.fit_transform(X_train)\n",
    "X_test_stem_preprocessed = stem_pipe.transform(X_test)"
   ]
  },
  {
   "cell_type": "code",
   "execution_count": 26,
   "metadata": {
    "scrolled": true
   },
   "outputs": [
    {
     "data": {
      "text/plain": [
       "False"
      ]
     },
     "execution_count": 26,
     "metadata": {},
     "output_type": "execute_result"
    }
   ],
   "source": [
    "'n\\'t' in stem_pipe.named_steps['features'].transformer_list[1][1].named_steps['vectorizer'].vocabulary_"
   ]
  },
  {
   "cell_type": "code",
   "execution_count": 27,
   "metadata": {},
   "outputs": [
    {
     "data": {
      "text/plain": [
       "True"
      ]
     },
     "execution_count": 27,
     "metadata": {},
     "output_type": "execute_result"
    }
   ],
   "source": [
    "'don\\'t' in stem_pipe.named_steps['features'].transformer_list[1][1].named_steps['vectorizer'].vocabulary_"
   ]
  },
  {
   "cell_type": "code",
   "execution_count": 28,
   "metadata": {},
   "outputs": [
    {
     "data": {
      "text/plain": [
       "True"
      ]
     },
     "execution_count": 28,
     "metadata": {},
     "output_type": "execute_result"
    }
   ],
   "source": [
    "'f*cker' in stem_pipe.named_steps['features'].transformer_list[1][1].named_steps['vectorizer'].vocabulary_"
   ]
  },
  {
   "cell_type": "code",
   "execution_count": 29,
   "metadata": {},
   "outputs": [
    {
     "name": "stdout",
     "output_type": "stream",
     "text": [
      "Tarining dataset: accuracy = 0.883\n",
      "Test dataset: accuracy = 0.786\n"
     ]
    }
   ],
   "source": [
    "stem_lr_model = LogisticRegression(penalty='l2', C=1.0)\n",
    "stem_lr_model.fit(X_train_stem_preprocessed, y_train);\n",
    "\n",
    "y_train_pred = stem_lr_model.predict(X_train_stem_preprocessed)\n",
    "y_test_pred = stem_lr_model.predict(X_test_stem_preprocessed)\n",
    "\n",
    "print('Tarining dataset: accuracy = %.3f' % accuracy_score(y_pred=y_train_pred, y_true=y_train))\n",
    "print('Test dataset: accuracy = %.3f' % accuracy_score(y_pred=y_test_pred, y_true=y_test))"
   ]
  },
  {
   "cell_type": "code",
   "execution_count": 30,
   "metadata": {},
   "outputs": [
    {
     "name": "stdout",
     "output_type": "stream",
     "text": [
      "Tarining dataset: roc_auc = 0.952\n",
      "Test dataset: roc_auc = 0.860\n"
     ]
    }
   ],
   "source": [
    "y_train_proba = stem_lr_model.predict_proba(X_train_stem_preprocessed)[:, 1]\n",
    "y_test_proba = stem_lr_model.predict_proba(X_test_stem_preprocessed)[:, 1]\n",
    "print('Tarining dataset: roc_auc = %.3f' % roc_auc_score(y_score=y_train_proba, y_true=y_train))\n",
    "print('Test dataset: roc_auc = %.3f' % roc_auc_score(y_score=y_test_proba, y_true=y_test))"
   ]
  },
  {
   "cell_type": "code",
   "execution_count": 31,
   "metadata": {},
   "outputs": [
    {
     "data": {
      "image/png": "[encoded data removed]",
      "text/plain": [
       "<Figure size 216x216 with 1 Axes>"
      ]
     },
     "metadata": {},
     "output_type": "display_data"
    }
   ],
   "source": [
    "plot_confusion_matrix(y_train, y_train_pred)"
   ]
  },
  {
   "cell_type": "code",
   "execution_count": 32,
   "metadata": {},
   "outputs": [
    {
     "data": {
      "image/png": "[encoded data removed]",
      "text/plain": [
       "<Figure size 216x216 with 1 Axes>"
      ]
     },
     "metadata": {},
     "output_type": "display_data"
    }
   ],
   "source": [
    "plot_confusion_matrix(y_test, y_test_pred)"
   ]
  },
  {
   "cell_type": "markdown",
   "metadata": {},
   "source": [
    "The model seems to be overfitted"
   ]
  },
  {
   "cell_type": "code",
   "execution_count": 27,
   "metadata": {},
   "outputs": [
    {
     "data": {
      "image/png": "[encoded data removed]",
      "text/plain": [
       "<Figure size 360x360 with 1 Axes>"
      ]
     },
     "metadata": {},
     "output_type": "display_data"
    }
   ],
   "source": [
    "plot_learning_curve(estimator=stem_lr_model, X=X_train_stem_preprocessed, y=y_train)"
   ]
  },
  {
   "cell_type": "code",
   "execution_count": 61,
   "metadata": {},
   "outputs": [
    {
     "name": "stdout",
     "output_type": "stream",
     "text": [
      "Feature: gay                  Score:    7.448\tCount:    393\n",
      "Feature: fuck                 Score:    6.785\tCount:   1500\n",
      "Feature: bitch                Score:    6.213\tCount:    485\n",
      "Feature: emo                  Score:    4.420\tCount:    123\n",
      "Feature: damn                 Score:    4.392\tCount:   1599\n",
      "Feature: hate                 Score:    4.191\tCount:   1735\n",
      "Feature: whore                Score:    4.191\tCount:    122\n",
      "Feature: ass                  Score:    3.919\tCount:   1168\n",
      "Feature: loser                Score:    3.816\tCount:    112\n",
      "Feature: fat                  Score:    3.256\tCount:    351\n"
     ]
    }
   ],
   "source": [
    "importance = np.abs(stem_lr_model.coef_[0, :])\n",
    "print_kbest(stem_pipe, importance, 10, X_train)"
   ]
  },
  {
   "cell_type": "code",
   "execution_count": 35,
   "metadata": {},
   "outputs": [],
   "source": [
    "# lemmatization\n",
    "lem_pipe = Pipeline([\n",
    "    ('features', FeatureUnion([\n",
    "            ('numerical_feats', FrequencyExtractor()),    \n",
    "            ('text_feats', Pipeline([('preprocessor', TextPreprocessor(stopwords=IRRELEVANT_STOPWORDS, \n",
    "                                                                       process='lem')),\n",
    "                                     ('vectorizer', CountVectorizer(token_pattern=token_pattern, min_df=2))\n",
    "                                    ]))\n",
    "            ])),\n",
    "    ('scaler', MaxAbsScaler())\n",
    "    ])"
   ]
  },
  {
   "cell_type": "code",
   "execution_count": 36,
   "metadata": {},
   "outputs": [],
   "source": [
    "X_train_lem_preprocessed = lem_pipe.fit_transform(X_train)\n",
    "X_test_lem_preprocessed = lem_pipe.transform(X_test)"
   ]
  },
  {
   "cell_type": "code",
   "execution_count": 37,
   "metadata": {},
   "outputs": [
    {
     "name": "stdout",
     "output_type": "stream",
     "text": [
      "Tarining dataset: accuracy = 0.886\n",
      "Test dataset: accuracy = 0.786\n"
     ]
    }
   ],
   "source": [
    "lem_lr_model = LogisticRegression(penalty='l2', C=1.0)\n",
    "lem_lr_model.fit(X_train_lem_preprocessed, y_train);\n",
    "\n",
    "y_train_pred = lem_lr_model.predict(X_train_lem_preprocessed)\n",
    "y_test_pred = lem_lr_model.predict(X_test_lem_preprocessed)\n",
    "\n",
    "print('Tarining dataset: accuracy = %.3f' % accuracy_score(y_pred=y_train_pred, y_true=y_train))\n",
    "print('Test dataset: accuracy = %.3f' % accuracy_score(y_pred=y_test_pred, y_true=y_test))"
   ]
  },
  {
   "cell_type": "code",
   "execution_count": 38,
   "metadata": {},
   "outputs": [
    {
     "name": "stdout",
     "output_type": "stream",
     "text": [
      "Tarining dataset: roc_auc = 0.954\n",
      "Test dataset: roc_auc = 0.862\n"
     ]
    }
   ],
   "source": [
    "y_train_proba = lem_lr_model.predict_proba(X_train_lem_preprocessed)[:, 1]\n",
    "y_test_proba = lem_lr_model.predict_proba(X_test_lem_preprocessed)[:, 1]\n",
    "print('Tarining dataset: roc_auc = %.3f' % roc_auc_score(y_score=y_train_proba, y_true=y_train))\n",
    "print('Test dataset: roc_auc = %.3f' % roc_auc_score(y_score=y_test_proba, y_true=y_test))"
   ]
  },
  {
   "cell_type": "code",
   "execution_count": 39,
   "metadata": {},
   "outputs": [
    {
     "data": {
      "image/png": "[encoded data removed]",
      "text/plain": [
       "<Figure size 216x216 with 1 Axes>"
      ]
     },
     "metadata": {},
     "output_type": "display_data"
    }
   ],
   "source": [
    "plot_confusion_matrix(y_train, y_train_pred)"
   ]
  },
  {
   "cell_type": "code",
   "execution_count": 40,
   "metadata": {},
   "outputs": [
    {
     "data": {
      "image/png": "[encoded data removed]",
      "text/plain": [
       "<Figure size 216x216 with 1 Axes>"
      ]
     },
     "metadata": {},
     "output_type": "display_data"
    }
   ],
   "source": [
    "plot_confusion_matrix(y_test, y_test_pred)"
   ]
  },
  {
   "cell_type": "code",
   "execution_count": 34,
   "metadata": {},
   "outputs": [
    {
     "data": {
      "image/png": "[encoded data removed]",
      "text/plain": [
       "<Figure size 360x360 with 1 Axes>"
      ]
     },
     "metadata": {},
     "output_type": "display_data"
    }
   ],
   "source": [
    "plot_learning_curve(estimator=lem_lr_model, X=X_train_lem_preprocessed, y=y_train)"
   ]
  },
  {
   "cell_type": "code",
   "execution_count": 67,
   "metadata": {},
   "outputs": [
    {
     "name": "stdout",
     "output_type": "stream",
     "text": [
      "Feature: gay                  Score:    7.078\tCount:    388\n",
      "Feature: fuck                 Score:    6.883\tCount:    938\n",
      "Feature: bitch                Score:    6.031\tCount:    470\n",
      "Feature: emo                  Score:    4.212\tCount:    120\n",
      "Feature: whore                Score:    4.016\tCount:    122\n",
      "Feature: damn                 Score:    4.008\tCount:   1599\n",
      "Feature: as                   Score:    3.811\tCount:   1466\n",
      "Feature: hate                 Score:    3.800\tCount:   1710\n",
      "Feature: loser                Score:    3.578\tCount:    111\n",
      "Feature: fucking              Score:    3.551\tCount:    601\n"
     ]
    }
   ],
   "source": [
    "importance = np.abs(lem_lr_model.coef_[0, :])\n",
    "print_kbest(lem_pipe, importance, 10, X_train)"
   ]
  },
  {
   "cell_type": "markdown",
   "metadata": {},
   "source": [
    "### RandomForestClassifier"
   ]
  },
  {
   "cell_type": "code",
   "execution_count": 43,
   "metadata": {},
   "outputs": [
    {
     "name": "stdout",
     "output_type": "stream",
     "text": [
      "Tarining dataset: accuracy = 0.862\n",
      "Test dataset: accuracy = 0.779\n"
     ]
    }
   ],
   "source": [
    "# stemming\n",
    "stem_rfc_model = RandomForestClassifier(n_estimators=100, max_depth=15, max_features=1000)\n",
    "\n",
    "stem_rfc_model.fit(X_train_stem_preprocessed, y_train);\n",
    "\n",
    "y_train_pred = stem_rfc_model.predict(X_train_stem_preprocessed)\n",
    "y_test_pred = stem_rfc_model.predict(X_test_stem_preprocessed)\n",
    "\n",
    "print('Tarining dataset: accuracy = %.3f' % accuracy_score(y_pred=y_train_pred, y_true=y_train))\n",
    "print('Test dataset: accuracy = %.3f' % accuracy_score(y_pred=y_test_pred, y_true=y_test))"
   ]
  },
  {
   "cell_type": "code",
   "execution_count": 44,
   "metadata": {},
   "outputs": [
    {
     "name": "stdout",
     "output_type": "stream",
     "text": [
      "Tarining dataset: roc_auc = 0.958\n",
      "Test dataset: roc_auc = 0.877\n"
     ]
    }
   ],
   "source": [
    "y_train_proba = stem_rfc_model.predict_proba(X_train_stem_preprocessed)[:, 1]\n",
    "y_test_proba = stem_rfc_model.predict_proba(X_test_stem_preprocessed)[:, 1]\n",
    "print('Tarining dataset: roc_auc = %.3f' % roc_auc_score(y_score=y_train_proba, y_true=y_train))\n",
    "print('Test dataset: roc_auc = %.3f' % roc_auc_score(y_score=y_test_proba, y_true=y_test))"
   ]
  },
  {
   "cell_type": "code",
   "execution_count": 45,
   "metadata": {},
   "outputs": [
    {
     "data": {
      "image/png": "[encoded data removed]",
      "text/plain": [
       "<Figure size 216x216 with 1 Axes>"
      ]
     },
     "metadata": {},
     "output_type": "display_data"
    }
   ],
   "source": [
    "plot_confusion_matrix(y_train, y_train_pred)"
   ]
  },
  {
   "cell_type": "code",
   "execution_count": 46,
   "metadata": {},
   "outputs": [
    {
     "data": {
      "image/png": "[encoded data removed]",
      "text/plain": [
       "<Figure size 216x216 with 1 Axes>"
      ]
     },
     "metadata": {},
     "output_type": "display_data"
    }
   ],
   "source": [
    "plot_confusion_matrix(y_test, y_test_pred)"
   ]
  },
  {
   "cell_type": "code",
   "execution_count": 47,
   "metadata": {
    "scrolled": true
   },
   "outputs": [
    {
     "data": {
      "image/png": "[encoded data removed]",
      "text/plain": [
       "<Figure size 360x360 with 1 Axes>"
      ]
     },
     "metadata": {},
     "output_type": "display_data"
    }
   ],
   "source": [
    "plot_roc_curve(y_labels=y_test, y_proba=y_test_proba)"
   ]
  },
  {
   "cell_type": "code",
   "execution_count": 48,
   "metadata": {},
   "outputs": [
    {
     "name": "stdout",
     "output_type": "stream",
     "text": [
      "FPR: 0.171\n",
      "TPR: 0.751\n",
      "Threshold: 0.440\n"
     ]
    }
   ],
   "source": [
    "fprs, tprs, thresholds = roc_curve(y_true=y_test, y_score=y_test_proba)\n",
    "ind = np.argmax(tprs >= 0.75)\n",
    "\n",
    "print('FPR: %.3f' % fprs[ind])\n",
    "print('TPR: %.3f' % tprs[ind])\n",
    "threshold = thresholds[ind]\n",
    "print('Threshold: %.3f' % threshold)"
   ]
  },
  {
   "cell_type": "code",
   "execution_count": 49,
   "metadata": {},
   "outputs": [
    {
     "name": "stdout",
     "output_type": "stream",
     "text": [
      "Test dataset: accuracy = 0.799\n"
     ]
    }
   ],
   "source": [
    "y_test_pred_new_threshold = np.where(y_test_proba >= threshold, 1, 0)\n",
    "print('Test dataset: accuracy = %.3f' % accuracy_score(y_pred=y_test_pred_new_threshold, y_true=y_test))"
   ]
  },
  {
   "cell_type": "code",
   "execution_count": 50,
   "metadata": {},
   "outputs": [
    {
     "data": {
      "image/png": "[encoded data removed]",
      "text/plain": [
       "<Figure size 216x216 with 1 Axes>"
      ]
     },
     "metadata": {},
     "output_type": "display_data"
    }
   ],
   "source": [
    "plot_confusion_matrix(y_test, y_test_pred_new_threshold)"
   ]
  },
  {
   "cell_type": "code",
   "execution_count": 68,
   "metadata": {},
   "outputs": [
    {
     "name": "stdout",
     "output_type": "stream",
     "text": [
      "Feature: fuck                 Score:    0.091\tCount:   1500\n",
      "Feature: onequestionmark      Score:    0.041\tCount:   2937\n",
      "Feature: VERB_r               Score:    0.036\tCount:  10858\n",
      "Feature: ass                  Score:    0.035\tCount:   1168\n",
      "Feature: bitch                Score:    0.034\tCount:    485\n",
      "Feature: NOUN_r               Score:    0.030\tCount:  12175\n",
      "Feature: uppercase_r          Score:    0.028\tCount:   2137\n",
      "Feature: ._r                  Score:    0.027\tCount:  11267\n",
      "Feature: PRON_r               Score:    0.026\tCount:   9244\n",
      "Feature: gay                  Score:    0.025\tCount:    393\n"
     ]
    }
   ],
   "source": [
    "print_kbest(stem_pipe, stem_rfc_model.feature_importances_, 10, X_train)"
   ]
  },
  {
   "cell_type": "code",
   "execution_count": 69,
   "metadata": {},
   "outputs": [
    {
     "name": "stdout",
     "output_type": "stream",
     "text": [
      "Tarining dataset: accuracy = 0.854\n",
      "Test dataset: accuracy = 0.776\n"
     ]
    }
   ],
   "source": [
    "# lemmatization\n",
    "lem_rfc_model = RandomForestClassifier(n_estimators=100, max_depth=15, max_features=1000)\n",
    "lem_rfc_model.fit(X_train_stem_preprocessed, y_train);\n",
    "\n",
    "y_train_pred = lem_rfc_model.predict(X_train_stem_preprocessed)\n",
    "y_test_pred = lem_rfc_model.predict(X_test_stem_preprocessed)\n",
    "\n",
    "print('Tarining dataset: accuracy = %.3f' % accuracy_score(y_pred=y_train_pred, y_true=y_train))\n",
    "print('Test dataset: accuracy = %.3f' % accuracy_score(y_pred=y_test_pred, y_true=y_test))"
   ]
  },
  {
   "cell_type": "code",
   "execution_count": 70,
   "metadata": {},
   "outputs": [
    {
     "name": "stdout",
     "output_type": "stream",
     "text": [
      "Tarining dataset: roc_auc = 0.957\n",
      "Test dataset: roc_auc = 0.878\n"
     ]
    }
   ],
   "source": [
    "y_train_proba = lem_rfc_model.predict_proba(X_train_stem_preprocessed)[:, 1]\n",
    "y_test_proba = lem_rfc_model.predict_proba(X_test_stem_preprocessed)[:, 1]\n",
    "print('Tarining dataset: roc_auc = %.3f' % roc_auc_score(y_score=y_train_proba, y_true=y_train))\n",
    "print('Test dataset: roc_auc = %.3f' % roc_auc_score(y_score=y_test_proba, y_true=y_test))"
   ]
  },
  {
   "cell_type": "code",
   "execution_count": 71,
   "metadata": {},
   "outputs": [
    {
     "data": {
      "image/png": "[encoded data removed]",
      "text/plain": [
       "<Figure size 216x216 with 1 Axes>"
      ]
     },
     "metadata": {},
     "output_type": "display_data"
    }
   ],
   "source": [
    "plot_confusion_matrix(y_train, y_train_pred)"
   ]
  },
  {
   "cell_type": "code",
   "execution_count": 72,
   "metadata": {},
   "outputs": [
    {
     "data": {
      "image/png": "[encoded data removed]",
      "text/plain": [
       "<Figure size 216x216 with 1 Axes>"
      ]
     },
     "metadata": {},
     "output_type": "display_data"
    }
   ],
   "source": [
    "plot_confusion_matrix(y_test, y_test_pred)"
   ]
  },
  {
   "cell_type": "code",
   "execution_count": 73,
   "metadata": {},
   "outputs": [
    {
     "name": "stdout",
     "output_type": "stream",
     "text": [
      "Feature: floor                Score:    0.094\tCount:     16\n",
      "Feature: neat                 Score:    0.039\tCount:      7\n",
      "Feature: art                  Score:    0.037\tCount:     10\n",
      "Feature: VERB_r               Score:    0.035\tCount:  10858\n",
      "Feature: bien                 Score:    0.034\tCount:      2\n",
      "Feature: NOUN_r               Score:    0.030\tCount:  12175\n",
      "Feature: uppercase_r          Score:    0.028\tCount:   2137\n",
      "Feature: ._r                  Score:    0.028\tCount:  11267\n",
      "Feature: frann                Score:    0.027\tCount:      2\n",
      "Feature: PRON_r               Score:    0.026\tCount:   9244\n"
     ]
    }
   ],
   "source": [
    "print_kbest(lem_pipe, lem_rfc_model.feature_importances_, 10, X_train)"
   ]
  },
  {
   "cell_type": "markdown",
   "metadata": {},
   "source": [
    "## Feature selection"
   ]
  },
  {
   "cell_type": "markdown",
   "metadata": {},
   "source": [
    "### ANOVA"
   ]
  },
  {
   "cell_type": "code",
   "execution_count": 12,
   "metadata": {},
   "outputs": [],
   "source": [
    "from sklearn.feature_selection import f_classif, SelectFpr"
   ]
  },
  {
   "cell_type": "code",
   "execution_count": 75,
   "metadata": {},
   "outputs": [
    {
     "data": {
      "text/plain": [
       "(12776, 279)"
      ]
     },
     "execution_count": 75,
     "metadata": {},
     "output_type": "execute_result"
    }
   ],
   "source": [
    "fpr_stem_selector = SelectFpr(score_func=f_classif, alpha=0.01)\n",
    "fpr_stem_dtm = fpr_stem_selector.fit_transform(X_train_stem_preprocessed, y_train)\n",
    "fpr_stem_dtm.shape"
   ]
  },
  {
   "cell_type": "code",
   "execution_count": 76,
   "metadata": {},
   "outputs": [
    {
     "data": {
      "text/plain": [
       "(12776, 280)"
      ]
     },
     "execution_count": 76,
     "metadata": {},
     "output_type": "execute_result"
    }
   ],
   "source": [
    "fpr_lem_selector = SelectFpr(score_func=f_classif, alpha=0.01)\n",
    "fpr_lem_dtm = fpr_lem_selector.fit_transform(X_train_lem_preprocessed, y_train)\n",
    "fpr_lem_dtm.shape"
   ]
  },
  {
   "cell_type": "code",
   "execution_count": 78,
   "metadata": {},
   "outputs": [
    {
     "name": "stdout",
     "output_type": "stream",
     "text": [
      "Feature: fuck                 Score:  564.091\tCount:   1500\n",
      "Feature: onequestionmark      Score:  211.210\tCount:   2937\n",
      "Feature: ass                  Score:  200.388\tCount:   1168\n",
      "Feature: bitch                Score:  186.842\tCount:    485\n",
      "Feature: gay                  Score:  112.768\tCount:    393\n",
      "Feature: uppercase_r          Score:   91.561\tCount:   2137\n",
      "Feature: ever                 Score:   91.526\tCount:    230\n",
      "Feature: emo                  Score:   86.940\tCount:    123\n",
      "Feature: what                 Score:   80.985\tCount:    988\n",
      "Feature: oneexclamationmark   Score:   77.777\tCount:   2762\n"
     ]
    }
   ],
   "source": [
    "print_kbest(stem_pipe, fpr_stem_selector.scores_, 10, X_train)"
   ]
  },
  {
   "cell_type": "code",
   "execution_count": 79,
   "metadata": {
    "scrolled": true
   },
   "outputs": [
    {
     "name": "stdout",
     "output_type": "stream",
     "text": [
      "Feature: fuck                 Score:  416.894\tCount:    938\n",
      "Feature: onequestionmark      Score:  211.210\tCount:   2937\n",
      "Feature: bitch                Score:  186.877\tCount:    470\n",
      "Feature: as                   Score:  151.504\tCount:   1466\n",
      "Feature: fucking              Score:  141.047\tCount:    601\n",
      "Feature: gay                  Score:  114.922\tCount:    388\n",
      "Feature: uppercase_r          Score:   91.561\tCount:   2137\n",
      "Feature: ever                 Score:   91.526\tCount:    230\n",
      "Feature: emo                  Score:   82.782\tCount:    120\n",
      "Feature: oneexclamationmark   Score:   77.777\tCount:   2762\n"
     ]
    }
   ],
   "source": [
    "print_kbest(lem_pipe, fpr_lem_selector.scores_, 10, X_train)"
   ]
  },
  {
   "cell_type": "code",
   "execution_count": 80,
   "metadata": {},
   "outputs": [
    {
     "name": "stdout",
     "output_type": "stream",
     "text": [
      "['fuck' 'onequestionmark' 'ass' 'bitch' 'gay' 'uppercase_r' 'ever' 'emo'\n",
      " 'what' 'oneexclamationmark' 'emoticonhappyfac' 'shit' 'onedot' 'do'\n",
      " 'that' 'favorit' 'firstcapital_r' 'hate' 'suck' 'repeatingletters_r' 'ur'\n",
      " 'loser' 'cunt' 'whore' 'manydot' 'haha' 'nope' 'would' \"you'r\" 'im' 'hi'\n",
      " 'cock' 'holi' 'CONJ_r' \"i'm\" 'fat' 'question' 'she' 'up' 'nigga' 'ugli'\n",
      " 'yeah' 'dude' 'wow' 'dick' 'face' 'quotationmark' 'idk' 'dam' 'ADJ_r'\n",
      " 'stupid' 'he' 'have' 'love' 'guy' 'slut' 'man' 'pussi' 'off' 'think'\n",
      " 'ADV_r' 'over' 'win' 'NUM_r' 'kj' 'earli' 'goddamn' 'mean' 'damn' 'gonna'\n",
      " 'put' 'him' 'ye' 'shut' 'person' 'just' 'screen' 'bull' 'PRT_r' 'and'\n",
      " 'one' 'award' 'choke' 'son' 'fag' 'shorti' 'retard' 'ive' 'prepar' 'down'\n",
      " 'call' 'season' 'mani' 'nerd' 'said' 'block' 'bhut' 'sens' 'lick' 'umm'\n",
      " 'action' 'marc' 'rather' 'yew' 'best' 'mess' 'final' 'yo' 'yuh' 'teas'\n",
      " 'fool' 'red' 'hell' 'dont' 'matur' 'coulda' 'cart' 'subject' 'fucker'\n",
      " 'messag' 'VERB_r' 'angri' 'nomin' 'got' 'wtf' 'poor' 'blow' 'goe' 'worst'\n",
      " 'yup' 'choos' 'punk' 'ugh' 'bs' 'old' 'emoticonheart' 'keep' 'havent'\n",
      " 'away' 'shame' 'fuckin' 'rite' 'nahh' 'homi' 'part' 'sure' 'such' 'grate'\n",
      " 'unexplain' 'slightli' 'shud' 'impact' 'lift' 'razor' 'tinder' 'properli'\n",
      " 'youth' 'coincid' 'bonu' 'blast' 'costum' 'motherfuck' 'jelli' 'role'\n",
      " 'watchin' 'vagina' 'glove' 'nye' 'playin' 'wud' 'hugs' 'okay' 'knew'\n",
      " 'thank' 'bastard' 'hoe' 'stole' 'thi' 'alon' \"don't\" \"won't\" 'current'\n",
      " 'run' 'door' 'then' 'manyexclamationmark' 'offici' 'thx' 'french' 'ball'\n",
      " 'oh' 'anna' 'heh' 'fantast' 'ipod' 'soft' 'ask' 'yr' 'stop' 'famou'\n",
      " 'list' 'rock' 'food' 'want' 'figur' 'anyway' 'argh' 'devil' 'domin'\n",
      " 'ship' 'lesbian' 'pillow' 'never' 'mi' 'danc' 'crutch' 'dani' 'jp'\n",
      " 'jumpin' 'investor' 'mannequin' 'immor' 'daley' 'mellow' 'messeng' 'limp'\n",
      " 'insult' 'inject' 'mushroom' 'calamityjen' 'ba' 'ung' 'sneek' 'bama'\n",
      " 'urself' 'barb' 'dsm' 'whoopin' 'cola' \"y'know\" 'charger' 'pj' 'phoni'\n",
      " 'zebra' 'hog' 'hub' 'grown' 'dig' 'cuz' 'justin' 'client' 'lulz' 'which'\n",
      " 'either' 'movi' 'shift' 'neighbor' 'comedi' 'charact' 'timothi' 'ahead'\n",
      " 'bc' 'world' 'porn' 'most' 'font' 'full' 'douch' 'rub' 'stab' 'uncl'\n",
      " 'gangsta' 'slap' 'cu' 'forev' 'dure' 'piss' 'idea' 'it']\n"
     ]
    }
   ],
   "source": [
    "sorted_features = get_sorted_features(stem_pipe, fpr_stem_selector.scores_)\n",
    "print(sorted_features[:fpr_stem_dtm.shape[1]])"
   ]
  },
  {
   "cell_type": "code",
   "execution_count": 81,
   "metadata": {},
   "outputs": [
    {
     "name": "stdout",
     "output_type": "stream",
     "text": [
      "['fuck' 'onequestionmark' 'bitch' 'as' 'fucking' 'gay' 'uppercase_r'\n",
      " 'ever' 'emo' 'oneexclamationmark' 'emoticonhappyface' 'shit' 'onedot'\n",
      " 'what' 'that' 'favorite' 'firstcapital_r' 'do' 'hate'\n",
      " 'repeatingletters_r' 'suck' 'his' 'ur' 'loser' 'cunt' 'whore' 'manydots'\n",
      " 'haha' 'cock' 'would' 'nope' 'im' \"you're\" 'holy' 'sucks' 'fat' 'up'\n",
      " 'CONJ_r' \"i'm\" 'question' 'she' 'yeah' 'dude' 'ugly' 'dick' 'face' 'wow'\n",
      " \"what's\" 'quotationmark' 'stupid' 'nigga' 'idk' 'dam' 'ADJ_r' 'mean'\n",
      " 'lick' 'have' 'man' 'guy' 'off' 'over' 'think' 'slut' 'ADV_r' 'pussy'\n",
      " 'win' 'NUM_r' 'kj' 'goddamn' 'damn' 'retard' 'gonna' 'put' 'love' 'him'\n",
      " 'he' 'shut' 'just' 'bull' 'PRT_r' 'and' 'award' 'thanks' 'yes' 'hat'\n",
      " 'choke' 'one' 'early' 'son' 'fag' 'shorty' 'say' 'ive' 'celebrate'\n",
      " 'prepare' 'down' 'call' 'many' 'block' 'bhut' 'get' 'umm' 'action'\n",
      " 'fucker' 'marc' 'rather' 'yew' 'best' 'nerd' 'mess' 'yuh' 'tease' 'fool'\n",
      " 'red' 'hell' 'dont' 'keep' 'coulda' 'appearance' 'lifes' 'mature' 'cart'\n",
      " 'blow' 'VERB_r' 'angry' 'sense' \"he's\" 'pissed' 'sure' 'nominate' 'wtf'\n",
      " 'poor' 'personally' 'yo' 'yup' 'choose' 'punk' 'ugh' 'screen' 'bs' 'old'\n",
      " 'emoticonheart' 'havent' 'away' 'shame' 'fuckin' 'message' 'nahh' 'rite'\n",
      " 'homie' 'part' 'such' 'razor' 'lift' 'shud' 'tinder' 'properly'\n",
      " 'unexplained' 'blast' 'bonus' 'coincidence' 'warp' 'youthful' 'slightly'\n",
      " 'impact' 'niggas' 'costume' 'role' 'actual' 'glove' 'watchin' 'wud'\n",
      " 'jelly' 'fucked' 'nye' 'vagina' 'playin' 'okay' 'season' 'hoe' 'bastard'\n",
      " 'alone' \"don't\" \"won't\" 'finally' 'door' 'then' 'manyexclamationmarks'\n",
      " 'person' 'thx' 'french' 'ball' 'oh' 'anna' 'heh' 'hater' 'soft'\n",
      " 'fantastic' 'this' 'want' 'ask' 'stop' 'famous' 'list' 'food' 'figure'\n",
      " 'argh' 'shitting' 'ship' 'idiots' 'lesbian' 'pillow' 'never' 'mi' 'fonts'\n",
      " 'dsm' 'accept' 'mushroom' 'daley' 'barb' 'dominate' 'entirely'\n",
      " 'messenger' 'crutch' \"y'know\" 'mellow' 'cola' 'immoral' 'zebra' 'ung'\n",
      " 'jumpin' 'hub' 'chargers' 'broke' 'hog' 'investor' 'urself' 'brady'\n",
      " 'limp' 'whoopin' 'calamityjen' 'phony' 'jacks' 'bama' 'mannequin' 'dig'\n",
      " 'cuz' 'client' 'lulz' 'which' 'either' 'movie' 'shift' 'timothy' 'comedy'\n",
      " 'neighbor' 'ahead' 'character' 'bc' 'dat' 'dance' 'good' 'world' 'porn'\n",
      " 'feeling' 'most' 'full' 'dream' 'justin' 'currently' 'rub' 'douche'\n",
      " 'stab' 'prob' 'uncle' 'slap' 'forever' 'during' 'idea' 'it']\n"
     ]
    }
   ],
   "source": [
    "sorted_features = get_sorted_features(lem_pipe, fpr_lem_selector.scores_)\n",
    "print(sorted_features[:fpr_lem_dtm.shape[1]])"
   ]
  },
  {
   "cell_type": "code",
   "execution_count": 82,
   "metadata": {},
   "outputs": [],
   "source": [
    "fpr_stem_pipe = Pipeline([\n",
    "    ('selector', SelectFpr(score_func=f_classif, alpha=0.01)),\n",
    "    ('clf', LogisticRegression(penalty='l2', C=1.0))\n",
    "    ])"
   ]
  },
  {
   "cell_type": "code",
   "execution_count": 83,
   "metadata": {},
   "outputs": [
    {
     "name": "stdout",
     "output_type": "stream",
     "text": [
      "Tarining dataset: accuracy = 0.735\n",
      "Test dataset: accuracy = 0.716\n"
     ]
    }
   ],
   "source": [
    "fpr_stem_pipe.fit(X_train_stem_preprocessed, y_train);\n",
    "\n",
    "y_train_pred = fpr_stem_pipe.predict(X_train_stem_preprocessed)\n",
    "y_test_pred = fpr_stem_pipe.predict(X_test_stem_preprocessed)\n",
    "\n",
    "print('Tarining dataset: accuracy = %.3f' % accuracy_score(y_pred=y_train_pred, y_true=y_train))\n",
    "print('Test dataset: accuracy = %.3f' % accuracy_score(y_pred=y_test_pred, y_true=y_test))"
   ]
  },
  {
   "cell_type": "code",
   "execution_count": 84,
   "metadata": {},
   "outputs": [
    {
     "data": {
      "image/png": "[encoded data removed]",
      "text/plain": [
       "<Figure size 216x216 with 1 Axes>"
      ]
     },
     "metadata": {},
     "output_type": "display_data"
    },
    {
     "data": {
      "image/png": "[encoded data removed]",
      "text/plain": [
       "<Figure size 216x216 with 1 Axes>"
      ]
     },
     "metadata": {},
     "output_type": "display_data"
    }
   ],
   "source": [
    "plot_confusion_matrix(y_train, y_train_pred)\n",
    "plot_confusion_matrix(y_test, y_test_pred)"
   ]
  },
  {
   "cell_type": "code",
   "execution_count": 85,
   "metadata": {},
   "outputs": [
    {
     "name": "stdout",
     "output_type": "stream",
     "text": [
      "Tarining dataset: accuracy = 0.736\n",
      "Test dataset: accuracy = 0.721\n"
     ]
    }
   ],
   "source": [
    "fpr_stem_pipe = Pipeline([\n",
    "    ('selector', SelectFpr(score_func=f_classif, alpha=0.01)),\n",
    "    ('clf', LogisticRegression(penalty='l2', C=1.0, class_weight={0: 1, 1: 1.25}))\n",
    "    ])\n",
    "\n",
    "fpr_stem_pipe.fit(X_train_stem_preprocessed, y_train);\n",
    "\n",
    "y_train_pred = fpr_stem_pipe.predict(X_train_stem_preprocessed)\n",
    "y_test_pred = fpr_stem_pipe.predict(X_test_stem_preprocessed)\n",
    "\n",
    "print('Tarining dataset: accuracy = %.3f' % accuracy_score(y_pred=y_train_pred, y_true=y_train))\n",
    "print('Test dataset: accuracy = %.3f' % accuracy_score(y_pred=y_test_pred, y_true=y_test))"
   ]
  },
  {
   "cell_type": "code",
   "execution_count": 86,
   "metadata": {},
   "outputs": [
    {
     "data": {
      "image/png": "[encoded data removed]",
      "text/plain": [
       "<Figure size 216x216 with 1 Axes>"
      ]
     },
     "metadata": {},
     "output_type": "display_data"
    },
    {
     "data": {
      "image/png": "[encoded data removed]",
      "text/plain": [
       "<Figure size 216x216 with 1 Axes>"
      ]
     },
     "metadata": {},
     "output_type": "display_data"
    }
   ],
   "source": [
    "plot_confusion_matrix(y_train, y_train_pred)\n",
    "plot_confusion_matrix(y_test, y_test_pred)"
   ]
  },
  {
   "cell_type": "markdown",
   "metadata": {},
   "source": [
    "### Variance"
   ]
  },
  {
   "cell_type": "code",
   "execution_count": 13,
   "metadata": {},
   "outputs": [],
   "source": [
    "from sklearn.feature_selection import VarianceThreshold"
   ]
  },
  {
   "cell_type": "code",
   "execution_count": 88,
   "metadata": {},
   "outputs": [
    {
     "data": {
      "text/plain": [
       "(12776, 793)"
      ]
     },
     "execution_count": 88,
     "metadata": {},
     "output_type": "execute_result"
    }
   ],
   "source": [
    "vr_stem_selector = VarianceThreshold(threshold=10e-4)\n",
    "vr_stem_dtm = vr_stem_selector.fit_transform(X_train_stem_preprocessed, y_train)\n",
    "vr_stem_dtm.shape"
   ]
  },
  {
   "cell_type": "code",
   "execution_count": 89,
   "metadata": {},
   "outputs": [
    {
     "data": {
      "text/plain": [
       "(12776, 752)"
      ]
     },
     "execution_count": 89,
     "metadata": {},
     "output_type": "execute_result"
    }
   ],
   "source": [
    "vr_lem_selector = VarianceThreshold(threshold=10e-4)\n",
    "vr_lem_dtm = vr_lem_selector.fit_transform(X_train_lem_preprocessed, y_train)\n",
    "vr_lem_dtm.shape"
   ]
  },
  {
   "cell_type": "code",
   "execution_count": 90,
   "metadata": {},
   "outputs": [
    {
     "name": "stdout",
     "output_type": "stream",
     "text": [
      "Feature: NOUN_r               Score:    0.033\tCount:  12175\n",
      "Feature: firstcapital_r       Score:    0.024\tCount:   6807\n",
      "Feature: what                 Score:    0.019\tCount:    988\n",
      "Feature: suck                 Score:    0.019\tCount:   1026\n",
      "Feature: PRON_r               Score:    0.018\tCount:   9244\n",
      "Feature: uppercase_r          Score:    0.017\tCount:   2137\n",
      "Feature: ._r                  Score:    0.017\tCount:  11267\n",
      "Feature: just                 Score:    0.016\tCount:    769\n",
      "Feature: ADP_r                Score:    0.015\tCount:   7174\n",
      "Feature: that                 Score:    0.015\tCount:   2582\n"
     ]
    }
   ],
   "source": [
    "print_kbest(stem_pipe, vr_stem_selector.variances_, 10, X_train)"
   ]
  },
  {
   "cell_type": "code",
   "execution_count": 91,
   "metadata": {},
   "outputs": [
    {
     "name": "stdout",
     "output_type": "stream",
     "text": [
      "Feature: NOUN_r               Score:    0.033\tCount:  12175\n",
      "Feature: firstcapital_r       Score:    0.024\tCount:   6807\n",
      "Feature: that                 Score:    0.023\tCount:   2263\n",
      "Feature: sucks                Score:    0.018\tCount:    963\n",
      "Feature: PRON_r               Score:    0.018\tCount:   9244\n",
      "Feature: uppercase_r          Score:    0.017\tCount:   2137\n",
      "Feature: ._r                  Score:    0.017\tCount:  11267\n",
      "Feature: what                 Score:    0.017\tCount:    837\n",
      "Feature: just                 Score:    0.016\tCount:    769\n",
      "Feature: ADP_r                Score:    0.015\tCount:   7174\n"
     ]
    }
   ],
   "source": [
    "print_kbest(lem_pipe, vr_lem_selector.variances_, 10, X_train)"
   ]
  },
  {
   "cell_type": "code",
   "execution_count": 92,
   "metadata": {},
   "outputs": [
    {
     "name": "stdout",
     "output_type": "stream",
     "text": [
      "['NOUN_r' 'firstcapital_r' 'what' 'suck' 'PRON_r' 'uppercase_r' '._r'\n",
      " 'just' 'ADP_r' 'that' 'hope' 'take' 'CONJ_r' 'it' 'in' 'though' 'up'\n",
      " 'VERB_r' 'at' 'onedot' 'do' 'ass' \"don't\" 'gonna' \"i'v\" 'think' 'have'\n",
      " 'hate' 'wish' 'is' 'keep' 'manydot' 'lol' 'want' 'fuck' 'first' 'make'\n",
      " 'and' 'anyth' 'actual' 'good' 'also' 'awesom' 'ADV_r' 'get' 'play' \"i'm\"\n",
      " 'cool' 'sometim' 'caus' 'realli' 'well' 'got' 'alreadi' 'next' 'off' 'am'\n",
      " 'aw' 'hell' 'emoticonsadfac' 'find' 'hi' 'PRT_r' 'thing' 'see'\n",
      " 'emoticonhappyfac' 'ADJ_r' 'face' 'work' 'real' 'day' 'know' 'leav' 'thi'\n",
      " 'go' 'an' 'nope' 'look' 'need' 'man' 'right' 'soon' 'crazi' 'would'\n",
      " 'repeatingletters_r' 'are' \"you'r\" 'laugh' 'ur' 'still' 'believ' 'DET_r'\n",
      " 'like' 'ugh' 'yea' 'shit' 'one' 'might' 'use' 'probabl' 'wonder' 'damn'\n",
      " 'ever' 'love' 'agre' 'boy' 'saw' 'guy' 'way' 'thank' 'enough' 'btw'\n",
      " 'dont' 'cunt' 'either' 'even' 'manyquestionmark' 'kick' 'heard' 'ah'\n",
      " 'late' 'rock' 'could' 'peopl' 'come' 'mean' \"we'r\" 'son' 'feel' 'hm'\n",
      " 'time' 'bad' 'holi' 'dumb' \"won't\" 'two' 'back' 'tho' 'babi' 'els'\n",
      " 'almost' 'buy' 'straight' 'didnt' 'glad' 'rather' 'fine' 'white' 'kinda'\n",
      " 'tri' 'he' 'um' 'high' 'parent' 'addressurl' 'nerd' 'tell' 'retard' 'new'\n",
      " 'name' 'nah' 'bed' 'full' 'say' 'over' 'im' 'oh' 'came' 'anyway'\n",
      " 'tonight' 'better' 'sorri' 'yeah' 'went' 'quit' 'anymor' 'alon' 'dude'\n",
      " 'watch' 'fat' 'hmm' 'sweet' 'suppos' 'earli' 'sure' 'dick' 'haha' 'beat'\n",
      " 'annoy' 'check' 'lmao' 'show' 'instead' 'who' 'bit' 'holiday' 'mom'\n",
      " 'wors' 'point' 'walk']\n"
     ]
    }
   ],
   "source": [
    "sorted_features = get_sorted_features(stem_pipe, vr_stem_selector.variances_)\n",
    "print(sorted_features[:vr_stem_dtm.shape[1]][:200])"
   ]
  },
  {
   "cell_type": "code",
   "execution_count": 93,
   "metadata": {},
   "outputs": [
    {
     "name": "stdout",
     "output_type": "stream",
     "text": [
      "['NOUN_r' 'firstcapital_r' 'that' 'sucks' 'PRON_r' 'uppercase_r' '._r'\n",
      " 'what' 'just' 'ADP_r' 'CONJ_r' 'it' 'in' 'though' 'hope' 'up' 'think'\n",
      " 'VERB_r' 'do' 'at' 'onedot' \"don't\" 'gonna' 'get' \"i've\" 'make' 'good'\n",
      " 'have' 'keep' \"what's\" 'wish' 'find' 'hate' 'is' 'manydots' 'lol' 'want'\n",
      " 'first' 'and' 'anything' 'cool' 'well' 'also' 'see' 'awesome' 'ADV_r'\n",
      " 'actually' \"i'm\" 'play' 'cause' 'really' 'next' 'already' 'off' 'kind'\n",
      " 'hell' 'am' 'emoticonsadface' 'go' 'PRT_r' 'thing' 'totally' 'sometimes'\n",
      " 'know' 'emoticonhappyface' 'ADJ_r' 'work' 'face' 'his' 'real' 'day'\n",
      " 'fucking' 'this' 'as' 'an' 'right' 'need' 'soon' 'man' 'look' 'would'\n",
      " 'repeatingletters_r' 'crazy' 'nope' 'are' \"you're\" 'bad' 'laugh' 'ur'\n",
      " 'suck' 'aw' 'still' 'believe' 'DET_r' 'tell' 'ugh' 'like' 'come' \"that's\"\n",
      " 'fuck' 'yea' 'forget' 'might' 'one' 'mean' 'use' 'damn' 'ever' 'say'\n",
      " 'shit' 'boy' 'wonder' 'probably' 'agree' 'saw' 'way' 'guy' 'take' 'love'\n",
      " 'enough' 'btw' 'he' 'dont' 'either' 'video' 'cunt' 'manyquestionmarks'\n",
      " 'even' 'kick' 'ah' 'people' 'could' \"we're\" 'son' 'stick' 'early' 'hm'\n",
      " 'holy' \"won't\" 'two' 'time' 'back' 'tho' 'music' 'dumb' 'almost' 'rock'\n",
      " 'glad' 'straight' 'high' 'didnt' 'baby' 'rather' 'kinda' 'else' 'fine'\n",
      " 'try' 'um' 'white' 'addressurl' 'parent' 'new' 'feel' 'bed' 'wake' 'nah'\n",
      " 'whats' 'full' 'woman' 'name' 'over' 'im' 'oh' 'nerd' 'tonight' 'retard'\n",
      " 'give' 'sorry' 'fat' 'alone' 'anymore' 'yeah' 'sweet' 'suppose' 'hmm'\n",
      " 'beat' 'bring' 'show' 'watch' 'haha' 'check' 'dude' 'lmao' 'dick'\n",
      " 'always' 'point' 'instead' 'iphone' 'holiday' 'walk']\n"
     ]
    }
   ],
   "source": [
    "sorted_features = get_sorted_features(lem_pipe, vr_lem_selector.variances_)\n",
    "print(sorted_features[:vr_lem_dtm.shape[1]][:200])"
   ]
  },
  {
   "cell_type": "code",
   "execution_count": 94,
   "metadata": {},
   "outputs": [
    {
     "name": "stdout",
     "output_type": "stream",
     "text": [
      "Tarining dataset: accuracy = 0.754\n",
      "Test dataset: accuracy = 0.722\n"
     ]
    }
   ],
   "source": [
    "vr_stem_pipe = Pipeline([\n",
    "    ('selector', VarianceThreshold(threshold=10e-4)),\n",
    "    ('clf', LogisticRegression(penalty='l2', C=1.0, class_weight={0: 1, 1: 1.15}))\n",
    "    ])\n",
    "\n",
    "vr_stem_pipe.fit(X_train_stem_preprocessed, y_train);\n",
    "\n",
    "y_train_pred = vr_stem_pipe.predict(X_train_stem_preprocessed)\n",
    "y_test_pred = vr_stem_pipe.predict(X_test_stem_preprocessed)\n",
    "\n",
    "print('Tarining dataset: accuracy = %.3f' % accuracy_score(y_pred=y_train_pred, y_true=y_train))\n",
    "print('Test dataset: accuracy = %.3f' % accuracy_score(y_pred=y_test_pred, y_true=y_test))"
   ]
  },
  {
   "cell_type": "code",
   "execution_count": 95,
   "metadata": {},
   "outputs": [
    {
     "data": {
      "image/png": "[encoded data removed]",
      "text/plain": [
       "<Figure size 216x216 with 1 Axes>"
      ]
     },
     "metadata": {},
     "output_type": "display_data"
    }
   ],
   "source": [
    "plot_confusion_matrix(y_train, y_train_pred)"
   ]
  },
  {
   "cell_type": "code",
   "execution_count": 96,
   "metadata": {},
   "outputs": [
    {
     "data": {
      "image/png": "[encoded data removed]",
      "text/plain": [
       "<Figure size 216x216 with 1 Axes>"
      ]
     },
     "metadata": {},
     "output_type": "display_data"
    }
   ],
   "source": [
    "plot_confusion_matrix(y_test, y_test_pred)"
   ]
  },
  {
   "cell_type": "code",
   "execution_count": null,
   "metadata": {},
   "outputs": [],
   "source": []
  },
  {
   "cell_type": "markdown",
   "metadata": {},
   "source": [
    "## Hyperparameter Tuning"
   ]
  },
  {
   "cell_type": "code",
   "execution_count": 14,
   "metadata": {},
   "outputs": [],
   "source": [
    "from sklearn.feature_extraction.text import TfidfVectorizer\n",
    "from sklearn.decomposition import TruncatedSVD\n",
    "from sklearn.decomposition import LatentDirichletAllocation\n",
    "from sklearn.preprocessing import Normalizer\n",
    "\n",
    "from scipy.stats.distributions import uniform, randint\n",
    "from sklearn.model_selection import RandomizedSearchCV\n",
    "from sklearn.model_selection import StratifiedKFold\n",
    "from sklearn.model_selection import cross_val_score\n",
    "\n",
    "from sklearn.svm import SVC\n",
    "from sklearn.tree import DecisionTreeClassifier\n",
    "from sklearn.neighbors import KNeighborsClassifier\n",
    "from sklearn.naive_bayes import GaussianNB\n",
    "from sklearn.discriminant_analysis import LinearDiscriminantAnalysis\n",
    "from sklearn.discriminant_analysis import QuadraticDiscriminantAnalysis\n",
    "\n",
    "import scipy\n",
    "from scipy.spatial.distance import cosine\n",
    "from pprint import pprint\n",
    "from sklearn.base import clone"
   ]
  },
  {
   "cell_type": "markdown",
   "metadata": {},
   "source": [
    "### Number of features"
   ]
  },
  {
   "cell_type": "markdown",
   "metadata": {},
   "source": [
    "#### Feature selection - CountVectorizer"
   ]
  },
  {
   "cell_type": "code",
   "execution_count": 15,
   "metadata": {},
   "outputs": [],
   "source": [
    "def count_features(pipe_trans, param_range, param_name, process):\n",
    "    pipe = clone(pipe_trans)\n",
    "    no_features = []\n",
    "    for param in param_range:\n",
    "        pipe.set_params(**{'preprocessor__process': process, param_name: param})\n",
    "        dtm = pipe.fit_transform(X_train)\n",
    "        no_features.append(dtm.shape[1])\n",
    "    return no_features\n",
    "\n",
    "def plot_no_features(pipe_trans, param_range, param_name, process):    \n",
    "    no_features = count_features(pipe_trans, param_range, param_name, process)\n",
    "    \n",
    "    fig, ax = plt.subplots(figsize=(5, 5))    \n",
    "    ax.plot(param_range, no_features, '--o')\n",
    "    ax.set_xlabel(param_name)\n",
    "    ax.set_ylabel('Number of features')\n",
    "    ax.set_title('Process = ' + process)\n",
    "    ax.grid()\n",
    "    plt.show()    "
   ]
  },
  {
   "cell_type": "code",
   "execution_count": 73,
   "metadata": {},
   "outputs": [],
   "source": [
    "tf_pipe = Pipeline([('preprocessor', TextPreprocessor()),\n",
    "                    ('vectorizer', CountVectorizer(token_pattern=token_pattern))\n",
    "                   ])"
   ]
  },
  {
   "cell_type": "code",
   "execution_count": 95,
   "metadata": {},
   "outputs": [
    {
     "data": {
      "image/png": "[encoded data removed]",
      "text/plain": [
       "<Figure size 360x360 with 1 Axes>"
      ]
     },
     "metadata": {},
     "output_type": "display_data"
    }
   ],
   "source": [
    "max_df_range = np.arange(0.1, 1.1, 0.1)\n",
    "process = ''\n",
    "param_name = 'vectorizer__max_df'\n",
    "plot_no_features(tf_pipe, max_df_range, param_name, process)"
   ]
  },
  {
   "cell_type": "code",
   "execution_count": 96,
   "metadata": {},
   "outputs": [
    {
     "data": {
      "image/png": "[encoded data removed]",
      "text/plain": [
       "<Figure size 360x360 with 1 Axes>"
      ]
     },
     "metadata": {},
     "output_type": "display_data"
    }
   ],
   "source": [
    "max_df_range = np.arange(0.1, 1.1, 0.1)\n",
    "process = 'stem'\n",
    "param_name = 'vectorizer__max_df'\n",
    "plot_no_features(tf_pipe, max_df_range, param_name, process)"
   ]
  },
  {
   "cell_type": "code",
   "execution_count": 97,
   "metadata": {},
   "outputs": [
    {
     "data": {
      "image/png": "[encoded data removed]",
      "text/plain": [
       "<Figure size 360x360 with 1 Axes>"
      ]
     },
     "metadata": {},
     "output_type": "display_data"
    }
   ],
   "source": [
    "max_df_range = np.arange(0.1, 1.1, 0.1)\n",
    "process = 'lem'\n",
    "param_name = 'vectorizer__max_df'\n",
    "plot_no_features(tf_pipe, max_df_range, param_name, process)"
   ]
  },
  {
   "cell_type": "code",
   "execution_count": 98,
   "metadata": {},
   "outputs": [
    {
     "data": {
      "image/png": "[encoded data removed]",
      "text/plain": [
       "<Figure size 360x360 with 1 Axes>"
      ]
     },
     "metadata": {},
     "output_type": "display_data"
    }
   ],
   "source": [
    "min_df_range = np.arange(1, 11, 1)\n",
    "process = ''\n",
    "param_name = 'vectorizer__min_df'\n",
    "plot_no_features(tf_pipe, min_df_range, param_name, process)"
   ]
  },
  {
   "cell_type": "code",
   "execution_count": 99,
   "metadata": {},
   "outputs": [
    {
     "data": {
      "image/png": "[encoded data removed]",
      "text/plain": [
       "<Figure size 360x360 with 1 Axes>"
      ]
     },
     "metadata": {},
     "output_type": "display_data"
    }
   ],
   "source": [
    "min_df_range = np.arange(1, 11, 1)\n",
    "process = 'stem'\n",
    "param_name = 'vectorizer__min_df'\n",
    "plot_no_features(tf_pipe, min_df_range, param_name, process)"
   ]
  },
  {
   "cell_type": "code",
   "execution_count": 100,
   "metadata": {},
   "outputs": [
    {
     "data": {
      "image/png": "[encoded data removed]",
      "text/plain": [
       "<Figure size 360x360 with 1 Axes>"
      ]
     },
     "metadata": {},
     "output_type": "display_data"
    }
   ],
   "source": [
    "min_df_range = np.arange(1, 11, 1)\n",
    "process = 'lem'\n",
    "param_name = 'vectorizer__min_df'\n",
    "plot_no_features(tf_pipe, min_df_range, param_name, process)"
   ]
  },
  {
   "cell_type": "code",
   "execution_count": 101,
   "metadata": {},
   "outputs": [
    {
     "data": {
      "text/plain": [
       "[12749, 81774, 69025, 187067]"
      ]
     },
     "execution_count": 101,
     "metadata": {},
     "output_type": "execute_result"
    }
   ],
   "source": [
    "ngram_range = [(1, 1), (1, 2), (2, 2), (1, 3)]\n",
    "process = ''\n",
    "param_name = 'vectorizer__ngram_range'\n",
    "count_features(tf_pipe, ngram_range, param_name, process)"
   ]
  },
  {
   "cell_type": "code",
   "execution_count": 102,
   "metadata": {},
   "outputs": [
    {
     "data": {
      "text/plain": [
       "[10010, 75284, 65274, 179641]"
      ]
     },
     "execution_count": 102,
     "metadata": {},
     "output_type": "execute_result"
    }
   ],
   "source": [
    "ngram_range = [(1, 1), (1, 2), (2, 2), (1, 3)]\n",
    "process = 'stem'\n",
    "param_name = 'vectorizer__ngram_range'\n",
    "count_features(tf_pipe, ngram_range, param_name, process)"
   ]
  },
  {
   "cell_type": "code",
   "execution_count": 103,
   "metadata": {},
   "outputs": [
    {
     "data": {
      "text/plain": [
       "[11050, 76978, 65928, 181506]"
      ]
     },
     "execution_count": 103,
     "metadata": {},
     "output_type": "execute_result"
    }
   ],
   "source": [
    "ngram_range = [(1, 1), (1, 2), (2, 2), (1, 3)]\n",
    "process = 'lem'\n",
    "param_name = 'vectorizer__ngram_range'\n",
    "count_features(tf_pipe, ngram_range, param_name, process)"
   ]
  },
  {
   "cell_type": "markdown",
   "metadata": {},
   "source": [
    "#### Feature extraction - SVD"
   ]
  },
  {
   "cell_type": "code",
   "execution_count": 104,
   "metadata": {},
   "outputs": [],
   "source": [
    "lsi_pipe= Pipeline([('preprocessor', TextPreprocessor()),\n",
    "                    ('vectorizer', TfidfVectorizer(token_pattern=token_pattern, norm='l2')),\n",
    "                    ('svd', TruncatedSVD())\n",
    "                    ])"
   ]
  },
  {
   "cell_type": "code",
   "execution_count": 105,
   "metadata": {},
   "outputs": [],
   "source": [
    "component_range = np.arange(100, 2000, 100)\n",
    "explained_variance = []\n",
    "for n in component_range:\n",
    "    lsi_pipe.set_params(**{'svd__n_components': n})\n",
    "    dtm = lsi_pipe.fit_transform(X_train)\n",
    "    variance = lsi_pipe.named_steps['svd'].explained_variance_ratio_.sum()\n",
    "    explained_variance.append(variance)"
   ]
  },
  {
   "cell_type": "code",
   "execution_count": 106,
   "metadata": {},
   "outputs": [
    {
     "data": {
      "image/png": "[encoded data removed]",
      "text/plain": [
       "<Figure size 360x360 with 1 Axes>"
      ]
     },
     "metadata": {},
     "output_type": "display_data"
    }
   ],
   "source": [
    "fig, ax = plt.subplots(figsize=(5, 5))    \n",
    "ax.plot(component_range, explained_variance, '--o')\n",
    "ax.set_xlabel('Number of features')\n",
    "ax.set_ylabel('Explained variance')\n",
    "ax.set_title('LSI')\n",
    "ax.set_ylim(0, 1)\n",
    "ax.grid()\n",
    "plt.show()"
   ]
  },
  {
   "cell_type": "code",
   "execution_count": 107,
   "metadata": {},
   "outputs": [
    {
     "name": "stdout",
     "output_type": "stream",
     "text": [
      "Explained variance = 0.017\n"
     ]
    }
   ],
   "source": [
    "lsi_pipe.set_params(**{'svd__n_components': 2})\n",
    "svd_dtm = lsi_pipe.fit_transform(X_train)\n",
    "print('Explained variance = %.3f' % lsi_pipe.named_steps['svd'].explained_variance_ratio_.sum())"
   ]
  },
  {
   "cell_type": "code",
   "execution_count": 108,
   "metadata": {},
   "outputs": [
    {
     "data": {
      "image/png": "[encoded data removed]",
      "text/plain": [
       "<Figure size 360x360 with 1 Axes>"
      ]
     },
     "metadata": {},
     "output_type": "display_data"
    }
   ],
   "source": [
    "fig, ax = plt.subplots(figsize=(5, 5))\n",
    "ax.scatter(svd_dtm[y_train == 0, 0], svd_dtm[y_train == 0, 1], label='Nonaggressive', alpha=0.5)\n",
    "ax.scatter(svd_dtm[y_train == 1, 0], svd_dtm[y_train == 1, 1], label='Aggressive', alpha=0.5)\n",
    "plt.legend()\n",
    "plt.show()"
   ]
  },
  {
   "cell_type": "code",
   "execution_count": 109,
   "metadata": {},
   "outputs": [
    {
     "data": {
      "image/png": "[encoded data removed]",
      "text/plain": [
       "<Figure size 360x360 with 1 Axes>"
      ]
     },
     "metadata": {},
     "output_type": "display_data"
    }
   ],
   "source": [
    "svd_dtm_normalized = Normalizer().fit_transform(svd_dtm)\n",
    "\n",
    "fig, ax = plt.subplots(figsize=(5, 5))\n",
    "ax.scatter(svd_dtm_normalized[y_train == 0, 0], svd_dtm_normalized[y_train == 0, 1], \n",
    "           label='Nonaggressive', alpha=0.5)\n",
    "ax.scatter(svd_dtm_normalized[y_train == 1, 0], svd_dtm_normalized[y_train == 1, 1], \n",
    "           label='Aggressive', alpha=0.5)\n",
    "plt.axis('equal')\n",
    "plt.legend()\n",
    "plt.show()"
   ]
  },
  {
   "cell_type": "code",
   "execution_count": 110,
   "metadata": {},
   "outputs": [],
   "source": [
    "lsi_pipe = Pipeline([('preprocessor', TextPreprocessor()),\n",
    "                     ('vectorizer', TfidfVectorizer(token_pattern=token_pattern, norm='l2',\n",
    "                                                    ngram_range=(1, 2), min_df=2)),\n",
    "                     ('svd', TruncatedSVD())\n",
    "                    ])"
   ]
  },
  {
   "cell_type": "code",
   "execution_count": 111,
   "metadata": {},
   "outputs": [],
   "source": [
    "component_range = np.arange(100, 2000, 100)\n",
    "explained_variance = []\n",
    "for n in component_range:\n",
    "    lsi_pipe.set_params(**{'svd__n_components': n})\n",
    "    dtm = lsi_pipe.fit_transform(X_train)\n",
    "    variance = lsi_pipe.named_steps['svd'].explained_variance_ratio_.sum()\n",
    "    explained_variance.append(variance)"
   ]
  },
  {
   "cell_type": "code",
   "execution_count": 112,
   "metadata": {},
   "outputs": [
    {
     "data": {
      "image/png": "[encoded data removed]",
      "text/plain": [
       "<Figure size 360x360 with 1 Axes>"
      ]
     },
     "metadata": {},
     "output_type": "display_data"
    }
   ],
   "source": [
    "fig, ax = plt.subplots(figsize=(5, 5))    \n",
    "ax.plot(component_range, explained_variance, '--o')\n",
    "ax.set_xlabel('Number of features')\n",
    "ax.set_ylabel('Explained variance')\n",
    "ax.set_title('LSI')\n",
    "ax.set_ylim(0, 1)\n",
    "ax.grid()\n",
    "plt.show()"
   ]
  },
  {
   "cell_type": "markdown",
   "metadata": {},
   "source": [
    "### Transformers"
   ]
  },
  {
   "cell_type": "markdown",
   "metadata": {},
   "source": [
    "#### CountVectorizer: Term Frequency"
   ]
  },
  {
   "cell_type": "code",
   "execution_count": 16,
   "metadata": {},
   "outputs": [],
   "source": [
    "tf_pipe = Pipeline([\n",
    "    ('features', FeatureUnion([\n",
    "            ('freq_feats', FrequencyExtractor()),    \n",
    "            ('text_feats', Pipeline([('preprocessor', TextPreprocessor(stopwords=IRRELEVANT_STOPWORDS, \n",
    "                                                                       process='stem')),\n",
    "                                     ('vectorizer', CountVectorizer(token_pattern=token_pattern, min_df=2,\n",
    "                                                                    ngram_range=(1, 2)))\n",
    "                                    ]))\n",
    "            ])),\n",
    "    ('scaler', MaxAbsScaler())\n",
    "    ])\n",
    "\n",
    "preprocessor_path = 'transformer__features__text_feats__preprocessor'\n",
    "vectorizer_path = 'transformer__features__text_feats__vectorizer'\n",
    "tf_param_dist = {\n",
    "                 preprocessor_path + '__stopwords': [IRRELEVANT_STOPWORDS, STOPWORDS, []],\n",
    "#                  preprocessor_path + '__process': ['lem', 'stem', ''],\n",
    "                 vectorizer_path + '__ngram_range': [(1, 1), (1, 2), (2, 2)],\n",
    "#                  vectorizer_path + '__min_df': randint(1, 6),\n",
    "                 vectorizer_path + '__min_df': randint(15, 50),\n",
    "                 }"
   ]
  },
  {
   "cell_type": "code",
   "execution_count": 15,
   "metadata": {},
   "outputs": [],
   "source": [
    "tf_dtm_train = tf_pipe.fit_transform(X_train)\n",
    "tf_dtm_test = tf_pipe.transform(X_test)"
   ]
  },
  {
   "cell_type": "markdown",
   "metadata": {},
   "source": [
    "#### TfidfVectorizer: Term Frequency - Inverse Document Frequency"
   ]
  },
  {
   "cell_type": "code",
   "execution_count": 16,
   "metadata": {},
   "outputs": [],
   "source": [
    "tfidf_pipe = Pipeline([\n",
    "    ('features', FeatureUnion([\n",
    "            ('freq_feats', FrequencyExtractor()),    \n",
    "            ('text_feats', Pipeline([('preprocessor', TextPreprocessor(stopwords=IRRELEVANT_STOPWORDS, \n",
    "                                                                       process='stem')),\n",
    "                                     ('vectorizer', TfidfVectorizer(token_pattern=token_pattern, min_df=2,\n",
    "                                                                    ngram_range=(1, 2), norm='l2'))\n",
    "                                    ]))\n",
    "            ]))\n",
    "    ])\n",
    "\n",
    "tfidf_param_dist = {\n",
    "                    preprocessor_path + '__stopwords': [IRRELEVANT_STOPWORDS, STOPWORDS, []],\n",
    "#                     preprocessor_path + '__process': ['lem', 'stem', ''],\n",
    "                    vectorizer_path + '__ngram_range': [(1, 1), (1, 2), (2, 2)],\n",
    "#                     vectorizer_path + '__min_df': randint(1, 6),\n",
    "                    vectorizer_path + '__min_df': randint(15, 50),\n",
    "                    }"
   ]
  },
  {
   "cell_type": "code",
   "execution_count": 17,
   "metadata": {},
   "outputs": [],
   "source": [
    "tfidf_dtm_train = tfidf_pipe.fit_transform(X_train)\n",
    "tfidf_dtm_test = tfidf_pipe.transform(X_test)"
   ]
  },
  {
   "cell_type": "markdown",
   "metadata": {},
   "source": [
    "#### SVD: Singular Value Decomposition (Latent Semantic Indexing)"
   ]
  },
  {
   "cell_type": "code",
   "execution_count": 18,
   "metadata": {},
   "outputs": [],
   "source": [
    "lsi_pipe = Pipeline([\n",
    "    ('features', FeatureUnion([\n",
    "            ('freq_feats', FrequencyExtractor()),    \n",
    "            ('text_feats', Pipeline([('preprocessor', TextPreprocessor(stopwords=IRRELEVANT_STOPWORDS, \n",
    "                                                                       process='stem')),\n",
    "                                     ('vectorizer', TfidfVectorizer(token_pattern=token_pattern, min_df=2,\n",
    "                                                                    ngram_range=(1, 2), norm='l2')),\n",
    "                                     ('svd', TruncatedSVD(n_components=750)),\n",
    "                                     ('normalizer', Normalizer())\n",
    "                                    ]))\n",
    "            ]))\n",
    "    ])\n",
    "\n",
    "svd_path = 'transformer__features__text_feats__svd'\n",
    "lsi_param_dist = {\n",
    "#                   preprocessor_path + '__stopwords': [IRRELEVANT_STOPWORDS, STOPWORDS, []],\n",
    "#                   preprocessor_path + '__process': ['lem', 'stem', ''],\n",
    "#                   vectorizer_path + '__ngram_range': [(1, 1), (1, 2), (2, 2)],\n",
    "#                   vectorizer_path + '__min_df': randint(1, 6),\n",
    "                  vectorizer_path + '__min_df': randint(15, 50),\n",
    "                  svd_path + '__n_components': randint(100, 1000)\n",
    "                  }"
   ]
  },
  {
   "cell_type": "code",
   "execution_count": 107,
   "metadata": {},
   "outputs": [],
   "source": [
    "lsi_dtm_train = lsi_pipe.fit_transform(X_train)\n",
    "lsi_dtm_test = lsi_pipe.transform(X_test)"
   ]
  },
  {
   "cell_type": "code",
   "execution_count": 108,
   "metadata": {},
   "outputs": [
    {
     "data": {
      "text/plain": [
       "0.42156796436329935"
      ]
     },
     "execution_count": 108,
     "metadata": {},
     "output_type": "execute_result"
    }
   ],
   "source": [
    "lsi_pipe.named_steps['features'].transformer_list[1][1].named_steps['svd'].explained_variance_ratio_.sum()"
   ]
  },
  {
   "cell_type": "markdown",
   "metadata": {},
   "source": [
    "#### LatentDirichletAllocation"
   ]
  },
  {
   "cell_type": "code",
   "execution_count": 19,
   "metadata": {},
   "outputs": [],
   "source": [
    "lda_pipe = Pipeline([\n",
    "    ('features', FeatureUnion([\n",
    "            ('freq_feats', FrequencyExtractor()),    \n",
    "            ('text_feats', Pipeline([('preprocessor', TextPreprocessor(stopwords=IRRELEVANT_STOPWORDS, \n",
    "                                                                       process='stem')),\n",
    "                                     ('vectorizer', TfidfVectorizer(token_pattern=token_pattern, min_df=2,\n",
    "                                                                    ngram_range=(1, 2), norm='l2')),\n",
    "                                     ('lda', LatentDirichletAllocation(n_components=25, learning_method='online', \n",
    "                                                                       doc_topic_prior=0.1,\n",
    "                                                                       topic_word_prior=0.1))\n",
    "                                    ]))\n",
    "            ]))\n",
    "    ])\n",
    "\n",
    "lda_path = 'transformer__features__text_feats__lda'\n",
    "lda_param_dist = {\n",
    "#                   preprocessor_path + '__stopwords': [IRRELEVANT_STOPWORDS, STOPWORDS, []],\n",
    "#                   preprocessor_path + '__process': ['lem', 'stem', ''],\n",
    "#                   vectorizer_path + '__ngram_range': [(1, 1), (1, 2), (2, 2)],\n",
    "#                   vectorizer_path + '__min_df': randint(1, 6),\n",
    "                  vectorizer_path + '__min_df': randint(15, 50),\n",
    "                  lda_path + '__n_components': randint(10, 50),\n",
    "                  lda_path + '__doc_topic_prior': uniform(0.01, 3 - 0.01),\n",
    "                  lda_path + '__topic_word_prior': uniform(0.01, 3 - 0.01)\n",
    "                  }"
   ]
  },
  {
   "cell_type": "code",
   "execution_count": 110,
   "metadata": {},
   "outputs": [],
   "source": [
    "lda_dtm_train = lda_pipe.fit_transform(X_train)\n",
    "lda_dtm_test = lda_pipe.transform(X_test)"
   ]
  },
  {
   "cell_type": "code",
   "execution_count": 22,
   "metadata": {},
   "outputs": [],
   "source": [
    "X_train_dict = {\n",
    "#                 'tf': tf_dtm_train,\n",
    "#                 'tfidf': tfidf_dtm_train,\n",
    "#                 'lsi': lsi_dtm_train,\n",
    "#                 'lda': lda_dtm_train,\n",
    "                'original': X_train\n",
    "                }\n",
    "\n",
    "X_test_dict = {\n",
    "#                'tf': tf_dtm_test,\n",
    "#                'tfidf': tfidf_dtm_test,\n",
    "#                'lsi': lsi_dtm_test,\n",
    "#                'lda': lda_dtm_test,\n",
    "               'original': X_test\n",
    "               }"
   ]
  },
  {
   "cell_type": "code",
   "execution_count": 143,
   "metadata": {},
   "outputs": [],
   "source": [
    "# trans_name = 'tf'\n",
    "# X_sparse_extended = scipy.sparse.vstack([X_train_dict[trans_name], X_test_dict[trans_name]])\n",
    "# X_sparse_extended.shape"
   ]
  },
  {
   "cell_type": "code",
   "execution_count": 23,
   "metadata": {},
   "outputs": [],
   "source": [
    "transformers = [('tf', tf_pipe),\n",
    "                ('tfidf', tfidf_pipe),\n",
    "#                 ('lsi', lsi_pipe),\n",
    "#                 ('lda', lda_pipe)                \n",
    "               ]\n",
    "\n",
    "transformers_param_dist = {'tf': tf_param_dist,\n",
    "                           'tfidf': tfidf_param_dist,\n",
    "                           'lsi': lsi_param_dist,\n",
    "                           'lda': lda_param_dist\n",
    "                          }"
   ]
  },
  {
   "cell_type": "markdown",
   "metadata": {},
   "source": [
    "### Estimators"
   ]
  },
  {
   "cell_type": "code",
   "execution_count": 17,
   "metadata": {},
   "outputs": [],
   "source": [
    "estimators = {'lr': LogisticRegression(),\n",
    "              'lin_svm': SVC(kernel='linear', probability=True),\n",
    "              'rbf_svm': SVC(kernel='rbf', probability=True),\n",
    "              'dt': DecisionTreeClassifier(),\n",
    "              'knn': KNeighborsClassifier(),\n",
    "              'nb': GaussianNB(),\n",
    "              'lda': LinearDiscriminantAnalysis(),\n",
    "              'qda': QuadraticDiscriminantAnalysis(),\n",
    "             }\n",
    "\n",
    "estimators_param_dist = {'lr': {'clf__penalty': ['l1', 'l2'],\n",
    "                                'clf__C': uniform(0., 4.)},\n",
    "                         'lin_svm': {'clf__C': uniform(0., 4.)},\n",
    "                         'rbf_svm': {'clf__C': uniform(0., 4.),\n",
    "                                     'clf__gamma': uniform(0.1, 3 - 0.1)},\n",
    "                         'dt': {'clf__max_depth': randint(5, 15),\n",
    "                                'clf__min_samples_leaf': randint(2, 40)},\n",
    "                         'knn': {'clf__n_neighbors': randint(4, 15),\n",
    "                                 'clf__metric': ['minkowski', cosine]},\n",
    "                         'nb': {}, \n",
    "                         'lda': {},\n",
    "                         'qda': {},\n",
    "                        }"
   ]
  },
  {
   "cell_type": "markdown",
   "metadata": {},
   "source": [
    "### Classification"
   ]
  },
  {
   "cell_type": "code",
   "execution_count": 18,
   "metadata": {},
   "outputs": [],
   "source": [
    "def search_best_clfs(clf_name, X_train_dict, X_test_dict, transformation=False, n_iter=10):\n",
    "    best_clfs = {}\n",
    "    scores = pd.DataFrame(columns=[clf_name + '_train', clf_name + '_test'])\n",
    "\n",
    "    for trans_name, trans_pipe in transformers:\n",
    "        print(trans_name)\n",
    "        if transformation:\n",
    "            pipe = Pipeline([('transformer', clone(trans_pipe)),\n",
    "                             ('clf', clone(estimators[clf_name]))])\n",
    "\n",
    "            param_dist = transformers_param_dist[trans_name].copy()\n",
    "            param_dist.update(estimators_param_dist[clf_name].items())\n",
    "            \n",
    "            X_train = X_train_dict['original']\n",
    "            X_test = X_test_dict['original']\n",
    "        else:\n",
    "            pipe = Pipeline([('clf', clone(estimators[clf_name]))])\n",
    "            param_dist = estimators_param_dist[clf_name]\n",
    "            \n",
    "            X_train = X_train_dict[trans_name]\n",
    "            X_test = X_test_dict[trans_name]\n",
    "\n",
    "        rs = RandomizedSearchCV(estimator=pipe, param_distributions=param_dist, \n",
    "                                n_iter=n_iter, n_jobs=-1, refit=True,\n",
    "                                scoring='accuracy',\n",
    "                                cv=StratifiedKFold(n_splits=5, shuffle=True, random_state=10))\n",
    "\n",
    "        rs.fit(X_train, y_train)\n",
    "\n",
    "        best_clfs.update({trans_name: rs.best_estimator_})\n",
    "\n",
    "        train_score = rs.score(X_train, y_train)\n",
    "        test_score = rs.score(X_test, y_test)\n",
    "        scores.loc[trans_name] = [train_score, test_score]\n",
    "        \n",
    "    return best_clfs, scores"
   ]
  },
  {
   "cell_type": "code",
   "execution_count": 19,
   "metadata": {},
   "outputs": [],
   "source": [
    "def get_model_params(estimator_name, best_models_list, transformation=False):\n",
    "    model_param_names = [re.search('.+__(.+?)$', k).group(1) for k in estimators_param_dist[estimator_name]]\n",
    "    \n",
    "    model_params = pd.DataFrame(columns=model_param_names)\n",
    "    for trans_name, model in best_models_list.items():\n",
    "        model_param_dict = model.named_steps['clf'].get_params()\n",
    "        model_params.loc[trans_name, model_param_names] = [model_param_dict[param_name] \n",
    "                                                           for param_name in model_param_names]\n",
    "        \n",
    "        if transformation:\n",
    "            trans_param_names = [re.search('.+__(.+?__.+?)$', k).group(1) \n",
    "                                 for k in transformers_param_dist[trans_name]]\n",
    "            trans_param_dict = model.named_steps['transformer'].named_steps['features'].\\\n",
    "                                     transformer_list[1][1].get_params()\n",
    "            for trans_param_name in trans_param_names:\n",
    "                if trans_param_name not in model_params.columns:\n",
    "                    model_params.loc[:, trans_param_name] = [None] * model_params.shape[0]\n",
    "                model_params.loc[trans_name, trans_param_name] = trans_param_dict[trans_param_name]\n",
    "        \n",
    "    return model_params"
   ]
  },
  {
   "cell_type": "code",
   "execution_count": 20,
   "metadata": {},
   "outputs": [],
   "source": [
    "import pickle\n",
    "import os"
   ]
  },
  {
   "cell_type": "code",
   "execution_count": 21,
   "metadata": {},
   "outputs": [],
   "source": [
    "def save_model(model, file_name):\n",
    "    models_path = 'Models'\n",
    "    if not os.path.exists(models_path):\n",
    "        os.makedirs(models_path)\n",
    "    \n",
    "    with open(os.path.join(models_path, file_name), 'wb') as file:\n",
    "        pickle.dump(model, file, protocol=4)"
   ]
  },
  {
   "cell_type": "code",
   "execution_count": 22,
   "metadata": {},
   "outputs": [],
   "source": [
    "def read_model(file_name):\n",
    "    with open(os.path.join('Models', file_name), 'rb') as file:\n",
    "        loaded_model = pickle.load(file)\n",
    "    return loaded_model"
   ]
  },
  {
   "cell_type": "code",
   "execution_count": 23,
   "metadata": {},
   "outputs": [],
   "source": [
    "def save_kbest(kbest_array, file_name):\n",
    "    models_path = 'kBest'\n",
    "    if not os.path.exists(models_path):\n",
    "        os.makedirs(models_path)\n",
    "\n",
    "    np.savetxt(os.path.join(models_path, file_name), kbest_array, fmt='%s', delimiter=',')"
   ]
  },
  {
   "cell_type": "markdown",
   "metadata": {},
   "source": [
    "#### Logistic Regression"
   ]
  },
  {
   "cell_type": "markdown",
   "metadata": {},
   "source": [
    "15 <= min_df <= 50"
   ]
  },
  {
   "cell_type": "code",
   "execution_count": 107,
   "metadata": {},
   "outputs": [
    {
     "name": "stdout",
     "output_type": "stream",
     "text": [
      "tf\n",
      "tfidf\n"
     ]
    }
   ],
   "source": [
    "clf_name = 'lr'\n",
    "best_lrs, lr_scores = search_best_clfs(clf_name, X_train_dict, X_test_dict, n_iter=50, transformation=True)"
   ]
  },
  {
   "cell_type": "code",
   "execution_count": 108,
   "metadata": {},
   "outputs": [
    {
     "data": {
      "text/html": [
       "<div>\n",
       "<style scoped>\n",
       "    .dataframe tbody tr th:only-of-type {\n",
       "        vertical-align: middle;\n",
       "    }\n",
       "\n",
       "    .dataframe tbody tr th {\n",
       "        vertical-align: top;\n",
       "    }\n",
       "\n",
       "    .dataframe thead th {\n",
       "        text-align: right;\n",
       "    }\n",
       "</style>\n",
       "<table border=\"1\" class=\"dataframe\">\n",
       "  <thead>\n",
       "    <tr style=\"text-align: right;\">\n",
       "      <th></th>\n",
       "      <th>lr_train</th>\n",
       "      <th>lr_test</th>\n",
       "    </tr>\n",
       "  </thead>\n",
       "  <tbody>\n",
       "    <tr>\n",
       "      <th>tf</th>\n",
       "      <td>0.798137</td>\n",
       "      <td>0.752974</td>\n",
       "    </tr>\n",
       "    <tr>\n",
       "      <th>tfidf</th>\n",
       "      <td>0.798528</td>\n",
       "      <td>0.756105</td>\n",
       "    </tr>\n",
       "  </tbody>\n",
       "</table>\n",
       "</div>"
      ],
      "text/plain": [
       "       lr_train   lr_test\n",
       "tf     0.798137  0.752974\n",
       "tfidf  0.798528  0.756105"
      ]
     },
     "execution_count": 108,
     "metadata": {},
     "output_type": "execute_result"
    }
   ],
   "source": [
    "lr_scores"
   ]
  },
  {
   "cell_type": "code",
   "execution_count": 109,
   "metadata": {},
   "outputs": [
    {
     "data": {
      "text/html": [
       "<div>\n",
       "<style scoped>\n",
       "    .dataframe tbody tr th:only-of-type {\n",
       "        vertical-align: middle;\n",
       "    }\n",
       "\n",
       "    .dataframe tbody tr th {\n",
       "        vertical-align: top;\n",
       "    }\n",
       "\n",
       "    .dataframe thead th {\n",
       "        text-align: right;\n",
       "    }\n",
       "</style>\n",
       "<table border=\"1\" class=\"dataframe\">\n",
       "  <thead>\n",
       "    <tr style=\"text-align: right;\">\n",
       "      <th></th>\n",
       "      <th>penalty</th>\n",
       "      <th>C</th>\n",
       "      <th>preprocessor__stopwords</th>\n",
       "      <th>vectorizer__ngram_range</th>\n",
       "      <th>vectorizer__min_df</th>\n",
       "    </tr>\n",
       "  </thead>\n",
       "  <tbody>\n",
       "    <tr>\n",
       "      <th>tf</th>\n",
       "      <td>l1</td>\n",
       "      <td>3.08773</td>\n",
       "      <td>[a, about, above, after, again, against, ain, ...</td>\n",
       "      <td>(1, 2)</td>\n",
       "      <td>18</td>\n",
       "    </tr>\n",
       "    <tr>\n",
       "      <th>tfidf</th>\n",
       "      <td>l1</td>\n",
       "      <td>1.8305</td>\n",
       "      <td>[]</td>\n",
       "      <td>(1, 2)</td>\n",
       "      <td>20</td>\n",
       "    </tr>\n",
       "  </tbody>\n",
       "</table>\n",
       "</div>"
      ],
      "text/plain": [
       "      penalty        C                            preprocessor__stopwords  \\\n",
       "tf         l1  3.08773  [a, about, above, after, again, against, ain, ...   \n",
       "tfidf      l1   1.8305                                                 []   \n",
       "\n",
       "      vectorizer__ngram_range vectorizer__min_df  \n",
       "tf                     (1, 2)                 18  \n",
       "tfidf                  (1, 2)                 20  "
      ]
     },
     "execution_count": 109,
     "metadata": {},
     "output_type": "execute_result"
    }
   ],
   "source": [
    "get_model_params(clf_name, best_lrs, transformation=True)"
   ]
  },
  {
   "cell_type": "markdown",
   "metadata": {},
   "source": [
    "We can look at the learning and validation curve to check overfitting/underfitting"
   ]
  },
  {
   "cell_type": "code",
   "execution_count": 129,
   "metadata": {},
   "outputs": [
    {
     "data": {
      "image/png": "[encoded data removed]",
      "text/plain": [
       "<Figure size 360x360 with 1 Axes>"
      ]
     },
     "metadata": {},
     "output_type": "display_data"
    }
   ],
   "source": [
    "trans_name = 'tf'\n",
    "plot_validation_curve(estimator=clone(best_lrs[trans_name]), X=X_train, y=y_train, \n",
    "                      param_name='clf__C', param_range=np.logspace(-3, 3, 7), x_scale='log')"
   ]
  },
  {
   "cell_type": "code",
   "execution_count": 110,
   "metadata": {},
   "outputs": [
    {
     "name": "stdout",
     "output_type": "stream",
     "text": [
      "Tarining dataset: accuracy = 0.789\n",
      "Test dataset: accuracy = 0.757\n"
     ]
    }
   ],
   "source": [
    "trans_name = 'tf'\n",
    "lr_pipe = clone(best_lrs[trans_name])\n",
    "lr_pipe.set_params(**{'clf__C': 1.})\n",
    "\n",
    "lr_pipe.fit(X_train, y_train);\n",
    "\n",
    "y_train_pred = lr_pipe.predict(X_train)\n",
    "y_test_pred = lr_pipe.predict(X_test)\n",
    "print('Tarining dataset: accuracy = %.3f' % accuracy_score(y_pred=y_train_pred, y_true=y_train))\n",
    "print('Test dataset: accuracy = %.3f' % accuracy_score(y_pred=y_test_pred, y_true=y_test))"
   ]
  },
  {
   "cell_type": "code",
   "execution_count": 111,
   "metadata": {},
   "outputs": [
    {
     "data": {
      "image/png": "[encoded data removed]",
      "text/plain": [
       "<Figure size 216x216 with 1 Axes>"
      ]
     },
     "metadata": {},
     "output_type": "display_data"
    },
    {
     "data": {
      "image/png": "[encoded data removed]",
      "text/plain": [
       "<Figure size 216x216 with 1 Axes>"
      ]
     },
     "metadata": {},
     "output_type": "display_data"
    }
   ],
   "source": [
    "plot_confusion_matrix(y_train, y_train_pred)\n",
    "plot_confusion_matrix(y_test, y_test_pred)"
   ]
  },
  {
   "cell_type": "code",
   "execution_count": 112,
   "metadata": {},
   "outputs": [
    {
     "data": {
      "image/png": "[encoded data removed]",
      "text/plain": [
       "<Figure size 360x360 with 1 Axes>"
      ]
     },
     "metadata": {},
     "output_type": "display_data"
    }
   ],
   "source": [
    "plot_learning_curve(estimator=clone(lr_pipe), X=X_train, y=y_train)"
   ]
  },
  {
   "cell_type": "code",
   "execution_count": 113,
   "metadata": {},
   "outputs": [
    {
     "name": "stdout",
     "output_type": "stream",
     "text": [
      "[0.741 0.739 0.734 0.741 0.748]\n",
      "Validation: accuracy = 0.740\n"
     ]
    }
   ],
   "source": [
    "lr_pipe_extended = clone(lr_pipe)\n",
    "\n",
    "extended_scores = cross_val_score(lr_pipe_extended, X_extended, y_extended, scoring='accuracy', \n",
    "                                  cv=StratifiedKFold(n_splits=5, shuffle=True, random_state=10))\n",
    "print(np.round(extended_scores, 3))\n",
    "print('Validation: accuracy = %.3f' % extended_scores.mean())"
   ]
  },
  {
   "cell_type": "code",
   "execution_count": 114,
   "metadata": {},
   "outputs": [
    {
     "name": "stdout",
     "output_type": "stream",
     "text": [
      "Tarining dataset: accuracy = 0.798\n"
     ]
    }
   ],
   "source": [
    "lr_pipe_extended.fit(X_extended, y_extended)\n",
    "y_extended_pred = lr_pipe_extended.predict(X_extended)\n",
    "print('Tarining dataset: accuracy = %.3f' % accuracy_score(y_pred=y_extended_pred, y_true=y_extended))"
   ]
  },
  {
   "cell_type": "code",
   "execution_count": 115,
   "metadata": {},
   "outputs": [],
   "source": [
    "file_name = 'logisticregression18.p'\n",
    "model = lr_pipe_extended\n",
    "save_model(model, file_name)"
   ]
  },
  {
   "cell_type": "code",
   "execution_count": 116,
   "metadata": {},
   "outputs": [
    {
     "name": "stdout",
     "output_type": "stream",
     "text": [
      "Feature: gay                  Score:   17.985\tCount:    486\n",
      "Feature: whore                Score:   15.285\tCount:    148\n",
      "Feature: fuck                 Score:    9.890\tCount:   1882\n",
      "Feature: bitch                Score:    8.948\tCount:    609\n",
      "Feature: suck                 Score:    8.328\tCount:   1269\n",
      "Feature: damn                 Score:    8.084\tCount:   1983\n",
      "Feature: emo                  Score:    6.555\tCount:    151\n",
      "Feature: hate                 Score:    6.326\tCount:   2183\n",
      "Feature: ass                  Score:    6.167\tCount:   1447\n",
      "Feature: pussi                Score:    5.908\tCount:     64\n"
     ]
    }
   ],
   "source": [
    "importance = np.abs(lr_pipe_extended.named_steps['clf'].coef_[0, :])\n",
    "print_kbest(lr_pipe_extended.named_steps['transformer'], importance, 10, X_extended)"
   ]
  },
  {
   "cell_type": "code",
   "execution_count": 117,
   "metadata": {},
   "outputs": [
    {
     "name": "stdout",
     "output_type": "stream",
     "text": [
      "['gay' 'whore' 'fuck' 'bitch' 'suck' 'damn' 'emo' 'hate' 'ass' 'pussi'\n",
      " 'slut' 'loser' 'ugli' 'fat' 'cock' 'freak' 'fag' 'nerd' 'choke' 'love'\n",
      " 'cum' 'favorit' 'onequestionmark' 'cool' 'dick' 'whale' 'pig' 'yew'\n",
      " 'piss' 'laugh at' 'messag' 'cunt' 'dam' 'would do'\n",
      " 'onequestionmark think' 'ever' 'thi year' 'feel better' 'umm' 'action'\n",
      " 'finger' 'client' 'do oneexclamationmark' 'french' 'fli' 'screen'\n",
      " 'go onedot' 'im' 'homi' 'shit onedot' 'onequestionmark are' 'club' 'lame'\n",
      " 'like that' 'retard' 'bug' 'wow' 'do it' 'like fuck' 'do like' 'ive'\n",
      " 'swear' 'do that' 'mi' 'realli suck' 'nope' 'manydot haha' 'poser'\n",
      " 'what would' 'page' 'shit' 'hoe' 'onedot good' 'dure' 'smell'\n",
      " 'gay oneexclamationmark' 'want go' 'youtub' 'manydot suck' 'bull' 'met'\n",
      " 'road' 'shut fuck' 'manyexclamationmark' 'speak' 'hold'\n",
      " 'fuck quotationmark' 'count' 'act' 'do onedot' 'fuck and' \"don't think\"\n",
      " 'life' 'part' 'win' 'red' 'although' 'video' 'funni' 'parent']\n"
     ]
    }
   ],
   "source": [
    "sorted_features = get_sorted_features(lr_pipe_extended.named_steps['transformer'], importance)\n",
    "print(sorted_features[:100])"
   ]
  },
  {
   "cell_type": "code",
   "execution_count": 118,
   "metadata": {
    "scrolled": true
   },
   "outputs": [],
   "source": [
    "k = 1000\n",
    "file_name = 'logisticregression18' + str(k) + '.csv'\n",
    "sorted_counts = get_sorted_counts(lr_pipe_extended.named_steps['transformer'], importance, X_extended)\n",
    "kbest_array = np.c_[sorted_features[:k], sorted_counts[:k]]\n",
    "save_kbest(kbest_array, file_name)"
   ]
  },
  {
   "cell_type": "markdown",
   "metadata": {},
   "source": [
    "min_df=50"
   ]
  },
  {
   "cell_type": "code",
   "execution_count": 523,
   "metadata": {},
   "outputs": [
    {
     "name": "stdout",
     "output_type": "stream",
     "text": [
      "tf\n",
      "tfidf\n"
     ]
    }
   ],
   "source": [
    "clf_name = 'lr'\n",
    "best_lrs, lr_scores = search_best_clfs(clf_name, X_train_dict, X_test_dict, n_iter=10)"
   ]
  },
  {
   "cell_type": "code",
   "execution_count": 524,
   "metadata": {},
   "outputs": [
    {
     "data": {
      "text/html": [
       "<div>\n",
       "<style scoped>\n",
       "    .dataframe tbody tr th:only-of-type {\n",
       "        vertical-align: middle;\n",
       "    }\n",
       "\n",
       "    .dataframe tbody tr th {\n",
       "        vertical-align: top;\n",
       "    }\n",
       "\n",
       "    .dataframe thead th {\n",
       "        text-align: right;\n",
       "    }\n",
       "</style>\n",
       "<table border=\"1\" class=\"dataframe\">\n",
       "  <thead>\n",
       "    <tr style=\"text-align: right;\">\n",
       "      <th></th>\n",
       "      <th>lr_train</th>\n",
       "      <th>lr_test</th>\n",
       "    </tr>\n",
       "  </thead>\n",
       "  <tbody>\n",
       "    <tr>\n",
       "      <th>tf</th>\n",
       "      <td>0.741155</td>\n",
       "      <td>0.726362</td>\n",
       "    </tr>\n",
       "    <tr>\n",
       "      <th>tfidf</th>\n",
       "      <td>0.739277</td>\n",
       "      <td>0.727614</td>\n",
       "    </tr>\n",
       "  </tbody>\n",
       "</table>\n",
       "</div>"
      ],
      "text/plain": [
       "       lr_train   lr_test\n",
       "tf     0.741155  0.726362\n",
       "tfidf  0.739277  0.727614"
      ]
     },
     "execution_count": 524,
     "metadata": {},
     "output_type": "execute_result"
    }
   ],
   "source": [
    "lr_scores"
   ]
  },
  {
   "cell_type": "code",
   "execution_count": 525,
   "metadata": {},
   "outputs": [
    {
     "data": {
      "text/html": [
       "<div>\n",
       "<style scoped>\n",
       "    .dataframe tbody tr th:only-of-type {\n",
       "        vertical-align: middle;\n",
       "    }\n",
       "\n",
       "    .dataframe tbody tr th {\n",
       "        vertical-align: top;\n",
       "    }\n",
       "\n",
       "    .dataframe thead th {\n",
       "        text-align: right;\n",
       "    }\n",
       "</style>\n",
       "<table border=\"1\" class=\"dataframe\">\n",
       "  <thead>\n",
       "    <tr style=\"text-align: right;\">\n",
       "      <th></th>\n",
       "      <th>penalty</th>\n",
       "      <th>C</th>\n",
       "    </tr>\n",
       "  </thead>\n",
       "  <tbody>\n",
       "    <tr>\n",
       "      <th>tf</th>\n",
       "      <td>l1</td>\n",
       "      <td>2.32508</td>\n",
       "    </tr>\n",
       "    <tr>\n",
       "      <th>tfidf</th>\n",
       "      <td>l1</td>\n",
       "      <td>2.22329</td>\n",
       "    </tr>\n",
       "  </tbody>\n",
       "</table>\n",
       "</div>"
      ],
      "text/plain": [
       "      penalty        C\n",
       "tf         l1  2.32508\n",
       "tfidf      l1  2.22329"
      ]
     },
     "execution_count": 525,
     "metadata": {},
     "output_type": "execute_result"
    }
   ],
   "source": [
    "get_model_params(clf_name, best_lrs)"
   ]
  },
  {
   "cell_type": "markdown",
   "metadata": {},
   "source": [
    "min_df=15"
   ]
  },
  {
   "cell_type": "code",
   "execution_count": 523,
   "metadata": {},
   "outputs": [
    {
     "name": "stdout",
     "output_type": "stream",
     "text": [
      "tf\n",
      "tfidf\n"
     ]
    }
   ],
   "source": [
    "clf_name = 'lr'\n",
    "best_lrs, lr_scores = search_best_clfs(clf_name, X_train_dict, X_test_dict, n_iter=10)"
   ]
  },
  {
   "cell_type": "code",
   "execution_count": 485,
   "metadata": {},
   "outputs": [
    {
     "data": {
      "text/html": [
       "<div>\n",
       "<style scoped>\n",
       "    .dataframe tbody tr th:only-of-type {\n",
       "        vertical-align: middle;\n",
       "    }\n",
       "\n",
       "    .dataframe tbody tr th {\n",
       "        vertical-align: top;\n",
       "    }\n",
       "\n",
       "    .dataframe thead th {\n",
       "        text-align: right;\n",
       "    }\n",
       "</style>\n",
       "<table border=\"1\" class=\"dataframe\">\n",
       "  <thead>\n",
       "    <tr style=\"text-align: right;\">\n",
       "      <th></th>\n",
       "      <th>lr_train</th>\n",
       "      <th>lr_test</th>\n",
       "    </tr>\n",
       "  </thead>\n",
       "  <tbody>\n",
       "    <tr>\n",
       "      <th>tf</th>\n",
       "      <td>0.795085</td>\n",
       "      <td>0.751722</td>\n",
       "    </tr>\n",
       "    <tr>\n",
       "      <th>tfidf</th>\n",
       "      <td>0.802129</td>\n",
       "      <td>0.745773</td>\n",
       "    </tr>\n",
       "  </tbody>\n",
       "</table>\n",
       "</div>"
      ],
      "text/plain": [
       "       lr_train   lr_test\n",
       "tf     0.795085  0.751722\n",
       "tfidf  0.802129  0.745773"
      ]
     },
     "execution_count": 485,
     "metadata": {},
     "output_type": "execute_result"
    }
   ],
   "source": [
    "lr_scores"
   ]
  },
  {
   "cell_type": "code",
   "execution_count": 493,
   "metadata": {},
   "outputs": [
    {
     "data": {
      "text/html": [
       "<div>\n",
       "<style scoped>\n",
       "    .dataframe tbody tr th:only-of-type {\n",
       "        vertical-align: middle;\n",
       "    }\n",
       "\n",
       "    .dataframe tbody tr th {\n",
       "        vertical-align: top;\n",
       "    }\n",
       "\n",
       "    .dataframe thead th {\n",
       "        text-align: right;\n",
       "    }\n",
       "</style>\n",
       "<table border=\"1\" class=\"dataframe\">\n",
       "  <thead>\n",
       "    <tr style=\"text-align: right;\">\n",
       "      <th></th>\n",
       "      <th>penalty</th>\n",
       "      <th>C</th>\n",
       "    </tr>\n",
       "  </thead>\n",
       "  <tbody>\n",
       "    <tr>\n",
       "      <th>tf</th>\n",
       "      <td>l1</td>\n",
       "      <td>0.969068</td>\n",
       "    </tr>\n",
       "    <tr>\n",
       "      <th>tfidf</th>\n",
       "      <td>l1</td>\n",
       "      <td>2.13611</td>\n",
       "    </tr>\n",
       "  </tbody>\n",
       "</table>\n",
       "</div>"
      ],
      "text/plain": [
       "      penalty         C\n",
       "tf         l1  0.969068\n",
       "tfidf      l1   2.13611"
      ]
     },
     "execution_count": 493,
     "metadata": {},
     "output_type": "execute_result"
    }
   ],
   "source": [
    "get_model_params(clf_name, best_lrs)"
   ]
  },
  {
   "cell_type": "markdown",
   "metadata": {},
   "source": [
    "min_df=2"
   ]
  },
  {
   "cell_type": "code",
   "execution_count": 129,
   "metadata": {},
   "outputs": [
    {
     "name": "stdout",
     "output_type": "stream",
     "text": [
      "tf\n",
      "tfidf\n"
     ]
    }
   ],
   "source": [
    "clf_name = 'lr'\n",
    "best_lrs, lr_scores = search_best_clfs(clf_name, X_train_dict, X_test_dict, n_iter=10)"
   ]
  },
  {
   "cell_type": "code",
   "execution_count": 91,
   "metadata": {},
   "outputs": [
    {
     "data": {
      "text/html": [
       "<div>\n",
       "<style scoped>\n",
       "    .dataframe tbody tr th:only-of-type {\n",
       "        vertical-align: middle;\n",
       "    }\n",
       "\n",
       "    .dataframe tbody tr th {\n",
       "        vertical-align: top;\n",
       "    }\n",
       "\n",
       "    .dataframe thead th {\n",
       "        text-align: right;\n",
       "    }\n",
       "</style>\n",
       "<table border=\"1\" class=\"dataframe\">\n",
       "  <thead>\n",
       "    <tr style=\"text-align: right;\">\n",
       "      <th></th>\n",
       "      <th>lr_train</th>\n",
       "      <th>lr_test</th>\n",
       "    </tr>\n",
       "  </thead>\n",
       "  <tbody>\n",
       "    <tr>\n",
       "      <th>tf</th>\n",
       "      <td>0.983250</td>\n",
       "      <td>0.878835</td>\n",
       "    </tr>\n",
       "    <tr>\n",
       "      <th>tfidf</th>\n",
       "      <td>0.944271</td>\n",
       "      <td>0.823732</td>\n",
       "    </tr>\n",
       "    <tr>\n",
       "      <th>lsi</th>\n",
       "      <td>0.781935</td>\n",
       "      <td>0.744208</td>\n",
       "    </tr>\n",
       "    <tr>\n",
       "      <th>lda</th>\n",
       "      <td>0.718378</td>\n",
       "      <td>0.677207</td>\n",
       "    </tr>\n",
       "  </tbody>\n",
       "</table>\n",
       "</div>"
      ],
      "text/plain": [
       "       lr_train   lr_test\n",
       "tf     0.983250  0.878835\n",
       "tfidf  0.944271  0.823732\n",
       "lsi    0.781935  0.744208\n",
       "lda    0.718378  0.677207"
      ]
     },
     "execution_count": 91,
     "metadata": {},
     "output_type": "execute_result"
    }
   ],
   "source": [
    "lr_scores"
   ]
  },
  {
   "cell_type": "code",
   "execution_count": 151,
   "metadata": {},
   "outputs": [],
   "source": [
    "# best_lrs['lsi'].named_steps['transformer'].named_steps['svd'].explained_variance_ratio_.sum()"
   ]
  },
  {
   "cell_type": "code",
   "execution_count": 130,
   "metadata": {},
   "outputs": [
    {
     "data": {
      "text/html": [
       "<div>\n",
       "<style scoped>\n",
       "    .dataframe tbody tr th:only-of-type {\n",
       "        vertical-align: middle;\n",
       "    }\n",
       "\n",
       "    .dataframe tbody tr th {\n",
       "        vertical-align: top;\n",
       "    }\n",
       "\n",
       "    .dataframe thead th {\n",
       "        text-align: right;\n",
       "    }\n",
       "</style>\n",
       "<table border=\"1\" class=\"dataframe\">\n",
       "  <thead>\n",
       "    <tr style=\"text-align: right;\">\n",
       "      <th></th>\n",
       "      <th>lr_train</th>\n",
       "      <th>lr_test</th>\n",
       "    </tr>\n",
       "  </thead>\n",
       "  <tbody>\n",
       "    <tr>\n",
       "      <th>tf</th>\n",
       "      <td>0.989120</td>\n",
       "      <td>0.886662</td>\n",
       "    </tr>\n",
       "    <tr>\n",
       "      <th>tfidf</th>\n",
       "      <td>0.948889</td>\n",
       "      <td>0.828115</td>\n",
       "    </tr>\n",
       "  </tbody>\n",
       "</table>\n",
       "</div>"
      ],
      "text/plain": [
       "       lr_train   lr_test\n",
       "tf     0.989120  0.886662\n",
       "tfidf  0.948889  0.828115"
      ]
     },
     "execution_count": 130,
     "metadata": {},
     "output_type": "execute_result"
    }
   ],
   "source": [
    "lr_scores"
   ]
  },
  {
   "cell_type": "code",
   "execution_count": 131,
   "metadata": {},
   "outputs": [
    {
     "data": {
      "text/html": [
       "<div>\n",
       "<style scoped>\n",
       "    .dataframe tbody tr th:only-of-type {\n",
       "        vertical-align: middle;\n",
       "    }\n",
       "\n",
       "    .dataframe tbody tr th {\n",
       "        vertical-align: top;\n",
       "    }\n",
       "\n",
       "    .dataframe thead th {\n",
       "        text-align: right;\n",
       "    }\n",
       "</style>\n",
       "<table border=\"1\" class=\"dataframe\">\n",
       "  <thead>\n",
       "    <tr style=\"text-align: right;\">\n",
       "      <th></th>\n",
       "      <th>penalty</th>\n",
       "      <th>C</th>\n",
       "    </tr>\n",
       "  </thead>\n",
       "  <tbody>\n",
       "    <tr>\n",
       "      <th>tf</th>\n",
       "      <td>l2</td>\n",
       "      <td>3.77189</td>\n",
       "    </tr>\n",
       "    <tr>\n",
       "      <th>tfidf</th>\n",
       "      <td>l2</td>\n",
       "      <td>2.34047</td>\n",
       "    </tr>\n",
       "  </tbody>\n",
       "</table>\n",
       "</div>"
      ],
      "text/plain": [
       "      penalty        C\n",
       "tf         l2  3.77189\n",
       "tfidf      l2  2.34047"
      ]
     },
     "execution_count": 131,
     "metadata": {},
     "output_type": "execute_result"
    }
   ],
   "source": [
    "get_model_params(clf_name, best_lrs)"
   ]
  },
  {
   "cell_type": "code",
   "execution_count": 92,
   "metadata": {},
   "outputs": [],
   "source": [
    "# for name, model in best_lrs.items():\n",
    "#     file_name = name + '_logisticregression.p'\n",
    "#     save_model(model, file_name)"
   ]
  },
  {
   "cell_type": "code",
   "execution_count": 132,
   "metadata": {},
   "outputs": [
    {
     "data": {
      "image/png": "[encoded data removed]",
      "text/plain": [
       "<Figure size 360x360 with 1 Axes>"
      ]
     },
     "metadata": {},
     "output_type": "display_data"
    }
   ],
   "source": [
    "trans_name = 'tf'\n",
    "plot_validation_curve(estimator=clone(best_lrs[trans_name]), X=X_train_dict[trans_name], y=y_train, \n",
    "                      param_name='clf__C', param_range=np.logspace(-3, 3, 7), x_scale='log')"
   ]
  },
  {
   "cell_type": "code",
   "execution_count": 142,
   "metadata": {},
   "outputs": [
    {
     "name": "stdout",
     "output_type": "stream",
     "text": [
      "Tarining dataset: accuracy = 0.972\n",
      "Test dataset: accuracy = 0.869\n"
     ]
    }
   ],
   "source": [
    "trans_name = 'tf'\n",
    "lr_pipe = clone(best_lrs[trans_name])\n",
    "lr_pipe.set_params(**{'clf__C': 0.9})\n",
    "\n",
    "lr_pipe.fit(X_train_dict[trans_name], y_train);\n",
    "\n",
    "y_train_pred = lr_pipe.predict(X_train_dict[trans_name])\n",
    "y_test_pred = lr_pipe.predict(X_test_dict[trans_name])\n",
    "print('Tarining dataset: accuracy = %.3f' % accuracy_score(y_pred=y_train_pred, y_true=y_train))\n",
    "print('Test dataset: accuracy = %.3f' % accuracy_score(y_pred=y_test_pred, y_true=y_test))"
   ]
  },
  {
   "cell_type": "code",
   "execution_count": 143,
   "metadata": {},
   "outputs": [
    {
     "data": {
      "image/png": "[encoded data removed]",
      "text/plain": [
       "<Figure size 216x216 with 1 Axes>"
      ]
     },
     "metadata": {},
     "output_type": "display_data"
    },
    {
     "data": {
      "image/png": "[encoded data removed]",
      "text/plain": [
       "<Figure size 216x216 with 1 Axes>"
      ]
     },
     "metadata": {},
     "output_type": "display_data"
    }
   ],
   "source": [
    "plot_confusion_matrix(y_train, y_train_pred)\n",
    "plot_confusion_matrix(y_test, y_test_pred)"
   ]
  },
  {
   "cell_type": "code",
   "execution_count": 141,
   "metadata": {},
   "outputs": [
    {
     "data": {
      "image/png": "[encoded data removed]",
      "text/plain": [
       "<Figure size 360x360 with 1 Axes>"
      ]
     },
     "metadata": {},
     "output_type": "display_data"
    }
   ],
   "source": [
    "plot_learning_curve(estimator=clone(lr_pipe), X=X_train_dict[trans_name], y=y_train)"
   ]
  },
  {
   "cell_type": "code",
   "execution_count": 144,
   "metadata": {},
   "outputs": [
    {
     "name": "stdout",
     "output_type": "stream",
     "text": [
      "[0.864 0.86  0.86  0.871 0.857]\n",
      "Validation: accuracy = 0.862\n"
     ]
    }
   ],
   "source": [
    "lr_pipe_extended = Pipeline([('transformer', clone(tf_pipe)),\n",
    "                             ('clf', clone(lr_pipe.named_steps['clf']))])\n",
    "\n",
    "extended_scores = cross_val_score(lr_pipe_extended, X_extended, y_extended, scoring='accuracy', \n",
    "                                  cv=StratifiedKFold(n_splits=5, shuffle=True, random_state=10))\n",
    "print(np.round(extended_scores, 3))\n",
    "print('Validation: accuracy = %.3f' % extended_scores.mean())"
   ]
  },
  {
   "cell_type": "code",
   "execution_count": 145,
   "metadata": {},
   "outputs": [
    {
     "name": "stdout",
     "output_type": "stream",
     "text": [
      "Tarining dataset: accuracy = 0.976\n"
     ]
    }
   ],
   "source": [
    "lr_pipe_extended.fit(X_extended, y_extended)\n",
    "y_extended_pred = lr_pipe_extended.predict(X_extended)\n",
    "print('Tarining dataset: accuracy = %.3f' % accuracy_score(y_pred=y_extended_pred, y_true=y_extended))"
   ]
  },
  {
   "cell_type": "code",
   "execution_count": 146,
   "metadata": {},
   "outputs": [],
   "source": [
    "file_name = 'logisticregression2.p'\n",
    "model = lr_pipe_extended\n",
    "save_model(model, file_name)"
   ]
  },
  {
   "cell_type": "code",
   "execution_count": 150,
   "metadata": {
    "scrolled": true
   },
   "outputs": [],
   "source": [
    "# importance = np.abs(lr_pipe_extended.named_steps['clf'].coef_[0, :])\n",
    "# print_kbest(lr_pipe_extended.named_steps['transformer'], importance, 10, X_extended)"
   ]
  },
  {
   "cell_type": "code",
   "execution_count": 151,
   "metadata": {},
   "outputs": [],
   "source": [
    "# sorted_features = get_sorted_features(lr_pipe_extended.named_steps['transformer'], importance)\n",
    "# print(sorted_features[:100])"
   ]
  },
  {
   "cell_type": "code",
   "execution_count": 150,
   "metadata": {
    "scrolled": true
   },
   "outputs": [],
   "source": [
    "# k = 1000\n",
    "# file_name = 'logisticregression2' + str(k) + '.csv'\n",
    "# sorted_counts = get_sorted_counts(lr_pipe_extended.named_steps['transformer'], importance, X_extended)\n",
    "# kbest_array = np.c_[sorted_features[:k], sorted_counts[:k]]\n",
    "# save_kbest(kbest_array, file_name)"
   ]
  },
  {
   "cell_type": "code",
   "execution_count": null,
   "metadata": {},
   "outputs": [],
   "source": []
  },
  {
   "cell_type": "code",
   "execution_count": 129,
   "metadata": {},
   "outputs": [],
   "source": [
    "clf_name = 'lr'\n",
    "lr_clf = estimators[clf_name]\n",
    "\n",
    "lr_select_pipe = Pipeline([\n",
    "    ('features', FeatureUnion([\n",
    "            ('numerical_feats', FrequencyExtractor()),    \n",
    "            ('text_feats', Pipeline([('preprocessor', TextPreprocessor(stopwords=IRRELEVANT_STOPWORDS, \n",
    "                                                                       process='stem')),\n",
    "                                     ('vectorizer', CountVectorizer(token_pattern=token_pattern,\n",
    "                                                                    ngram_range=(1, 2), min_df=2))\n",
    "                                    ]))\n",
    "            ])),\n",
    "    ('scaler', MaxAbsScaler()),\n",
    "    ('selector', SelectFpr(score_func=f_classif)),\n",
    "    ('clf', lr_clf)\n",
    "])\n",
    "\n",
    "param_dist = {'clf__penalty': ['l1', 'l2'],\n",
    "              'clf__C': uniform(0., 4.),\n",
    "              'selector__alpha': uniform(0.01, 0.05)\n",
    "             }\n",
    "\n",
    "lr_select_rs = RandomizedSearchCV(estimator=lr_select_pipe, param_distributions=param_dist, \n",
    "                                   cv=StratifiedKFold(n_splits=5, shuffle=True, random_state=20), \n",
    "                                   scoring='accuracy', n_iter=30,\n",
    "                                   n_jobs=-1, refit=True)"
   ]
  },
  {
   "cell_type": "code",
   "execution_count": 130,
   "metadata": {},
   "outputs": [
    {
     "data": {
      "text/plain": [
       "0.7556355666875392"
      ]
     },
     "execution_count": 130,
     "metadata": {},
     "output_type": "execute_result"
    }
   ],
   "source": [
    "lr_select_rs.fit(X_train, y_train);\n",
    "lr_select_rs.best_score_"
   ]
  },
  {
   "cell_type": "code",
   "execution_count": 131,
   "metadata": {},
   "outputs": [
    {
     "data": {
      "text/plain": [
       "{'clf__C': 1.7274098664169002,\n",
       " 'clf__penalty': 'l1',\n",
       " 'selector__alpha': 0.04998936824543651}"
      ]
     },
     "execution_count": 131,
     "metadata": {},
     "output_type": "execute_result"
    }
   ],
   "source": [
    "lr_select_rs.best_params_"
   ]
  },
  {
   "cell_type": "code",
   "execution_count": 133,
   "metadata": {},
   "outputs": [],
   "source": [
    "best_lr_select = lr_select_rs.best_estimator_"
   ]
  },
  {
   "cell_type": "code",
   "execution_count": 135,
   "metadata": {},
   "outputs": [
    {
     "name": "stdout",
     "output_type": "stream",
     "text": [
      "Tarining dataset: accuracy = 0.892\n",
      "Test dataset: accuracy = 0.791\n"
     ]
    }
   ],
   "source": [
    "y_train_pred = best_lr_select.predict(X_train)\n",
    "y_test_pred = best_lr_select.predict(X_test)\n",
    "print('Tarining dataset: accuracy = %.3f' % accuracy_score(y_pred=y_train_pred, y_true=y_train))\n",
    "print('Test dataset: accuracy = %.3f' % accuracy_score(y_pred=y_test_pred, y_true=y_test))"
   ]
  },
  {
   "cell_type": "code",
   "execution_count": 136,
   "metadata": {},
   "outputs": [
    {
     "data": {
      "image/png": "[encoded data removed]",
      "text/plain": [
       "<Figure size 216x216 with 1 Axes>"
      ]
     },
     "metadata": {},
     "output_type": "display_data"
    },
    {
     "data": {
      "image/png": "[encoded data removed]",
      "text/plain": [
       "<Figure size 216x216 with 1 Axes>"
      ]
     },
     "metadata": {},
     "output_type": "display_data"
    }
   ],
   "source": [
    "plot_confusion_matrix(y_train, y_train_pred)\n",
    "plot_confusion_matrix(y_test, y_test_pred)"
   ]
  },
  {
   "cell_type": "code",
   "execution_count": 168,
   "metadata": {},
   "outputs": [
    {
     "name": "stdout",
     "output_type": "stream",
     "text": [
      "Tarining dataset: accuracy = 0.810\n",
      "Test dataset: accuracy = 0.759\n"
     ]
    }
   ],
   "source": [
    "lr_pipe = clone(best_lr_select)\n",
    "lr_pipe.set_params(**{'clf__class_weight': {0: 1, 1: 1.1},\n",
    "                      'clf__C': 0.5,\n",
    "#                       'selector__alpha': 0.1\n",
    "                      })\n",
    "\n",
    "lr_pipe.fit(X_train, y_train)\n",
    "\n",
    "y_train_pred = lr_pipe.predict(X_train)\n",
    "y_test_pred = lr_pipe.predict(X_test)\n",
    "print('Tarining dataset: accuracy = %.3f' % accuracy_score(y_pred=y_train_pred, y_true=y_train))\n",
    "print('Test dataset: accuracy = %.3f' % accuracy_score(y_pred=y_test_pred, y_true=y_test))"
   ]
  },
  {
   "cell_type": "code",
   "execution_count": 169,
   "metadata": {},
   "outputs": [
    {
     "data": {
      "image/png": "[encoded data removed]",
      "text/plain": [
       "<Figure size 216x216 with 1 Axes>"
      ]
     },
     "metadata": {},
     "output_type": "display_data"
    }
   ],
   "source": [
    "plot_confusion_matrix(y_test, y_test_pred)"
   ]
  },
  {
   "cell_type": "code",
   "execution_count": 170,
   "metadata": {},
   "outputs": [
    {
     "name": "stdout",
     "output_type": "stream",
     "text": [
      "Tarining dataset: accuracy = 0.826\n"
     ]
    }
   ],
   "source": [
    "lr_pipe_extended = clone(lr_pipe)\n",
    "lr_pipe_extended.fit(X_extended, y_extended);\n",
    "y_extended_pred = lr_pipe_extended.predict(X_extended)\n",
    "print('Tarining dataset: accuracy = %.3f' % accuracy_score(y_pred=y_extended_pred, y_true=y_extended))"
   ]
  },
  {
   "cell_type": "code",
   "execution_count": 171,
   "metadata": {},
   "outputs": [],
   "source": [
    "file_name = 'lrselect.p'\n",
    "model = lr_pipe_extended\n",
    "save_model(model, file_name)"
   ]
  },
  {
   "cell_type": "code",
   "execution_count": null,
   "metadata": {},
   "outputs": [],
   "source": []
  },
  {
   "cell_type": "markdown",
   "metadata": {},
   "source": [
    "#### Linear SVM"
   ]
  },
  {
   "cell_type": "code",
   "execution_count": null,
   "metadata": {},
   "outputs": [],
   "source": [
    "# clf_name = 'lin_svm'\n",
    "# best_lin_svms, lin_svm_scores = search_best_clfs(clf_name, X_train_dict, X_test_dict, n_iter=30, transformation=True)"
   ]
  },
  {
   "cell_type": "markdown",
   "metadata": {},
   "source": [
    "#### SVM with kernel RBF"
   ]
  },
  {
   "cell_type": "markdown",
   "metadata": {},
   "source": [
    "15 <= min_df <= 50"
   ]
  },
  {
   "cell_type": "code",
   "execution_count": 30,
   "metadata": {},
   "outputs": [
    {
     "name": "stdout",
     "output_type": "stream",
     "text": [
      "tf\n",
      "tfidf\n"
     ]
    }
   ],
   "source": [
    "clf_name = 'rbf_svm'\n",
    "best_rbf_svms, rbf_svm_scores = search_best_clfs(clf_name, X_train_dict, X_test_dict, n_iter=30, transformation=True)"
   ]
  },
  {
   "cell_type": "code",
   "execution_count": 31,
   "metadata": {},
   "outputs": [
    {
     "data": {
      "text/html": [
       "<div>\n",
       "<style scoped>\n",
       "    .dataframe tbody tr th:only-of-type {\n",
       "        vertical-align: middle;\n",
       "    }\n",
       "\n",
       "    .dataframe tbody tr th {\n",
       "        vertical-align: top;\n",
       "    }\n",
       "\n",
       "    .dataframe thead th {\n",
       "        text-align: right;\n",
       "    }\n",
       "</style>\n",
       "<table border=\"1\" class=\"dataframe\">\n",
       "  <thead>\n",
       "    <tr style=\"text-align: right;\">\n",
       "      <th></th>\n",
       "      <th>rbf_svm_train</th>\n",
       "      <th>rbf_svm_test</th>\n",
       "    </tr>\n",
       "  </thead>\n",
       "  <tbody>\n",
       "    <tr>\n",
       "      <th>tf</th>\n",
       "      <td>0.990294</td>\n",
       "      <td>0.927990</td>\n",
       "    </tr>\n",
       "    <tr>\n",
       "      <th>tfidf</th>\n",
       "      <td>0.997574</td>\n",
       "      <td>0.937696</td>\n",
       "    </tr>\n",
       "  </tbody>\n",
       "</table>\n",
       "</div>"
      ],
      "text/plain": [
       "       rbf_svm_train  rbf_svm_test\n",
       "tf          0.990294      0.927990\n",
       "tfidf       0.997574      0.937696"
      ]
     },
     "execution_count": 31,
     "metadata": {},
     "output_type": "execute_result"
    }
   ],
   "source": [
    "rbf_svm_scores"
   ]
  },
  {
   "cell_type": "code",
   "execution_count": 32,
   "metadata": {},
   "outputs": [
    {
     "data": {
      "text/html": [
       "<div>\n",
       "<style scoped>\n",
       "    .dataframe tbody tr th:only-of-type {\n",
       "        vertical-align: middle;\n",
       "    }\n",
       "\n",
       "    .dataframe tbody tr th {\n",
       "        vertical-align: top;\n",
       "    }\n",
       "\n",
       "    .dataframe thead th {\n",
       "        text-align: right;\n",
       "    }\n",
       "</style>\n",
       "<table border=\"1\" class=\"dataframe\">\n",
       "  <thead>\n",
       "    <tr style=\"text-align: right;\">\n",
       "      <th></th>\n",
       "      <th>C</th>\n",
       "      <th>gamma</th>\n",
       "      <th>preprocessor__stopwords</th>\n",
       "      <th>vectorizer__ngram_range</th>\n",
       "      <th>vectorizer__min_df</th>\n",
       "    </tr>\n",
       "  </thead>\n",
       "  <tbody>\n",
       "    <tr>\n",
       "      <th>tf</th>\n",
       "      <td>1.38106</td>\n",
       "      <td>2.20679</td>\n",
       "      <td>[]</td>\n",
       "      <td>(1, 1)</td>\n",
       "      <td>32</td>\n",
       "    </tr>\n",
       "    <tr>\n",
       "      <th>tfidf</th>\n",
       "      <td>2.45173</td>\n",
       "      <td>2.72007</td>\n",
       "      <td>[a, about, above, after, again, against, ain, ...</td>\n",
       "      <td>(1, 2)</td>\n",
       "      <td>18</td>\n",
       "    </tr>\n",
       "  </tbody>\n",
       "</table>\n",
       "</div>"
      ],
      "text/plain": [
       "             C    gamma                            preprocessor__stopwords  \\\n",
       "tf     1.38106  2.20679                                                 []   \n",
       "tfidf  2.45173  2.72007  [a, about, above, after, again, against, ain, ...   \n",
       "\n",
       "      vectorizer__ngram_range vectorizer__min_df  \n",
       "tf                     (1, 1)                 32  \n",
       "tfidf                  (1, 2)                 18  "
      ]
     },
     "execution_count": 32,
     "metadata": {},
     "output_type": "execute_result"
    }
   ],
   "source": [
    "get_model_params(clf_name, best_rbf_svms, transformation=True)"
   ]
  },
  {
   "cell_type": "code",
   "execution_count": 34,
   "metadata": {},
   "outputs": [
    {
     "data": {
      "image/png": "[encoded data removed]",
      "text/plain": [
       "<Figure size 360x360 with 1 Axes>"
      ]
     },
     "metadata": {},
     "output_type": "display_data"
    }
   ],
   "source": [
    "trans_name = 'tfidf'\n",
    "plot_validation_curve(estimator=clone(best_rbf_svms[trans_name]), X=X_train, y=y_train, \n",
    "                      param_name='clf__C', param_range=np.logspace(-3, 3, 7), x_scale='log')"
   ]
  },
  {
   "cell_type": "code",
   "execution_count": null,
   "metadata": {},
   "outputs": [],
   "source": [
    "# trans_name = 'tfidf'\n",
    "# plot_validation_curve(estimator=clone(best_rbf_svms[trans_name]), X=X_train, y=y_train, \n",
    "#                       param_name='clf__gamma', param_range=np.linspace(0.5, 3.5, 7), x_scale='linear')"
   ]
  },
  {
   "cell_type": "code",
   "execution_count": 90,
   "metadata": {},
   "outputs": [
    {
     "name": "stdout",
     "output_type": "stream",
     "text": [
      "Tarining dataset: accuracy = 0.996\n",
      "Test dataset: accuracy = 0.935\n"
     ]
    }
   ],
   "source": [
    "rbf_svm_pipe = clone(best_rbf_svms[trans_name])\n",
    "rbf_svm_pipe.set_params(**{'clf__C': 0.9})\n",
    "\n",
    "rbf_svm_pipe.fit(X_train, y_train);\n",
    "\n",
    "y_train_pred = rbf_svm_pipe.predict(X_train)\n",
    "y_test_pred = rbf_svm_pipe.predict(X_test)\n",
    "print('Tarining dataset: accuracy = %.3f' % accuracy_score(y_pred=y_train_pred, y_true=y_train))\n",
    "print('Test dataset: accuracy = %.3f' % accuracy_score(y_pred=y_test_pred, y_true=y_test))"
   ]
  },
  {
   "cell_type": "code",
   "execution_count": 91,
   "metadata": {},
   "outputs": [
    {
     "data": {
      "image/png": "[encoded data removed]",
      "text/plain": [
       "<Figure size 216x216 with 1 Axes>"
      ]
     },
     "metadata": {},
     "output_type": "display_data"
    },
    {
     "data": {
      "image/png": "[encoded data removed]",
      "text/plain": [
       "<Figure size 216x216 with 1 Axes>"
      ]
     },
     "metadata": {},
     "output_type": "display_data"
    }
   ],
   "source": [
    "plot_confusion_matrix(y_train, y_train_pred)\n",
    "plot_confusion_matrix(y_test, y_test_pred)"
   ]
  },
  {
   "cell_type": "code",
   "execution_count": 39,
   "metadata": {},
   "outputs": [
    {
     "name": "stdout",
     "output_type": "stream",
     "text": [
      "[0.932 0.929 0.934 0.94  0.931]\n",
      "Validation: accuracy = 0.933\n"
     ]
    }
   ],
   "source": [
    "rbf_svm_pipe_extended = clone(best_rbf_svms[trans_name])\n",
    "\n",
    "extended_scores = cross_val_score(rbf_svm_pipe_extended, X_extended, y_extended, scoring='accuracy', \n",
    "                                  cv=StratifiedKFold(n_splits=5, shuffle=True, random_state=10), n_jobs=-1)\n",
    "print(np.round(extended_scores, 3))\n",
    "print('Validation: accuracy = %.3f' % extended_scores.mean())"
   ]
  },
  {
   "cell_type": "code",
   "execution_count": 40,
   "metadata": {},
   "outputs": [
    {
     "name": "stdout",
     "output_type": "stream",
     "text": [
      "Tarining dataset: accuracy = 0.997\n"
     ]
    }
   ],
   "source": [
    "rbf_svm_pipe_extended.fit(X_extended, y_extended)\n",
    "y_extended_pred = rbf_svm_pipe_extended.predict(X_extended)\n",
    "print('Tarining dataset: accuracy = %.3f' % accuracy_score(y_pred=y_extended_pred, y_true=y_extended))"
   ]
  },
  {
   "cell_type": "code",
   "execution_count": 42,
   "metadata": {},
   "outputs": [],
   "source": [
    "file_name = 'rbfsvm18.p'\n",
    "model = rbf_svm_pipe_extended\n",
    "save_model(model, file_name)"
   ]
  },
  {
   "cell_type": "markdown",
   "metadata": {},
   "source": [
    "min_df=2"
   ]
  },
  {
   "cell_type": "code",
   "execution_count": null,
   "metadata": {},
   "outputs": [],
   "source": [
    "clf_name = 'rbf_svm'\n",
    "best_rbf_svms, rbf_svm_scores = search_best_clfs(clf_name, X_train_dict, X_test_dict, n_iter=10)"
   ]
  },
  {
   "cell_type": "code",
   "execution_count": 155,
   "metadata": {},
   "outputs": [
    {
     "data": {
      "text/html": [
       "<div>\n",
       "<style scoped>\n",
       "    .dataframe tbody tr th:only-of-type {\n",
       "        vertical-align: middle;\n",
       "    }\n",
       "\n",
       "    .dataframe tbody tr th {\n",
       "        vertical-align: top;\n",
       "    }\n",
       "\n",
       "    .dataframe thead th {\n",
       "        text-align: right;\n",
       "    }\n",
       "</style>\n",
       "<table border=\"1\" class=\"dataframe\">\n",
       "  <thead>\n",
       "    <tr style=\"text-align: right;\">\n",
       "      <th></th>\n",
       "      <th>rbf_svm_train</th>\n",
       "      <th>rbf_svm_test</th>\n",
       "    </tr>\n",
       "  </thead>\n",
       "  <tbody>\n",
       "    <tr>\n",
       "      <th>tf</th>\n",
       "      <td>0.997652</td>\n",
       "      <td>0.937696</td>\n",
       "    </tr>\n",
       "    <tr>\n",
       "      <th>tfidf</th>\n",
       "      <td>0.995069</td>\n",
       "      <td>0.910457</td>\n",
       "    </tr>\n",
       "  </tbody>\n",
       "</table>\n",
       "</div>"
      ],
      "text/plain": [
       "       rbf_svm_train  rbf_svm_test\n",
       "tf          0.997652      0.937696\n",
       "tfidf       0.995069      0.910457"
      ]
     },
     "execution_count": 155,
     "metadata": {},
     "output_type": "execute_result"
    }
   ],
   "source": [
    "rbf_svm_scores"
   ]
  },
  {
   "cell_type": "code",
   "execution_count": 106,
   "metadata": {},
   "outputs": [
    {
     "data": {
      "text/html": [
       "<div>\n",
       "<style scoped>\n",
       "    .dataframe tbody tr th:only-of-type {\n",
       "        vertical-align: middle;\n",
       "    }\n",
       "\n",
       "    .dataframe tbody tr th {\n",
       "        vertical-align: top;\n",
       "    }\n",
       "\n",
       "    .dataframe thead th {\n",
       "        text-align: right;\n",
       "    }\n",
       "</style>\n",
       "<table border=\"1\" class=\"dataframe\">\n",
       "  <thead>\n",
       "    <tr style=\"text-align: right;\">\n",
       "      <th></th>\n",
       "      <th>C</th>\n",
       "      <th>gamma</th>\n",
       "    </tr>\n",
       "  </thead>\n",
       "  <tbody>\n",
       "    <tr>\n",
       "      <th>tf</th>\n",
       "      <td>3.8464</td>\n",
       "      <td>1.99861</td>\n",
       "    </tr>\n",
       "    <tr>\n",
       "      <th>tfidf</th>\n",
       "      <td>3.1741</td>\n",
       "      <td>0.460031</td>\n",
       "    </tr>\n",
       "  </tbody>\n",
       "</table>\n",
       "</div>"
      ],
      "text/plain": [
       "            C     gamma\n",
       "tf     3.8464   1.99861\n",
       "tfidf  3.1741  0.460031"
      ]
     },
     "execution_count": 106,
     "metadata": {},
     "output_type": "execute_result"
    }
   ],
   "source": [
    "get_model_params(clf_name, best_rbf_svms)"
   ]
  },
  {
   "cell_type": "code",
   "execution_count": 156,
   "metadata": {},
   "outputs": [],
   "source": [
    "# for name, model in best_rbf_svms.items():\n",
    "#     file_name = name + '_rbfsvm.p'\n",
    "#     save_model(model, file_name)"
   ]
  },
  {
   "cell_type": "code",
   "execution_count": 167,
   "metadata": {},
   "outputs": [
    {
     "data": {
      "image/png": "[encoded data removed]",
      "text/plain": [
       "<Figure size 360x360 with 1 Axes>"
      ]
     },
     "metadata": {},
     "output_type": "display_data"
    }
   ],
   "source": [
    "trans_name = 'tf'\n",
    "plot_validation_curve(estimator=clone(best_rbf_svms[trans_name]), X=X_train_dict[trans_name], y=y_train, \n",
    "                      param_name='clf__C', param_range=np.logspace(-3, 3, 7), x_scale='log')"
   ]
  },
  {
   "cell_type": "code",
   "execution_count": 159,
   "metadata": {},
   "outputs": [
    {
     "name": "stdout",
     "output_type": "stream",
     "text": [
      "Tarining dataset: accuracy = 0.996\n",
      "Test dataset: accuracy = 0.936\n"
     ]
    }
   ],
   "source": [
    "trans_name = 'tf'\n",
    "rbf_svm_pipe = clone(best_rbf_svms[trans_name])\n",
    "rbf_svm_pipe.set_params(**{'clf__C': 0.8})\n",
    "\n",
    "rbf_svm_pipe.fit(X_train_dict[trans_name], y_train);\n",
    "\n",
    "y_train_pred = rbf_svm_pipe.predict(X_train_dict[trans_name])\n",
    "y_test_pred = rbf_svm_pipe.predict(X_test_dict[trans_name])\n",
    "print('Tarining dataset: accuracy = %.3f' % accuracy_score(y_pred=y_train_pred, y_true=y_train))\n",
    "print('Test dataset: accuracy = %.3f' % accuracy_score(y_pred=y_test_pred, y_true=y_test))"
   ]
  },
  {
   "cell_type": "code",
   "execution_count": 160,
   "metadata": {},
   "outputs": [
    {
     "data": {
      "image/png": "[encoded data removed]",
      "text/plain": [
       "<Figure size 216x216 with 1 Axes>"
      ]
     },
     "metadata": {},
     "output_type": "display_data"
    },
    {
     "data": {
      "image/png": "[encoded data removed]",
      "text/plain": [
       "<Figure size 216x216 with 1 Axes>"
      ]
     },
     "metadata": {},
     "output_type": "display_data"
    }
   ],
   "source": [
    "plot_confusion_matrix(y_train, y_train_pred)\n",
    "plot_confusion_matrix(y_test, y_test_pred)"
   ]
  },
  {
   "cell_type": "code",
   "execution_count": 161,
   "metadata": {},
   "outputs": [],
   "source": [
    "# trans_name = 'tf'\n",
    "# plot_validation_curve(estimator=clone(best_rbf_svms[trans_name]), X=X_train_dict[trans_name], y=y_train, \n",
    "#                       param_name='clf__gamma', param_range=np.linspace(0.5, 3.5, 7), x_scale='linear')"
   ]
  },
  {
   "cell_type": "code",
   "execution_count": null,
   "metadata": {},
   "outputs": [],
   "source": [
    "# trans_name = 'tf'\n",
    "# rbf_svm_pipe = clone(best_rbf_svms[trans_name])\n",
    "# rbf_svm_pipe.set_params(**{'clf__gamma': 1.})\n",
    "\n",
    "# rbf_svm_pipe.fit(X_train_dict[trans_name], y_train);\n",
    "\n",
    "# y_train_pred = rbf_svm_pipe.predict(X_train_dict[trans_name])\n",
    "# y_test_pred = rbf_svm_pipe.predict(X_test_dict[trans_name])\n",
    "# print('Tarining dataset: accuracy = %.3f' % accuracy_score(y_pred=y_train_pred, y_true=y_train))\n",
    "# print('Test dataset: accuracy = %.3f' % accuracy_score(y_pred=y_test_pred, y_true=y_test))"
   ]
  },
  {
   "cell_type": "code",
   "execution_count": null,
   "metadata": {},
   "outputs": [],
   "source": [
    "# plot_learning_curve(estimator=clone(best_rbf_svms[trans_name]), X=X_train_dict[trans_name], y=y_train)"
   ]
  },
  {
   "cell_type": "code",
   "execution_count": 164,
   "metadata": {},
   "outputs": [
    {
     "name": "stdout",
     "output_type": "stream",
     "text": [
      "[0.935 0.93  0.932 0.94  0.928]\n",
      "Validation: accuracy = 0.933\n"
     ]
    }
   ],
   "source": [
    "rbf_svm_pipe_extended = Pipeline([('transformer', clone(tf_pipe)),\n",
    "                                  ('clf', clone(best_rbf_svms[trans_name]))])\n",
    "\n",
    "extended_scores = cross_val_score(rbf_svm_pipe_extended, X_extended, y_extended, scoring='accuracy', \n",
    "                                  cv=StratifiedKFold(n_splits=5, shuffle=True, random_state=10), n_jobs=-1)\n",
    "print(np.round(extended_scores, 3))\n",
    "print('Validation: accuracy = %.3f' % extended_scores.mean())"
   ]
  },
  {
   "cell_type": "code",
   "execution_count": 165,
   "metadata": {},
   "outputs": [
    {
     "name": "stdout",
     "output_type": "stream",
     "text": [
      "Tarining dataset: accuracy = 0.997\n"
     ]
    }
   ],
   "source": [
    "rbf_svm_pipe_extended.fit(X_extended, y_extended)\n",
    "y_extended_pred = rbf_svm_pipe_extended.predict(X_extended)\n",
    "print('Tarining dataset: accuracy = %.3f' % accuracy_score(y_pred=y_extended_pred, y_true=y_extended))"
   ]
  },
  {
   "cell_type": "code",
   "execution_count": 166,
   "metadata": {},
   "outputs": [],
   "source": [
    "file_name = 'rbfsvm2.p'\n",
    "model = rbf_svm_pipe_extended\n",
    "save_model(model, file_name)"
   ]
  },
  {
   "cell_type": "code",
   "execution_count": null,
   "metadata": {},
   "outputs": [],
   "source": []
  },
  {
   "cell_type": "markdown",
   "metadata": {},
   "source": [
    "#### Decision Tree"
   ]
  },
  {
   "cell_type": "code",
   "execution_count": null,
   "metadata": {
    "collapsed": true
   },
   "outputs": [],
   "source": [
    "# clf_name = 'dt'\n",
    "# best_dts, dt_scores = search_best_clfs(clf_name, X_train_dict, X_test_dict, n_iter=10)"
   ]
  },
  {
   "cell_type": "code",
   "execution_count": null,
   "metadata": {},
   "outputs": [],
   "source": []
  },
  {
   "cell_type": "code",
   "execution_count": 37,
   "metadata": {},
   "outputs": [],
   "source": [
    "trans_pipe = Pipeline([\n",
    "    ('features', FeatureUnion([\n",
    "            ('numerical_feats', FrequencyExtractor()),    \n",
    "            ('text_feats', Pipeline([('preprocessor', TextPreprocessor(stopwords=IRRELEVANT_STOPWORDS, \n",
    "                                                                       process='stem')),\n",
    "                                     ('vectorizer', CountVectorizer(token_pattern=token_pattern,\n",
    "                                                                    ngram_range=(1, 2), min_df=15))\n",
    "                                    ]))\n",
    "            ])),\n",
    "    ('scaler', MaxAbsScaler())\n",
    "])"
   ]
  },
  {
   "cell_type": "code",
   "execution_count": 38,
   "metadata": {},
   "outputs": [],
   "source": [
    "X_train_preprocessed = trans_pipe.fit_transform(X_train)\n",
    "X_test_preprocessed = trans_pipe.transform(X_test)"
   ]
  },
  {
   "cell_type": "code",
   "execution_count": 39,
   "metadata": {},
   "outputs": [],
   "source": [
    "X_train_preprocessed = X_train_preprocessed.toarray()\n",
    "X_test_preprocessed = X_test_preprocessed.toarray()"
   ]
  },
  {
   "cell_type": "markdown",
   "metadata": {},
   "source": [
    "#### K-Nearest Neighbors"
   ]
  },
  {
   "cell_type": "code",
   "execution_count": 51,
   "metadata": {},
   "outputs": [],
   "source": [
    "clf_name = 'knn'\n",
    "knn = Pipeline([('clf', estimators[clf_name])])"
   ]
  },
  {
   "cell_type": "code",
   "execution_count": 58,
   "metadata": {},
   "outputs": [],
   "source": [
    "knn_rs = RandomizedSearchCV(estimator=knn, param_distributions=estimators_param_dist[clf_name], \n",
    "                            cv=StratifiedKFold(n_splits=5, shuffle=True, random_state=20), \n",
    "                            scoring='accuracy', n_iter=10,\n",
    "                            n_jobs=-1, refit=True)"
   ]
  },
  {
   "cell_type": "code",
   "execution_count": 60,
   "metadata": {},
   "outputs": [],
   "source": [
    "# knn_rs.fit(X_train_preprocessed, y_train);\n",
    "# knn_rs.best_score_"
   ]
  },
  {
   "cell_type": "code",
   "execution_count": null,
   "metadata": {},
   "outputs": [],
   "source": [
    "# knn_rs.best_params_"
   ]
  },
  {
   "cell_type": "code",
   "execution_count": null,
   "metadata": {},
   "outputs": [],
   "source": [
    "# y_train_pred = knn_rs.score(X_train_preprocessed)\n",
    "# y_test_pred = knn_rs.score(X_test_preprocessed)\n",
    "# print('Tarining dataset: accuracy = %.3f' % accuracy_score(y_pred=y_train_pred, y_true=y_train))\n",
    "# print('Test dataset: accuracy = %.3f' % accuracy_score(y_pred=y_test_pred, y_true=y_test))"
   ]
  },
  {
   "cell_type": "markdown",
   "metadata": {},
   "source": [
    "#### Naive Bayes"
   ]
  },
  {
   "cell_type": "code",
   "execution_count": 40,
   "metadata": {},
   "outputs": [],
   "source": [
    "clf_name = 'nb'\n",
    "nb = estimators[clf_name]"
   ]
  },
  {
   "cell_type": "code",
   "execution_count": 41,
   "metadata": {},
   "outputs": [
    {
     "name": "stdout",
     "output_type": "stream",
     "text": [
      "Tarining dataset: accuracy = 0.714\n",
      "Test dataset: accuracy = 0.673\n"
     ]
    }
   ],
   "source": [
    "nb.fit(X_train_preprocessed, y_train);\n",
    "\n",
    "y_train_pred = nb.predict(X_train_preprocessed)\n",
    "y_test_pred = nb.predict(X_test_preprocessed)\n",
    "print('Tarining dataset: accuracy = %.3f' % accuracy_score(y_pred=y_train_pred, y_true=y_train))\n",
    "print('Test dataset: accuracy = %.3f' % accuracy_score(y_pred=y_test_pred, y_true=y_test))"
   ]
  },
  {
   "cell_type": "markdown",
   "metadata": {},
   "source": [
    "#### Linear Discriminant Analysis"
   ]
  },
  {
   "cell_type": "code",
   "execution_count": 42,
   "metadata": {},
   "outputs": [],
   "source": [
    "clf_name = 'lda'\n",
    "lda = estimators[clf_name]"
   ]
  },
  {
   "cell_type": "code",
   "execution_count": 43,
   "metadata": {},
   "outputs": [
    {
     "name": "stdout",
     "output_type": "stream",
     "text": [
      "Tarining dataset: accuracy = 0.803\n",
      "Test dataset: accuracy = 0.748\n"
     ]
    },
    {
     "name": "stderr",
     "output_type": "stream",
     "text": [
      "/home/kodolamacz/anaconda3/lib/python3.6/site-packages/sklearn/discriminant_analysis.py:388: UserWarning: Variables are collinear.\n",
      "  warnings.warn(\"Variables are collinear.\")\n"
     ]
    }
   ],
   "source": [
    "lda.fit(X_train_preprocessed, y_train);\n",
    "\n",
    "y_train_pred = lda.predict(X_train_preprocessed)\n",
    "y_test_pred = lda.predict(X_test_preprocessed)\n",
    "print('Tarining dataset: accuracy = %.3f' % accuracy_score(y_pred=y_train_pred, y_true=y_train))\n",
    "print('Test dataset: accuracy = %.3f' % accuracy_score(y_pred=y_test_pred, y_true=y_test))"
   ]
  },
  {
   "cell_type": "markdown",
   "metadata": {},
   "source": [
    "#### Quadratic Discriminant Analysis"
   ]
  },
  {
   "cell_type": "code",
   "execution_count": 44,
   "metadata": {},
   "outputs": [],
   "source": [
    "clf_name = 'qda'\n",
    "qda = estimators[clf_name]"
   ]
  },
  {
   "cell_type": "code",
   "execution_count": 45,
   "metadata": {},
   "outputs": [
    {
     "name": "stderr",
     "output_type": "stream",
     "text": [
      "/home/kodolamacz/anaconda3/lib/python3.6/site-packages/sklearn/discriminant_analysis.py:682: UserWarning: Variables are collinear\n",
      "  warnings.warn(\"Variables are collinear\")\n"
     ]
    },
    {
     "name": "stdout",
     "output_type": "stream",
     "text": [
      "Tarining dataset: accuracy = 0.854\n",
      "Test dataset: accuracy = 0.781\n"
     ]
    }
   ],
   "source": [
    "qda.fit(X_train_preprocessed, y_train);\n",
    "\n",
    "y_train_pred = qda.predict(X_train_preprocessed)\n",
    "y_test_pred = qda.predict(X_test_preprocessed)\n",
    "print('Tarining dataset: accuracy = %.3f' % accuracy_score(y_pred=y_train_pred, y_true=y_train))\n",
    "print('Test dataset: accuracy = %.3f' % accuracy_score(y_pred=y_test_pred, y_true=y_test))"
   ]
  },
  {
   "cell_type": "code",
   "execution_count": null,
   "metadata": {},
   "outputs": [],
   "source": []
  },
  {
   "cell_type": "markdown",
   "metadata": {},
   "source": [
    "### Ensembling"
   ]
  },
  {
   "cell_type": "code",
   "execution_count": 25,
   "metadata": {},
   "outputs": [],
   "source": [
    "from sklearn.ensemble import BaggingClassifier\n",
    "from sklearn.ensemble import VotingClassifier\n",
    "from xgboost import XGBClassifier\n",
    "# from lightgbm import LGBMClassfier\n",
    "\n",
    "from sklearn.model_selection import GridSearchCV"
   ]
  },
  {
   "cell_type": "markdown",
   "metadata": {
    "collapsed": true
   },
   "source": [
    "#### Bagging"
   ]
  },
  {
   "cell_type": "code",
   "execution_count": 40,
   "metadata": {},
   "outputs": [],
   "source": [
    "bagging_clf = BaggingClassifier(max_samples=1000, max_features=0.4, n_estimators=100, \n",
    "                                bootstrap=True, bootstrap_features=False)\n",
    "\n",
    "bagging_pipe = Pipeline([\n",
    "    ('features', FeatureUnion([\n",
    "            ('numerical_feats', FrequencyExtractor()),    \n",
    "            ('text_feats', Pipeline([('preprocessor', TextPreprocessor(stopwords=IRRELEVANT_STOPWORDS, \n",
    "                                                                       process='stem')),\n",
    "                                     ('vectorizer', CountVectorizer(token_pattern=token_pattern,\n",
    "                                                                    ngram_range=(1, 2)))\n",
    "                                    ]))\n",
    "            ])),\n",
    "    ('scaler', MaxAbsScaler()),\n",
    "    ('clf', bagging_clf)\n",
    "])\n",
    "\n",
    "estimators_list = [DecisionTreeClassifier(max_depth=10),\n",
    "                   LogisticRegression(C=1., penalty='l2'),\n",
    "                   RandomForestClassifier(max_depth=10, max_features=0.5, n_estimators=10)\n",
    "                  ]\n",
    "\n",
    "param_grid = {'clf__base_estimator': estimators_list,\n",
    "              'features__text_feats__vectorizer__min_df': [15, 25, 50]}\n",
    "\n",
    "bagging_gs = GridSearchCV(estimator=bagging_pipe, param_grid=param_grid, \n",
    "                          cv=StratifiedKFold(n_splits=5, shuffle=True, random_state=10), \n",
    "                          scoring='accuracy', \n",
    "                          n_jobs=-1, refit=True)"
   ]
  },
  {
   "cell_type": "code",
   "execution_count": 41,
   "metadata": {},
   "outputs": [
    {
     "data": {
      "text/plain": [
       "0.683703819661866"
      ]
     },
     "execution_count": 41,
     "metadata": {},
     "output_type": "execute_result"
    }
   ],
   "source": [
    "bagging_gs.fit(X_train, y_train);\n",
    "bagging_gs.best_score_"
   ]
  },
  {
   "cell_type": "code",
   "execution_count": 69,
   "metadata": {},
   "outputs": [],
   "source": [
    "best_bagging_pipe = bagging_gs.best_estimator_"
   ]
  },
  {
   "cell_type": "code",
   "execution_count": 43,
   "metadata": {},
   "outputs": [
    {
     "data": {
      "text/plain": [
       "{'clf__base_estimator': DecisionTreeClassifier(class_weight=None, criterion='gini', max_depth=10,\n",
       "             max_features=None, max_leaf_nodes=None,\n",
       "             min_impurity_decrease=0.0, min_impurity_split=None,\n",
       "             min_samples_leaf=1, min_samples_split=2,\n",
       "             min_weight_fraction_leaf=0.0, presort=False, random_state=None,\n",
       "             splitter='best'), 'features__text_feats__vectorizer__min_df': 25}"
      ]
     },
     "execution_count": 43,
     "metadata": {},
     "output_type": "execute_result"
    }
   ],
   "source": [
    "bagging_gs.best_params_"
   ]
  },
  {
   "cell_type": "code",
   "execution_count": 44,
   "metadata": {},
   "outputs": [
    {
     "name": "stdout",
     "output_type": "stream",
     "text": [
      "Tarining dataset: accuracy = 0.713\n",
      "Test dataset: accuracy = 0.690\n"
     ]
    }
   ],
   "source": [
    "y_train_pred = best_bagging_pipe.predict(X_train)\n",
    "y_test_pred = best_bagging_pipe.predict(X_test)\n",
    "print('Tarining dataset: accuracy = %.3f' % accuracy_score(y_pred=y_train_pred, y_true=y_train))\n",
    "print('Test dataset: accuracy = %.3f' % accuracy_score(y_pred=y_test_pred, y_true=y_test))"
   ]
  },
  {
   "cell_type": "code",
   "execution_count": 45,
   "metadata": {},
   "outputs": [
    {
     "data": {
      "image/png": "[encoded data removed]",
      "text/plain": [
       "<Figure size 216x216 with 1 Axes>"
      ]
     },
     "metadata": {},
     "output_type": "display_data"
    },
    {
     "data": {
      "image/png": "[encoded data removed]",
      "text/plain": [
       "<Figure size 216x216 with 1 Axes>"
      ]
     },
     "metadata": {},
     "output_type": "display_data"
    }
   ],
   "source": [
    "plot_confusion_matrix(y_train, y_train_pred)\n",
    "plot_confusion_matrix(y_test, y_test_pred)"
   ]
  },
  {
   "cell_type": "code",
   "execution_count": 46,
   "metadata": {},
   "outputs": [
    {
     "name": "stdout",
     "output_type": "stream",
     "text": [
      "Tarining dataset: accuracy = 0.759\n",
      "Test dataset: accuracy = 0.704\n"
     ]
    }
   ],
   "source": [
    "bagging_pipe = clone(best_bagging_pipe)\n",
    "bagging_pipe.set_params(**{'clf__base_estimator__class_weight': {0: 1, 1: 1.4}})\n",
    "\n",
    "bagging_pipe.fit(X_train, y_train);\n",
    "\n",
    "y_train_pred = bagging_pipe.predict(X_train)\n",
    "y_test_pred = bagging_pipe.predict(X_test)\n",
    "print('Tarining dataset: accuracy = %.3f' % accuracy_score(y_pred=y_train_pred, y_true=y_train))\n",
    "print('Test dataset: accuracy = %.3f' % accuracy_score(y_pred=y_test_pred, y_true=y_test))"
   ]
  },
  {
   "cell_type": "code",
   "execution_count": 47,
   "metadata": {},
   "outputs": [
    {
     "data": {
      "image/png": "[encoded data removed]",
      "text/plain": [
       "<Figure size 216x216 with 1 Axes>"
      ]
     },
     "metadata": {},
     "output_type": "display_data"
    },
    {
     "data": {
      "image/png": "[encoded data removed]",
      "text/plain": [
       "<Figure size 216x216 with 1 Axes>"
      ]
     },
     "metadata": {},
     "output_type": "display_data"
    }
   ],
   "source": [
    "plot_confusion_matrix(y_train, y_train_pred)\n",
    "plot_confusion_matrix(y_test, y_test_pred)"
   ]
  },
  {
   "cell_type": "code",
   "execution_count": 49,
   "metadata": {},
   "outputs": [],
   "source": [
    "bagging_pipe_extended = clone(bagging_pipe)\n",
    "bagging_pipe_extended.fit(X_extended, y_extended);"
   ]
  },
  {
   "cell_type": "code",
   "execution_count": 50,
   "metadata": {},
   "outputs": [],
   "source": [
    "y_train_pred = bagging_pipe_extended.predict(X_extended)"
   ]
  },
  {
   "cell_type": "code",
   "execution_count": 51,
   "metadata": {},
   "outputs": [
    {
     "name": "stdout",
     "output_type": "stream",
     "text": [
      "Tarining dataset: accuracy = 0.751\n"
     ]
    }
   ],
   "source": [
    "print('Tarining dataset: accuracy = %.3f' % accuracy_score(y_pred=y_train_pred, y_true=y_extended))"
   ]
  },
  {
   "cell_type": "code",
   "execution_count": 52,
   "metadata": {},
   "outputs": [],
   "source": [
    "file_name = 'baggingtree25.p'\n",
    "model = bagging_pipe_extended\n",
    "save_model(model, file_name)"
   ]
  },
  {
   "cell_type": "markdown",
   "metadata": {
    "collapsed": true
   },
   "source": [
    "#### Voting"
   ]
  },
  {
   "cell_type": "code",
   "execution_count": 184,
   "metadata": {},
   "outputs": [],
   "source": [
    "estimators_list = [('dt', DecisionTreeClassifier(max_depth=10)),\n",
    "                   ('lr', LogisticRegression(C=1., penalty='l2')),\n",
    "                   ('rf', RandomForestClassifier(max_depth=10, max_features=0.5, n_estimators=10))]\n",
    "\n",
    "voting_clf = VotingClassifier(estimators=estimators_list)\n",
    "\n",
    "voting_pipe = Pipeline([\n",
    "    ('features', FeatureUnion([\n",
    "            ('numerical_feats', FrequencyExtractor()),    \n",
    "            ('text_feats', Pipeline([('preprocessor', TextPreprocessor(stopwords=IRRELEVANT_STOPWORDS, \n",
    "                                                                       process='stem')),\n",
    "                                     ('vectorizer', CountVectorizer(token_pattern=token_pattern,\n",
    "                                                                    ngram_range=(1, 2)))\n",
    "                                    ]))\n",
    "            ])),\n",
    "    ('scaler', MaxAbsScaler()),\n",
    "    ('clf', voting_clf)\n",
    "])\n",
    "\n",
    "param_grid = {'clf__voting': ['hard', 'soft'],\n",
    "              'features__text_feats__vectorizer__min_df': [15, 25, 50]}\n",
    "\n",
    "voting_gs = GridSearchCV(estimator=voting_pipe, param_grid=param_grid, \n",
    "                         cv=StratifiedKFold(n_splits=5, shuffle=True, random_state=10), \n",
    "                         scoring='accuracy', \n",
    "                         n_jobs=-1, refit=True)"
   ]
  },
  {
   "cell_type": "code",
   "execution_count": 185,
   "metadata": {},
   "outputs": [],
   "source": [
    "# voting_gs.fit(X_train, y_train);\n",
    "# voting_gs.best_score_"
   ]
  },
  {
   "cell_type": "code",
   "execution_count": null,
   "metadata": {},
   "outputs": [],
   "source": [
    "# voting_gs.best_params_"
   ]
  },
  {
   "cell_type": "markdown",
   "metadata": {
    "collapsed": true
   },
   "source": [
    "#### Boosting"
   ]
  },
  {
   "cell_type": "code",
   "execution_count": 197,
   "metadata": {},
   "outputs": [],
   "source": [
    "?XGBClassifier"
   ]
  },
  {
   "cell_type": "code",
   "execution_count": 64,
   "metadata": {},
   "outputs": [],
   "source": [
    "import warnings\n",
    "warnings.filterwarnings(action='ignore', category=DeprecationWarning)"
   ]
  },
  {
   "cell_type": "code",
   "execution_count": 49,
   "metadata": {},
   "outputs": [],
   "source": [
    "xgb_clf = XGBClassifier()\n",
    "\n",
    "xgb_pipe = Pipeline([\n",
    "    ('features', FeatureUnion([\n",
    "            ('numerical_feats', FrequencyExtractor()),    \n",
    "            ('text_feats', Pipeline([('preprocessor', TextPreprocessor(stopwords=IRRELEVANT_STOPWORDS, \n",
    "                                                                       process='stem')),\n",
    "                                     ('vectorizer', CountVectorizer(token_pattern=token_pattern,\n",
    "                                                                    ngram_range=(1, 2)))\n",
    "                                    ]))\n",
    "            ])),\n",
    "    ('scaler', MaxAbsScaler()),\n",
    "    ('clf', xgb_clf)\n",
    "])\n",
    "\n",
    "param_dist = {'clf__learning_rate': uniform(0.001, 2 - 0.001),\n",
    "              'clf__max_depth': randint(5, 20),\n",
    "              'clf__reg_lambda': uniform(0, 2),\n",
    "              'clf__gamma': uniform(0, 0.5),\n",
    "              'clf__colsample_bytree': uniform(0.5, 0.5),\n",
    "              'clf__subsample': uniform(0.5, 0.5),\n",
    "              'clf__min_child_weight': randint(1, 11),\n",
    "              'clf__n_estimators': randint(50, 400),\n",
    "              'features__text_feats__vectorizer__min_df': randint(15, 50)\n",
    "             }\n",
    "\n",
    "xgb_rs = RandomizedSearchCV(estimator=xgb_pipe, param_distributions=param_dist, \n",
    "                            cv=StratifiedKFold(n_splits=5, shuffle=True, random_state=20), \n",
    "                            scoring='accuracy', n_iter=50,\n",
    "                            n_jobs=-1, refit=True)"
   ]
  },
  {
   "cell_type": "code",
   "execution_count": 51,
   "metadata": {},
   "outputs": [],
   "source": [
    "xgb_rs.fit(X_train, y_train);"
   ]
  },
  {
   "cell_type": "code",
   "execution_count": 63,
   "metadata": {},
   "outputs": [
    {
     "data": {
      "text/plain": [
       "0.8515967438948028"
      ]
     },
     "execution_count": 63,
     "metadata": {},
     "output_type": "execute_result"
    }
   ],
   "source": [
    "xgb_rs.best_score_"
   ]
  },
  {
   "cell_type": "code",
   "execution_count": 64,
   "metadata": {},
   "outputs": [
    {
     "data": {
      "text/plain": [
       "{'clf__colsample_bytree': 0.9898231977209171,\n",
       " 'clf__gamma': 0.159422455552511,\n",
       " 'clf__learning_rate': 0.13764196519734742,\n",
       " 'clf__max_depth': 14,\n",
       " 'clf__min_child_weight': 1,\n",
       " 'clf__n_estimators': 263,\n",
       " 'clf__reg_lambda': 1.7772772711792701,\n",
       " 'clf__subsample': 0.5185253053361849,\n",
       " 'features__text_feats__vectorizer__min_df': 15}"
      ]
     },
     "execution_count": 64,
     "metadata": {},
     "output_type": "execute_result"
    }
   ],
   "source": [
    "xgb_rs.best_params_"
   ]
  },
  {
   "cell_type": "code",
   "execution_count": 65,
   "metadata": {},
   "outputs": [],
   "source": [
    "best_xgb_pipe = xgb_rs.best_estimator_"
   ]
  },
  {
   "cell_type": "code",
   "execution_count": 66,
   "metadata": {},
   "outputs": [
    {
     "name": "stdout",
     "output_type": "stream",
     "text": [
      "Tarining dataset: accuracy = 0.996\n",
      "Test dataset: accuracy = 0.895\n"
     ]
    }
   ],
   "source": [
    "y_train_pred = best_xgb_pipe.predict(X_train)\n",
    "y_test_pred = best_xgb_pipe.predict(X_test)\n",
    "print('Tarining dataset: accuracy = %.3f' % accuracy_score(y_pred=y_train_pred, y_true=y_train))\n",
    "print('Test dataset: accuracy = %.3f' % accuracy_score(y_pred=y_test_pred, y_true=y_test))"
   ]
  },
  {
   "cell_type": "code",
   "execution_count": 67,
   "metadata": {},
   "outputs": [
    {
     "data": {
      "image/png": "[encoded data removed]",
      "text/plain": [
       "<Figure size 216x216 with 1 Axes>"
      ]
     },
     "metadata": {},
     "output_type": "display_data"
    },
    {
     "data": {
      "image/png": "[encoded data removed]",
      "text/plain": [
       "<Figure size 216x216 with 1 Axes>"
      ]
     },
     "metadata": {},
     "output_type": "display_data"
    }
   ],
   "source": [
    "plot_confusion_matrix(y_train, y_train_pred)\n",
    "plot_confusion_matrix(y_test, y_test_pred)"
   ]
  },
  {
   "cell_type": "code",
   "execution_count": 204,
   "metadata": {},
   "outputs": [
    {
     "data": {
      "image/png": "[encoded data removed]",
      "text/plain": [
       "<Figure size 360x360 with 1 Axes>"
      ]
     },
     "metadata": {},
     "output_type": "display_data"
    }
   ],
   "source": [
    "plot_validation_curve(estimator=clone(best_xgb_pipe), X=X_train, y=y_train, \n",
    "                      param_name='clf__learning_rate', param_range=np.linspace(0.01, 3, 7), x_scale='linear')"
   ]
  },
  {
   "cell_type": "code",
   "execution_count": 69,
   "metadata": {},
   "outputs": [
    {
     "data": {
      "image/png": "[encoded data removed]",
      "text/plain": [
       "<Figure size 360x360 with 1 Axes>"
      ]
     },
     "metadata": {},
     "output_type": "display_data"
    }
   ],
   "source": [
    "plot_validation_curve(estimator=clone(best_xgb_pipe), X=X_train, y=y_train, \n",
    "                      param_name='clf__reg_lambda', param_range=np.linspace(0.01, 3, 7), x_scale='linear')"
   ]
  },
  {
   "cell_type": "code",
   "execution_count": 76,
   "metadata": {},
   "outputs": [
    {
     "data": {
      "image/png": "[encoded data removed]",
      "text/plain": [
       "<Figure size 360x360 with 1 Axes>"
      ]
     },
     "metadata": {},
     "output_type": "display_data"
    }
   ],
   "source": [
    "plot_validation_curve(estimator=clone(best_xgb_pipe), X=X_train, y=y_train, \n",
    "                      param_name='clf__colsample_bytree', param_range=np.linspace(0.1, 0.9, 9), x_scale='linear')"
   ]
  },
  {
   "cell_type": "code",
   "execution_count": 80,
   "metadata": {},
   "outputs": [
    {
     "name": "stdout",
     "output_type": "stream",
     "text": [
      "Tarining dataset: accuracy = 0.982\n",
      "Test dataset: accuracy = 0.894\n"
     ]
    }
   ],
   "source": [
    "xgb_pipe = clone(best_xgb_pipe)\n",
    "xgb_pipe.set_params(**{'clf__scale_pos_weight': 0.4,\n",
    "                       'clf__colsample_bytree': 0.5\n",
    "                      })\n",
    "\n",
    "xgb_pipe.fit(X_train, y_train)\n",
    "\n",
    "y_train_pred = xgb_pipe.predict(X_train)\n",
    "y_test_pred = xgb_pipe.predict(X_test)\n",
    "print('Tarining dataset: accuracy = %.3f' % accuracy_score(y_pred=y_train_pred, y_true=y_train))\n",
    "print('Test dataset: accuracy = %.3f' % accuracy_score(y_pred=y_test_pred, y_true=y_test))"
   ]
  },
  {
   "cell_type": "code",
   "execution_count": 81,
   "metadata": {},
   "outputs": [
    {
     "data": {
      "image/png": "[encoded data removed]",
      "text/plain": [
       "<Figure size 216x216 with 1 Axes>"
      ]
     },
     "metadata": {},
     "output_type": "display_data"
    }
   ],
   "source": [
    "plot_confusion_matrix(y_test, y_test_pred)"
   ]
  },
  {
   "cell_type": "code",
   "execution_count": 82,
   "metadata": {},
   "outputs": [
    {
     "name": "stdout",
     "output_type": "stream",
     "text": [
      "Tarining dataset: accuracy = 0.983\n"
     ]
    }
   ],
   "source": [
    "xgb_pipe_extended = clone(xgb_pipe)\n",
    "xgb_pipe_extended.fit(X_extended, y_extended);\n",
    "y_extended_pred = xgb_pipe_extended.predict(X_extended)\n",
    "print('Tarining dataset: accuracy = %.3f' % accuracy_score(y_pred=y_extended_pred, y_true=y_extended))"
   ]
  },
  {
   "cell_type": "code",
   "execution_count": 83,
   "metadata": {},
   "outputs": [],
   "source": [
    "file_name = 'xgb15.p'\n",
    "model = xgb_pipe_extended\n",
    "save_model(model, file_name)"
   ]
  },
  {
   "cell_type": "code",
   "execution_count": null,
   "metadata": {},
   "outputs": [],
   "source": []
  },
  {
   "cell_type": "code",
   "execution_count": 65,
   "metadata": {},
   "outputs": [],
   "source": [
    "xgb_clf = XGBClassifier()\n",
    "\n",
    "xgb_select_pipe = Pipeline([\n",
    "    ('features', FeatureUnion([\n",
    "            ('numerical_feats', FrequencyExtractor()),    \n",
    "            ('text_feats', Pipeline([('preprocessor', TextPreprocessor(stopwords=IRRELEVANT_STOPWORDS, \n",
    "                                                                       process='stem')),\n",
    "                                     ('vectorizer', CountVectorizer(token_pattern=token_pattern,\n",
    "                                                                    ngram_range=(1, 2), min_df=2))\n",
    "                                    ]))\n",
    "            ])),\n",
    "    ('scaler', MaxAbsScaler()),\n",
    "    ('selector', SelectFpr(score_func=f_classif)),\n",
    "    ('clf', xgb_clf)\n",
    "])\n",
    "\n",
    "param_dist = {'clf__learning_rate': uniform(0.001, 2 - 0.001),\n",
    "              'clf__max_depth': randint(5, 20),\n",
    "              'clf__reg_lambda': uniform(0, 2),\n",
    "              'clf__gamma': uniform(0, 0.5),\n",
    "              'clf__colsample_bytree': uniform(0.5, 0.5),\n",
    "              'clf__subsample': uniform(0.5, 0.5),\n",
    "              'clf__min_child_weight': randint(1, 11),\n",
    "              'clf__n_estimators': randint(50, 400),\n",
    "              'selector__alpha': uniform(0.01, 0.05)\n",
    "             }\n",
    "\n",
    "xgb_select_rs = RandomizedSearchCV(estimator=xgb_select_pipe, param_distributions=param_dist, \n",
    "                                   cv=StratifiedKFold(n_splits=5, shuffle=True, random_state=20), \n",
    "                                   scoring='accuracy', n_iter=20,\n",
    "                                   n_jobs=-1, refit=True)"
   ]
  },
  {
   "cell_type": "code",
   "execution_count": 66,
   "metadata": {},
   "outputs": [],
   "source": [
    "xgb_select_rs.fit(X_train, y_train);"
   ]
  },
  {
   "cell_type": "code",
   "execution_count": 67,
   "metadata": {},
   "outputs": [
    {
     "data": {
      "text/plain": [
       "0.823888541014402"
      ]
     },
     "execution_count": 67,
     "metadata": {},
     "output_type": "execute_result"
    }
   ],
   "source": [
    "xgb_select_rs.best_score_"
   ]
  },
  {
   "cell_type": "code",
   "execution_count": 68,
   "metadata": {},
   "outputs": [
    {
     "data": {
      "text/plain": [
       "{'clf__colsample_bytree': 0.742098897747156,\n",
       " 'clf__gamma': 0.06093359081230881,\n",
       " 'clf__learning_rate': 0.6044594618527709,\n",
       " 'clf__max_depth': 10,\n",
       " 'clf__min_child_weight': 5,\n",
       " 'clf__n_estimators': 247,\n",
       " 'clf__reg_lambda': 0.2764503698469625,\n",
       " 'clf__subsample': 0.9522617111323792,\n",
       " 'selector__alpha': 0.026982149145027758}"
      ]
     },
     "execution_count": 68,
     "metadata": {},
     "output_type": "execute_result"
    }
   ],
   "source": [
    "xgb_select_rs.best_params_"
   ]
  },
  {
   "cell_type": "code",
   "execution_count": 69,
   "metadata": {},
   "outputs": [],
   "source": [
    "best_xgb_pipe = xgb_select_rs.best_estimator_"
   ]
  },
  {
   "cell_type": "code",
   "execution_count": 70,
   "metadata": {},
   "outputs": [
    {
     "name": "stdout",
     "output_type": "stream",
     "text": [
      "Tarining dataset: accuracy = 0.991\n",
      "Test dataset: accuracy = 0.865\n"
     ]
    }
   ],
   "source": [
    "y_train_pred = best_xgb_pipe.predict(X_train)\n",
    "y_test_pred = best_xgb_pipe.predict(X_test)\n",
    "print('Tarining dataset: accuracy = %.3f' % accuracy_score(y_pred=y_train_pred, y_true=y_train))\n",
    "print('Test dataset: accuracy = %.3f' % accuracy_score(y_pred=y_test_pred, y_true=y_test))"
   ]
  },
  {
   "cell_type": "code",
   "execution_count": 71,
   "metadata": {},
   "outputs": [
    {
     "data": {
      "image/png": "[encoded data removed]",
      "text/plain": [
       "<Figure size 216x216 with 1 Axes>"
      ]
     },
     "metadata": {},
     "output_type": "display_data"
    },
    {
     "data": {
      "image/png": "[encoded data removed]",
      "text/plain": [
       "<Figure size 216x216 with 1 Axes>"
      ]
     },
     "metadata": {},
     "output_type": "display_data"
    }
   ],
   "source": [
    "plot_confusion_matrix(y_train, y_train_pred)\n",
    "plot_confusion_matrix(y_test, y_test_pred)"
   ]
  },
  {
   "cell_type": "code",
   "execution_count": 123,
   "metadata": {},
   "outputs": [
    {
     "name": "stdout",
     "output_type": "stream",
     "text": [
      "Tarining dataset: accuracy = 0.987\n",
      "Test dataset: accuracy = 0.879\n"
     ]
    }
   ],
   "source": [
    "xgb_pipe = clone(best_xgb_pipe)\n",
    "xgb_pipe.set_params(**{'clf__scale_pos_weight': 0.4,\n",
    "                       'clf__colsample_bytree': 0.5,\n",
    "#                        'selector__alpha': 0.05,\n",
    "                       'clf__reg_lambda': 2.,\n",
    "#                        'clf__learning_rate': 0.8,\n",
    "                       'clf__max_depth': 50\n",
    "                      })\n",
    "\n",
    "xgb_pipe.fit(X_train, y_train)\n",
    "\n",
    "y_train_pred = xgb_pipe.predict(X_train)\n",
    "y_test_pred = xgb_pipe.predict(X_test)\n",
    "print('Tarining dataset: accuracy = %.3f' % accuracy_score(y_pred=y_train_pred, y_true=y_train))\n",
    "print('Test dataset: accuracy = %.3f' % accuracy_score(y_pred=y_test_pred, y_true=y_test))"
   ]
  },
  {
   "cell_type": "code",
   "execution_count": 124,
   "metadata": {},
   "outputs": [
    {
     "data": {
      "image/png": "[encoded data removed]",
      "text/plain": [
       "<Figure size 216x216 with 1 Axes>"
      ]
     },
     "metadata": {},
     "output_type": "display_data"
    }
   ],
   "source": [
    "plot_confusion_matrix(y_test, y_test_pred)"
   ]
  },
  {
   "cell_type": "code",
   "execution_count": 125,
   "metadata": {},
   "outputs": [
    {
     "name": "stdout",
     "output_type": "stream",
     "text": [
      "Tarining dataset: accuracy = 0.988\n"
     ]
    }
   ],
   "source": [
    "xgb_pipe_extended = clone(xgb_pipe)\n",
    "xgb_pipe_extended.fit(X_extended, y_extended);\n",
    "y_extended_pred = xgb_pipe_extended.predict(X_extended)\n",
    "print('Tarining dataset: accuracy = %.3f' % accuracy_score(y_pred=y_extended_pred, y_true=y_extended))"
   ]
  },
  {
   "cell_type": "code",
   "execution_count": 126,
   "metadata": {},
   "outputs": [],
   "source": [
    "file_name = 'xgbselect.p'\n",
    "model = xgb_pipe_extended\n",
    "save_model(model, file_name)"
   ]
  },
  {
   "cell_type": "code",
   "execution_count": null,
   "metadata": {},
   "outputs": [],
   "source": []
  },
  {
   "cell_type": "markdown",
   "metadata": {},
   "source": [
    "### Recurrent Neural Network"
   ]
  },
  {
   "cell_type": "code",
   "execution_count": 172,
   "metadata": {},
   "outputs": [],
   "source": [
    "from mytextpreprocessing import WordToIndexTransformer\n",
    "\n",
    "from keras.models import Sequential\n",
    "from keras.layers import Dense, Dropout, Embedding, SimpleRNN, LSTM, Bidirectional\n",
    "from keras.callbacks import EarlyStopping\n",
    "from keras.regularizers import l2\n",
    "from keras.utils import print_summary"
   ]
  },
  {
   "cell_type": "code",
   "execution_count": 204,
   "metadata": {},
   "outputs": [],
   "source": [
    "preprocessor = TextPreprocessor(stopwords=[], process='stem')\n",
    "wordToIndex = WordToIndexTransformer(preprocessor)"
   ]
  },
  {
   "cell_type": "code",
   "execution_count": 205,
   "metadata": {},
   "outputs": [],
   "source": [
    "X_rnn_train = wordToIndex.fit_transform(X_train)\n",
    "X_rnn_test = wordToIndex.transform(X_test)"
   ]
  },
  {
   "cell_type": "code",
   "execution_count": 206,
   "metadata": {},
   "outputs": [],
   "source": [
    "file_name = 'wordToIndex.p'\n",
    "save_model(wordToIndex, file_name)"
   ]
  },
  {
   "cell_type": "code",
   "execution_count": 207,
   "metadata": {},
   "outputs": [
    {
     "name": "stdout",
     "output_type": "stream",
     "text": [
      "10867 280\n"
     ]
    }
   ],
   "source": [
    "max_features = wordToIndex.unique_words_no + 1\n",
    "maxlen = wordToIndex.maxlen\n",
    "embedding_dims = 32\n",
    "print(max_features, maxlen)"
   ]
  },
  {
   "cell_type": "code",
   "execution_count": 208,
   "metadata": {},
   "outputs": [
    {
     "data": {
      "text/plain": [
       "((12776, 280), (3194, 280))"
      ]
     },
     "execution_count": 208,
     "metadata": {},
     "output_type": "execute_result"
    }
   ],
   "source": [
    "X_rnn_train.shape, X_rnn_test.shape"
   ]
  },
  {
   "cell_type": "code",
   "execution_count": 174,
   "metadata": {},
   "outputs": [],
   "source": [
    "X_rnn_extended = wordToIndex.fit_transform(X_extended)"
   ]
  },
  {
   "cell_type": "code",
   "execution_count": 202,
   "metadata": {},
   "outputs": [],
   "source": [
    "file_name = 'wordToIndex.p'\n",
    "save_model(wordToIndex, file_name)"
   ]
  },
  {
   "cell_type": "code",
   "execution_count": 175,
   "metadata": {},
   "outputs": [
    {
     "name": "stdout",
     "output_type": "stream",
     "text": [
      "11982 280\n"
     ]
    }
   ],
   "source": [
    "max_features = wordToIndex.unique_words_no + 1\n",
    "maxlen = wordToIndex.maxlen\n",
    "embedding_dims = 32\n",
    "print(max_features, maxlen)"
   ]
  },
  {
   "cell_type": "code",
   "execution_count": 176,
   "metadata": {},
   "outputs": [
    {
     "data": {
      "text/plain": [
       "(15970, 280)"
      ]
     },
     "execution_count": 176,
     "metadata": {},
     "output_type": "execute_result"
    }
   ],
   "source": [
    "X_rnn_extended.shape"
   ]
  },
  {
   "cell_type": "code",
   "execution_count": 245,
   "metadata": {},
   "outputs": [],
   "source": [
    "model = Sequential()\n",
    "model.add(Embedding(max_features, embedding_dims, input_length=maxlen))\n",
    "# model.add(SimpleRNN(50, return_sequences=False))\n",
    "# model.add(LSTM(30, return_sequences=False))\n",
    "# model.add(Bidirectional(SimpleRNN(30, return_sequences=True)))\n",
    "model.add(Bidirectional(SimpleRNN(10, return_sequences=False)))\n",
    "model.add(Dropout(0.5))\n",
    "# model.add(Dense(10, activation='relu'))\n",
    "# model.add(Dropout(0.2))\n",
    "# model.add(Dense(1, activation='sigmoid', kernel_regularizer=l2(0.002)))\n",
    "model.add(Dense(1, activation='sigmoid'))\n",
    "\n",
    "model.compile(loss='binary_crossentropy', metrics=['accuracy'], optimizer='adam')"
   ]
  },
  {
   "cell_type": "code",
   "execution_count": 246,
   "metadata": {},
   "outputs": [
    {
     "name": "stdout",
     "output_type": "stream",
     "text": [
      "_________________________________________________________________\n",
      "Layer (type)                 Output Shape              Param #   \n",
      "=================================================================\n",
      "embedding_14 (Embedding)     (None, 280, 32)           347744    \n",
      "_________________________________________________________________\n",
      "bidirectional_9 (Bidirection (None, 20)                860       \n",
      "_________________________________________________________________\n",
      "dropout_10 (Dropout)         (None, 20)                0         \n",
      "_________________________________________________________________\n",
      "dense_22 (Dense)             (None, 1)                 21        \n",
      "=================================================================\n",
      "Total params: 348,625\n",
      "Trainable params: 348,625\n",
      "Non-trainable params: 0\n",
      "_________________________________________________________________\n"
     ]
    }
   ],
   "source": [
    "print_summary(model)"
   ]
  },
  {
   "cell_type": "code",
   "execution_count": 247,
   "metadata": {},
   "outputs": [
    {
     "name": "stdout",
     "output_type": "stream",
     "text": [
      "Train on 12776 samples, validate on 3194 samples\n",
      "Epoch 1/3\n",
      "12776/12776 [==============================] - 55s 4ms/step - loss: 0.6348 - acc: 0.6311 - val_loss: 0.5778 - val_acc: 0.6919\n",
      "Epoch 2/3\n",
      "12776/12776 [==============================] - 55s 4ms/step - loss: 0.4894 - acc: 0.7779 - val_loss: 0.4701 - val_acc: 0.7912\n",
      "Epoch 3/3\n",
      "12776/12776 [==============================] - 55s 4ms/step - loss: 0.3170 - acc: 0.8886 - val_loss: 0.4136 - val_acc: 0.8172\n"
     ]
    },
    {
     "data": {
      "text/plain": [
       "<keras.callbacks.History at 0x7f72302399b0>"
      ]
     },
     "execution_count": 247,
     "metadata": {},
     "output_type": "execute_result"
    }
   ],
   "source": [
    "early_stopping = EarlyStopping(patience=1)\n",
    "\n",
    "# model.fit(X_rnn_extended, y_extended, batch_size=32, epochs=30, callbacks=[early_stopping], validation_split=0.5)\n",
    "\n",
    "model.fit(X_rnn_train, y_train, validation_data=(X_rnn_test, y_test), \n",
    "          batch_size=32, epochs=3, callbacks=[early_stopping])"
   ]
  },
  {
   "cell_type": "code",
   "execution_count": 248,
   "metadata": {},
   "outputs": [
    {
     "name": "stdout",
     "output_type": "stream",
     "text": [
      "Tarining dataset:\n",
      "loss = 0.175\n",
      "accuracy = 0.954\n",
      "Test dataset:\n",
      "loss = 0.414\n",
      "accuracy = 0.817\n"
     ]
    }
   ],
   "source": [
    "train_accuracy = model.evaluate(X_rnn_train, y_train, verbose=0)\n",
    "test_accuracy = model.evaluate(X_rnn_test, y_test, verbose=0)\n",
    "\n",
    "print('Tarining dataset:\\nloss = %.3f\\naccuracy = %.3f' % tuple(train_accuracy))\n",
    "print('Test dataset:\\nloss = %.3f\\naccuracy = %.3f' % tuple(test_accuracy))"
   ]
  },
  {
   "cell_type": "code",
   "execution_count": null,
   "metadata": {},
   "outputs": [],
   "source": [
    "# model.fit(X_rnn_extended, y_extended, batch_size=32, epochs=6)"
   ]
  },
  {
   "cell_type": "code",
   "execution_count": 221,
   "metadata": {},
   "outputs": [],
   "source": [
    "# train_accuracy = model.evaluate(X_rnn_extended, y_extended, verbose=0)\n",
    "# print('Tarining dataset:\\nloss = %.3f\\naccuracy = %.3f' % tuple(train_accuracy))"
   ]
  },
  {
   "cell_type": "code",
   "execution_count": 46,
   "metadata": {},
   "outputs": [],
   "source": [
    "y_extended_proba = model.predict(X_rnn_extended)[:, 0]\n",
    "y_extended_pred = np.where(y_extended_proba >= 0.5, 1, 0)"
   ]
  },
  {
   "cell_type": "code",
   "execution_count": 47,
   "metadata": {},
   "outputs": [
    {
     "data": {
      "image/png": "[encoded data removed]",
      "text/plain": [
       "<Figure size 216x216 with 1 Axes>"
      ]
     },
     "metadata": {},
     "output_type": "display_data"
    }
   ],
   "source": [
    "plot_confusion_matrix(y_extended, y_extended_pred)"
   ]
  },
  {
   "cell_type": "code",
   "execution_count": 244,
   "metadata": {},
   "outputs": [],
   "source": [
    "file_name = 'bi30rnn.h5'\n",
    "models_path = 'Models'\n",
    "model.save(os.path.join(models_path, file_name))"
   ]
  },
  {
   "cell_type": "code",
   "execution_count": null,
   "metadata": {},
   "outputs": [],
   "source": []
  }
 ],
 "metadata": {
  "kernelspec": {
   "display_name": "Python 3",
   "language": "python",
   "name": "python3"
  },
  "language_info": {
   "codemirror_mode": {
    "name": "ipython",
    "version": 3
   },
   "file_extension": ".py",
   "mimetype": "text/x-python",
   "name": "python",
   "nbconvert_exporter": "python",
   "pygments_lexer": "ipython3",
   "version": "3.6.5"
  }
 },
 "nbformat": 4,
 "nbformat_minor": 2
}
