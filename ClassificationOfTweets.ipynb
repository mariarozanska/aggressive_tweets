{
 "cells": [
  {
   "cell_type": "markdown",
   "metadata": {},
   "source": [
    "## Problem: Detection of aggressive tweets"
   ]
  },
  {
   "cell_type": "markdown",
   "metadata": {},
   "source": [
    "Training dataset has 12776 tweets (in english) and validation dataset has 3194 tweets.<br/>\n",
    "Tweets are labeled (by human) as:\n",
    "* 1 (Cyber-Aggressive)\n",
    "* 0 (Non Cyber-Aggressive)"
   ]
  },
  {
   "cell_type": "markdown",
   "metadata": {},
   "source": [
    "# Classification of Tweets"
   ]
  },
  {
   "cell_type": "markdown",
   "metadata": {},
   "source": [
    "## Data"
   ]
  },
  {
   "cell_type": "code",
   "execution_count": 1,
   "metadata": {},
   "outputs": [],
   "source": [
    "import pandas as pd\n",
    "import numpy as np"
   ]
  },
  {
   "cell_type": "code",
   "execution_count": 2,
   "metadata": {},
   "outputs": [],
   "source": [
    "data_train = pd.read_json('./Data/train.json')\n",
    "data_valid = pd.read_json('./Data/valid.json')"
   ]
  },
  {
   "cell_type": "code",
   "execution_count": 3,
   "metadata": {},
   "outputs": [],
   "source": [
    "X_train = data_train.content\n",
    "y_train = data_train.label\n",
    "X_test = data_valid.content\n",
    "y_test = data_valid.label"
   ]
  },
  {
   "cell_type": "markdown",
   "metadata": {},
   "source": [
    "## Preprocessing"
   ]
  },
  {
   "cell_type": "code",
   "execution_count": 5,
   "metadata": {},
   "outputs": [],
   "source": [
    "import nltk\n",
    "import re\n",
    "\n",
    "from sklearn.pipeline import Pipeline\n",
    "from sklearn.pipeline import FeatureUnion\n",
    "from mytextpreprocessing import TextPreprocessor\n",
    "from mytextpreprocessing import FrequencyExtractor\n",
    "from mytextpreprocessing import SimilarityToAggressiveTweets\n",
    "from sklearn.feature_extraction.text import CountVectorizer\n",
    "from sklearn.preprocessing import MaxAbsScaler\n",
    "from sklearn.linear_model import LogisticRegression\n",
    "\n",
    "from sklearn.metrics import accuracy_score\n",
    "from sklearn.metrics import roc_auc_score, roc_curve\n",
    "\n",
    "from myutils import *"
   ]
  },
  {
   "cell_type": "code",
   "execution_count": 5,
   "metadata": {},
   "outputs": [],
   "source": [
    "# nltk.download()"
   ]
  },
  {
   "cell_type": "code",
   "execution_count": 6,
   "metadata": {},
   "outputs": [],
   "source": [
    "def print_accuracy(pipe, X):\n",
    "    pipe.fit(X, y_train);\n",
    "\n",
    "    y_train_pred = pipe.predict(X)\n",
    "    y_test_pred = pipe.predict(X_test)\n",
    "\n",
    "    print('Tarining dataset: accuracy = %.3f' % accuracy_score(y_pred=y_train_pred, y_true=y_train))\n",
    "    print('Test dataset: accuracy = %.3f' % accuracy_score(y_pred=y_test_pred, y_true=y_test))"
   ]
  },
  {
   "cell_type": "markdown",
   "metadata": {},
   "source": [
    "Additional features give some infromation (the accuracy is higher than the contribution of class 0)"
   ]
  },
  {
   "cell_type": "code",
   "execution_count": 7,
   "metadata": {},
   "outputs": [
    {
     "name": "stdout",
     "output_type": "stream",
     "text": [
      "Train: 0.6032\n",
      "Test: 0.6183\n"
     ]
    }
   ],
   "source": [
    "print('Train: {:.4f}'.format(1 - y_train.mean()))\n",
    "print('Test: {:.4f}'.format(1 - y_test.mean()))"
   ]
  },
  {
   "cell_type": "code",
   "execution_count": 8,
   "metadata": {},
   "outputs": [
    {
     "name": "stdout",
     "output_type": "stream",
     "text": [
      "Tarining dataset: accuracy = 0.608\n",
      "Test dataset: accuracy = 0.628\n"
     ]
    }
   ],
   "source": [
    "test_pipe = Pipeline([('feats', FrequencyExtractor()),\n",
    "                      ('clf', LogisticRegression(penalty='l2', C=1.0))\n",
    "                     ])\n",
    "\n",
    "print_accuracy(test_pipe, X_train)"
   ]
  },
  {
   "cell_type": "markdown",
   "metadata": {},
   "source": [
    "Text normalization does not improve the results"
   ]
  },
  {
   "cell_type": "code",
   "execution_count": 6,
   "metadata": {},
   "outputs": [],
   "source": [
    "token_pattern = '(?u)\\\\b[a-z][a-z\\'*]+\\\\b'"
   ]
  },
  {
   "cell_type": "code",
   "execution_count": 10,
   "metadata": {},
   "outputs": [
    {
     "name": "stdout",
     "output_type": "stream",
     "text": [
      "Tarining dataset: accuracy = 0.924\n",
      "Test dataset: accuracy = 0.816\n",
      "============================================\n",
      "Tarining dataset: accuracy = 0.923\n",
      "Test dataset: accuracy = 0.810\n"
     ]
    }
   ],
   "source": [
    "test_pipe = Pipeline([('vectorizer', CountVectorizer(token_pattern=token_pattern)),\n",
    "                      ('scaler', MaxAbsScaler()),\n",
    "                      ('clf', LogisticRegression(penalty='l2', C=1.0))])\n",
    "\n",
    "print_accuracy(test_pipe, X_train)\n",
    "print('============================================')\n",
    "X_train_normalized = TextPreprocessor().fit_transform(X_train)\n",
    "print_accuracy(test_pipe, X_train_normalized)"
   ]
  },
  {
   "cell_type": "code",
   "execution_count": 11,
   "metadata": {},
   "outputs": [
    {
     "name": "stdout",
     "output_type": "stream",
     "text": [
      "Tarining dataset: accuracy = 0.988\n",
      "Test dataset: accuracy = 0.887\n",
      "============================================\n",
      "Tarining dataset: accuracy = 0.992\n",
      "Test dataset: accuracy = 0.877\n"
     ]
    }
   ],
   "source": [
    "test_pipe = Pipeline([('vectorizer', CountVectorizer(token_pattern=token_pattern, ngram_range=(1, 2))),\n",
    "                      ('scaler', MaxAbsScaler()),\n",
    "                      ('clf', LogisticRegression(penalty='l2', C=1.0))])\n",
    "\n",
    "print_accuracy(test_pipe, X_train)\n",
    "print('============================================')\n",
    "X_train_normalized = TextPreprocessor().fit_transform(X_train)\n",
    "print_accuracy(test_pipe, X_train_normalized)"
   ]
  },
  {
   "cell_type": "markdown",
   "metadata": {},
   "source": [
    "Text normalization is useful to reduce number of fetures"
   ]
  },
  {
   "cell_type": "code",
   "execution_count": 7,
   "metadata": {},
   "outputs": [],
   "source": [
    "STOPWORDS = nltk.corpus.stopwords.words('english')\n",
    "IRRELEVANT_STOPWORDS = list(pd.read_csv('./Data/irrelevant_stopwords.csv', header=None)[0].values)"
   ]
  },
  {
   "cell_type": "code",
   "execution_count": 13,
   "metadata": {},
   "outputs": [
    {
     "name": "stdout",
     "output_type": "stream",
     "text": [
      "Number of features: 13231\n",
      "Number of single words: 6344\n",
      "Ratio = 0.479\n"
     ]
    }
   ],
   "source": [
    "dtm = CountVectorizer(token_pattern=token_pattern).fit_transform(X_train)\n",
    "\n",
    "print('Number of features: %i' % dtm.shape[1])\n",
    "inds = np.argwhere(dtm.sum(axis=0) == 1)[:, 1]\n",
    "print('Number of single words: %i' % inds.shape[0])\n",
    "print('Ratio = %.3f' % (inds.shape[0] / dtm.shape[1],))"
   ]
  },
  {
   "cell_type": "code",
   "execution_count": 14,
   "metadata": {},
   "outputs": [
    {
     "name": "stdout",
     "output_type": "stream",
     "text": [
      "Number of features: 12749\n",
      "Number of single words: 6004\n",
      "Ratio = 0.471\n"
     ]
    }
   ],
   "source": [
    "# normalization\n",
    "test_pipe = Pipeline([('preprocessor', TextPreprocessor(process='', \n",
    "                                                        stopwords=[])),\n",
    "                      ('vectorizer', CountVectorizer(token_pattern=token_pattern))])\n",
    "dtm = test_pipe.fit_transform(X_train)\n",
    "\n",
    "print('Number of features: %i' % dtm.shape[1])\n",
    "inds = np.argwhere(dtm.sum(axis=0) == 1)[:, 1]\n",
    "print('Number of single words: %i' % inds.shape[0])\n",
    "print('Ratio = %.3f' % (inds.shape[0] / dtm.shape[1],))"
   ]
  },
  {
   "cell_type": "code",
   "execution_count": 15,
   "metadata": {},
   "outputs": [
    {
     "name": "stdout",
     "output_type": "stream",
     "text": [
      "Number of features: 9933\n",
      "Number of single words: 4435\n",
      "Ratio = 0.446\n"
     ]
    }
   ],
   "source": [
    "# normalization + stemming\n",
    "test_pipe = Pipeline([('preprocessor', TextPreprocessor(process='stem', \n",
    "                                                        stopwords=IRRELEVANT_STOPWORDS)),\n",
    "                      ('vectorizer', CountVectorizer(token_pattern=token_pattern))])\n",
    "dtm = test_pipe.fit_transform(X_train)\n",
    "\n",
    "print('Number of features: %i' % dtm.shape[1])\n",
    "inds = np.argwhere(dtm.sum(axis=0) == 1)[:, 1]\n",
    "print('Number of single words: %i' % inds.shape[0])\n",
    "print('Ratio = %.3f' % (inds.shape[0] / dtm.shape[1],))"
   ]
  },
  {
   "cell_type": "code",
   "execution_count": 16,
   "metadata": {},
   "outputs": [
    {
     "name": "stdout",
     "output_type": "stream",
     "text": [
      "Number of features: 10951\n",
      "Number of single words: 5205\n",
      "Ratio = 0.475\n"
     ]
    }
   ],
   "source": [
    "# normalization + lemmatization\n",
    "test_pipe = Pipeline([('preprocessor', TextPreprocessor(process='lem', \n",
    "                                                        stopwords=IRRELEVANT_STOPWORDS)),\n",
    "                      ('vectorizer', CountVectorizer(token_pattern=token_pattern))])\n",
    "dtm = test_pipe.fit_transform(X_train)\n",
    "\n",
    "print('Number of features: %i' % dtm.shape[1])\n",
    "inds = np.argwhere(dtm.sum(axis=0) == 1)[:, 1]\n",
    "print('Number of single words: %i' % inds.shape[0])\n",
    "print('Ratio = %.3f' % (inds.shape[0] / dtm.shape[1],))"
   ]
  },
  {
   "cell_type": "code",
   "execution_count": 17,
   "metadata": {},
   "outputs": [
    {
     "data": {
      "text/plain": [
       "array([\"a's\", 'aa', 'aaron', 'aaronage', 'aawwhh', 'ab', 'abandon',\n",
       "       'abcdefghijklmnopqrstuvwxyz', 'abducted', 'abide', 'aboard',\n",
       "       'abou', 'abouht', 'aboutt', 'abraham', 'abrams', 'absess',\n",
       "       'absolute', 'abundance', 'ac', 'acai', 'accommodate', 'accomplish',\n",
       "       'accomplishment', 'accountability', 'accountable', 'accountt',\n",
       "       'accpet', 'accumulate', 'accuracy', 'accurately', 'accuse',\n",
       "       'achingly', 'ack', 'acne', 'acoustic', 'acronym', 'activesync',\n",
       "       'activist', 'activity', 'actualy', 'actvities', 'acutely',\n",
       "       'adangta', 'adapt', 'adchifying', 'addies', 'adedd', 'adidas',\n",
       "       'adium', 'administration', 'adonis', 'adriane', 'adrianne',\n",
       "       'adtrotrain', 'advertising', 'adverts', 'aeongotbeats', 'aerial',\n",
       "       'aerodynamic', 'affligem', 'afl', 'afriad', 'african', 'afro',\n",
       "       'aft', 'aftermath', 'afterparty', 'again', 'agency', 'aggress',\n",
       "       'aggressive', 'agh', 'agin', 'agreat', 'ahaa', 'ahaah', 'ahhaaha',\n",
       "       'ahve', 'aight', 'aiint', 'ails', 'airsoft', 'aite', 'aj', 'ajula',\n",
       "       'ajung', 'akamonty', 'akc', 'akekeke', 'akismet', 'alameda',\n",
       "       'alanis', 'alb', 'alchy', 'aleak', 'alejandro', 'alergic', 'alex',\n",
       "       'alexa', 'alexander', 'alexisnicolehodnett', 'alexiss', \"alix's\",\n",
       "       \"all's\", 'allangoesdmb', 'allegation', 'allergic', 'allergy',\n",
       "       'alliance', 'alligators', 'allstate', 'alltime', 'almighty',\n",
       "       'almosr', 'aloha', 'alors', 'alott', 'alotta', 'alphabet',\n",
       "       'alpine', 'alraedy', 'alreadya', 'alrightt', 'alrightyy', 'alrite',\n",
       "       'alter', 'alternate', 'alternative', 'alternator', 'aluminum',\n",
       "       'alwyz', 'alxeander', 'alybrooke', 'alynndeluc', 'amaretto',\n",
       "       'amarok', 'amasing', 'amateur', 'amazes', 'amazingg', 'amber',\n",
       "       'ambulance', 'amd', 'amel', 'amendment', \"america's\", 'americas',\n",
       "       'amici', 'amish'], dtype='<U28')"
      ]
     },
     "execution_count": 17,
     "metadata": {},
     "output_type": "execute_result"
    }
   ],
   "source": [
    "np.array(test_pipe.named_steps['vectorizer'].get_feature_names())[inds][:150]"
   ]
  },
  {
   "cell_type": "markdown",
   "metadata": {},
   "source": [
    "## Advanced (baseline) model"
   ]
  },
  {
   "cell_type": "markdown",
   "metadata": {},
   "source": [
    "### LogisticRegression"
   ]
  },
  {
   "cell_type": "code",
   "execution_count": 18,
   "metadata": {},
   "outputs": [],
   "source": [
    "# stemming\n",
    "stem_pipe = Pipeline([\n",
    "    ('features', FeatureUnion([\n",
    "            ('numerical_feats', FrequencyExtractor()),    \n",
    "            ('text_feats', Pipeline([('preprocessor', TextPreprocessor(stopwords=IRRELEVANT_STOPWORDS, \n",
    "                                                                       process='stem')),\n",
    "                                     ('vectorizer', CountVectorizer(token_pattern=token_pattern, min_df=2))\n",
    "                                    ]))\n",
    "            ])),\n",
    "    ('scaler', MaxAbsScaler())\n",
    "    ])"
   ]
  },
  {
   "cell_type": "code",
   "execution_count": 19,
   "metadata": {},
   "outputs": [],
   "source": [
    "X_train_stem_preprocessed = stem_pipe.fit_transform(X_train)\n",
    "X_test_stem_preprocessed = stem_pipe.transform(X_test)"
   ]
  },
  {
   "cell_type": "code",
   "execution_count": 20,
   "metadata": {
    "scrolled": true
   },
   "outputs": [
    {
     "data": {
      "text/plain": [
       "False"
      ]
     },
     "execution_count": 20,
     "metadata": {},
     "output_type": "execute_result"
    }
   ],
   "source": [
    "'n\\'t' in stem_pipe.named_steps['features'].transformer_list[1][1].named_steps['vectorizer'].vocabulary_"
   ]
  },
  {
   "cell_type": "code",
   "execution_count": 21,
   "metadata": {},
   "outputs": [
    {
     "data": {
      "text/plain": [
       "True"
      ]
     },
     "execution_count": 21,
     "metadata": {},
     "output_type": "execute_result"
    }
   ],
   "source": [
    "'don\\'t' in stem_pipe.named_steps['features'].transformer_list[1][1].named_steps['vectorizer'].vocabulary_"
   ]
  },
  {
   "cell_type": "code",
   "execution_count": 22,
   "metadata": {},
   "outputs": [
    {
     "data": {
      "text/plain": [
       "True"
      ]
     },
     "execution_count": 22,
     "metadata": {},
     "output_type": "execute_result"
    }
   ],
   "source": [
    "'f*cker' in stem_pipe.named_steps['features'].transformer_list[1][1].named_steps['vectorizer'].vocabulary_"
   ]
  },
  {
   "cell_type": "code",
   "execution_count": 23,
   "metadata": {},
   "outputs": [
    {
     "name": "stdout",
     "output_type": "stream",
     "text": [
      "Tarining dataset: accuracy = 0.883\n",
      "Test dataset: accuracy = 0.784\n"
     ]
    }
   ],
   "source": [
    "stem_lr_model = LogisticRegression(penalty='l2', C=1.0)\n",
    "stem_lr_model.fit(X_train_stem_preprocessed, y_train);\n",
    "\n",
    "y_train_pred = stem_lr_model.predict(X_train_stem_preprocessed)\n",
    "y_test_pred = stem_lr_model.predict(X_test_stem_preprocessed)\n",
    "\n",
    "print('Tarining dataset: accuracy = %.3f' % accuracy_score(y_pred=y_train_pred, y_true=y_train))\n",
    "print('Test dataset: accuracy = %.3f' % accuracy_score(y_pred=y_test_pred, y_true=y_test))"
   ]
  },
  {
   "cell_type": "code",
   "execution_count": 24,
   "metadata": {},
   "outputs": [
    {
     "name": "stdout",
     "output_type": "stream",
     "text": [
      "Tarining dataset: accuracy = 0.952\n",
      "Test dataset: accuracy = 0.860\n"
     ]
    }
   ],
   "source": [
    "y_train_proba = stem_lr_model.predict_proba(X_train_stem_preprocessed)[:, 1]\n",
    "y_test_proba = stem_lr_model.predict_proba(X_test_stem_preprocessed)[:, 1]\n",
    "print('Tarining dataset: accuracy = %.3f' % roc_auc_score(y_score=y_train_proba, y_true=y_train))\n",
    "print('Test dataset: accuracy = %.3f' % roc_auc_score(y_score=y_test_proba, y_true=y_test))"
   ]
  },
  {
   "cell_type": "code",
   "execution_count": 25,
   "metadata": {},
   "outputs": [
    {
     "data": {
      "image/png": "[encoded data removed]",
      "text/plain": [
       "<Figure size 216x216 with 1 Axes>"
      ]
     },
     "metadata": {},
     "output_type": "display_data"
    }
   ],
   "source": [
    "plot_confusion_matrix(y_train, y_train_pred)"
   ]
  },
  {
   "cell_type": "code",
   "execution_count": 26,
   "metadata": {},
   "outputs": [
    {
     "data": {
      "image/png": "[encoded data removed]",
      "text/plain": [
       "<Figure size 216x216 with 1 Axes>"
      ]
     },
     "metadata": {},
     "output_type": "display_data"
    }
   ],
   "source": [
    "plot_confusion_matrix(y_test, y_test_pred)"
   ]
  },
  {
   "cell_type": "markdown",
   "metadata": {},
   "source": [
    "The model seems to be overfitted"
   ]
  },
  {
   "cell_type": "code",
   "execution_count": 27,
   "metadata": {},
   "outputs": [
    {
     "data": {
      "image/png": "[encoded data removed]",
      "text/plain": [
       "<Figure size 360x360 with 1 Axes>"
      ]
     },
     "metadata": {},
     "output_type": "display_data"
    }
   ],
   "source": [
    "plot_learning_curve(estimator=stem_lr_model, X=X_train_stem_preprocessed, y=y_train)"
   ]
  },
  {
   "cell_type": "code",
   "execution_count": 28,
   "metadata": {},
   "outputs": [],
   "source": [
    "# lemmatization\n",
    "lem_pipe = Pipeline([\n",
    "    ('features', FeatureUnion([\n",
    "            ('numerical_feats', FrequencyExtractor()),    \n",
    "            ('text_feats', Pipeline([('preprocessor', TextPreprocessor(stopwords=IRRELEVANT_STOPWORDS, \n",
    "                                                                       process='lem')),\n",
    "                                     ('vectorizer', CountVectorizer(token_pattern=token_pattern, min_df=2))\n",
    "                                    ]))\n",
    "            ])),\n",
    "    ('scaler', MaxAbsScaler())\n",
    "    ])"
   ]
  },
  {
   "cell_type": "code",
   "execution_count": 29,
   "metadata": {},
   "outputs": [],
   "source": [
    "X_train_lem_preprocessed = lem_pipe.fit_transform(X_train)\n",
    "X_test_lem_preprocessed = lem_pipe.transform(X_test)"
   ]
  },
  {
   "cell_type": "code",
   "execution_count": 30,
   "metadata": {},
   "outputs": [
    {
     "name": "stdout",
     "output_type": "stream",
     "text": [
      "Tarining dataset: accuracy = 0.885\n",
      "Test dataset: accuracy = 0.787\n"
     ]
    }
   ],
   "source": [
    "lem_lr_model = LogisticRegression(penalty='l2', C=1.0)\n",
    "lem_lr_model.fit(X_train_lem_preprocessed, y_train);\n",
    "\n",
    "y_train_pred = lem_lr_model.predict(X_train_lem_preprocessed)\n",
    "y_test_pred = lem_lr_model.predict(X_test_lem_preprocessed)\n",
    "\n",
    "print('Tarining dataset: accuracy = %.3f' % accuracy_score(y_pred=y_train_pred, y_true=y_train))\n",
    "print('Test dataset: accuracy = %.3f' % accuracy_score(y_pred=y_test_pred, y_true=y_test))"
   ]
  },
  {
   "cell_type": "code",
   "execution_count": 31,
   "metadata": {},
   "outputs": [
    {
     "name": "stdout",
     "output_type": "stream",
     "text": [
      "Tarining dataset: roc_auc = 0.954\n",
      "Test dataset: roc_auc = 0.862\n"
     ]
    }
   ],
   "source": [
    "y_train_proba = lem_lr_model.predict_proba(X_train_lem_preprocessed)[:, 1]\n",
    "y_test_proba = lem_lr_model.predict_proba(X_test_lem_preprocessed)[:, 1]\n",
    "print('Tarining dataset: roc_auc = %.3f' % roc_auc_score(y_score=y_train_proba, y_true=y_train))\n",
    "print('Test dataset: roc_auc = %.3f' % roc_auc_score(y_score=y_test_proba, y_true=y_test))"
   ]
  },
  {
   "cell_type": "code",
   "execution_count": 32,
   "metadata": {},
   "outputs": [
    {
     "data": {
      "image/png": "[encoded data removed]",
      "text/plain": [
       "<Figure size 216x216 with 1 Axes>"
      ]
     },
     "metadata": {},
     "output_type": "display_data"
    }
   ],
   "source": [
    "plot_confusion_matrix(y_train, y_train_pred)"
   ]
  },
  {
   "cell_type": "code",
   "execution_count": 33,
   "metadata": {},
   "outputs": [
    {
     "data": {
      "image/png": "[encoded data removed]",
      "text/plain": [
       "<Figure size 216x216 with 1 Axes>"
      ]
     },
     "metadata": {},
     "output_type": "display_data"
    }
   ],
   "source": [
    "plot_confusion_matrix(y_test, y_test_pred)"
   ]
  },
  {
   "cell_type": "code",
   "execution_count": 34,
   "metadata": {},
   "outputs": [
    {
     "data": {
      "image/png": "[encoded data removed]",
      "text/plain": [
       "<Figure size 360x360 with 1 Axes>"
      ]
     },
     "metadata": {},
     "output_type": "display_data"
    }
   ],
   "source": [
    "plot_learning_curve(estimator=lem_lr_model, X=X_train_lem_preprocessed, y=y_train)"
   ]
  },
  {
   "cell_type": "markdown",
   "metadata": {},
   "source": [
    "### RandomForestClassifier"
   ]
  },
  {
   "cell_type": "code",
   "execution_count": 35,
   "metadata": {},
   "outputs": [],
   "source": [
    "from sklearn.ensemble import RandomForestClassifier"
   ]
  },
  {
   "cell_type": "code",
   "execution_count": 63,
   "metadata": {},
   "outputs": [],
   "source": [
    "def get_sorted_features(pipe, selector_scores):\n",
    "    sorted_scores = np.sort(selector_scores)[::-1]\n",
    "    inds = np.argsort(selector_scores)[::-1]\n",
    "    word_list = list(pipe.named_steps['features'].transformer_list[1][1].\\\n",
    "                     named_steps['vectorizer'].get_feature_names())\n",
    "    tag_list = ['NOUN_r', 'VERB_r', 'ADJ_r', 'ADV_r', 'PRON_r', 'DET_r',\n",
    "                'ADP_r', 'NUM_r', 'CONJ_r', 'PRT_r', '._r', 'X_r']\n",
    "    freq_name_list = ['repeatingletters_r', 'uppercase_r', 'firstcapital_r'] + tag_list\n",
    "    sorted_features = np.array(word_list + freq_name_list)[inds]\n",
    "    return sorted_features\n",
    "\n",
    "def print_kbest(pipe, selector_scores, k):\n",
    "    sorted_scores = np.sort(selector_scores)[::-1]\n",
    "    sorted_features = get_sorted_features(pipe, selector_scores)\n",
    "    for i in range(k):\n",
    "        print('Feature: {0:25s} Score: {1:8.3f}'.format(sorted_features[i], sorted_scores[i]))"
   ]
  },
  {
   "cell_type": "code",
   "execution_count": 42,
   "metadata": {},
   "outputs": [
    {
     "name": "stdout",
     "output_type": "stream",
     "text": [
      "Tarining dataset: accuracy = 0.859\n",
      "Test dataset: accuracy = 0.781\n"
     ]
    }
   ],
   "source": [
    "stem_rfc_model = RandomForestClassifier(n_estimators=100, max_depth=15, max_features=1000)\n",
    "\n",
    "stem_rfc_model.fit(X_train_stem_preprocessed, y_train);\n",
    "\n",
    "y_train_pred = stem_rfc_model.predict(X_train_stem_preprocessed)\n",
    "y_test_pred = stem_rfc_model.predict(X_test_stem_preprocessed)\n",
    "\n",
    "print('Tarining dataset: accuracy = %.3f' % accuracy_score(y_pred=y_train_pred, y_true=y_train))\n",
    "print('Test dataset: accuracy = %.3f' % accuracy_score(y_pred=y_test_pred, y_true=y_test))"
   ]
  },
  {
   "cell_type": "code",
   "execution_count": 43,
   "metadata": {},
   "outputs": [
    {
     "name": "stdout",
     "output_type": "stream",
     "text": [
      "Tarining dataset: roc_auc = 0.958\n",
      "Test dataset: roc_auc = 0.877\n"
     ]
    }
   ],
   "source": [
    "y_train_proba = stem_rfc_model.predict_proba(X_train_stem_preprocessed)[:, 1]\n",
    "y_test_proba = stem_rfc_model.predict_proba(X_test_stem_preprocessed)[:, 1]\n",
    "print('Tarining dataset: roc_auc = %.3f' % roc_auc_score(y_score=y_train_proba, y_true=y_train))\n",
    "print('Test dataset: roc_auc = %.3f' % roc_auc_score(y_score=y_test_proba, y_true=y_test))"
   ]
  },
  {
   "cell_type": "code",
   "execution_count": 44,
   "metadata": {},
   "outputs": [
    {
     "data": {
      "image/png": "[encoded data removed]",
      "text/plain": [
       "<Figure size 216x216 with 1 Axes>"
      ]
     },
     "metadata": {},
     "output_type": "display_data"
    }
   ],
   "source": [
    "plot_confusion_matrix(y_train, y_train_pred)"
   ]
  },
  {
   "cell_type": "code",
   "execution_count": 45,
   "metadata": {},
   "outputs": [
    {
     "data": {
      "image/png": "[encoded data removed]",
      "text/plain": [
       "<Figure size 216x216 with 1 Axes>"
      ]
     },
     "metadata": {},
     "output_type": "display_data"
    }
   ],
   "source": [
    "plot_confusion_matrix(y_test, y_test_pred)"
   ]
  },
  {
   "cell_type": "code",
   "execution_count": 46,
   "metadata": {},
   "outputs": [
    {
     "name": "stdout",
     "output_type": "stream",
     "text": [
      "Feature: fun                       Score:    0.090\n",
      "Feature: oracl                     Score:    0.044\n",
      "Feature: blah                      Score:    0.035\n",
      "Feature: abbey                     Score:    0.034\n",
      "Feature: athlet                    Score:    0.034\n",
      "Feature: abil                      Score:    0.034\n",
      "Feature: academi                   Score:    0.028\n",
      "Feature: aardvark                  Score:    0.027\n",
      "Feature: absit                     Score:    0.026\n",
      "Feature: german                    Score:    0.024\n"
     ]
    }
   ],
   "source": [
    "print_kbest(stem_pipe, stem_rfc_model.feature_importances_, 10)"
   ]
  },
  {
   "cell_type": "code",
   "execution_count": 47,
   "metadata": {},
   "outputs": [
    {
     "name": "stdout",
     "output_type": "stream",
     "text": [
      "Tarining dataset: accuracy = 0.857\n",
      "Test dataset: accuracy = 0.780\n"
     ]
    }
   ],
   "source": [
    "lem_rfc_model = RandomForestClassifier(n_estimators=100, max_depth=15, max_features=1000)\n",
    "lem_rfc_model.fit(X_train_stem_preprocessed, y_train);\n",
    "\n",
    "y_train_pred = lem_rfc_model.predict(X_train_stem_preprocessed)\n",
    "y_test_pred = lem_rfc_model.predict(X_test_stem_preprocessed)\n",
    "\n",
    "print('Tarining dataset: accuracy = %.3f' % accuracy_score(y_pred=y_train_pred, y_true=y_train))\n",
    "print('Test dataset: accuracy = %.3f' % accuracy_score(y_pred=y_test_pred, y_true=y_test))"
   ]
  },
  {
   "cell_type": "code",
   "execution_count": 48,
   "metadata": {},
   "outputs": [
    {
     "name": "stdout",
     "output_type": "stream",
     "text": [
      "Tarining dataset: roc_auc = 0.959\n",
      "Test dataset: roc_auc = 0.882\n"
     ]
    }
   ],
   "source": [
    "y_train_proba = lem_rfc_model.predict_proba(X_train_stem_preprocessed)[:, 1]\n",
    "y_test_proba = lem_rfc_model.predict_proba(X_test_stem_preprocessed)[:, 1]\n",
    "print('Tarining dataset: roc_auc = %.3f' % roc_auc_score(y_score=y_train_proba, y_true=y_train))\n",
    "print('Test dataset: roc_auc = %.3f' % roc_auc_score(y_score=y_test_proba, y_true=y_test))"
   ]
  },
  {
   "cell_type": "code",
   "execution_count": 49,
   "metadata": {},
   "outputs": [
    {
     "data": {
      "image/png": "[encoded data removed]",
      "text/plain": [
       "<Figure size 216x216 with 1 Axes>"
      ]
     },
     "metadata": {},
     "output_type": "display_data"
    }
   ],
   "source": [
    "plot_confusion_matrix(y_train, y_train_pred)"
   ]
  },
  {
   "cell_type": "code",
   "execution_count": 50,
   "metadata": {},
   "outputs": [
    {
     "data": {
      "image/png": "[encoded data removed]",
      "text/plain": [
       "<Figure size 216x216 with 1 Axes>"
      ]
     },
     "metadata": {},
     "output_type": "display_data"
    }
   ],
   "source": [
    "plot_confusion_matrix(y_test, y_test_pred)"
   ]
  },
  {
   "cell_type": "code",
   "execution_count": 51,
   "metadata": {},
   "outputs": [
    {
     "name": "stdout",
     "output_type": "stream",
     "text": [
      "Feature: foggy                     Score:    0.090\n",
      "Feature: neon                      Score:    0.042\n",
      "Feature: ass                       Score:    0.035\n",
      "Feature: ability                   Score:    0.034\n",
      "Feature: birthday                  Score:    0.034\n",
      "Feature: abbey                     Score:    0.030\n",
      "Feature: academy                   Score:    0.028\n",
      "Feature: aardvark                  Score:    0.026\n",
      "Feature: absitence                 Score:    0.026\n",
      "Feature: fresh                     Score:    0.026\n"
     ]
    }
   ],
   "source": [
    "print_kbest(lem_pipe, lem_rfc_model.feature_importances_, 10)"
   ]
  },
  {
   "cell_type": "code",
   "execution_count": 52,
   "metadata": {},
   "outputs": [
    {
     "data": {
      "image/png": "[encoded data removed]",
      "text/plain": [
       "<Figure size 360x360 with 1 Axes>"
      ]
     },
     "metadata": {},
     "output_type": "display_data"
    }
   ],
   "source": [
    "plot_roc_curve(y_labels=y_test, y_proba=y_test_proba)"
   ]
  },
  {
   "cell_type": "code",
   "execution_count": 53,
   "metadata": {},
   "outputs": [
    {
     "name": "stdout",
     "output_type": "stream",
     "text": [
      "FPR: 0.158\n",
      "TPR: 0.751\n",
      "Threshold: 0.444\n"
     ]
    }
   ],
   "source": [
    "fprs, tprs, thresholds = roc_curve(y_true=y_test, y_score=y_test_proba)\n",
    "ind = np.argmax(tprs >= 0.75)\n",
    "\n",
    "print('FPR: %.3f' % fprs[ind])\n",
    "print('TPR: %.3f' % tprs[ind])\n",
    "threshold = thresholds[ind]\n",
    "print('Threshold: %.3f' % threshold)"
   ]
  },
  {
   "cell_type": "code",
   "execution_count": 54,
   "metadata": {},
   "outputs": [
    {
     "name": "stdout",
     "output_type": "stream",
     "text": [
      "Test dataset: accuracy = 0.807\n"
     ]
    }
   ],
   "source": [
    "y_test_pred_new_threshold = np.where(y_test_proba >= threshold, 1, 0)\n",
    "print('Test dataset: accuracy = %.3f' % accuracy_score(y_pred=y_test_pred_new_threshold, y_true=y_test))"
   ]
  },
  {
   "cell_type": "code",
   "execution_count": 55,
   "metadata": {},
   "outputs": [
    {
     "data": {
      "image/png": "[encoded data removed]",
      "text/plain": [
       "<Figure size 216x216 with 1 Axes>"
      ]
     },
     "metadata": {},
     "output_type": "display_data"
    }
   ],
   "source": [
    "plot_confusion_matrix(y_test, y_test_pred_new_threshold)"
   ]
  },
  {
   "cell_type": "markdown",
   "metadata": {},
   "source": [
    "## Feature selection"
   ]
  },
  {
   "cell_type": "markdown",
   "metadata": {},
   "source": [
    "### ANOVA"
   ]
  },
  {
   "cell_type": "code",
   "execution_count": 56,
   "metadata": {},
   "outputs": [],
   "source": [
    "from sklearn.feature_selection import f_classif, SelectFpr"
   ]
  },
  {
   "cell_type": "code",
   "execution_count": 57,
   "metadata": {},
   "outputs": [
    {
     "data": {
      "text/plain": [
       "(12776, 280)"
      ]
     },
     "execution_count": 57,
     "metadata": {},
     "output_type": "execute_result"
    }
   ],
   "source": [
    "fpr_stem_selector = SelectFpr(score_func=f_classif, alpha=0.01)\n",
    "fpr_stem_dtm = fpr_stem_selector.fit_transform(X_train_stem_preprocessed, y_train)\n",
    "fpr_stem_dtm.shape"
   ]
  },
  {
   "cell_type": "code",
   "execution_count": 58,
   "metadata": {},
   "outputs": [
    {
     "data": {
      "text/plain": [
       "(12776, 281)"
      ]
     },
     "execution_count": 58,
     "metadata": {},
     "output_type": "execute_result"
    }
   ],
   "source": [
    "fpr_lem_selector = SelectFpr(score_func=f_classif, alpha=0.01)\n",
    "fpr_lem_dtm = fpr_lem_selector.fit_transform(X_train_lem_preprocessed, y_train)\n",
    "fpr_lem_dtm.shape"
   ]
  },
  {
   "cell_type": "code",
   "execution_count": 59,
   "metadata": {},
   "outputs": [
    {
     "name": "stdout",
     "output_type": "stream",
     "text": [
      "Feature: fun                       Score:  564.091\n",
      "Feature: oracl                     Score:  211.210\n",
      "Feature: athlet                    Score:  200.388\n",
      "Feature: blah                      Score:  186.842\n",
      "Feature: german                    Score:  112.768\n",
      "Feature: aardvark                  Score:   91.561\n",
      "Feature: eww                       Score:   91.526\n",
      "Feature: endless                   Score:   86.940\n",
      "Feature: whirlpool                 Score:   80.985\n",
      "Feature: oprah                     Score:   77.777\n"
     ]
    }
   ],
   "source": [
    "print_kbest(stem_pipe, fpr_stem_selector.scores_, 10)"
   ]
  },
  {
   "cell_type": "code",
   "execution_count": 60,
   "metadata": {
    "scrolled": true
   },
   "outputs": [
    {
     "name": "stdout",
     "output_type": "stream",
     "text": [
      "Feature: fukk                      Score:  416.894\n",
      "Feature: ops                       Score:  211.210\n",
      "Feature: blackstone                Score:  186.877\n",
      "Feature: assmartini                Score:  151.504\n",
      "Feature: funny                     Score:  141.047\n",
      "Feature: generator                 Score:  114.922\n",
      "Feature: aardvark                  Score:   91.561\n",
      "Feature: ew                        Score:   91.526\n",
      "Feature: enclose                   Score:   82.782\n",
      "Feature: oprah                     Score:   77.777\n"
     ]
    }
   ],
   "source": [
    "print_kbest(lem_pipe, fpr_lem_selector.scores_, 10)"
   ]
  },
  {
   "cell_type": "code",
   "execution_count": 64,
   "metadata": {},
   "outputs": [
    {
     "name": "stdout",
     "output_type": "stream",
     "text": [
      "['fun' 'oracl' 'athlet' 'blah' 'german' 'aardvark' 'eww' 'endless'\n",
      " 'whirlpool' 'oprah' 'energi' 'shortar' 'opposit' 'domin' \"they'll\" 'feet'\n",
      " 'aay' \"he'd\" 'sumth' 'aah' 'ust' 'love' 'cutest' 'wiff' 'shuck' 'marker'\n",
      " 'hamster' 'nowaday' 'wrong' 'yua' 'imposs' 'hint' 'collar' 'homophob'\n",
      " 'abt' 'idiot' 'favrd' 'radar' 'shia' 'url' 'noarmsjam' 'umm' 'yew'\n",
      " 'duncan' 'wth' 'digit' 'fairi' 'rais' 'ili' 'dare' 'abl' 'sucki' 'heavi'\n",
      " 'hear' 'lulz' 'haiku' 'smoke' 'marathon' 'queer' 'ohkay' 'threaten'\n",
      " 'abort' 'pa' 'wit' 'absurd' 'known' 'echelon' 'goos' 'megavideo' 'darlin'\n",
      " 'gotten' 'quest' 'ho' 'yesterday' 'silli' 'phenomenon' 'kasumi' 'seattl'\n",
      " 'bush' 'abus' 'anna' 'oppos' 'azn' 'cigar' 'soundtrack' 'familiar'\n",
      " 'shrink' 'rewatch' 'jamaican' 'price' 'draw' 'canadian' 'selfless' 'mari'\n",
      " 'newsroom' 'sapien' 'bm' 'bike' 'set' 'limit' 'unfollow' 'admir' 'marri'\n",
      " 'realiz' 'youngest' 'bf' 'mic' 'five' 'youu' 'zero' 'fork' 'temperatur'\n",
      " 'regularli' 'het' 'download' 'md' 'coweta' 'fund' 'suggest' 'caught'\n",
      " 'michael' 'abil' 'antibiot' 'notar' 'graduat' 'xoxo' 'postman' 'bommer'\n",
      " 'writer' 'gordon' 'cincinnati' 'zzi' 'qh' 'umbracian' 'buggin' 'ooh'\n",
      " 'enforc' 'kids' 'heard' 'b*tch' 'shee' 'funni' 'rockin' 'nathan'\n",
      " 'hookhand' 'path' 'swear' 'summer' 'smart' 'uofa' 'yum' 'combat' 'rear'\n",
      " 'sike' 'lipstick' 'prussia' 'toddler' 'groceri' 'bossman' 'blogtv'\n",
      " 'cousin' 'incomprehens' 'wealth' 'hungri' 'vera' 'rose' 'msfb' 'odd'\n",
      " \"y'all\" 'jim' 'goin' 'pm' 'oneexclamationmark' 'kombat' 'theori'\n",
      " 'homeless' 'bean' 'strang' 'though' 'always' 'doubl' 'workhors' 'cyber'\n",
      " 'samantha' 'downtrodden' 'thigh' 'market' 'timothi' 'okay' 'frnd'\n",
      " 'bangladesh' 'ol' 'anybodi' 'here' 'it' 'sometim' 'fatron' 'at' 'yur'\n",
      " 'strep' 'fast' 'load' 'romant' 'forgot' 'watchin' 'firm' 'appli' 'articl'\n",
      " \"did'nt\" 'piston' 'lick' 'shopper' 'dor' \"might'v\" 'dashboard' 'humid'\n",
      " 'naah' 'year' 'littl' 'island' 'banquet' 'soap' 'ADV_r' 'bastag' 'mario'\n",
      " 'cheer' 'juneau' 'homemad' 'comcast' 'intestin' 'pierogi' 'kardashian'\n",
      " 'michel' 'vag' 'mermaid' \"can't\" 'dave' 'daniel' 'uphil' 'instead'\n",
      " 'player' 'dum' 'includ' 'wife' 'bad' 'cupcak' 'disagre' 'guitar' 'daley'\n",
      " 'kate' 'clueless' 'mac' 'whoop' 'else' 'mummi' 'nice' 'shondor' 'today'\n",
      " 'al' 'new' 'cheat' 'compar' 'becom' 'wrestl' 'pound' 'movi' 'foreign'\n",
      " \"g'night\" 'unhappi' 'sadli' 'drake' 'gay' 'starbuck' 'slosh' 'current'\n",
      " 'fourteenth' 'earlier' 'plant' 'ike' 'jacob']\n"
     ]
    }
   ],
   "source": [
    "sorted_features = get_sorted_features(stem_pipe, fpr_stem_selector.scores_)\n",
    "print(sorted_features[:fpr_stem_dtm.shape[1]])"
   ]
  },
  {
   "cell_type": "code",
   "execution_count": 65,
   "metadata": {},
   "outputs": [
    {
     "name": "stdout",
     "output_type": "stream",
     "text": [
      "['fukk' 'ops' 'blackstone' 'assmartini' 'funny' 'generator' 'aardvark'\n",
      " 'ew' 'enclose' 'oprah' 'end' 'shore' 'oppose' 'whilst' 'thermometer'\n",
      " 'felching' 'aaye' 'dominate' 'hd' 'aah' 'summer' 'hold' 'uss' 'love'\n",
      " 'cut' 'wife' 'shud' 'marker' 'hand' 'colfax' 'wtf' 'november' 'impress'\n",
      " 'yuck' 'honesty' \"sun's\" 'fb' 'uranus' 'abt' 'identical' 'rad' 'shia'\n",
      " 'yet' 'dump' 'umm' 'digestive' 'fairy' 'wut' 'whip' 'rainbow' 'sucker'\n",
      " 'nk' 'il' 'dare' 'able' 'meh' 'likee' 'healing' 'mar' 'hahha' 'ohio' 'pa'\n",
      " 'threaten' 'sms' 'abortion' 'queer' 'witch' 'absurd' 'knw' 'gordon'\n",
      " 'darlings' 'rhetoric' 'gotta' 'quest' 'hm' 'heatsink' 'sike'\n",
      " 'luckystartups' 'kasumi' 'bury' 'abuse' 'ankle' 'ay' 'then' 'york' 'hbu'\n",
      " 'cigar' 'opinion' 'economy' 'soundtrack' 'fam' 'shuck' 'schnauzer' 'jake'\n",
      " 'certain' 'pride' 'drama' 'canadians' 'mark' 'blurry' 'biker' 'gimme'\n",
      " 'unfair' 'address' 'fun' 'marriage' 'realize' 'youre' 'beyond' 'newly'\n",
      " 'michael' 'zero' 'temp' 'formspring' 'regret' 'hermy' 'download' 'kids'\n",
      " 'coweta' 'arg' 'limp' 'md' 'cause' 'bommer' 'ability' 'ant' 'seth'\n",
      " 'heavy' 'plan' 'suxd' 'notarize' 'xmas' 'possibly' 'phenomenon' 'youve'\n",
      " 'cincinnati' 'repeatingletters_r' 'putin' 'umbracians' 'bugger' 'seat'\n",
      " 'onto' 'endless' 'healthy' 'azn' 'sheep' 'funky' 'michelle' 'rocking'\n",
      " 'nastyy' 'hop' 'pat' 'sum' 'psh' 'bossanova' \"uofa's\" 'com' 'cousin'\n",
      " 'smash' 'today' 'sign' 'noarmsjames' 'yuletide' 'blogging' 'realz' 'wats'\n",
      " 'liner' 'include' 'xp' 'jgarber' \"we've\" 'vera' 'pluto' 'fullmoon'\n",
      " 'ocean' 'admin' 'gold' 'ross' 'onedot' 'selfless' 'bean' 'homeless'\n",
      " 'alwaysthink' 'doubt' 'workhorse' 'five' 'downstairs' 'thigh' 'market'\n",
      " 'pg' \"time's\" 'frigid' 'bangladesh' 'ol' 'antsy' \"here's\" 'fatigue'\n",
      " \"he'd\" 'sometime' 'throughout' 'watcher' 'aswell' 'stress' 'fashionable'\n",
      " 'lo' 'fork' 'fireplace' 'article' 'shortare' 'shondor' 'ikr' 'licks'\n",
      " 'pisses' 'mighty' 'is' 'cumleone' 'va' 'dull' 'daniel' 'basically' 'act'\n",
      " 'mickey' 'incident' 'mermaid' 'check' 'brutal' 'pierce' 'banquet'\n",
      " 'humidity' 'literally' 'breathe' 'canada' 'marinates' 'comcast' \"widow's\"\n",
      " 'PRON_r' 'year' 'forever' 'equal' 'janet' 'homemade' 'naa' 'upgradable'\n",
      " 'dorkass' 'kanyes' 'dirty' 'dalesandros' 'clue' 'macbook' 'whoo' \"else's\"\n",
      " 'mum' 'nicely' 'shock' 'aku' 'toast' 'neva' 'che' 'compare' 'beauty' 'de'\n",
      " 'dat' 'gov' 'wristband' 'potbelly' 'ff' 'mouth' 'ga' 'drugz' 'cyandle'\n",
      " 'kate' 'starbucks' 'ung' 'dragon' 'proff' 'sad' 'slurpee' 'fox' 'earring'\n",
      " 'ihu' 'jacket']\n"
     ]
    }
   ],
   "source": [
    "sorted_features = get_sorted_features(lem_pipe, fpr_lem_selector.scores_)\n",
    "print(sorted_features[:fpr_lem_dtm.shape[1]])"
   ]
  },
  {
   "cell_type": "code",
   "execution_count": 66,
   "metadata": {},
   "outputs": [],
   "source": [
    "fpr_stem_pipe = Pipeline([\n",
    "    ('selector', SelectFpr(score_func=f_classif, alpha=0.01)),\n",
    "    ('clf', LogisticRegression(penalty='l2', C=1.0))\n",
    "    ])"
   ]
  },
  {
   "cell_type": "code",
   "execution_count": 67,
   "metadata": {},
   "outputs": [
    {
     "name": "stdout",
     "output_type": "stream",
     "text": [
      "Tarining dataset: accuracy = 0.734\n",
      "Test dataset: accuracy = 0.718\n"
     ]
    }
   ],
   "source": [
    "fpr_stem_pipe.fit(X_train_stem_preprocessed, y_train);\n",
    "\n",
    "y_train_pred = fpr_stem_pipe.predict(X_train_stem_preprocessed)\n",
    "y_test_pred = fpr_stem_pipe.predict(X_test_stem_preprocessed)\n",
    "\n",
    "print('Tarining dataset: accuracy = %.3f' % accuracy_score(y_pred=y_train_pred, y_true=y_train))\n",
    "print('Test dataset: accuracy = %.3f' % accuracy_score(y_pred=y_test_pred, y_true=y_test))"
   ]
  },
  {
   "cell_type": "code",
   "execution_count": 68,
   "metadata": {},
   "outputs": [
    {
     "data": {
      "image/png": "[encoded data removed]",
      "text/plain": [
       "<Figure size 216x216 with 1 Axes>"
      ]
     },
     "metadata": {},
     "output_type": "display_data"
    }
   ],
   "source": [
    "plot_confusion_matrix(y_train, y_train_pred)"
   ]
  },
  {
   "cell_type": "code",
   "execution_count": 69,
   "metadata": {},
   "outputs": [
    {
     "name": "stdout",
     "output_type": "stream",
     "text": [
      "Tarining dataset: accuracy = 0.737\n",
      "Test dataset: accuracy = 0.716\n"
     ]
    }
   ],
   "source": [
    "fpr_stem_pipe = Pipeline([\n",
    "    ('selector', SelectFpr(score_func=f_classif, alpha=0.01)),\n",
    "    ('clf', LogisticRegression(penalty='l2', C=1.0, class_weight={0: 1, 1: 1.25}))\n",
    "    ])\n",
    "\n",
    "fpr_stem_pipe.fit(X_train_stem_preprocessed, y_train);\n",
    "\n",
    "y_train_pred = fpr_stem_pipe.predict(X_train_stem_preprocessed)\n",
    "y_test_pred = fpr_stem_pipe.predict(X_test_stem_preprocessed)\n",
    "\n",
    "print('Tarining dataset: accuracy = %.3f' % accuracy_score(y_pred=y_train_pred, y_true=y_train))\n",
    "print('Test dataset: accuracy = %.3f' % accuracy_score(y_pred=y_test_pred, y_true=y_test))"
   ]
  },
  {
   "cell_type": "code",
   "execution_count": 70,
   "metadata": {},
   "outputs": [
    {
     "data": {
      "image/png": "[encoded data removed]",
      "text/plain": [
       "<Figure size 216x216 with 1 Axes>"
      ]
     },
     "metadata": {},
     "output_type": "display_data"
    }
   ],
   "source": [
    "plot_confusion_matrix(y_train, y_train_pred)"
   ]
  },
  {
   "cell_type": "markdown",
   "metadata": {},
   "source": [
    "### Variance"
   ]
  },
  {
   "cell_type": "code",
   "execution_count": 71,
   "metadata": {},
   "outputs": [],
   "source": [
    "from sklearn.feature_selection import VarianceThreshold"
   ]
  },
  {
   "cell_type": "code",
   "execution_count": 72,
   "metadata": {},
   "outputs": [
    {
     "data": {
      "text/plain": [
       "(12776, 795)"
      ]
     },
     "execution_count": 72,
     "metadata": {},
     "output_type": "execute_result"
    }
   ],
   "source": [
    "vr_stem_selector = VarianceThreshold(threshold=10e-4)\n",
    "vr_stem_dtm = vr_stem_selector.fit_transform(X_train_stem_preprocessed, y_train)\n",
    "vr_stem_dtm.shape"
   ]
  },
  {
   "cell_type": "code",
   "execution_count": 73,
   "metadata": {},
   "outputs": [
    {
     "data": {
      "text/plain": [
       "(12776, 754)"
      ]
     },
     "execution_count": 73,
     "metadata": {},
     "output_type": "execute_result"
    }
   ],
   "source": [
    "vr_lem_selector = VarianceThreshold(threshold=10e-4)\n",
    "vr_lem_dtm = vr_lem_selector.fit_transform(X_train_lem_preprocessed, y_train)\n",
    "vr_lem_dtm.shape"
   ]
  },
  {
   "cell_type": "code",
   "execution_count": 74,
   "metadata": {},
   "outputs": [
    {
     "name": "stdout",
     "output_type": "stream",
     "text": [
      "Feature: abbey                     Score:    0.033\n",
      "Feature: aay                       Score:    0.024\n",
      "Feature: whirlpool                 Score:    0.019\n",
      "Feature: sumth                     Score:    0.019\n",
      "Feature: absit                     Score:    0.018\n",
      "Feature: aardvark                  Score:    0.017\n",
      "Feature: academi                   Score:    0.017\n",
      "Feature: kasumi                    Score:    0.016\n",
      "Feature: absorb                    Score:    0.015\n",
      "Feature: they'll                   Score:    0.015\n"
     ]
    }
   ],
   "source": [
    "print_kbest(stem_pipe, vr_stem_selector.variances_, 10)"
   ]
  },
  {
   "cell_type": "code",
   "execution_count": 75,
   "metadata": {},
   "outputs": [
    {
     "name": "stdout",
     "output_type": "stream",
     "text": [
      "Feature: abbey                     Score:    0.033\n",
      "Feature: aaye                      Score:    0.024\n",
      "Feature: thermometer               Score:    0.023\n",
      "Feature: sun's                     Score:    0.018\n",
      "Feature: absitence                 Score:    0.018\n",
      "Feature: aardvark                  Score:    0.017\n",
      "Feature: academy                   Score:    0.017\n",
      "Feature: whilst                    Score:    0.017\n",
      "Feature: kasumi                    Score:    0.016\n",
      "Feature: absorb                    Score:    0.015\n"
     ]
    }
   ],
   "source": [
    "print_kbest(lem_pipe, vr_lem_selector.variances_, 10)"
   ]
  },
  {
   "cell_type": "code",
   "execution_count": 67,
   "metadata": {},
   "outputs": [
    {
     "name": "stdout",
     "output_type": "stream",
     "text": [
      "['abandon' 'abil' 'aay' 'aardvark' 'absit' 'abus' 'absorb' 'dunkin' 'abt'\n",
      " 'dom' 'jacob' 'dose' 'abund' 'athlet' 'adob' 'blame' 'wonder' 'dine' 'he'\n",
      " 'whine' 'loop' 'fun' 'gotta' 'kids' 'flashlight' 'mankind' 'arsclan'\n",
      " 'babay' 'induc' 'ideal' 'toyboy' 'amberto' 'shud' 'abort' 'faith'\n",
      " 'niggaitu' 'ceo' 'hey' 'engag' 'wouldnt' 'amaz' 'energi' 'souljaboy'\n",
      " 'mario' 'awz' 'thre' 'abl' 'krista' 'analyz' 'oppos' 'naked' 'musician'\n",
      " 'lotto' 'sent' 'robot' 'umbrella' 'nova' 'ani' 'aah' 'nerv' 'util' 'mapl'\n",
      " 'heal' 'ive' 'air' 'mind' 'crisi' 'southern' 'ohio' 'shortar' 'absolut'\n",
      " 'attent' 'stoopid' 'lit' 'threat' 'airplan' 'theori' 'valu' 'nah' 'yhu'\n",
      " 'dare' 'down' 'exact' 'hahlo' 'project' 'cutest' 'schedul' 'bull' 'evolv'\n",
      " 'commut' 'coweta' 'eminem' 'aint' 'uhh' 'girl' 'recov' 'honestli' 'soup'\n",
      " 'els' 'terrifi' 'capitalist' 'holla' 'romo' 'pastor' 'kingston' 'persist'\n",
      " 'eagl' 'lawn' 'workhors' 'baltimor' 'stripe' 'holli' 'fla' 'belief'\n",
      " 'hotdog' 'throughout' 'opposit' 'tryin' 'weekend' 'although' 'whatsoev'\n",
      " 'newest' 'jersey' 'chew' 'meetup' 'affidavit' 'twink' 'hippi' 'impli'\n",
      " 'goal' 'knight' 'echelon' 'moon' 'welcom' 'parad' 'side' 'scheme' 'appear'\n",
      " 'hell' 'rflect' 'tos' 'alto' 'global' 'older' 'goodi' 'digg' 'favrd'\n",
      " 'evan' 'always' 'nickelback' 'amus' 'third' 'reckon' 'bien' 'yhur'\n",
      " 'interweb' 'nation' 'thru' 'philippin' 'sumth' \"why'd\" 'urgh' 'realist'\n",
      " 'jtp' 'blah' 'rail' 'anticip' 'tarzan' 'spaghetti' 'swear' 'prison' 'usb'\n",
      " 'limit' 'ii' 'bro' 'despis' 'logo' 'ugli' 'oic' \"we'v\" 'skate' 'gabe'\n",
      " 'wht' 'poop' 'harri' 'graemem' 'captain' 'yew' 'they' 'nobl' 'beg' 'ping'\n",
      " 'poster' 'sexual' 'appreci' 'koala' 'nice' 'sorta' \"what'r\" 'hinder']\n"
     ]
    }
   ],
   "source": [
    "sorted_features = get_sorted_features(stem_pipe, vr_stem_selector.variances_)\n",
    "print(sorted_features[:vr_stem_dtm.shape[1]][:200])"
   ]
  },
  {
   "cell_type": "code",
   "execution_count": 76,
   "metadata": {},
   "outputs": [
    {
     "name": "stdout",
     "output_type": "stream",
     "text": [
      "['abbey' 'aaye' 'thermometer' \"sun's\" 'absitence' 'aardvark' 'academy'\n",
      " 'whilst' 'kasumi' 'absorb' 'abt' 'jacket' 'industry' 'thts' 'hosting'\n",
      " 'uranus' 'threaten' 'ability' 'dominate' 'attract' 'oppose' 'doubt'\n",
      " 'gotta' 'gimme' 'identity' 'manhattan' 'gov' 'healing' 'kids' 'whip'\n",
      " \"won't\" 'fix' 'hd' 'ive' 'marker' 'longer' 'watcher' 'flare' 'ankle'\n",
      " 'apparently' 'correct' 'whatever' 'ambien' 'arrive' 'ba' 'abortion'\n",
      " 'admire' 'identical' 'plug' 'september' 'censorship' 'reckless' 'niggaz'\n",
      " 'amazingly' 'ohio' 'hermy' 'kn' 'endure' 'goof' 'abuse' 'thread' 'soul'\n",
      " 'toy' 'krystle' 'end' 'an' 'able' 'wrap' 'fairy' 'hold' 'receive'\n",
      " 'decide' 'funny' 'throughout' 'assmartini' 'animate' 'robin' 'nessarenee'\n",
      " 'sp' 'mar' 'lottery' 'wtf' 'aah' 'cripple' 'november' 'yuck' 'baltimore'\n",
      " 'laying' 'uss' 'summer' 'ax' 'story' 'best' 'absolutely' 'terror'\n",
      " 'umbracians' 'lipstick' 'community' \"they'd\" 'fukk' 'yesterday' 'mind'\n",
      " 'fraking' 'opinion' 'meh' 'valid' 'darlings' 'ew' 'schnauzer' 'shore'\n",
      " 'program' 'scheme' 'brasilian' 'air' 'workout' 'website' 'hahha' 'target'\n",
      " 'luckystartups' 'enuff' 'building' 'heatsink' 'download' \"else's\" 'vista'\n",
      " 'cut' 'shud' 'markmancao' 'evil' 'kinky' 'airport' 'persistent' 'cowboy'\n",
      " 'weed' 'stoner' 'economy' 'soundtrack' 'hollywood' 'uhh' 'workhorse'\n",
      " 'honesty' 'titties' 'bail' 'alwaysgayalways' 'naah' 'throw' 'dyke'\n",
      " 'romance' 'gnome' 'dildo' 'his' 'stripper' 'knee' 'emily' 'bagntrash'\n",
      " 'realize' 'fl' 'turkey' 'whose' 'undies' 'ae' 'passion' 'nickname'\n",
      " 'festive' 'whiskey' 'nasty' 'belief' 'ga' 'word' 'warn' 'native' 'pa'\n",
      " 'impress' 'ol' 'newly' 'toshiba' 'rhetoric' 'gno' 'spam' 'fb' 'apos'\n",
      " 'alwaysthink' 'yet' 'holy' 'begin' 'brown' 'suspicious' 'system' 'side'\n",
      " \"we'd\" 'hand' 'cheyenne' 'dump' 'login' 'digestive' 'amor' 'intestine'\n",
      " 'pony' 'homophobic' 'warp']\n"
     ]
    }
   ],
   "source": [
    "sorted_features = get_sorted_features(lem_pipe, vr_lem_selector.variances_)\n",
    "print(sorted_features[:vr_lem_dtm.shape[1]][:200])"
   ]
  },
  {
   "cell_type": "code",
   "execution_count": 89,
   "metadata": {},
   "outputs": [
    {
     "name": "stdout",
     "output_type": "stream",
     "text": [
      "Tarining dataset: accuracy = 0.755\n",
      "Test dataset: accuracy = 0.723\n"
     ]
    }
   ],
   "source": [
    "vr_stem_pipe = Pipeline([\n",
    "    ('selector', VarianceThreshold(threshold=10e-4)),\n",
    "    ('clf', LogisticRegression(penalty='l2', C=1.0, class_weight={0: 1, 1: 1.15}))\n",
    "    ])\n",
    "\n",
    "vr_stem_pipe.fit(X_train_stem_preprocessed, y_train);\n",
    "\n",
    "y_train_pred = vr_stem_pipe.predict(X_train_stem_preprocessed)\n",
    "y_test_pred = vr_stem_pipe.predict(X_test_stem_preprocessed)\n",
    "\n",
    "print('Tarining dataset: accuracy = %.3f' % accuracy_score(y_pred=y_train_pred, y_true=y_train))\n",
    "print('Test dataset: accuracy = %.3f' % accuracy_score(y_pred=y_test_pred, y_true=y_test))"
   ]
  },
  {
   "cell_type": "code",
   "execution_count": 90,
   "metadata": {},
   "outputs": [
    {
     "data": {
      "image/png": "[encoded data removed]",
      "text/plain": [
       "<Figure size 216x216 with 1 Axes>"
      ]
     },
     "metadata": {},
     "output_type": "display_data"
    }
   ],
   "source": [
    "plot_confusion_matrix(y_train, y_train_pred)"
   ]
  },
  {
   "cell_type": "code",
   "execution_count": 91,
   "metadata": {},
   "outputs": [
    {
     "data": {
      "image/png": "[encoded data removed]",
      "text/plain": [
       "<Figure size 216x216 with 1 Axes>"
      ]
     },
     "metadata": {},
     "output_type": "display_data"
    }
   ],
   "source": [
    "plot_confusion_matrix(y_test, y_test_pred)"
   ]
  },
  {
   "cell_type": "code",
   "execution_count": null,
   "metadata": {
    "collapsed": true
   },
   "outputs": [],
   "source": []
  },
  {
   "cell_type": "markdown",
   "metadata": {},
   "source": [
    "## Hyperparameter Tuning"
   ]
  },
  {
   "cell_type": "code",
   "execution_count": 92,
   "metadata": {},
   "outputs": [],
   "source": [
    "from sklearn.feature_extraction.text import TfidfVectorizer\n",
    "from sklearn.decomposition import TruncatedSVD\n",
    "from sklearn.decomposition import LatentDirichletAllocation\n",
    "from sklearn.preprocessing import Normalizer\n",
    "\n",
    "from scipy.stats.distributions import uniform, randint\n",
    "from sklearn.model_selection import RandomizedSearchCV\n",
    "from sklearn.model_selection import StratifiedKFold\n",
    "\n",
    "from sklearn.svm import SVC\n",
    "from sklearn.tree import DecisionTreeClassifier\n",
    "from sklearn.neighbors import KNeighborsClassifier\n",
    "from sklearn.naive_bayes import GaussianNB\n",
    "from sklearn.discriminant_analysis import LinearDiscriminantAnalysis\n",
    "from sklearn.discriminant_analysis import QuadraticDiscriminantAnalysis\n",
    "\n",
    "from scipy.spatial.distance import cosine\n",
    "from pprint import pprint\n",
    "from sklearn.base import clone"
   ]
  },
  {
   "cell_type": "markdown",
   "metadata": {},
   "source": [
    "### Number of features"
   ]
  },
  {
   "cell_type": "markdown",
   "metadata": {},
   "source": [
    "#### Feature selection - CountVectorizer"
   ]
  },
  {
   "cell_type": "code",
   "execution_count": 93,
   "metadata": {},
   "outputs": [],
   "source": [
    "def count_features(pipe_trans, param_range, param_name, process):\n",
    "    pipe = clone(pipe_trans)\n",
    "    no_features = []\n",
    "    for param in param_range:\n",
    "        pipe.set_params(**{'preprocessor__process': process, param_name: param})\n",
    "        dtm = pipe.fit_transform(X_train)\n",
    "        no_features.append(dtm.shape[1])\n",
    "    return no_features\n",
    "\n",
    "def plot_no_features(pipe_trans, param_range, param_name, process):    \n",
    "    no_features = count_features(pipe_trans, param_range, param_name, process)\n",
    "    \n",
    "    fig, ax = plt.subplots(figsize=(5, 5))    \n",
    "    ax.plot(param_range, no_features, '--o')\n",
    "    ax.set_xlabel(param_name)\n",
    "    ax.set_ylabel('Number of features')\n",
    "    ax.set_title('Process = ' + process)\n",
    "    ax.grid()\n",
    "    plt.show()    "
   ]
  },
  {
   "cell_type": "code",
   "execution_count": 94,
   "metadata": {},
   "outputs": [],
   "source": [
    "tf_pipe = Pipeline([('preprocessor', TextPreprocessor()),\n",
    "                    ('vectorizer', CountVectorizer(token_pattern=token_pattern))\n",
    "                   ])"
   ]
  },
  {
   "cell_type": "code",
   "execution_count": 95,
   "metadata": {},
   "outputs": [
    {
     "data": {
      "image/png": "[encoded data removed]",
      "text/plain": [
       "<Figure size 360x360 with 1 Axes>"
      ]
     },
     "metadata": {},
     "output_type": "display_data"
    }
   ],
   "source": [
    "max_df_range = np.arange(0.1, 1.1, 0.1)\n",
    "process = ''\n",
    "param_name = 'vectorizer__max_df'\n",
    "plot_no_features(tf_pipe, max_df_range, param_name, process)"
   ]
  },
  {
   "cell_type": "code",
   "execution_count": 96,
   "metadata": {},
   "outputs": [
    {
     "data": {
      "image/png": "[encoded data removed]",
      "text/plain": [
       "<Figure size 360x360 with 1 Axes>"
      ]
     },
     "metadata": {},
     "output_type": "display_data"
    }
   ],
   "source": [
    "max_df_range = np.arange(0.1, 1.1, 0.1)\n",
    "process = 'stem'\n",
    "param_name = 'vectorizer__max_df'\n",
    "plot_no_features(tf_pipe, max_df_range, param_name, process)"
   ]
  },
  {
   "cell_type": "code",
   "execution_count": 97,
   "metadata": {},
   "outputs": [
    {
     "data": {
      "image/png": "[encoded data removed]",
      "text/plain": [
       "<Figure size 360x360 with 1 Axes>"
      ]
     },
     "metadata": {},
     "output_type": "display_data"
    }
   ],
   "source": [
    "max_df_range = np.arange(0.1, 1.1, 0.1)\n",
    "process = 'lem'\n",
    "param_name = 'vectorizer__max_df'\n",
    "plot_no_features(tf_pipe, max_df_range, param_name, process)"
   ]
  },
  {
   "cell_type": "code",
   "execution_count": 98,
   "metadata": {},
   "outputs": [
    {
     "data": {
      "image/png": "[encoded data removed]",
      "text/plain": [
       "<Figure size 360x360 with 1 Axes>"
      ]
     },
     "metadata": {},
     "output_type": "display_data"
    }
   ],
   "source": [
    "min_df_range = np.arange(1, 11, 1)\n",
    "process = ''\n",
    "param_name = 'vectorizer__min_df'\n",
    "plot_no_features(tf_pipe, min_df_range, param_name, process)"
   ]
  },
  {
   "cell_type": "code",
   "execution_count": 99,
   "metadata": {},
   "outputs": [
    {
     "data": {
      "image/png": "[encoded data removed]",
      "text/plain": [
       "<Figure size 360x360 with 1 Axes>"
      ]
     },
     "metadata": {},
     "output_type": "display_data"
    }
   ],
   "source": [
    "min_df_range = np.arange(1, 11, 1)\n",
    "process = 'stem'\n",
    "param_name = 'vectorizer__min_df'\n",
    "plot_no_features(tf_pipe, min_df_range, param_name, process)"
   ]
  },
  {
   "cell_type": "code",
   "execution_count": 100,
   "metadata": {},
   "outputs": [
    {
     "data": {
      "image/png": "[encoded data removed]",
      "text/plain": [
       "<Figure size 360x360 with 1 Axes>"
      ]
     },
     "metadata": {},
     "output_type": "display_data"
    }
   ],
   "source": [
    "min_df_range = np.arange(1, 11, 1)\n",
    "process = 'lem'\n",
    "param_name = 'vectorizer__min_df'\n",
    "plot_no_features(tf_pipe, min_df_range, param_name, process)"
   ]
  },
  {
   "cell_type": "code",
   "execution_count": 101,
   "metadata": {},
   "outputs": [
    {
     "data": {
      "text/plain": [
       "[12749, 81774, 69025, 187067]"
      ]
     },
     "execution_count": 101,
     "metadata": {},
     "output_type": "execute_result"
    }
   ],
   "source": [
    "ngram_range = [(1, 1), (1, 2), (2, 2), (1, 3)]\n",
    "process = ''\n",
    "param_name = 'vectorizer__ngram_range'\n",
    "count_features(tf_pipe, ngram_range, param_name, process)"
   ]
  },
  {
   "cell_type": "code",
   "execution_count": 102,
   "metadata": {},
   "outputs": [
    {
     "data": {
      "text/plain": [
       "[10010, 75284, 65274, 179641]"
      ]
     },
     "execution_count": 102,
     "metadata": {},
     "output_type": "execute_result"
    }
   ],
   "source": [
    "ngram_range = [(1, 1), (1, 2), (2, 2), (1, 3)]\n",
    "process = 'stem'\n",
    "param_name = 'vectorizer__ngram_range'\n",
    "count_features(tf_pipe, ngram_range, param_name, process)"
   ]
  },
  {
   "cell_type": "code",
   "execution_count": 103,
   "metadata": {},
   "outputs": [
    {
     "data": {
      "text/plain": [
       "[11050, 76978, 65928, 181506]"
      ]
     },
     "execution_count": 103,
     "metadata": {},
     "output_type": "execute_result"
    }
   ],
   "source": [
    "ngram_range = [(1, 1), (1, 2), (2, 2), (1, 3)]\n",
    "process = 'lem'\n",
    "param_name = 'vectorizer__ngram_range'\n",
    "count_features(tf_pipe, ngram_range, param_name, process)"
   ]
  },
  {
   "cell_type": "markdown",
   "metadata": {},
   "source": [
    "#### Feature extraction - SVD"
   ]
  },
  {
   "cell_type": "code",
   "execution_count": 104,
   "metadata": {},
   "outputs": [],
   "source": [
    "lsi_pipe= Pipeline([('preprocessor', TextPreprocessor()),\n",
    "                    ('vectorizer', TfidfVectorizer(token_pattern=token_pattern, norm='l2')),\n",
    "                    ('svd', TruncatedSVD())\n",
    "                    ])"
   ]
  },
  {
   "cell_type": "code",
   "execution_count": 105,
   "metadata": {},
   "outputs": [],
   "source": [
    "component_range = np.arange(100, 2000, 100)\n",
    "explained_variance = []\n",
    "for n in component_range:\n",
    "    lsi_pipe.set_params(**{'svd__n_components': n})\n",
    "    dtm = lsi_pipe.fit_transform(X_train)\n",
    "    variance = lsi_pipe.named_steps['svd'].explained_variance_ratio_.sum()\n",
    "    explained_variance.append(variance)"
   ]
  },
  {
   "cell_type": "code",
   "execution_count": 106,
   "metadata": {},
   "outputs": [
    {
     "data": {
      "image/png": "[encoded data removed]",
      "text/plain": [
       "<Figure size 360x360 with 1 Axes>"
      ]
     },
     "metadata": {},
     "output_type": "display_data"
    }
   ],
   "source": [
    "fig, ax = plt.subplots(figsize=(5, 5))    \n",
    "ax.plot(component_range, explained_variance, '--o')\n",
    "ax.set_xlabel('Number of features')\n",
    "ax.set_ylabel('Explained variance')\n",
    "ax.set_title('LSI')\n",
    "ax.set_ylim(0, 1)\n",
    "ax.grid()\n",
    "plt.show()"
   ]
  },
  {
   "cell_type": "code",
   "execution_count": 107,
   "metadata": {},
   "outputs": [
    {
     "name": "stdout",
     "output_type": "stream",
     "text": [
      "Explained variance = 0.017\n"
     ]
    }
   ],
   "source": [
    "lsi_pipe.set_params(**{'svd__n_components': 2})\n",
    "svd_dtm = lsi_pipe.fit_transform(X_train)\n",
    "print('Explained variance = %.3f' % lsi_pipe.named_steps['svd'].explained_variance_ratio_.sum())"
   ]
  },
  {
   "cell_type": "code",
   "execution_count": 108,
   "metadata": {},
   "outputs": [
    {
     "data": {
      "image/png": "[encoded data removed]",
      "text/plain": [
       "<Figure size 360x360 with 1 Axes>"
      ]
     },
     "metadata": {},
     "output_type": "display_data"
    }
   ],
   "source": [
    "fig, ax = plt.subplots(figsize=(5, 5))\n",
    "ax.scatter(svd_dtm[y_train == 0, 0], svd_dtm[y_train == 0, 1], label='Nonaggressive', alpha=0.5)\n",
    "ax.scatter(svd_dtm[y_train == 1, 0], svd_dtm[y_train == 1, 1], label='Aggressive', alpha=0.5)\n",
    "plt.legend()\n",
    "plt.show()"
   ]
  },
  {
   "cell_type": "code",
   "execution_count": 109,
   "metadata": {},
   "outputs": [
    {
     "data": {
      "image/png": "[encoded data removed]",
      "text/plain": [
       "<Figure size 360x360 with 1 Axes>"
      ]
     },
     "metadata": {},
     "output_type": "display_data"
    }
   ],
   "source": [
    "svd_dtm_normalized = Normalizer().fit_transform(svd_dtm)\n",
    "\n",
    "fig, ax = plt.subplots(figsize=(5, 5))\n",
    "ax.scatter(svd_dtm_normalized[y_train == 0, 0], svd_dtm_normalized[y_train == 0, 1], \n",
    "           label='Nonaggressive', alpha=0.5)\n",
    "ax.scatter(svd_dtm_normalized[y_train == 1, 0], svd_dtm_normalized[y_train == 1, 1], \n",
    "           label='Aggressive', alpha=0.5)\n",
    "plt.axis('equal')\n",
    "plt.legend()\n",
    "plt.show()"
   ]
  },
  {
   "cell_type": "code",
   "execution_count": 110,
   "metadata": {},
   "outputs": [],
   "source": [
    "lsi_pipe = Pipeline([('preprocessor', TextPreprocessor()),\n",
    "                     ('vectorizer', TfidfVectorizer(token_pattern=token_pattern, norm='l2',\n",
    "                                                    ngram_range=(1, 2), min_df=2)),\n",
    "                     ('svd', TruncatedSVD())\n",
    "                    ])"
   ]
  },
  {
   "cell_type": "code",
   "execution_count": 111,
   "metadata": {},
   "outputs": [],
   "source": [
    "component_range = np.arange(100, 2000, 100)\n",
    "explained_variance = []\n",
    "for n in component_range:\n",
    "    lsi_pipe.set_params(**{'svd__n_components': n})\n",
    "    dtm = lsi_pipe.fit_transform(X_train)\n",
    "    variance = lsi_pipe.named_steps['svd'].explained_variance_ratio_.sum()\n",
    "    explained_variance.append(variance)"
   ]
  },
  {
   "cell_type": "code",
   "execution_count": 112,
   "metadata": {},
   "outputs": [
    {
     "data": {
      "image/png": "[encoded data removed]",
      "text/plain": [
       "<Figure size 360x360 with 1 Axes>"
      ]
     },
     "metadata": {},
     "output_type": "display_data"
    }
   ],
   "source": [
    "fig, ax = plt.subplots(figsize=(5, 5))    \n",
    "ax.plot(component_range, explained_variance, '--o')\n",
    "ax.set_xlabel('Number of features')\n",
    "ax.set_ylabel('Explained variance')\n",
    "ax.set_title('LSI')\n",
    "ax.set_ylim(0, 1)\n",
    "ax.grid()\n",
    "plt.show()"
   ]
  },
  {
   "cell_type": "markdown",
   "metadata": {},
   "source": [
    "### Transformers"
   ]
  },
  {
   "cell_type": "markdown",
   "metadata": {},
   "source": [
    "#### CountVectorizer: Term Frequency"
   ]
  },
  {
   "cell_type": "code",
   "execution_count": 113,
   "metadata": {},
   "outputs": [],
   "source": [
    "tf_pipe = Pipeline([\n",
    "    ('features', FeatureUnion([\n",
    "            ('freq_feats', FrequencyExtractor()),    \n",
    "            ('text_feats', Pipeline([('preprocessor', TextPreprocessor(stopwords=IRRELEVANT_STOPWORDS, \n",
    "                                                                       process='stem')),\n",
    "                                     ('vectorizer', CountVectorizer(token_pattern=token_pattern, min_df=2,\n",
    "                                                                    ngram_range=(1, 2)))\n",
    "                                    ]))\n",
    "            ])),\n",
    "    ('scaler', MaxAbsScaler())\n",
    "    ])\n",
    "\n",
    "preprocessor_path = 'transformer__features__text_feats__preprocessor'\n",
    "vectorizer_path = 'transformer__features__text_feats__vectorizer'\n",
    "tf_param_dist = {preprocessor_path + '__stopwords': [IRRELEVANT_STOPWORDS, STOPWORDS, []],\n",
    "                 preprocessor_path + '__process': ['lem', 'stem', ''],\n",
    "                 vectorizer_path + '__ngram_range': [(1, 1), (1, 2), (2, 2)],\n",
    "                 vectorizer_path + '__min_df': randint(1, 6)\n",
    "                 }"
   ]
  },
  {
   "cell_type": "code",
   "execution_count": 114,
   "metadata": {},
   "outputs": [],
   "source": [
    "tf_dtm_train = tf_pipe.fit_transform(X_train)\n",
    "tf_dtm_test = tf_pipe.transform(X_test)"
   ]
  },
  {
   "cell_type": "markdown",
   "metadata": {},
   "source": [
    "#### TfidfVectorizer: Term Frequency - Inverse Document Frequency"
   ]
  },
  {
   "cell_type": "code",
   "execution_count": 115,
   "metadata": {},
   "outputs": [],
   "source": [
    "tfidf_pipe = Pipeline([\n",
    "    ('features', FeatureUnion([\n",
    "            ('freq_feats', FrequencyExtractor()),    \n",
    "            ('text_feats', Pipeline([('preprocessor', TextPreprocessor(stopwords=IRRELEVANT_STOPWORDS, \n",
    "                                                                       process='stem')),\n",
    "                                     ('vectorizer', TfidfVectorizer(token_pattern=token_pattern, min_df=2,\n",
    "                                                                    ngram_range=(1, 2), norm='l2'))\n",
    "                                    ]))\n",
    "            ]))\n",
    "    ])\n",
    "\n",
    "tfidf_param_dist = {preprocessor_path + '__stopwords': [IRRELEVANT_STOPWORDS, STOPWORDS, []],\n",
    "                    preprocessor_path + '__process': ['lem', 'stem', ''],\n",
    "                    vectorizer_path + '__ngram_range': [(1, 1), (1, 2), (2, 2)],\n",
    "                    vectorizer_path + '__min_df': randint(1, 6)\n",
    "                    }"
   ]
  },
  {
   "cell_type": "code",
   "execution_count": 116,
   "metadata": {},
   "outputs": [],
   "source": [
    "tfidf_dtm_train = tfidf_pipe.fit_transform(X_train)\n",
    "tfidf_dtm_test = tfidf_pipe.transform(X_test)"
   ]
  },
  {
   "cell_type": "markdown",
   "metadata": {},
   "source": [
    "#### SVD: Singular Value Decomposition (Latent Semantic Indexing)"
   ]
  },
  {
   "cell_type": "code",
   "execution_count": 117,
   "metadata": {},
   "outputs": [],
   "source": [
    "lsi_pipe = Pipeline([\n",
    "    ('features', FeatureUnion([\n",
    "            ('freq_feats', FrequencyExtractor()),    \n",
    "            ('text_feats', Pipeline([('preprocessor', TextPreprocessor(stopwords=IRRELEVANT_STOPWORDS, \n",
    "                                                                       process='stem')),\n",
    "                                     ('vectorizer', TfidfVectorizer(token_pattern=token_pattern, min_df=2,\n",
    "                                                                    ngram_range=(1, 2), norm='l2')),\n",
    "                                     ('svd', TruncatedSVD(n_components=750)),\n",
    "                                     ('normalizer', Normalizer())\n",
    "                                    ]))\n",
    "            ]))\n",
    "    ])\n",
    "\n",
    "svd_path = 'transformer__features__text_feats__svd'\n",
    "lsi_param_dist = {preprocessor_path + '__stopwords': [IRRELEVANT_STOPWORDS, STOPWORDS, []],\n",
    "                  preprocessor_path + '__process': ['lem', 'stem', ''],\n",
    "                  vectorizer_path + '__ngram_range': [(1, 1), (1, 2), (2, 2)],\n",
    "                  vectorizer_path + '__min_df': randint(1, 6),\n",
    "                  svd_path + '__n_components': randint(100, 2000)\n",
    "                  }"
   ]
  },
  {
   "cell_type": "code",
   "execution_count": 118,
   "metadata": {},
   "outputs": [],
   "source": [
    "lsi_dtm_train = lsi_pipe.fit_transform(X_train)\n",
    "lsi_dtm_test = lsi_pipe.transform(X_test)"
   ]
  },
  {
   "cell_type": "code",
   "execution_count": 119,
   "metadata": {},
   "outputs": [
    {
     "data": {
      "text/plain": [
       "0.42079764732096736"
      ]
     },
     "execution_count": 119,
     "metadata": {},
     "output_type": "execute_result"
    }
   ],
   "source": [
    "lsi_pipe.named_steps['features'].transformer_list[1][1].named_steps['svd'].explained_variance_ratio_.sum()"
   ]
  },
  {
   "cell_type": "markdown",
   "metadata": {},
   "source": [
    "#### LatentDirichletAllocation"
   ]
  },
  {
   "cell_type": "code",
   "execution_count": 124,
   "metadata": {},
   "outputs": [],
   "source": [
    "lda_pipe = Pipeline([\n",
    "    ('features', FeatureUnion([\n",
    "            ('freq_feats', FrequencyExtractor()),    \n",
    "            ('text_feats', Pipeline([('preprocessor', TextPreprocessor(stopwords=IRRELEVANT_STOPWORDS, \n",
    "                                                                       process='stem')),\n",
    "                                     ('vectorizer', TfidfVectorizer(token_pattern=token_pattern, min_df=2,\n",
    "                                                                    ngram_range=(1, 2), norm='l2')),\n",
    "                                     ('lda', LatentDirichletAllocation(n_components=25, learning_method='online', \n",
    "                                                                       doc_topic_prior=0.1,\n",
    "                                                                       topic_word_prior=0.1))\n",
    "                                    ]))\n",
    "            ]))\n",
    "    ])\n",
    "\n",
    "lda_path = 'transformer__features__text_feats__lda'\n",
    "lda_param_dist = {preprocessor_path + '__stopwords': [IRRELEVANT_STOPWORDS, STOPWORDS, []],\n",
    "                  preprocessor_path + '__process': ['lem', 'stem', ''],\n",
    "                  vectorizer_path + '__ngram_range': [(1, 1), (1, 2), (2, 2)],\n",
    "                  vectorizer_path + '__min_df': randint(1, 6),\n",
    "                  lda_path + '__n_components': randint(10, 50),\n",
    "                  lda_path + '__doc_topic_prior': uniform(0.01, 3 - 0.01),\n",
    "                  lda_path + '__topic_word_prior': uniform(0.01, 3 - 0.01)\n",
    "                  }"
   ]
  },
  {
   "cell_type": "code",
   "execution_count": 125,
   "metadata": {},
   "outputs": [],
   "source": [
    "lda_dtm_train = lda_pipe.fit_transform(X_train)\n",
    "lda_dtm_test = lda_pipe.transform(X_test)"
   ]
  },
  {
   "cell_type": "code",
   "execution_count": 126,
   "metadata": {},
   "outputs": [],
   "source": [
    "X_train_dict = {'tf': tf_dtm_train,\n",
    "                'tfidf': tfidf_dtm_train,\n",
    "                'lsi': lsi_dtm_train,\n",
    "                'lda': lda_dtm_train,\n",
    "                'original': X_train\n",
    "                }\n",
    "\n",
    "X_test_dict = {'tf': tf_dtm_test,\n",
    "               'tfidf': tfidf_dtm_test,\n",
    "               'lsi': lsi_dtm_test,\n",
    "               'lda': lda_dtm_test,\n",
    "               'original': X_test\n",
    "               }"
   ]
  },
  {
   "cell_type": "code",
   "execution_count": 161,
   "metadata": {},
   "outputs": [],
   "source": [
    "transformers = [('tf', tf_pipe),\n",
    "                ('tfidf', tfidf_pipe),\n",
    "#                 ('lsi', lsi_pipe),\n",
    "#                 ('lda', lda_pipe)                \n",
    "               ]\n",
    "\n",
    "transformers_param_dist = {'tf': tf_param_dist,\n",
    "                           'tfidf': tfidf_param_dist,\n",
    "                           'lsi': lsi_param_dist,\n",
    "                           'lda': lda_param_dist\n",
    "                          }"
   ]
  },
  {
   "cell_type": "markdown",
   "metadata": {},
   "source": [
    "### Estimators"
   ]
  },
  {
   "cell_type": "code",
   "execution_count": 128,
   "metadata": {},
   "outputs": [],
   "source": [
    "estimators = {'lr': LogisticRegression(),\n",
    "              'lin_svm': SVC(kernel='linear', probability=True),\n",
    "              'rbf_svm': SVC(kernel='rbf', probability=True),\n",
    "              'dt': DecisionTreeClassifier(),\n",
    "              'knn': KNeighborsClassifier(),\n",
    "              'nb': GaussianNB(),\n",
    "              'lda': LinearDiscriminantAnalysis(),\n",
    "              'qda': QuadraticDiscriminantAnalysis(),\n",
    "             }\n",
    "\n",
    "estimators_param_dist = {'lr': {'clf__penalty': ['l1', 'l2'],\n",
    "                                'clf__C': uniform(0., 4.)},\n",
    "                         'lin_svm': {'clf__C': uniform(0., 4.)},\n",
    "                         'rbf_svm': {'clf__C': uniform(0., 4.),\n",
    "                                     'clf__gamma': uniform(0.1, 3 - 0.1)},\n",
    "                         'dt': {'clf__max_depth': randint(5, 15),\n",
    "                                'clf__min_samples_leaf': randint(2, 40)},\n",
    "                         'knn': {'clf__n_neighbors': randint(4, 15),\n",
    "                                 'clf__metric': ['minkowski', cosine]},\n",
    "                         'nb': {}, \n",
    "                         'lda': {},\n",
    "                         'qda': {},\n",
    "                        }"
   ]
  },
  {
   "cell_type": "markdown",
   "metadata": {},
   "source": [
    "### Classification"
   ]
  },
  {
   "cell_type": "code",
   "execution_count": 129,
   "metadata": {},
   "outputs": [],
   "source": [
    "def search_best_clfs(clf_name, X_train_dict, X_test_dict, transformation=False, n_iter=3):\n",
    "    best_clfs = {}\n",
    "    scores = pd.DataFrame(columns=[clf_name + '_train', clf_name + '_test'])\n",
    "\n",
    "    for trans_name, trans_pipe in transformers:\n",
    "        print(trans_name)\n",
    "        if transformation:\n",
    "            pipe = Pipeline([('transformer', clone(trans_pipe)),\n",
    "                             ('clf', clone(estimators[clf_name]))])\n",
    "\n",
    "            param_dist = transformers_param_dist[trans_name].copy()\n",
    "            param_dist.update(estimators_param_dist[clf_name].items())\n",
    "            \n",
    "            X_train = X_train_dict['original']\n",
    "            X_test = X_test_dict['original']\n",
    "        else:\n",
    "            pipe = Pipeline([('clf', clone(estimators[clf_name]))])\n",
    "            param_dist = estimators_param_dist[clf_name]\n",
    "            \n",
    "            X_train = X_train_dict[trans_name]\n",
    "            X_test = X_test_dict[trans_name]\n",
    "\n",
    "        rs = RandomizedSearchCV(estimator=pipe, param_distributions=param_dist, \n",
    "                                n_iter=n_iter, n_jobs=-1, refit=True,\n",
    "                                scoring='accuracy',\n",
    "                                cv=StratifiedKFold(n_splits=5, shuffle=True, random_state=10))\n",
    "\n",
    "        rs.fit(X_train, y_train)\n",
    "\n",
    "        best_clfs.update({trans_name: rs.best_estimator_})\n",
    "\n",
    "        train_score = rs.score(X_train, y_train)\n",
    "        test_score = rs.score(X_test, y_test)\n",
    "        scores.loc[trans_name] = [train_score, test_score]\n",
    "        \n",
    "    return best_clfs, scores"
   ]
  },
  {
   "cell_type": "code",
   "execution_count": 25,
   "metadata": {},
   "outputs": [],
   "source": [
    "import pickle\n",
    "import os"
   ]
  },
  {
   "cell_type": "code",
   "execution_count": 23,
   "metadata": {},
   "outputs": [],
   "source": [
    "def save_model(model, file_name):\n",
    "    models_path = './Models'\n",
    "    if not os.path.exists(models_path):\n",
    "        os.makedirs(models_path)\n",
    "    \n",
    "    with open(os.path.join(models_path, file_name), 'wb') as file:\n",
    "        pickle.dump(model, file, protocol=4)"
   ]
  },
  {
   "cell_type": "code",
   "execution_count": 132,
   "metadata": {},
   "outputs": [],
   "source": [
    "def save_kbest(kbest_array, file_name):\n",
    "    models_path = './kBest'\n",
    "    if not os.path.exists(models_path):\n",
    "        os.makedirs(models_path)\n",
    "\n",
    "    np.savetxt(os.path.join(models_path, file_name), kbest_array, fmt='%s')"
   ]
  },
  {
   "cell_type": "markdown",
   "metadata": {},
   "source": [
    "#### Logistic Regression"
   ]
  },
  {
   "cell_type": "code",
   "execution_count": 133,
   "metadata": {},
   "outputs": [
    {
     "name": "stdout",
     "output_type": "stream",
     "text": [
      "tf\n",
      "tfidf\n",
      "lsi\n",
      "lda\n"
     ]
    }
   ],
   "source": [
    "clf_name = 'lr'\n",
    "best_lrs, lr_scores = search_best_clfs(clf_name, X_train_dict, X_test_dict, n_iter=3)"
   ]
  },
  {
   "cell_type": "code",
   "execution_count": 134,
   "metadata": {},
   "outputs": [
    {
     "data": {
      "text/html": [
       "<div>\n",
       "<style scoped>\n",
       "    .dataframe tbody tr th:only-of-type {\n",
       "        vertical-align: middle;\n",
       "    }\n",
       "\n",
       "    .dataframe tbody tr th {\n",
       "        vertical-align: top;\n",
       "    }\n",
       "\n",
       "    .dataframe thead th {\n",
       "        text-align: right;\n",
       "    }\n",
       "</style>\n",
       "<table border=\"1\" class=\"dataframe\">\n",
       "  <thead>\n",
       "    <tr style=\"text-align: right;\">\n",
       "      <th></th>\n",
       "      <th>lr_train</th>\n",
       "      <th>lr_test</th>\n",
       "    </tr>\n",
       "  </thead>\n",
       "  <tbody>\n",
       "    <tr>\n",
       "      <th>tf</th>\n",
       "      <td>0.989042</td>\n",
       "      <td>0.883845</td>\n",
       "    </tr>\n",
       "    <tr>\n",
       "      <th>tfidf</th>\n",
       "      <td>0.962116</td>\n",
       "      <td>0.845022</td>\n",
       "    </tr>\n",
       "    <tr>\n",
       "      <th>lsi</th>\n",
       "      <td>0.778569</td>\n",
       "      <td>0.738885</td>\n",
       "    </tr>\n",
       "    <tr>\n",
       "      <th>lda</th>\n",
       "      <td>0.764950</td>\n",
       "      <td>0.708203</td>\n",
       "    </tr>\n",
       "  </tbody>\n",
       "</table>\n",
       "</div>"
      ],
      "text/plain": [
       "       lr_train   lr_test\n",
       "tf     0.989042  0.883845\n",
       "tfidf  0.962116  0.845022\n",
       "lsi    0.778569  0.738885\n",
       "lda    0.764950  0.708203"
      ]
     },
     "execution_count": 134,
     "metadata": {},
     "output_type": "execute_result"
    }
   ],
   "source": [
    "lr_scores"
   ]
  },
  {
   "cell_type": "code",
   "execution_count": 135,
   "metadata": {},
   "outputs": [],
   "source": [
    "for name, model in best_lrs.items():\n",
    "    file_name = name + '_logisticregression.p'\n",
    "    save_model(model, file_name)"
   ]
  },
  {
   "cell_type": "code",
   "execution_count": 136,
   "metadata": {},
   "outputs": [
    {
     "name": "stdout",
     "output_type": "stream",
     "text": [
      "{'C': 3.519444884629227,\n",
      " 'class_weight': None,\n",
      " 'dual': False,\n",
      " 'fit_intercept': True,\n",
      " 'intercept_scaling': 1,\n",
      " 'max_iter': 100,\n",
      " 'multi_class': 'ovr',\n",
      " 'n_jobs': 1,\n",
      " 'penalty': 'l2',\n",
      " 'random_state': None,\n",
      " 'solver': 'liblinear',\n",
      " 'tol': 0.0001,\n",
      " 'verbose': 0,\n",
      " 'warm_start': False}\n"
     ]
    }
   ],
   "source": [
    "pprint(best_lrs['tf'].named_steps['clf'].get_params())"
   ]
  },
  {
   "cell_type": "code",
   "execution_count": 137,
   "metadata": {},
   "outputs": [
    {
     "name": "stdout",
     "output_type": "stream",
     "text": [
      "{'C': 3.3744367769734565,\n",
      " 'class_weight': None,\n",
      " 'dual': False,\n",
      " 'fit_intercept': True,\n",
      " 'intercept_scaling': 1,\n",
      " 'max_iter': 100,\n",
      " 'multi_class': 'ovr',\n",
      " 'n_jobs': 1,\n",
      " 'penalty': 'l2',\n",
      " 'random_state': None,\n",
      " 'solver': 'liblinear',\n",
      " 'tol': 0.0001,\n",
      " 'verbose': 0,\n",
      " 'warm_start': False}\n"
     ]
    }
   ],
   "source": [
    "pprint(best_lrs['tfidf'].named_steps['clf'].get_params())"
   ]
  },
  {
   "cell_type": "code",
   "execution_count": 138,
   "metadata": {},
   "outputs": [
    {
     "name": "stdout",
     "output_type": "stream",
     "text": [
      "{'C': 3.713284351766094,\n",
      " 'class_weight': None,\n",
      " 'dual': False,\n",
      " 'fit_intercept': True,\n",
      " 'intercept_scaling': 1,\n",
      " 'max_iter': 100,\n",
      " 'multi_class': 'ovr',\n",
      " 'n_jobs': 1,\n",
      " 'penalty': 'l1',\n",
      " 'random_state': None,\n",
      " 'solver': 'liblinear',\n",
      " 'tol': 0.0001,\n",
      " 'verbose': 0,\n",
      " 'warm_start': False}\n"
     ]
    }
   ],
   "source": [
    "pprint(best_lrs['lsi'].named_steps['clf'].get_params())"
   ]
  },
  {
   "cell_type": "code",
   "execution_count": 139,
   "metadata": {},
   "outputs": [
    {
     "name": "stdout",
     "output_type": "stream",
     "text": [
      "{'C': 2.1371252447786278,\n",
      " 'class_weight': None,\n",
      " 'dual': False,\n",
      " 'fit_intercept': True,\n",
      " 'intercept_scaling': 1,\n",
      " 'max_iter': 100,\n",
      " 'multi_class': 'ovr',\n",
      " 'n_jobs': 1,\n",
      " 'penalty': 'l1',\n",
      " 'random_state': None,\n",
      " 'solver': 'liblinear',\n",
      " 'tol': 0.0001,\n",
      " 'verbose': 0,\n",
      " 'warm_start': False}\n"
     ]
    }
   ],
   "source": [
    "pprint(best_lrs['lda'].named_steps['clf'].get_params())"
   ]
  },
  {
   "cell_type": "markdown",
   "metadata": {},
   "source": [
    "We can look at the learning and validation curve to check overfitting/underfitting"
   ]
  },
  {
   "cell_type": "code",
   "execution_count": 140,
   "metadata": {},
   "outputs": [
    {
     "data": {
      "image/png": "[encoded data removed]",
      "text/plain": [
       "<Figure size 360x360 with 1 Axes>"
      ]
     },
     "metadata": {},
     "output_type": "display_data"
    }
   ],
   "source": [
    "trans_name = 'tf'\n",
    "plot_validation_curve(estimator=clone(best_lrs[trans_name]), X=X_train_dict[trans_name], y=y_train, \n",
    "                      param_name='clf__C', param_range=np.logspace(-3, 3, 7), x_scale='log')"
   ]
  },
  {
   "cell_type": "code",
   "execution_count": 147,
   "metadata": {},
   "outputs": [
    {
     "name": "stdout",
     "output_type": "stream",
     "text": [
      "Tarining dataset: accuracy = 0.975\n",
      "Test dataset: accuracy = 0.873\n"
     ]
    }
   ],
   "source": [
    "trans_name = 'tf'\n",
    "lr_pipe = clone(best_lrs[trans_name])\n",
    "lr_pipe.set_params(**{'clf__C': 1.})\n",
    "\n",
    "lr_pipe.fit(X_train_dict[trans_name], y_train);\n",
    "\n",
    "y_train_pred = lr_pipe.predict(X_train_dict[trans_name])\n",
    "y_test_pred = lr_pipe.predict(X_test_dict[trans_name])\n",
    "print('Tarining dataset: accuracy = %.3f' % accuracy_score(y_pred=y_train_pred, y_true=y_train))\n",
    "print('Test dataset: accuracy = %.3f' % accuracy_score(y_pred=y_test_pred, y_true=y_test))"
   ]
  },
  {
   "cell_type": "code",
   "execution_count": 148,
   "metadata": {},
   "outputs": [
    {
     "data": {
      "image/png": "[encoded data removed]",
      "text/plain": [
       "<Figure size 216x216 with 1 Axes>"
      ]
     },
     "metadata": {},
     "output_type": "display_data"
    },
    {
     "data": {
      "image/png": "[encoded data removed]",
      "text/plain": [
       "<Figure size 216x216 with 1 Axes>"
      ]
     },
     "metadata": {},
     "output_type": "display_data"
    }
   ],
   "source": [
    "plot_confusion_matrix(y_train, y_train_pred)\n",
    "plot_confusion_matrix(y_test, y_test_pred)"
   ]
  },
  {
   "cell_type": "code",
   "execution_count": 149,
   "metadata": {},
   "outputs": [
    {
     "data": {
      "image/png": "[encoded data removed]",
      "text/plain": [
       "<Figure size 360x360 with 1 Axes>"
      ]
     },
     "metadata": {},
     "output_type": "display_data"
    }
   ],
   "source": [
    "plot_learning_curve(estimator=clone(lr_pipe), X=X_train_dict[trans_name], y=y_train)"
   ]
  },
  {
   "cell_type": "code",
   "execution_count": 150,
   "metadata": {},
   "outputs": [],
   "source": [
    "from sklearn.model_selection import cross_val_score\n",
    "import scipy"
   ]
  },
  {
   "cell_type": "code",
   "execution_count": 151,
   "metadata": {},
   "outputs": [],
   "source": [
    "# X_extended = scipy.sparse.vstack([X_train_dict[trans_name], X_test_dict[trans_name]])\n",
    "# X_extended.shape"
   ]
  },
  {
   "cell_type": "code",
   "execution_count": 152,
   "metadata": {},
   "outputs": [
    {
     "name": "stdout",
     "output_type": "stream",
     "text": [
      "(15970,) (15970,)\n"
     ]
    }
   ],
   "source": [
    "X_extended = np.r_[X_train, X_test]\n",
    "y_extended = np.r_[y_train, y_test]\n",
    "print(X_extended.shape, y_extended.shape)"
   ]
  },
  {
   "cell_type": "code",
   "execution_count": 153,
   "metadata": {},
   "outputs": [
    {
     "name": "stdout",
     "output_type": "stream",
     "text": [
      "[0.864 0.863 0.859 0.875 0.86 ]\n",
      "Validation: accuracy = 0.864\n"
     ]
    }
   ],
   "source": [
    "lr_pipe_extended = Pipeline([('transformers', clone(tf_pipe)),\n",
    "                             ('clf', clone(lr_pipe.named_steps['clf']))])\n",
    "\n",
    "extended_scores = cross_val_score(lr_pipe_extended, X_extended, y_extended, scoring='accuracy', \n",
    "                                  cv=StratifiedKFold(n_splits=5, shuffle=True, random_state=10))\n",
    "print(np.round(extended_scores, 3))\n",
    "print('Validation: accuracy = %.3f' % extended_scores.mean())"
   ]
  },
  {
   "cell_type": "code",
   "execution_count": 154,
   "metadata": {},
   "outputs": [
    {
     "name": "stdout",
     "output_type": "stream",
     "text": [
      "Tarining dataset: accuracy = 0.978\n"
     ]
    }
   ],
   "source": [
    "lr_pipe_extended.fit(X_extended, y_extended)\n",
    "y_extended_pred = lr_pipe_extended.predict(X_extended)\n",
    "print('Tarining dataset: accuracy = %.3f' % accuracy_score(y_pred=y_extended_pred, y_true=y_extended))"
   ]
  },
  {
   "cell_type": "code",
   "execution_count": 155,
   "metadata": {},
   "outputs": [],
   "source": [
    "file_name = 'logisticregression.p'\n",
    "model = lr_pipe_extended\n",
    "save_model(model, file_name)"
   ]
  },
  {
   "cell_type": "code",
   "execution_count": 156,
   "metadata": {
    "scrolled": true
   },
   "outputs": [
    {
     "name": "stdout",
     "output_type": "stream",
     "text": [
      "Feature: fuck annoy                Score:    6.488\n",
      "Feature: bitch cuz                 Score:    4.260\n",
      "Feature: gay card                  Score:    4.076\n",
      "Feature: emo haha                  Score:    3.515\n",
      "Feature: onequestionmark birthday  Score:    3.418\n",
      "Feature: hate ass                  Score:    3.319\n",
      "Feature: ass backward              Score:    3.243\n",
      "Feature: damn band                 Score:    3.128\n",
      "Feature: suck caus                 Score:    3.060\n",
      "Feature: loser market              Score:    2.702\n"
     ]
    }
   ],
   "source": [
    "importance = np.abs(lr_pipe_extended.named_steps['clf'].coef_[0, :])\n",
    "print_kbest(lr_pipe_extended.named_steps['transformers'], importance, 10)"
   ]
  },
  {
   "cell_type": "code",
   "execution_count": 157,
   "metadata": {},
   "outputs": [
    {
     "name": "stdout",
     "output_type": "stream",
     "text": [
      "['fuck annoy' 'bitch cuz' 'gay card' 'emo haha' 'onequestionmark birthday'\n",
      " 'hate ass' 'ass backward' 'damn band' 'suck caus' 'loser market'\n",
      " 'fat cat' 'damn rite' 'cock mongler' 'uh that' 'gay sex'\n",
      " 'whore oneexclamationmark' 'nerd know' 'emoticonhappyfac en' 'ever felt'\n",
      " 'hate such' 'whuup' 'whup emoticonhappyfac' 'dick oneexclamationmark'\n",
      " 'fail onedot' 'nose onequestionmark' 'suck that' 'favorit place'\n",
      " 'dude watch' 'cunt that' 'hole' 'pussi wanna' 'that thi'\n",
      " 'damn addressurl' 'fuck brilliant' 'what charact' 'shit gift'\n",
      " 'realz manyexclamationmark' 'pig rock' 'danc onedot' 'suck hard'\n",
      " 'slam ass' 'sm' 'bitch still' 'is haha' \"suck i'm\" 'whose manag'\n",
      " 'wow realli' 'abbey' 'bitch teacher' 'failur anyway' 'good player'\n",
      " 'damn betcha' 'manyexclamationmark combat' 'like hi' 'audrey'\n",
      " 'xma onedot' 'do read' 'freak pass' 'awesom right' 'ass playin'\n",
      " 'hate much' 'luxuri' 'drum tri' 'love david' 'evolv' 'aah' 'smaller'\n",
      " 'admit emot' 'bummer onedot' 'damn ice' 'do onedot' 'at shit' 'yeah just'\n",
      " 'whale watch' 'failur' 'watch movi' 'babi and' 'goten' 'duck duck'\n",
      " 'fuck babi' 'kinki' 'haha eww' 'alwaysthink know' 'seen wall' 'bitter'\n",
      " 'fm and' 'get heavi' 'emang' 'onth shit' 'thank haha' 'impact onedot'\n",
      " 'know play' 'hate onequestionmark' 'reveal' \"you'r fuck\" 'it total'\n",
      " 'gay pay' 'two type' 'uhm happi' 'better rose']\n"
     ]
    }
   ],
   "source": [
    "sorted_features = get_sorted_features(lr_pipe_extended.named_steps['transformers'], importance)\n",
    "print(sorted_features[:100])"
   ]
  },
  {
   "cell_type": "code",
   "execution_count": 158,
   "metadata": {
    "scrolled": true
   },
   "outputs": [],
   "source": [
    "k = 1000\n",
    "file_name = 'logisticregression' + str(k) + '.csv'\n",
    "kbest_array = sorted_features[:k]\n",
    "save_kbest(kbest_array, file_name)"
   ]
  },
  {
   "cell_type": "code",
   "execution_count": null,
   "metadata": {
    "collapsed": true
   },
   "outputs": [],
   "source": []
  },
  {
   "cell_type": "code",
   "execution_count": 414,
   "metadata": {},
   "outputs": [],
   "source": [
    "# best_lrs['lsi'].named_steps['transformers'].named_steps['svd'].explained_variance_ratio_.sum()"
   ]
  },
  {
   "cell_type": "code",
   "execution_count": 415,
   "metadata": {},
   "outputs": [],
   "source": [
    "# best_lrs['lsi'].named_steps['transformers'].named_steps['svd'].get_params()"
   ]
  },
  {
   "cell_type": "markdown",
   "metadata": {},
   "source": [
    "#### Linear SVM"
   ]
  },
  {
   "cell_type": "code",
   "execution_count": 29,
   "metadata": {},
   "outputs": [],
   "source": [
    "# clf_name = 'lin_svm'\n",
    "# best_lin_svms, lin_svm_scores = search_best_clfs(clf_name, X_train_dict, X_test_dict, n_iter=3)"
   ]
  },
  {
   "cell_type": "markdown",
   "metadata": {},
   "source": [
    "#### SVM with kernel RBF"
   ]
  },
  {
   "cell_type": "code",
   "execution_count": 162,
   "metadata": {},
   "outputs": [
    {
     "name": "stdout",
     "output_type": "stream",
     "text": [
      "tf\n",
      "tfidf\n"
     ]
    }
   ],
   "source": [
    "clf_name = 'rbf_svm'\n",
    "best_rbf_svms, rbf_svm_scores = search_best_clfs(clf_name, X_train_dict, X_test_dict, n_iter=3)"
   ]
  },
  {
   "cell_type": "code",
   "execution_count": 163,
   "metadata": {},
   "outputs": [
    {
     "data": {
      "text/html": [
       "<div>\n",
       "<style scoped>\n",
       "    .dataframe tbody tr th:only-of-type {\n",
       "        vertical-align: middle;\n",
       "    }\n",
       "\n",
       "    .dataframe tbody tr th {\n",
       "        vertical-align: top;\n",
       "    }\n",
       "\n",
       "    .dataframe thead th {\n",
       "        text-align: right;\n",
       "    }\n",
       "</style>\n",
       "<table border=\"1\" class=\"dataframe\">\n",
       "  <thead>\n",
       "    <tr style=\"text-align: right;\">\n",
       "      <th></th>\n",
       "      <th>rbf_svm_train</th>\n",
       "      <th>rbf_svm_test</th>\n",
       "    </tr>\n",
       "  </thead>\n",
       "  <tbody>\n",
       "    <tr>\n",
       "      <th>tf</th>\n",
       "      <td>0.997260</td>\n",
       "      <td>0.937696</td>\n",
       "    </tr>\n",
       "    <tr>\n",
       "      <th>tfidf</th>\n",
       "      <td>0.997652</td>\n",
       "      <td>0.938322</td>\n",
       "    </tr>\n",
       "  </tbody>\n",
       "</table>\n",
       "</div>"
      ],
      "text/plain": [
       "       rbf_svm_train  rbf_svm_test\n",
       "tf          0.997260      0.937696\n",
       "tfidf       0.997652      0.938322"
      ]
     },
     "execution_count": 163,
     "metadata": {},
     "output_type": "execute_result"
    }
   ],
   "source": [
    "rbf_svm_scores"
   ]
  },
  {
   "cell_type": "code",
   "execution_count": 164,
   "metadata": {},
   "outputs": [],
   "source": [
    "for name, model in best_rbf_svms.items():\n",
    "    file_name = name + '_rbfsvm.p'\n",
    "    save_model(model, file_name)"
   ]
  },
  {
   "cell_type": "code",
   "execution_count": 165,
   "metadata": {},
   "outputs": [
    {
     "name": "stdout",
     "output_type": "stream",
     "text": [
      "{'C': 2.252635224588215,\n",
      " 'cache_size': 200,\n",
      " 'class_weight': None,\n",
      " 'coef0': 0.0,\n",
      " 'decision_function_shape': 'ovr',\n",
      " 'degree': 3,\n",
      " 'gamma': 0.9539316726856291,\n",
      " 'kernel': 'rbf',\n",
      " 'max_iter': -1,\n",
      " 'probability': True,\n",
      " 'random_state': None,\n",
      " 'shrinking': True,\n",
      " 'tol': 0.001,\n",
      " 'verbose': False}\n"
     ]
    }
   ],
   "source": [
    "pprint(best_rbf_svms['tf'].named_steps['clf'].get_params())"
   ]
  },
  {
   "cell_type": "code",
   "execution_count": 166,
   "metadata": {},
   "outputs": [
    {
     "name": "stdout",
     "output_type": "stream",
     "text": [
      "{'C': 1.0822168221588897,\n",
      " 'cache_size': 200,\n",
      " 'class_weight': None,\n",
      " 'coef0': 0.0,\n",
      " 'decision_function_shape': 'ovr',\n",
      " 'degree': 3,\n",
      " 'gamma': 2.074648829203928,\n",
      " 'kernel': 'rbf',\n",
      " 'max_iter': -1,\n",
      " 'probability': True,\n",
      " 'random_state': None,\n",
      " 'shrinking': True,\n",
      " 'tol': 0.001,\n",
      " 'verbose': False}\n"
     ]
    }
   ],
   "source": [
    "pprint(best_rbf_svms['tfidf'].named_steps['clf'].get_params())"
   ]
  },
  {
   "cell_type": "code",
   "execution_count": 167,
   "metadata": {},
   "outputs": [
    {
     "data": {
      "image/png": "[encoded data removed]",
      "text/plain": [
       "<Figure size 360x360 with 1 Axes>"
      ]
     },
     "metadata": {},
     "output_type": "display_data"
    }
   ],
   "source": [
    "trans_name = 'tf'\n",
    "plot_validation_curve(estimator=clone(best_rbf_svms[trans_name]), X=X_train_dict[trans_name], y=y_train, \n",
    "                      param_name='clf__C', param_range=np.logspace(-3, 3, 7), x_scale='log')"
   ]
  },
  {
   "cell_type": "code",
   "execution_count": 170,
   "metadata": {},
   "outputs": [
    {
     "name": "stdout",
     "output_type": "stream",
     "text": [
      "Tarining dataset: accuracy = 0.994\n",
      "Test dataset: accuracy = 0.931\n"
     ]
    }
   ],
   "source": [
    "trans_name = 'tf'\n",
    "rbf_svm_pipe = clone(best_rbf_svms[trans_name])\n",
    "rbf_svm_pipe.set_params(**{'clf__C': 0.8})\n",
    "\n",
    "rbf_svm_pipe.fit(X_train_dict[trans_name], y_train);\n",
    "\n",
    "y_train_pred = rbf_svm_pipe.predict(X_train_dict[trans_name])\n",
    "y_test_pred = rbf_svm_pipe.predict(X_test_dict[trans_name])\n",
    "print('Tarining dataset: accuracy = %.3f' % accuracy_score(y_pred=y_train_pred, y_true=y_train))\n",
    "print('Test dataset: accuracy = %.3f' % accuracy_score(y_pred=y_test_pred, y_true=y_test))"
   ]
  },
  {
   "cell_type": "code",
   "execution_count": 171,
   "metadata": {},
   "outputs": [
    {
     "data": {
      "image/png": "[encoded data removed]",
      "text/plain": [
       "<Figure size 216x216 with 1 Axes>"
      ]
     },
     "metadata": {},
     "output_type": "display_data"
    },
    {
     "data": {
      "image/png": "[encoded data removed]",
      "text/plain": [
       "<Figure size 216x216 with 1 Axes>"
      ]
     },
     "metadata": {},
     "output_type": "display_data"
    }
   ],
   "source": [
    "plot_confusion_matrix(y_train, y_train_pred)\n",
    "plot_confusion_matrix(y_test, y_test_pred)"
   ]
  },
  {
   "cell_type": "code",
   "execution_count": 169,
   "metadata": {},
   "outputs": [],
   "source": [
    "# trans_name = 'tf'\n",
    "# plot_validation_curve(estimator=clone(best_rbf_svms[trans_name]), X=X_train_dict[trans_name], y=y_train, \n",
    "#                       param_name='clf__gamma', param_range=np.linspace(0.5, 3.5, 7), x_scale='linear')"
   ]
  },
  {
   "cell_type": "code",
   "execution_count": 174,
   "metadata": {},
   "outputs": [
    {
     "name": "stdout",
     "output_type": "stream",
     "text": [
      "Tarining dataset: accuracy = 0.998\n",
      "Test dataset: accuracy = 0.938\n"
     ]
    }
   ],
   "source": [
    "trans_name = 'tf'\n",
    "rbf_svm_pipe = clone(best_rbf_svms[trans_name])\n",
    "rbf_svm_pipe.set_params(**{'clf__gamma': 2.})\n",
    "\n",
    "rbf_svm_pipe.fit(X_train_dict[trans_name], y_train);\n",
    "\n",
    "y_train_pred = rbf_svm_pipe.predict(X_train_dict[trans_name])\n",
    "y_test_pred = rbf_svm_pipe.predict(X_test_dict[trans_name])\n",
    "print('Tarining dataset: accuracy = %.3f' % accuracy_score(y_pred=y_train_pred, y_true=y_train))\n",
    "print('Test dataset: accuracy = %.3f' % accuracy_score(y_pred=y_test_pred, y_true=y_test))"
   ]
  },
  {
   "cell_type": "code",
   "execution_count": null,
   "metadata": {},
   "outputs": [],
   "source": [
    "# plot_learning_curve(estimator=clone(best_rbf_svms[trans_name]), X=X_train_dict[trans_name], y=y_train)"
   ]
  },
  {
   "cell_type": "code",
   "execution_count": 175,
   "metadata": {},
   "outputs": [
    {
     "name": "stdout",
     "output_type": "stream",
     "text": [
      "(15970,) (15970,)\n"
     ]
    }
   ],
   "source": [
    "X_extended = np.r_[X_train, X_test]\n",
    "y_extended = np.r_[y_train, y_test]\n",
    "print(X_extended.shape, y_extended.shape)"
   ]
  },
  {
   "cell_type": "code",
   "execution_count": 181,
   "metadata": {},
   "outputs": [
    {
     "name": "stdout",
     "output_type": "stream",
     "text": [
      "[0.934 0.932 0.932 0.94  0.926]\n",
      "Validation: accuracy = 0.933\n"
     ]
    }
   ],
   "source": [
    "rbf_svm_pipe_extended = Pipeline([('transformers', clone(tf_pipe)),\n",
    "                                  ('clf', clone(best_rbf_svms[trans_name]))])\n",
    "\n",
    "extended_scores = cross_val_score(rbf_svm_pipe_extended, X_extended, y_extended, scoring='accuracy', \n",
    "                                  cv=StratifiedKFold(n_splits=5, shuffle=True, random_state=10), n_jobs=-1)\n",
    "print(np.round(extended_scores, 3))\n",
    "print('Validation: accuracy = %.3f' % extended_scores.mean())"
   ]
  },
  {
   "cell_type": "code",
   "execution_count": 182,
   "metadata": {},
   "outputs": [
    {
     "name": "stdout",
     "output_type": "stream",
     "text": [
      "Tarining dataset: accuracy = 0.996\n"
     ]
    }
   ],
   "source": [
    "rbf_svm_pipe_extended.fit(X_extended, y_extended)\n",
    "y_extended_pred = rbf_svm_pipe_extended.predict(X_extended)\n",
    "print('Tarining dataset: accuracy = %.3f' % accuracy_score(y_pred=y_extended_pred, y_true=y_extended))"
   ]
  },
  {
   "cell_type": "code",
   "execution_count": 183,
   "metadata": {},
   "outputs": [],
   "source": [
    "file_name = 'rbfsvm.p'\n",
    "model = rbf_svm_pipe_extended\n",
    "save_model(model, file_name)"
   ]
  },
  {
   "cell_type": "code",
   "execution_count": 194,
   "metadata": {
    "scrolled": true
   },
   "outputs": [
    {
     "name": "stdout",
     "output_type": "stream",
     "text": [
      "Feature: gr damn                   Score:    2.253\n",
      "Feature: hous emoticonhappyfac     Score:    2.253\n",
      "Feature: have gubgivit             Score:    2.253\n",
      "Feature: gonna start               Score:    2.253\n",
      "Feature: heart oneexclamationmark  Score:    2.253\n",
      "Feature: funni alway               Score:    2.253\n",
      "Feature: fat ho                    Score:    2.253\n",
      "Feature: i'm actual                Score:    2.253\n",
      "Feature: hous                      Score:    2.253\n",
      "Feature: becam                     Score:    2.253\n"
     ]
    }
   ],
   "source": [
    "importance = np.abs(rbf_svm_pipe_extended.named_steps['clf'].named_steps['clf'].dual_coef_.toarray()[0, :])\n",
    "print_kbest(rbf_svm_pipe_extended.named_steps['transformers'], importance, 10)"
   ]
  },
  {
   "cell_type": "code",
   "execution_count": 195,
   "metadata": {},
   "outputs": [
    {
     "name": "stdout",
     "output_type": "stream",
     "text": [
      "['gr damn' 'hous emoticonhappyfac' 'have gubgivit' 'gonna start'\n",
      " 'heart oneexclamationmark' 'funni alway' 'fat ho' \"i'm actual\" 'hous'\n",
      " 'becam' 'epic win' 'abus' 'gonna lie' 'everyon thought' \"i'v biggest\"\n",
      " 'gonna kick' 'have come' 'everybodi onedot' 'at onedot' 'girl is'\n",
      " 'cri onedot' 'damn delici' 'ever use' 'circl squar' 'cl' 'hate haha'\n",
      " 'charisma' 'bathtub onedot' 'good work' 'get is' 'desper ass' 'commerci'\n",
      " 'haahah' 'ha oneexclamationmark' 'determin' 'get off'\n",
      " 'great onequestionmark' 'good name' 'bbc' 'ass embrac' 'and impal'\n",
      " 'florida fuck' 'hitler' 'hear hi' 'champ right' 'gangplank'\n",
      " 'hi complaint' 'boot onequestionmark' 'hate game' 'famou person'\n",
      " 'girl vip' 'at stomach' 'block perv' 'error oneexclamationmark' 'help do'\n",
      " 'bigger dick' 'funni scari' 'are kid' 'hunt' 'hunni' 'hate most'\n",
      " 'and final' 'hungri' 'cuz hi' 'help win' 'dumpster' 'draw blank' 'hummin'\n",
      " 'fire wall' 'ground shame' 'equival' 'go thru' 'bestfriend' 'honest im'\n",
      " 'go that' 'current onedot' 'gluten onedot' 'around manydot' 'dude in'\n",
      " 'funni onequestionmark' 'game consol' \"i'll add\" 'hang thi' 'golden'\n",
      " 'hell do' 'hate white' 'esqu' 'gal' 'hate weather' 'hate loli' 'gold'\n",
      " 'car shortyou' 'hate that' 'hinder' 'given one' 'givin jack' 'da fuck'\n",
      " 'goin emoticonhappyfac' 'gain weight' 'emoticonhappyfac what']\n"
     ]
    }
   ],
   "source": [
    "sorted_features = get_sorted_features(rbf_svm_pipe_extended.named_steps['transformers'], importance)\n",
    "print(sorted_features[:100])"
   ]
  },
  {
   "cell_type": "code",
   "execution_count": 196,
   "metadata": {
    "scrolled": true
   },
   "outputs": [],
   "source": [
    "k = 1000\n",
    "file_name = 'rbfsvm' + str(k) + '.csv'\n",
    "kbest_array = sorted_features[:k]\n",
    "save_kbest(kbest_array, file_name)"
   ]
  },
  {
   "cell_type": "markdown",
   "metadata": {},
   "source": [
    "#### Decision Tree"
   ]
  },
  {
   "cell_type": "code",
   "execution_count": null,
   "metadata": {
    "collapsed": true
   },
   "outputs": [],
   "source": [
    "# clf_name = 'dt'\n",
    "# best_dts, dt_scores = search_best_clfs(clf_name, X_train_dict, X_test_dict, n_iter=3)"
   ]
  },
  {
   "cell_type": "markdown",
   "metadata": {},
   "source": [
    "#### K-Nearest Neighbors"
   ]
  },
  {
   "cell_type": "code",
   "execution_count": null,
   "metadata": {
    "collapsed": true
   },
   "outputs": [],
   "source": [
    "# clf_name = 'knn'\n",
    "# best_knns, knn_scores = search_best_clfs(clf_name, X_train_dict, X_test_dict, n_iter=3)"
   ]
  },
  {
   "cell_type": "markdown",
   "metadata": {},
   "source": [
    "#### Naive Bayes"
   ]
  },
  {
   "cell_type": "code",
   "execution_count": null,
   "metadata": {
    "collapsed": true
   },
   "outputs": [],
   "source": [
    "# clf_name = 'nb'\n",
    "# best_nbs, nb_scores = search_best_clfs(clf_name, X_train_dict, X_test_dict, n_iter=1)"
   ]
  },
  {
   "cell_type": "markdown",
   "metadata": {},
   "source": [
    "#### Linear Discriminant Analysis"
   ]
  },
  {
   "cell_type": "code",
   "execution_count": null,
   "metadata": {
    "collapsed": true
   },
   "outputs": [],
   "source": [
    "# clf_name = 'lda'\n",
    "# best_ldas, lda_scores = search_best_clfs(clf_name, X_train_dict, X_test_dict, n_iter=1)"
   ]
  },
  {
   "cell_type": "markdown",
   "metadata": {},
   "source": [
    "#### Quadratic Discriminant Analysis"
   ]
  },
  {
   "cell_type": "code",
   "execution_count": null,
   "metadata": {
    "collapsed": true
   },
   "outputs": [],
   "source": [
    "# clf_name = 'qda'\n",
    "# best_qdas, qda_scores = search_best_clfs(clf_name, X_train_dict, X_test_dict, n_iter=1)"
   ]
  },
  {
   "cell_type": "markdown",
   "metadata": {},
   "source": [
    "### Ensembling"
   ]
  },
  {
   "cell_type": "code",
   "execution_count": 320,
   "metadata": {},
   "outputs": [],
   "source": [
    "from sklearn.ensemble import BaggingClassifier\n",
    "from sklearn.ensemble import VotingClassifier\n",
    "from xgboost import XGBClassifier\n",
    "# from lightgbm import LGBMClassfier\n",
    "\n",
    "from sklearn.model_selection import GridSearchCV"
   ]
  },
  {
   "cell_type": "markdown",
   "metadata": {
    "collapsed": true
   },
   "source": [
    "#### Bagging"
   ]
  },
  {
   "cell_type": "code",
   "execution_count": 334,
   "metadata": {},
   "outputs": [],
   "source": [
    "bagging_clf = BaggingClassifier(max_samples=1000, max_features=0.4, n_estimators=100, \n",
    "                                bootstrap=True, bootstrap_features=False)\n",
    "\n",
    "bagging_pipe = Pipeline([\n",
    "    ('features', FeatureUnion([\n",
    "            ('numerical_feats', FrequencyExtractor()),    \n",
    "            ('text_feats', Pipeline([('preprocessor', TextPreprocessor(stopwords=IRRELEVANT_STOPWORDS, \n",
    "                                                                       process='stem')),\n",
    "                                     ('vectorizer', CountVectorizer(token_pattern=token_pattern, min_df=2,\n",
    "                                                                    ngram_range=(1, 2)))\n",
    "                                    ]))\n",
    "            ])),\n",
    "    ('scaler', MaxAbsScaler()),\n",
    "    ('clf', bagging_clf)\n",
    "])\n",
    "\n",
    "estimators_list = [DecisionTreeClassifier(max_depth=10),\n",
    "                   LogisticRegression(C=1., penalty='l2'),\n",
    "                   RandomForestClassifier(max_depth=10, max_features=0.5, n_estimators=10)]\n",
    "\n",
    "param_grid = {'clf__base_estimator': estimators_list}\n",
    "\n",
    "bagging_gs = GridSearchCV(estimator=bagging_pipe, param_grid=param_grid, \n",
    "                          cv=5, scoring='accuracy', \n",
    "                          n_jobs=-1, refit=True)"
   ]
  },
  {
   "cell_type": "code",
   "execution_count": 335,
   "metadata": {},
   "outputs": [
    {
     "data": {
      "text/plain": [
       "0.6795554164057608"
      ]
     },
     "execution_count": 335,
     "metadata": {},
     "output_type": "execute_result"
    }
   ],
   "source": [
    "bagging_gs.fit(X_train, y_train);\n",
    "bagging_gs.best_score_"
   ]
  },
  {
   "cell_type": "code",
   "execution_count": 336,
   "metadata": {},
   "outputs": [],
   "source": [
    "best_bagging_pipe = bagging_gs.best_estimator_"
   ]
  },
  {
   "cell_type": "code",
   "execution_count": 337,
   "metadata": {},
   "outputs": [
    {
     "data": {
      "text/plain": [
       "BaggingClassifier(base_estimator=DecisionTreeClassifier(class_weight=None, criterion='gini', max_depth=10,\n",
       "            max_features=None, max_leaf_nodes=None,\n",
       "            min_impurity_decrease=0.0, min_impurity_split=None,\n",
       "            min_samples_leaf=1, min_samples_split=2,\n",
       "            min_weight_fraction_leaf=0.0, presort=False, random_state=None,\n",
       "            splitter='best'),\n",
       "         bootstrap=True, bootstrap_features=False, max_features=0.4,\n",
       "         max_samples=1000, n_estimators=100, n_jobs=1, oob_score=False,\n",
       "         random_state=None, verbose=0, warm_start=False)"
      ]
     },
     "execution_count": 337,
     "metadata": {},
     "output_type": "execute_result"
    }
   ],
   "source": [
    "best_bagging_pipe.named_steps['clf']"
   ]
  },
  {
   "cell_type": "code",
   "execution_count": 338,
   "metadata": {},
   "outputs": [
    {
     "name": "stdout",
     "output_type": "stream",
     "text": [
      "Tarining dataset: accuracy = 0.718\n",
      "Test dataset: accuracy = 0.709\n"
     ]
    }
   ],
   "source": [
    "y_train_pred = best_bagging_pipe.predict(X_train)\n",
    "y_test_pred = best_bagging_pipe.predict(X_test)\n",
    "print('Tarining dataset: accuracy = %.3f' % accuracy_score(y_pred=y_train_pred, y_true=y_train))\n",
    "print('Test dataset: accuracy = %.3f' % accuracy_score(y_pred=y_test_pred, y_true=y_test))"
   ]
  },
  {
   "cell_type": "code",
   "execution_count": 339,
   "metadata": {},
   "outputs": [
    {
     "data": {
      "image/png": "[encoded data removed]",
      "text/plain": [
       "<Figure size 216x216 with 1 Axes>"
      ]
     },
     "metadata": {},
     "output_type": "display_data"
    },
    {
     "data": {
      "image/png": "[encoded data removed]",
      "text/plain": [
       "<Figure size 216x216 with 1 Axes>"
      ]
     },
     "metadata": {},
     "output_type": "display_data"
    }
   ],
   "source": [
    "plot_confusion_matrix(y_train, y_train_pred)\n",
    "plot_confusion_matrix(y_test, y_test_pred)"
   ]
  },
  {
   "cell_type": "code",
   "execution_count": 348,
   "metadata": {},
   "outputs": [
    {
     "name": "stdout",
     "output_type": "stream",
     "text": [
      "Tarining dataset: accuracy = 0.746\n",
      "Test dataset: accuracy = 0.722\n"
     ]
    }
   ],
   "source": [
    "bagging_pipe = clone(best_bagging_pipe)\n",
    "bagging_pipe.set_params(**{'clf__base_estimator__class_weight': {0: 1, 1: 1.4}})\n",
    "\n",
    "bagging_pipe.fit(X_train, y_train);\n",
    "\n",
    "y_train_pred = bagging_pipe.predict(X_train)\n",
    "y_test_pred = bagging_pipe.predict(X_test)\n",
    "print('Tarining dataset: accuracy = %.3f' % accuracy_score(y_pred=y_train_pred, y_true=y_train))\n",
    "print('Test dataset: accuracy = %.3f' % accuracy_score(y_pred=y_test_pred, y_true=y_test))"
   ]
  },
  {
   "cell_type": "code",
   "execution_count": 349,
   "metadata": {},
   "outputs": [
    {
     "data": {
      "image/png": "[encoded data removed]",
      "text/plain": [
       "<Figure size 216x216 with 1 Axes>"
      ]
     },
     "metadata": {},
     "output_type": "display_data"
    },
    {
     "data": {
      "image/png": "[encoded data removed]",
      "text/plain": [
       "<Figure size 216x216 with 1 Axes>"
      ]
     },
     "metadata": {},
     "output_type": "display_data"
    }
   ],
   "source": [
    "plot_confusion_matrix(y_train, y_train_pred)\n",
    "plot_confusion_matrix(y_test, y_test_pred)"
   ]
  },
  {
   "cell_type": "code",
   "execution_count": 350,
   "metadata": {},
   "outputs": [],
   "source": [
    "X_extended = np.r_[X_train, X_test]\n",
    "y_extended = np.r_[y_train, y_test]"
   ]
  },
  {
   "cell_type": "code",
   "execution_count": null,
   "metadata": {},
   "outputs": [],
   "source": [
    "bagging_pipe_extended = clone(bagging_pipe)\n",
    "bagging_pipe_extended.fit(X_extended, y_extended);"
   ]
  },
  {
   "cell_type": "code",
   "execution_count": null,
   "metadata": {},
   "outputs": [],
   "source": [
    "y_train_pred = bagging_pipe_extended.predict(X_extended)"
   ]
  },
  {
   "cell_type": "code",
   "execution_count": 353,
   "metadata": {},
   "outputs": [
    {
     "name": "stdout",
     "output_type": "stream",
     "text": [
      "Tarining dataset: accuracy = 0.749\n"
     ]
    }
   ],
   "source": [
    "print('Tarining dataset: accuracy = %.3f' % accuracy_score(y_pred=y_train_pred, y_true=y_extended))"
   ]
  },
  {
   "cell_type": "code",
   "execution_count": 355,
   "metadata": {},
   "outputs": [],
   "source": [
    "file_name = 'baggingtree.p'\n",
    "model = bagging_pipe_extended\n",
    "save_model(model, file_name)"
   ]
  },
  {
   "cell_type": "markdown",
   "metadata": {
    "collapsed": true
   },
   "source": [
    "#### Voting"
   ]
  },
  {
   "cell_type": "code",
   "execution_count": 357,
   "metadata": {},
   "outputs": [],
   "source": [
    "estimators_list = [('dt', DecisionTreeClassifier(max_depth=10)),\n",
    "                   ('lr', LogisticRegression(C=1., penalty='l2')),\n",
    "                   ('rf', RandomForestClassifier(max_depth=10, max_features=0.5, n_estimators=10))]\n",
    "\n",
    "voting_clf = VotingClassifier(estimators=estimators_list)\n",
    "\n",
    "voting_pipe = Pipeline([\n",
    "    ('features', FeatureUnion([\n",
    "            ('numerical_feats', FrequencyExtractor()),    \n",
    "            ('text_feats', Pipeline([('preprocessor', TextPreprocessor(stopwords=IRRELEVANT_STOPWORDS, \n",
    "                                                                       process='stem')),\n",
    "                                     ('vectorizer', CountVectorizer(token_pattern=token_pattern, min_df=2,\n",
    "                                                                    ngram_range=(1, 2)))\n",
    "                                    ]))\n",
    "            ])),\n",
    "    ('scaler', MaxAbsScaler()),\n",
    "    ('clf', voting_clf)\n",
    "])\n",
    "\n",
    "param_grid = {'clf__voting': ['hard', 'soft']}\n",
    "\n",
    "voting_gs = GridSearchCV(estimator=voting_pipe, param_grid=param_grid, \n",
    "                          cv=5, scoring='accuracy', \n",
    "                          n_jobs=-1, refit=True)"
   ]
  },
  {
   "cell_type": "code",
   "execution_count": 359,
   "metadata": {},
   "outputs": [],
   "source": [
    "# voting_gs.fit(X_train, y_train);\n",
    "# voting_gs.best_score_"
   ]
  },
  {
   "cell_type": "markdown",
   "metadata": {
    "collapsed": true
   },
   "source": [
    "#### Boosting"
   ]
  },
  {
   "cell_type": "code",
   "execution_count": 381,
   "metadata": {},
   "outputs": [],
   "source": [
    "?XGBClassifier"
   ]
  },
  {
   "cell_type": "code",
   "execution_count": 425,
   "metadata": {},
   "outputs": [],
   "source": [
    "xgb_clf = XGBClassifier()\n",
    "\n",
    "xgb_pipe = Pipeline([\n",
    "    ('features', FeatureUnion([\n",
    "            ('numerical_feats', FrequencyExtractor()),    \n",
    "            ('text_feats', Pipeline([('preprocessor', TextPreprocessor(stopwords=IRRELEVANT_STOPWORDS, \n",
    "                                                                       process='stem')),\n",
    "                                     ('vectorizer', CountVectorizer(token_pattern=token_pattern, min_df=2,\n",
    "                                                                    ngram_range=(1, 2)))\n",
    "                                    ]))\n",
    "            ])),\n",
    "    ('scaler', MaxAbsScaler()),\n",
    "    ('clf', xgb_clf)\n",
    "])\n",
    "\n",
    "param_dist = {'clf__learning_rate': uniform(0.001, 2 - 0.001),\n",
    "              'clf__max_depth': randint(5, 20),\n",
    "              'clf__reg_lambda': uniform(0, 2),\n",
    "              'clf__gamma': uniform(0, 0.5),\n",
    "              'clf__colsample_bytree': uniform(0.5, 0.5),\n",
    "              'clf__subsample': uniform(0.5, 0.5),\n",
    "              'clf__min_child_weight': randint(1, 11),\n",
    "              'clf__n_estimators': randint(50, 400),\n",
    "             }\n",
    "\n",
    "xgb_gs = RandomizedSearchCV(estimator=xgb_pipe, param_distributions=param_dist, \n",
    "                            cv=5, scoring='accuracy', n_iter=10,\n",
    "                            n_jobs=-1, refit=True)"
   ]
  },
  {
   "cell_type": "code",
   "execution_count": 426,
   "metadata": {},
   "outputs": [],
   "source": [
    "import warnings\n",
    "warnings.filterwarnings(action='ignore', category=DeprecationWarning)"
   ]
  },
  {
   "cell_type": "code",
   "execution_count": 427,
   "metadata": {},
   "outputs": [],
   "source": [
    "xgb_gs.fit(X_train, y_train);"
   ]
  },
  {
   "cell_type": "code",
   "execution_count": 428,
   "metadata": {},
   "outputs": [
    {
     "data": {
      "text/plain": [
       "0.8443174702567313"
      ]
     },
     "execution_count": 428,
     "metadata": {},
     "output_type": "execute_result"
    }
   ],
   "source": [
    "xgb_gs.best_score_"
   ]
  },
  {
   "cell_type": "code",
   "execution_count": 429,
   "metadata": {},
   "outputs": [
    {
     "data": {
      "text/plain": [
       "{'base_score': 0.5,\n",
       " 'booster': 'gbtree',\n",
       " 'colsample_bylevel': 1,\n",
       " 'colsample_bytree': 0.7484176463626866,\n",
       " 'gamma': 0.4029680740462477,\n",
       " 'learning_rate': 0.5272511180392236,\n",
       " 'max_delta_step': 0,\n",
       " 'max_depth': 17,\n",
       " 'min_child_weight': 1,\n",
       " 'missing': None,\n",
       " 'n_estimators': 112,\n",
       " 'n_jobs': 1,\n",
       " 'nthread': None,\n",
       " 'objective': 'binary:logistic',\n",
       " 'random_state': 0,\n",
       " 'reg_alpha': 0,\n",
       " 'reg_lambda': 1.957313823194363,\n",
       " 'scale_pos_weight': 1,\n",
       " 'seed': None,\n",
       " 'silent': True,\n",
       " 'subsample': 0.967432237442374}"
      ]
     },
     "execution_count": 429,
     "metadata": {},
     "output_type": "execute_result"
    }
   ],
   "source": [
    "best_xgb_pipe = xgb_gs.best_estimator_\n",
    "best_xgb_pipe.named_steps['clf'].get_params()"
   ]
  },
  {
   "cell_type": "code",
   "execution_count": 430,
   "metadata": {},
   "outputs": [
    {
     "name": "stdout",
     "output_type": "stream",
     "text": [
      "Tarining dataset: accuracy = 0.997\n",
      "Test dataset: accuracy = 0.886\n"
     ]
    }
   ],
   "source": [
    "y_train_pred = best_xgb_pipe.predict(X_train)\n",
    "y_test_pred = best_xgb_pipe.predict(X_test)\n",
    "print('Tarining dataset: accuracy = %.3f' % accuracy_score(y_pred=y_train_pred, y_true=y_train))\n",
    "print('Test dataset: accuracy = %.3f' % accuracy_score(y_pred=y_test_pred, y_true=y_test))"
   ]
  },
  {
   "cell_type": "code",
   "execution_count": 431,
   "metadata": {},
   "outputs": [
    {
     "data": {
      "image/png": "[encoded data removed]",
      "text/plain": [
       "<Figure size 216x216 with 1 Axes>"
      ]
     },
     "metadata": {},
     "output_type": "display_data"
    },
    {
     "data": {
      "image/png": "[encoded data removed]",
      "text/plain": [
       "<Figure size 216x216 with 1 Axes>"
      ]
     },
     "metadata": {},
     "output_type": "display_data"
    }
   ],
   "source": [
    "plot_confusion_matrix(y_train, y_train_pred)\n",
    "plot_confusion_matrix(y_test, y_test_pred)"
   ]
  },
  {
   "cell_type": "code",
   "execution_count": 375,
   "metadata": {},
   "outputs": [],
   "source": [
    "# plot_validation_curve(estimator=clone(xgb_pipe), X=X_train, y=y_train, \n",
    "#                       param_name='clf__learning_rate', param_range=np.linspace(0.01, 3, 7), x_scale='linear')"
   ]
  },
  {
   "cell_type": "code",
   "execution_count": 432,
   "metadata": {},
   "outputs": [
    {
     "name": "stdout",
     "output_type": "stream",
     "text": [
      "Tarining dataset: accuracy = 0.997\n"
     ]
    }
   ],
   "source": [
    "xgb_pipe_extended = clone(best_xgb_pipe)\n",
    "xgb_pipe_extended.fit(X_extended, y_extended);\n",
    "y_extended_pred = xgb_pipe_extended.predict(X_extended)\n",
    "print('Tarining dataset: accuracy = %.3f' % accuracy_score(y_pred=y_extended_pred, y_true=y_extended))"
   ]
  },
  {
   "cell_type": "code",
   "execution_count": 433,
   "metadata": {},
   "outputs": [],
   "source": [
    "file_name = 'xgb.p'\n",
    "model = xgb_pipe_extended\n",
    "save_model(model, file_name)"
   ]
  },
  {
   "cell_type": "code",
   "execution_count": null,
   "metadata": {},
   "outputs": [],
   "source": []
  },
  {
   "cell_type": "markdown",
   "metadata": {},
   "source": [
    "### Recurrent Neural Network"
   ]
  },
  {
   "cell_type": "code",
   "execution_count": 8,
   "metadata": {},
   "outputs": [],
   "source": [
    "from mytextpreprocessing import WordToIndexTransformer\n",
    "\n",
    "from keras.models import Sequential\n",
    "from keras.layers import Dense, Dropout, Embedding, SimpleRNN, LSTM, Bidirectional\n",
    "from keras.callbacks import EarlyStopping\n",
    "from keras.regularizers import l2\n",
    "from keras.utils import print_summary"
   ]
  },
  {
   "cell_type": "code",
   "execution_count": 10,
   "metadata": {},
   "outputs": [],
   "source": [
    "preprocessor = TextPreprocessor(stopwords=IRRELEVANT_STOPWORDS, process='stem')\n",
    "wordToIndex = WordToIndexTransformer(preprocessor)"
   ]
  },
  {
   "cell_type": "code",
   "execution_count": 11,
   "metadata": {},
   "outputs": [],
   "source": [
    "X_rnn_train = wordToIndex.fit_transform(X_train)\n",
    "X_rnn_test = wordToIndex.transform(X_test)"
   ]
  },
  {
   "cell_type": "code",
   "execution_count": 12,
   "metadata": {},
   "outputs": [
    {
     "name": "stdout",
     "output_type": "stream",
     "text": [
      "10775 280\n"
     ]
    }
   ],
   "source": [
    "max_features = wordToIndex.unique_words_no + 1\n",
    "maxlen = wordToIndex.maxlen\n",
    "embedding_dims = 32\n",
    "print(max_features, maxlen)"
   ]
  },
  {
   "cell_type": "code",
   "execution_count": 13,
   "metadata": {},
   "outputs": [
    {
     "data": {
      "text/plain": [
       "((12776, 280), (3194, 280))"
      ]
     },
     "execution_count": 13,
     "metadata": {},
     "output_type": "execute_result"
    }
   ],
   "source": [
    "X_rnn_train.shape, X_rnn_test.shape"
   ]
  },
  {
   "cell_type": "code",
   "execution_count": 14,
   "metadata": {},
   "outputs": [],
   "source": [
    "model = Sequential()\n",
    "model.add(Embedding(max_features, embedding_dims, input_length=maxlen))\n",
    "# model.add(LSTM(100, return_sequences=False))\n",
    "model.add(SimpleRNN(100, return_sequences=False))\n",
    "model.add(Dropout(0.4))\n",
    "model.add(Dense(32, activation='tanh'))\n",
    "# model.add(Dense(1, activation='sigmoid', kernel_regularizer=l2(0.002)))\n",
    "model.add(Dense(1, activation='sigmoid'))\n",
    "\n",
    "model.compile(loss='binary_crossentropy', metrics=['accuracy'], optimizer='adam')"
   ]
  },
  {
   "cell_type": "code",
   "execution_count": 15,
   "metadata": {},
   "outputs": [
    {
     "name": "stdout",
     "output_type": "stream",
     "text": [
      "_________________________________________________________________\n",
      "Layer (type)                 Output Shape              Param #   \n",
      "=================================================================\n",
      "embedding_1 (Embedding)      (None, 280, 32)           344800    \n",
      "_________________________________________________________________\n",
      "simple_rnn_1 (SimpleRNN)     (None, 100)               13300     \n",
      "_________________________________________________________________\n",
      "dropout_1 (Dropout)          (None, 100)               0         \n",
      "_________________________________________________________________\n",
      "dense_1 (Dense)              (None, 32)                3232      \n",
      "_________________________________________________________________\n",
      "dense_2 (Dense)              (None, 1)                 33        \n",
      "=================================================================\n",
      "Total params: 361,365\n",
      "Trainable params: 361,365\n",
      "Non-trainable params: 0\n",
      "_________________________________________________________________\n"
     ]
    }
   ],
   "source": [
    "print_summary(model)"
   ]
  },
  {
   "cell_type": "code",
   "execution_count": 20,
   "metadata": {},
   "outputs": [
    {
     "name": "stdout",
     "output_type": "stream",
     "text": [
      "Train on 7665 samples, validate on 5111 samples\n",
      "Epoch 1/50\n",
      "7665/7665 [==============================] - 41s 5ms/step - loss: 0.0503 - acc: 0.9826 - val_loss: 1.0221 - val_acc: 0.7781\n",
      "Epoch 2/50\n",
      "7665/7665 [==============================] - 37s 5ms/step - loss: 0.0364 - acc: 0.9883 - val_loss: 1.1740 - val_acc: 0.7629\n",
      "Epoch 3/50\n",
      "7665/7665 [==============================] - 36s 5ms/step - loss: 0.0337 - acc: 0.9901 - val_loss: 1.1210 - val_acc: 0.7537\n",
      "Epoch 4/50\n",
      "7665/7665 [==============================] - 42s 5ms/step - loss: 0.5992 - acc: 0.6600 - val_loss: 0.6365 - val_acc: 0.6239\n",
      "Epoch 5/50\n",
      "7665/7665 [==============================] - 53s 7ms/step - loss: 0.6428 - acc: 0.6287 - val_loss: 0.6418 - val_acc: 0.5993\n",
      "Epoch 6/50\n",
      "7665/7665 [==============================] - 43s 6ms/step - loss: 0.5870 - acc: 0.6802 - val_loss: 0.5838 - val_acc: 0.7151\n",
      "Epoch 7/50\n",
      "7665/7665 [==============================] - 41s 5ms/step - loss: 0.3728 - acc: 0.8360 - val_loss: 0.6393 - val_acc: 0.7668\n",
      "Epoch 8/50\n",
      "7665/7665 [==============================] - 39s 5ms/step - loss: 0.3385 - acc: 0.8573 - val_loss: 0.7826 - val_acc: 0.7102\n",
      "Epoch 9/50\n",
      "7665/7665 [==============================] - 40s 5ms/step - loss: 0.1997 - acc: 0.9263 - val_loss: 0.7328 - val_acc: 0.7599\n"
     ]
    },
    {
     "data": {
      "text/plain": [
       "<keras.callbacks.History at 0x7f6efc3a3710>"
      ]
     },
     "execution_count": 20,
     "metadata": {},
     "output_type": "execute_result"
    }
   ],
   "source": [
    "early_stopping = EarlyStopping(patience=3)\n",
    "model.fit(X_rnn_train, y_train, batch_size=32, epochs=50, callbacks=[early_stopping], validation_split=0.4)"
   ]
  },
  {
   "cell_type": "code",
   "execution_count": 21,
   "metadata": {},
   "outputs": [
    {
     "name": "stdout",
     "output_type": "stream",
     "text": [
      "Tarining dataset:\n",
      "loss = 0.357\n",
      "accuracy = 0.883\n",
      "Test dataset:\n",
      "loss = 0.741\n",
      "accuracy = 0.752\n"
     ]
    }
   ],
   "source": [
    "train_accuracy = model.evaluate(X_rnn_train, y_train, verbose=0)\n",
    "test_accuracy = model.evaluate(X_rnn_test, y_test, verbose=0)\n",
    "\n",
    "print('Tarining dataset:\\nloss = %.3f\\naccuracy = %.3f' % tuple(train_accuracy))\n",
    "print('Test dataset:\\nloss = %.3f\\naccuracy = %.3f' % tuple(test_accuracy))"
   ]
  },
  {
   "cell_type": "code",
   "execution_count": 27,
   "metadata": {},
   "outputs": [],
   "source": [
    "# file_name = 'rnn.p'\n",
    "# save_model(model, file_name)"
   ]
  },
  {
   "cell_type": "code",
   "execution_count": null,
   "metadata": {},
   "outputs": [],
   "source": []
  }
 ],
 "metadata": {
  "kernelspec": {
   "display_name": "Python 3",
   "language": "python",
   "name": "python3"
  },
  "language_info": {
   "codemirror_mode": {
    "name": "ipython",
    "version": 3
   },
   "file_extension": ".py",
   "mimetype": "text/x-python",
   "name": "python",
   "nbconvert_exporter": "python",
   "pygments_lexer": "ipython3",
   "version": "3.6.5"
  }
 },
 "nbformat": 4,
 "nbformat_minor": 2
}
