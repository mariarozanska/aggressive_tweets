{
 "cells": [
  {
   "cell_type": "markdown",
   "metadata": {},
   "source": [
    "## Problem: Detection of aggressive tweets"
   ]
  },
  {
   "cell_type": "markdown",
   "metadata": {},
   "source": [
    "Training dataset: 12776 tweets<br/> \n",
    "Validation dataset: 3194 tweets<br/> \n",
    "Test dataset: 3993 tweets<br/>\n",
    "Tweets are labeled (by human) as:\n",
    "* 1 (Cyber-Aggressive)\n",
    "* 0 (Non Cyber-Aggressive)"
   ]
  },
  {
   "cell_type": "code",
   "execution_count": 53,
   "metadata": {},
   "outputs": [],
   "source": [
    "import pandas as pd\n",
    "import numpy as np\n",
    "\n",
    "import pickle\n",
    "import os\n",
    "from keras.models import load_model\n",
    "from keras.utils import print_summary\n",
    "\n",
    "from mytextpreprocessing import TextPreprocessor\n",
    "from mytextpreprocessing import FrequencyExtractor\n",
    "from mytextpreprocessing import WordToIndexTransformer"
   ]
  },
  {
   "cell_type": "markdown",
   "metadata": {},
   "source": [
    "## Data"
   ]
  },
  {
   "cell_type": "code",
   "execution_count": 3,
   "metadata": {},
   "outputs": [],
   "source": [
    "data_path = './Data'\n",
    "data_train = pd.read_json(os.path.join(data_path, 'train.json'))\n",
    "data_valid = pd.read_json(os.path.join(data_path, 'valid.json'))\n",
    "data_test = pd.read_json(os.path.join(data_path, 'test.json'))"
   ]
  },
  {
   "cell_type": "code",
   "execution_count": 4,
   "metadata": {},
   "outputs": [],
   "source": [
    "X_train, y_train = data_train.content, data_train.label\n",
    "X_valid, y_valid = data_valid.content, data_valid.label\n",
    "X_test, y_test = data_test.content, data_test.label\n",
    "\n",
    "X_train = np.r_[X_train, X_valid]\n",
    "y_train = np.r_[y_train, y_valid]"
   ]
  },
  {
   "cell_type": "code",
   "execution_count": 5,
   "metadata": {},
   "outputs": [
    {
     "data": {
      "text/plain": [
       "(array([0, 1]), array([9681, 6289]))"
      ]
     },
     "execution_count": 5,
     "metadata": {},
     "output_type": "execute_result"
    }
   ],
   "source": [
    "np.unique(y_train, return_counts=True)"
   ]
  },
  {
   "cell_type": "code",
   "execution_count": 6,
   "metadata": {},
   "outputs": [
    {
     "data": {
      "text/plain": [
       "(array([0, 1]), array([2460, 1533]))"
      ]
     },
     "execution_count": 6,
     "metadata": {},
     "output_type": "execute_result"
    }
   ],
   "source": [
    "np.unique(y_test, return_counts=True)"
   ]
  },
  {
   "cell_type": "markdown",
   "metadata": {},
   "source": [
    "## Testing of Models"
   ]
  },
  {
   "cell_type": "code",
   "execution_count": 7,
   "metadata": {},
   "outputs": [
    {
     "name": "stdout",
     "output_type": "stream",
     "text": [
      "logisticregression.p\n",
      "rbfsvm.p\n",
      "baggingtree.p\n",
      "xgb.p\n"
     ]
    },
    {
     "name": "stderr",
     "output_type": "stream",
     "text": [
      "/home/kodolamacz/anaconda3/lib/python3.6/site-packages/sklearn/preprocessing/label.py:151: DeprecationWarning: The truth value of an empty array is ambiguous. Returning False, but in future this will result in an error. Use `array.size > 0` to check that an array is not empty.\n",
      "  if diff:\n",
      "/home/kodolamacz/anaconda3/lib/python3.6/site-packages/sklearn/preprocessing/label.py:151: DeprecationWarning: The truth value of an empty array is ambiguous. Returning False, but in future this will result in an error. Use `array.size > 0` to check that an array is not empty.\n",
      "  if diff:\n"
     ]
    }
   ],
   "source": [
    "models_path = 'Models'\n",
    "file_names = ['logisticregression.p', 'rbfsvm.p', 'baggingtree.p', 'xgb.p']\n",
    "\n",
    "results = pd.DataFrame(columns=['train_accuracy', 'test_accuracy'])\n",
    "for file_name in file_names:\n",
    "    with open(os.path.join(models_path, file_name), 'rb') as file:\n",
    "        print(file_name)\n",
    "        loaded_model = pickle.load(file)\n",
    "        train_score = loaded_model.score(X_train, y_train)\n",
    "        test_score = loaded_model.score(X_test, y_test)\n",
    "        results.loc[file_name] = [train_score, test_score]"
   ]
  },
  {
   "cell_type": "code",
   "execution_count": 45,
   "metadata": {},
   "outputs": [],
   "source": [
    "with open(os.path.join('Models', 'wordToIndex.p'), 'rb') as file:\n",
    "    wordToIndex = pickle.load(file)\n",
    "\n",
    "X_rnn_train = wordToIndex.transform(X_train)\n",
    "X_rnn_test = wordToIndex.transform(X_test)"
   ]
  },
  {
   "cell_type": "code",
   "execution_count": 57,
   "metadata": {},
   "outputs": [
    {
     "name": "stdout",
     "output_type": "stream",
     "text": [
      "birnn.h5\n",
      "15970/15970 [==============================] - 30s 2ms/step\n",
      "3993/3993 [==============================] - 5s 1ms/step\n",
      "lstmrnn.h5\n",
      "15970/15970 [==============================] - 48s 3ms/step\n",
      "3993/3993 [==============================] - 13s 3ms/step\n"
     ]
    }
   ],
   "source": [
    "file_names = ['birnn.h5', 'lstmrnn.h5']\n",
    "# file_names = ['rnn.h5']\n",
    "for file_name in file_names:\n",
    "    print(file_name)\n",
    "    loaded_model = load_model(os.path.join(models_path, file_name))\n",
    "    train_score = loaded_model.evaluate(X_rnn_train, y_train)[1]\n",
    "    test_score = loaded_model.evaluate(X_rnn_test, y_test)[1]\n",
    "    results.loc[file_name] = [train_score, test_score]"
   ]
  },
  {
   "cell_type": "code",
   "execution_count": 61,
   "metadata": {},
   "outputs": [
    {
     "data": {
      "text/html": [
       "<div>\n",
       "<style scoped>\n",
       "    .dataframe tbody tr th:only-of-type {\n",
       "        vertical-align: middle;\n",
       "    }\n",
       "\n",
       "    .dataframe tbody tr th {\n",
       "        vertical-align: top;\n",
       "    }\n",
       "\n",
       "    .dataframe thead th {\n",
       "        text-align: right;\n",
       "    }\n",
       "</style>\n",
       "<table border=\"1\" class=\"dataframe\">\n",
       "  <thead>\n",
       "    <tr style=\"text-align: right;\">\n",
       "      <th></th>\n",
       "      <th>train_accuracy</th>\n",
       "      <th>test_accuracy</th>\n",
       "    </tr>\n",
       "  </thead>\n",
       "  <tbody>\n",
       "    <tr>\n",
       "      <th>logisticregression.p</th>\n",
       "      <td>0.976268</td>\n",
       "      <td>0.890308</td>\n",
       "    </tr>\n",
       "    <tr>\n",
       "      <th>rbfsvm.p</th>\n",
       "      <td>0.997245</td>\n",
       "      <td>0.965440</td>\n",
       "    </tr>\n",
       "    <tr>\n",
       "      <th>baggingtree.p</th>\n",
       "      <td>0.742142</td>\n",
       "      <td>0.700977</td>\n",
       "    </tr>\n",
       "    <tr>\n",
       "      <th>xgb.p</th>\n",
       "      <td>0.987664</td>\n",
       "      <td>0.916103</td>\n",
       "    </tr>\n",
       "    <tr>\n",
       "      <th>birnn.h5</th>\n",
       "      <td>0.989167</td>\n",
       "      <td>0.893814</td>\n",
       "    </tr>\n",
       "    <tr>\n",
       "      <th>lstmrnn.h5</th>\n",
       "      <td>0.975579</td>\n",
       "      <td>0.885049</td>\n",
       "    </tr>\n",
       "  </tbody>\n",
       "</table>\n",
       "</div>"
      ],
      "text/plain": [
       "                      train_accuracy  test_accuracy\n",
       "logisticregression.p        0.976268       0.890308\n",
       "rbfsvm.p                    0.997245       0.965440\n",
       "baggingtree.p               0.742142       0.700977\n",
       "xgb.p                       0.987664       0.916103\n",
       "birnn.h5                    0.989167       0.893814\n",
       "lstmrnn.h5                  0.975579       0.885049"
      ]
     },
     "execution_count": 61,
     "metadata": {},
     "output_type": "execute_result"
    }
   ],
   "source": [
    "results"
   ]
  },
  {
   "cell_type": "code",
   "execution_count": null,
   "metadata": {},
   "outputs": [],
   "source": []
  }
 ],
 "metadata": {
  "kernelspec": {
   "display_name": "Python 3",
   "language": "python",
   "name": "python3"
  },
  "language_info": {
   "codemirror_mode": {
    "name": "ipython",
    "version": 3
   },
   "file_extension": ".py",
   "mimetype": "text/x-python",
   "name": "python",
   "nbconvert_exporter": "python",
   "pygments_lexer": "ipython3",
   "version": "3.6.5"
  }
 },
 "nbformat": 4,
 "nbformat_minor": 2
}
