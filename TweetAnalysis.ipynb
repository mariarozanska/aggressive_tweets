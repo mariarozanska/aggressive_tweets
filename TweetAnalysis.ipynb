{
 "cells": [
  {
   "cell_type": "markdown",
   "metadata": {},
   "source": [
    "## Problem: Detection of aggressive tweets"
   ]
  },
  {
   "cell_type": "markdown",
   "metadata": {},
   "source": [
    "Training dataset has 12800 tweets (in english) and validation dataset has 3200 tweets.<br/>\n",
    "Tweets are labeled (by human) as:\n",
    "* 1 (Cyber-Aggressive; 9714 items)\n",
    "* 0 (Non Cyber-Aggressive; 6286 items)"
   ]
  },
  {
   "cell_type": "markdown",
   "metadata": {},
   "source": [
    "# Tweet Analysis"
   ]
  },
  {
   "cell_type": "markdown",
   "metadata": {},
   "source": [
    "### Data"
   ]
  },
  {
   "cell_type": "code",
   "execution_count": 1,
   "metadata": {
    "collapsed": true
   },
   "outputs": [],
   "source": [
    "import pandas as pd\n",
    "import numpy as np"
   ]
  },
  {
   "cell_type": "code",
   "execution_count": 2,
   "metadata": {
    "collapsed": true
   },
   "outputs": [],
   "source": [
    "data_train = pd.read_json('./Data/train.json')"
   ]
  },
  {
   "cell_type": "code",
   "execution_count": 3,
   "metadata": {
    "collapsed": true
   },
   "outputs": [],
   "source": [
    "X_train = data_train.content\n",
    "y_train = data_train.label"
   ]
  },
  {
   "cell_type": "code",
   "execution_count": 4,
   "metadata": {
    "collapsed": false
   },
   "outputs": [
    {
     "name": "stdout",
     "output_type": "stream",
     "text": [
      "Training data: \n",
      "class 1 contribution = 0.39\n",
      "# = 12800\n"
     ]
    }
   ],
   "source": [
    "print('Training data: ', 'class 1 contribution = %.2f' % y_train.mean(), \n",
    "      '# = %s' % X_train.shape[0], sep='\\n')"
   ]
  },
  {
   "cell_type": "markdown",
   "metadata": {},
   "source": [
    "Only training part is analysed"
   ]
  },
  {
   "cell_type": "markdown",
   "metadata": {},
   "source": [
    "### Punctuation"
   ]
  },
  {
   "cell_type": "code",
   "execution_count": 5,
   "metadata": {
    "collapsed": true
   },
   "outputs": [],
   "source": [
    "import string\n",
    "import re\n",
    "from scipy import stats\n",
    "import nltk"
   ]
  },
  {
   "cell_type": "code",
   "execution_count": 6,
   "metadata": {
    "collapsed": true
   },
   "outputs": [],
   "source": [
    "def compute_binom_pvalue(data, column_name):\n",
    "    '''Compute p-value for two-sided test of the null hypothesis that \n",
    "    the probability of occurrence of an aggressive tweet is 0.39.\n",
    "    Parameters:\n",
    "    - data: dataframe \n",
    "        data with the binary column 'label'\n",
    "    - column_name: string\n",
    "        the name of the column to be checked\n",
    "    Returns:\n",
    "    - pvalue: float\n",
    "        the p-value\n",
    "    '''\n",
    "    \n",
    "    matching_labels = data.label[data[column_name].notnull()]\n",
    "    no_successes = matching_labels[matching_labels == 1].shape[0]\n",
    "    no_trials = matching_labels.shape[0]\n",
    "    pvalue = stats.binom_test(x=no_successes, n=no_trials, p=0.39)\n",
    "    return pvalue\n",
    "\n",
    "def print_matching_statistics(data, column_name):\n",
    "    '''Print matching statistic.\n",
    "    Parameters:\n",
    "    - data: dataframe \n",
    "        data with the binary column 'label'\n",
    "    - column_name: string \n",
    "        the name of the column to be checked\n",
    "    '''\n",
    "    \n",
    "    matching_labels = data.label[data[column_name].notnull()]\n",
    "    \n",
    "    score = matching_labels.mean()\n",
    "    print('The mean of labels of matching tweets = %.2f' % score)\n",
    "    \n",
    "    rate = matching_labels.shape[0] / data.shape[0]\n",
    "    print('The rate of matching tweets = %.3f' % rate)\n",
    "    \n",
    "    pvalue = compute_binom_pvalue(data, column_name)\n",
    "    print('p-value = %.3f' % pvalue)\n",
    "    \n",
    "\n",
    "def find_all_matches(X, y, regex):\n",
    "    '''Find all matches of regex in a tweet and print matching statistics.\n",
    "    Parameters:\n",
    "    - X: array-like\n",
    "        list of tweets\n",
    "    - y: array-like \n",
    "        list of labels\n",
    "    - regex: string \n",
    "        regular expression\n",
    "    Returns:\n",
    "    - data: dataframe \n",
    "        it has three columns: content, label, list of matches\n",
    "    '''\n",
    "    \n",
    "    data = pd.DataFrame(np.c_[X, y], columns=['content', 'label'])\n",
    "    data[regex] = data.content.apply(lambda doc: re.findall(regex, doc) if re.findall(regex, doc) != [] else None)\n",
    "    \n",
    "    return data"
   ]
  },
  {
   "cell_type": "code",
   "execution_count": 7,
   "metadata": {
    "collapsed": true
   },
   "outputs": [],
   "source": [
    "def compute_matching_words_rate(regex, X):\n",
    "    '''Compute the ratio of matching words to all words in a tweet.\n",
    "    Parameters:\n",
    "    - regex: string\n",
    "        regular expression\n",
    "    - X: array-like\n",
    "        list of tweets\n",
    "    Returns:\n",
    "    - matching_words_rate: array\n",
    "        the ratio of matching words to all words in a tweet\n",
    "    '''\n",
    "    \n",
    "    matching_words_count = np.array([len(re.findall(regex, doc)) for doc in X])\n",
    "\n",
    "    words_count = np.array([len(list(filter(None, re.split('[^\\\\w\\'*]', doc)))) for doc in X_train])\n",
    "    words_count[words_count == 0] = 1\n",
    "\n",
    "    matching_words_rate = matching_words_count / words_count\n",
    "    return matching_words_rate"
   ]
  },
  {
   "cell_type": "code",
   "execution_count": 8,
   "metadata": {
    "collapsed": false
   },
   "outputs": [
    {
     "name": "stdout",
     "output_type": "stream",
     "text": [
      "[ 'Damn you  I ended up ordering the damn Galactus MM  I hope you are happy. When my wife bitches at me  I am blaming you.'\n",
      " 'could you imagine John F Kennedy or Churchill or Abraham Lincoln shouting \"yaa boo sucks you \\'kin wankaz\" at the opposition ?'\n",
      " 'so there were like 11 Five Guys in Orlando...we never went there once...GAY!!'\n",
      " \"Damn straight. I just don't understand it. I was born thinking like this. I'd like to believe everyone else was  too... we'll see.\"\n",
      " \" lol  but what was the rumor? Gah I feel like I'm back in High School  I wanna fuck up whoever says shit about Dave  he's kickass\"\n",
      " 'Coke Zero should absolutely not exist. Cherry Coke Zero is alright  but I still say fuck it.'\n",
      " ' Who are your Twitter besties?' \"  Yes ma'am :] thank you lady.\"\n",
      " ' If you could bring one character to life from your favorite book  who would it be?'\n",
      " '  First.'\n",
      " \"YOU STUPID WHORE I HOPE YOU ARE IN YOUR HOUSE WHEN I BURN DOWN YOUR HOUSE YOU STUPID WHORE WHY WOULDN'T YOU GO TO PROM WITH ME\"\n",
      " 'Exactly! Damn cops disagree though'\n",
      " '  Always. haha sorry i didnt answer last night. I was half asleep when you called.'\n",
      " ' Frances seriously stop trying to make people feel bad for you  ugly bitch.'\n",
      " 'People are so fucking pathetic.  CHILDREN! Ughh~']\n"
     ]
    }
   ],
   "source": [
    "print(np.random.choice(X_train.values, 15))"
   ]
  },
  {
   "cell_type": "code",
   "execution_count": 9,
   "metadata": {
    "collapsed": false
   },
   "outputs": [
    {
     "name": "stdout",
     "output_type": "stream",
     "text": [
      "!\"#$%&'()*+,-./:;<=>?@[\\]^_`{|}~\n"
     ]
    }
   ],
   "source": [
    "PUNCTUATION = string.punctuation\n",
    "print(PUNCTUATION)"
   ]
  },
  {
   "cell_type": "markdown",
   "metadata": {},
   "source": [
    "Exclamation marks are more related to aggressive tweets"
   ]
  },
  {
   "cell_type": "code",
   "execution_count": 10,
   "metadata": {
    "collapsed": false
   },
   "outputs": [
    {
     "name": "stdout",
     "output_type": "stream",
     "text": [
      "The mean of labels of matching tweets = 0.48\n",
      "The rate of matching tweets = 0.216\n",
      "p-value = 0.000\n"
     ]
    },
    {
     "data": {
      "text/html": [
       "<div>\n",
       "<table border=\"1\" class=\"dataframe\">\n",
       "  <thead>\n",
       "    <tr style=\"text-align: right;\">\n",
       "      <th></th>\n",
       "      <th>content</th>\n",
       "      <th>label</th>\n",
       "      <th>(?&lt;![?!])!(?!!)</th>\n",
       "    </tr>\n",
       "  </thead>\n",
       "  <tbody>\n",
       "    <tr>\n",
       "      <th>0</th>\n",
       "      <td>Heh! Parcells is a bad-ass who knows how to he...</td>\n",
       "      <td>0</td>\n",
       "      <td>[!]</td>\n",
       "    </tr>\n",
       "    <tr>\n",
       "      <th>3</th>\n",
       "      <td>Famous! Duhh Haha that means I would be rich...</td>\n",
       "      <td>0</td>\n",
       "      <td>[!, !]</td>\n",
       "    </tr>\n",
       "    <tr>\n",
       "      <th>10</th>\n",
       "      <td>Tears for fears! Oh well  time for my third He...</td>\n",
       "      <td>0</td>\n",
       "      <td>[!]</td>\n",
       "    </tr>\n",
       "    <tr>\n",
       "      <th>20</th>\n",
       "      <td>Damn!! I was hoping you were giving me good ne...</td>\n",
       "      <td>1</td>\n",
       "      <td>[!]</td>\n",
       "    </tr>\n",
       "    <tr>\n",
       "      <th>27</th>\n",
       "      <td>Girl...you good. Lol at hearing your own name....</td>\n",
       "      <td>0</td>\n",
       "      <td>[!]</td>\n",
       "    </tr>\n",
       "  </tbody>\n",
       "</table>\n",
       "</div>"
      ],
      "text/plain": [
       "                                              content label (?<![?!])!(?!!)\n",
       "0   Heh! Parcells is a bad-ass who knows how to he...     0             [!]\n",
       "3     Famous! Duhh Haha that means I would be rich...     0          [!, !]\n",
       "10  Tears for fears! Oh well  time for my third He...     0             [!]\n",
       "20  Damn!! I was hoping you were giving me good ne...     1             [!]\n",
       "27  Girl...you good. Lol at hearing your own name....     0             [!]"
      ]
     },
     "execution_count": 10,
     "metadata": {},
     "output_type": "execute_result"
    }
   ],
   "source": [
    "regex = '(?<![?!])!(?!!)'\n",
    "data_extended = find_all_matches(X_train, y_train, regex)\n",
    "print_matching_statistics(data_extended, regex)\n",
    "data_extended.loc[data_extended[regex].notnull()].head()"
   ]
  },
  {
   "cell_type": "code",
   "execution_count": 11,
   "metadata": {
    "collapsed": false
   },
   "outputs": [
    {
     "name": "stdout",
     "output_type": "stream",
     "text": [
      "The mean of labels of matching tweets = 0.39\n",
      "The rate of matching tweets = 0.026\n",
      "p-value = 0.910\n"
     ]
    },
    {
     "data": {
      "text/html": [
       "<div>\n",
       "<table border=\"1\" class=\"dataframe\">\n",
       "  <thead>\n",
       "    <tr style=\"text-align: right;\">\n",
       "      <th></th>\n",
       "      <th>content</th>\n",
       "      <th>label</th>\n",
       "      <th>(?&lt;![?!])!{2}(?!!)</th>\n",
       "    </tr>\n",
       "  </thead>\n",
       "  <tbody>\n",
       "    <tr>\n",
       "      <th>8</th>\n",
       "      <td>i hate hate hate it with a passion!! lol...i k...</td>\n",
       "      <td>1</td>\n",
       "      <td>[!!]</td>\n",
       "    </tr>\n",
       "    <tr>\n",
       "      <th>20</th>\n",
       "      <td>Damn!! I was hoping you were giving me good ne...</td>\n",
       "      <td>1</td>\n",
       "      <td>[!!]</td>\n",
       "    </tr>\n",
       "    <tr>\n",
       "      <th>49</th>\n",
       "      <td>@mekdot yo...heroes sucks!!! I loved season 1 ...</td>\n",
       "      <td>1</td>\n",
       "      <td>[!!]</td>\n",
       "    </tr>\n",
       "    <tr>\n",
       "      <th>232</th>\n",
       "      <td>and holy crap  that's a long time!! D: that su...</td>\n",
       "      <td>1</td>\n",
       "      <td>[!!]</td>\n",
       "    </tr>\n",
       "    <tr>\n",
       "      <th>237</th>\n",
       "      <td>Yumm... Justin Bieber P-diddys son JDoir YUM...</td>\n",
       "      <td>0</td>\n",
       "      <td>[!!, !!]</td>\n",
       "    </tr>\n",
       "  </tbody>\n",
       "</table>\n",
       "</div>"
      ],
      "text/plain": [
       "                                               content label  \\\n",
       "8    i hate hate hate it with a passion!! lol...i k...     1   \n",
       "20   Damn!! I was hoping you were giving me good ne...     1   \n",
       "49   @mekdot yo...heroes sucks!!! I loved season 1 ...     1   \n",
       "232  and holy crap  that's a long time!! D: that su...     1   \n",
       "237    Yumm... Justin Bieber P-diddys son JDoir YUM...     0   \n",
       "\n",
       "    (?<![?!])!{2}(?!!)  \n",
       "8                 [!!]  \n",
       "20                [!!]  \n",
       "49                [!!]  \n",
       "232               [!!]  \n",
       "237           [!!, !!]  "
      ]
     },
     "execution_count": 11,
     "metadata": {},
     "output_type": "execute_result"
    }
   ],
   "source": [
    "regex = '(?<![?!])!{2}(?!!)'\n",
    "data_extended = find_all_matches(X_train, y_train, regex)\n",
    "print_matching_statistics(data_extended, regex)\n",
    "data_extended.loc[data_extended[regex].notnull()].head()"
   ]
  },
  {
   "cell_type": "code",
   "execution_count": 12,
   "metadata": {
    "collapsed": false
   },
   "outputs": [
    {
     "name": "stdout",
     "output_type": "stream",
     "text": [
      "The mean of labels of matching tweets = 0.45\n",
      "The rate of matching tweets = 0.057\n",
      "p-value = 0.001\n"
     ]
    },
    {
     "data": {
      "text/html": [
       "<div>\n",
       "<table border=\"1\" class=\"dataframe\">\n",
       "  <thead>\n",
       "    <tr style=\"text-align: right;\">\n",
       "      <th></th>\n",
       "      <th>content</th>\n",
       "      <th>label</th>\n",
       "      <th>(?&lt;!\\?)!{2,}</th>\n",
       "    </tr>\n",
       "  </thead>\n",
       "  <tbody>\n",
       "    <tr>\n",
       "      <th>8</th>\n",
       "      <td>i hate hate hate it with a passion!! lol...i k...</td>\n",
       "      <td>1</td>\n",
       "      <td>[!!, !!!]</td>\n",
       "    </tr>\n",
       "    <tr>\n",
       "      <th>20</th>\n",
       "      <td>Damn!! I was hoping you were giving me good ne...</td>\n",
       "      <td>1</td>\n",
       "      <td>[!!]</td>\n",
       "    </tr>\n",
       "    <tr>\n",
       "      <th>21</th>\n",
       "      <td>P33T WIFF HIS BIG GAY TEEFS!!! BRYCE FROM TRS ...</td>\n",
       "      <td>1</td>\n",
       "      <td>[!!!]</td>\n",
       "    </tr>\n",
       "    <tr>\n",
       "      <th>34</th>\n",
       "      <td>she got yo ass spooked!!!</td>\n",
       "      <td>0</td>\n",
       "      <td>[!!!]</td>\n",
       "    </tr>\n",
       "    <tr>\n",
       "      <th>38</th>\n",
       "      <td>Im doing good thankyuh!!!Heyyy hbu?!</td>\n",
       "      <td>0</td>\n",
       "      <td>[!!!]</td>\n",
       "    </tr>\n",
       "  </tbody>\n",
       "</table>\n",
       "</div>"
      ],
      "text/plain": [
       "                                              content label (?<!\\?)!{2,}\n",
       "8   i hate hate hate it with a passion!! lol...i k...     1    [!!, !!!]\n",
       "20  Damn!! I was hoping you were giving me good ne...     1         [!!]\n",
       "21  P33T WIFF HIS BIG GAY TEEFS!!! BRYCE FROM TRS ...     1        [!!!]\n",
       "34                          she got yo ass spooked!!!     0        [!!!]\n",
       "38               Im doing good thankyuh!!!Heyyy hbu?!     0        [!!!]"
      ]
     },
     "execution_count": 12,
     "metadata": {},
     "output_type": "execute_result"
    }
   ],
   "source": [
    "regex = '(?<!\\\\?)!{2,}'\n",
    "data_extended = find_all_matches(X_train, y_train, regex)\n",
    "print_matching_statistics(data_extended, regex)\n",
    "data_extended.loc[data_extended[regex].notnull()].head()"
   ]
  },
  {
   "cell_type": "markdown",
   "metadata": {},
   "source": [
    "Single question marks are more related to nonaggressive tweets"
   ]
  },
  {
   "cell_type": "code",
   "execution_count": 13,
   "metadata": {
    "collapsed": false
   },
   "outputs": [
    {
     "name": "stdout",
     "output_type": "stream",
     "text": [
      "The mean of labels of matching tweets = 0.25\n",
      "The rate of matching tweets = 0.227\n",
      "p-value = 0.000\n"
     ]
    },
    {
     "data": {
      "text/html": [
       "<div>\n",
       "<table border=\"1\" class=\"dataframe\">\n",
       "  <thead>\n",
       "    <tr style=\"text-align: right;\">\n",
       "      <th></th>\n",
       "      <th>content</th>\n",
       "      <th>label</th>\n",
       "      <th>(?&lt;!\\?)\\?(?![?!])</th>\n",
       "    </tr>\n",
       "  </thead>\n",
       "  <tbody>\n",
       "    <tr>\n",
       "      <th>6</th>\n",
       "      <td>You coming to work today  E? I know it's Gay D...</td>\n",
       "      <td>1</td>\n",
       "      <td>[?]</td>\n",
       "    </tr>\n",
       "    <tr>\n",
       "      <th>13</th>\n",
       "      <td>I'm late to the emo-ball.. I'm not even dresse...</td>\n",
       "      <td>1</td>\n",
       "      <td>[?]</td>\n",
       "    </tr>\n",
       "    <tr>\n",
       "      <th>19</th>\n",
       "      <td>what do you usually wear? like to school?</td>\n",
       "      <td>0</td>\n",
       "      <td>[?, ?]</td>\n",
       "    </tr>\n",
       "    <tr>\n",
       "      <th>24</th>\n",
       "      <td>Is someone on your mind right now?</td>\n",
       "      <td>0</td>\n",
       "      <td>[?]</td>\n",
       "    </tr>\n",
       "    <tr>\n",
       "      <th>41</th>\n",
       "      <td>What do you think happens to the missing sock...</td>\n",
       "      <td>0</td>\n",
       "      <td>[?]</td>\n",
       "    </tr>\n",
       "  </tbody>\n",
       "</table>\n",
       "</div>"
      ],
      "text/plain": [
       "                                              content label (?<!\\?)\\?(?![?!])\n",
       "6   You coming to work today  E? I know it's Gay D...     1               [?]\n",
       "13  I'm late to the emo-ball.. I'm not even dresse...     1               [?]\n",
       "19          what do you usually wear? like to school?     0            [?, ?]\n",
       "24                 Is someone on your mind right now?     0               [?]\n",
       "41   What do you think happens to the missing sock...     0               [?]"
      ]
     },
     "execution_count": 13,
     "metadata": {},
     "output_type": "execute_result"
    }
   ],
   "source": [
    "regex = '(?<!\\\\?)\\\\?(?![?!])'\n",
    "data_extended = find_all_matches(X_train, y_train, regex)\n",
    "print_matching_statistics(data_extended, regex)\n",
    "data_extended.loc[data_extended[regex].notnull()].head()"
   ]
  },
  {
   "cell_type": "code",
   "execution_count": 14,
   "metadata": {
    "collapsed": false
   },
   "outputs": [
    {
     "name": "stdout",
     "output_type": "stream",
     "text": [
      "The mean of labels of matching tweets = 0.38\n",
      "The rate of matching tweets = 0.008\n",
      "p-value = 0.837\n"
     ]
    },
    {
     "data": {
      "text/html": [
       "<div>\n",
       "<table border=\"1\" class=\"dataframe\">\n",
       "  <thead>\n",
       "    <tr style=\"text-align: right;\">\n",
       "      <th></th>\n",
       "      <th>content</th>\n",
       "      <th>label</th>\n",
       "      <th>(?&lt;!\\?)\\?{2}(?![?!])</th>\n",
       "    </tr>\n",
       "  </thead>\n",
       "  <tbody>\n",
       "    <tr>\n",
       "      <th>215</th>\n",
       "      <td>Has it snowed where you are?? I miss the damn ...</td>\n",
       "      <td>1</td>\n",
       "      <td>[??]</td>\n",
       "    </tr>\n",
       "    <tr>\n",
       "      <th>269</th>\n",
       "      <td>hmmm...I had a feeling bout u! but Damn No Lab...</td>\n",
       "      <td>1</td>\n",
       "      <td>[??]</td>\n",
       "    </tr>\n",
       "    <tr>\n",
       "      <th>362</th>\n",
       "      <td>cum cloape??</td>\n",
       "      <td>0</td>\n",
       "      <td>[??]</td>\n",
       "    </tr>\n",
       "    <tr>\n",
       "      <th>430</th>\n",
       "      <td>How is the Loser episode?  Lotsa crying??</td>\n",
       "      <td>1</td>\n",
       "      <td>[??]</td>\n",
       "    </tr>\n",
       "    <tr>\n",
       "      <th>635</th>\n",
       "      <td>yeah  I did that a few months ago. How's your ...</td>\n",
       "      <td>1</td>\n",
       "      <td>[??]</td>\n",
       "    </tr>\n",
       "  </tbody>\n",
       "</table>\n",
       "</div>"
      ],
      "text/plain": [
       "                                               content label  \\\n",
       "215  Has it snowed where you are?? I miss the damn ...     1   \n",
       "269  hmmm...I had a feeling bout u! but Damn No Lab...     1   \n",
       "362                                       cum cloape??     0   \n",
       "430          How is the Loser episode?  Lotsa crying??     1   \n",
       "635  yeah  I did that a few months ago. How's your ...     1   \n",
       "\n",
       "    (?<!\\?)\\?{2}(?![?!])  \n",
       "215                 [??]  \n",
       "269                 [??]  \n",
       "362                 [??]  \n",
       "430                 [??]  \n",
       "635                 [??]  "
      ]
     },
     "execution_count": 14,
     "metadata": {},
     "output_type": "execute_result"
    }
   ],
   "source": [
    "regex = '(?<!\\\\?)\\\\?{2}(?![?!])'\n",
    "data_extended = find_all_matches(X_train, y_train, regex)\n",
    "print_matching_statistics(data_extended, regex)\n",
    "data_extended.loc[data_extended[regex].notnull()].head()"
   ]
  },
  {
   "cell_type": "code",
   "execution_count": 15,
   "metadata": {
    "collapsed": false
   },
   "outputs": [
    {
     "name": "stdout",
     "output_type": "stream",
     "text": [
      "The mean of labels of matching tweets = 0.38\n",
      "The rate of matching tweets = 0.014\n",
      "p-value = 0.700\n"
     ]
    },
    {
     "data": {
      "text/html": [
       "<div>\n",
       "<table border=\"1\" class=\"dataframe\">\n",
       "  <thead>\n",
       "    <tr style=\"text-align: right;\">\n",
       "      <th></th>\n",
       "      <th>content</th>\n",
       "      <th>label</th>\n",
       "      <th>\\?{2,}(?!!)</th>\n",
       "    </tr>\n",
       "  </thead>\n",
       "  <tbody>\n",
       "    <tr>\n",
       "      <th>172</th>\n",
       "      <td>what is the thing that annoyes you most???</td>\n",
       "      <td>0</td>\n",
       "      <td>[???]</td>\n",
       "    </tr>\n",
       "    <tr>\n",
       "      <th>215</th>\n",
       "      <td>Has it snowed where you are?? I miss the damn ...</td>\n",
       "      <td>1</td>\n",
       "      <td>[??]</td>\n",
       "    </tr>\n",
       "    <tr>\n",
       "      <th>269</th>\n",
       "      <td>hmmm...I had a feeling bout u! but Damn No Lab...</td>\n",
       "      <td>1</td>\n",
       "      <td>[??]</td>\n",
       "    </tr>\n",
       "    <tr>\n",
       "      <th>362</th>\n",
       "      <td>cum cloape??</td>\n",
       "      <td>0</td>\n",
       "      <td>[??]</td>\n",
       "    </tr>\n",
       "    <tr>\n",
       "      <th>430</th>\n",
       "      <td>How is the Loser episode?  Lotsa crying??</td>\n",
       "      <td>1</td>\n",
       "      <td>[??]</td>\n",
       "    </tr>\n",
       "  </tbody>\n",
       "</table>\n",
       "</div>"
      ],
      "text/plain": [
       "                                               content label \\?{2,}(?!!)\n",
       "172         what is the thing that annoyes you most???     0       [???]\n",
       "215  Has it snowed where you are?? I miss the damn ...     1        [??]\n",
       "269  hmmm...I had a feeling bout u! but Damn No Lab...     1        [??]\n",
       "362                                       cum cloape??     0        [??]\n",
       "430          How is the Loser episode?  Lotsa crying??     1        [??]"
      ]
     },
     "execution_count": 15,
     "metadata": {},
     "output_type": "execute_result"
    }
   ],
   "source": [
    "regex = '\\\\?{2,}(?!!)'\n",
    "data_extended = find_all_matches(X_train, y_train, regex)\n",
    "print_matching_statistics(data_extended, regex)\n",
    "data_extended.loc[data_extended[regex].notnull()].head()"
   ]
  },
  {
   "cell_type": "markdown",
   "metadata": {},
   "source": [
    "Marks ?! say nothing"
   ]
  },
  {
   "cell_type": "code",
   "execution_count": 16,
   "metadata": {
    "collapsed": false
   },
   "outputs": [
    {
     "name": "stdout",
     "output_type": "stream",
     "text": [
      "The mean of labels of matching tweets = 0.43\n",
      "The rate of matching tweets = 0.009\n",
      "p-value = 0.347\n"
     ]
    },
    {
     "data": {
      "text/html": [
       "<div>\n",
       "<table border=\"1\" class=\"dataframe\">\n",
       "  <thead>\n",
       "    <tr style=\"text-align: right;\">\n",
       "      <th></th>\n",
       "      <th>content</th>\n",
       "      <th>label</th>\n",
       "      <th>\\?+!+</th>\n",
       "    </tr>\n",
       "  </thead>\n",
       "  <tbody>\n",
       "    <tr>\n",
       "      <th>38</th>\n",
       "      <td>Im doing good thankyuh!!!Heyyy hbu?!</td>\n",
       "      <td>0</td>\n",
       "      <td>[?!]</td>\n",
       "    </tr>\n",
       "    <tr>\n",
       "      <th>194</th>\n",
       "      <td>SHUT THE FUCK UP! What?! Why does Micky Rouke ...</td>\n",
       "      <td>1</td>\n",
       "      <td>[?!]</td>\n",
       "    </tr>\n",
       "    <tr>\n",
       "      <th>526</th>\n",
       "      <td>OMG! really?! cool thats so awesome! yeah i ...</td>\n",
       "      <td>0</td>\n",
       "      <td>[?!]</td>\n",
       "    </tr>\n",
       "    <tr>\n",
       "      <th>589</th>\n",
       "      <td>WHAT THE FUCK?! WHY?! Do they have fucking bra...</td>\n",
       "      <td>1</td>\n",
       "      <td>[?!, ?!, ?!]</td>\n",
       "    </tr>\n",
       "    <tr>\n",
       "      <th>640</th>\n",
       "      <td>burritoville is dead? What the fuck?!</td>\n",
       "      <td>1</td>\n",
       "      <td>[?!]</td>\n",
       "    </tr>\n",
       "  </tbody>\n",
       "</table>\n",
       "</div>"
      ],
      "text/plain": [
       "                                               content label         \\?+!+\n",
       "38                Im doing good thankyuh!!!Heyyy hbu?!     0          [?!]\n",
       "194  SHUT THE FUCK UP! What?! Why does Micky Rouke ...     1          [?!]\n",
       "526    OMG! really?! cool thats so awesome! yeah i ...     0          [?!]\n",
       "589  WHAT THE FUCK?! WHY?! Do they have fucking bra...     1  [?!, ?!, ?!]\n",
       "640              burritoville is dead? What the fuck?!     1          [?!]"
      ]
     },
     "execution_count": 16,
     "metadata": {},
     "output_type": "execute_result"
    }
   ],
   "source": [
    "regex = '\\\\?+!+'\n",
    "data_extended = find_all_matches(X_train, y_train, regex)\n",
    "print_matching_statistics(data_extended, regex)\n",
    "data_extended.loc[data_extended[regex].notnull()].head()"
   ]
  },
  {
   "cell_type": "markdown",
   "metadata": {},
   "source": [
    "Dots are more related to aggressive tweets"
   ]
  },
  {
   "cell_type": "code",
   "execution_count": 17,
   "metadata": {
    "collapsed": false
   },
   "outputs": [
    {
     "name": "stdout",
     "output_type": "stream",
     "text": [
      "The mean of labels of matching tweets = 0.44\n",
      "The rate of matching tweets = 0.472\n",
      "p-value = 0.000\n"
     ]
    },
    {
     "data": {
      "text/html": [
       "<div>\n",
       "<table border=\"1\" class=\"dataframe\">\n",
       "  <thead>\n",
       "    <tr style=\"text-align: right;\">\n",
       "      <th></th>\n",
       "      <th>content</th>\n",
       "      <th>label</th>\n",
       "      <th>(?&lt;!\\.)\\.(?!\\.)</th>\n",
       "    </tr>\n",
       "  </thead>\n",
       "  <tbody>\n",
       "    <tr>\n",
       "      <th>0</th>\n",
       "      <td>Heh! Parcells is a bad-ass who knows how to he...</td>\n",
       "      <td>0</td>\n",
       "      <td>[., .]</td>\n",
       "    </tr>\n",
       "    <tr>\n",
       "      <th>1</th>\n",
       "      <td>Then I would be gay and I would kill myself. D...</td>\n",
       "      <td>1</td>\n",
       "      <td>[., .]</td>\n",
       "    </tr>\n",
       "    <tr>\n",
       "      <th>2</th>\n",
       "      <td>Hey  don't knock the Port+OJ until you've trie...</td>\n",
       "      <td>1</td>\n",
       "      <td>[., .]</td>\n",
       "    </tr>\n",
       "    <tr>\n",
       "      <th>4</th>\n",
       "      <td>Not yet  the woman was wanting to escape  but ...</td>\n",
       "      <td>0</td>\n",
       "      <td>[.]</td>\n",
       "    </tr>\n",
       "    <tr>\n",
       "      <th>5</th>\n",
       "      <td>damn dude. that is spot on (wrt fb v twitter)</td>\n",
       "      <td>0</td>\n",
       "      <td>[.]</td>\n",
       "    </tr>\n",
       "  </tbody>\n",
       "</table>\n",
       "</div>"
      ],
      "text/plain": [
       "                                             content label (?<!\\.)\\.(?!\\.)\n",
       "0  Heh! Parcells is a bad-ass who knows how to he...     0          [., .]\n",
       "1  Then I would be gay and I would kill myself. D...     1          [., .]\n",
       "2  Hey  don't knock the Port+OJ until you've trie...     1          [., .]\n",
       "4  Not yet  the woman was wanting to escape  but ...     0             [.]\n",
       "5      damn dude. that is spot on (wrt fb v twitter)     0             [.]"
      ]
     },
     "execution_count": 17,
     "metadata": {},
     "output_type": "execute_result"
    }
   ],
   "source": [
    "regex = '(?<!\\\\.)\\\\.(?!\\\\.)'\n",
    "data_extended = find_all_matches(X_train, y_train, regex)\n",
    "print_matching_statistics(data_extended, regex)\n",
    "data_extended.loc[data_extended[regex].notnull()].head()"
   ]
  },
  {
   "cell_type": "code",
   "execution_count": 18,
   "metadata": {
    "collapsed": false
   },
   "outputs": [
    {
     "name": "stdout",
     "output_type": "stream",
     "text": [
      "The mean of labels of matching tweets = 0.37\n",
      "The rate of matching tweets = 0.039\n",
      "p-value = 0.438\n"
     ]
    },
    {
     "data": {
      "text/html": [
       "<div>\n",
       "<table border=\"1\" class=\"dataframe\">\n",
       "  <thead>\n",
       "    <tr style=\"text-align: right;\">\n",
       "      <th></th>\n",
       "      <th>content</th>\n",
       "      <th>label</th>\n",
       "      <th>(?&lt;!\\.)\\.{2}(?!\\.)</th>\n",
       "    </tr>\n",
       "  </thead>\n",
       "  <tbody>\n",
       "    <tr>\n",
       "      <th>13</th>\n",
       "      <td>I'm late to the emo-ball.. I'm not even dresse...</td>\n",
       "      <td>1</td>\n",
       "      <td>[..]</td>\n",
       "    </tr>\n",
       "    <tr>\n",
       "      <th>18</th>\n",
       "      <td>Lol I say gay all the time in the gay way and ...</td>\n",
       "      <td>0</td>\n",
       "      <td>[.., ..]</td>\n",
       "    </tr>\n",
       "    <tr>\n",
       "      <th>46</th>\n",
       "      <td>I'm more into shows like Dave Chapelle...I fuc...</td>\n",
       "      <td>1</td>\n",
       "      <td>[..]</td>\n",
       "    </tr>\n",
       "    <tr>\n",
       "      <th>74</th>\n",
       "      <td>you got that right! People stealing others' ge...</td>\n",
       "      <td>1</td>\n",
       "      <td>[..]</td>\n",
       "    </tr>\n",
       "    <tr>\n",
       "      <th>78</th>\n",
       "      <td>Do you have a specific work-out routine?..if ...</td>\n",
       "      <td>0</td>\n",
       "      <td>[..]</td>\n",
       "    </tr>\n",
       "  </tbody>\n",
       "</table>\n",
       "</div>"
      ],
      "text/plain": [
       "                                              content label (?<!\\.)\\.{2}(?!\\.)\n",
       "13  I'm late to the emo-ball.. I'm not even dresse...     1               [..]\n",
       "18  Lol I say gay all the time in the gay way and ...     0           [.., ..]\n",
       "46  I'm more into shows like Dave Chapelle...I fuc...     1               [..]\n",
       "74  you got that right! People stealing others' ge...     1               [..]\n",
       "78   Do you have a specific work-out routine?..if ...     0               [..]"
      ]
     },
     "execution_count": 18,
     "metadata": {},
     "output_type": "execute_result"
    }
   ],
   "source": [
    "regex = '(?<!\\\\.)\\\\.{2}(?!\\\\.)'\n",
    "data_extended = find_all_matches(X_train, y_train, regex)\n",
    "print_matching_statistics(data_extended, regex)\n",
    "data_extended.loc[data_extended[regex].notnull()].head()"
   ]
  },
  {
   "cell_type": "code",
   "execution_count": 19,
   "metadata": {
    "collapsed": false
   },
   "outputs": [
    {
     "name": "stdout",
     "output_type": "stream",
     "text": [
      "The mean of labels of matching tweets = 0.46\n",
      "The rate of matching tweets = 0.158\n",
      "p-value = 0.000\n"
     ]
    },
    {
     "data": {
      "text/html": [
       "<div>\n",
       "<table border=\"1\" class=\"dataframe\">\n",
       "  <thead>\n",
       "    <tr style=\"text-align: right;\">\n",
       "      <th></th>\n",
       "      <th>content</th>\n",
       "      <th>label</th>\n",
       "      <th>\\.{2,}</th>\n",
       "    </tr>\n",
       "  </thead>\n",
       "  <tbody>\n",
       "    <tr>\n",
       "      <th>8</th>\n",
       "      <td>i hate hate hate it with a passion!! lol...i k...</td>\n",
       "      <td>1</td>\n",
       "      <td>[...]</td>\n",
       "    </tr>\n",
       "    <tr>\n",
       "      <th>13</th>\n",
       "      <td>I'm late to the emo-ball.. I'm not even dresse...</td>\n",
       "      <td>1</td>\n",
       "      <td>[.., ...]</td>\n",
       "    </tr>\n",
       "    <tr>\n",
       "      <th>18</th>\n",
       "      <td>Lol I say gay all the time in the gay way and ...</td>\n",
       "      <td>0</td>\n",
       "      <td>[.., ..]</td>\n",
       "    </tr>\n",
       "    <tr>\n",
       "      <th>27</th>\n",
       "      <td>Girl...you good. Lol at hearing your own name....</td>\n",
       "      <td>0</td>\n",
       "      <td>[..., ...]</td>\n",
       "    </tr>\n",
       "    <tr>\n",
       "      <th>46</th>\n",
       "      <td>I'm more into shows like Dave Chapelle...I fuc...</td>\n",
       "      <td>1</td>\n",
       "      <td>[..., ..]</td>\n",
       "    </tr>\n",
       "  </tbody>\n",
       "</table>\n",
       "</div>"
      ],
      "text/plain": [
       "                                              content label      \\.{2,}\n",
       "8   i hate hate hate it with a passion!! lol...i k...     1       [...]\n",
       "13  I'm late to the emo-ball.. I'm not even dresse...     1   [.., ...]\n",
       "18  Lol I say gay all the time in the gay way and ...     0    [.., ..]\n",
       "27  Girl...you good. Lol at hearing your own name....     0  [..., ...]\n",
       "46  I'm more into shows like Dave Chapelle...I fuc...     1   [..., ..]"
      ]
     },
     "execution_count": 19,
     "metadata": {},
     "output_type": "execute_result"
    }
   ],
   "source": [
    "regex = '\\\\.{2,}'\n",
    "data_extended = find_all_matches(X_train, y_train, regex)\n",
    "print_matching_statistics(data_extended, regex)\n",
    "data_extended.loc[data_extended[regex].notnull()].head()"
   ]
  },
  {
   "cell_type": "markdown",
   "metadata": {},
   "source": [
    "Emoticons (happy faces and hearts) are more related to nonaggressive tweets"
   ]
  },
  {
   "cell_type": "code",
   "execution_count": 20,
   "metadata": {
    "collapsed": false
   },
   "outputs": [
    {
     "name": "stdout",
     "output_type": "stream",
     "text": [
      "The mean of labels of matching tweets = 0.35\n",
      "The rate of matching tweets = 0.149\n",
      "p-value = 0.000\n"
     ]
    },
    {
     "data": {
      "text/html": [
       "<div>\n",
       "<table border=\"1\" class=\"dataframe\">\n",
       "  <thead>\n",
       "    <tr style=\"text-align: right;\">\n",
       "      <th></th>\n",
       "      <th>content</th>\n",
       "      <th>label</th>\n",
       "      <th>[:;=8x]'?-?[)D\\]*3/(x#|\\[Pp{]</th>\n",
       "    </tr>\n",
       "  </thead>\n",
       "  <tbody>\n",
       "    <tr>\n",
       "      <th>2</th>\n",
       "      <td>Hey  don't knock the Port+OJ until you've trie...</td>\n",
       "      <td>1</td>\n",
       "      <td>[;)]</td>\n",
       "    </tr>\n",
       "    <tr>\n",
       "      <th>3</th>\n",
       "      <td>Famous! Duhh Haha that means I would be rich...</td>\n",
       "      <td>0</td>\n",
       "      <td>[;D]</td>\n",
       "    </tr>\n",
       "    <tr>\n",
       "      <th>11</th>\n",
       "      <td>haha yeah okay. Sounds good :] Sleep well.</td>\n",
       "      <td>0</td>\n",
       "      <td>[:]]</td>\n",
       "    </tr>\n",
       "    <tr>\n",
       "      <th>22</th>\n",
       "      <td>Sorry about the bday thing -- that sucks. :(</td>\n",
       "      <td>0</td>\n",
       "      <td>[:(]</td>\n",
       "    </tr>\n",
       "    <tr>\n",
       "      <th>31</th>\n",
       "      <td>LOL damn. great article though. too bad it see...</td>\n",
       "      <td>0</td>\n",
       "      <td>[:-)]</td>\n",
       "    </tr>\n",
       "  </tbody>\n",
       "</table>\n",
       "</div>"
      ],
      "text/plain": [
       "                                              content label  \\\n",
       "2   Hey  don't knock the Port+OJ until you've trie...     1   \n",
       "3     Famous! Duhh Haha that means I would be rich...     0   \n",
       "11         haha yeah okay. Sounds good :] Sleep well.     0   \n",
       "22       Sorry about the bday thing -- that sucks. :(     0   \n",
       "31  LOL damn. great article though. too bad it see...     0   \n",
       "\n",
       "   [:;=8x]'?-?[)D\\]*3/(x#|\\[Pp{]  \n",
       "2                           [;)]  \n",
       "3                           [;D]  \n",
       "11                          [:]]  \n",
       "22                          [:(]  \n",
       "31                         [:-)]  "
      ]
     },
     "execution_count": 20,
     "metadata": {},
     "output_type": "execute_result"
    }
   ],
   "source": [
    "regex = '[:;=8x]\\'?-?[)D\\]*3/(x#|\\[Pp{]'\n",
    "data_extended = find_all_matches(X_train, y_train, regex)\n",
    "print_matching_statistics(data_extended, regex)\n",
    "data_extended.loc[data_extended[regex].notnull()].head()"
   ]
  },
  {
   "cell_type": "code",
   "execution_count": 21,
   "metadata": {
    "collapsed": false
   },
   "outputs": [
    {
     "name": "stdout",
     "output_type": "stream",
     "text": [
      "The mean of labels of matching tweets = 0.27\n",
      "The rate of matching tweets = 0.090\n",
      "p-value = 0.000\n"
     ]
    },
    {
     "data": {
      "text/html": [
       "<div>\n",
       "<table border=\"1\" class=\"dataframe\">\n",
       "  <thead>\n",
       "    <tr style=\"text-align: right;\">\n",
       "      <th></th>\n",
       "      <th>content</th>\n",
       "      <th>label</th>\n",
       "      <th>[:;=8x]-?[)D\\]*]</th>\n",
       "    </tr>\n",
       "  </thead>\n",
       "  <tbody>\n",
       "    <tr>\n",
       "      <th>2</th>\n",
       "      <td>Hey  don't knock the Port+OJ until you've trie...</td>\n",
       "      <td>1</td>\n",
       "      <td>[;)]</td>\n",
       "    </tr>\n",
       "    <tr>\n",
       "      <th>3</th>\n",
       "      <td>Famous! Duhh Haha that means I would be rich...</td>\n",
       "      <td>0</td>\n",
       "      <td>[;D]</td>\n",
       "    </tr>\n",
       "    <tr>\n",
       "      <th>11</th>\n",
       "      <td>haha yeah okay. Sounds good :] Sleep well.</td>\n",
       "      <td>0</td>\n",
       "      <td>[:]]</td>\n",
       "    </tr>\n",
       "    <tr>\n",
       "      <th>31</th>\n",
       "      <td>LOL damn. great article though. too bad it see...</td>\n",
       "      <td>0</td>\n",
       "      <td>[:-)]</td>\n",
       "    </tr>\n",
       "    <tr>\n",
       "      <th>61</th>\n",
       "      <td>yo yo. so  i emaled you about the 30th you stu...</td>\n",
       "      <td>0</td>\n",
       "      <td>[:-)]</td>\n",
       "    </tr>\n",
       "  </tbody>\n",
       "</table>\n",
       "</div>"
      ],
      "text/plain": [
       "                                              content label [:;=8x]-?[)D\\]*]\n",
       "2   Hey  don't knock the Port+OJ until you've trie...     1             [;)]\n",
       "3     Famous! Duhh Haha that means I would be rich...     0             [;D]\n",
       "11         haha yeah okay. Sounds good :] Sleep well.     0             [:]]\n",
       "31  LOL damn. great article though. too bad it see...     0            [:-)]\n",
       "61  yo yo. so  i emaled you about the 30th you stu...     0            [:-)]"
      ]
     },
     "execution_count": 21,
     "metadata": {},
     "output_type": "execute_result"
    }
   ],
   "source": [
    "# happy face\n",
    "regex = '[:;=8x]-?[)D\\\\]*]'\n",
    "data_extended = find_all_matches(X_train, y_train, regex)\n",
    "print_matching_statistics(data_extended, regex)\n",
    "data_extended.loc[data_extended[regex].notnull()].head()"
   ]
  },
  {
   "cell_type": "code",
   "execution_count": 22,
   "metadata": {
    "collapsed": false
   },
   "outputs": [
    {
     "data": {
      "text/html": [
       "<div>\n",
       "<table border=\"1\" class=\"dataframe\">\n",
       "  <thead>\n",
       "    <tr style=\"text-align: right;\">\n",
       "      <th></th>\n",
       "      <th>content</th>\n",
       "      <th>label</th>\n",
       "      <th>[:;=8x]-?[)D\\]*]</th>\n",
       "      <th>rate</th>\n",
       "    </tr>\n",
       "  </thead>\n",
       "  <tbody>\n",
       "    <tr>\n",
       "      <th>2</th>\n",
       "      <td>Hey  don't knock the Port+OJ until you've trie...</td>\n",
       "      <td>1</td>\n",
       "      <td>[;)]</td>\n",
       "      <td>0.043478</td>\n",
       "    </tr>\n",
       "    <tr>\n",
       "      <th>3</th>\n",
       "      <td>Famous! Duhh Haha that means I would be rich...</td>\n",
       "      <td>0</td>\n",
       "      <td>[;D]</td>\n",
       "      <td>0.058824</td>\n",
       "    </tr>\n",
       "    <tr>\n",
       "      <th>11</th>\n",
       "      <td>haha yeah okay. Sounds good :] Sleep well.</td>\n",
       "      <td>0</td>\n",
       "      <td>[:]]</td>\n",
       "      <td>0.142857</td>\n",
       "    </tr>\n",
       "    <tr>\n",
       "      <th>31</th>\n",
       "      <td>LOL damn. great article though. too bad it see...</td>\n",
       "      <td>0</td>\n",
       "      <td>[:-)]</td>\n",
       "      <td>0.071429</td>\n",
       "    </tr>\n",
       "    <tr>\n",
       "      <th>61</th>\n",
       "      <td>yo yo. so  i emaled you about the 30th you stu...</td>\n",
       "      <td>0</td>\n",
       "      <td>[:-)]</td>\n",
       "      <td>0.052632</td>\n",
       "    </tr>\n",
       "  </tbody>\n",
       "</table>\n",
       "</div>"
      ],
      "text/plain": [
       "                                              content label [:;=8x]-?[)D\\]*]  \\\n",
       "2   Hey  don't knock the Port+OJ until you've trie...     1             [;)]   \n",
       "3     Famous! Duhh Haha that means I would be rich...     0             [;D]   \n",
       "11         haha yeah okay. Sounds good :] Sleep well.     0             [:]]   \n",
       "31  LOL damn. great article though. too bad it see...     0            [:-)]   \n",
       "61  yo yo. so  i emaled you about the 30th you stu...     0            [:-)]   \n",
       "\n",
       "        rate  \n",
       "2   0.043478  \n",
       "3   0.058824  \n",
       "11  0.142857  \n",
       "31  0.071429  \n",
       "61  0.052632  "
      ]
     },
     "execution_count": 22,
     "metadata": {},
     "output_type": "execute_result"
    }
   ],
   "source": [
    "# rate of happy face\n",
    "regex = '[:;=8x]-?[)D\\\\]*]'\n",
    "matching_words_rate = compute_matching_words_rate(regex, X_train)\n",
    "data_extended['rate'] = matching_words_rate\n",
    "\n",
    "matching_data_extended = data_extended.loc[data_extended.iloc[:, 2].notnull()]\n",
    "matching_data_extended.head()"
   ]
  },
  {
   "cell_type": "code",
   "execution_count": 23,
   "metadata": {
    "collapsed": false
   },
   "outputs": [
    {
     "name": "stdout",
     "output_type": "stream",
     "text": [
      "0.181\n",
      "0.339\n"
     ]
    }
   ],
   "source": [
    "print('%.3f' % matching_data_extended[matching_data_extended.rate > 0.1].label.mean())\n",
    "print('%.3f' % matching_data_extended[matching_data_extended.rate < 0.1].label.mean())"
   ]
  },
  {
   "cell_type": "code",
   "execution_count": 24,
   "metadata": {
    "collapsed": false
   },
   "outputs": [
    {
     "name": "stdout",
     "output_type": "stream",
     "text": [
      "The mean of labels of matching tweets = 0.41\n",
      "The rate of matching tweets = 0.020\n",
      "p-value = 0.478\n"
     ]
    },
    {
     "data": {
      "text/html": [
       "<div>\n",
       "<table border=\"1\" class=\"dataframe\">\n",
       "  <thead>\n",
       "    <tr style=\"text-align: right;\">\n",
       "      <th></th>\n",
       "      <th>content</th>\n",
       "      <th>label</th>\n",
       "      <th>[:;=8x]-?[pP]</th>\n",
       "    </tr>\n",
       "  </thead>\n",
       "  <tbody>\n",
       "    <tr>\n",
       "      <th>185</th>\n",
       "      <td>crutches suck big time. i hate them lol. hope ...</td>\n",
       "      <td>1</td>\n",
       "      <td>[:P]</td>\n",
       "    </tr>\n",
       "    <tr>\n",
       "      <th>216</th>\n",
       "      <td>Once I reach law school I may call on you for ...</td>\n",
       "      <td>0</td>\n",
       "      <td>[xp]</td>\n",
       "    </tr>\n",
       "    <tr>\n",
       "      <th>217</th>\n",
       "      <td>maybe :P</td>\n",
       "      <td>0</td>\n",
       "      <td>[:P]</td>\n",
       "    </tr>\n",
       "    <tr>\n",
       "      <th>259</th>\n",
       "      <td>hour meetings foe a job you're failing at  bec...</td>\n",
       "      <td>1</td>\n",
       "      <td>[xp]</td>\n",
       "    </tr>\n",
       "    <tr>\n",
       "      <th>306</th>\n",
       "      <td>Lulz. OK. Internet Explorer sucks.</td>\n",
       "      <td>1</td>\n",
       "      <td>[xp]</td>\n",
       "    </tr>\n",
       "  </tbody>\n",
       "</table>\n",
       "</div>"
      ],
      "text/plain": [
       "                                               content label [:;=8x]-?[pP]\n",
       "185  crutches suck big time. i hate them lol. hope ...     1          [:P]\n",
       "216  Once I reach law school I may call on you for ...     0          [xp]\n",
       "217                                           maybe :P     0          [:P]\n",
       "259  hour meetings foe a job you're failing at  bec...     1          [xp]\n",
       "306                 Lulz. OK. Internet Explorer sucks.     1          [xp]"
      ]
     },
     "execution_count": 24,
     "metadata": {},
     "output_type": "execute_result"
    }
   ],
   "source": [
    "regex = '[:;=8x]-?[pP]'\n",
    "data_extended = find_all_matches(X_train, y_train, regex)\n",
    "print_matching_statistics(data_extended, regex)\n",
    "data_extended.loc[data_extended[regex].notnull()].head()"
   ]
  },
  {
   "cell_type": "code",
   "execution_count": 25,
   "metadata": {
    "collapsed": false
   },
   "outputs": [
    {
     "name": "stdout",
     "output_type": "stream",
     "text": [
      "The mean of labels of matching tweets = 0.44\n",
      "The rate of matching tweets = 0.039\n",
      "p-value = 0.025\n"
     ]
    },
    {
     "data": {
      "text/html": [
       "<div>\n",
       "<table border=\"1\" class=\"dataframe\">\n",
       "  <thead>\n",
       "    <tr style=\"text-align: right;\">\n",
       "      <th></th>\n",
       "      <th>content</th>\n",
       "      <th>label</th>\n",
       "      <th>[:;=8x]'?-?[/(x#|\\[{]</th>\n",
       "    </tr>\n",
       "  </thead>\n",
       "  <tbody>\n",
       "    <tr>\n",
       "      <th>22</th>\n",
       "      <td>Sorry about the bday thing -- that sucks. :(</td>\n",
       "      <td>0</td>\n",
       "      <td>[:(]</td>\n",
       "    </tr>\n",
       "    <tr>\n",
       "      <th>36</th>\n",
       "      <td>awww man sorry to hear you got laid off damn e...</td>\n",
       "      <td>0</td>\n",
       "      <td>[:(]</td>\n",
       "    </tr>\n",
       "    <tr>\n",
       "      <th>72</th>\n",
       "      <td>that sucks *hugs* :(</td>\n",
       "      <td>1</td>\n",
       "      <td>[:(]</td>\n",
       "    </tr>\n",
       "    <tr>\n",
       "      <th>145</th>\n",
       "      <td>http://twitpic.com/xinl - I hate him so much. ...</td>\n",
       "      <td>0</td>\n",
       "      <td>[:/]</td>\n",
       "    </tr>\n",
       "    <tr>\n",
       "      <th>166</th>\n",
       "      <td>well i have other people following me outside ...</td>\n",
       "      <td>0</td>\n",
       "      <td>[:-(]</td>\n",
       "    </tr>\n",
       "  </tbody>\n",
       "</table>\n",
       "</div>"
      ],
      "text/plain": [
       "                                               content label  \\\n",
       "22        Sorry about the bday thing -- that sucks. :(     0   \n",
       "36   awww man sorry to hear you got laid off damn e...     0   \n",
       "72                                that sucks *hugs* :(     1   \n",
       "145  http://twitpic.com/xinl - I hate him so much. ...     0   \n",
       "166  well i have other people following me outside ...     0   \n",
       "\n",
       "    [:;=8x]'?-?[/(x#|\\[{]  \n",
       "22                   [:(]  \n",
       "36                   [:(]  \n",
       "72                   [:(]  \n",
       "145                  [:/]  \n",
       "166                 [:-(]  "
      ]
     },
     "execution_count": 25,
     "metadata": {},
     "output_type": "execute_result"
    }
   ],
   "source": [
    "# sad face\n",
    "regex = '[:;=8x]\\'?-?[/(x#|\\\\[{]'\n",
    "data_extended = find_all_matches(X_train, y_train, regex)\n",
    "print_matching_statistics(data_extended, regex)\n",
    "data_extended.loc[data_extended[regex].notnull()].head()"
   ]
  },
  {
   "cell_type": "code",
   "execution_count": 26,
   "metadata": {
    "collapsed": false
   },
   "outputs": [
    {
     "name": "stdout",
     "output_type": "stream",
     "text": [
      "The mean of labels of matching tweets = 0.24\n",
      "The rate of matching tweets = 0.013\n",
      "p-value = 0.000\n"
     ]
    },
    {
     "data": {
      "text/html": [
       "<div>\n",
       "<table border=\"1\" class=\"dataframe\">\n",
       "  <thead>\n",
       "    <tr style=\"text-align: right;\">\n",
       "      <th></th>\n",
       "      <th>content</th>\n",
       "      <th>label</th>\n",
       "      <th>&lt;3+|&amp;lt;3</th>\n",
       "    </tr>\n",
       "  </thead>\n",
       "  <tbody>\n",
       "    <tr>\n",
       "      <th>45</th>\n",
       "      <td>Twitter Family &lt;333</td>\n",
       "      <td>0</td>\n",
       "      <td>[&lt;333]</td>\n",
       "    </tr>\n",
       "    <tr>\n",
       "      <th>89</th>\n",
       "      <td>i lovee joiee&lt;3</td>\n",
       "      <td>0</td>\n",
       "      <td>[&lt;3]</td>\n",
       "    </tr>\n",
       "    <tr>\n",
       "      <th>140</th>\n",
       "      <td>uhm i think i love me some freaking joie thas...</td>\n",
       "      <td>0</td>\n",
       "      <td>[&lt;3]</td>\n",
       "    </tr>\n",
       "    <tr>\n",
       "      <th>394</th>\n",
       "      <td>&amp;lt;3 ::huggles:: nyaaaa~ its snowing T_T i ha...</td>\n",
       "      <td>0</td>\n",
       "      <td>[&amp;lt;3]</td>\n",
       "    </tr>\n",
       "    <tr>\n",
       "      <th>464</th>\n",
       "      <td>Whosz that niggaaa ? Lol yes i do &lt;3</td>\n",
       "      <td>0</td>\n",
       "      <td>[&lt;3]</td>\n",
       "    </tr>\n",
       "  </tbody>\n",
       "</table>\n",
       "</div>"
      ],
      "text/plain": [
       "                                               content label <3+|&lt;3\n",
       "45                                 Twitter Family <333     0    [<333]\n",
       "89                                     i lovee joiee<3     0      [<3]\n",
       "140   uhm i think i love me some freaking joie thas...     0      [<3]\n",
       "394  &lt;3 ::huggles:: nyaaaa~ its snowing T_T i ha...     0   [&lt;3]\n",
       "464               Whosz that niggaaa ? Lol yes i do <3     0      [<3]"
      ]
     },
     "execution_count": 26,
     "metadata": {},
     "output_type": "execute_result"
    }
   ],
   "source": [
    "# heart\n",
    "regex = '<3+|&lt;3'\n",
    "data_extended = find_all_matches(X_train, y_train, regex)\n",
    "print_matching_statistics(data_extended, regex)\n",
    "data_extended.loc[data_extended[regex].notnull()].head()"
   ]
  },
  {
   "cell_type": "markdown",
   "metadata": {},
   "source": [
    "Quotation marks are more related to aggressive tweets"
   ]
  },
  {
   "cell_type": "code",
   "execution_count": 27,
   "metadata": {
    "collapsed": false
   },
   "outputs": [
    {
     "name": "stdout",
     "output_type": "stream",
     "text": [
      "The mean of labels of matching tweets = 0.49\n",
      "The rate of matching tweets = 0.039\n",
      "p-value = 0.000\n"
     ]
    },
    {
     "data": {
      "text/html": [
       "<div>\n",
       "<table border=\"1\" class=\"dataframe\">\n",
       "  <thead>\n",
       "    <tr style=\"text-align: right;\">\n",
       "      <th></th>\n",
       "      <th>content</th>\n",
       "      <th>label</th>\n",
       "      <th>(\"|&amp;quot;).+(\"|&amp;quot;)</th>\n",
       "    </tr>\n",
       "  </thead>\n",
       "  <tbody>\n",
       "    <tr>\n",
       "      <th>66</th>\n",
       "      <td>have you ever had a &amp;quot;Summer Love&amp;quot;?</td>\n",
       "      <td>0</td>\n",
       "      <td>[(&amp;quot;, &amp;quot;)]</td>\n",
       "    </tr>\n",
       "    <tr>\n",
       "      <th>70</th>\n",
       "      <td>i call it \"hey-dumb-fuck-guys-stop-trying-so-h...</td>\n",
       "      <td>1</td>\n",
       "      <td>[(\", \")]</td>\n",
       "    </tr>\n",
       "    <tr>\n",
       "      <th>108</th>\n",
       "      <td>Trying. Fuck. It was due \"yesterday\" and that ...</td>\n",
       "      <td>0</td>\n",
       "      <td>[(\", \")]</td>\n",
       "    </tr>\n",
       "    <tr>\n",
       "      <th>132</th>\n",
       "      <td>What's the big deal? I do that all the time. O...</td>\n",
       "      <td>0</td>\n",
       "      <td>[(\", \")]</td>\n",
       "    </tr>\n",
       "    <tr>\n",
       "      <th>138</th>\n",
       "      <td>\"hey've just proved how fucking irrelevant the...</td>\n",
       "      <td>1</td>\n",
       "      <td>[(\", \")]</td>\n",
       "    </tr>\n",
       "  </tbody>\n",
       "</table>\n",
       "</div>"
      ],
      "text/plain": [
       "                                               content label  \\\n",
       "66        have you ever had a &quot;Summer Love&quot;?     0   \n",
       "70   i call it \"hey-dumb-fuck-guys-stop-trying-so-h...     1   \n",
       "108  Trying. Fuck. It was due \"yesterday\" and that ...     0   \n",
       "132  What's the big deal? I do that all the time. O...     0   \n",
       "138  \"hey've just proved how fucking irrelevant the...     1   \n",
       "\n",
       "    (\"|&quot;).+(\"|&quot;)  \n",
       "66      [(&quot;, &quot;)]  \n",
       "70                [(\", \")]  \n",
       "108               [(\", \")]  \n",
       "132               [(\", \")]  \n",
       "138               [(\", \")]  "
      ]
     },
     "execution_count": 27,
     "metadata": {},
     "output_type": "execute_result"
    }
   ],
   "source": [
    "regex = '(\"|&quot;).+(\"|&quot;)'\n",
    "data_extended = find_all_matches(X_train, y_train, regex)\n",
    "print_matching_statistics(data_extended, regex)\n",
    "data_extended.loc[data_extended[regex].notnull()].head()"
   ]
  },
  {
   "cell_type": "code",
   "execution_count": 28,
   "metadata": {
    "collapsed": false
   },
   "outputs": [
    {
     "name": "stdout",
     "output_type": "stream",
     "text": [
      "The mean of labels of matching tweets = 0.49\n",
      "The rate of matching tweets = 0.042\n",
      "p-value = 0.000\n"
     ]
    },
    {
     "data": {
      "text/html": [
       "<div>\n",
       "<table border=\"1\" class=\"dataframe\">\n",
       "  <thead>\n",
       "    <tr style=\"text-align: right;\">\n",
       "      <th></th>\n",
       "      <th>content</th>\n",
       "      <th>label</th>\n",
       "      <th>(\"|&amp;quot;)</th>\n",
       "    </tr>\n",
       "  </thead>\n",
       "  <tbody>\n",
       "    <tr>\n",
       "      <th>30</th>\n",
       "      <td>i don't know how to pronounce it  but it sound...</td>\n",
       "      <td>1</td>\n",
       "      <td>[\"]</td>\n",
       "    </tr>\n",
       "    <tr>\n",
       "      <th>66</th>\n",
       "      <td>have you ever had a &amp;quot;Summer Love&amp;quot;?</td>\n",
       "      <td>0</td>\n",
       "      <td>[&amp;quot;, &amp;quot;]</td>\n",
       "    </tr>\n",
       "    <tr>\n",
       "      <th>70</th>\n",
       "      <td>i call it \"hey-dumb-fuck-guys-stop-trying-so-h...</td>\n",
       "      <td>1</td>\n",
       "      <td>[\", \"]</td>\n",
       "    </tr>\n",
       "    <tr>\n",
       "      <th>108</th>\n",
       "      <td>Trying. Fuck. It was due \"yesterday\" and that ...</td>\n",
       "      <td>0</td>\n",
       "      <td>[\", \"]</td>\n",
       "    </tr>\n",
       "    <tr>\n",
       "      <th>132</th>\n",
       "      <td>What's the big deal? I do that all the time. O...</td>\n",
       "      <td>0</td>\n",
       "      <td>[\", \"]</td>\n",
       "    </tr>\n",
       "  </tbody>\n",
       "</table>\n",
       "</div>"
      ],
      "text/plain": [
       "                                               content label        (\"|&quot;)\n",
       "30   i don't know how to pronounce it  but it sound...     1               [\"]\n",
       "66        have you ever had a &quot;Summer Love&quot;?     0  [&quot;, &quot;]\n",
       "70   i call it \"hey-dumb-fuck-guys-stop-trying-so-h...     1            [\", \"]\n",
       "108  Trying. Fuck. It was due \"yesterday\" and that ...     0            [\", \"]\n",
       "132  What's the big deal? I do that all the time. O...     0            [\", \"]"
      ]
     },
     "execution_count": 28,
     "metadata": {},
     "output_type": "execute_result"
    }
   ],
   "source": [
    "regex = '(\"|&quot;)'\n",
    "data_extended = find_all_matches(X_train, y_train, regex)\n",
    "print_matching_statistics(data_extended, regex)\n",
    "data_extended.loc[data_extended[regex].notnull()].head()"
   ]
  },
  {
   "cell_type": "code",
   "execution_count": 29,
   "metadata": {
    "collapsed": false
   },
   "outputs": [
    {
     "data": {
      "text/plain": [
       "['``', 'test', \"''\"]"
      ]
     },
     "execution_count": 29,
     "metadata": {},
     "output_type": "execute_result"
    }
   ],
   "source": [
    "nltk.word_tokenize('\"test\"')"
   ]
  },
  {
   "cell_type": "markdown",
   "metadata": {},
   "source": [
    "Marks \\# are more related to aggressive tweets"
   ]
  },
  {
   "cell_type": "code",
   "execution_count": 30,
   "metadata": {
    "collapsed": false
   },
   "outputs": [
    {
     "name": "stdout",
     "output_type": "stream",
     "text": [
      "The mean of labels of matching tweets = 0.57\n",
      "The rate of matching tweets = 0.008\n",
      "p-value = 0.000\n"
     ]
    },
    {
     "data": {
      "text/html": [
       "<div>\n",
       "<table border=\"1\" class=\"dataframe\">\n",
       "  <thead>\n",
       "    <tr style=\"text-align: right;\">\n",
       "      <th></th>\n",
       "      <th>content</th>\n",
       "      <th>label</th>\n",
       "      <th>(?&lt;!&amp;)#</th>\n",
       "    </tr>\n",
       "  </thead>\n",
       "  <tbody>\n",
       "    <tr>\n",
       "      <th>173</th>\n",
       "      <td>I nominate @PhillyD for a Shorty Award in #ent...</td>\n",
       "      <td>1</td>\n",
       "      <td>[#]</td>\n",
       "    </tr>\n",
       "    <tr>\n",
       "      <th>194</th>\n",
       "      <td>SHUT THE FUCK UP! What?! Why does Micky Rouke ...</td>\n",
       "      <td>1</td>\n",
       "      <td>[#]</td>\n",
       "    </tr>\n",
       "    <tr>\n",
       "      <th>537</th>\n",
       "      <td>I nominate @yiyinglu for a Shorty Award in #de...</td>\n",
       "      <td>1</td>\n",
       "      <td>[#]</td>\n",
       "    </tr>\n",
       "    <tr>\n",
       "      <th>563</th>\n",
       "      <td>if gov is going to make it \"uncomfortable\" to ...</td>\n",
       "      <td>1</td>\n",
       "      <td>[#]</td>\n",
       "    </tr>\n",
       "    <tr>\n",
       "      <th>706</th>\n",
       "      <td>#NAME?</td>\n",
       "      <td>0</td>\n",
       "      <td>[#]</td>\n",
       "    </tr>\n",
       "  </tbody>\n",
       "</table>\n",
       "</div>"
      ],
      "text/plain": [
       "                                               content label (?<!&)#\n",
       "173  I nominate @PhillyD for a Shorty Award in #ent...     1     [#]\n",
       "194  SHUT THE FUCK UP! What?! Why does Micky Rouke ...     1     [#]\n",
       "537  I nominate @yiyinglu for a Shorty Award in #de...     1     [#]\n",
       "563  if gov is going to make it \"uncomfortable\" to ...     1     [#]\n",
       "706                                             #NAME?     0     [#]"
      ]
     },
     "execution_count": 30,
     "metadata": {},
     "output_type": "execute_result"
    }
   ],
   "source": [
    "regex = '(?<!&)#'\n",
    "data_extended = find_all_matches(X_train, y_train, regex)\n",
    "print_matching_statistics(data_extended, regex)\n",
    "data_extended.loc[data_extended[regex].notnull()].head()"
   ]
  },
  {
   "cell_type": "markdown",
   "metadata": {},
   "source": [
    "Marks @ are more related to aggressive tweets"
   ]
  },
  {
   "cell_type": "code",
   "execution_count": 31,
   "metadata": {
    "collapsed": false
   },
   "outputs": [
    {
     "name": "stdout",
     "output_type": "stream",
     "text": [
      "The mean of labels of matching tweets = 0.52\n",
      "The rate of matching tweets = 0.031\n",
      "p-value = 0.000\n"
     ]
    },
    {
     "data": {
      "text/html": [
       "<div>\n",
       "<table border=\"1\" class=\"dataframe\">\n",
       "  <thead>\n",
       "    <tr style=\"text-align: right;\">\n",
       "      <th></th>\n",
       "      <th>content</th>\n",
       "      <th>label</th>\n",
       "      <th>@</th>\n",
       "    </tr>\n",
       "  </thead>\n",
       "  <tbody>\n",
       "    <tr>\n",
       "      <th>49</th>\n",
       "      <td>@mekdot yo...heroes sucks!!! I loved season 1 ...</td>\n",
       "      <td>1</td>\n",
       "      <td>[@]</td>\n",
       "    </tr>\n",
       "    <tr>\n",
       "      <th>77</th>\n",
       "      <td>Y'know  @QueenofSpain doesn't hate me  so I do...</td>\n",
       "      <td>0</td>\n",
       "      <td>[@]</td>\n",
       "    </tr>\n",
       "    <tr>\n",
       "      <th>115</th>\n",
       "      <td>Amen.  Thrilled to see Brad Sucks on Rock Band...</td>\n",
       "      <td>1</td>\n",
       "      <td>[@]</td>\n",
       "    </tr>\n",
       "    <tr>\n",
       "      <th>116</th>\n",
       "      <td>give @ffckatg a break. Her body is awash with ...</td>\n",
       "      <td>0</td>\n",
       "      <td>[@]</td>\n",
       "    </tr>\n",
       "    <tr>\n",
       "      <th>173</th>\n",
       "      <td>I nominate @PhillyD for a Shorty Award in #ent...</td>\n",
       "      <td>1</td>\n",
       "      <td>[@]</td>\n",
       "    </tr>\n",
       "  </tbody>\n",
       "</table>\n",
       "</div>"
      ],
      "text/plain": [
       "                                               content label    @\n",
       "49   @mekdot yo...heroes sucks!!! I loved season 1 ...     1  [@]\n",
       "77   Y'know  @QueenofSpain doesn't hate me  so I do...     0  [@]\n",
       "115  Amen.  Thrilled to see Brad Sucks on Rock Band...     1  [@]\n",
       "116  give @ffckatg a break. Her body is awash with ...     0  [@]\n",
       "173  I nominate @PhillyD for a Shorty Award in #ent...     1  [@]"
      ]
     },
     "execution_count": 31,
     "metadata": {},
     "output_type": "execute_result"
    }
   ],
   "source": [
    "regex = '@'\n",
    "data_extended = find_all_matches(X_train, y_train, regex)\n",
    "print_matching_statistics(data_extended, regex)\n",
    "data_extended.loc[data_extended[regex].notnull()].head()"
   ]
  },
  {
   "cell_type": "markdown",
   "metadata": {},
   "source": [
    "### Html symbols"
   ]
  },
  {
   "cell_type": "code",
   "execution_count": 32,
   "metadata": {
    "collapsed": false
   },
   "outputs": [
    {
     "name": "stdout",
     "output_type": "stream",
     "text": [
      "The mean of labels of matching tweets = 0.23\n",
      "The rate of matching tweets = 0.040\n",
      "p-value = 0.000\n"
     ]
    },
    {
     "data": {
      "text/html": [
       "<div>\n",
       "<table border=\"1\" class=\"dataframe\">\n",
       "  <thead>\n",
       "    <tr style=\"text-align: right;\">\n",
       "      <th></th>\n",
       "      <th>content</th>\n",
       "      <th>label</th>\n",
       "      <th>&amp;#?\\w*?;</th>\n",
       "    </tr>\n",
       "  </thead>\n",
       "  <tbody>\n",
       "    <tr>\n",
       "      <th>66</th>\n",
       "      <td>have you ever had a &amp;quot;Summer Love&amp;quot;?</td>\n",
       "      <td>0</td>\n",
       "      <td>[&amp;quot;, &amp;quot;]</td>\n",
       "    </tr>\n",
       "    <tr>\n",
       "      <th>139</th>\n",
       "      <td>Can someone honestly be thinking about nothin...</td>\n",
       "      <td>0</td>\n",
       "      <td>[&amp;;, &amp;;]</td>\n",
       "    </tr>\n",
       "    <tr>\n",
       "      <th>161</th>\n",
       "      <td>What&amp;;s the quickest you&amp;;ve fell for someone?</td>\n",
       "      <td>0</td>\n",
       "      <td>[&amp;;, &amp;;]</td>\n",
       "    </tr>\n",
       "    <tr>\n",
       "      <th>167</th>\n",
       "      <td>Can a short person &amp;quot;talk down&amp;quot; to a...</td>\n",
       "      <td>0</td>\n",
       "      <td>[&amp;quot;, &amp;quot;]</td>\n",
       "    </tr>\n",
       "    <tr>\n",
       "      <th>211</th>\n",
       "      <td>heyyy  your an ugly fucking bitch  you think ...</td>\n",
       "      <td>1</td>\n",
       "      <td>[&amp;;, &amp;amp;, &amp;amp;]</td>\n",
       "    </tr>\n",
       "  </tbody>\n",
       "</table>\n",
       "</div>"
      ],
      "text/plain": [
       "                                               content label  \\\n",
       "66        have you ever had a &quot;Summer Love&quot;?     0   \n",
       "139   Can someone honestly be thinking about nothin...     0   \n",
       "161     What&;s the quickest you&;ve fell for someone?     0   \n",
       "167   Can a short person &quot;talk down&quot; to a...     0   \n",
       "211   heyyy  your an ugly fucking bitch  you think ...     1   \n",
       "\n",
       "               &#?\\w*?;  \n",
       "66     [&quot;, &quot;]  \n",
       "139            [&;, &;]  \n",
       "161            [&;, &;]  \n",
       "167    [&quot;, &quot;]  \n",
       "211  [&;, &amp;, &amp;]  "
      ]
     },
     "execution_count": 32,
     "metadata": {},
     "output_type": "execute_result"
    }
   ],
   "source": [
    "regex = '&#?\\\\w*?;'\n",
    "data_extended = find_all_matches(X_train, y_train, regex)\n",
    "print_matching_statistics(data_extended, regex)\n",
    "data_extended.loc[data_extended[regex].notnull()].head()"
   ]
  },
  {
   "cell_type": "code",
   "execution_count": 33,
   "metadata": {
    "collapsed": false
   },
   "outputs": [],
   "source": [
    "html_symbol_dict = {}\n",
    "for html_symbols in data_extended.loc[data_extended[regex].notnull()].iloc[:, 2]:\n",
    "    for html_symbol in html_symbols:\n",
    "        html_symbol_dict[html_symbol] = html_symbol_dict.get(html_symbol, 0) + 1"
   ]
  },
  {
   "cell_type": "code",
   "execution_count": 34,
   "metadata": {
    "collapsed": false
   },
   "outputs": [
    {
     "data": {
      "text/plain": [
       "{'&#163;': 1,\n",
       " '&#169;': 3,\n",
       " '&#172;': 3,\n",
       " '&#174;': 3,\n",
       " '&#191;': 1,\n",
       " '&#224;': 3,\n",
       " '&#232;': 1,\n",
       " '&#233;': 5,\n",
       " '&#234;': 2,\n",
       " '&#252;': 1,\n",
       " '&#58126;': 1,\n",
       " '&#58371;': 1,\n",
       " '&#58372;': 1,\n",
       " '&#58382;': 2,\n",
       " '&#58390;': 3,\n",
       " '&#8212;': 1,\n",
       " '&#8217;': 13,\n",
       " '&#9773;': 3,\n",
       " '&#9786;': 2,\n",
       " '&#9824;': 1,\n",
       " '&#9829;': 3,\n",
       " '&#9834;': 3,\n",
       " '&#9835;': 7,\n",
       " '&;': 364,\n",
       " '&amp;': 68,\n",
       " '&apos;': 29,\n",
       " '&gt;': 38,\n",
       " '&lt;': 76,\n",
       " '&quot;': 116}"
      ]
     },
     "execution_count": 34,
     "metadata": {},
     "output_type": "execute_result"
    }
   ],
   "source": [
    "html_symbol_dict"
   ]
  },
  {
   "cell_type": "code",
   "execution_count": 35,
   "metadata": {
    "collapsed": false
   },
   "outputs": [
    {
     "name": "stdout",
     "output_type": "stream",
     "text": [
      "The mean of labels of matching tweets = 0.50\n",
      "The rate of matching tweets = 0.001\n",
      "p-value = 0.526\n"
     ]
    },
    {
     "data": {
      "text/html": [
       "<div>\n",
       "<table border=\"1\" class=\"dataframe\">\n",
       "  <thead>\n",
       "    <tr style=\"text-align: right;\">\n",
       "      <th></th>\n",
       "      <th>content</th>\n",
       "      <th>label</th>\n",
       "      <th>&amp;#8217;</th>\n",
       "    </tr>\n",
       "  </thead>\n",
       "  <tbody>\n",
       "    <tr>\n",
       "      <th>1131</th>\n",
       "      <td>nothin&amp;#8217;  i did my hair  THAT WAS EXCITIN...</td>\n",
       "      <td>0</td>\n",
       "      <td>[&amp;#8217;]</td>\n",
       "    </tr>\n",
       "    <tr>\n",
       "      <th>1406</th>\n",
       "      <td>Compared to Eeyore and that stupid bear and th...</td>\n",
       "      <td>1</td>\n",
       "      <td>[&amp;#8217;]</td>\n",
       "    </tr>\n",
       "    <tr>\n",
       "      <th>1742</th>\n",
       "      <td>Compared to Eeyore and that stupid bear and th...</td>\n",
       "      <td>1</td>\n",
       "      <td>[&amp;#8217;]</td>\n",
       "    </tr>\n",
       "    <tr>\n",
       "      <th>4243</th>\n",
       "      <td>Compared to Eeyore and that stupid bear and th...</td>\n",
       "      <td>1</td>\n",
       "      <td>[&amp;#8217;]</td>\n",
       "    </tr>\n",
       "    <tr>\n",
       "      <th>5180</th>\n",
       "      <td>Football. I hate it. It&amp;#8217;s official  I&amp;#8...</td>\n",
       "      <td>1</td>\n",
       "      <td>[&amp;#8217;, &amp;#8217;]</td>\n",
       "    </tr>\n",
       "  </tbody>\n",
       "</table>\n",
       "</div>"
      ],
      "text/plain": [
       "                                                content label  \\\n",
       "1131  nothin&#8217;  i did my hair  THAT WAS EXCITIN...     0   \n",
       "1406  Compared to Eeyore and that stupid bear and th...     1   \n",
       "1742  Compared to Eeyore and that stupid bear and th...     1   \n",
       "4243  Compared to Eeyore and that stupid bear and th...     1   \n",
       "5180  Football. I hate it. It&#8217;s official  I&#8...     1   \n",
       "\n",
       "                 &#8217;  \n",
       "1131           [&#8217;]  \n",
       "1406           [&#8217;]  \n",
       "1742           [&#8217;]  \n",
       "4243           [&#8217;]  \n",
       "5180  [&#8217;, &#8217;]  "
      ]
     },
     "execution_count": 35,
     "metadata": {},
     "output_type": "execute_result"
    }
   ],
   "source": [
    "regex = '&#8217;'\n",
    "data_extended = find_all_matches(X_train, y_train, regex)\n",
    "print_matching_statistics(data_extended, regex)\n",
    "data_extended.loc[data_extended[regex].notnull()].head()"
   ]
  },
  {
   "cell_type": "code",
   "execution_count": 36,
   "metadata": {
    "collapsed": false
   },
   "outputs": [
    {
     "name": "stdout",
     "output_type": "stream",
     "text": [
      "The mean of labels of matching tweets = 0.00\n",
      "The rate of matching tweets = 0.000\n",
      "p-value = 0.286\n"
     ]
    },
    {
     "data": {
      "text/html": [
       "<div>\n",
       "<table border=\"1\" class=\"dataframe\">\n",
       "  <thead>\n",
       "    <tr style=\"text-align: right;\">\n",
       "      <th></th>\n",
       "      <th>content</th>\n",
       "      <th>label</th>\n",
       "      <th>&lt;\\w+?&gt;</th>\n",
       "    </tr>\n",
       "  </thead>\n",
       "  <tbody>\n",
       "    <tr>\n",
       "      <th>2319</th>\n",
       "      <td>Favorite candy ? :D&lt;br&gt;</td>\n",
       "      <td>0</td>\n",
       "      <td>[&lt;br&gt;]</td>\n",
       "    </tr>\n",
       "    <tr>\n",
       "      <th>3525</th>\n",
       "      <td>....oats&lt;br&gt;</td>\n",
       "      <td>0</td>\n",
       "      <td>[&lt;br&gt;]</td>\n",
       "    </tr>\n",
       "    <tr>\n",
       "      <th>12505</th>\n",
       "      <td>Are you wearing the p&lt;br&gt;</td>\n",
       "      <td>0</td>\n",
       "      <td>[&lt;br&gt;]</td>\n",
       "    </tr>\n",
       "  </tbody>\n",
       "</table>\n",
       "</div>"
      ],
      "text/plain": [
       "                          content label  <\\w+?>\n",
       "2319      Favorite candy ? :D<br>     0  [<br>]\n",
       "3525                 ....oats<br>     0  [<br>]\n",
       "12505   Are you wearing the p<br>     0  [<br>]"
      ]
     },
     "execution_count": 36,
     "metadata": {},
     "output_type": "execute_result"
    }
   ],
   "source": [
    "regex = '<\\\\w+?>'\n",
    "data_extended = find_all_matches(X_train, y_train, regex)\n",
    "print_matching_statistics(data_extended, regex)\n",
    "data_extended.loc[data_extended[regex].notnull()].head()"
   ]
  },
  {
   "cell_type": "markdown",
   "metadata": {},
   "source": [
    "### Words"
   ]
  },
  {
   "cell_type": "markdown",
   "metadata": {},
   "source": [
    "Negations (n't) are more related to aggressive tweets"
   ]
  },
  {
   "cell_type": "code",
   "execution_count": 37,
   "metadata": {
    "collapsed": false
   },
   "outputs": [
    {
     "name": "stdout",
     "output_type": "stream",
     "text": [
      "The mean of labels of matching tweets = 0.49\n",
      "The rate of matching tweets = 0.080\n",
      "p-value = 0.000\n"
     ]
    },
    {
     "data": {
      "text/html": [
       "<div>\n",
       "<table border=\"1\" class=\"dataframe\">\n",
       "  <thead>\n",
       "    <tr style=\"text-align: right;\">\n",
       "      <th></th>\n",
       "      <th>content</th>\n",
       "      <th>label</th>\n",
       "      <th>\\b\\w+n't\\b</th>\n",
       "    </tr>\n",
       "  </thead>\n",
       "  <tbody>\n",
       "    <tr>\n",
       "      <th>1</th>\n",
       "      <td>Then I would be gay and I would kill myself. D...</td>\n",
       "      <td>1</td>\n",
       "      <td>[Don't]</td>\n",
       "    </tr>\n",
       "    <tr>\n",
       "      <th>2</th>\n",
       "      <td>Hey  don't knock the Port+OJ until you've trie...</td>\n",
       "      <td>1</td>\n",
       "      <td>[don't]</td>\n",
       "    </tr>\n",
       "    <tr>\n",
       "      <th>6</th>\n",
       "      <td>You coming to work today  E? I know it's Gay D...</td>\n",
       "      <td>1</td>\n",
       "      <td>[wasn't]</td>\n",
       "    </tr>\n",
       "    <tr>\n",
       "      <th>7</th>\n",
       "      <td>Love it but I don't it too much currently</td>\n",
       "      <td>0</td>\n",
       "      <td>[don't]</td>\n",
       "    </tr>\n",
       "    <tr>\n",
       "      <th>13</th>\n",
       "      <td>I'm late to the emo-ball.. I'm not even dresse...</td>\n",
       "      <td>1</td>\n",
       "      <td>[can't]</td>\n",
       "    </tr>\n",
       "  </tbody>\n",
       "</table>\n",
       "</div>"
      ],
      "text/plain": [
       "                                              content label \\b\\w+n't\\b\n",
       "1   Then I would be gay and I would kill myself. D...     1    [Don't]\n",
       "2   Hey  don't knock the Port+OJ until you've trie...     1    [don't]\n",
       "6   You coming to work today  E? I know it's Gay D...     1   [wasn't]\n",
       "7           Love it but I don't it too much currently     0    [don't]\n",
       "13  I'm late to the emo-ball.. I'm not even dresse...     1    [can't]"
      ]
     },
     "execution_count": 37,
     "metadata": {},
     "output_type": "execute_result"
    }
   ],
   "source": [
    "regex = '\\\\b\\\\w+n\\'t\\\\b'\n",
    "data_extended = find_all_matches(X_train, y_train, regex)\n",
    "print_matching_statistics(data_extended, regex)\n",
    "data_extended.loc[data_extended[regex].notnull()].head()"
   ]
  },
  {
   "cell_type": "code",
   "execution_count": 38,
   "metadata": {
    "collapsed": false
   },
   "outputs": [
    {
     "name": "stdout",
     "output_type": "stream",
     "text": [
      "The mean of labels of matching tweets = 0.36\n",
      "The rate of matching tweets = 0.051\n",
      "p-value = 0.137\n"
     ]
    },
    {
     "data": {
      "text/html": [
       "<div>\n",
       "<table border=\"1\" class=\"dataframe\">\n",
       "  <thead>\n",
       "    <tr style=\"text-align: right;\">\n",
       "      <th></th>\n",
       "      <th>content</th>\n",
       "      <th>label</th>\n",
       "      <th>\\bnot\\b</th>\n",
       "    </tr>\n",
       "  </thead>\n",
       "  <tbody>\n",
       "    <tr>\n",
       "      <th>9</th>\n",
       "      <td>its not hate on government  its hate on our ex...</td>\n",
       "      <td>0</td>\n",
       "      <td>[not]</td>\n",
       "    </tr>\n",
       "    <tr>\n",
       "      <th>13</th>\n",
       "      <td>I'm late to the emo-ball.. I'm not even dresse...</td>\n",
       "      <td>1</td>\n",
       "      <td>[not]</td>\n",
       "    </tr>\n",
       "    <tr>\n",
       "      <th>33</th>\n",
       "      <td>not too often  once a year perhaps but it hi...</td>\n",
       "      <td>0</td>\n",
       "      <td>[not]</td>\n",
       "    </tr>\n",
       "    <tr>\n",
       "      <th>48</th>\n",
       "      <td>Then Clive is a total pussy and after reading ...</td>\n",
       "      <td>1</td>\n",
       "      <td>[not]</td>\n",
       "    </tr>\n",
       "    <tr>\n",
       "      <th>56</th>\n",
       "      <td>probably not but who the fuck knows what's goi...</td>\n",
       "      <td>1</td>\n",
       "      <td>[not]</td>\n",
       "    </tr>\n",
       "  </tbody>\n",
       "</table>\n",
       "</div>"
      ],
      "text/plain": [
       "                                              content label \\bnot\\b\n",
       "9   its not hate on government  its hate on our ex...     0   [not]\n",
       "13  I'm late to the emo-ball.. I'm not even dresse...     1   [not]\n",
       "33    not too often  once a year perhaps but it hi...     0   [not]\n",
       "48  Then Clive is a total pussy and after reading ...     1   [not]\n",
       "56  probably not but who the fuck knows what's goi...     1   [not]"
      ]
     },
     "execution_count": 38,
     "metadata": {},
     "output_type": "execute_result"
    }
   ],
   "source": [
    "regex = '\\\\bnot\\\\b'\n",
    "data_extended = find_all_matches(X_train, y_train, regex)\n",
    "print_matching_statistics(data_extended, regex)\n",
    "data_extended.loc[data_extended[regex].notnull()].head()"
   ]
  },
  {
   "cell_type": "code",
   "execution_count": 39,
   "metadata": {
    "collapsed": false
   },
   "outputs": [
    {
     "data": {
      "text/plain": [
       "['test', 'do', \"n't\", 'did', \"n't\", 'wo', \"n't\", 'you', \"'ll\"]"
      ]
     },
     "execution_count": 39,
     "metadata": {},
     "output_type": "execute_result"
    }
   ],
   "source": [
    "nltk.word_tokenize('test don\\'t didn\\'t won\\'t you\\'ll')"
   ]
  },
  {
   "cell_type": "markdown",
   "metadata": {},
   "source": [
    "Shortened forms (with an apostrophe) are more related to aggressive tweets"
   ]
  },
  {
   "cell_type": "code",
   "execution_count": 40,
   "metadata": {
    "collapsed": false
   },
   "outputs": [
    {
     "name": "stdout",
     "output_type": "stream",
     "text": [
      "The mean of labels of matching tweets = 0.48\n",
      "The rate of matching tweets = 0.248\n",
      "p-value = 0.000\n"
     ]
    },
    {
     "data": {
      "text/html": [
       "<div>\n",
       "<table border=\"1\" class=\"dataframe\">\n",
       "  <thead>\n",
       "    <tr style=\"text-align: right;\">\n",
       "      <th></th>\n",
       "      <th>content</th>\n",
       "      <th>label</th>\n",
       "      <th>\\b\\w+'\\w+\\b</th>\n",
       "    </tr>\n",
       "  </thead>\n",
       "  <tbody>\n",
       "    <tr>\n",
       "      <th>1</th>\n",
       "      <td>Then I would be gay and I would kill myself. D...</td>\n",
       "      <td>1</td>\n",
       "      <td>[Don't]</td>\n",
       "    </tr>\n",
       "    <tr>\n",
       "      <th>2</th>\n",
       "      <td>Hey  don't knock the Port+OJ until you've trie...</td>\n",
       "      <td>1</td>\n",
       "      <td>[don't, you've, you're]</td>\n",
       "    </tr>\n",
       "    <tr>\n",
       "      <th>4</th>\n",
       "      <td>Not yet  the woman was wanting to escape  but ...</td>\n",
       "      <td>0</td>\n",
       "      <td>[I'm]</td>\n",
       "    </tr>\n",
       "    <tr>\n",
       "      <th>6</th>\n",
       "      <td>You coming to work today  E? I know it's Gay D...</td>\n",
       "      <td>1</td>\n",
       "      <td>[it's, wasn't]</td>\n",
       "    </tr>\n",
       "    <tr>\n",
       "      <th>7</th>\n",
       "      <td>Love it but I don't it too much currently</td>\n",
       "      <td>0</td>\n",
       "      <td>[don't]</td>\n",
       "    </tr>\n",
       "  </tbody>\n",
       "</table>\n",
       "</div>"
      ],
      "text/plain": [
       "                                             content label  \\\n",
       "1  Then I would be gay and I would kill myself. D...     1   \n",
       "2  Hey  don't knock the Port+OJ until you've trie...     1   \n",
       "4  Not yet  the woman was wanting to escape  but ...     0   \n",
       "6  You coming to work today  E? I know it's Gay D...     1   \n",
       "7          Love it but I don't it too much currently     0   \n",
       "\n",
       "               \\b\\w+'\\w+\\b  \n",
       "1                  [Don't]  \n",
       "2  [don't, you've, you're]  \n",
       "4                    [I'm]  \n",
       "6           [it's, wasn't]  \n",
       "7                  [don't]  "
      ]
     },
     "execution_count": 40,
     "metadata": {},
     "output_type": "execute_result"
    }
   ],
   "source": [
    "regex = '\\\\b\\\\w+\\'\\\\w+\\\\b'\n",
    "data_extended = find_all_matches(X_train, y_train, regex)\n",
    "print_matching_statistics(data_extended, regex)\n",
    "data_extended.loc[data_extended[regex].notnull()].head()"
   ]
  },
  {
   "cell_type": "code",
   "execution_count": 41,
   "metadata": {
    "collapsed": false
   },
   "outputs": [
    {
     "name": "stdout",
     "output_type": "stream",
     "text": [
      "The mean of labels of matching tweets = 0.51\n",
      "The rate of matching tweets = 0.068\n",
      "p-value = 0.000\n"
     ]
    },
    {
     "data": {
      "text/html": [
       "<div>\n",
       "<table border=\"1\" class=\"dataframe\">\n",
       "  <thead>\n",
       "    <tr style=\"text-align: right;\">\n",
       "      <th></th>\n",
       "      <th>content</th>\n",
       "      <th>label</th>\n",
       "      <th>\\b\\w+'[^t]\\w+\\b</th>\n",
       "    </tr>\n",
       "  </thead>\n",
       "  <tbody>\n",
       "    <tr>\n",
       "      <th>2</th>\n",
       "      <td>Hey  don't knock the Port+OJ until you've trie...</td>\n",
       "      <td>1</td>\n",
       "      <td>[you've, you're]</td>\n",
       "    </tr>\n",
       "    <tr>\n",
       "      <th>35</th>\n",
       "      <td>Damn you're cool</td>\n",
       "      <td>0</td>\n",
       "      <td>[you're]</td>\n",
       "    </tr>\n",
       "    <tr>\n",
       "      <th>65</th>\n",
       "      <td>I've noticed he can't spell much beyond NOM an...</td>\n",
       "      <td>1</td>\n",
       "      <td>[I've]</td>\n",
       "    </tr>\n",
       "    <tr>\n",
       "      <th>74</th>\n",
       "      <td>you got that right! People stealing others' ge...</td>\n",
       "      <td>1</td>\n",
       "      <td>[others' generators]</td>\n",
       "    </tr>\n",
       "    <tr>\n",
       "      <th>77</th>\n",
       "      <td>Y'know  @QueenofSpain doesn't hate me  so I do...</td>\n",
       "      <td>0</td>\n",
       "      <td>[Y'know]</td>\n",
       "    </tr>\n",
       "  </tbody>\n",
       "</table>\n",
       "</div>"
      ],
      "text/plain": [
       "                                              content label  \\\n",
       "2   Hey  don't knock the Port+OJ until you've trie...     1   \n",
       "35                                   Damn you're cool     0   \n",
       "65  I've noticed he can't spell much beyond NOM an...     1   \n",
       "74  you got that right! People stealing others' ge...     1   \n",
       "77  Y'know  @QueenofSpain doesn't hate me  so I do...     0   \n",
       "\n",
       "         \\b\\w+'[^t]\\w+\\b  \n",
       "2       [you've, you're]  \n",
       "35              [you're]  \n",
       "65                [I've]  \n",
       "74  [others' generators]  \n",
       "77              [Y'know]  "
      ]
     },
     "execution_count": 41,
     "metadata": {},
     "output_type": "execute_result"
    }
   ],
   "source": [
    "regex = '\\\\b\\\\w+\\'[^t]\\\\w+\\\\b'\n",
    "data_extended = find_all_matches(X_train, y_train, regex)\n",
    "print_matching_statistics(data_extended, regex)\n",
    "data_extended.loc[data_extended[regex].notnull()].head()"
   ]
  },
  {
   "cell_type": "markdown",
   "metadata": {},
   "source": [
    "Words with stars say nothing"
   ]
  },
  {
   "cell_type": "code",
   "execution_count": 42,
   "metadata": {
    "collapsed": false
   },
   "outputs": [
    {
     "name": "stdout",
     "output_type": "stream",
     "text": [
      "The mean of labels of matching tweets = 0.60\n",
      "The rate of matching tweets = 0.001\n",
      "p-value = 0.114\n"
     ]
    },
    {
     "data": {
      "text/html": [
       "<div>\n",
       "<table border=\"1\" class=\"dataframe\">\n",
       "  <thead>\n",
       "    <tr style=\"text-align: right;\">\n",
       "      <th></th>\n",
       "      <th>content</th>\n",
       "      <th>label</th>\n",
       "      <th>\\b\\w+\\*{1,}\\w+\\b</th>\n",
       "    </tr>\n",
       "  </thead>\n",
       "  <tbody>\n",
       "    <tr>\n",
       "      <th>209</th>\n",
       "      <td>whwhwhwhoa just slow down. huh!? what do you ...</td>\n",
       "      <td>0</td>\n",
       "      <td>[f*****ck, F*ck, F*ck, F*ck, F*ck, F*ck]</td>\n",
       "    </tr>\n",
       "    <tr>\n",
       "      <th>471</th>\n",
       "      <td>thats what i am saying...they need to pay me.t...</td>\n",
       "      <td>1</td>\n",
       "      <td>[m*ttaf]</td>\n",
       "    </tr>\n",
       "    <tr>\n",
       "      <th>761</th>\n",
       "      <td>Aw  f**k. That sucks.</td>\n",
       "      <td>0</td>\n",
       "      <td>[f**k]</td>\n",
       "    </tr>\n",
       "    <tr>\n",
       "      <th>960</th>\n",
       "      <td>lenee  that bo*o ass incense you gave me smell...</td>\n",
       "      <td>1</td>\n",
       "      <td>[bo*o]</td>\n",
       "    </tr>\n",
       "    <tr>\n",
       "      <th>1210</th>\n",
       "      <td>A BAMF is a bad-ass mother f*cker.</td>\n",
       "      <td>1</td>\n",
       "      <td>[f*cker]</td>\n",
       "    </tr>\n",
       "    <tr>\n",
       "      <th>2250</th>\n",
       "      <td>oooooooohhhhhhh sh*t! Damn where all the white...</td>\n",
       "      <td>1</td>\n",
       "      <td>[sh*t]</td>\n",
       "    </tr>\n",
       "    <tr>\n",
       "      <th>2504</th>\n",
       "      <td>my bleeping employment agency f***ed up my pay...</td>\n",
       "      <td>1</td>\n",
       "      <td>[f***ed]</td>\n",
       "    </tr>\n",
       "    <tr>\n",
       "      <th>2526</th>\n",
       "      <td>lenee  that bo*o ass incense you gave me smell...</td>\n",
       "      <td>1</td>\n",
       "      <td>[bo*o]</td>\n",
       "    </tr>\n",
       "    <tr>\n",
       "      <th>3775</th>\n",
       "      <td>LMAO......... U starting SH*T already... Ha! I...</td>\n",
       "      <td>0</td>\n",
       "      <td>[SH*T]</td>\n",
       "    </tr>\n",
       "    <tr>\n",
       "      <th>4252</th>\n",
       "      <td>A BAMF is a bad-ass mother f*cker.</td>\n",
       "      <td>1</td>\n",
       "      <td>[f*cker]</td>\n",
       "    </tr>\n",
       "    <tr>\n",
       "      <th>5239</th>\n",
       "      <td>You tell 'em man! ^_^ Seriously  the whole cou...</td>\n",
       "      <td>0</td>\n",
       "      <td>[f***ing]</td>\n",
       "    </tr>\n",
       "    <tr>\n",
       "      <th>5652</th>\n",
       "      <td>the lox \"f**k you \" \"keep it thoro\" prodigy  \"...</td>\n",
       "      <td>1</td>\n",
       "      <td>[f**k]</td>\n",
       "    </tr>\n",
       "    <tr>\n",
       "      <th>5840</th>\n",
       "      <td>LOL and I have missed the 12.55 as the freakin...</td>\n",
       "      <td>0</td>\n",
       "      <td>[b*tch]</td>\n",
       "    </tr>\n",
       "    <tr>\n",
       "      <th>7139</th>\n",
       "      <td>the drive to Bear sucks tho. Very windy (curve...</td>\n",
       "      <td>0</td>\n",
       "      <td>[b*tch]</td>\n",
       "    </tr>\n",
       "    <tr>\n",
       "      <th>12441</th>\n",
       "      <td>my bleeping employment agency f***ed up my pay...</td>\n",
       "      <td>1</td>\n",
       "      <td>[f***ed]</td>\n",
       "    </tr>\n",
       "  </tbody>\n",
       "</table>\n",
       "</div>"
      ],
      "text/plain": [
       "                                                 content label  \\\n",
       "209     whwhwhwhoa just slow down. huh!? what do you ...     0   \n",
       "471    thats what i am saying...they need to pay me.t...     1   \n",
       "761                                Aw  f**k. That sucks.     0   \n",
       "960    lenee  that bo*o ass incense you gave me smell...     1   \n",
       "1210                  A BAMF is a bad-ass mother f*cker.     1   \n",
       "2250   oooooooohhhhhhh sh*t! Damn where all the white...     1   \n",
       "2504   my bleeping employment agency f***ed up my pay...     1   \n",
       "2526   lenee  that bo*o ass incense you gave me smell...     1   \n",
       "3775   LMAO......... U starting SH*T already... Ha! I...     0   \n",
       "4252                  A BAMF is a bad-ass mother f*cker.     1   \n",
       "5239   You tell 'em man! ^_^ Seriously  the whole cou...     0   \n",
       "5652   the lox \"f**k you \" \"keep it thoro\" prodigy  \"...     1   \n",
       "5840   LOL and I have missed the 12.55 as the freakin...     0   \n",
       "7139   the drive to Bear sucks tho. Very windy (curve...     0   \n",
       "12441  my bleeping employment agency f***ed up my pay...     1   \n",
       "\n",
       "                               \\b\\w+\\*{1,}\\w+\\b  \n",
       "209    [f*****ck, F*ck, F*ck, F*ck, F*ck, F*ck]  \n",
       "471                                    [m*ttaf]  \n",
       "761                                      [f**k]  \n",
       "960                                      [bo*o]  \n",
       "1210                                   [f*cker]  \n",
       "2250                                     [sh*t]  \n",
       "2504                                   [f***ed]  \n",
       "2526                                     [bo*o]  \n",
       "3775                                     [SH*T]  \n",
       "4252                                   [f*cker]  \n",
       "5239                                  [f***ing]  \n",
       "5652                                     [f**k]  \n",
       "5840                                    [b*tch]  \n",
       "7139                                    [b*tch]  \n",
       "12441                                  [f***ed]  "
      ]
     },
     "execution_count": 42,
     "metadata": {},
     "output_type": "execute_result"
    }
   ],
   "source": [
    "regex = '\\\\b\\\\w+\\\\*{1,}\\\\w+\\\\b'\n",
    "data_extended = find_all_matches(X_train, y_train, regex)\n",
    "print_matching_statistics(data_extended, regex)\n",
    "data_extended.loc[data_extended[regex].notnull()]"
   ]
  },
  {
   "cell_type": "markdown",
   "metadata": {},
   "source": [
    "Uppercase are more related to aggressive tweets"
   ]
  },
  {
   "cell_type": "code",
   "execution_count": 43,
   "metadata": {
    "collapsed": false
   },
   "outputs": [
    {
     "name": "stdout",
     "output_type": "stream",
     "text": [
      "The mean of labels of matching tweets = 0.52\n",
      "The rate of matching tweets = 0.168\n",
      "p-value = 0.000\n"
     ]
    },
    {
     "data": {
      "text/html": [
       "<div>\n",
       "<table border=\"1\" class=\"dataframe\">\n",
       "  <thead>\n",
       "    <tr style=\"text-align: right;\">\n",
       "      <th></th>\n",
       "      <th>content</th>\n",
       "      <th>label</th>\n",
       "      <th>\\b[A-Z]{2,}\\b</th>\n",
       "    </tr>\n",
       "  </thead>\n",
       "  <tbody>\n",
       "    <tr>\n",
       "      <th>2</th>\n",
       "      <td>Hey  don't knock the Port+OJ until you've trie...</td>\n",
       "      <td>1</td>\n",
       "      <td>[OJ]</td>\n",
       "    </tr>\n",
       "    <tr>\n",
       "      <th>8</th>\n",
       "      <td>i hate hate hate it with a passion!! lol...i k...</td>\n",
       "      <td>1</td>\n",
       "      <td>[LOL]</td>\n",
       "    </tr>\n",
       "    <tr>\n",
       "      <th>12</th>\n",
       "      <td>your LAME ass . oviously iloveyouhh moree. (;</td>\n",
       "      <td>1</td>\n",
       "      <td>[LAME]</td>\n",
       "    </tr>\n",
       "    <tr>\n",
       "      <th>13</th>\n",
       "      <td>I'm late to the emo-ball.. I'm not even dresse...</td>\n",
       "      <td>1</td>\n",
       "      <td>[WHY]</td>\n",
       "    </tr>\n",
       "    <tr>\n",
       "      <th>21</th>\n",
       "      <td>P33T WIFF HIS BIG GAY TEEFS!!! BRYCE FROM TRS ...</td>\n",
       "      <td>1</td>\n",
       "      <td>[WIFF, HIS, BIG, GAY, TEEFS, BRYCE, FROM, TRS,...</td>\n",
       "    </tr>\n",
       "  </tbody>\n",
       "</table>\n",
       "</div>"
      ],
      "text/plain": [
       "                                              content label  \\\n",
       "2   Hey  don't knock the Port+OJ until you've trie...     1   \n",
       "8   i hate hate hate it with a passion!! lol...i k...     1   \n",
       "12      your LAME ass . oviously iloveyouhh moree. (;     1   \n",
       "13  I'm late to the emo-ball.. I'm not even dresse...     1   \n",
       "21  P33T WIFF HIS BIG GAY TEEFS!!! BRYCE FROM TRS ...     1   \n",
       "\n",
       "                                        \\b[A-Z]{2,}\\b  \n",
       "2                                                [OJ]  \n",
       "8                                               [LOL]  \n",
       "12                                             [LAME]  \n",
       "13                                              [WHY]  \n",
       "21  [WIFF, HIS, BIG, GAY, TEEFS, BRYCE, FROM, TRS,...  "
      ]
     },
     "execution_count": 43,
     "metadata": {},
     "output_type": "execute_result"
    }
   ],
   "source": [
    "regex = '\\\\b[A-Z]{2,}\\\\b'\n",
    "data_extended = find_all_matches(X_train, y_train, regex)\n",
    "print_matching_statistics(data_extended, regex)\n",
    "data_extended.loc[data_extended[regex].notnull()].head()"
   ]
  },
  {
   "cell_type": "code",
   "execution_count": 44,
   "metadata": {
    "collapsed": false
   },
   "outputs": [
    {
     "data": {
      "text/html": [
       "<div>\n",
       "<table border=\"1\" class=\"dataframe\">\n",
       "  <thead>\n",
       "    <tr style=\"text-align: right;\">\n",
       "      <th></th>\n",
       "      <th>content</th>\n",
       "      <th>label</th>\n",
       "      <th>\\b[A-Z]{2,}\\b</th>\n",
       "      <th>rate</th>\n",
       "    </tr>\n",
       "  </thead>\n",
       "  <tbody>\n",
       "    <tr>\n",
       "      <th>2</th>\n",
       "      <td>Hey  don't knock the Port+OJ until you've trie...</td>\n",
       "      <td>1</td>\n",
       "      <td>[OJ]</td>\n",
       "      <td>0.043478</td>\n",
       "    </tr>\n",
       "    <tr>\n",
       "      <th>8</th>\n",
       "      <td>i hate hate hate it with a passion!! lol...i k...</td>\n",
       "      <td>1</td>\n",
       "      <td>[LOL]</td>\n",
       "      <td>0.043478</td>\n",
       "    </tr>\n",
       "    <tr>\n",
       "      <th>12</th>\n",
       "      <td>your LAME ass . oviously iloveyouhh moree. (;</td>\n",
       "      <td>1</td>\n",
       "      <td>[LAME]</td>\n",
       "      <td>0.166667</td>\n",
       "    </tr>\n",
       "    <tr>\n",
       "      <th>13</th>\n",
       "      <td>I'm late to the emo-ball.. I'm not even dresse...</td>\n",
       "      <td>1</td>\n",
       "      <td>[WHY]</td>\n",
       "      <td>0.041667</td>\n",
       "    </tr>\n",
       "    <tr>\n",
       "      <th>21</th>\n",
       "      <td>P33T WIFF HIS BIG GAY TEEFS!!! BRYCE FROM TRS ...</td>\n",
       "      <td>1</td>\n",
       "      <td>[WIFF, HIS, BIG, GAY, TEEFS, BRYCE, FROM, TRS,...</td>\n",
       "      <td>0.947368</td>\n",
       "    </tr>\n",
       "  </tbody>\n",
       "</table>\n",
       "</div>"
      ],
      "text/plain": [
       "                                              content label  \\\n",
       "2   Hey  don't knock the Port+OJ until you've trie...     1   \n",
       "8   i hate hate hate it with a passion!! lol...i k...     1   \n",
       "12      your LAME ass . oviously iloveyouhh moree. (;     1   \n",
       "13  I'm late to the emo-ball.. I'm not even dresse...     1   \n",
       "21  P33T WIFF HIS BIG GAY TEEFS!!! BRYCE FROM TRS ...     1   \n",
       "\n",
       "                                        \\b[A-Z]{2,}\\b      rate  \n",
       "2                                                [OJ]  0.043478  \n",
       "8                                               [LOL]  0.043478  \n",
       "12                                             [LAME]  0.166667  \n",
       "13                                              [WHY]  0.041667  \n",
       "21  [WIFF, HIS, BIG, GAY, TEEFS, BRYCE, FROM, TRS,...  0.947368  "
      ]
     },
     "execution_count": 44,
     "metadata": {},
     "output_type": "execute_result"
    }
   ],
   "source": [
    "# rate of uppercase\n",
    "regex = '\\\\b[A-Z]{2,}\\\\b'\n",
    "matching_words_rate = compute_matching_words_rate(regex, X_train)\n",
    "data_extended['rate'] = matching_words_rate\n",
    "\n",
    "matching_data_extended = data_extended.loc[data_extended.iloc[:, 2].notnull()]\n",
    "matching_data_extended.head()"
   ]
  },
  {
   "cell_type": "code",
   "execution_count": 45,
   "metadata": {
    "collapsed": false
   },
   "outputs": [
    {
     "name": "stdout",
     "output_type": "stream",
     "text": [
      "0.570\n",
      "0.465\n"
     ]
    }
   ],
   "source": [
    "print('%.3f' % matching_data_extended[matching_data_extended.rate > 0.1].label.mean())\n",
    "print('%.3f' % matching_data_extended[matching_data_extended.rate < 0.1].label.mean())"
   ]
  },
  {
   "cell_type": "code",
   "execution_count": 46,
   "metadata": {
    "collapsed": false
   },
   "outputs": [
    {
     "name": "stdout",
     "output_type": "stream",
     "text": [
      "The mean of labels of matching tweets = 0.52\n",
      "The rate of matching tweets = 0.020\n",
      "p-value = 0.000\n"
     ]
    },
    {
     "data": {
      "text/html": [
       "<div>\n",
       "<table border=\"1\" class=\"dataframe\">\n",
       "  <thead>\n",
       "    <tr style=\"text-align: right;\">\n",
       "      <th></th>\n",
       "      <th>content</th>\n",
       "      <th>label</th>\n",
       "      <th>^[^a-z]+$</th>\n",
       "    </tr>\n",
       "  </thead>\n",
       "  <tbody>\n",
       "    <tr>\n",
       "      <th>21</th>\n",
       "      <td>P33T WIFF HIS BIG GAY TEEFS!!! BRYCE FROM TRS ...</td>\n",
       "      <td>1</td>\n",
       "      <td>[P33T WIFF HIS BIG GAY TEEFS!!! BRYCE FROM TRS...</td>\n",
       "    </tr>\n",
       "    <tr>\n",
       "      <th>50</th>\n",
       "      <td>THANKYOU! HAHA</td>\n",
       "      <td>0</td>\n",
       "      <td>[  THANKYOU! HAHA]</td>\n",
       "    </tr>\n",
       "    <tr>\n",
       "      <th>91</th>\n",
       "      <td>I STILL HATE YOU.</td>\n",
       "      <td>1</td>\n",
       "      <td>[I STILL HATE YOU.]</td>\n",
       "    </tr>\n",
       "    <tr>\n",
       "      <th>134</th>\n",
       "      <td>:)</td>\n",
       "      <td>0</td>\n",
       "      <td>[  :)]</td>\n",
       "    </tr>\n",
       "    <tr>\n",
       "      <th>153</th>\n",
       "      <td>SARCASTIC. :]</td>\n",
       "      <td>0</td>\n",
       "      <td>[  SARCASTIC. :]]</td>\n",
       "    </tr>\n",
       "  </tbody>\n",
       "</table>\n",
       "</div>"
      ],
      "text/plain": [
       "                                               content label  \\\n",
       "21   P33T WIFF HIS BIG GAY TEEFS!!! BRYCE FROM TRS ...     1   \n",
       "50                                      THANKYOU! HAHA     0   \n",
       "91                                   I STILL HATE YOU.     1   \n",
       "134                                                 :)     0   \n",
       "153                                      SARCASTIC. :]     0   \n",
       "\n",
       "                                             ^[^a-z]+$  \n",
       "21   [P33T WIFF HIS BIG GAY TEEFS!!! BRYCE FROM TRS...  \n",
       "50                                  [  THANKYOU! HAHA]  \n",
       "91                                 [I STILL HATE YOU.]  \n",
       "134                                             [  :)]  \n",
       "153                                  [  SARCASTIC. :]]  "
      ]
     },
     "execution_count": 46,
     "metadata": {},
     "output_type": "execute_result"
    }
   ],
   "source": [
    "regex = '^[^a-z]+$'\n",
    "data_extended = find_all_matches(X_train, y_train, regex)\n",
    "print_matching_statistics(data_extended, regex)\n",
    "data_extended.loc[data_extended[regex].notnull()].head()"
   ]
  },
  {
   "cell_type": "markdown",
   "metadata": {},
   "source": [
    "Words that start with a capital are more related to nonaggressive tweets"
   ]
  },
  {
   "cell_type": "code",
   "execution_count": 47,
   "metadata": {
    "collapsed": false
   },
   "outputs": [
    {
     "name": "stdout",
     "output_type": "stream",
     "text": [
      "The mean of labels of matching tweets = 0.37\n",
      "The rate of matching tweets = 0.532\n",
      "p-value = 0.001\n"
     ]
    },
    {
     "data": {
      "text/html": [
       "<div>\n",
       "<table border=\"1\" class=\"dataframe\">\n",
       "  <thead>\n",
       "    <tr style=\"text-align: right;\">\n",
       "      <th></th>\n",
       "      <th>content</th>\n",
       "      <th>label</th>\n",
       "      <th>\\b[A-Z][a-z]+\\b</th>\n",
       "    </tr>\n",
       "  </thead>\n",
       "  <tbody>\n",
       "    <tr>\n",
       "      <th>0</th>\n",
       "      <td>Heh! Parcells is a bad-ass who knows how to he...</td>\n",
       "      <td>0</td>\n",
       "      <td>[Heh, Parcells, Hey]</td>\n",
       "    </tr>\n",
       "    <tr>\n",
       "      <th>1</th>\n",
       "      <td>Then I would be gay and I would kill myself. D...</td>\n",
       "      <td>1</td>\n",
       "      <td>[Then, Don]</td>\n",
       "    </tr>\n",
       "    <tr>\n",
       "      <th>2</th>\n",
       "      <td>Hey  don't knock the Port+OJ until you've trie...</td>\n",
       "      <td>1</td>\n",
       "      <td>[Hey, Port, As]</td>\n",
       "    </tr>\n",
       "    <tr>\n",
       "      <th>3</th>\n",
       "      <td>Famous! Duhh Haha that means I would be rich...</td>\n",
       "      <td>0</td>\n",
       "      <td>[Famous, Duhh, Haha]</td>\n",
       "    </tr>\n",
       "    <tr>\n",
       "      <th>4</th>\n",
       "      <td>Not yet  the woman was wanting to escape  but ...</td>\n",
       "      <td>0</td>\n",
       "      <td>[Not]</td>\n",
       "    </tr>\n",
       "  </tbody>\n",
       "</table>\n",
       "</div>"
      ],
      "text/plain": [
       "                                             content label  \\\n",
       "0  Heh! Parcells is a bad-ass who knows how to he...     0   \n",
       "1  Then I would be gay and I would kill myself. D...     1   \n",
       "2  Hey  don't knock the Port+OJ until you've trie...     1   \n",
       "3    Famous! Duhh Haha that means I would be rich...     0   \n",
       "4  Not yet  the woman was wanting to escape  but ...     0   \n",
       "\n",
       "        \\b[A-Z][a-z]+\\b  \n",
       "0  [Heh, Parcells, Hey]  \n",
       "1           [Then, Don]  \n",
       "2       [Hey, Port, As]  \n",
       "3  [Famous, Duhh, Haha]  \n",
       "4                 [Not]  "
      ]
     },
     "execution_count": 47,
     "metadata": {},
     "output_type": "execute_result"
    }
   ],
   "source": [
    "regex = '\\\\b[A-Z][a-z]+\\\\b'\n",
    "data_extended = find_all_matches(X_train, y_train, regex)\n",
    "print_matching_statistics(data_extended, regex)\n",
    "data_extended.loc[data_extended[regex].notnull()].head()"
   ]
  },
  {
   "cell_type": "code",
   "execution_count": 48,
   "metadata": {
    "collapsed": false
   },
   "outputs": [
    {
     "data": {
      "text/html": [
       "<div>\n",
       "<table border=\"1\" class=\"dataframe\">\n",
       "  <thead>\n",
       "    <tr style=\"text-align: right;\">\n",
       "      <th></th>\n",
       "      <th>content</th>\n",
       "      <th>label</th>\n",
       "      <th>\\b[A-Z][a-z]+\\b</th>\n",
       "      <th>rate</th>\n",
       "    </tr>\n",
       "  </thead>\n",
       "  <tbody>\n",
       "    <tr>\n",
       "      <th>0</th>\n",
       "      <td>Heh! Parcells is a bad-ass who knows how to he...</td>\n",
       "      <td>0</td>\n",
       "      <td>[Heh, Parcells, Hey]</td>\n",
       "      <td>0.125000</td>\n",
       "    </tr>\n",
       "    <tr>\n",
       "      <th>1</th>\n",
       "      <td>Then I would be gay and I would kill myself. D...</td>\n",
       "      <td>1</td>\n",
       "      <td>[Then, Don]</td>\n",
       "      <td>0.133333</td>\n",
       "    </tr>\n",
       "    <tr>\n",
       "      <th>2</th>\n",
       "      <td>Hey  don't knock the Port+OJ until you've trie...</td>\n",
       "      <td>1</td>\n",
       "      <td>[Hey, Port, As]</td>\n",
       "      <td>0.130435</td>\n",
       "    </tr>\n",
       "    <tr>\n",
       "      <th>3</th>\n",
       "      <td>Famous! Duhh Haha that means I would be rich...</td>\n",
       "      <td>0</td>\n",
       "      <td>[Famous, Duhh, Haha]</td>\n",
       "      <td>0.176471</td>\n",
       "    </tr>\n",
       "    <tr>\n",
       "      <th>4</th>\n",
       "      <td>Not yet  the woman was wanting to escape  but ...</td>\n",
       "      <td>0</td>\n",
       "      <td>[Not]</td>\n",
       "      <td>0.043478</td>\n",
       "    </tr>\n",
       "  </tbody>\n",
       "</table>\n",
       "</div>"
      ],
      "text/plain": [
       "                                             content label  \\\n",
       "0  Heh! Parcells is a bad-ass who knows how to he...     0   \n",
       "1  Then I would be gay and I would kill myself. D...     1   \n",
       "2  Hey  don't knock the Port+OJ until you've trie...     1   \n",
       "3    Famous! Duhh Haha that means I would be rich...     0   \n",
       "4  Not yet  the woman was wanting to escape  but ...     0   \n",
       "\n",
       "        \\b[A-Z][a-z]+\\b      rate  \n",
       "0  [Heh, Parcells, Hey]  0.125000  \n",
       "1           [Then, Don]  0.133333  \n",
       "2       [Hey, Port, As]  0.130435  \n",
       "3  [Famous, Duhh, Haha]  0.176471  \n",
       "4                 [Not]  0.043478  "
      ]
     },
     "execution_count": 48,
     "metadata": {},
     "output_type": "execute_result"
    }
   ],
   "source": [
    "# rate of words with the first capital letter\n",
    "regex = '\\\\b[A-Z][a-z]+\\\\b'\n",
    "matching_words_rate = compute_matching_words_rate(regex, X_train)\n",
    "data_extended['rate'] = matching_words_rate\n",
    "\n",
    "matching_data_extended = data_extended.loc[data_extended.iloc[:, 2].notnull()]\n",
    "matching_data_extended.head()"
   ]
  },
  {
   "cell_type": "code",
   "execution_count": 49,
   "metadata": {
    "collapsed": false
   },
   "outputs": [
    {
     "name": "stdout",
     "output_type": "stream",
     "text": [
      "0.360\n",
      "0.391\n"
     ]
    }
   ],
   "source": [
    "print('%.3f' % matching_data_extended[matching_data_extended.rate > 0.1].label.mean())\n",
    "print('%.3f' % matching_data_extended[matching_data_extended.rate < 0.1].label.mean())"
   ]
  },
  {
   "cell_type": "markdown",
   "metadata": {},
   "source": [
    "Lowercase say nothing"
   ]
  },
  {
   "cell_type": "code",
   "execution_count": 50,
   "metadata": {
    "collapsed": false
   },
   "outputs": [
    {
     "name": "stdout",
     "output_type": "stream",
     "text": [
      "The mean of labels of matching tweets = 0.39\n",
      "The rate of matching tweets = 0.302\n",
      "p-value = 0.587\n"
     ]
    },
    {
     "data": {
      "text/html": [
       "<div>\n",
       "<table border=\"1\" class=\"dataframe\">\n",
       "  <thead>\n",
       "    <tr style=\"text-align: right;\">\n",
       "      <th></th>\n",
       "      <th>content</th>\n",
       "      <th>label</th>\n",
       "      <th>^[^A-Z]+$</th>\n",
       "    </tr>\n",
       "  </thead>\n",
       "  <tbody>\n",
       "    <tr>\n",
       "      <th>5</th>\n",
       "      <td>damn dude. that is spot on (wrt fb v twitter)</td>\n",
       "      <td>0</td>\n",
       "      <td>[damn dude. that is spot on (wrt fb v twitter)]</td>\n",
       "    </tr>\n",
       "    <tr>\n",
       "      <th>9</th>\n",
       "      <td>its not hate on government  its hate on our ex...</td>\n",
       "      <td>0</td>\n",
       "      <td>[its not hate on government  its hate on our e...</td>\n",
       "    </tr>\n",
       "    <tr>\n",
       "      <th>14</th>\n",
       "      <td>you were right  the uv filter that came with t...</td>\n",
       "      <td>1</td>\n",
       "      <td>[you were right  the uv filter that came with ...</td>\n",
       "    </tr>\n",
       "    <tr>\n",
       "      <th>19</th>\n",
       "      <td>what do you usually wear? like to school?</td>\n",
       "      <td>0</td>\n",
       "      <td>[ what do you usually wear? like to school?]</td>\n",
       "    </tr>\n",
       "    <tr>\n",
       "      <th>23</th>\n",
       "      <td>thats a awesome ass hat lol</td>\n",
       "      <td>0</td>\n",
       "      <td>[thats a awesome ass hat lol]</td>\n",
       "    </tr>\n",
       "  </tbody>\n",
       "</table>\n",
       "</div>"
      ],
      "text/plain": [
       "                                              content label  \\\n",
       "5       damn dude. that is spot on (wrt fb v twitter)     0   \n",
       "9   its not hate on government  its hate on our ex...     0   \n",
       "14  you were right  the uv filter that came with t...     1   \n",
       "19          what do you usually wear? like to school?     0   \n",
       "23                        thats a awesome ass hat lol     0   \n",
       "\n",
       "                                            ^[^A-Z]+$  \n",
       "5     [damn dude. that is spot on (wrt fb v twitter)]  \n",
       "9   [its not hate on government  its hate on our e...  \n",
       "14  [you were right  the uv filter that came with ...  \n",
       "19       [ what do you usually wear? like to school?]  \n",
       "23                      [thats a awesome ass hat lol]  "
      ]
     },
     "execution_count": 50,
     "metadata": {},
     "output_type": "execute_result"
    }
   ],
   "source": [
    "regex = '^[^A-Z]+$'\n",
    "data_extended = find_all_matches(X_train, y_train, regex)\n",
    "print_matching_statistics(data_extended, regex)\n",
    "data_extended.loc[data_extended[regex].notnull()].head()"
   ]
  },
  {
   "cell_type": "markdown",
   "metadata": {},
   "source": [
    "Repeating letters is more related to nonaggressive tweets"
   ]
  },
  {
   "cell_type": "code",
   "execution_count": 51,
   "metadata": {
    "collapsed": false
   },
   "outputs": [
    {
     "name": "stdout",
     "output_type": "stream",
     "text": [
      "The mean of labels of matching tweets = 0.34\n",
      "The rate of matching tweets = 0.058\n",
      "p-value = 0.003\n"
     ]
    },
    {
     "data": {
      "text/html": [
       "<div>\n",
       "<table border=\"1\" class=\"dataframe\">\n",
       "  <thead>\n",
       "    <tr style=\"text-align: right;\">\n",
       "      <th></th>\n",
       "      <th>content</th>\n",
       "      <th>label</th>\n",
       "      <th>(([a-zA-Z])\\2{2,})</th>\n",
       "    </tr>\n",
       "  </thead>\n",
       "  <tbody>\n",
       "    <tr>\n",
       "      <th>4</th>\n",
       "      <td>Not yet  the woman was wanting to escape  but ...</td>\n",
       "      <td>0</td>\n",
       "      <td>[(ppp, p), (fff, f)]</td>\n",
       "    </tr>\n",
       "    <tr>\n",
       "      <th>32</th>\n",
       "      <td>nigga u geigh lmao! fuck yo finals beeeeeitch</td>\n",
       "      <td>1</td>\n",
       "      <td>[(eeeee, e)]</td>\n",
       "    </tr>\n",
       "    <tr>\n",
       "      <th>36</th>\n",
       "      <td>awww man sorry to hear you got laid off damn e...</td>\n",
       "      <td>0</td>\n",
       "      <td>[(www, w)]</td>\n",
       "    </tr>\n",
       "    <tr>\n",
       "      <th>38</th>\n",
       "      <td>Im doing good thankyuh!!!Heyyy hbu?!</td>\n",
       "      <td>0</td>\n",
       "      <td>[(yyy, y)]</td>\n",
       "    </tr>\n",
       "    <tr>\n",
       "      <th>64</th>\n",
       "      <td>mr big dick daddy 4rm cincinnati....ooooowwww...</td>\n",
       "      <td>0</td>\n",
       "      <td>[(ooooo, o), (wwwww, w)]</td>\n",
       "    </tr>\n",
       "  </tbody>\n",
       "</table>\n",
       "</div>"
      ],
      "text/plain": [
       "                                              content label  \\\n",
       "4   Not yet  the woman was wanting to escape  but ...     0   \n",
       "32      nigga u geigh lmao! fuck yo finals beeeeeitch     1   \n",
       "36  awww man sorry to hear you got laid off damn e...     0   \n",
       "38               Im doing good thankyuh!!!Heyyy hbu?!     0   \n",
       "64   mr big dick daddy 4rm cincinnati....ooooowwww...     0   \n",
       "\n",
       "          (([a-zA-Z])\\2{2,})  \n",
       "4       [(ppp, p), (fff, f)]  \n",
       "32              [(eeeee, e)]  \n",
       "36                [(www, w)]  \n",
       "38                [(yyy, y)]  \n",
       "64  [(ooooo, o), (wwwww, w)]  "
      ]
     },
     "execution_count": 51,
     "metadata": {},
     "output_type": "execute_result"
    }
   ],
   "source": [
    "regex = '(([a-zA-Z])\\\\2{2,})'\n",
    "data_extended = find_all_matches(X_train, y_train, regex)\n",
    "print_matching_statistics(data_extended, regex)\n",
    "data_extended.loc[data_extended[regex].notnull()].head()"
   ]
  },
  {
   "cell_type": "code",
   "execution_count": 52,
   "metadata": {
    "collapsed": false
   },
   "outputs": [
    {
     "data": {
      "text/html": [
       "<div>\n",
       "<table border=\"1\" class=\"dataframe\">\n",
       "  <thead>\n",
       "    <tr style=\"text-align: right;\">\n",
       "      <th></th>\n",
       "      <th>content</th>\n",
       "      <th>label</th>\n",
       "      <th>(([a-zA-Z])\\2{2,})</th>\n",
       "      <th>rate</th>\n",
       "    </tr>\n",
       "  </thead>\n",
       "  <tbody>\n",
       "    <tr>\n",
       "      <th>4</th>\n",
       "      <td>Not yet  the woman was wanting to escape  but ...</td>\n",
       "      <td>0</td>\n",
       "      <td>[(ppp, p), (fff, f)]</td>\n",
       "      <td>0.043478</td>\n",
       "    </tr>\n",
       "    <tr>\n",
       "      <th>32</th>\n",
       "      <td>nigga u geigh lmao! fuck yo finals beeeeeitch</td>\n",
       "      <td>1</td>\n",
       "      <td>[(eeeee, e)]</td>\n",
       "      <td>0.125000</td>\n",
       "    </tr>\n",
       "    <tr>\n",
       "      <th>36</th>\n",
       "      <td>awww man sorry to hear you got laid off damn e...</td>\n",
       "      <td>0</td>\n",
       "      <td>[(www, w)]</td>\n",
       "      <td>0.083333</td>\n",
       "    </tr>\n",
       "    <tr>\n",
       "      <th>38</th>\n",
       "      <td>Im doing good thankyuh!!!Heyyy hbu?!</td>\n",
       "      <td>0</td>\n",
       "      <td>[(yyy, y)]</td>\n",
       "      <td>0.166667</td>\n",
       "    </tr>\n",
       "    <tr>\n",
       "      <th>64</th>\n",
       "      <td>mr big dick daddy 4rm cincinnati....ooooowwww...</td>\n",
       "      <td>0</td>\n",
       "      <td>[(ooooo, o), (wwwww, w)]</td>\n",
       "      <td>0.142857</td>\n",
       "    </tr>\n",
       "  </tbody>\n",
       "</table>\n",
       "</div>"
      ],
      "text/plain": [
       "                                              content label  \\\n",
       "4   Not yet  the woman was wanting to escape  but ...     0   \n",
       "32      nigga u geigh lmao! fuck yo finals beeeeeitch     1   \n",
       "36  awww man sorry to hear you got laid off damn e...     0   \n",
       "38               Im doing good thankyuh!!!Heyyy hbu?!     0   \n",
       "64   mr big dick daddy 4rm cincinnati....ooooowwww...     0   \n",
       "\n",
       "          (([a-zA-Z])\\2{2,})      rate  \n",
       "4       [(ppp, p), (fff, f)]  0.043478  \n",
       "32              [(eeeee, e)]  0.125000  \n",
       "36                [(www, w)]  0.083333  \n",
       "38                [(yyy, y)]  0.166667  \n",
       "64  [(ooooo, o), (wwwww, w)]  0.142857  "
      ]
     },
     "execution_count": 52,
     "metadata": {},
     "output_type": "execute_result"
    }
   ],
   "source": [
    "# rate of words with repeating letters\n",
    "regex = '\\\\b\\\\w*(([a-zA-Z])\\\\2{2,})\\\\w*\\\\b'\n",
    "matching_words_rate = compute_matching_words_rate(regex, X_train)\n",
    "data_extended['rate'] = matching_words_rate\n",
    "\n",
    "matching_data_extended = data_extended.loc[data_extended.iloc[:, 2].notnull()]\n",
    "matching_data_extended.head()"
   ]
  },
  {
   "cell_type": "code",
   "execution_count": 53,
   "metadata": {
    "collapsed": false
   },
   "outputs": [
    {
     "name": "stdout",
     "output_type": "stream",
     "text": [
      "0.251\n",
      "0.419\n"
     ]
    }
   ],
   "source": [
    "print('%.3f' % matching_data_extended[matching_data_extended.rate > 0.1].label.mean())\n",
    "print('%.3f' % matching_data_extended[matching_data_extended.rate < 0.1].label.mean())"
   ]
  },
  {
   "cell_type": "markdown",
   "metadata": {},
   "source": [
    "Laugh is more related to nonaggressive tweets"
   ]
  },
  {
   "cell_type": "code",
   "execution_count": 54,
   "metadata": {
    "collapsed": false
   },
   "outputs": [
    {
     "name": "stdout",
     "output_type": "stream",
     "text": [
      "The mean of labels of matching tweets = 0.26\n",
      "The rate of matching tweets = 0.050\n",
      "p-value = 0.000\n"
     ]
    },
    {
     "data": {
      "text/html": [
       "<div>\n",
       "<table border=\"1\" class=\"dataframe\">\n",
       "  <thead>\n",
       "    <tr style=\"text-align: right;\">\n",
       "      <th></th>\n",
       "      <th>content</th>\n",
       "      <th>label</th>\n",
       "      <th>(b?w?a?(ha|he)\\2{1,}h?)</th>\n",
       "    </tr>\n",
       "  </thead>\n",
       "  <tbody>\n",
       "    <tr>\n",
       "      <th>11</th>\n",
       "      <td>haha yeah okay. Sounds good :] Sleep well.</td>\n",
       "      <td>0</td>\n",
       "      <td>[(haha, ha)]</td>\n",
       "    </tr>\n",
       "    <tr>\n",
       "      <th>86</th>\n",
       "      <td>what song? wtf haha</td>\n",
       "      <td>0</td>\n",
       "      <td>[(haha, ha)]</td>\n",
       "    </tr>\n",
       "    <tr>\n",
       "      <th>98</th>\n",
       "      <td>I don't . but when i was little  sweet and s...</td>\n",
       "      <td>0</td>\n",
       "      <td>[(hahah, ha)]</td>\n",
       "    </tr>\n",
       "    <tr>\n",
       "      <th>114</th>\n",
       "      <td>I hate my life haha</td>\n",
       "      <td>1</td>\n",
       "      <td>[(haha, ha)]</td>\n",
       "    </tr>\n",
       "    <tr>\n",
       "      <th>120</th>\n",
       "      <td>yes. i dont eat them. haha</td>\n",
       "      <td>0</td>\n",
       "      <td>[(haha, ha)]</td>\n",
       "    </tr>\n",
       "  </tbody>\n",
       "</table>\n",
       "</div>"
      ],
      "text/plain": [
       "                                               content label  \\\n",
       "11          haha yeah okay. Sounds good :] Sleep well.     0   \n",
       "86                                 what song? wtf haha     0   \n",
       "98     I don't . but when i was little  sweet and s...     0   \n",
       "114                                I hate my life haha     1   \n",
       "120                         yes. i dont eat them. haha     0   \n",
       "\n",
       "    (b?w?a?(ha|he)\\2{1,}h?)  \n",
       "11             [(haha, ha)]  \n",
       "86             [(haha, ha)]  \n",
       "98            [(hahah, ha)]  \n",
       "114            [(haha, ha)]  \n",
       "120            [(haha, ha)]  "
      ]
     },
     "execution_count": 54,
     "metadata": {},
     "output_type": "execute_result"
    }
   ],
   "source": [
    "regex = '(b?w?a?(ha|he)\\\\2{1,}h?)'\n",
    "data_extended = find_all_matches(X_train, y_train, regex)\n",
    "print_matching_statistics(data_extended, regex)\n",
    "data_extended.loc[data_extended[regex].notnull()].head()"
   ]
  },
  {
   "cell_type": "markdown",
   "metadata": {},
   "source": [
    "Stopwords"
   ]
  },
  {
   "cell_type": "code",
   "execution_count": 55,
   "metadata": {
    "collapsed": false
   },
   "outputs": [
    {
     "name": "stdout",
     "output_type": "stream",
     "text": [
      "['i', 'me', 'my', 'myself', 'we', 'our', 'ours', 'ourselves', 'you', \"you're\", \"you've\", \"you'll\", \"you'd\", 'your', 'yours', 'yourself', 'yourselves', 'he', 'him', 'his', 'himself', 'she', \"she's\", 'her', 'hers', 'herself', 'it', \"it's\", 'its', 'itself', 'they', 'them', 'their', 'theirs', 'themselves', 'what', 'which', 'who', 'whom', 'this', 'that', \"that'll\", 'these', 'those', 'am', 'is', 'are', 'was', 'were', 'be', 'been', 'being', 'have', 'has', 'had', 'having', 'do', 'does', 'did', 'doing', 'a', 'an', 'the', 'and', 'but', 'if', 'or', 'because', 'as', 'until', 'while', 'of', 'at', 'by', 'for', 'with', 'about', 'against', 'between', 'into', 'through', 'during', 'before', 'after', 'above', 'below', 'to', 'from', 'up', 'down', 'in', 'out', 'on', 'off', 'over', 'under', 'again', 'further', 'then', 'once', 'here', 'there', 'when', 'where', 'why', 'how', 'all', 'any', 'both', 'each', 'few', 'more', 'most', 'other', 'some', 'such', 'no', 'nor', 'not', 'only', 'own', 'same', 'so', 'than', 'too', 'very', 's', 't', 'can', 'will', 'just', 'don', \"don't\", 'should', \"should've\", 'now', 'd', 'll', 'm', 'o', 're', 've', 'y', 'ain', 'aren', \"aren't\", 'couldn', \"couldn't\", 'didn', \"didn't\", 'doesn', \"doesn't\", 'hadn', \"hadn't\", 'hasn', \"hasn't\", 'haven', \"haven't\", 'isn', \"isn't\", 'ma', 'mightn', \"mightn't\", 'mustn', \"mustn't\", 'needn', \"needn't\", 'shan', \"shan't\", 'shouldn', \"shouldn't\", 'wasn', \"wasn't\", 'weren', \"weren't\", 'won', \"won't\", 'wouldn', \"wouldn't\"]\n"
     ]
    }
   ],
   "source": [
    "STOPWORDS = nltk.corpus.stopwords.words('english')\n",
    "print(STOPWORDS)"
   ]
  },
  {
   "cell_type": "code",
   "execution_count": 56,
   "metadata": {
    "collapsed": false
   },
   "outputs": [
    {
     "data": {
      "text/plain": [
       "(False, True)"
      ]
     },
     "execution_count": 56,
     "metadata": {},
     "output_type": "execute_result"
    }
   ],
   "source": [
    "'n\\'t' in STOPWORDS, 'not' in STOPWORDS"
   ]
  },
  {
   "cell_type": "code",
   "execution_count": 57,
   "metadata": {
    "collapsed": false
   },
   "outputs": [
    {
     "name": "stdout",
     "output_type": "stream",
     "text": [
      "a\n",
      "The mean of labels of matching tweets = 0.41\n",
      "The rate of matching tweets = 0.921\n",
      "p-value = 0.000\n",
      "about\n",
      "The mean of labels of matching tweets = 0.36\n",
      "The rate of matching tweets = 0.036\n",
      "p-value = 0.167\n",
      "above\n",
      "The mean of labels of matching tweets = 0.78\n",
      "The rate of matching tweets = 0.001\n",
      "p-value = 0.033\n",
      "after\n",
      "The mean of labels of matching tweets = 0.47\n",
      "The rate of matching tweets = 0.007\n",
      "p-value = 0.135\n",
      "again\n",
      "The mean of labels of matching tweets = 0.39\n",
      "The rate of matching tweets = 0.009\n",
      "p-value = 1.000\n",
      "against\n",
      "The mean of labels of matching tweets = 0.44\n",
      "The rate of matching tweets = 0.002\n",
      "p-value = 0.683\n",
      "ain\n",
      "The mean of labels of matching tweets = 0.43\n",
      "The rate of matching tweets = 0.034\n",
      "p-value = 0.069\n",
      "all\n",
      "The mean of labels of matching tweets = 0.41\n",
      "The rate of matching tweets = 0.127\n",
      "p-value = 0.128\n",
      "am\n",
      "The mean of labels of matching tweets = 0.44\n",
      "The rate of matching tweets = 0.221\n",
      "p-value = 0.000\n",
      "an\n",
      "The mean of labels of matching tweets = 0.41\n",
      "The rate of matching tweets = 0.399\n",
      "p-value = 0.001\n",
      "and\n",
      "The mean of labels of matching tweets = 0.42\n",
      "The rate of matching tweets = 0.180\n",
      "p-value = 0.001\n",
      "any\n",
      "The mean of labels of matching tweets = 0.33\n",
      "The rate of matching tweets = 0.044\n",
      "p-value = 0.002\n",
      "are\n",
      "The mean of labels of matching tweets = 0.44\n",
      "The rate of matching tweets = 0.087\n",
      "p-value = 0.002\n",
      "aren\n",
      "The mean of labels of matching tweets = 0.42\n",
      "The rate of matching tweets = 0.007\n",
      "p-value = 0.522\n",
      "aren't\n",
      "The mean of labels of matching tweets = 0.27\n",
      "The rate of matching tweets = 0.001\n",
      "p-value = 0.431\n",
      "as\n",
      "The mean of labels of matching tweets = 0.46\n",
      "The rate of matching tweets = 0.266\n",
      "p-value = 0.000\n",
      "at\n",
      "The mean of labels of matching tweets = 0.43\n",
      "The rate of matching tweets = 0.492\n",
      "p-value = 0.000\n",
      "be\n",
      "The mean of labels of matching tweets = 0.40\n",
      "The rate of matching tweets = 0.201\n",
      "p-value = 0.585\n",
      "because\n",
      "The mean of labels of matching tweets = 0.45\n",
      "The rate of matching tweets = 0.017\n",
      "p-value = 0.093\n",
      "been\n",
      "The mean of labels of matching tweets = 0.34\n",
      "The rate of matching tweets = 0.019\n",
      "p-value = 0.143\n",
      "before\n",
      "The mean of labels of matching tweets = 0.33\n",
      "The rate of matching tweets = 0.007\n",
      "p-value = 0.282\n",
      "being\n",
      "The mean of labels of matching tweets = 0.42\n",
      "The rate of matching tweets = 0.014\n",
      "p-value = 0.365\n",
      "below\n",
      "The mean of labels of matching tweets = 1.00\n",
      "The rate of matching tweets = 0.000\n",
      "p-value = 0.152\n",
      "between\n",
      "The mean of labels of matching tweets = 0.43\n",
      "The rate of matching tweets = 0.002\n",
      "p-value = 0.824\n",
      "both\n",
      "The mean of labels of matching tweets = 0.42\n",
      "The rate of matching tweets = 0.006\n",
      "p-value = 0.572\n",
      "but\n",
      "The mean of labels of matching tweets = 0.36\n",
      "The rate of matching tweets = 0.085\n",
      "p-value = 0.029\n",
      "by\n",
      "The mean of labels of matching tweets = 0.39\n",
      "The rate of matching tweets = 0.020\n",
      "p-value = 1.000\n",
      "can\n",
      "The mean of labels of matching tweets = 0.45\n",
      "The rate of matching tweets = 0.055\n",
      "p-value = 0.001\n",
      "couldn\n",
      "The mean of labels of matching tweets = 0.53\n",
      "The rate of matching tweets = 0.002\n",
      "p-value = 0.133\n",
      "couldn't\n",
      "The mean of labels of matching tweets = 0.57\n",
      "The rate of matching tweets = 0.002\n",
      "p-value = 0.091\n",
      "d\n",
      "The mean of labels of matching tweets = 0.40\n",
      "The rate of matching tweets = 0.738\n",
      "p-value = 0.124\n",
      "did\n",
      "The mean of labels of matching tweets = 0.42\n",
      "The rate of matching tweets = 0.035\n",
      "p-value = 0.134\n",
      "didn\n",
      "The mean of labels of matching tweets = 0.50\n",
      "The rate of matching tweets = 0.013\n",
      "p-value = 0.006\n",
      "didn't\n",
      "The mean of labels of matching tweets = 0.54\n",
      "The rate of matching tweets = 0.009\n",
      "p-value = 0.001\n",
      "do\n",
      "The mean of labels of matching tweets = 0.36\n",
      "The rate of matching tweets = 0.198\n",
      "p-value = 0.000\n",
      "does\n",
      "The mean of labels of matching tweets = 0.35\n",
      "The rate of matching tweets = 0.020\n",
      "p-value = 0.174\n",
      "doesn\n",
      "The mean of labels of matching tweets = 0.33\n",
      "The rate of matching tweets = 0.009\n",
      "p-value = 0.243\n",
      "doesn't\n",
      "The mean of labels of matching tweets = 0.40\n",
      "The rate of matching tweets = 0.006\n",
      "p-value = 0.822\n",
      "doing\n",
      "The mean of labels of matching tweets = 0.43\n",
      "The rate of matching tweets = 0.008\n",
      "p-value = 0.469\n",
      "don\n",
      "The mean of labels of matching tweets = 0.39\n",
      "The rate of matching tweets = 0.066\n",
      "p-value = 0.944\n",
      "don't\n",
      "The mean of labels of matching tweets = 0.47\n",
      "The rate of matching tweets = 0.035\n",
      "p-value = 0.001\n",
      "down\n",
      "The mean of labels of matching tweets = 0.48\n",
      "The rate of matching tweets = 0.015\n",
      "p-value = 0.014\n",
      "during\n",
      "The mean of labels of matching tweets = 0.04\n",
      "The rate of matching tweets = 0.002\n",
      "p-value = 0.000\n",
      "each\n",
      "The mean of labels of matching tweets = 0.36\n",
      "The rate of matching tweets = 0.006\n",
      "p-value = 0.726\n",
      "few\n",
      "The mean of labels of matching tweets = 0.50\n",
      "The rate of matching tweets = 0.004\n",
      "p-value = 0.139\n",
      "for\n",
      "The mean of labels of matching tweets = 0.40\n",
      "The rate of matching tweets = 0.113\n",
      "p-value = 0.647\n",
      "from\n",
      "The mean of labels of matching tweets = 0.39\n",
      "The rate of matching tweets = 0.020\n",
      "p-value = 0.897\n",
      "further\n",
      "The mean of labels of matching tweets = 0.40\n",
      "The rate of matching tweets = 0.000\n",
      "p-value = 1.000\n",
      "had\n",
      "The mean of labels of matching tweets = 0.39\n",
      "The rate of matching tweets = 0.023\n",
      "p-value = 0.952\n",
      "hadn\n",
      "The mean of labels of matching tweets = 0.64\n",
      "The rate of matching tweets = 0.001\n",
      "p-value = 0.059\n",
      "hadn't\n",
      "The mean of labels of matching tweets = 0.69\n",
      "The rate of matching tweets = 0.001\n",
      "p-value = 0.042\n",
      "has\n",
      "The mean of labels of matching tweets = 0.37\n",
      "The rate of matching tweets = 0.015\n",
      "p-value = 0.661\n",
      "hasn\n",
      "The mean of labels of matching tweets = 0.73\n",
      "The rate of matching tweets = 0.001\n",
      "p-value = 0.014\n",
      "hasn't\n",
      "The mean of labels of matching tweets = 0.75\n",
      "The rate of matching tweets = 0.001\n",
      "p-value = 0.063\n",
      "have\n",
      "The mean of labels of matching tweets = 0.32\n",
      "The rate of matching tweets = 0.083\n",
      "p-value = 0.000\n",
      "haven\n",
      "The mean of labels of matching tweets = 0.25\n",
      "The rate of matching tweets = 0.004\n",
      "p-value = 0.029\n",
      "haven't\n",
      "The mean of labels of matching tweets = 0.36\n",
      "The rate of matching tweets = 0.003\n",
      "p-value = 0.745\n",
      "having\n",
      "The mean of labels of matching tweets = 0.39\n",
      "The rate of matching tweets = 0.006\n",
      "p-value = 1.000\n",
      "he\n",
      "The mean of labels of matching tweets = 0.41\n",
      "The rate of matching tweets = 0.457\n",
      "p-value = 0.001\n",
      "her\n",
      "The mean of labels of matching tweets = 0.40\n",
      "The rate of matching tweets = 0.112\n",
      "p-value = 0.515\n",
      "here\n",
      "The mean of labels of matching tweets = 0.38\n",
      "The rate of matching tweets = 0.056\n",
      "p-value = 0.542\n",
      "hers\n",
      "The mean of labels of matching tweets = 0.30\n",
      "The rate of matching tweets = 0.005\n",
      "p-value = 0.158\n",
      "herself\n",
      "The mean of labels of matching tweets = 0.57\n",
      "The rate of matching tweets = 0.001\n",
      "p-value = 0.443\n",
      "him\n",
      "The mean of labels of matching tweets = 0.53\n",
      "The rate of matching tweets = 0.020\n",
      "p-value = 0.000\n",
      "himself\n",
      "The mean of labels of matching tweets = 0.45\n",
      "The rate of matching tweets = 0.001\n",
      "p-value = 0.760\n",
      "his\n",
      "The mean of labels of matching tweets = 0.47\n",
      "The rate of matching tweets = 0.064\n",
      "p-value = 0.000\n",
      "how\n",
      "The mean of labels of matching tweets = 0.39\n",
      "The rate of matching tweets = 0.057\n",
      "p-value = 0.819\n",
      "i\n",
      "The mean of labels of matching tweets = 0.40\n",
      "The rate of matching tweets = 0.860\n",
      "p-value = 0.019\n",
      "if\n",
      "The mean of labels of matching tweets = 0.37\n",
      "The rate of matching tweets = 0.085\n",
      "p-value = 0.100\n",
      "in\n",
      "The mean of labels of matching tweets = 0.41\n",
      "The rate of matching tweets = 0.493\n",
      "p-value = 0.000\n",
      "into\n",
      "The mean of labels of matching tweets = 0.36\n",
      "The rate of matching tweets = 0.006\n",
      "p-value = 0.721\n",
      "is\n",
      "The mean of labels of matching tweets = 0.42\n",
      "The rate of matching tweets = 0.251\n",
      "p-value = 0.000\n",
      "isn\n",
      "The mean of labels of matching tweets = 0.41\n",
      "The rate of matching tweets = 0.005\n",
      "p-value = 0.793\n",
      "isn't\n",
      "The mean of labels of matching tweets = 0.52\n",
      "The rate of matching tweets = 0.003\n",
      "p-value = 0.155\n",
      "it\n",
      "The mean of labels of matching tweets = 0.43\n",
      "The rate of matching tweets = 0.373\n",
      "p-value = 0.000\n",
      "it's\n",
      "The mean of labels of matching tweets = 0.40\n",
      "The rate of matching tweets = 0.032\n",
      "p-value = 0.723\n",
      "its\n",
      "The mean of labels of matching tweets = 0.32\n",
      "The rate of matching tweets = 0.030\n",
      "p-value = 0.009\n",
      "itself\n",
      "The mean of labels of matching tweets = 0.50\n",
      "The rate of matching tweets = 0.000\n",
      "p-value = 0.646\n",
      "just\n",
      "The mean of labels of matching tweets = 0.43\n",
      "The rate of matching tweets = 0.066\n",
      "p-value = 0.015\n",
      "ll\n",
      "The mean of labels of matching tweets = 0.41\n",
      "The rate of matching tweets = 0.264\n",
      "p-value = 0.044\n",
      "m\n",
      "The mean of labels of matching tweets = 0.42\n",
      "The rate of matching tweets = 0.684\n",
      "p-value = 0.000\n",
      "ma\n",
      "The mean of labels of matching tweets = 0.42\n",
      "The rate of matching tweets = 0.169\n",
      "p-value = 0.006\n",
      "me\n",
      "The mean of labels of matching tweets = 0.41\n",
      "The rate of matching tweets = 0.275\n",
      "p-value = 0.008\n",
      "mightn\n",
      "The mean of labels of matching tweets = nan\n",
      "The rate of matching tweets = 0.000\n",
      "p-value = 1.000\n",
      "mightn't\n",
      "The mean of labels of matching tweets = nan\n",
      "The rate of matching tweets = 0.000\n",
      "p-value = 1.000\n",
      "more\n",
      "The mean of labels of matching tweets = 0.37\n",
      "The rate of matching tweets = 0.026\n",
      "p-value = 0.577\n",
      "most\n",
      "The mean of labels of matching tweets = 0.31\n",
      "The rate of matching tweets = 0.015\n",
      "p-value = 0.025\n",
      "mustn\n",
      "The mean of labels of matching tweets = nan\n",
      "The rate of matching tweets = 0.000\n",
      "p-value = 1.000\n",
      "mustn't\n",
      "The mean of labels of matching tweets = nan\n",
      "The rate of matching tweets = 0.000\n",
      "p-value = 1.000\n",
      "my\n",
      "The mean of labels of matching tweets = 0.43\n",
      "The rate of matching tweets = 0.120\n",
      "p-value = 0.004\n",
      "myself\n",
      "The mean of labels of matching tweets = 0.49\n",
      "The rate of matching tweets = 0.006\n",
      "p-value = 0.096\n",
      "needn\n",
      "The mean of labels of matching tweets = nan\n",
      "The rate of matching tweets = 0.000\n",
      "p-value = 1.000\n",
      "needn't\n",
      "The mean of labels of matching tweets = nan\n",
      "The rate of matching tweets = 0.000\n",
      "p-value = 1.000\n",
      "no\n",
      "The mean of labels of matching tweets = 0.38\n",
      "The rate of matching tweets = 0.220\n",
      "p-value = 0.428\n",
      "nor\n",
      "The mean of labels of matching tweets = 0.45\n",
      "The rate of matching tweets = 0.006\n",
      "p-value = 0.282\n",
      "not\n",
      "The mean of labels of matching tweets = 0.36\n",
      "The rate of matching tweets = 0.071\n",
      "p-value = 0.048\n",
      "now\n",
      "The mean of labels of matching tweets = 0.43\n",
      "The rate of matching tweets = 0.089\n",
      "p-value = 0.011\n",
      "o\n",
      "The mean of labels of matching tweets = 0.39\n",
      "The rate of matching tweets = 0.898\n",
      "p-value = 0.592\n",
      "of\n",
      "The mean of labels of matching tweets = 0.42\n",
      "The rate of matching tweets = 0.145\n",
      "p-value = 0.007\n",
      "off\n",
      "The mean of labels of matching tweets = 0.49\n",
      "The rate of matching tweets = 0.034\n",
      "p-value = 0.000\n",
      "on\n",
      "The mean of labels of matching tweets = 0.40\n",
      "The rate of matching tweets = 0.350\n",
      "p-value = 0.277\n",
      "once\n",
      "The mean of labels of matching tweets = 0.37\n",
      "The rate of matching tweets = 0.008\n",
      "p-value = 0.691\n",
      "only\n",
      "The mean of labels of matching tweets = 0.37\n",
      "The rate of matching tweets = 0.016\n",
      "p-value = 0.612\n",
      "or\n",
      "The mean of labels of matching tweets = 0.40\n",
      "The rate of matching tweets = 0.293\n",
      "p-value = 0.384\n",
      "other\n",
      "The mean of labels of matching tweets = 0.39\n",
      "The rate of matching tweets = 0.024\n",
      "p-value = 0.908\n",
      "our\n",
      "The mean of labels of matching tweets = 0.40\n",
      "The rate of matching tweets = 0.108\n",
      "p-value = 0.543\n",
      "ours\n",
      "The mean of labels of matching tweets = 0.33\n",
      "The rate of matching tweets = 0.011\n",
      "p-value = 0.169\n",
      "ourselves\n",
      "The mean of labels of matching tweets = 0.00\n",
      "The rate of matching tweets = 0.000\n",
      "p-value = 0.524\n",
      "out\n",
      "The mean of labels of matching tweets = 0.41\n",
      "The rate of matching tweets = 0.092\n",
      "p-value = 0.244\n",
      "over\n",
      "The mean of labels of matching tweets = 0.47\n",
      "The rate of matching tweets = 0.021\n",
      "p-value = 0.009\n",
      "own\n",
      "The mean of labels of matching tweets = 0.42\n",
      "The rate of matching tweets = 0.028\n",
      "p-value = 0.236\n",
      "re\n",
      "The mean of labels of matching tweets = 0.41\n",
      "The rate of matching tweets = 0.383\n",
      "p-value = 0.005\n",
      "s\n",
      "The mean of labels of matching tweets = 0.41\n",
      "The rate of matching tweets = 0.832\n",
      "p-value = 0.001\n",
      "same\n",
      "The mean of labels of matching tweets = 0.38\n",
      "The rate of matching tweets = 0.010\n",
      "p-value = 0.927\n",
      "shan\n",
      "The mean of labels of matching tweets = 0.33\n",
      "The rate of matching tweets = 0.000\n",
      "p-value = 1.000\n",
      "shan't\n",
      "The mean of labels of matching tweets = nan\n",
      "The rate of matching tweets = 0.000\n",
      "p-value = 1.000\n",
      "she\n",
      "The mean of labels of matching tweets = 0.49\n",
      "The rate of matching tweets = 0.026\n",
      "p-value = 0.000\n",
      "she's\n",
      "The mean of labels of matching tweets = 0.52\n",
      "The rate of matching tweets = 0.003\n",
      "p-value = 0.088\n",
      "should\n",
      "The mean of labels of matching tweets = 0.46\n",
      "The rate of matching tweets = 0.016\n",
      "p-value = 0.038\n",
      "should've\n",
      "The mean of labels of matching tweets = 0.00\n",
      "The rate of matching tweets = 0.000\n",
      "p-value = 0.286\n",
      "shouldn\n",
      "The mean of labels of matching tweets = 0.61\n",
      "The rate of matching tweets = 0.001\n",
      "p-value = 0.087\n",
      "shouldn't\n",
      "The mean of labels of matching tweets = 0.69\n",
      "The rate of matching tweets = 0.001\n",
      "p-value = 0.042\n",
      "so\n",
      "The mean of labels of matching tweets = 0.40\n",
      "The rate of matching tweets = 0.199\n",
      "p-value = 0.215\n",
      "some\n",
      "The mean of labels of matching tweets = 0.36\n",
      "The rate of matching tweets = 0.066\n",
      "p-value = 0.138\n",
      "such\n",
      "The mean of labels of matching tweets = 0.56\n",
      "The rate of matching tweets = 0.007\n",
      "p-value = 0.001\n",
      "t\n",
      "The mean of labels of matching tweets = 0.40\n",
      "The rate of matching tweets = 0.886\n",
      "p-value = 0.001\n",
      "than\n",
      "The mean of labels of matching tweets = 0.34\n",
      "The rate of matching tweets = 0.033\n",
      "p-value = 0.028\n",
      "that\n",
      "The mean of labels of matching tweets = 0.46\n",
      "The rate of matching tweets = 0.200\n",
      "p-value = 0.000\n",
      "that'll\n",
      "The mean of labels of matching tweets = 0.67\n",
      "The rate of matching tweets = 0.000\n",
      "p-value = 0.217\n",
      "the\n",
      "The mean of labels of matching tweets = 0.40\n",
      "The rate of matching tweets = 0.345\n",
      "p-value = 0.180\n",
      "their\n",
      "The mean of labels of matching tweets = 0.34\n",
      "The rate of matching tweets = 0.008\n",
      "p-value = 0.362\n",
      "theirs\n",
      "The mean of labels of matching tweets = 0.75\n",
      "The rate of matching tweets = 0.000\n",
      "p-value = 0.306\n",
      "them\n",
      "The mean of labels of matching tweets = 0.44\n",
      "The rate of matching tweets = 0.029\n",
      "p-value = 0.033\n",
      "themselves\n",
      "The mean of labels of matching tweets = 0.22\n",
      "The rate of matching tweets = 0.001\n",
      "p-value = 0.497\n",
      "then\n",
      "The mean of labels of matching tweets = 0.47\n",
      "The rate of matching tweets = 0.020\n",
      "p-value = 0.007\n",
      "there\n",
      "The mean of labels of matching tweets = 0.35\n",
      "The rate of matching tweets = 0.028\n",
      "p-value = 0.127\n",
      "these\n",
      "The mean of labels of matching tweets = 0.48\n",
      "The rate of matching tweets = 0.006\n",
      "p-value = 0.120\n",
      "they\n",
      "The mean of labels of matching tweets = 0.45\n",
      "The rate of matching tweets = 0.044\n",
      "p-value = 0.007\n",
      "this\n",
      "The mean of labels of matching tweets = 0.43\n",
      "The rate of matching tweets = 0.044\n",
      "p-value = 0.035\n",
      "those\n",
      "The mean of labels of matching tweets = 0.41\n",
      "The rate of matching tweets = 0.013\n",
      "p-value = 0.533\n",
      "through\n",
      "The mean of labels of matching tweets = 0.50\n",
      "The rate of matching tweets = 0.003\n",
      "p-value = 0.156\n",
      "to\n",
      "The mean of labels of matching tweets = 0.41\n",
      "The rate of matching tweets = 0.310\n",
      "p-value = 0.017\n",
      "too\n",
      "The mean of labels of matching tweets = 0.38\n",
      "The rate of matching tweets = 0.040\n",
      "p-value = 0.558\n",
      "under\n",
      "The mean of labels of matching tweets = 0.27\n",
      "The rate of matching tweets = 0.005\n",
      "p-value = 0.053\n",
      "until\n",
      "The mean of labels of matching tweets = 0.49\n",
      "The rate of matching tweets = 0.004\n",
      "p-value = 0.159\n",
      "up\n",
      "The mean of labels of matching tweets = 0.46\n",
      "The rate of matching tweets = 0.078\n",
      "p-value = 0.000\n",
      "ve\n",
      "The mean of labels of matching tweets = 0.36\n",
      "The rate of matching tweets = 0.268\n",
      "p-value = 0.000\n",
      "very\n",
      "The mean of labels of matching tweets = 0.38\n",
      "The rate of matching tweets = 0.028\n",
      "p-value = 0.746\n",
      "was\n",
      "The mean of labels of matching tweets = 0.42\n",
      "The rate of matching tweets = 0.071\n",
      "p-value = 0.117\n",
      "wasn\n",
      "The mean of labels of matching tweets = 0.60\n",
      "The rate of matching tweets = 0.004\n",
      "p-value = 0.003\n",
      "wasn't\n",
      "The mean of labels of matching tweets = 0.57\n",
      "The rate of matching tweets = 0.003\n",
      "p-value = 0.022\n",
      "we\n",
      "The mean of labels of matching tweets = 0.40\n",
      "The rate of matching tweets = 0.135\n",
      "p-value = 0.506\n",
      "were\n",
      "The mean of labels of matching tweets = 0.40\n",
      "The rate of matching tweets = 0.016\n",
      "p-value = 0.718\n",
      "weren\n",
      "The mean of labels of matching tweets = 0.64\n",
      "The rate of matching tweets = 0.001\n",
      "p-value = 0.059\n",
      "weren't\n",
      "The mean of labels of matching tweets = 0.75\n",
      "The rate of matching tweets = 0.001\n",
      "p-value = 0.015\n",
      "what\n",
      "The mean of labels of matching tweets = 0.26\n",
      "The rate of matching tweets = 0.080\n",
      "p-value = 0.000\n",
      "when\n",
      "The mean of labels of matching tweets = 0.37\n",
      "The rate of matching tweets = 0.042\n",
      "p-value = 0.352\n",
      "where\n",
      "The mean of labels of matching tweets = 0.34\n",
      "The rate of matching tweets = 0.013\n",
      "p-value = 0.202\n",
      "which\n",
      "The mean of labels of matching tweets = 0.21\n",
      "The rate of matching tweets = 0.006\n",
      "p-value = 0.001\n",
      "while\n",
      "The mean of labels of matching tweets = 0.45\n",
      "The rate of matching tweets = 0.006\n",
      "p-value = 0.259\n",
      "who\n",
      "The mean of labels of matching tweets = 0.43\n",
      "The rate of matching tweets = 0.046\n",
      "p-value = 0.042\n",
      "whom\n",
      "The mean of labels of matching tweets = 0.00\n",
      "The rate of matching tweets = 0.000\n",
      "p-value = 0.164\n",
      "why\n",
      "The mean of labels of matching tweets = 0.38\n",
      "The rate of matching tweets = 0.024\n",
      "p-value = 0.862\n",
      "will\n",
      "The mean of labels of matching tweets = 0.43\n",
      "The rate of matching tweets = 0.025\n",
      "p-value = 0.152\n",
      "with\n",
      "The mean of labels of matching tweets = 0.41\n",
      "The rate of matching tweets = 0.061\n",
      "p-value = 0.211\n",
      "won\n",
      "The mean of labels of matching tweets = 0.45\n",
      "The rate of matching tweets = 0.010\n",
      "p-value = 0.182\n",
      "won't\n",
      "The mean of labels of matching tweets = 0.57\n",
      "The rate of matching tweets = 0.004\n",
      "p-value = 0.011\n",
      "wouldn\n",
      "The mean of labels of matching tweets = 0.45\n",
      "The rate of matching tweets = 0.005\n",
      "p-value = 0.308\n",
      "wouldn't\n",
      "The mean of labels of matching tweets = 0.55\n",
      "The rate of matching tweets = 0.004\n",
      "p-value = 0.025\n",
      "y\n",
      "The mean of labels of matching tweets = 0.39\n",
      "The rate of matching tweets = 0.749\n",
      "p-value = 0.391\n",
      "you\n",
      "The mean of labels of matching tweets = 0.39\n",
      "The rate of matching tweets = 0.337\n",
      "p-value = 0.617\n",
      "you'd\n",
      "The mean of labels of matching tweets = 0.48\n",
      "The rate of matching tweets = 0.002\n",
      "p-value = 0.413\n",
      "you'll\n",
      "The mean of labels of matching tweets = 0.46\n",
      "The rate of matching tweets = 0.004\n",
      "p-value = 0.314\n",
      "you're\n",
      "The mean of labels of matching tweets = 0.60\n",
      "The rate of matching tweets = 0.015\n",
      "p-value = 0.000\n",
      "you've\n",
      "The mean of labels of matching tweets = 0.42\n",
      "The rate of matching tweets = 0.002\n",
      "p-value = 0.836\n",
      "your\n",
      "The mean of labels of matching tweets = 0.40\n",
      "The rate of matching tweets = 0.087\n",
      "p-value = 0.406\n",
      "yours\n",
      "The mean of labels of matching tweets = 0.46\n",
      "The rate of matching tweets = 0.006\n",
      "p-value = 0.277\n",
      "yourself\n",
      "The mean of labels of matching tweets = 0.44\n",
      "The rate of matching tweets = 0.004\n",
      "p-value = 0.478\n",
      "yourselves\n",
      "The mean of labels of matching tweets = 0.00\n",
      "The rate of matching tweets = 0.000\n",
      "p-value = 1.000\n"
     ]
    }
   ],
   "source": [
    "X_train_lower = X_train.apply(str.lower)\n",
    "IRRELEVANT_STOPWORDS = []\n",
    "for stopword in np.sort(STOPWORDS):\n",
    "    print(stopword)\n",
    "    data_extended = find_all_matches(X_train_lower, y_train, stopword)\n",
    "    pvalue = compute_binom_pvalue(data_extended, stopword)\n",
    "    print_matching_statistics(data_extended, stopword)\n",
    "    if pvalue >= 0.01:\n",
    "        IRRELEVANT_STOPWORDS.append(stopword)"
   ]
  },
  {
   "cell_type": "code",
   "execution_count": 58,
   "metadata": {
    "collapsed": false
   },
   "outputs": [
    {
     "name": "stdout",
     "output_type": "stream",
     "text": [
      "['about', 'above', 'after', 'again', 'against', 'ain', 'all', 'aren', \"aren't\", 'be', 'because', 'been', 'before', 'being', 'below', 'between', 'both', 'but', 'by', 'couldn', \"couldn't\", 'd', 'did', 'does', 'doesn', \"doesn't\", 'doing', 'don', 'down', 'each', 'few', 'for', 'from', 'further', 'had', 'hadn', \"hadn't\", 'has', 'hasn', \"hasn't\", 'haven', \"haven't\", 'having', 'her', 'here', 'hers', 'herself', 'himself', 'how', 'i', 'if', 'into', 'isn', \"isn't\", \"it's\", 'itself', 'just', 'll', 'mightn', \"mightn't\", 'more', 'most', 'mustn', \"mustn't\", 'myself', 'needn', \"needn't\", 'no', 'nor', 'not', 'now', 'o', 'on', 'once', 'only', 'or', 'other', 'our', 'ours', 'ourselves', 'out', 'own', 'same', 'shan', \"shan't\", \"she's\", 'should', \"should've\", 'shouldn', \"shouldn't\", 'so', 'some', 'than', \"that'll\", 'the', 'their', 'theirs', 'them', 'themselves', 'there', 'these', 'this', 'those', 'through', 'to', 'too', 'under', 'until', 'very', 'was', \"wasn't\", 'we', 'were', 'weren', \"weren't\", 'when', 'where', 'while', 'who', 'whom', 'why', 'will', 'with', 'won', \"won't\", 'wouldn', \"wouldn't\", 'y', 'you', \"you'd\", \"you'll\", \"you've\", 'your', 'yours', 'yourself', 'yourselves']\n"
     ]
    }
   ],
   "source": [
    "print(IRRELEVANT_STOPWORDS)"
   ]
  },
  {
   "cell_type": "code",
   "execution_count": 59,
   "metadata": {
    "collapsed": false
   },
   "outputs": [
    {
     "data": {
      "text/plain": [
       "(179, 136)"
      ]
     },
     "execution_count": 59,
     "metadata": {},
     "output_type": "execute_result"
    }
   ],
   "source": [
    "len(STOPWORDS), len(IRRELEVANT_STOPWORDS)"
   ]
  },
  {
   "cell_type": "code",
   "execution_count": 60,
   "metadata": {
    "collapsed": false
   },
   "outputs": [
    {
     "name": "stdout",
     "output_type": "stream",
     "text": [
      "{'wasn', 's', 'have', 'do', 'didn', 'he', 'a', 'his', \"you're\", 'over', 'such', 'm', 'it', 'an', 'my', \"don't\", 'are', 't', 'then', 'in', 'which', 'ma', 're', 'as', 'she', 'and', 'of', 'its', 'during', 'up', 'at', 'that', 'me', 'is', \"didn't\", 'what', 'can', 'am', 'off', 'any', 'him', 'they', 've'}\n"
     ]
    }
   ],
   "source": [
    "print(set(STOPWORDS) - set(IRRELEVANT_STOPWORDS))"
   ]
  },
  {
   "cell_type": "code",
   "execution_count": 61,
   "metadata": {
    "collapsed": true
   },
   "outputs": [],
   "source": [
    "df = pd.DataFrame(IRRELEVANT_STOPWORDS)\n",
    "df.to_csv('./Data/irrelevant_stopwords.csv', index=False, header=False)"
   ]
  },
  {
   "cell_type": "code",
   "execution_count": null,
   "metadata": {
    "collapsed": true
   },
   "outputs": [],
   "source": []
  }
 ],
 "metadata": {
  "kernelspec": {
   "display_name": "Python 3",
   "language": "python",
   "name": "python3"
  },
  "language_info": {
   "codemirror_mode": {
    "name": "ipython",
    "version": 3
   },
   "file_extension": ".py",
   "mimetype": "text/x-python",
   "name": "python",
   "nbconvert_exporter": "python",
   "pygments_lexer": "ipython3",
   "version": "3.6.0"
  }
 },
 "nbformat": 4,
 "nbformat_minor": 2
}
