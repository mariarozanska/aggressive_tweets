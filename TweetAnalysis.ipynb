{
 "cells": [
  {
   "cell_type": "markdown",
   "metadata": {},
   "source": [
    "## Problem: Detection of aggressive tweets"
   ]
  },
  {
   "cell_type": "markdown",
   "metadata": {},
   "source": [
    "Training dataset has 12776 tweets (in english) and validation dataset has 3194 tweets.<br/>\n",
    "Tweets are labeled (by human) as:\n",
    "* 1 (Cyber-Aggressive)\n",
    "* 0 (Non Cyber-Aggressive)"
   ]
  },
  {
   "cell_type": "markdown",
   "metadata": {},
   "source": [
    "# Tweet Analysis"
   ]
  },
  {
   "cell_type": "markdown",
   "metadata": {},
   "source": [
    "## Data"
   ]
  },
  {
   "cell_type": "code",
   "execution_count": 1,
   "metadata": {},
   "outputs": [],
   "source": [
    "import pandas as pd\n",
    "import numpy as np"
   ]
  },
  {
   "cell_type": "code",
   "execution_count": 2,
   "metadata": {},
   "outputs": [],
   "source": [
    "data_train = pd.read_json('./Data/train.json')"
   ]
  },
  {
   "cell_type": "code",
   "execution_count": 3,
   "metadata": {},
   "outputs": [],
   "source": [
    "X_train = data_train.content\n",
    "y_train = data_train.label"
   ]
  },
  {
   "cell_type": "code",
   "execution_count": 4,
   "metadata": {},
   "outputs": [
    {
     "name": "stdout",
     "output_type": "stream",
     "text": [
      "Training data: \n",
      "class 1 contribution = 0.40\n",
      "# = 12776\n"
     ]
    }
   ],
   "source": [
    "print('Training data: ', 'class 1 contribution = %.2f' % y_train.mean(), \n",
    "      '# = %s' % X_train.shape[0], sep='\\n')"
   ]
  },
  {
   "cell_type": "code",
   "execution_count": 5,
   "metadata": {},
   "outputs": [],
   "source": [
    "p = 0.40"
   ]
  },
  {
   "cell_type": "markdown",
   "metadata": {},
   "source": [
    "Only training part is analysed"
   ]
  },
  {
   "cell_type": "markdown",
   "metadata": {},
   "source": [
    "## Punctuation"
   ]
  },
  {
   "cell_type": "code",
   "execution_count": 15,
   "metadata": {},
   "outputs": [],
   "source": [
    "import string\n",
    "import re\n",
    "import nltk\n",
    "from myutils import compute_binom_pvalue\n",
    "from myutils import print_matching_statistics\n",
    "from myutils import find_all_matches\n",
    "from myutils import compute_matching_words_rate"
   ]
  },
  {
   "cell_type": "code",
   "execution_count": 7,
   "metadata": {},
   "outputs": [
    {
     "name": "stdout",
     "output_type": "stream",
     "text": [
      "['We\\'ve maybe had 1\" total here across 3-4 different \"snows\" My first time with snow tires ever and I can\\'t have any damn fun!'\n",
      " 'Lmao not as bad as other people :) *cough* @allieoop95 @brookoverroxx *cough* my Mommys :) Hehe. Are you a twitter whore? :)'\n",
      " '  yeah. money i love finding it too'\n",
      " ' how did you spend your 2 weeks time with out formspring?'\n",
      " ' What is the most expensive thing you have on right now?'\n",
      " 'me too. So entertaining. Dude you watch this mvie called trailor parl of terror. Fucking brilliant.'\n",
      " 'whelchers fuckin suck ass!'\n",
      " \"Hey  don't knock the Port+OJ until you've tried it.As cold remedies go  you're still sick but no longer give a damn. ;)\"\n",
      " 'I STILL HATE YOU.'\n",
      " \"I'm sorry. The situation sucks (I'm sure far more than I know).\"\n",
      " \"could be that I'm not typing hard enough? happened a lot more when I first got this laptop about 3 weeks ago. Sucks ass\"\n",
      " 'Ack  still no power... that sucks dude.  Hopefully it comes back soon for you!'\n",
      " ' a c t u a l l y;;i DO want himm<33 [: so you can hush that! [:'\n",
      " \"got to love a good sunset...  I just hate this time of year leaving work and it's already dark outside :(\"\n",
      " \"you're a bitch.\"]\n"
     ]
    }
   ],
   "source": [
    "print(np.random.choice(X_train.values, 15))"
   ]
  },
  {
   "cell_type": "code",
   "execution_count": 8,
   "metadata": {},
   "outputs": [
    {
     "name": "stdout",
     "output_type": "stream",
     "text": [
      "!\"#$%&'()*+,-./:;<=>?@[\\]^_`{|}~\n"
     ]
    }
   ],
   "source": [
    "PUNCTUATION = string.punctuation\n",
    "print(PUNCTUATION)"
   ]
  },
  {
   "cell_type": "markdown",
   "metadata": {},
   "source": [
    "Exclamation marks are more related to aggressive tweets"
   ]
  },
  {
   "cell_type": "code",
   "execution_count": 9,
   "metadata": {},
   "outputs": [
    {
     "name": "stdout",
     "output_type": "stream",
     "text": [
      "The mean of labels of matching tweets = 0.49\n",
      "The rate of matching tweets = 0.216\n",
      "p-value = 0.000\n"
     ]
    },
    {
     "data": {
      "text/html": [
       "<div>\n",
       "<style scoped>\n",
       "    .dataframe tbody tr th:only-of-type {\n",
       "        vertical-align: middle;\n",
       "    }\n",
       "\n",
       "    .dataframe tbody tr th {\n",
       "        vertical-align: top;\n",
       "    }\n",
       "\n",
       "    .dataframe thead th {\n",
       "        text-align: right;\n",
       "    }\n",
       "</style>\n",
       "<table border=\"1\" class=\"dataframe\">\n",
       "  <thead>\n",
       "    <tr style=\"text-align: right;\">\n",
       "      <th></th>\n",
       "      <th>content</th>\n",
       "      <th>label</th>\n",
       "      <th>(?&lt;![?!])!(?!!)</th>\n",
       "    </tr>\n",
       "  </thead>\n",
       "  <tbody>\n",
       "    <tr>\n",
       "      <th>1</th>\n",
       "      <td>you asian!!! I hate asians!!! Bahahahahhaha!!!...</td>\n",
       "      <td>1</td>\n",
       "      <td>[!]</td>\n",
       "    </tr>\n",
       "    <tr>\n",
       "      <th>4</th>\n",
       "      <td>thx for the well wishes lisa! i hate taking me...</td>\n",
       "      <td>1</td>\n",
       "      <td>[!]</td>\n",
       "    </tr>\n",
       "    <tr>\n",
       "      <th>10</th>\n",
       "      <td>What would you do if a leprecon jumped out of...</td>\n",
       "      <td>0</td>\n",
       "      <td>[!]</td>\n",
       "    </tr>\n",
       "    <tr>\n",
       "      <th>12</th>\n",
       "      <td>i twissed you! (twitter-missed yo ass).</td>\n",
       "      <td>0</td>\n",
       "      <td>[!]</td>\n",
       "    </tr>\n",
       "    <tr>\n",
       "      <th>13</th>\n",
       "      <td>I feel like such a nerd watching this! I LOVE ...</td>\n",
       "      <td>1</td>\n",
       "      <td>[!]</td>\n",
       "    </tr>\n",
       "  </tbody>\n",
       "</table>\n",
       "</div>"
      ],
      "text/plain": [
       "                                              content label (?<![?!])!(?!!)\n",
       "1   you asian!!! I hate asians!!! Bahahahahhaha!!!...     1             [!]\n",
       "4   thx for the well wishes lisa! i hate taking me...     1             [!]\n",
       "10   What would you do if a leprecon jumped out of...     0             [!]\n",
       "12            i twissed you! (twitter-missed yo ass).     0             [!]\n",
       "13  I feel like such a nerd watching this! I LOVE ...     1             [!]"
      ]
     },
     "execution_count": 9,
     "metadata": {},
     "output_type": "execute_result"
    }
   ],
   "source": [
    "regex = '(?<![?!])!(?!!)'\n",
    "data_extended = find_all_matches(X_train, y_train, regex)\n",
    "print_matching_statistics(data_extended, regex, p)\n",
    "data_extended.loc[data_extended[regex].notnull()].head()"
   ]
  },
  {
   "cell_type": "code",
   "execution_count": 10,
   "metadata": {},
   "outputs": [
    {
     "name": "stdout",
     "output_type": "stream",
     "text": [
      "The mean of labels of matching tweets = 0.39\n",
      "The rate of matching tweets = 0.024\n",
      "p-value = 0.644\n"
     ]
    },
    {
     "data": {
      "text/html": [
       "<div>\n",
       "<style scoped>\n",
       "    .dataframe tbody tr th:only-of-type {\n",
       "        vertical-align: middle;\n",
       "    }\n",
       "\n",
       "    .dataframe tbody tr th {\n",
       "        vertical-align: top;\n",
       "    }\n",
       "\n",
       "    .dataframe thead th {\n",
       "        text-align: right;\n",
       "    }\n",
       "</style>\n",
       "<table border=\"1\" class=\"dataframe\">\n",
       "  <thead>\n",
       "    <tr style=\"text-align: right;\">\n",
       "      <th></th>\n",
       "      <th>content</th>\n",
       "      <th>label</th>\n",
       "      <th>(?&lt;![?!])!{2}(?!!)</th>\n",
       "    </tr>\n",
       "  </thead>\n",
       "  <tbody>\n",
       "    <tr>\n",
       "      <th>1</th>\n",
       "      <td>you asian!!! I hate asians!!! Bahahahahhaha!!!...</td>\n",
       "      <td>1</td>\n",
       "      <td>[!!]</td>\n",
       "    </tr>\n",
       "    <tr>\n",
       "      <th>25</th>\n",
       "      <td>so do our cops! I got to ride one over break! ...</td>\n",
       "      <td>0</td>\n",
       "      <td>[!!]</td>\n",
       "    </tr>\n",
       "    <tr>\n",
       "      <th>98</th>\n",
       "      <td>Save the dog and plea with my boss i was on ...</td>\n",
       "      <td>0</td>\n",
       "      <td>[!!]</td>\n",
       "    </tr>\n",
       "    <tr>\n",
       "      <th>108</th>\n",
       "      <td>yeah u are!! Asian ass  embrace it</td>\n",
       "      <td>1</td>\n",
       "      <td>[!!]</td>\n",
       "    </tr>\n",
       "    <tr>\n",
       "      <th>123</th>\n",
       "      <td>fuck yeah!!</td>\n",
       "      <td>1</td>\n",
       "      <td>[!!]</td>\n",
       "    </tr>\n",
       "  </tbody>\n",
       "</table>\n",
       "</div>"
      ],
      "text/plain": [
       "                                               content label  \\\n",
       "1    you asian!!! I hate asians!!! Bahahahahhaha!!!...     1   \n",
       "25   so do our cops! I got to ride one over break! ...     0   \n",
       "98     Save the dog and plea with my boss i was on ...     0   \n",
       "108                 yeah u are!! Asian ass  embrace it     1   \n",
       "123                                        fuck yeah!!     1   \n",
       "\n",
       "    (?<![?!])!{2}(?!!)  \n",
       "1                 [!!]  \n",
       "25                [!!]  \n",
       "98                [!!]  \n",
       "108               [!!]  \n",
       "123               [!!]  "
      ]
     },
     "execution_count": 10,
     "metadata": {},
     "output_type": "execute_result"
    }
   ],
   "source": [
    "regex = '(?<![?!])!{2}(?!!)'\n",
    "data_extended = find_all_matches(X_train, y_train, regex)\n",
    "print_matching_statistics(data_extended, regex, p)\n",
    "data_extended.loc[data_extended[regex].notnull()].head()"
   ]
  },
  {
   "cell_type": "code",
   "execution_count": 11,
   "metadata": {},
   "outputs": [
    {
     "name": "stdout",
     "output_type": "stream",
     "text": [
      "The mean of labels of matching tweets = 0.45\n",
      "The rate of matching tweets = 0.055\n",
      "p-value = 0.009\n"
     ]
    },
    {
     "data": {
      "text/html": [
       "<div>\n",
       "<style scoped>\n",
       "    .dataframe tbody tr th:only-of-type {\n",
       "        vertical-align: middle;\n",
       "    }\n",
       "\n",
       "    .dataframe tbody tr th {\n",
       "        vertical-align: top;\n",
       "    }\n",
       "\n",
       "    .dataframe thead th {\n",
       "        text-align: right;\n",
       "    }\n",
       "</style>\n",
       "<table border=\"1\" class=\"dataframe\">\n",
       "  <thead>\n",
       "    <tr style=\"text-align: right;\">\n",
       "      <th></th>\n",
       "      <th>content</th>\n",
       "      <th>label</th>\n",
       "      <th>(?&lt;!\\?)!{2,}</th>\n",
       "    </tr>\n",
       "  </thead>\n",
       "  <tbody>\n",
       "    <tr>\n",
       "      <th>1</th>\n",
       "      <td>you asian!!! I hate asians!!! Bahahahahhaha!!!...</td>\n",
       "      <td>1</td>\n",
       "      <td>[!!!, !!!, !!!, !!!, !!!, !!]</td>\n",
       "    </tr>\n",
       "    <tr>\n",
       "      <th>13</th>\n",
       "      <td>I feel like such a nerd watching this! I LOVE ...</td>\n",
       "      <td>1</td>\n",
       "      <td>[!!!!!!!!!]</td>\n",
       "    </tr>\n",
       "    <tr>\n",
       "      <th>25</th>\n",
       "      <td>so do our cops! I got to ride one over break! ...</td>\n",
       "      <td>0</td>\n",
       "      <td>[!!]</td>\n",
       "    </tr>\n",
       "    <tr>\n",
       "      <th>51</th>\n",
       "      <td>I fucking hope you move you bitch!!!!</td>\n",
       "      <td>1</td>\n",
       "      <td>[!!!!]</td>\n",
       "    </tr>\n",
       "    <tr>\n",
       "      <th>98</th>\n",
       "      <td>Save the dog and plea with my boss i was on ...</td>\n",
       "      <td>0</td>\n",
       "      <td>[!!]</td>\n",
       "    </tr>\n",
       "  </tbody>\n",
       "</table>\n",
       "</div>"
      ],
      "text/plain": [
       "                                              content label  \\\n",
       "1   you asian!!! I hate asians!!! Bahahahahhaha!!!...     1   \n",
       "13  I feel like such a nerd watching this! I LOVE ...     1   \n",
       "25  so do our cops! I got to ride one over break! ...     0   \n",
       "51              I fucking hope you move you bitch!!!!     1   \n",
       "98    Save the dog and plea with my boss i was on ...     0   \n",
       "\n",
       "                     (?<!\\?)!{2,}  \n",
       "1   [!!!, !!!, !!!, !!!, !!!, !!]  \n",
       "13                    [!!!!!!!!!]  \n",
       "25                           [!!]  \n",
       "51                         [!!!!]  \n",
       "98                           [!!]  "
      ]
     },
     "execution_count": 11,
     "metadata": {},
     "output_type": "execute_result"
    }
   ],
   "source": [
    "regex = '(?<!\\\\?)!{2,}'\n",
    "data_extended = find_all_matches(X_train, y_train, regex)\n",
    "print_matching_statistics(data_extended, regex, p)\n",
    "data_extended.loc[data_extended[regex].notnull()].head()"
   ]
  },
  {
   "cell_type": "markdown",
   "metadata": {},
   "source": [
    "Single question marks are more related to nonaggressive tweets"
   ]
  },
  {
   "cell_type": "code",
   "execution_count": 12,
   "metadata": {},
   "outputs": [
    {
     "name": "stdout",
     "output_type": "stream",
     "text": [
      "The mean of labels of matching tweets = 0.26\n",
      "The rate of matching tweets = 0.230\n",
      "p-value = 0.000\n"
     ]
    },
    {
     "data": {
      "text/html": [
       "<div>\n",
       "<style scoped>\n",
       "    .dataframe tbody tr th:only-of-type {\n",
       "        vertical-align: middle;\n",
       "    }\n",
       "\n",
       "    .dataframe tbody tr th {\n",
       "        vertical-align: top;\n",
       "    }\n",
       "\n",
       "    .dataframe thead th {\n",
       "        text-align: right;\n",
       "    }\n",
       "</style>\n",
       "<table border=\"1\" class=\"dataframe\">\n",
       "  <thead>\n",
       "    <tr style=\"text-align: right;\">\n",
       "      <th></th>\n",
       "      <th>content</th>\n",
       "      <th>label</th>\n",
       "      <th>(?&lt;!\\?)\\?(?![?!])</th>\n",
       "    </tr>\n",
       "  </thead>\n",
       "  <tbody>\n",
       "    <tr>\n",
       "      <th>9</th>\n",
       "      <td>u30c4 You come across a zombie eating a waffl...</td>\n",
       "      <td>0</td>\n",
       "      <td>[?]</td>\n",
       "    </tr>\n",
       "    <tr>\n",
       "      <th>10</th>\n",
       "      <td>What would you do if a leprecon jumped out of...</td>\n",
       "      <td>0</td>\n",
       "      <td>[?]</td>\n",
       "    </tr>\n",
       "    <tr>\n",
       "      <th>21</th>\n",
       "      <td>is any of them super bad ass?</td>\n",
       "      <td>0</td>\n",
       "      <td>[?]</td>\n",
       "    </tr>\n",
       "    <tr>\n",
       "      <th>22</th>\n",
       "      <td>You're still alive? Well  damn  I just lost a ...</td>\n",
       "      <td>1</td>\n",
       "      <td>[?]</td>\n",
       "    </tr>\n",
       "    <tr>\n",
       "      <th>24</th>\n",
       "      <td>you do have a problem. What did u get bitch?</td>\n",
       "      <td>0</td>\n",
       "      <td>[?]</td>\n",
       "    </tr>\n",
       "  </tbody>\n",
       "</table>\n",
       "</div>"
      ],
      "text/plain": [
       "                                              content label (?<!\\?)\\?(?![?!])\n",
       "9    u30c4 You come across a zombie eating a waffl...     0               [?]\n",
       "10   What would you do if a leprecon jumped out of...     0               [?]\n",
       "21                      is any of them super bad ass?     0               [?]\n",
       "22  You're still alive? Well  damn  I just lost a ...     1               [?]\n",
       "24       you do have a problem. What did u get bitch?     0               [?]"
      ]
     },
     "execution_count": 12,
     "metadata": {},
     "output_type": "execute_result"
    }
   ],
   "source": [
    "regex = '(?<!\\\\?)\\\\?(?![?!])'\n",
    "data_extended = find_all_matches(X_train, y_train, regex)\n",
    "print_matching_statistics(data_extended, regex, p)\n",
    "data_extended.loc[data_extended[regex].notnull()].head()"
   ]
  },
  {
   "cell_type": "code",
   "execution_count": 13,
   "metadata": {},
   "outputs": [
    {
     "name": "stdout",
     "output_type": "stream",
     "text": [
      "The mean of labels of matching tweets = 0.39\n",
      "The rate of matching tweets = 0.008\n",
      "p-value = 0.843\n"
     ]
    },
    {
     "data": {
      "text/html": [
       "<div>\n",
       "<style scoped>\n",
       "    .dataframe tbody tr th:only-of-type {\n",
       "        vertical-align: middle;\n",
       "    }\n",
       "\n",
       "    .dataframe tbody tr th {\n",
       "        vertical-align: top;\n",
       "    }\n",
       "\n",
       "    .dataframe thead th {\n",
       "        text-align: right;\n",
       "    }\n",
       "</style>\n",
       "<table border=\"1\" class=\"dataframe\">\n",
       "  <thead>\n",
       "    <tr style=\"text-align: right;\">\n",
       "      <th></th>\n",
       "      <th>content</th>\n",
       "      <th>label</th>\n",
       "      <th>(?&lt;!\\?)\\?{2}(?![?!])</th>\n",
       "    </tr>\n",
       "  </thead>\n",
       "  <tbody>\n",
       "    <tr>\n",
       "      <th>46</th>\n",
       "      <td>hmmm...I had a feeling bout u! but Damn No Lab...</td>\n",
       "      <td>1</td>\n",
       "      <td>[??]</td>\n",
       "    </tr>\n",
       "    <tr>\n",
       "      <th>84</th>\n",
       "      <td>Fist fight?? No. Im a lover not a fighter. ha</td>\n",
       "      <td>0</td>\n",
       "      <td>[??]</td>\n",
       "    </tr>\n",
       "    <tr>\n",
       "      <th>408</th>\n",
       "      <td>That sucks!  I can't imagine it would be easy ...</td>\n",
       "      <td>0</td>\n",
       "      <td>[??]</td>\n",
       "    </tr>\n",
       "    <tr>\n",
       "      <th>532</th>\n",
       "      <td>cunt? Whore?? Lololol</td>\n",
       "      <td>1</td>\n",
       "      <td>[??]</td>\n",
       "    </tr>\n",
       "    <tr>\n",
       "      <th>609</th>\n",
       "      <td>M3 @nd m@ d@d vv@$ 3@+!n d!nn3r @nd ! Qu!(kly...</td>\n",
       "      <td>0</td>\n",
       "      <td>[??]</td>\n",
       "    </tr>\n",
       "  </tbody>\n",
       "</table>\n",
       "</div>"
      ],
      "text/plain": [
       "                                               content label  \\\n",
       "46   hmmm...I had a feeling bout u! but Damn No Lab...     1   \n",
       "84       Fist fight?? No. Im a lover not a fighter. ha     0   \n",
       "408  That sucks!  I can't imagine it would be easy ...     0   \n",
       "532                              cunt? Whore?? Lololol     1   \n",
       "609   M3 @nd m@ d@d vv@$ 3@+!n d!nn3r @nd ! Qu!(kly...     0   \n",
       "\n",
       "    (?<!\\?)\\?{2}(?![?!])  \n",
       "46                  [??]  \n",
       "84                  [??]  \n",
       "408                 [??]  \n",
       "532                 [??]  \n",
       "609                 [??]  "
      ]
     },
     "execution_count": 13,
     "metadata": {},
     "output_type": "execute_result"
    }
   ],
   "source": [
    "regex = '(?<!\\\\?)\\\\?{2}(?![?!])'\n",
    "data_extended = find_all_matches(X_train, y_train, regex)\n",
    "print_matching_statistics(data_extended, regex, p)\n",
    "data_extended.loc[data_extended[regex].notnull()].head()"
   ]
  },
  {
   "cell_type": "code",
   "execution_count": 14,
   "metadata": {},
   "outputs": [
    {
     "name": "stdout",
     "output_type": "stream",
     "text": [
      "The mean of labels of matching tweets = 0.37\n",
      "The rate of matching tweets = 0.014\n",
      "p-value = 0.359\n"
     ]
    },
    {
     "data": {
      "text/html": [
       "<div>\n",
       "<style scoped>\n",
       "    .dataframe tbody tr th:only-of-type {\n",
       "        vertical-align: middle;\n",
       "    }\n",
       "\n",
       "    .dataframe tbody tr th {\n",
       "        vertical-align: top;\n",
       "    }\n",
       "\n",
       "    .dataframe thead th {\n",
       "        text-align: right;\n",
       "    }\n",
       "</style>\n",
       "<table border=\"1\" class=\"dataframe\">\n",
       "  <thead>\n",
       "    <tr style=\"text-align: right;\">\n",
       "      <th></th>\n",
       "      <th>content</th>\n",
       "      <th>label</th>\n",
       "      <th>\\?{2,}(?!!)</th>\n",
       "    </tr>\n",
       "  </thead>\n",
       "  <tbody>\n",
       "    <tr>\n",
       "      <th>46</th>\n",
       "      <td>hmmm...I had a feeling bout u! but Damn No Lab...</td>\n",
       "      <td>1</td>\n",
       "      <td>[??]</td>\n",
       "    </tr>\n",
       "    <tr>\n",
       "      <th>84</th>\n",
       "      <td>Fist fight?? No. Im a lover not a fighter. ha</td>\n",
       "      <td>0</td>\n",
       "      <td>[??]</td>\n",
       "    </tr>\n",
       "    <tr>\n",
       "      <th>113</th>\n",
       "      <td>lol how ya kno????</td>\n",
       "      <td>0</td>\n",
       "      <td>[????]</td>\n",
       "    </tr>\n",
       "    <tr>\n",
       "      <th>136</th>\n",
       "      <td>did you like the patti labelle sing along too....</td>\n",
       "      <td>0</td>\n",
       "      <td>[???]</td>\n",
       "    </tr>\n",
       "    <tr>\n",
       "      <th>349</th>\n",
       "      <td>formspring says oops! cant find you...sorry....</td>\n",
       "      <td>0</td>\n",
       "      <td>[???]</td>\n",
       "    </tr>\n",
       "  </tbody>\n",
       "</table>\n",
       "</div>"
      ],
      "text/plain": [
       "                                               content label \\?{2,}(?!!)\n",
       "46   hmmm...I had a feeling bout u! but Damn No Lab...     1        [??]\n",
       "84       Fist fight?? No. Im a lover not a fighter. ha     0        [??]\n",
       "113                                 lol how ya kno????     0      [????]\n",
       "136  did you like the patti labelle sing along too....     0       [???]\n",
       "349    formspring says oops! cant find you...sorry....     0       [???]"
      ]
     },
     "execution_count": 14,
     "metadata": {},
     "output_type": "execute_result"
    }
   ],
   "source": [
    "regex = '\\\\?{2,}(?!!)'\n",
    "data_extended = find_all_matches(X_train, y_train, regex)\n",
    "print_matching_statistics(data_extended, regex, p)\n",
    "data_extended.loc[data_extended[regex].notnull()].head()"
   ]
  },
  {
   "cell_type": "markdown",
   "metadata": {},
   "source": [
    "Marks ?! say nothing"
   ]
  },
  {
   "cell_type": "code",
   "execution_count": 15,
   "metadata": {},
   "outputs": [
    {
     "name": "stdout",
     "output_type": "stream",
     "text": [
      "The mean of labels of matching tweets = 0.42\n",
      "The rate of matching tweets = 0.009\n",
      "p-value = 0.636\n"
     ]
    },
    {
     "data": {
      "text/html": [
       "<div>\n",
       "<style scoped>\n",
       "    .dataframe tbody tr th:only-of-type {\n",
       "        vertical-align: middle;\n",
       "    }\n",
       "\n",
       "    .dataframe tbody tr th {\n",
       "        vertical-align: top;\n",
       "    }\n",
       "\n",
       "    .dataframe thead th {\n",
       "        text-align: right;\n",
       "    }\n",
       "</style>\n",
       "<table border=\"1\" class=\"dataframe\">\n",
       "  <thead>\n",
       "    <tr style=\"text-align: right;\">\n",
       "      <th></th>\n",
       "      <th>content</th>\n",
       "      <th>label</th>\n",
       "      <th>\\?+!+</th>\n",
       "    </tr>\n",
       "  </thead>\n",
       "  <tbody>\n",
       "    <tr>\n",
       "      <th>217</th>\n",
       "      <td>omg u missed weekend update?! I laughed so har...</td>\n",
       "      <td>0</td>\n",
       "      <td>[?!]</td>\n",
       "    </tr>\n",
       "    <tr>\n",
       "      <th>264</th>\n",
       "      <td>fuck you  do you know how cold it was in nyc t...</td>\n",
       "      <td>0</td>\n",
       "      <td>[?!]</td>\n",
       "    </tr>\n",
       "    <tr>\n",
       "      <th>395</th>\n",
       "      <td>Im doing good thankyuh!!!Heyyy hbu?!</td>\n",
       "      <td>0</td>\n",
       "      <td>[?!]</td>\n",
       "    </tr>\n",
       "    <tr>\n",
       "      <th>473</th>\n",
       "      <td>Ahaha!!! Yess of course aint dat rite @TruAc...</td>\n",
       "      <td>0</td>\n",
       "      <td>[?!, ?!]</td>\n",
       "    </tr>\n",
       "    <tr>\n",
       "      <th>605</th>\n",
       "      <td>Are yuh single and ready 2 mingle?!</td>\n",
       "      <td>0</td>\n",
       "      <td>[?!]</td>\n",
       "    </tr>\n",
       "  </tbody>\n",
       "</table>\n",
       "</div>"
      ],
      "text/plain": [
       "                                               content label     \\?+!+\n",
       "217  omg u missed weekend update?! I laughed so har...     0      [?!]\n",
       "264  fuck you  do you know how cold it was in nyc t...     0      [?!]\n",
       "395               Im doing good thankyuh!!!Heyyy hbu?!     0      [?!]\n",
       "473    Ahaha!!! Yess of course aint dat rite @TruAc...     0  [?!, ?!]\n",
       "605                Are yuh single and ready 2 mingle?!     0      [?!]"
      ]
     },
     "execution_count": 15,
     "metadata": {},
     "output_type": "execute_result"
    }
   ],
   "source": [
    "regex = '\\\\?+!+'\n",
    "data_extended = find_all_matches(X_train, y_train, regex)\n",
    "print_matching_statistics(data_extended, regex, p)\n",
    "data_extended.loc[data_extended[regex].notnull()].head()"
   ]
  },
  {
   "cell_type": "markdown",
   "metadata": {},
   "source": [
    "Dots are more related to aggressive tweets"
   ]
  },
  {
   "cell_type": "code",
   "execution_count": 16,
   "metadata": {},
   "outputs": [
    {
     "name": "stdout",
     "output_type": "stream",
     "text": [
      "The mean of labels of matching tweets = 0.44\n",
      "The rate of matching tweets = 0.471\n",
      "p-value = 0.000\n"
     ]
    },
    {
     "data": {
      "text/html": [
       "<div>\n",
       "<style scoped>\n",
       "    .dataframe tbody tr th:only-of-type {\n",
       "        vertical-align: middle;\n",
       "    }\n",
       "\n",
       "    .dataframe tbody tr th {\n",
       "        vertical-align: top;\n",
       "    }\n",
       "\n",
       "    .dataframe thead th {\n",
       "        text-align: right;\n",
       "    }\n",
       "</style>\n",
       "<table border=\"1\" class=\"dataframe\">\n",
       "  <thead>\n",
       "    <tr style=\"text-align: right;\">\n",
       "      <th></th>\n",
       "      <th>content</th>\n",
       "      <th>label</th>\n",
       "      <th>(?&lt;!\\.)\\.(?!\\.)</th>\n",
       "    </tr>\n",
       "  </thead>\n",
       "  <tbody>\n",
       "    <tr>\n",
       "      <th>0</th>\n",
       "      <td>i hate u like miniature dogs hate people dress...</td>\n",
       "      <td>1</td>\n",
       "      <td>[.]</td>\n",
       "    </tr>\n",
       "    <tr>\n",
       "      <th>2</th>\n",
       "      <td>austins new girllfriend is not uglly  &amp;amp;&amp;a...</td>\n",
       "      <td>1</td>\n",
       "      <td>[., .]</td>\n",
       "    </tr>\n",
       "    <tr>\n",
       "      <th>3</th>\n",
       "      <td>Not currently.</td>\n",
       "      <td>0</td>\n",
       "      <td>[.]</td>\n",
       "    </tr>\n",
       "    <tr>\n",
       "      <th>9</th>\n",
       "      <td>u30c4 You come across a zombie eating a waffl...</td>\n",
       "      <td>0</td>\n",
       "      <td>[.]</td>\n",
       "    </tr>\n",
       "    <tr>\n",
       "      <th>11</th>\n",
       "      <td>I find the exact opposite to be true.  I can r...</td>\n",
       "      <td>1</td>\n",
       "      <td>[., ., .]</td>\n",
       "    </tr>\n",
       "  </tbody>\n",
       "</table>\n",
       "</div>"
      ],
      "text/plain": [
       "                                              content label (?<!\\.)\\.(?!\\.)\n",
       "0   i hate u like miniature dogs hate people dress...     1             [.]\n",
       "2    austins new girllfriend is not uglly  &amp;&a...     1          [., .]\n",
       "3                                      Not currently.     0             [.]\n",
       "9    u30c4 You come across a zombie eating a waffl...     0             [.]\n",
       "11  I find the exact opposite to be true.  I can r...     1       [., ., .]"
      ]
     },
     "execution_count": 16,
     "metadata": {},
     "output_type": "execute_result"
    }
   ],
   "source": [
    "regex = '(?<!\\\\.)\\\\.(?!\\\\.)'\n",
    "data_extended = find_all_matches(X_train, y_train, regex)\n",
    "print_matching_statistics(data_extended, regex, p)\n",
    "data_extended.loc[data_extended[regex].notnull()].head()"
   ]
  },
  {
   "cell_type": "code",
   "execution_count": 17,
   "metadata": {},
   "outputs": [
    {
     "name": "stdout",
     "output_type": "stream",
     "text": [
      "The mean of labels of matching tweets = 0.39\n",
      "The rate of matching tweets = 0.037\n",
      "p-value = 0.637\n"
     ]
    },
    {
     "data": {
      "text/html": [
       "<div>\n",
       "<style scoped>\n",
       "    .dataframe tbody tr th:only-of-type {\n",
       "        vertical-align: middle;\n",
       "    }\n",
       "\n",
       "    .dataframe tbody tr th {\n",
       "        vertical-align: top;\n",
       "    }\n",
       "\n",
       "    .dataframe thead th {\n",
       "        text-align: right;\n",
       "    }\n",
       "</style>\n",
       "<table border=\"1\" class=\"dataframe\">\n",
       "  <thead>\n",
       "    <tr style=\"text-align: right;\">\n",
       "      <th></th>\n",
       "      <th>content</th>\n",
       "      <th>label</th>\n",
       "      <th>(?&lt;!\\.)\\.{2}(?!\\.)</th>\n",
       "    </tr>\n",
       "  </thead>\n",
       "  <tbody>\n",
       "    <tr>\n",
       "      <th>30</th>\n",
       "      <td>...go absolutely insane.hate to be the bearer ...</td>\n",
       "      <td>1</td>\n",
       "      <td>[.., ..]</td>\n",
       "    </tr>\n",
       "    <tr>\n",
       "      <th>37</th>\n",
       "      <td>tak to si snad ani nemel psat... ted to budu m...</td>\n",
       "      <td>0</td>\n",
       "      <td>[.., ..]</td>\n",
       "    </tr>\n",
       "    <tr>\n",
       "      <th>44</th>\n",
       "      <td>Yo it's a wack ass night here at boston colleg...</td>\n",
       "      <td>0</td>\n",
       "      <td>[..]</td>\n",
       "    </tr>\n",
       "    <tr>\n",
       "      <th>74</th>\n",
       "      <td>your a pale whore..</td>\n",
       "      <td>1</td>\n",
       "      <td>[..]</td>\n",
       "    </tr>\n",
       "    <tr>\n",
       "      <th>128</th>\n",
       "      <td>I love big bang it is hilarious..and makes me ...</td>\n",
       "      <td>0</td>\n",
       "      <td>[..]</td>\n",
       "    </tr>\n",
       "  </tbody>\n",
       "</table>\n",
       "</div>"
      ],
      "text/plain": [
       "                                               content label  \\\n",
       "30   ...go absolutely insane.hate to be the bearer ...     1   \n",
       "37   tak to si snad ani nemel psat... ted to budu m...     0   \n",
       "44   Yo it's a wack ass night here at boston colleg...     0   \n",
       "74                                 your a pale whore..     1   \n",
       "128  I love big bang it is hilarious..and makes me ...     0   \n",
       "\n",
       "    (?<!\\.)\\.{2}(?!\\.)  \n",
       "30            [.., ..]  \n",
       "37            [.., ..]  \n",
       "44                [..]  \n",
       "74                [..]  \n",
       "128               [..]  "
      ]
     },
     "execution_count": 17,
     "metadata": {},
     "output_type": "execute_result"
    }
   ],
   "source": [
    "regex = '(?<!\\\\.)\\\\.{2}(?!\\\\.)'\n",
    "data_extended = find_all_matches(X_train, y_train, regex)\n",
    "print_matching_statistics(data_extended, regex, p)\n",
    "data_extended.loc[data_extended[regex].notnull()].head()"
   ]
  },
  {
   "cell_type": "code",
   "execution_count": 18,
   "metadata": {},
   "outputs": [
    {
     "name": "stdout",
     "output_type": "stream",
     "text": [
      "The mean of labels of matching tweets = 0.46\n",
      "The rate of matching tweets = 0.155\n",
      "p-value = 0.000\n"
     ]
    },
    {
     "data": {
      "text/html": [
       "<div>\n",
       "<style scoped>\n",
       "    .dataframe tbody tr th:only-of-type {\n",
       "        vertical-align: middle;\n",
       "    }\n",
       "\n",
       "    .dataframe tbody tr th {\n",
       "        vertical-align: top;\n",
       "    }\n",
       "\n",
       "    .dataframe thead th {\n",
       "        text-align: right;\n",
       "    }\n",
       "</style>\n",
       "<table border=\"1\" class=\"dataframe\">\n",
       "  <thead>\n",
       "    <tr style=\"text-align: right;\">\n",
       "      <th></th>\n",
       "      <th>content</th>\n",
       "      <th>label</th>\n",
       "      <th>\\.{2,}</th>\n",
       "    </tr>\n",
       "  </thead>\n",
       "  <tbody>\n",
       "    <tr>\n",
       "      <th>8</th>\n",
       "      <td>fuck @TheWhiteHouse  you need to come sit on B...</td>\n",
       "      <td>0</td>\n",
       "      <td>[...]</td>\n",
       "    </tr>\n",
       "    <tr>\n",
       "      <th>28</th>\n",
       "      <td>which year was your favoroute school year... ...</td>\n",
       "      <td>0</td>\n",
       "      <td>[..., ...]</td>\n",
       "    </tr>\n",
       "    <tr>\n",
       "      <th>29</th>\n",
       "      <td>I've noticed he can't spell much beyond NOM an...</td>\n",
       "      <td>1</td>\n",
       "      <td>[...]</td>\n",
       "    </tr>\n",
       "    <tr>\n",
       "      <th>30</th>\n",
       "      <td>...go absolutely insane.hate to be the bearer ...</td>\n",
       "      <td>1</td>\n",
       "      <td>[..., .., ..]</td>\n",
       "    </tr>\n",
       "    <tr>\n",
       "      <th>37</th>\n",
       "      <td>tak to si snad ani nemel psat... ted to budu m...</td>\n",
       "      <td>0</td>\n",
       "      <td>[..., .., ..]</td>\n",
       "    </tr>\n",
       "  </tbody>\n",
       "</table>\n",
       "</div>"
      ],
      "text/plain": [
       "                                              content label         \\.{2,}\n",
       "8   fuck @TheWhiteHouse  you need to come sit on B...     0          [...]\n",
       "28   which year was your favoroute school year... ...     0     [..., ...]\n",
       "29  I've noticed he can't spell much beyond NOM an...     1          [...]\n",
       "30  ...go absolutely insane.hate to be the bearer ...     1  [..., .., ..]\n",
       "37  tak to si snad ani nemel psat... ted to budu m...     0  [..., .., ..]"
      ]
     },
     "execution_count": 18,
     "metadata": {},
     "output_type": "execute_result"
    }
   ],
   "source": [
    "regex = '\\\\.{2,}'\n",
    "data_extended = find_all_matches(X_train, y_train, regex)\n",
    "print_matching_statistics(data_extended, regex, p)\n",
    "data_extended.loc[data_extended[regex].notnull()].head()"
   ]
  },
  {
   "cell_type": "markdown",
   "metadata": {},
   "source": [
    "Emoticons (happy faces and hearts) are more related to nonaggressive tweets"
   ]
  },
  {
   "cell_type": "code",
   "execution_count": 19,
   "metadata": {},
   "outputs": [
    {
     "name": "stdout",
     "output_type": "stream",
     "text": [
      "The mean of labels of matching tweets = 0.35\n",
      "The rate of matching tweets = 0.148\n",
      "p-value = 0.000\n"
     ]
    },
    {
     "data": {
      "text/html": [
       "<div>\n",
       "<style scoped>\n",
       "    .dataframe tbody tr th:only-of-type {\n",
       "        vertical-align: middle;\n",
       "    }\n",
       "\n",
       "    .dataframe tbody tr th {\n",
       "        vertical-align: top;\n",
       "    }\n",
       "\n",
       "    .dataframe thead th {\n",
       "        text-align: right;\n",
       "    }\n",
       "</style>\n",
       "<table border=\"1\" class=\"dataframe\">\n",
       "  <thead>\n",
       "    <tr style=\"text-align: right;\">\n",
       "      <th></th>\n",
       "      <th>content</th>\n",
       "      <th>label</th>\n",
       "      <th>[:;=8x]'?-?[)D\\]*3/(x#|\\[Pp{]</th>\n",
       "    </tr>\n",
       "  </thead>\n",
       "  <tbody>\n",
       "    <tr>\n",
       "      <th>4</th>\n",
       "      <td>thx for the well wishes lisa! i hate taking me...</td>\n",
       "      <td>1</td>\n",
       "      <td>[:)]</td>\n",
       "    </tr>\n",
       "    <tr>\n",
       "      <th>7</th>\n",
       "      <td>re: why friendfeed sucks - no doubt a powerful...</td>\n",
       "      <td>1</td>\n",
       "      <td>[xp]</td>\n",
       "    </tr>\n",
       "    <tr>\n",
       "      <th>25</th>\n",
       "      <td>so do our cops! I got to ride one over break! ...</td>\n",
       "      <td>0</td>\n",
       "      <td>[:D]</td>\n",
       "    </tr>\n",
       "    <tr>\n",
       "      <th>32</th>\n",
       "      <td>I'd still be walking around with it stuck to m...</td>\n",
       "      <td>0</td>\n",
       "      <td>[;-)]</td>\n",
       "    </tr>\n",
       "    <tr>\n",
       "      <th>36</th>\n",
       "      <td>for real?  That sucks. I have hosting there. Y...</td>\n",
       "      <td>0</td>\n",
       "      <td>[;)]</td>\n",
       "    </tr>\n",
       "  </tbody>\n",
       "</table>\n",
       "</div>"
      ],
      "text/plain": [
       "                                              content label  \\\n",
       "4   thx for the well wishes lisa! i hate taking me...     1   \n",
       "7   re: why friendfeed sucks - no doubt a powerful...     1   \n",
       "25  so do our cops! I got to ride one over break! ...     0   \n",
       "32  I'd still be walking around with it stuck to m...     0   \n",
       "36  for real?  That sucks. I have hosting there. Y...     0   \n",
       "\n",
       "   [:;=8x]'?-?[)D\\]*3/(x#|\\[Pp{]  \n",
       "4                           [:)]  \n",
       "7                           [xp]  \n",
       "25                          [:D]  \n",
       "32                         [;-)]  \n",
       "36                          [;)]  "
      ]
     },
     "execution_count": 19,
     "metadata": {},
     "output_type": "execute_result"
    }
   ],
   "source": [
    "regex = '[:;=8x]\\'?-?[)D\\]*3/(x#|\\[Pp{]'\n",
    "data_extended = find_all_matches(X_train, y_train, regex)\n",
    "print_matching_statistics(data_extended, regex, p)\n",
    "data_extended.loc[data_extended[regex].notnull()].head()"
   ]
  },
  {
   "cell_type": "code",
   "execution_count": 20,
   "metadata": {},
   "outputs": [
    {
     "name": "stdout",
     "output_type": "stream",
     "text": [
      "The mean of labels of matching tweets = 0.28\n",
      "The rate of matching tweets = 0.090\n",
      "p-value = 0.000\n"
     ]
    },
    {
     "data": {
      "text/html": [
       "<div>\n",
       "<style scoped>\n",
       "    .dataframe tbody tr th:only-of-type {\n",
       "        vertical-align: middle;\n",
       "    }\n",
       "\n",
       "    .dataframe tbody tr th {\n",
       "        vertical-align: top;\n",
       "    }\n",
       "\n",
       "    .dataframe thead th {\n",
       "        text-align: right;\n",
       "    }\n",
       "</style>\n",
       "<table border=\"1\" class=\"dataframe\">\n",
       "  <thead>\n",
       "    <tr style=\"text-align: right;\">\n",
       "      <th></th>\n",
       "      <th>content</th>\n",
       "      <th>label</th>\n",
       "      <th>[:;=8x]-?[)D\\]\\}&gt;*]</th>\n",
       "    </tr>\n",
       "  </thead>\n",
       "  <tbody>\n",
       "    <tr>\n",
       "      <th>4</th>\n",
       "      <td>thx for the well wishes lisa! i hate taking me...</td>\n",
       "      <td>1</td>\n",
       "      <td>[:)]</td>\n",
       "    </tr>\n",
       "    <tr>\n",
       "      <th>25</th>\n",
       "      <td>so do our cops! I got to ride one over break! ...</td>\n",
       "      <td>0</td>\n",
       "      <td>[:D]</td>\n",
       "    </tr>\n",
       "    <tr>\n",
       "      <th>32</th>\n",
       "      <td>I'd still be walking around with it stuck to m...</td>\n",
       "      <td>0</td>\n",
       "      <td>[;-)]</td>\n",
       "    </tr>\n",
       "    <tr>\n",
       "      <th>36</th>\n",
       "      <td>for real?  That sucks. I have hosting there. Y...</td>\n",
       "      <td>0</td>\n",
       "      <td>[;)]</td>\n",
       "    </tr>\n",
       "    <tr>\n",
       "      <th>48</th>\n",
       "      <td>My pussy remembers what u do! Lol :)</td>\n",
       "      <td>1</td>\n",
       "      <td>[:)]</td>\n",
       "    </tr>\n",
       "  </tbody>\n",
       "</table>\n",
       "</div>"
      ],
      "text/plain": [
       "                                              content label  \\\n",
       "4   thx for the well wishes lisa! i hate taking me...     1   \n",
       "25  so do our cops! I got to ride one over break! ...     0   \n",
       "32  I'd still be walking around with it stuck to m...     0   \n",
       "36  for real?  That sucks. I have hosting there. Y...     0   \n",
       "48               My pussy remembers what u do! Lol :)     1   \n",
       "\n",
       "   [:;=8x]-?[)D\\]\\}>*]  \n",
       "4                 [:)]  \n",
       "25                [:D]  \n",
       "32               [;-)]  \n",
       "36                [;)]  \n",
       "48                [:)]  "
      ]
     },
     "execution_count": 20,
     "metadata": {},
     "output_type": "execute_result"
    }
   ],
   "source": [
    "# happy faces\n",
    "regex = '[:;=8x]-?[)D\\\\]\\\\}>*]'\n",
    "data_extended = find_all_matches(X_train, y_train, regex)\n",
    "print_matching_statistics(data_extended, regex, p)\n",
    "data_extended.loc[data_extended[regex].notnull()].head()"
   ]
  },
  {
   "cell_type": "code",
   "execution_count": 21,
   "metadata": {},
   "outputs": [
    {
     "data": {
      "text/html": [
       "<div>\n",
       "<style scoped>\n",
       "    .dataframe tbody tr th:only-of-type {\n",
       "        vertical-align: middle;\n",
       "    }\n",
       "\n",
       "    .dataframe tbody tr th {\n",
       "        vertical-align: top;\n",
       "    }\n",
       "\n",
       "    .dataframe thead th {\n",
       "        text-align: right;\n",
       "    }\n",
       "</style>\n",
       "<table border=\"1\" class=\"dataframe\">\n",
       "  <thead>\n",
       "    <tr style=\"text-align: right;\">\n",
       "      <th></th>\n",
       "      <th>content</th>\n",
       "      <th>label</th>\n",
       "      <th>[:;=8x]-?[)D\\]\\}&gt;*]</th>\n",
       "      <th>rate</th>\n",
       "    </tr>\n",
       "  </thead>\n",
       "  <tbody>\n",
       "    <tr>\n",
       "      <th>4</th>\n",
       "      <td>thx for the well wishes lisa! i hate taking me...</td>\n",
       "      <td>1</td>\n",
       "      <td>[:)]</td>\n",
       "      <td>0.062500</td>\n",
       "    </tr>\n",
       "    <tr>\n",
       "      <th>25</th>\n",
       "      <td>so do our cops! I got to ride one over break! ...</td>\n",
       "      <td>0</td>\n",
       "      <td>[:D]</td>\n",
       "      <td>0.055556</td>\n",
       "    </tr>\n",
       "    <tr>\n",
       "      <th>32</th>\n",
       "      <td>I'd still be walking around with it stuck to m...</td>\n",
       "      <td>0</td>\n",
       "      <td>[;-)]</td>\n",
       "      <td>0.037037</td>\n",
       "    </tr>\n",
       "    <tr>\n",
       "      <th>36</th>\n",
       "      <td>for real?  That sucks. I have hosting there. Y...</td>\n",
       "      <td>0</td>\n",
       "      <td>[;)]</td>\n",
       "      <td>0.071429</td>\n",
       "    </tr>\n",
       "    <tr>\n",
       "      <th>48</th>\n",
       "      <td>My pussy remembers what u do! Lol :)</td>\n",
       "      <td>1</td>\n",
       "      <td>[:)]</td>\n",
       "      <td>0.142857</td>\n",
       "    </tr>\n",
       "  </tbody>\n",
       "</table>\n",
       "</div>"
      ],
      "text/plain": [
       "                                              content label  \\\n",
       "4   thx for the well wishes lisa! i hate taking me...     1   \n",
       "25  so do our cops! I got to ride one over break! ...     0   \n",
       "32  I'd still be walking around with it stuck to m...     0   \n",
       "36  for real?  That sucks. I have hosting there. Y...     0   \n",
       "48               My pussy remembers what u do! Lol :)     1   \n",
       "\n",
       "   [:;=8x]-?[)D\\]\\}>*]      rate  \n",
       "4                 [:)]  0.062500  \n",
       "25                [:D]  0.055556  \n",
       "32               [;-)]  0.037037  \n",
       "36                [;)]  0.071429  \n",
       "48                [:)]  0.142857  "
      ]
     },
     "execution_count": 21,
     "metadata": {},
     "output_type": "execute_result"
    }
   ],
   "source": [
    "# the ratio of matching words to all words in a tweet\n",
    "# rate of happy faces\n",
    "regex = '[:;=8x]-?[)D\\\\]*]'\n",
    "matching_words_rate = compute_matching_words_rate(regex, X_train)\n",
    "data_extended['rate'] = matching_words_rate\n",
    "\n",
    "matching_data_extended = data_extended.loc[data_extended.iloc[:, 2].notnull()]\n",
    "matching_data_extended.head()"
   ]
  },
  {
   "cell_type": "code",
   "execution_count": 22,
   "metadata": {},
   "outputs": [
    {
     "name": "stdout",
     "output_type": "stream",
     "text": [
      "0.184\n",
      "0.341\n"
     ]
    }
   ],
   "source": [
    "print('%.3f' % matching_data_extended[matching_data_extended.rate > 0.1].label.mean())\n",
    "print('%.3f' % matching_data_extended[matching_data_extended.rate < 0.1].label.mean())"
   ]
  },
  {
   "cell_type": "code",
   "execution_count": 23,
   "metadata": {},
   "outputs": [
    {
     "name": "stdout",
     "output_type": "stream",
     "text": [
      "The mean of labels of matching tweets = 0.44\n",
      "The rate of matching tweets = 0.019\n",
      "p-value = 0.196\n"
     ]
    },
    {
     "data": {
      "text/html": [
       "<div>\n",
       "<style scoped>\n",
       "    .dataframe tbody tr th:only-of-type {\n",
       "        vertical-align: middle;\n",
       "    }\n",
       "\n",
       "    .dataframe tbody tr th {\n",
       "        vertical-align: top;\n",
       "    }\n",
       "\n",
       "    .dataframe thead th {\n",
       "        text-align: right;\n",
       "    }\n",
       "</style>\n",
       "<table border=\"1\" class=\"dataframe\">\n",
       "  <thead>\n",
       "    <tr style=\"text-align: right;\">\n",
       "      <th></th>\n",
       "      <th>content</th>\n",
       "      <th>label</th>\n",
       "      <th>[:;=8x]-?[pP]</th>\n",
       "    </tr>\n",
       "  </thead>\n",
       "  <tbody>\n",
       "    <tr>\n",
       "      <th>7</th>\n",
       "      <td>re: why friendfeed sucks - no doubt a powerful...</td>\n",
       "      <td>1</td>\n",
       "      <td>[xp]</td>\n",
       "    </tr>\n",
       "    <tr>\n",
       "      <th>79</th>\n",
       "      <td>Aw that sucks. I didn't get incomprehensible p...</td>\n",
       "      <td>0</td>\n",
       "      <td>[:P]</td>\n",
       "    </tr>\n",
       "    <tr>\n",
       "      <th>91</th>\n",
       "      <td>how do you express your anger?</td>\n",
       "      <td>0</td>\n",
       "      <td>[xp]</td>\n",
       "    </tr>\n",
       "    <tr>\n",
       "      <th>104</th>\n",
       "      <td>Know how you don't smell perfume you use a lot...</td>\n",
       "      <td>1</td>\n",
       "      <td>[xp]</td>\n",
       "    </tr>\n",
       "    <tr>\n",
       "      <th>137</th>\n",
       "      <td>i love you tabi your beautiful  and the &amp;;&amp;;p...</td>\n",
       "      <td>0</td>\n",
       "      <td>[;p]</td>\n",
       "    </tr>\n",
       "  </tbody>\n",
       "</table>\n",
       "</div>"
      ],
      "text/plain": [
       "                                               content label [:;=8x]-?[pP]\n",
       "7    re: why friendfeed sucks - no doubt a powerful...     1          [xp]\n",
       "79   Aw that sucks. I didn't get incomprehensible p...     0          [:P]\n",
       "91                      how do you express your anger?     0          [xp]\n",
       "104  Know how you don't smell perfume you use a lot...     1          [xp]\n",
       "137   i love you tabi your beautiful  and the &;&;p...     0          [;p]"
      ]
     },
     "execution_count": 23,
     "metadata": {},
     "output_type": "execute_result"
    }
   ],
   "source": [
    "regex = '[:;=8x]-?[pP]'\n",
    "data_extended = find_all_matches(X_train, y_train, regex)\n",
    "print_matching_statistics(data_extended, regex, p)\n",
    "data_extended.loc[data_extended[regex].notnull()].head()"
   ]
  },
  {
   "cell_type": "code",
   "execution_count": 24,
   "metadata": {},
   "outputs": [
    {
     "name": "stdout",
     "output_type": "stream",
     "text": [
      "The mean of labels of matching tweets = 0.42\n",
      "The rate of matching tweets = 0.038\n",
      "p-value = 0.290\n"
     ]
    },
    {
     "data": {
      "text/html": [
       "<div>\n",
       "<style scoped>\n",
       "    .dataframe tbody tr th:only-of-type {\n",
       "        vertical-align: middle;\n",
       "    }\n",
       "\n",
       "    .dataframe tbody tr th {\n",
       "        vertical-align: top;\n",
       "    }\n",
       "\n",
       "    .dataframe thead th {\n",
       "        text-align: right;\n",
       "    }\n",
       "</style>\n",
       "<table border=\"1\" class=\"dataframe\">\n",
       "  <thead>\n",
       "    <tr style=\"text-align: right;\">\n",
       "      <th></th>\n",
       "      <th>content</th>\n",
       "      <th>label</th>\n",
       "      <th>[:;=8x]'?-?[/(x#|\\[{&lt;]</th>\n",
       "    </tr>\n",
       "  </thead>\n",
       "  <tbody>\n",
       "    <tr>\n",
       "      <th>66</th>\n",
       "      <td>damn your yankees! http://tinyurl.com/8vgfyp</td>\n",
       "      <td>0</td>\n",
       "      <td>[:/]</td>\n",
       "    </tr>\n",
       "    <tr>\n",
       "      <th>112</th>\n",
       "      <td>Then my dad would either bitch  or just leave ...</td>\n",
       "      <td>0</td>\n",
       "      <td>[:(]</td>\n",
       "    </tr>\n",
       "    <tr>\n",
       "      <th>153</th>\n",
       "      <td>that sucks *hugs* :(</td>\n",
       "      <td>1</td>\n",
       "      <td>[:(]</td>\n",
       "    </tr>\n",
       "    <tr>\n",
       "      <th>154</th>\n",
       "      <td>Lmao not as bad as other people :) *cough* @al...</td>\n",
       "      <td>0</td>\n",
       "      <td>[xx]</td>\n",
       "    </tr>\n",
       "    <tr>\n",
       "      <th>170</th>\n",
       "      <td>Jonas Brothers Concert 8/13/09 ;D I still lo...</td>\n",
       "      <td>0</td>\n",
       "      <td>[8/]</td>\n",
       "    </tr>\n",
       "  </tbody>\n",
       "</table>\n",
       "</div>"
      ],
      "text/plain": [
       "                                               content label  \\\n",
       "66        damn your yankees! http://tinyurl.com/8vgfyp     0   \n",
       "112  Then my dad would either bitch  or just leave ...     0   \n",
       "153                               that sucks *hugs* :(     1   \n",
       "154  Lmao not as bad as other people :) *cough* @al...     0   \n",
       "170    Jonas Brothers Concert 8/13/09 ;D I still lo...     0   \n",
       "\n",
       "    [:;=8x]'?-?[/(x#|\\[{<]  \n",
       "66                    [:/]  \n",
       "112                   [:(]  \n",
       "153                   [:(]  \n",
       "154                   [xx]  \n",
       "170                   [8/]  "
      ]
     },
     "execution_count": 24,
     "metadata": {},
     "output_type": "execute_result"
    }
   ],
   "source": [
    "# sad face\n",
    "regex = '[:;=8x]\\'?-?[/(x#|\\\\[{<]'\n",
    "data_extended = find_all_matches(X_train, y_train, regex)\n",
    "print_matching_statistics(data_extended, regex, p)\n",
    "data_extended.loc[data_extended[regex].notnull()].head()"
   ]
  },
  {
   "cell_type": "code",
   "execution_count": 25,
   "metadata": {},
   "outputs": [
    {
     "name": "stdout",
     "output_type": "stream",
     "text": [
      "The mean of labels of matching tweets = 0.25\n",
      "The rate of matching tweets = 0.012\n",
      "p-value = 0.000\n"
     ]
    },
    {
     "data": {
      "text/html": [
       "<div>\n",
       "<style scoped>\n",
       "    .dataframe tbody tr th:only-of-type {\n",
       "        vertical-align: middle;\n",
       "    }\n",
       "\n",
       "    .dataframe tbody tr th {\n",
       "        vertical-align: top;\n",
       "    }\n",
       "\n",
       "    .dataframe thead th {\n",
       "        text-align: right;\n",
       "    }\n",
       "</style>\n",
       "<table border=\"1\" class=\"dataframe\">\n",
       "  <thead>\n",
       "    <tr style=\"text-align: right;\">\n",
       "      <th></th>\n",
       "      <th>content</th>\n",
       "      <th>label</th>\n",
       "      <th>&lt;3+|&amp;lt;3</th>\n",
       "    </tr>\n",
       "  </thead>\n",
       "  <tbody>\n",
       "    <tr>\n",
       "      <th>61</th>\n",
       "      <td>YOU\"RE A GAY!? .... =) I &amp;lt;3 you</td>\n",
       "      <td>1</td>\n",
       "      <td>[&amp;lt;3]</td>\n",
       "    </tr>\n",
       "    <tr>\n",
       "      <th>115</th>\n",
       "      <td>WHO CARES I HATE THEM! FTW! Knitting and croch...</td>\n",
       "      <td>1</td>\n",
       "      <td>[&amp;lt;3]</td>\n",
       "    </tr>\n",
       "    <tr>\n",
       "      <th>152</th>\n",
       "      <td>Wild flowers. &lt;3</td>\n",
       "      <td>0</td>\n",
       "      <td>[&lt;3]</td>\n",
       "    </tr>\n",
       "    <tr>\n",
       "      <th>183</th>\n",
       "      <td>Your beautiful&lt;3 don&amp;;t listen to others(:  t...</td>\n",
       "      <td>0</td>\n",
       "      <td>[&lt;3, &lt;3, &lt;3]</td>\n",
       "    </tr>\n",
       "    <tr>\n",
       "      <th>267</th>\n",
       "      <td>Shaun Diviney's house and everyday haha. we ...</td>\n",
       "      <td>0</td>\n",
       "      <td>[&lt;3]</td>\n",
       "    </tr>\n",
       "  </tbody>\n",
       "</table>\n",
       "</div>"
      ],
      "text/plain": [
       "                                               content label     <3+|&lt;3\n",
       "61                  YOU\"RE A GAY!? .... =) I &lt;3 you     1       [&lt;3]\n",
       "115  WHO CARES I HATE THEM! FTW! Knitting and croch...     1       [&lt;3]\n",
       "152                                   Wild flowers. <3     0          [<3]\n",
       "183   Your beautiful<3 don&;t listen to others(:  t...     0  [<3, <3, <3]\n",
       "267    Shaun Diviney's house and everyday haha. we ...     0          [<3]"
      ]
     },
     "execution_count": 25,
     "metadata": {},
     "output_type": "execute_result"
    }
   ],
   "source": [
    "# heart\n",
    "regex = '<3+|&lt;3'\n",
    "data_extended = find_all_matches(X_train, y_train, regex)\n",
    "print_matching_statistics(data_extended, regex, p)\n",
    "data_extended.loc[data_extended[regex].notnull()].head()"
   ]
  },
  {
   "cell_type": "markdown",
   "metadata": {},
   "source": [
    "Quotation marks are more related to aggressive tweets"
   ]
  },
  {
   "cell_type": "code",
   "execution_count": 26,
   "metadata": {},
   "outputs": [
    {
     "name": "stdout",
     "output_type": "stream",
     "text": [
      "The mean of labels of matching tweets = 0.50\n",
      "The rate of matching tweets = 0.040\n",
      "p-value = 0.000\n"
     ]
    },
    {
     "data": {
      "text/html": [
       "<div>\n",
       "<style scoped>\n",
       "    .dataframe tbody tr th:only-of-type {\n",
       "        vertical-align: middle;\n",
       "    }\n",
       "\n",
       "    .dataframe tbody tr th {\n",
       "        vertical-align: top;\n",
       "    }\n",
       "\n",
       "    .dataframe thead th {\n",
       "        text-align: right;\n",
       "    }\n",
       "</style>\n",
       "<table border=\"1\" class=\"dataframe\">\n",
       "  <thead>\n",
       "    <tr style=\"text-align: right;\">\n",
       "      <th></th>\n",
       "      <th>content</th>\n",
       "      <th>label</th>\n",
       "      <th>(\"|&amp;quot;).+(\"|&amp;quot;)</th>\n",
       "    </tr>\n",
       "  </thead>\n",
       "  <tbody>\n",
       "    <tr>\n",
       "      <th>2</th>\n",
       "      <td>austins new girllfriend is not uglly  &amp;amp;&amp;a...</td>\n",
       "      <td>1</td>\n",
       "      <td>[(&amp;quot;, &amp;quot;)]</td>\n",
       "    </tr>\n",
       "    <tr>\n",
       "      <th>56</th>\n",
       "      <td>This is a better Hodgman excerpt: \"it is hard ...</td>\n",
       "      <td>0</td>\n",
       "      <td>[(\", \")]</td>\n",
       "    </tr>\n",
       "    <tr>\n",
       "      <th>95</th>\n",
       "      <td>evilbeet  do u not feel that when u watch jon ...</td>\n",
       "      <td>1</td>\n",
       "      <td>[(\", \")]</td>\n",
       "    </tr>\n",
       "    <tr>\n",
       "      <th>155</th>\n",
       "      <td>ahah! and i'll say exactly what i'd say to him...</td>\n",
       "      <td>1</td>\n",
       "      <td>[(\", \")]</td>\n",
       "    </tr>\n",
       "    <tr>\n",
       "      <th>168</th>\n",
       "      <td>*sigh* oh  Karrine. You said the phrase \"Sluts...</td>\n",
       "      <td>1</td>\n",
       "      <td>[(\", \")]</td>\n",
       "    </tr>\n",
       "  </tbody>\n",
       "</table>\n",
       "</div>"
      ],
      "text/plain": [
       "                                               content label  \\\n",
       "2     austins new girllfriend is not uglly  &amp;&a...     1   \n",
       "56   This is a better Hodgman excerpt: \"it is hard ...     0   \n",
       "95   evilbeet  do u not feel that when u watch jon ...     1   \n",
       "155  ahah! and i'll say exactly what i'd say to him...     1   \n",
       "168  *sigh* oh  Karrine. You said the phrase \"Sluts...     1   \n",
       "\n",
       "    (\"|&quot;).+(\"|&quot;)  \n",
       "2       [(&quot;, &quot;)]  \n",
       "56                [(\", \")]  \n",
       "95                [(\", \")]  \n",
       "155               [(\", \")]  \n",
       "168               [(\", \")]  "
      ]
     },
     "execution_count": 26,
     "metadata": {},
     "output_type": "execute_result"
    }
   ],
   "source": [
    "regex = '(\"|&quot;).+(\"|&quot;)'\n",
    "data_extended = find_all_matches(X_train, y_train, regex)\n",
    "print_matching_statistics(data_extended, regex, p)\n",
    "data_extended.loc[data_extended[regex].notnull()].head()"
   ]
  },
  {
   "cell_type": "code",
   "execution_count": 27,
   "metadata": {},
   "outputs": [
    {
     "name": "stdout",
     "output_type": "stream",
     "text": [
      "The mean of labels of matching tweets = 0.50\n",
      "The rate of matching tweets = 0.044\n",
      "p-value = 0.000\n"
     ]
    },
    {
     "data": {
      "text/html": [
       "<div>\n",
       "<style scoped>\n",
       "    .dataframe tbody tr th:only-of-type {\n",
       "        vertical-align: middle;\n",
       "    }\n",
       "\n",
       "    .dataframe tbody tr th {\n",
       "        vertical-align: top;\n",
       "    }\n",
       "\n",
       "    .dataframe thead th {\n",
       "        text-align: right;\n",
       "    }\n",
       "</style>\n",
       "<table border=\"1\" class=\"dataframe\">\n",
       "  <thead>\n",
       "    <tr style=\"text-align: right;\">\n",
       "      <th></th>\n",
       "      <th>content</th>\n",
       "      <th>label</th>\n",
       "      <th>(\"|&amp;quot;)</th>\n",
       "    </tr>\n",
       "  </thead>\n",
       "  <tbody>\n",
       "    <tr>\n",
       "      <th>2</th>\n",
       "      <td>austins new girllfriend is not uglly  &amp;amp;&amp;a...</td>\n",
       "      <td>1</td>\n",
       "      <td>[&amp;quot;, &amp;quot;]</td>\n",
       "    </tr>\n",
       "    <tr>\n",
       "      <th>56</th>\n",
       "      <td>This is a better Hodgman excerpt: \"it is hard ...</td>\n",
       "      <td>0</td>\n",
       "      <td>[\", \"]</td>\n",
       "    </tr>\n",
       "    <tr>\n",
       "      <th>61</th>\n",
       "      <td>YOU\"RE A GAY!? .... =) I &amp;lt;3 you</td>\n",
       "      <td>1</td>\n",
       "      <td>[\"]</td>\n",
       "    </tr>\n",
       "    <tr>\n",
       "      <th>95</th>\n",
       "      <td>evilbeet  do u not feel that when u watch jon ...</td>\n",
       "      <td>1</td>\n",
       "      <td>[\", \"]</td>\n",
       "    </tr>\n",
       "    <tr>\n",
       "      <th>155</th>\n",
       "      <td>ahah! and i'll say exactly what i'd say to him...</td>\n",
       "      <td>1</td>\n",
       "      <td>[\", \"]</td>\n",
       "    </tr>\n",
       "  </tbody>\n",
       "</table>\n",
       "</div>"
      ],
      "text/plain": [
       "                                               content label        (\"|&quot;)\n",
       "2     austins new girllfriend is not uglly  &amp;&a...     1  [&quot;, &quot;]\n",
       "56   This is a better Hodgman excerpt: \"it is hard ...     0            [\", \"]\n",
       "61                  YOU\"RE A GAY!? .... =) I &lt;3 you     1               [\"]\n",
       "95   evilbeet  do u not feel that when u watch jon ...     1            [\", \"]\n",
       "155  ahah! and i'll say exactly what i'd say to him...     1            [\", \"]"
      ]
     },
     "execution_count": 27,
     "metadata": {},
     "output_type": "execute_result"
    }
   ],
   "source": [
    "regex = '(\"|&quot;)'\n",
    "data_extended = find_all_matches(X_train, y_train, regex)\n",
    "print_matching_statistics(data_extended, regex, p)\n",
    "data_extended.loc[data_extended[regex].notnull()].head()"
   ]
  },
  {
   "cell_type": "code",
   "execution_count": 28,
   "metadata": {},
   "outputs": [
    {
     "data": {
      "text/plain": [
       "['``', 'test', \"''\"]"
      ]
     },
     "execution_count": 28,
     "metadata": {},
     "output_type": "execute_result"
    }
   ],
   "source": [
    "nltk.word_tokenize('\"test\"')"
   ]
  },
  {
   "cell_type": "markdown",
   "metadata": {},
   "source": [
    "Marks \\# are more related to aggressive tweets"
   ]
  },
  {
   "cell_type": "code",
   "execution_count": 29,
   "metadata": {},
   "outputs": [
    {
     "name": "stdout",
     "output_type": "stream",
     "text": [
      "The mean of labels of matching tweets = 0.58\n",
      "The rate of matching tweets = 0.007\n",
      "p-value = 0.001\n"
     ]
    },
    {
     "data": {
      "text/html": [
       "<div>\n",
       "<style scoped>\n",
       "    .dataframe tbody tr th:only-of-type {\n",
       "        vertical-align: middle;\n",
       "    }\n",
       "\n",
       "    .dataframe tbody tr th {\n",
       "        vertical-align: top;\n",
       "    }\n",
       "\n",
       "    .dataframe thead th {\n",
       "        text-align: right;\n",
       "    }\n",
       "</style>\n",
       "<table border=\"1\" class=\"dataframe\">\n",
       "  <thead>\n",
       "    <tr style=\"text-align: right;\">\n",
       "      <th></th>\n",
       "      <th>content</th>\n",
       "      <th>label</th>\n",
       "      <th>(?&lt;!&amp;)#</th>\n",
       "    </tr>\n",
       "  </thead>\n",
       "  <tbody>\n",
       "    <tr>\n",
       "      <th>351</th>\n",
       "      <td>@hermanos @jamessime wow I totally know that f...</td>\n",
       "      <td>1</td>\n",
       "      <td>[#]</td>\n",
       "    </tr>\n",
       "    <tr>\n",
       "      <th>607</th>\n",
       "      <td>I nominate @benmack for a Shorty Award in #bus...</td>\n",
       "      <td>1</td>\n",
       "      <td>[#]</td>\n",
       "    </tr>\n",
       "    <tr>\n",
       "      <th>663</th>\n",
       "      <td>#NAME?</td>\n",
       "      <td>1</td>\n",
       "      <td>[#]</td>\n",
       "    </tr>\n",
       "    <tr>\n",
       "      <th>1007</th>\n",
       "      <td>#NAME?</td>\n",
       "      <td>1</td>\n",
       "      <td>[#]</td>\n",
       "    </tr>\n",
       "    <tr>\n",
       "      <th>1039</th>\n",
       "      <td>Crazy lawsuits happen every day. God and the f...</td>\n",
       "      <td>0</td>\n",
       "      <td>[#]</td>\n",
       "    </tr>\n",
       "  </tbody>\n",
       "</table>\n",
       "</div>"
      ],
      "text/plain": [
       "                                                content label (?<!&)#\n",
       "351   @hermanos @jamessime wow I totally know that f...     1     [#]\n",
       "607   I nominate @benmack for a Shorty Award in #bus...     1     [#]\n",
       "663                                              #NAME?     1     [#]\n",
       "1007                                             #NAME?     1     [#]\n",
       "1039  Crazy lawsuits happen every day. God and the f...     0     [#]"
      ]
     },
     "execution_count": 29,
     "metadata": {},
     "output_type": "execute_result"
    }
   ],
   "source": [
    "regex = '(?<!&)#'\n",
    "data_extended = find_all_matches(X_train, y_train, regex)\n",
    "print_matching_statistics(data_extended, regex, p)\n",
    "data_extended.loc[data_extended[regex].notnull()].head()"
   ]
  },
  {
   "cell_type": "markdown",
   "metadata": {},
   "source": [
    "Marks @ are more related to aggressive tweets"
   ]
  },
  {
   "cell_type": "code",
   "execution_count": 30,
   "metadata": {},
   "outputs": [
    {
     "name": "stdout",
     "output_type": "stream",
     "text": [
      "The mean of labels of matching tweets = 0.53\n",
      "The rate of matching tweets = 0.033\n",
      "p-value = 0.000\n"
     ]
    },
    {
     "data": {
      "text/html": [
       "<div>\n",
       "<style scoped>\n",
       "    .dataframe tbody tr th:only-of-type {\n",
       "        vertical-align: middle;\n",
       "    }\n",
       "\n",
       "    .dataframe tbody tr th {\n",
       "        vertical-align: top;\n",
       "    }\n",
       "\n",
       "    .dataframe thead th {\n",
       "        text-align: right;\n",
       "    }\n",
       "</style>\n",
       "<table border=\"1\" class=\"dataframe\">\n",
       "  <thead>\n",
       "    <tr style=\"text-align: right;\">\n",
       "      <th></th>\n",
       "      <th>content</th>\n",
       "      <th>label</th>\n",
       "      <th>@</th>\n",
       "    </tr>\n",
       "  </thead>\n",
       "  <tbody>\n",
       "    <tr>\n",
       "      <th>8</th>\n",
       "      <td>fuck @TheWhiteHouse  you need to come sit on B...</td>\n",
       "      <td>0</td>\n",
       "      <td>[@]</td>\n",
       "    </tr>\n",
       "    <tr>\n",
       "      <th>49</th>\n",
       "      <td>@TheSoXRoXmAsTer aw shucks you guys...are gay.</td>\n",
       "      <td>1</td>\n",
       "      <td>[@]</td>\n",
       "    </tr>\n",
       "    <tr>\n",
       "      <th>82</th>\n",
       "      <td>Now I have to try my best to get my ass blocke...</td>\n",
       "      <td>1</td>\n",
       "      <td>[@]</td>\n",
       "    </tr>\n",
       "    <tr>\n",
       "      <th>154</th>\n",
       "      <td>Lmao not as bad as other people :) *cough* @al...</td>\n",
       "      <td>0</td>\n",
       "      <td>[@, @]</td>\n",
       "    </tr>\n",
       "    <tr>\n",
       "      <th>176</th>\n",
       "      <td>where'd ya put it? o btw: \"kick ass quote Copy...</td>\n",
       "      <td>1</td>\n",
       "      <td>[@]</td>\n",
       "    </tr>\n",
       "  </tbody>\n",
       "</table>\n",
       "</div>"
      ],
      "text/plain": [
       "                                               content label       @\n",
       "8    fuck @TheWhiteHouse  you need to come sit on B...     0     [@]\n",
       "49      @TheSoXRoXmAsTer aw shucks you guys...are gay.     1     [@]\n",
       "82   Now I have to try my best to get my ass blocke...     1     [@]\n",
       "154  Lmao not as bad as other people :) *cough* @al...     0  [@, @]\n",
       "176  where'd ya put it? o btw: \"kick ass quote Copy...     1     [@]"
      ]
     },
     "execution_count": 30,
     "metadata": {},
     "output_type": "execute_result"
    }
   ],
   "source": [
    "regex = '@'\n",
    "data_extended = find_all_matches(X_train, y_train, regex)\n",
    "print_matching_statistics(data_extended, regex, p)\n",
    "data_extended.loc[data_extended[regex].notnull()].head()"
   ]
  },
  {
   "cell_type": "markdown",
   "metadata": {},
   "source": [
    "## Html symbols"
   ]
  },
  {
   "cell_type": "code",
   "execution_count": 31,
   "metadata": {},
   "outputs": [
    {
     "name": "stdout",
     "output_type": "stream",
     "text": [
      "The mean of labels of matching tweets = 0.24\n",
      "The rate of matching tweets = 0.040\n",
      "p-value = 0.000\n"
     ]
    },
    {
     "data": {
      "text/html": [
       "<div>\n",
       "<style scoped>\n",
       "    .dataframe tbody tr th:only-of-type {\n",
       "        vertical-align: middle;\n",
       "    }\n",
       "\n",
       "    .dataframe tbody tr th {\n",
       "        vertical-align: top;\n",
       "    }\n",
       "\n",
       "    .dataframe thead th {\n",
       "        text-align: right;\n",
       "    }\n",
       "</style>\n",
       "<table border=\"1\" class=\"dataframe\">\n",
       "  <thead>\n",
       "    <tr style=\"text-align: right;\">\n",
       "      <th></th>\n",
       "      <th>content</th>\n",
       "      <th>label</th>\n",
       "      <th>&amp;#?\\w*?;</th>\n",
       "    </tr>\n",
       "  </thead>\n",
       "  <tbody>\n",
       "    <tr>\n",
       "      <th>2</th>\n",
       "      <td>austins new girllfriend is not uglly  &amp;amp;&amp;a...</td>\n",
       "      <td>1</td>\n",
       "      <td>[&amp;amp;, &amp;amp;, &amp;quot;, &amp;quot;]</td>\n",
       "    </tr>\n",
       "    <tr>\n",
       "      <th>61</th>\n",
       "      <td>YOU\"RE A GAY!? .... =) I &amp;lt;3 you</td>\n",
       "      <td>1</td>\n",
       "      <td>[&amp;lt;]</td>\n",
       "    </tr>\n",
       "    <tr>\n",
       "      <th>75</th>\n",
       "      <td>Here&amp;;s an idea  how about stop trying o get ...</td>\n",
       "      <td>1</td>\n",
       "      <td>[&amp;;]</td>\n",
       "    </tr>\n",
       "    <tr>\n",
       "      <th>115</th>\n",
       "      <td>WHO CARES I HATE THEM! FTW! Knitting and croch...</td>\n",
       "      <td>1</td>\n",
       "      <td>[&amp;lt;]</td>\n",
       "    </tr>\n",
       "    <tr>\n",
       "      <th>126</th>\n",
       "      <td>damn for real? That's news to me. I'm 100% sur...</td>\n",
       "      <td>0</td>\n",
       "      <td>[&amp;gt;]</td>\n",
       "    </tr>\n",
       "  </tbody>\n",
       "</table>\n",
       "</div>"
      ],
      "text/plain": [
       "                                               content label  \\\n",
       "2     austins new girllfriend is not uglly  &amp;&a...     1   \n",
       "61                  YOU\"RE A GAY!? .... =) I &lt;3 you     1   \n",
       "75    Here&;s an idea  how about stop trying o get ...     1   \n",
       "115  WHO CARES I HATE THEM! FTW! Knitting and croch...     1   \n",
       "126  damn for real? That's news to me. I'm 100% sur...     0   \n",
       "\n",
       "                           &#?\\w*?;  \n",
       "2    [&amp;, &amp;, &quot;, &quot;]  \n",
       "61                           [&lt;]  \n",
       "75                             [&;]  \n",
       "115                          [&lt;]  \n",
       "126                          [&gt;]  "
      ]
     },
     "execution_count": 31,
     "metadata": {},
     "output_type": "execute_result"
    }
   ],
   "source": [
    "regex = '&#?\\\\w*?;'\n",
    "data_extended = find_all_matches(X_train, y_train, regex)\n",
    "print_matching_statistics(data_extended, regex, p)\n",
    "data_extended.loc[data_extended[regex].notnull()].head()"
   ]
  },
  {
   "cell_type": "code",
   "execution_count": 32,
   "metadata": {},
   "outputs": [],
   "source": [
    "html_symbol_dict = {}\n",
    "for html_symbols in data_extended.loc[data_extended[regex].notnull()].iloc[:, 2]:\n",
    "    for html_symbol in html_symbols:\n",
    "        html_symbol_dict[html_symbol] = html_symbol_dict.get(html_symbol, 0) + 1"
   ]
  },
  {
   "cell_type": "code",
   "execution_count": 33,
   "metadata": {},
   "outputs": [
    {
     "data": {
      "text/plain": [
       "{'&amp;': 78,\n",
       " '&quot;': 122,\n",
       " '&lt;': 66,\n",
       " '&;': 364,\n",
       " '&gt;': 42,\n",
       " '&#8217;': 15,\n",
       " '&#169;': 3,\n",
       " '&apos;': 38,\n",
       " '&#191;': 1,\n",
       " '&#58390;': 3,\n",
       " '&#233;': 8,\n",
       " '&#232;': 3,\n",
       " '&#224;': 4,\n",
       " '&#234;': 1,\n",
       " '&#9786;': 1,\n",
       " '&#9835;': 7,\n",
       " '&#9824;': 2,\n",
       " '&#58371;': 1,\n",
       " '&#9834;': 3,\n",
       " '&#163;': 1,\n",
       " '&#174;': 3,\n",
       " '&#228;': 1,\n",
       " '&#58126;': 1,\n",
       " '&#172;': 3,\n",
       " '&#8230;': 4,\n",
       " '&#9829;': 2,\n",
       " '&#58382;': 1,\n",
       " '&#58389;': 1,\n",
       " '&#9773;': 1}"
      ]
     },
     "execution_count": 33,
     "metadata": {},
     "output_type": "execute_result"
    }
   ],
   "source": [
    "html_symbol_dict"
   ]
  },
  {
   "cell_type": "code",
   "execution_count": 34,
   "metadata": {},
   "outputs": [
    {
     "name": "stdout",
     "output_type": "stream",
     "text": [
      "The mean of labels of matching tweets = 0.45\n",
      "The rate of matching tweets = 0.001\n",
      "p-value = 0.764\n"
     ]
    },
    {
     "data": {
      "text/html": [
       "<div>\n",
       "<style scoped>\n",
       "    .dataframe tbody tr th:only-of-type {\n",
       "        vertical-align: middle;\n",
       "    }\n",
       "\n",
       "    .dataframe tbody tr th {\n",
       "        vertical-align: top;\n",
       "    }\n",
       "\n",
       "    .dataframe thead th {\n",
       "        text-align: right;\n",
       "    }\n",
       "</style>\n",
       "<table border=\"1\" class=\"dataframe\">\n",
       "  <thead>\n",
       "    <tr style=\"text-align: right;\">\n",
       "      <th></th>\n",
       "      <th>content</th>\n",
       "      <th>label</th>\n",
       "      <th>&amp;#8217;</th>\n",
       "    </tr>\n",
       "  </thead>\n",
       "  <tbody>\n",
       "    <tr>\n",
       "      <th>148</th>\n",
       "      <td>...dude  I&amp;#8217;m a producer and exporter of ...</td>\n",
       "      <td>0</td>\n",
       "      <td>[&amp;#8217;, &amp;#8217;]</td>\n",
       "    </tr>\n",
       "    <tr>\n",
       "      <th>699</th>\n",
       "      <td>I just entered Ms. Single Mama&amp;#8217;s Kick As...</td>\n",
       "      <td>0</td>\n",
       "      <td>[&amp;#8217;]</td>\n",
       "    </tr>\n",
       "    <tr>\n",
       "      <th>2281</th>\n",
       "      <td>I just entered Ms. Single Mama&amp;#8217;s Kick As...</td>\n",
       "      <td>0</td>\n",
       "      <td>[&amp;#8217;]</td>\n",
       "    </tr>\n",
       "    <tr>\n",
       "      <th>4145</th>\n",
       "      <td>Football. I hate it. It&amp;#8217;s official  I&amp;#8...</td>\n",
       "      <td>1</td>\n",
       "      <td>[&amp;#8217;, &amp;#8217;]</td>\n",
       "    </tr>\n",
       "    <tr>\n",
       "      <th>4628</th>\n",
       "      <td>...fucking coded shit. I don&amp;#8217;t watch old...</td>\n",
       "      <td>0</td>\n",
       "      <td>[&amp;#8217;]</td>\n",
       "    </tr>\n",
       "  </tbody>\n",
       "</table>\n",
       "</div>"
      ],
      "text/plain": [
       "                                                content label  \\\n",
       "148   ...dude  I&#8217;m a producer and exporter of ...     0   \n",
       "699   I just entered Ms. Single Mama&#8217;s Kick As...     0   \n",
       "2281  I just entered Ms. Single Mama&#8217;s Kick As...     0   \n",
       "4145  Football. I hate it. It&#8217;s official  I&#8...     1   \n",
       "4628  ...fucking coded shit. I don&#8217;t watch old...     0   \n",
       "\n",
       "                 &#8217;  \n",
       "148   [&#8217;, &#8217;]  \n",
       "699            [&#8217;]  \n",
       "2281           [&#8217;]  \n",
       "4145  [&#8217;, &#8217;]  \n",
       "4628           [&#8217;]  "
      ]
     },
     "execution_count": 34,
     "metadata": {},
     "output_type": "execute_result"
    }
   ],
   "source": [
    "regex = '&#8217;'\n",
    "data_extended = find_all_matches(X_train, y_train, regex)\n",
    "print_matching_statistics(data_extended, regex, p)\n",
    "data_extended.loc[data_extended[regex].notnull()].head()"
   ]
  },
  {
   "cell_type": "code",
   "execution_count": 35,
   "metadata": {},
   "outputs": [
    {
     "name": "stdout",
     "output_type": "stream",
     "text": [
      "The mean of labels of matching tweets = 0.00\n",
      "The rate of matching tweets = 0.000\n",
      "p-value = 0.155\n"
     ]
    },
    {
     "data": {
      "text/html": [
       "<div>\n",
       "<style scoped>\n",
       "    .dataframe tbody tr th:only-of-type {\n",
       "        vertical-align: middle;\n",
       "    }\n",
       "\n",
       "    .dataframe tbody tr th {\n",
       "        vertical-align: top;\n",
       "    }\n",
       "\n",
       "    .dataframe thead th {\n",
       "        text-align: right;\n",
       "    }\n",
       "</style>\n",
       "<table border=\"1\" class=\"dataframe\">\n",
       "  <thead>\n",
       "    <tr style=\"text-align: right;\">\n",
       "      <th></th>\n",
       "      <th>content</th>\n",
       "      <th>label</th>\n",
       "      <th>&lt;\\w+?&gt;</th>\n",
       "    </tr>\n",
       "  </thead>\n",
       "  <tbody>\n",
       "    <tr>\n",
       "      <th>855</th>\n",
       "      <td>Favorite candy ? :D&lt;br&gt;</td>\n",
       "      <td>0</td>\n",
       "      <td>[&lt;br&gt;]</td>\n",
       "    </tr>\n",
       "    <tr>\n",
       "      <th>7879</th>\n",
       "      <td>....oats&lt;br&gt;</td>\n",
       "      <td>0</td>\n",
       "      <td>[&lt;br&gt;]</td>\n",
       "    </tr>\n",
       "    <tr>\n",
       "      <th>8583</th>\n",
       "      <td>Do you have a boyfriend?&lt;br&gt;</td>\n",
       "      <td>0</td>\n",
       "      <td>[&lt;br&gt;]</td>\n",
       "    </tr>\n",
       "    <tr>\n",
       "      <th>12057</th>\n",
       "      <td>what&amp;;s your favorite song? :D&lt;br&gt;</td>\n",
       "      <td>0</td>\n",
       "      <td>[&lt;br&gt;]</td>\n",
       "    </tr>\n",
       "  </tbody>\n",
       "</table>\n",
       "</div>"
      ],
      "text/plain": [
       "                                   content label  <\\w+?>\n",
       "855                Favorite candy ? :D<br>     0  [<br>]\n",
       "7879                          ....oats<br>     0  [<br>]\n",
       "8583          Do you have a boyfriend?<br>     0  [<br>]\n",
       "12057   what&;s your favorite song? :D<br>     0  [<br>]"
      ]
     },
     "execution_count": 35,
     "metadata": {},
     "output_type": "execute_result"
    }
   ],
   "source": [
    "regex = '<\\\\w+?>'\n",
    "data_extended = find_all_matches(X_train, y_train, regex)\n",
    "print_matching_statistics(data_extended, regex, p)\n",
    "data_extended.loc[data_extended[regex].notnull()].head()"
   ]
  },
  {
   "cell_type": "markdown",
   "metadata": {},
   "source": [
    "## Words"
   ]
  },
  {
   "cell_type": "markdown",
   "metadata": {},
   "source": [
    "Negations (n't) are more related to aggressive tweets"
   ]
  },
  {
   "cell_type": "code",
   "execution_count": 36,
   "metadata": {},
   "outputs": [
    {
     "name": "stdout",
     "output_type": "stream",
     "text": [
      "The mean of labels of matching tweets = 0.49\n",
      "The rate of matching tweets = 0.080\n",
      "p-value = 0.000\n"
     ]
    },
    {
     "data": {
      "text/html": [
       "<div>\n",
       "<style scoped>\n",
       "    .dataframe tbody tr th:only-of-type {\n",
       "        vertical-align: middle;\n",
       "    }\n",
       "\n",
       "    .dataframe tbody tr th {\n",
       "        vertical-align: top;\n",
       "    }\n",
       "\n",
       "    .dataframe thead th {\n",
       "        text-align: right;\n",
       "    }\n",
       "</style>\n",
       "<table border=\"1\" class=\"dataframe\">\n",
       "  <thead>\n",
       "    <tr style=\"text-align: right;\">\n",
       "      <th></th>\n",
       "      <th>content</th>\n",
       "      <th>label</th>\n",
       "      <th>\\b\\w+n't\\b</th>\n",
       "    </tr>\n",
       "  </thead>\n",
       "  <tbody>\n",
       "    <tr>\n",
       "      <th>5</th>\n",
       "      <td>you won't die in Queens we're civilized here i...</td>\n",
       "      <td>1</td>\n",
       "      <td>[won't]</td>\n",
       "    </tr>\n",
       "    <tr>\n",
       "      <th>29</th>\n",
       "      <td>I've noticed he can't spell much beyond NOM an...</td>\n",
       "      <td>1</td>\n",
       "      <td>[can't]</td>\n",
       "    </tr>\n",
       "    <tr>\n",
       "      <th>32</th>\n",
       "      <td>I'd still be walking around with it stuck to m...</td>\n",
       "      <td>0</td>\n",
       "      <td>[hadn't]</td>\n",
       "    </tr>\n",
       "    <tr>\n",
       "      <th>33</th>\n",
       "      <td>I can't abide Family Guy  I hate it more than ...</td>\n",
       "      <td>0</td>\n",
       "      <td>[can't]</td>\n",
       "    </tr>\n",
       "    <tr>\n",
       "      <th>70</th>\n",
       "      <td>LOWKEYY;; hehe Don't even trip&lt;$</td>\n",
       "      <td>0</td>\n",
       "      <td>[Don't]</td>\n",
       "    </tr>\n",
       "  </tbody>\n",
       "</table>\n",
       "</div>"
      ],
      "text/plain": [
       "                                              content label \\b\\w+n't\\b\n",
       "5   you won't die in Queens we're civilized here i...     1    [won't]\n",
       "29  I've noticed he can't spell much beyond NOM an...     1    [can't]\n",
       "32  I'd still be walking around with it stuck to m...     0   [hadn't]\n",
       "33  I can't abide Family Guy  I hate it more than ...     0    [can't]\n",
       "70                   LOWKEYY;; hehe Don't even trip<$     0    [Don't]"
      ]
     },
     "execution_count": 36,
     "metadata": {},
     "output_type": "execute_result"
    }
   ],
   "source": [
    "regex = '\\\\b\\\\w+n\\'t\\\\b'\n",
    "data_extended = find_all_matches(X_train, y_train, regex)\n",
    "print_matching_statistics(data_extended, regex, p)\n",
    "data_extended.loc[data_extended[regex].notnull()].head()"
   ]
  },
  {
   "cell_type": "code",
   "execution_count": 37,
   "metadata": {},
   "outputs": [
    {
     "name": "stdout",
     "output_type": "stream",
     "text": [
      "The mean of labels of matching tweets = 0.37\n",
      "The rate of matching tweets = 0.050\n",
      "p-value = 0.159\n"
     ]
    },
    {
     "data": {
      "text/html": [
       "<div>\n",
       "<style scoped>\n",
       "    .dataframe tbody tr th:only-of-type {\n",
       "        vertical-align: middle;\n",
       "    }\n",
       "\n",
       "    .dataframe tbody tr th {\n",
       "        vertical-align: top;\n",
       "    }\n",
       "\n",
       "    .dataframe thead th {\n",
       "        text-align: right;\n",
       "    }\n",
       "</style>\n",
       "<table border=\"1\" class=\"dataframe\">\n",
       "  <thead>\n",
       "    <tr style=\"text-align: right;\">\n",
       "      <th></th>\n",
       "      <th>content</th>\n",
       "      <th>label</th>\n",
       "      <th>\\bnot\\b</th>\n",
       "    </tr>\n",
       "  </thead>\n",
       "  <tbody>\n",
       "    <tr>\n",
       "      <th>2</th>\n",
       "      <td>austins new girllfriend is not uglly  &amp;amp;&amp;a...</td>\n",
       "      <td>1</td>\n",
       "      <td>[not]</td>\n",
       "    </tr>\n",
       "    <tr>\n",
       "      <th>28</th>\n",
       "      <td>which year was your favoroute school year... ...</td>\n",
       "      <td>0</td>\n",
       "      <td>[not]</td>\n",
       "    </tr>\n",
       "    <tr>\n",
       "      <th>40</th>\n",
       "      <td>Totally.  The ass end of my Jeep is not  but n...</td>\n",
       "      <td>1</td>\n",
       "      <td>[not]</td>\n",
       "    </tr>\n",
       "    <tr>\n",
       "      <th>52</th>\n",
       "      <td>They all live in the town in which I grew up  ...</td>\n",
       "      <td>0</td>\n",
       "      <td>[not]</td>\n",
       "    </tr>\n",
       "    <tr>\n",
       "      <th>56</th>\n",
       "      <td>This is a better Hodgman excerpt: \"it is hard ...</td>\n",
       "      <td>0</td>\n",
       "      <td>[not]</td>\n",
       "    </tr>\n",
       "  </tbody>\n",
       "</table>\n",
       "</div>"
      ],
      "text/plain": [
       "                                              content label \\bnot\\b\n",
       "2    austins new girllfriend is not uglly  &amp;&a...     1   [not]\n",
       "28   which year was your favoroute school year... ...     0   [not]\n",
       "40  Totally.  The ass end of my Jeep is not  but n...     1   [not]\n",
       "52  They all live in the town in which I grew up  ...     0   [not]\n",
       "56  This is a better Hodgman excerpt: \"it is hard ...     0   [not]"
      ]
     },
     "execution_count": 37,
     "metadata": {},
     "output_type": "execute_result"
    }
   ],
   "source": [
    "regex = '\\\\bnot\\\\b'\n",
    "data_extended = find_all_matches(X_train, y_train, regex)\n",
    "print_matching_statistics(data_extended, regex, p)\n",
    "data_extended.loc[data_extended[regex].notnull()].head()"
   ]
  },
  {
   "cell_type": "code",
   "execution_count": 38,
   "metadata": {},
   "outputs": [
    {
     "data": {
      "text/plain": [
       "['test', 'do', \"n't\", 'did', \"n't\", 'wo', \"n't\", 'you', \"'ll\"]"
      ]
     },
     "execution_count": 38,
     "metadata": {},
     "output_type": "execute_result"
    }
   ],
   "source": [
    "nltk.word_tokenize('test don\\'t didn\\'t won\\'t you\\'ll')"
   ]
  },
  {
   "cell_type": "markdown",
   "metadata": {},
   "source": [
    "Shortened forms (with an apostrophe) are more related to aggressive tweets"
   ]
  },
  {
   "cell_type": "code",
   "execution_count": 39,
   "metadata": {},
   "outputs": [
    {
     "name": "stdout",
     "output_type": "stream",
     "text": [
      "The mean of labels of matching tweets = 0.49\n",
      "The rate of matching tweets = 0.247\n",
      "p-value = 0.000\n"
     ]
    },
    {
     "data": {
      "text/html": [
       "<div>\n",
       "<style scoped>\n",
       "    .dataframe tbody tr th:only-of-type {\n",
       "        vertical-align: middle;\n",
       "    }\n",
       "\n",
       "    .dataframe tbody tr th {\n",
       "        vertical-align: top;\n",
       "    }\n",
       "\n",
       "    .dataframe thead th {\n",
       "        text-align: right;\n",
       "    }\n",
       "</style>\n",
       "<table border=\"1\" class=\"dataframe\">\n",
       "  <thead>\n",
       "    <tr style=\"text-align: right;\">\n",
       "      <th></th>\n",
       "      <th>content</th>\n",
       "      <th>label</th>\n",
       "      <th>\\b\\w+'\\w+\\b</th>\n",
       "    </tr>\n",
       "  </thead>\n",
       "  <tbody>\n",
       "    <tr>\n",
       "      <th>4</th>\n",
       "      <td>thx for the well wishes lisa! i hate taking me...</td>\n",
       "      <td>1</td>\n",
       "      <td>[i'm]</td>\n",
       "    </tr>\n",
       "    <tr>\n",
       "      <th>5</th>\n",
       "      <td>you won't die in Queens we're civilized here i...</td>\n",
       "      <td>1</td>\n",
       "      <td>[won't, we're, there's, McDonald's]</td>\n",
       "    </tr>\n",
       "    <tr>\n",
       "      <th>6</th>\n",
       "      <td>I'm being gay by using SQL Server</td>\n",
       "      <td>0</td>\n",
       "      <td>[I'm]</td>\n",
       "    </tr>\n",
       "    <tr>\n",
       "      <th>8</th>\n",
       "      <td>fuck @TheWhiteHouse  you need to come sit on B...</td>\n",
       "      <td>0</td>\n",
       "      <td>[Bernanke's]</td>\n",
       "    </tr>\n",
       "    <tr>\n",
       "      <th>16</th>\n",
       "      <td>I'll have to work on that one.  Ass clown is a...</td>\n",
       "      <td>0</td>\n",
       "      <td>[I'll]</td>\n",
       "    </tr>\n",
       "  </tbody>\n",
       "</table>\n",
       "</div>"
      ],
      "text/plain": [
       "                                              content label  \\\n",
       "4   thx for the well wishes lisa! i hate taking me...     1   \n",
       "5   you won't die in Queens we're civilized here i...     1   \n",
       "6                   I'm being gay by using SQL Server     0   \n",
       "8   fuck @TheWhiteHouse  you need to come sit on B...     0   \n",
       "16  I'll have to work on that one.  Ass clown is a...     0   \n",
       "\n",
       "                            \\b\\w+'\\w+\\b  \n",
       "4                                 [i'm]  \n",
       "5   [won't, we're, there's, McDonald's]  \n",
       "6                                 [I'm]  \n",
       "8                          [Bernanke's]  \n",
       "16                               [I'll]  "
      ]
     },
     "execution_count": 39,
     "metadata": {},
     "output_type": "execute_result"
    }
   ],
   "source": [
    "regex = '\\\\b\\\\w+\\'\\\\w+\\\\b'\n",
    "data_extended = find_all_matches(X_train, y_train, regex)\n",
    "print_matching_statistics(data_extended, regex, p)\n",
    "data_extended.loc[data_extended[regex].notnull()].head()"
   ]
  },
  {
   "cell_type": "code",
   "execution_count": 40,
   "metadata": {},
   "outputs": [
    {
     "name": "stdout",
     "output_type": "stream",
     "text": [
      "The mean of labels of matching tweets = 0.51\n",
      "The rate of matching tweets = 0.068\n",
      "p-value = 0.000\n"
     ]
    },
    {
     "data": {
      "text/html": [
       "<div>\n",
       "<style scoped>\n",
       "    .dataframe tbody tr th:only-of-type {\n",
       "        vertical-align: middle;\n",
       "    }\n",
       "\n",
       "    .dataframe tbody tr th {\n",
       "        vertical-align: top;\n",
       "    }\n",
       "\n",
       "    .dataframe thead th {\n",
       "        text-align: right;\n",
       "    }\n",
       "</style>\n",
       "<table border=\"1\" class=\"dataframe\">\n",
       "  <thead>\n",
       "    <tr style=\"text-align: right;\">\n",
       "      <th></th>\n",
       "      <th>content</th>\n",
       "      <th>label</th>\n",
       "      <th>\\b\\w+'[^t]\\w+\\b</th>\n",
       "    </tr>\n",
       "  </thead>\n",
       "  <tbody>\n",
       "    <tr>\n",
       "      <th>5</th>\n",
       "      <td>you won't die in Queens we're civilized here i...</td>\n",
       "      <td>1</td>\n",
       "      <td>[we're]</td>\n",
       "    </tr>\n",
       "    <tr>\n",
       "      <th>16</th>\n",
       "      <td>I'll have to work on that one.  Ass clown is a...</td>\n",
       "      <td>0</td>\n",
       "      <td>[I'll]</td>\n",
       "    </tr>\n",
       "    <tr>\n",
       "      <th>22</th>\n",
       "      <td>You're still alive? Well  damn  I just lost a ...</td>\n",
       "      <td>1</td>\n",
       "      <td>[You're]</td>\n",
       "    </tr>\n",
       "    <tr>\n",
       "      <th>26</th>\n",
       "      <td>You're quite right. I withdraw my aggressive c...</td>\n",
       "      <td>1</td>\n",
       "      <td>[You're]</td>\n",
       "    </tr>\n",
       "    <tr>\n",
       "      <th>29</th>\n",
       "      <td>I've noticed he can't spell much beyond NOM an...</td>\n",
       "      <td>1</td>\n",
       "      <td>[I've]</td>\n",
       "    </tr>\n",
       "  </tbody>\n",
       "</table>\n",
       "</div>"
      ],
      "text/plain": [
       "                                              content label \\b\\w+'[^t]\\w+\\b\n",
       "5   you won't die in Queens we're civilized here i...     1         [we're]\n",
       "16  I'll have to work on that one.  Ass clown is a...     0          [I'll]\n",
       "22  You're still alive? Well  damn  I just lost a ...     1        [You're]\n",
       "26  You're quite right. I withdraw my aggressive c...     1        [You're]\n",
       "29  I've noticed he can't spell much beyond NOM an...     1          [I've]"
      ]
     },
     "execution_count": 40,
     "metadata": {},
     "output_type": "execute_result"
    }
   ],
   "source": [
    "regex = '\\\\b\\\\w+\\'[^t]\\\\w+\\\\b'\n",
    "data_extended = find_all_matches(X_train, y_train, regex)\n",
    "print_matching_statistics(data_extended, regex, p)\n",
    "data_extended.loc[data_extended[regex].notnull()].head()"
   ]
  },
  {
   "cell_type": "markdown",
   "metadata": {},
   "source": [
    "Words with stars say nothing"
   ]
  },
  {
   "cell_type": "code",
   "execution_count": 41,
   "metadata": {},
   "outputs": [
    {
     "name": "stdout",
     "output_type": "stream",
     "text": [
      "The mean of labels of matching tweets = 0.54\n",
      "The rate of matching tweets = 0.001\n",
      "p-value = 0.397\n"
     ]
    },
    {
     "data": {
      "text/html": [
       "<div>\n",
       "<style scoped>\n",
       "    .dataframe tbody tr th:only-of-type {\n",
       "        vertical-align: middle;\n",
       "    }\n",
       "\n",
       "    .dataframe tbody tr th {\n",
       "        vertical-align: top;\n",
       "    }\n",
       "\n",
       "    .dataframe thead th {\n",
       "        text-align: right;\n",
       "    }\n",
       "</style>\n",
       "<table border=\"1\" class=\"dataframe\">\n",
       "  <thead>\n",
       "    <tr style=\"text-align: right;\">\n",
       "      <th></th>\n",
       "      <th>content</th>\n",
       "      <th>label</th>\n",
       "      <th>\\b\\w+\\*{1,}\\w+\\b</th>\n",
       "    </tr>\n",
       "  </thead>\n",
       "  <tbody>\n",
       "    <tr>\n",
       "      <th>1120</th>\n",
       "      <td>A BAMF is a bad-ass mother f*cker.</td>\n",
       "      <td>1</td>\n",
       "      <td>[f*cker]</td>\n",
       "    </tr>\n",
       "    <tr>\n",
       "      <th>1351</th>\n",
       "      <td>my bleeping employment agency f***ed up my pay...</td>\n",
       "      <td>1</td>\n",
       "      <td>[f***ed]</td>\n",
       "    </tr>\n",
       "    <tr>\n",
       "      <th>2216</th>\n",
       "      <td>whwhwhwhoa just slow down. huh!? what do you ...</td>\n",
       "      <td>0</td>\n",
       "      <td>[f*****ck, F*ck, F*ck, F*ck, F*ck, F*ck]</td>\n",
       "    </tr>\n",
       "    <tr>\n",
       "      <th>2559</th>\n",
       "      <td>A BAMF is a bad-ass mother f*cker.</td>\n",
       "      <td>1</td>\n",
       "      <td>[f*cker]</td>\n",
       "    </tr>\n",
       "    <tr>\n",
       "      <th>5086</th>\n",
       "      <td>the lox \"f**k you \" \"keep it thoro\" prodigy  \"...</td>\n",
       "      <td>1</td>\n",
       "      <td>[f**k]</td>\n",
       "    </tr>\n",
       "    <tr>\n",
       "      <th>5443</th>\n",
       "      <td>Aw  f**k. That sucks.</td>\n",
       "      <td>0</td>\n",
       "      <td>[f**k]</td>\n",
       "    </tr>\n",
       "    <tr>\n",
       "      <th>6422</th>\n",
       "      <td>lenee  that bo*o ass incense you gave me smell...</td>\n",
       "      <td>1</td>\n",
       "      <td>[bo*o]</td>\n",
       "    </tr>\n",
       "    <tr>\n",
       "      <th>7096</th>\n",
       "      <td>the drive to Bear sucks tho. Very windy (curve...</td>\n",
       "      <td>0</td>\n",
       "      <td>[b*tch]</td>\n",
       "    </tr>\n",
       "    <tr>\n",
       "      <th>7460</th>\n",
       "      <td>oooooooohhhhhhh sh*t! Damn where all the white...</td>\n",
       "      <td>1</td>\n",
       "      <td>[sh*t]</td>\n",
       "    </tr>\n",
       "    <tr>\n",
       "      <th>7658</th>\n",
       "      <td>thats what i am saying...they need to pay me.t...</td>\n",
       "      <td>1</td>\n",
       "      <td>[m*ttaf]</td>\n",
       "    </tr>\n",
       "    <tr>\n",
       "      <th>7833</th>\n",
       "      <td>LMAO......... U starting SH*T already... Ha! I...</td>\n",
       "      <td>0</td>\n",
       "      <td>[SH*T]</td>\n",
       "    </tr>\n",
       "    <tr>\n",
       "      <th>8127</th>\n",
       "      <td>LOL and I have missed the 12.55 as the freakin...</td>\n",
       "      <td>0</td>\n",
       "      <td>[b*tch]</td>\n",
       "    </tr>\n",
       "    <tr>\n",
       "      <th>10947</th>\n",
       "      <td>Damn  I start complaining at 20 degrees. In th...</td>\n",
       "      <td>0</td>\n",
       "      <td>[d*_]</td>\n",
       "    </tr>\n",
       "  </tbody>\n",
       "</table>\n",
       "</div>"
      ],
      "text/plain": [
       "                                                 content label  \\\n",
       "1120                  A BAMF is a bad-ass mother f*cker.     1   \n",
       "1351   my bleeping employment agency f***ed up my pay...     1   \n",
       "2216    whwhwhwhoa just slow down. huh!? what do you ...     0   \n",
       "2559                  A BAMF is a bad-ass mother f*cker.     1   \n",
       "5086   the lox \"f**k you \" \"keep it thoro\" prodigy  \"...     1   \n",
       "5443                               Aw  f**k. That sucks.     0   \n",
       "6422   lenee  that bo*o ass incense you gave me smell...     1   \n",
       "7096   the drive to Bear sucks tho. Very windy (curve...     0   \n",
       "7460   oooooooohhhhhhh sh*t! Damn where all the white...     1   \n",
       "7658   thats what i am saying...they need to pay me.t...     1   \n",
       "7833   LMAO......... U starting SH*T already... Ha! I...     0   \n",
       "8127   LOL and I have missed the 12.55 as the freakin...     0   \n",
       "10947  Damn  I start complaining at 20 degrees. In th...     0   \n",
       "\n",
       "                               \\b\\w+\\*{1,}\\w+\\b  \n",
       "1120                                   [f*cker]  \n",
       "1351                                   [f***ed]  \n",
       "2216   [f*****ck, F*ck, F*ck, F*ck, F*ck, F*ck]  \n",
       "2559                                   [f*cker]  \n",
       "5086                                     [f**k]  \n",
       "5443                                     [f**k]  \n",
       "6422                                     [bo*o]  \n",
       "7096                                    [b*tch]  \n",
       "7460                                     [sh*t]  \n",
       "7658                                   [m*ttaf]  \n",
       "7833                                     [SH*T]  \n",
       "8127                                    [b*tch]  \n",
       "10947                                     [d*_]  "
      ]
     },
     "execution_count": 41,
     "metadata": {},
     "output_type": "execute_result"
    }
   ],
   "source": [
    "regex = '\\\\b\\\\w+\\\\*{1,}\\\\w+\\\\b'\n",
    "data_extended = find_all_matches(X_train, y_train, regex)\n",
    "print_matching_statistics(data_extended, regex, p)\n",
    "data_extended.loc[data_extended[regex].notnull()]"
   ]
  },
  {
   "cell_type": "markdown",
   "metadata": {},
   "source": [
    "Links say nothing"
   ]
  },
  {
   "cell_type": "code",
   "execution_count": 42,
   "metadata": {},
   "outputs": [
    {
     "name": "stdout",
     "output_type": "stream",
     "text": [
      "The mean of labels of matching tweets = 0.47\n",
      "The rate of matching tweets = 0.014\n",
      "p-value = 0.052\n"
     ]
    },
    {
     "data": {
      "text/html": [
       "<div>\n",
       "<style scoped>\n",
       "    .dataframe tbody tr th:only-of-type {\n",
       "        vertical-align: middle;\n",
       "    }\n",
       "\n",
       "    .dataframe tbody tr th {\n",
       "        vertical-align: top;\n",
       "    }\n",
       "\n",
       "    .dataframe thead th {\n",
       "        text-align: right;\n",
       "    }\n",
       "</style>\n",
       "<table border=\"1\" class=\"dataframe\">\n",
       "  <thead>\n",
       "    <tr style=\"text-align: right;\">\n",
       "      <th></th>\n",
       "      <th>content</th>\n",
       "      <th>label</th>\n",
       "      <th>\\w+://\\S+</th>\n",
       "    </tr>\n",
       "  </thead>\n",
       "  <tbody>\n",
       "    <tr>\n",
       "      <th>66</th>\n",
       "      <td>damn your yankees! http://tinyurl.com/8vgfyp</td>\n",
       "      <td>0</td>\n",
       "      <td>[http://tinyurl.com/8vgfyp]</td>\n",
       "    </tr>\n",
       "    <tr>\n",
       "      <th>207</th>\n",
       "      <td>What do you think of my new graphic?  http://...</td>\n",
       "      <td>0</td>\n",
       "      <td>[http://poetic-beauty81.deviantart.com/art/A-R...</td>\n",
       "    </tr>\n",
       "    <tr>\n",
       "      <th>229</th>\n",
       "      <td>http://twitpic.com/xm6u - You have an inbox fo...</td>\n",
       "      <td>1</td>\n",
       "      <td>[http://twitpic.com/xm6u]</td>\n",
       "    </tr>\n",
       "    <tr>\n",
       "      <th>311</th>\n",
       "      <td>goddamn it kj...fuck you 49 times http://tinyu...</td>\n",
       "      <td>1</td>\n",
       "      <td>[http://tinyurl.com/5mq4sq]</td>\n",
       "    </tr>\n",
       "    <tr>\n",
       "      <th>421</th>\n",
       "      <td>http://twitpic.com/py9p - HER ass is on top</td>\n",
       "      <td>1</td>\n",
       "      <td>[http://twitpic.com/py9p]</td>\n",
       "    </tr>\n",
       "  </tbody>\n",
       "</table>\n",
       "</div>"
      ],
      "text/plain": [
       "                                               content label  \\\n",
       "66        damn your yankees! http://tinyurl.com/8vgfyp     0   \n",
       "207   What do you think of my new graphic?  http://...     0   \n",
       "229  http://twitpic.com/xm6u - You have an inbox fo...     1   \n",
       "311  goddamn it kj...fuck you 49 times http://tinyu...     1   \n",
       "421        http://twitpic.com/py9p - HER ass is on top     1   \n",
       "\n",
       "                                             \\w+://\\S+  \n",
       "66                         [http://tinyurl.com/8vgfyp]  \n",
       "207  [http://poetic-beauty81.deviantart.com/art/A-R...  \n",
       "229                          [http://twitpic.com/xm6u]  \n",
       "311                        [http://tinyurl.com/5mq4sq]  \n",
       "421                          [http://twitpic.com/py9p]  "
      ]
     },
     "execution_count": 42,
     "metadata": {},
     "output_type": "execute_result"
    }
   ],
   "source": [
    "regex = '\\\\w+://\\\\S+'\n",
    "data_extended = find_all_matches(X_train, y_train, regex)\n",
    "print_matching_statistics(data_extended, regex, p)\n",
    "data_extended.loc[data_extended[regex].notnull()].head()"
   ]
  },
  {
   "cell_type": "markdown",
   "metadata": {},
   "source": [
    "Emails"
   ]
  },
  {
   "cell_type": "code",
   "execution_count": 78,
   "metadata": {},
   "outputs": [
    {
     "name": "stdout",
     "output_type": "stream",
     "text": [
      "The mean of labels of matching tweets = nan\n",
      "The rate of matching tweets = 0.000\n",
      "p-value = 1.000\n"
     ]
    },
    {
     "data": {
      "text/html": [
       "<div>\n",
       "<style scoped>\n",
       "    .dataframe tbody tr th:only-of-type {\n",
       "        vertical-align: middle;\n",
       "    }\n",
       "\n",
       "    .dataframe tbody tr th {\n",
       "        vertical-align: top;\n",
       "    }\n",
       "\n",
       "    .dataframe thead th {\n",
       "        text-align: right;\n",
       "    }\n",
       "</style>\n",
       "<table border=\"1\" class=\"dataframe\">\n",
       "  <thead>\n",
       "    <tr style=\"text-align: right;\">\n",
       "      <th></th>\n",
       "      <th>content</th>\n",
       "      <th>label</th>\n",
       "      <th>(\\w[\\w.-]+@[\\w-][\\w.-]*\\w(?:\\.[a-zA-Z]{1,4}))</th>\n",
       "    </tr>\n",
       "  </thead>\n",
       "  <tbody>\n",
       "  </tbody>\n",
       "</table>\n",
       "</div>"
      ],
      "text/plain": [
       "Empty DataFrame\n",
       "Columns: [content, label, (\\w[\\w.-]+@[\\w-][\\w.-]*\\w(?:\\.[a-zA-Z]{1,4}))]\n",
       "Index: []"
      ]
     },
     "execution_count": 78,
     "metadata": {},
     "output_type": "execute_result"
    }
   ],
   "source": [
    "regex = '\\\\b(\\\\w[\\\\w.-]+@[\\\\w-][\\\\w.-]*\\\\w(?:\\\\.[a-zA-Z]{1,4}))\\\\b'\n",
    "data_extended = find_all_matches(X_train, y_train, regex)\n",
    "print_matching_statistics(data_extended, regex, p)\n",
    "data_extended.loc[data_extended[regex].notnull()]"
   ]
  },
  {
   "cell_type": "markdown",
   "metadata": {},
   "source": [
    "Single letters/Shortcuts"
   ]
  },
  {
   "cell_type": "code",
   "execution_count": 44,
   "metadata": {},
   "outputs": [
    {
     "name": "stdout",
     "output_type": "stream",
     "text": [
      "The mean of labels of matching tweets = 0.50\n",
      "The rate of matching tweets = 0.000\n",
      "p-value = 0.689\n"
     ]
    },
    {
     "data": {
      "text/html": [
       "<div>\n",
       "<style scoped>\n",
       "    .dataframe tbody tr th:only-of-type {\n",
       "        vertical-align: middle;\n",
       "    }\n",
       "\n",
       "    .dataframe tbody tr th {\n",
       "        vertical-align: top;\n",
       "    }\n",
       "\n",
       "    .dataframe thead th {\n",
       "        text-align: right;\n",
       "    }\n",
       "</style>\n",
       "<table border=\"1\" class=\"dataframe\">\n",
       "  <thead>\n",
       "    <tr style=\"text-align: right;\">\n",
       "      <th></th>\n",
       "      <th>content</th>\n",
       "      <th>label</th>\n",
       "      <th>\\sm\\s</th>\n",
       "    </tr>\n",
       "  </thead>\n",
       "  <tbody>\n",
       "    <tr>\n",
       "      <th>1389</th>\n",
       "      <td>haris i m trying to control my fat tummy did'n...</td>\n",
       "      <td>1</td>\n",
       "      <td>[ m ]</td>\n",
       "    </tr>\n",
       "    <tr>\n",
       "      <th>5480</th>\n",
       "      <td>:O andrew u loser u have no life :P lol but i...</td>\n",
       "      <td>0</td>\n",
       "      <td>[ m ]</td>\n",
       "    </tr>\n",
       "    <tr>\n",
       "      <th>5948</th>\n",
       "      <td>haris i m trying to control my fat tummy did'n...</td>\n",
       "      <td>1</td>\n",
       "      <td>[ m ]</td>\n",
       "    </tr>\n",
       "    <tr>\n",
       "      <th>10909</th>\n",
       "      <td>and also jus my lappy is gone so m usin last f...</td>\n",
       "      <td>0</td>\n",
       "      <td>[ m ]</td>\n",
       "    </tr>\n",
       "    <tr>\n",
       "      <th>11538</th>\n",
       "      <td>haris i m trying to control my fat tummy did'n...</td>\n",
       "      <td>1</td>\n",
       "      <td>[ m ]</td>\n",
       "    </tr>\n",
       "    <tr>\n",
       "      <th>11652</th>\n",
       "      <td>Hahaha... I guess I m loser now. I dont go out...</td>\n",
       "      <td>0</td>\n",
       "      <td>[ m ]</td>\n",
       "    </tr>\n",
       "  </tbody>\n",
       "</table>\n",
       "</div>"
      ],
      "text/plain": [
       "                                                 content label  \\sm\\s\n",
       "1389   haris i m trying to control my fat tummy did'n...     1  [ m ]\n",
       "5480    :O andrew u loser u have no life :P lol but i...     0  [ m ]\n",
       "5948   haris i m trying to control my fat tummy did'n...     1  [ m ]\n",
       "10909  and also jus my lappy is gone so m usin last f...     0  [ m ]\n",
       "11538  haris i m trying to control my fat tummy did'n...     1  [ m ]\n",
       "11652  Hahaha... I guess I m loser now. I dont go out...     0  [ m ]"
      ]
     },
     "execution_count": 44,
     "metadata": {},
     "output_type": "execute_result"
    }
   ],
   "source": [
    "regex = '\\\\sm\\\\s'\n",
    "data_extended = find_all_matches(X_train, y_train, regex)\n",
    "print_matching_statistics(data_extended, regex, p)\n",
    "data_extended.loc[data_extended[regex].notnull()]"
   ]
  },
  {
   "cell_type": "code",
   "execution_count": 45,
   "metadata": {},
   "outputs": [
    {
     "name": "stdout",
     "output_type": "stream",
     "text": [
      "The mean of labels of matching tweets = 0.25\n",
      "The rate of matching tweets = 0.009\n",
      "p-value = 0.001\n"
     ]
    },
    {
     "data": {
      "text/html": [
       "<div>\n",
       "<style scoped>\n",
       "    .dataframe tbody tr th:only-of-type {\n",
       "        vertical-align: middle;\n",
       "    }\n",
       "\n",
       "    .dataframe tbody tr th {\n",
       "        vertical-align: top;\n",
       "    }\n",
       "\n",
       "    .dataframe thead th {\n",
       "        text-align: right;\n",
       "    }\n",
       "</style>\n",
       "<table border=\"1\" class=\"dataframe\">\n",
       "  <thead>\n",
       "    <tr style=\"text-align: right;\">\n",
       "      <th></th>\n",
       "      <th>content</th>\n",
       "      <th>label</th>\n",
       "      <th>\\br\\b</th>\n",
       "    </tr>\n",
       "  </thead>\n",
       "  <tbody>\n",
       "    <tr>\n",
       "      <th>10</th>\n",
       "      <td>What would you do if a leprecon jumped out of...</td>\n",
       "      <td>0</td>\n",
       "      <td>[r]</td>\n",
       "    </tr>\n",
       "    <tr>\n",
       "      <th>20</th>\n",
       "      <td>hmm.r my husband.</td>\n",
       "      <td>0</td>\n",
       "      <td>[r]</td>\n",
       "    </tr>\n",
       "    <tr>\n",
       "      <th>376</th>\n",
       "      <td>hahaha yeah. that beard guy haha. we never s...</td>\n",
       "      <td>0</td>\n",
       "      <td>[r]</td>\n",
       "    </tr>\n",
       "    <tr>\n",
       "      <th>437</th>\n",
       "      <td>r Has anybody ever told you that &amp;quot;you co...</td>\n",
       "      <td>0</td>\n",
       "      <td>[r]</td>\n",
       "    </tr>\n",
       "    <tr>\n",
       "      <th>555</th>\n",
       "      <td>U r soooooooooooooooooooo pretty Alexis&lt;3 y r...</td>\n",
       "      <td>0</td>\n",
       "      <td>[r, r]</td>\n",
       "    </tr>\n",
       "  </tbody>\n",
       "</table>\n",
       "</div>"
      ],
      "text/plain": [
       "                                               content label   \\br\\b\n",
       "10    What would you do if a leprecon jumped out of...     0     [r]\n",
       "20                                   hmm.r my husband.     0     [r]\n",
       "376    hahaha yeah. that beard guy haha. we never s...     0     [r]\n",
       "437   r Has anybody ever told you that &quot;you co...     0     [r]\n",
       "555   U r soooooooooooooooooooo pretty Alexis<3 y r...     0  [r, r]"
      ]
     },
     "execution_count": 45,
     "metadata": {},
     "output_type": "execute_result"
    }
   ],
   "source": [
    "regex = '\\\\br\\\\b'\n",
    "data_extended = find_all_matches(X_train, y_train, regex)\n",
    "print_matching_statistics(data_extended, regex, p)\n",
    "data_extended.loc[data_extended[regex].notnull()].head()"
   ]
  },
  {
   "cell_type": "code",
   "execution_count": 46,
   "metadata": {},
   "outputs": [
    {
     "name": "stdout",
     "output_type": "stream",
     "text": [
      "The mean of labels of matching tweets = 0.52\n",
      "The rate of matching tweets = 0.037\n",
      "p-value = 0.000\n"
     ]
    },
    {
     "data": {
      "text/html": [
       "<div>\n",
       "<style scoped>\n",
       "    .dataframe tbody tr th:only-of-type {\n",
       "        vertical-align: middle;\n",
       "    }\n",
       "\n",
       "    .dataframe tbody tr th {\n",
       "        vertical-align: top;\n",
       "    }\n",
       "\n",
       "    .dataframe thead th {\n",
       "        text-align: right;\n",
       "    }\n",
       "</style>\n",
       "<table border=\"1\" class=\"dataframe\">\n",
       "  <thead>\n",
       "    <tr style=\"text-align: right;\">\n",
       "      <th></th>\n",
       "      <th>content</th>\n",
       "      <th>label</th>\n",
       "      <th>\\bu\\b</th>\n",
       "    </tr>\n",
       "  </thead>\n",
       "  <tbody>\n",
       "    <tr>\n",
       "      <th>0</th>\n",
       "      <td>i hate u like miniature dogs hate people dress...</td>\n",
       "      <td>1</td>\n",
       "      <td>[u]</td>\n",
       "    </tr>\n",
       "    <tr>\n",
       "      <th>24</th>\n",
       "      <td>you do have a problem. What did u get bitch?</td>\n",
       "      <td>0</td>\n",
       "      <td>[u]</td>\n",
       "    </tr>\n",
       "    <tr>\n",
       "      <th>31</th>\n",
       "      <td>i fuck wit u.  u got skillz homie.</td>\n",
       "      <td>1</td>\n",
       "      <td>[u, u]</td>\n",
       "    </tr>\n",
       "    <tr>\n",
       "      <th>46</th>\n",
       "      <td>hmmm...I had a feeling bout u! but Damn No Lab...</td>\n",
       "      <td>1</td>\n",
       "      <td>[u]</td>\n",
       "    </tr>\n",
       "    <tr>\n",
       "      <th>48</th>\n",
       "      <td>My pussy remembers what u do! Lol :)</td>\n",
       "      <td>1</td>\n",
       "      <td>[u]</td>\n",
       "    </tr>\n",
       "  </tbody>\n",
       "</table>\n",
       "</div>"
      ],
      "text/plain": [
       "                                              content label   \\bu\\b\n",
       "0   i hate u like miniature dogs hate people dress...     1     [u]\n",
       "24       you do have a problem. What did u get bitch?     0     [u]\n",
       "31                 i fuck wit u.  u got skillz homie.     1  [u, u]\n",
       "46  hmmm...I had a feeling bout u! but Damn No Lab...     1     [u]\n",
       "48               My pussy remembers what u do! Lol :)     1     [u]"
      ]
     },
     "execution_count": 46,
     "metadata": {},
     "output_type": "execute_result"
    }
   ],
   "source": [
    "regex = '\\\\bu\\\\b'\n",
    "data_extended = find_all_matches(X_train, y_train, regex)\n",
    "print_matching_statistics(data_extended, regex, p)\n",
    "data_extended.loc[data_extended[regex].notnull()].head()"
   ]
  },
  {
   "cell_type": "code",
   "execution_count": 47,
   "metadata": {},
   "outputs": [
    {
     "name": "stdout",
     "output_type": "stream",
     "text": [
      "The mean of labels of matching tweets = 0.54\n",
      "The rate of matching tweets = 0.001\n",
      "p-value = 0.397\n"
     ]
    },
    {
     "data": {
      "text/html": [
       "<div>\n",
       "<style scoped>\n",
       "    .dataframe tbody tr th:only-of-type {\n",
       "        vertical-align: middle;\n",
       "    }\n",
       "\n",
       "    .dataframe tbody tr th {\n",
       "        vertical-align: top;\n",
       "    }\n",
       "\n",
       "    .dataframe thead th {\n",
       "        text-align: right;\n",
       "    }\n",
       "</style>\n",
       "<table border=\"1\" class=\"dataframe\">\n",
       "  <thead>\n",
       "    <tr style=\"text-align: right;\">\n",
       "      <th></th>\n",
       "      <th>content</th>\n",
       "      <th>label</th>\n",
       "      <th>[^\\w:;/]c\\b</th>\n",
       "    </tr>\n",
       "  </thead>\n",
       "  <tbody>\n",
       "    <tr>\n",
       "      <th>1855</th>\n",
       "      <td>jealous! I will still hug u  lick ur face off ...</td>\n",
       "      <td>1</td>\n",
       "      <td>[ c]</td>\n",
       "    </tr>\n",
       "    <tr>\n",
       "      <th>3001</th>\n",
       "      <td>\"background too damn busy\" I'd much rather c y...</td>\n",
       "      <td>0</td>\n",
       "      <td>[ c]</td>\n",
       "    </tr>\n",
       "    <tr>\n",
       "      <th>3063</th>\n",
       "      <td>a c t u a l l y;;i DO want himm&lt;33 [: so you ...</td>\n",
       "      <td>0</td>\n",
       "      <td>[ c]</td>\n",
       "    </tr>\n",
       "    <tr>\n",
       "      <th>3978</th>\n",
       "      <td>I hate that the x and c keys are right next to...</td>\n",
       "      <td>0</td>\n",
       "      <td>[ c]</td>\n",
       "    </tr>\n",
       "    <tr>\n",
       "      <th>5801</th>\n",
       "      <td>YOU? FAT? R U SERIOUS?!? Remind me to slap U w...</td>\n",
       "      <td>1</td>\n",
       "      <td>[ c]</td>\n",
       "    </tr>\n",
       "  </tbody>\n",
       "</table>\n",
       "</div>"
      ],
      "text/plain": [
       "                                                content label [^\\w:;/]c\\b\n",
       "1855  jealous! I will still hug u  lick ur face off ...     1        [ c]\n",
       "3001  \"background too damn busy\" I'd much rather c y...     0        [ c]\n",
       "3063   a c t u a l l y;;i DO want himm<33 [: so you ...     0        [ c]\n",
       "3978  I hate that the x and c keys are right next to...     0        [ c]\n",
       "5801  YOU? FAT? R U SERIOUS?!? Remind me to slap U w...     1        [ c]"
      ]
     },
     "execution_count": 47,
     "metadata": {},
     "output_type": "execute_result"
    }
   ],
   "source": [
    "regex = '[^\\\\w:;/]c\\\\b'\n",
    "data_extended = find_all_matches(X_train, y_train, regex)\n",
    "print_matching_statistics(data_extended, regex, p)\n",
    "data_extended.loc[data_extended[regex].notnull()].head()"
   ]
  },
  {
   "cell_type": "code",
   "execution_count": 48,
   "metadata": {},
   "outputs": [
    {
     "name": "stdout",
     "output_type": "stream",
     "text": [
      "The mean of labels of matching tweets = 0.00\n",
      "The rate of matching tweets = 0.001\n",
      "p-value = 0.014\n"
     ]
    },
    {
     "data": {
      "text/html": [
       "<div>\n",
       "<style scoped>\n",
       "    .dataframe tbody tr th:only-of-type {\n",
       "        vertical-align: middle;\n",
       "    }\n",
       "\n",
       "    .dataframe tbody tr th {\n",
       "        vertical-align: top;\n",
       "    }\n",
       "\n",
       "    .dataframe thead th {\n",
       "        text-align: right;\n",
       "    }\n",
       "</style>\n",
       "<table border=\"1\" class=\"dataframe\">\n",
       "  <thead>\n",
       "    <tr style=\"text-align: right;\">\n",
       "      <th></th>\n",
       "      <th>content</th>\n",
       "      <th>label</th>\n",
       "      <th>\\bb/c\\b</th>\n",
       "    </tr>\n",
       "  </thead>\n",
       "  <tbody>\n",
       "    <tr>\n",
       "      <th>2691</th>\n",
       "      <td>well I need The.Perfect.Dog. b/c the kids want...</td>\n",
       "      <td>0</td>\n",
       "      <td>[b/c]</td>\n",
       "    </tr>\n",
       "    <tr>\n",
       "      <th>2799</th>\n",
       "      <td>we lose perspective living around so many fit ...</td>\n",
       "      <td>0</td>\n",
       "      <td>[b/c]</td>\n",
       "    </tr>\n",
       "    <tr>\n",
       "      <th>4845</th>\n",
       "      <td>My poor mom works w/ people like that  &amp; she's...</td>\n",
       "      <td>0</td>\n",
       "      <td>[b/c]</td>\n",
       "    </tr>\n",
       "    <tr>\n",
       "      <th>5787</th>\n",
       "      <td>lol oo no!..guurrrl u must be crazy!!..b/c i ...</td>\n",
       "      <td>0</td>\n",
       "      <td>[b/c]</td>\n",
       "    </tr>\n",
       "    <tr>\n",
       "      <th>7489</th>\n",
       "      <td>Hope b/c Im a cynic &amp; I dont xpect much from s...</td>\n",
       "      <td>0</td>\n",
       "      <td>[b/c, b/c]</td>\n",
       "    </tr>\n",
       "  </tbody>\n",
       "</table>\n",
       "</div>"
      ],
      "text/plain": [
       "                                                content label     \\bb/c\\b\n",
       "2691  well I need The.Perfect.Dog. b/c the kids want...     0       [b/c]\n",
       "2799  we lose perspective living around so many fit ...     0       [b/c]\n",
       "4845  My poor mom works w/ people like that  & she's...     0       [b/c]\n",
       "5787   lol oo no!..guurrrl u must be crazy!!..b/c i ...     0       [b/c]\n",
       "7489  Hope b/c Im a cynic & I dont xpect much from s...     0  [b/c, b/c]"
      ]
     },
     "execution_count": 48,
     "metadata": {},
     "output_type": "execute_result"
    }
   ],
   "source": [
    "regex = '\\\\bb/c\\\\b'\n",
    "data_extended = find_all_matches(X_train, y_train, regex)\n",
    "print_matching_statistics(data_extended, regex, p)\n",
    "data_extended.loc[data_extended[regex].notnull()].head()"
   ]
  },
  {
   "cell_type": "code",
   "execution_count": 49,
   "metadata": {},
   "outputs": [
    {
     "name": "stdout",
     "output_type": "stream",
     "text": [
      "The mean of labels of matching tweets = 0.17\n",
      "The rate of matching tweets = 0.000\n",
      "p-value = 0.412\n"
     ]
    },
    {
     "data": {
      "text/html": [
       "<div>\n",
       "<style scoped>\n",
       "    .dataframe tbody tr th:only-of-type {\n",
       "        vertical-align: middle;\n",
       "    }\n",
       "\n",
       "    .dataframe tbody tr th {\n",
       "        vertical-align: top;\n",
       "    }\n",
       "\n",
       "    .dataframe thead th {\n",
       "        text-align: right;\n",
       "    }\n",
       "</style>\n",
       "<table border=\"1\" class=\"dataframe\">\n",
       "  <thead>\n",
       "    <tr style=\"text-align: right;\">\n",
       "      <th></th>\n",
       "      <th>content</th>\n",
       "      <th>label</th>\n",
       "      <th>([^\\w](?:[a-zA-Z] ){4,}(?:[a-zA-Z]\\b)?)</th>\n",
       "    </tr>\n",
       "  </thead>\n",
       "  <tbody>\n",
       "    <tr>\n",
       "      <th>3063</th>\n",
       "      <td>a c t u a l l y;;i DO want himm&lt;33 [: so you ...</td>\n",
       "      <td>0</td>\n",
       "      <td>[ a c t u a l l y]</td>\n",
       "    </tr>\n",
       "    <tr>\n",
       "      <th>6231</th>\n",
       "      <td>L O V E broccoli. cheesey broccoli hahaha</td>\n",
       "      <td>0</td>\n",
       "      <td>[ L O V E ]</td>\n",
       "    </tr>\n",
       "    <tr>\n",
       "      <th>9213</th>\n",
       "      <td>O H I O :]</td>\n",
       "      <td>0</td>\n",
       "      <td>[ O H I O ]</td>\n",
       "    </tr>\n",
       "    <tr>\n",
       "      <th>9908</th>\n",
       "      <td>N E V E R.</td>\n",
       "      <td>0</td>\n",
       "      <td>[ N E V E R]</td>\n",
       "    </tr>\n",
       "    <tr>\n",
       "      <th>10622</th>\n",
       "      <td>Do you stroke your pussyr r r r r r r r r r r...</td>\n",
       "      <td>1</td>\n",
       "      <td>[ r r r r r r r r r r r r r r r r r r r r r r ...</td>\n",
       "    </tr>\n",
       "    <tr>\n",
       "      <th>11897</th>\n",
       "      <td>A L W A Y S : ]</td>\n",
       "      <td>0</td>\n",
       "      <td>[ A L W A Y S ]</td>\n",
       "    </tr>\n",
       "  </tbody>\n",
       "</table>\n",
       "</div>"
      ],
      "text/plain": [
       "                                                 content label  \\\n",
       "3063    a c t u a l l y;;i DO want himm<33 [: so you ...     0   \n",
       "6231           L O V E broccoli. cheesey broccoli hahaha     0   \n",
       "9213                                          O H I O :]     0   \n",
       "9908                                          N E V E R.     0   \n",
       "10622   Do you stroke your pussyr r r r r r r r r r r...     1   \n",
       "11897                                    A L W A Y S : ]     0   \n",
       "\n",
       "                 ([^\\w](?:[a-zA-Z] ){4,}(?:[a-zA-Z]\\b)?)  \n",
       "3063                                  [ a c t u a l l y]  \n",
       "6231                                         [ L O V E ]  \n",
       "9213                                         [ O H I O ]  \n",
       "9908                                        [ N E V E R]  \n",
       "10622  [ r r r r r r r r r r r r r r r r r r r r r r ...  \n",
       "11897                                    [ A L W A Y S ]  "
      ]
     },
     "execution_count": 49,
     "metadata": {},
     "output_type": "execute_result"
    }
   ],
   "source": [
    "regex = '([^\\\\w](?:[a-zA-Z] ){4,}(?:[a-zA-Z]\\\\b)?)'\n",
    "data_extended = find_all_matches(X_train, y_train, regex)\n",
    "print_matching_statistics(data_extended, regex, p)\n",
    "data_extended.loc[data_extended[regex].notnull()]"
   ]
  },
  {
   "cell_type": "markdown",
   "metadata": {},
   "source": [
    "Uppercase are more related to aggressive tweets"
   ]
  },
  {
   "cell_type": "code",
   "execution_count": 50,
   "metadata": {},
   "outputs": [
    {
     "name": "stdout",
     "output_type": "stream",
     "text": [
      "The mean of labels of matching tweets = 0.51\n",
      "The rate of matching tweets = 0.167\n",
      "p-value = 0.000\n"
     ]
    },
    {
     "data": {
      "text/html": [
       "<div>\n",
       "<style scoped>\n",
       "    .dataframe tbody tr th:only-of-type {\n",
       "        vertical-align: middle;\n",
       "    }\n",
       "\n",
       "    .dataframe tbody tr th {\n",
       "        vertical-align: top;\n",
       "    }\n",
       "\n",
       "    .dataframe thead th {\n",
       "        text-align: right;\n",
       "    }\n",
       "</style>\n",
       "<table border=\"1\" class=\"dataframe\">\n",
       "  <thead>\n",
       "    <tr style=\"text-align: right;\">\n",
       "      <th></th>\n",
       "      <th>content</th>\n",
       "      <th>label</th>\n",
       "      <th>\\b[A-Z]{2,}\\b</th>\n",
       "    </tr>\n",
       "  </thead>\n",
       "  <tbody>\n",
       "    <tr>\n",
       "      <th>6</th>\n",
       "      <td>I'm being gay by using SQL Server</td>\n",
       "      <td>0</td>\n",
       "      <td>[SQL]</td>\n",
       "    </tr>\n",
       "    <tr>\n",
       "      <th>13</th>\n",
       "      <td>I feel like such a nerd watching this! I LOVE ...</td>\n",
       "      <td>1</td>\n",
       "      <td>[LOVE, IT]</td>\n",
       "    </tr>\n",
       "    <tr>\n",
       "      <th>17</th>\n",
       "      <td>that's even better! I'm insured and I hate all...</td>\n",
       "      <td>0</td>\n",
       "      <td>[XD]</td>\n",
       "    </tr>\n",
       "    <tr>\n",
       "      <th>25</th>\n",
       "      <td>so do our cops! I got to ride one over break! ...</td>\n",
       "      <td>0</td>\n",
       "      <td>[SO]</td>\n",
       "    </tr>\n",
       "    <tr>\n",
       "      <th>29</th>\n",
       "      <td>I've noticed he can't spell much beyond NOM an...</td>\n",
       "      <td>1</td>\n",
       "      <td>[NOM, BARK]</td>\n",
       "    </tr>\n",
       "  </tbody>\n",
       "</table>\n",
       "</div>"
      ],
      "text/plain": [
       "                                              content label \\b[A-Z]{2,}\\b\n",
       "6                   I'm being gay by using SQL Server     0         [SQL]\n",
       "13  I feel like such a nerd watching this! I LOVE ...     1    [LOVE, IT]\n",
       "17  that's even better! I'm insured and I hate all...     0          [XD]\n",
       "25  so do our cops! I got to ride one over break! ...     0          [SO]\n",
       "29  I've noticed he can't spell much beyond NOM an...     1   [NOM, BARK]"
      ]
     },
     "execution_count": 50,
     "metadata": {},
     "output_type": "execute_result"
    }
   ],
   "source": [
    "regex = '\\\\b[A-Z]{2,}\\\\b'\n",
    "data_extended = find_all_matches(X_train, y_train, regex)\n",
    "print_matching_statistics(data_extended, regex, p)\n",
    "data_extended.loc[data_extended[regex].notnull()].head()"
   ]
  },
  {
   "cell_type": "code",
   "execution_count": 51,
   "metadata": {},
   "outputs": [
    {
     "data": {
      "text/html": [
       "<div>\n",
       "<style scoped>\n",
       "    .dataframe tbody tr th:only-of-type {\n",
       "        vertical-align: middle;\n",
       "    }\n",
       "\n",
       "    .dataframe tbody tr th {\n",
       "        vertical-align: top;\n",
       "    }\n",
       "\n",
       "    .dataframe thead th {\n",
       "        text-align: right;\n",
       "    }\n",
       "</style>\n",
       "<table border=\"1\" class=\"dataframe\">\n",
       "  <thead>\n",
       "    <tr style=\"text-align: right;\">\n",
       "      <th></th>\n",
       "      <th>content</th>\n",
       "      <th>label</th>\n",
       "      <th>\\b[A-Z]{2,}\\b</th>\n",
       "      <th>rate</th>\n",
       "    </tr>\n",
       "  </thead>\n",
       "  <tbody>\n",
       "    <tr>\n",
       "      <th>6</th>\n",
       "      <td>I'm being gay by using SQL Server</td>\n",
       "      <td>0</td>\n",
       "      <td>[SQL]</td>\n",
       "      <td>0.142857</td>\n",
       "    </tr>\n",
       "    <tr>\n",
       "      <th>13</th>\n",
       "      <td>I feel like such a nerd watching this! I LOVE ...</td>\n",
       "      <td>1</td>\n",
       "      <td>[LOVE, IT]</td>\n",
       "      <td>0.181818</td>\n",
       "    </tr>\n",
       "    <tr>\n",
       "      <th>17</th>\n",
       "      <td>that's even better! I'm insured and I hate all...</td>\n",
       "      <td>0</td>\n",
       "      <td>[XD]</td>\n",
       "      <td>0.083333</td>\n",
       "    </tr>\n",
       "    <tr>\n",
       "      <th>25</th>\n",
       "      <td>so do our cops! I got to ride one over break! ...</td>\n",
       "      <td>0</td>\n",
       "      <td>[SO]</td>\n",
       "      <td>0.055556</td>\n",
       "    </tr>\n",
       "    <tr>\n",
       "      <th>29</th>\n",
       "      <td>I've noticed he can't spell much beyond NOM an...</td>\n",
       "      <td>1</td>\n",
       "      <td>[NOM, BARK]</td>\n",
       "      <td>0.090909</td>\n",
       "    </tr>\n",
       "  </tbody>\n",
       "</table>\n",
       "</div>"
      ],
      "text/plain": [
       "                                              content label \\b[A-Z]{2,}\\b  \\\n",
       "6                   I'm being gay by using SQL Server     0         [SQL]   \n",
       "13  I feel like such a nerd watching this! I LOVE ...     1    [LOVE, IT]   \n",
       "17  that's even better! I'm insured and I hate all...     0          [XD]   \n",
       "25  so do our cops! I got to ride one over break! ...     0          [SO]   \n",
       "29  I've noticed he can't spell much beyond NOM an...     1   [NOM, BARK]   \n",
       "\n",
       "        rate  \n",
       "6   0.142857  \n",
       "13  0.181818  \n",
       "17  0.083333  \n",
       "25  0.055556  \n",
       "29  0.090909  "
      ]
     },
     "execution_count": 51,
     "metadata": {},
     "output_type": "execute_result"
    }
   ],
   "source": [
    "# rate of uppercase\n",
    "regex = '\\\\b[A-Z]{2,}\\\\b'\n",
    "matching_words_rate = compute_matching_words_rate(regex, X_train)\n",
    "data_extended['rate'] = matching_words_rate\n",
    "\n",
    "matching_data_extended = data_extended.loc[data_extended.iloc[:, 2].notnull()]\n",
    "matching_data_extended.head()"
   ]
  },
  {
   "cell_type": "code",
   "execution_count": 52,
   "metadata": {},
   "outputs": [
    {
     "name": "stdout",
     "output_type": "stream",
     "text": [
      "0.563\n",
      "0.456\n"
     ]
    }
   ],
   "source": [
    "print('%.3f' % matching_data_extended[matching_data_extended.rate > 0.1].label.mean())\n",
    "print('%.3f' % matching_data_extended[matching_data_extended.rate < 0.1].label.mean())"
   ]
  },
  {
   "cell_type": "code",
   "execution_count": 84,
   "metadata": {},
   "outputs": [
    {
     "name": "stdout",
     "output_type": "stream",
     "text": [
      "The mean of labels of matching tweets = 0.48\n",
      "The rate of matching tweets = 0.018\n",
      "p-value = 0.019\n"
     ]
    },
    {
     "data": {
      "text/html": [
       "<div>\n",
       "<style scoped>\n",
       "    .dataframe tbody tr th:only-of-type {\n",
       "        vertical-align: middle;\n",
       "    }\n",
       "\n",
       "    .dataframe tbody tr th {\n",
       "        vertical-align: top;\n",
       "    }\n",
       "\n",
       "    .dataframe thead th {\n",
       "        text-align: right;\n",
       "    }\n",
       "</style>\n",
       "<table border=\"1\" class=\"dataframe\">\n",
       "  <thead>\n",
       "    <tr style=\"text-align: right;\">\n",
       "      <th></th>\n",
       "      <th>content</th>\n",
       "      <th>label</th>\n",
       "      <th>^[^a-z]{2,}$</th>\n",
       "    </tr>\n",
       "  </thead>\n",
       "  <tbody>\n",
       "    <tr>\n",
       "      <th>67</th>\n",
       "      <td>NOT AT ALL</td>\n",
       "      <td>0</td>\n",
       "      <td>[  NOT AT ALL]</td>\n",
       "    </tr>\n",
       "    <tr>\n",
       "      <th>346</th>\n",
       "      <td>BITCH GET ONLINE  I FOUND CUTE SHOES</td>\n",
       "      <td>0</td>\n",
       "      <td>[BITCH GET ONLINE  I FOUND CUTE SHOES]</td>\n",
       "    </tr>\n",
       "    <tr>\n",
       "      <th>411</th>\n",
       "      <td>THAT WAS THE MOST  MOST BEAUTIFUL CHRISTMAS CA...</td>\n",
       "      <td>1</td>\n",
       "      <td>[THAT WAS THE MOST  MOST BEAUTIFUL CHRISTMAS C...</td>\n",
       "    </tr>\n",
       "    <tr>\n",
       "      <th>425</th>\n",
       "      <td>VAMPIRE WEEKEND!</td>\n",
       "      <td>0</td>\n",
       "      <td>[ VAMPIRE WEEKEND!]</td>\n",
       "    </tr>\n",
       "    <tr>\n",
       "      <th>457</th>\n",
       "      <td>YOU STUPID WHORE I HOPE YOU ARE IN YOUR HOUSE ...</td>\n",
       "      <td>1</td>\n",
       "      <td>[YOU STUPID WHORE I HOPE YOU ARE IN YOUR HOUSE...</td>\n",
       "    </tr>\n",
       "  </tbody>\n",
       "</table>\n",
       "</div>"
      ],
      "text/plain": [
       "                                               content label  \\\n",
       "67                                          NOT AT ALL     0   \n",
       "346               BITCH GET ONLINE  I FOUND CUTE SHOES     0   \n",
       "411  THAT WAS THE MOST  MOST BEAUTIFUL CHRISTMAS CA...     1   \n",
       "425                                   VAMPIRE WEEKEND!     0   \n",
       "457  YOU STUPID WHORE I HOPE YOU ARE IN YOUR HOUSE ...     1   \n",
       "\n",
       "                                          ^[^a-z]{2,}$  \n",
       "67                                      [  NOT AT ALL]  \n",
       "346             [BITCH GET ONLINE  I FOUND CUTE SHOES]  \n",
       "411  [THAT WAS THE MOST  MOST BEAUTIFUL CHRISTMAS C...  \n",
       "425                                [ VAMPIRE WEEKEND!]  \n",
       "457  [YOU STUPID WHORE I HOPE YOU ARE IN YOUR HOUSE...  "
      ]
     },
     "execution_count": 84,
     "metadata": {},
     "output_type": "execute_result"
    }
   ],
   "source": [
    "regex = '^[^a-z]{2,}$'\n",
    "data_extended = find_all_matches(X_train, y_train, regex)\n",
    "print_matching_statistics(data_extended, regex, p)\n",
    "data_extended.loc[data_extended[regex].notnull()].head()"
   ]
  },
  {
   "cell_type": "markdown",
   "metadata": {},
   "source": [
    "Words that start with a capital are more related to nonaggressive tweets"
   ]
  },
  {
   "cell_type": "code",
   "execution_count": 54,
   "metadata": {},
   "outputs": [
    {
     "name": "stdout",
     "output_type": "stream",
     "text": [
      "The mean of labels of matching tweets = 0.37\n",
      "The rate of matching tweets = 0.533\n",
      "p-value = 0.000\n"
     ]
    },
    {
     "data": {
      "text/html": [
       "<div>\n",
       "<style scoped>\n",
       "    .dataframe tbody tr th:only-of-type {\n",
       "        vertical-align: middle;\n",
       "    }\n",
       "\n",
       "    .dataframe tbody tr th {\n",
       "        vertical-align: top;\n",
       "    }\n",
       "\n",
       "    .dataframe thead th {\n",
       "        text-align: right;\n",
       "    }\n",
       "</style>\n",
       "<table border=\"1\" class=\"dataframe\">\n",
       "  <thead>\n",
       "    <tr style=\"text-align: right;\">\n",
       "      <th></th>\n",
       "      <th>content</th>\n",
       "      <th>label</th>\n",
       "      <th>\\b[A-Z][a-z]+\\b</th>\n",
       "    </tr>\n",
       "  </thead>\n",
       "  <tbody>\n",
       "    <tr>\n",
       "      <th>1</th>\n",
       "      <td>you asian!!! I hate asians!!! Bahahahahhaha!!!...</td>\n",
       "      <td>1</td>\n",
       "      <td>[Bahahahahhaha, Jk, See, Hahahahaha]</td>\n",
       "    </tr>\n",
       "    <tr>\n",
       "      <th>2</th>\n",
       "      <td>austins new girllfriend is not uglly  &amp;amp;&amp;a...</td>\n",
       "      <td>1</td>\n",
       "      <td>[Ha]</td>\n",
       "    </tr>\n",
       "    <tr>\n",
       "      <th>3</th>\n",
       "      <td>Not currently.</td>\n",
       "      <td>0</td>\n",
       "      <td>[Not]</td>\n",
       "    </tr>\n",
       "    <tr>\n",
       "      <th>5</th>\n",
       "      <td>you won't die in Queens we're civilized here i...</td>\n",
       "      <td>1</td>\n",
       "      <td>[Queens, Queens, Starbucks]</td>\n",
       "    </tr>\n",
       "    <tr>\n",
       "      <th>6</th>\n",
       "      <td>I'm being gay by using SQL Server</td>\n",
       "      <td>0</td>\n",
       "      <td>[Server]</td>\n",
       "    </tr>\n",
       "  </tbody>\n",
       "</table>\n",
       "</div>"
      ],
      "text/plain": [
       "                                             content label  \\\n",
       "1  you asian!!! I hate asians!!! Bahahahahhaha!!!...     1   \n",
       "2   austins new girllfriend is not uglly  &amp;&a...     1   \n",
       "3                                     Not currently.     0   \n",
       "5  you won't die in Queens we're civilized here i...     1   \n",
       "6                  I'm being gay by using SQL Server     0   \n",
       "\n",
       "                        \\b[A-Z][a-z]+\\b  \n",
       "1  [Bahahahahhaha, Jk, See, Hahahahaha]  \n",
       "2                                  [Ha]  \n",
       "3                                 [Not]  \n",
       "5           [Queens, Queens, Starbucks]  \n",
       "6                              [Server]  "
      ]
     },
     "execution_count": 54,
     "metadata": {},
     "output_type": "execute_result"
    }
   ],
   "source": [
    "regex = '\\\\b[A-Z][a-z]+\\\\b'\n",
    "data_extended = find_all_matches(X_train, y_train, regex)\n",
    "print_matching_statistics(data_extended, regex, p)\n",
    "data_extended.loc[data_extended[regex].notnull()].head()"
   ]
  },
  {
   "cell_type": "code",
   "execution_count": 55,
   "metadata": {},
   "outputs": [
    {
     "data": {
      "text/html": [
       "<div>\n",
       "<style scoped>\n",
       "    .dataframe tbody tr th:only-of-type {\n",
       "        vertical-align: middle;\n",
       "    }\n",
       "\n",
       "    .dataframe tbody tr th {\n",
       "        vertical-align: top;\n",
       "    }\n",
       "\n",
       "    .dataframe thead th {\n",
       "        text-align: right;\n",
       "    }\n",
       "</style>\n",
       "<table border=\"1\" class=\"dataframe\">\n",
       "  <thead>\n",
       "    <tr style=\"text-align: right;\">\n",
       "      <th></th>\n",
       "      <th>content</th>\n",
       "      <th>label</th>\n",
       "      <th>\\b[A-Z][a-z]+\\b</th>\n",
       "      <th>rate</th>\n",
       "    </tr>\n",
       "  </thead>\n",
       "  <tbody>\n",
       "    <tr>\n",
       "      <th>1</th>\n",
       "      <td>you asian!!! I hate asians!!! Bahahahahhaha!!!...</td>\n",
       "      <td>1</td>\n",
       "      <td>[Bahahahahhaha, Jk, See, Hahahahaha]</td>\n",
       "      <td>0.181818</td>\n",
       "    </tr>\n",
       "    <tr>\n",
       "      <th>2</th>\n",
       "      <td>austins new girllfriend is not uglly  &amp;amp;&amp;a...</td>\n",
       "      <td>1</td>\n",
       "      <td>[Ha]</td>\n",
       "      <td>0.029412</td>\n",
       "    </tr>\n",
       "    <tr>\n",
       "      <th>3</th>\n",
       "      <td>Not currently.</td>\n",
       "      <td>0</td>\n",
       "      <td>[Not]</td>\n",
       "      <td>0.500000</td>\n",
       "    </tr>\n",
       "    <tr>\n",
       "      <th>5</th>\n",
       "      <td>you won't die in Queens we're civilized here i...</td>\n",
       "      <td>1</td>\n",
       "      <td>[Queens, Queens, Starbucks]</td>\n",
       "      <td>0.136364</td>\n",
       "    </tr>\n",
       "    <tr>\n",
       "      <th>6</th>\n",
       "      <td>I'm being gay by using SQL Server</td>\n",
       "      <td>0</td>\n",
       "      <td>[Server]</td>\n",
       "      <td>0.142857</td>\n",
       "    </tr>\n",
       "  </tbody>\n",
       "</table>\n",
       "</div>"
      ],
      "text/plain": [
       "                                             content label  \\\n",
       "1  you asian!!! I hate asians!!! Bahahahahhaha!!!...     1   \n",
       "2   austins new girllfriend is not uglly  &amp;&a...     1   \n",
       "3                                     Not currently.     0   \n",
       "5  you won't die in Queens we're civilized here i...     1   \n",
       "6                  I'm being gay by using SQL Server     0   \n",
       "\n",
       "                        \\b[A-Z][a-z]+\\b      rate  \n",
       "1  [Bahahahahhaha, Jk, See, Hahahahaha]  0.181818  \n",
       "2                                  [Ha]  0.029412  \n",
       "3                                 [Not]  0.500000  \n",
       "5           [Queens, Queens, Starbucks]  0.136364  \n",
       "6                              [Server]  0.142857  "
      ]
     },
     "execution_count": 55,
     "metadata": {},
     "output_type": "execute_result"
    }
   ],
   "source": [
    "# rate of words with the first capital\n",
    "regex = '\\\\b[A-Z][a-z]+\\\\b'\n",
    "matching_words_rate = compute_matching_words_rate(regex, X_train)\n",
    "data_extended['rate'] = matching_words_rate\n",
    "\n",
    "matching_data_extended = data_extended.loc[data_extended.iloc[:, 2].notnull()]\n",
    "matching_data_extended.head()"
   ]
  },
  {
   "cell_type": "code",
   "execution_count": 56,
   "metadata": {},
   "outputs": [
    {
     "name": "stdout",
     "output_type": "stream",
     "text": [
      "0.360\n",
      "0.398\n"
     ]
    }
   ],
   "source": [
    "print('%.3f' % matching_data_extended[matching_data_extended.rate > 0.1].label.mean())\n",
    "print('%.3f' % matching_data_extended[matching_data_extended.rate < 0.1].label.mean())"
   ]
  },
  {
   "cell_type": "markdown",
   "metadata": {},
   "source": [
    "Lowercase say nothing"
   ]
  },
  {
   "cell_type": "code",
   "execution_count": 57,
   "metadata": {},
   "outputs": [
    {
     "name": "stdout",
     "output_type": "stream",
     "text": [
      "The mean of labels of matching tweets = 0.40\n",
      "The rate of matching tweets = 0.303\n",
      "p-value = 0.555\n"
     ]
    },
    {
     "data": {
      "text/html": [
       "<div>\n",
       "<style scoped>\n",
       "    .dataframe tbody tr th:only-of-type {\n",
       "        vertical-align: middle;\n",
       "    }\n",
       "\n",
       "    .dataframe tbody tr th {\n",
       "        vertical-align: top;\n",
       "    }\n",
       "\n",
       "    .dataframe thead th {\n",
       "        text-align: right;\n",
       "    }\n",
       "</style>\n",
       "<table border=\"1\" class=\"dataframe\">\n",
       "  <thead>\n",
       "    <tr style=\"text-align: right;\">\n",
       "      <th></th>\n",
       "      <th>content</th>\n",
       "      <th>label</th>\n",
       "      <th>^[^A-Z]+$</th>\n",
       "    </tr>\n",
       "  </thead>\n",
       "  <tbody>\n",
       "    <tr>\n",
       "      <th>0</th>\n",
       "      <td>i hate u like miniature dogs hate people dress...</td>\n",
       "      <td>1</td>\n",
       "      <td>[i hate u like miniature dogs hate people dres...</td>\n",
       "    </tr>\n",
       "    <tr>\n",
       "      <th>4</th>\n",
       "      <td>thx for the well wishes lisa! i hate taking me...</td>\n",
       "      <td>1</td>\n",
       "      <td>[thx for the well wishes lisa! i hate taking m...</td>\n",
       "    </tr>\n",
       "    <tr>\n",
       "      <th>7</th>\n",
       "      <td>re: why friendfeed sucks - no doubt a powerful...</td>\n",
       "      <td>1</td>\n",
       "      <td>[re: why friendfeed sucks - no doubt a powerfu...</td>\n",
       "    </tr>\n",
       "    <tr>\n",
       "      <th>12</th>\n",
       "      <td>i twissed you! (twitter-missed yo ass).</td>\n",
       "      <td>0</td>\n",
       "      <td>[i twissed you! (twitter-missed yo ass).]</td>\n",
       "    </tr>\n",
       "    <tr>\n",
       "      <th>14</th>\n",
       "      <td>shits gay!</td>\n",
       "      <td>1</td>\n",
       "      <td>[shits gay!]</td>\n",
       "    </tr>\n",
       "  </tbody>\n",
       "</table>\n",
       "</div>"
      ],
      "text/plain": [
       "                                              content label  \\\n",
       "0   i hate u like miniature dogs hate people dress...     1   \n",
       "4   thx for the well wishes lisa! i hate taking me...     1   \n",
       "7   re: why friendfeed sucks - no doubt a powerful...     1   \n",
       "12            i twissed you! (twitter-missed yo ass).     0   \n",
       "14                                         shits gay!     1   \n",
       "\n",
       "                                            ^[^A-Z]+$  \n",
       "0   [i hate u like miniature dogs hate people dres...  \n",
       "4   [thx for the well wishes lisa! i hate taking m...  \n",
       "7   [re: why friendfeed sucks - no doubt a powerfu...  \n",
       "12          [i twissed you! (twitter-missed yo ass).]  \n",
       "14                                       [shits gay!]  "
      ]
     },
     "execution_count": 57,
     "metadata": {},
     "output_type": "execute_result"
    }
   ],
   "source": [
    "regex = '^[^A-Z]+$'\n",
    "data_extended = find_all_matches(X_train, y_train, regex)\n",
    "print_matching_statistics(data_extended, regex, p)\n",
    "data_extended.loc[data_extended[regex].notnull()].head()"
   ]
  },
  {
   "cell_type": "markdown",
   "metadata": {},
   "source": [
    "Repeating letters is more related to nonaggressive tweets"
   ]
  },
  {
   "cell_type": "code",
   "execution_count": 58,
   "metadata": {},
   "outputs": [
    {
     "name": "stdout",
     "output_type": "stream",
     "text": [
      "The mean of labels of matching tweets = 0.35\n",
      "The rate of matching tweets = 0.059\n",
      "p-value = 0.005\n"
     ]
    },
    {
     "data": {
      "text/html": [
       "<div>\n",
       "<style scoped>\n",
       "    .dataframe tbody tr th:only-of-type {\n",
       "        vertical-align: middle;\n",
       "    }\n",
       "\n",
       "    .dataframe tbody tr th {\n",
       "        vertical-align: top;\n",
       "    }\n",
       "\n",
       "    .dataframe thead th {\n",
       "        text-align: right;\n",
       "    }\n",
       "</style>\n",
       "<table border=\"1\" class=\"dataframe\">\n",
       "  <thead>\n",
       "    <tr style=\"text-align: right;\">\n",
       "      <th></th>\n",
       "      <th>content</th>\n",
       "      <th>label</th>\n",
       "      <th>(([a-zA-Z])\\2{2,})</th>\n",
       "    </tr>\n",
       "  </thead>\n",
       "  <tbody>\n",
       "    <tr>\n",
       "      <th>2</th>\n",
       "      <td>austins new girllfriend is not uglly  &amp;amp;&amp;a...</td>\n",
       "      <td>1</td>\n",
       "      <td>[(sss, s), (llll, l), (lll, l)]</td>\n",
       "    </tr>\n",
       "    <tr>\n",
       "      <th>46</th>\n",
       "      <td>hmmm...I had a feeling bout u! but Damn No Lab...</td>\n",
       "      <td>1</td>\n",
       "      <td>[(mmm, m)]</td>\n",
       "    </tr>\n",
       "    <tr>\n",
       "      <th>55</th>\n",
       "      <td>Yes  one of my fave movies... of... alll.... f...</td>\n",
       "      <td>0</td>\n",
       "      <td>[(lll, l)]</td>\n",
       "    </tr>\n",
       "    <tr>\n",
       "      <th>72</th>\n",
       "      <td>WHATTTTT O________O omg.....nahhhh i hate roll...</td>\n",
       "      <td>1</td>\n",
       "      <td>[(TTTTT, T), (hhhh, h)]</td>\n",
       "    </tr>\n",
       "    <tr>\n",
       "      <th>87</th>\n",
       "      <td>mmmmmkayyyyy</td>\n",
       "      <td>0</td>\n",
       "      <td>[(mmmmm, m), (yyyyy, y)]</td>\n",
       "    </tr>\n",
       "  </tbody>\n",
       "</table>\n",
       "</div>"
      ],
      "text/plain": [
       "                                              content label  \\\n",
       "2    austins new girllfriend is not uglly  &amp;&a...     1   \n",
       "46  hmmm...I had a feeling bout u! but Damn No Lab...     1   \n",
       "55  Yes  one of my fave movies... of... alll.... f...     0   \n",
       "72  WHATTTTT O________O omg.....nahhhh i hate roll...     1   \n",
       "87                                       mmmmmkayyyyy     0   \n",
       "\n",
       "                 (([a-zA-Z])\\2{2,})  \n",
       "2   [(sss, s), (llll, l), (lll, l)]  \n",
       "46                       [(mmm, m)]  \n",
       "55                       [(lll, l)]  \n",
       "72          [(TTTTT, T), (hhhh, h)]  \n",
       "87         [(mmmmm, m), (yyyyy, y)]  "
      ]
     },
     "execution_count": 58,
     "metadata": {},
     "output_type": "execute_result"
    }
   ],
   "source": [
    "regex = '(([a-zA-Z])\\\\2{2,})'\n",
    "data_extended = find_all_matches(X_train, y_train, regex)\n",
    "print_matching_statistics(data_extended, regex, p)\n",
    "data_extended.loc[data_extended[regex].notnull()].head()"
   ]
  },
  {
   "cell_type": "code",
   "execution_count": 59,
   "metadata": {},
   "outputs": [
    {
     "data": {
      "text/html": [
       "<div>\n",
       "<style scoped>\n",
       "    .dataframe tbody tr th:only-of-type {\n",
       "        vertical-align: middle;\n",
       "    }\n",
       "\n",
       "    .dataframe tbody tr th {\n",
       "        vertical-align: top;\n",
       "    }\n",
       "\n",
       "    .dataframe thead th {\n",
       "        text-align: right;\n",
       "    }\n",
       "</style>\n",
       "<table border=\"1\" class=\"dataframe\">\n",
       "  <thead>\n",
       "    <tr style=\"text-align: right;\">\n",
       "      <th></th>\n",
       "      <th>content</th>\n",
       "      <th>label</th>\n",
       "      <th>(([a-zA-Z])\\2{2,})</th>\n",
       "      <th>rate</th>\n",
       "    </tr>\n",
       "  </thead>\n",
       "  <tbody>\n",
       "    <tr>\n",
       "      <th>2</th>\n",
       "      <td>austins new girllfriend is not uglly  &amp;amp;&amp;a...</td>\n",
       "      <td>1</td>\n",
       "      <td>[(sss, s), (llll, l), (lll, l)]</td>\n",
       "      <td>0.088235</td>\n",
       "    </tr>\n",
       "    <tr>\n",
       "      <th>46</th>\n",
       "      <td>hmmm...I had a feeling bout u! but Damn No Lab...</td>\n",
       "      <td>1</td>\n",
       "      <td>[(mmm, m)]</td>\n",
       "      <td>0.083333</td>\n",
       "    </tr>\n",
       "    <tr>\n",
       "      <th>55</th>\n",
       "      <td>Yes  one of my fave movies... of... alll.... f...</td>\n",
       "      <td>0</td>\n",
       "      <td>[(lll, l)]</td>\n",
       "      <td>0.100000</td>\n",
       "    </tr>\n",
       "    <tr>\n",
       "      <th>72</th>\n",
       "      <td>WHATTTTT O________O omg.....nahhhh i hate roll...</td>\n",
       "      <td>1</td>\n",
       "      <td>[(TTTTT, T), (hhhh, h)]</td>\n",
       "      <td>0.133333</td>\n",
       "    </tr>\n",
       "    <tr>\n",
       "      <th>87</th>\n",
       "      <td>mmmmmkayyyyy</td>\n",
       "      <td>0</td>\n",
       "      <td>[(mmmmm, m), (yyyyy, y)]</td>\n",
       "      <td>1.000000</td>\n",
       "    </tr>\n",
       "  </tbody>\n",
       "</table>\n",
       "</div>"
      ],
      "text/plain": [
       "                                              content label  \\\n",
       "2    austins new girllfriend is not uglly  &amp;&a...     1   \n",
       "46  hmmm...I had a feeling bout u! but Damn No Lab...     1   \n",
       "55  Yes  one of my fave movies... of... alll.... f...     0   \n",
       "72  WHATTTTT O________O omg.....nahhhh i hate roll...     1   \n",
       "87                                       mmmmmkayyyyy     0   \n",
       "\n",
       "                 (([a-zA-Z])\\2{2,})      rate  \n",
       "2   [(sss, s), (llll, l), (lll, l)]  0.088235  \n",
       "46                       [(mmm, m)]  0.083333  \n",
       "55                       [(lll, l)]  0.100000  \n",
       "72          [(TTTTT, T), (hhhh, h)]  0.133333  \n",
       "87         [(mmmmm, m), (yyyyy, y)]  1.000000  "
      ]
     },
     "execution_count": 59,
     "metadata": {},
     "output_type": "execute_result"
    }
   ],
   "source": [
    "# rate of words with repeating letters\n",
    "regex = '\\\\b\\\\w*(([a-zA-Z])\\\\2{2,})\\\\w*\\\\b'\n",
    "matching_words_rate = compute_matching_words_rate(regex, X_train)\n",
    "data_extended['rate'] = matching_words_rate\n",
    "\n",
    "matching_data_extended = data_extended.loc[data_extended.iloc[:, 2].notnull()]\n",
    "matching_data_extended.head()"
   ]
  },
  {
   "cell_type": "code",
   "execution_count": 60,
   "metadata": {},
   "outputs": [
    {
     "name": "stdout",
     "output_type": "stream",
     "text": [
      "0.262\n",
      "0.435\n"
     ]
    }
   ],
   "source": [
    "print('%.3f' % matching_data_extended[matching_data_extended.rate > 0.1].label.mean())\n",
    "print('%.3f' % matching_data_extended[matching_data_extended.rate < 0.1].label.mean())"
   ]
  },
  {
   "cell_type": "markdown",
   "metadata": {},
   "source": [
    "Laugh is more related to nonaggressive tweets"
   ]
  },
  {
   "cell_type": "code",
   "execution_count": 61,
   "metadata": {},
   "outputs": [
    {
     "name": "stdout",
     "output_type": "stream",
     "text": [
      "The mean of labels of matching tweets = 0.26\n",
      "The rate of matching tweets = 0.050\n",
      "p-value = 0.000\n"
     ]
    },
    {
     "data": {
      "text/html": [
       "<div>\n",
       "<style scoped>\n",
       "    .dataframe tbody tr th:only-of-type {\n",
       "        vertical-align: middle;\n",
       "    }\n",
       "\n",
       "    .dataframe tbody tr th {\n",
       "        vertical-align: top;\n",
       "    }\n",
       "\n",
       "    .dataframe thead th {\n",
       "        text-align: right;\n",
       "    }\n",
       "</style>\n",
       "<table border=\"1\" class=\"dataframe\">\n",
       "  <thead>\n",
       "    <tr style=\"text-align: right;\">\n",
       "      <th></th>\n",
       "      <th>content</th>\n",
       "      <th>label</th>\n",
       "      <th>(b?w?a?(ha|he)\\2{1,}h?)</th>\n",
       "    </tr>\n",
       "  </thead>\n",
       "  <tbody>\n",
       "    <tr>\n",
       "      <th>1</th>\n",
       "      <td>you asian!!! I hate asians!!! Bahahahahhaha!!!...</td>\n",
       "      <td>1</td>\n",
       "      <td>[(ahahahah, ha), (haha, ha), (ahahahaha, ha)]</td>\n",
       "    </tr>\n",
       "    <tr>\n",
       "      <th>39</th>\n",
       "      <td>Its better for me to get too little. I can g...</td>\n",
       "      <td>0</td>\n",
       "      <td>[(haha, ha)]</td>\n",
       "    </tr>\n",
       "    <tr>\n",
       "      <th>42</th>\n",
       "      <td>haha damn the ninja thing gave it away</td>\n",
       "      <td>0</td>\n",
       "      <td>[(haha, ha)]</td>\n",
       "    </tr>\n",
       "    <tr>\n",
       "      <th>44</th>\n",
       "      <td>Yo it's a wack ass night here at boston colleg...</td>\n",
       "      <td>0</td>\n",
       "      <td>[(haha, ha)]</td>\n",
       "    </tr>\n",
       "    <tr>\n",
       "      <th>69</th>\n",
       "      <td>Watch me fuck up typing on my iPhone... Hahaha</td>\n",
       "      <td>0</td>\n",
       "      <td>[(ahaha, ha)]</td>\n",
       "    </tr>\n",
       "  </tbody>\n",
       "</table>\n",
       "</div>"
      ],
      "text/plain": [
       "                                              content label  \\\n",
       "1   you asian!!! I hate asians!!! Bahahahahhaha!!!...     1   \n",
       "39    Its better for me to get too little. I can g...     0   \n",
       "42             haha damn the ninja thing gave it away     0   \n",
       "44  Yo it's a wack ass night here at boston colleg...     0   \n",
       "69     Watch me fuck up typing on my iPhone... Hahaha     0   \n",
       "\n",
       "                          (b?w?a?(ha|he)\\2{1,}h?)  \n",
       "1   [(ahahahah, ha), (haha, ha), (ahahahaha, ha)]  \n",
       "39                                   [(haha, ha)]  \n",
       "42                                   [(haha, ha)]  \n",
       "44                                   [(haha, ha)]  \n",
       "69                                  [(ahaha, ha)]  "
      ]
     },
     "execution_count": 61,
     "metadata": {},
     "output_type": "execute_result"
    }
   ],
   "source": [
    "regex = '(b?w?a?(ha|he)\\\\2{1,}h?)'\n",
    "data_extended = find_all_matches(X_train, y_train, regex)\n",
    "print_matching_statistics(data_extended, regex, p)\n",
    "data_extended.loc[data_extended[regex].notnull()].head()"
   ]
  },
  {
   "cell_type": "markdown",
   "metadata": {},
   "source": [
    "Stopwords"
   ]
  },
  {
   "cell_type": "code",
   "execution_count": 62,
   "metadata": {},
   "outputs": [
    {
     "name": "stdout",
     "output_type": "stream",
     "text": [
      "['i', 'me', 'my', 'myself', 'we', 'our', 'ours', 'ourselves', 'you', \"you're\", \"you've\", \"you'll\", \"you'd\", 'your', 'yours', 'yourself', 'yourselves', 'he', 'him', 'his', 'himself', 'she', \"she's\", 'her', 'hers', 'herself', 'it', \"it's\", 'its', 'itself', 'they', 'them', 'their', 'theirs', 'themselves', 'what', 'which', 'who', 'whom', 'this', 'that', \"that'll\", 'these', 'those', 'am', 'is', 'are', 'was', 'were', 'be', 'been', 'being', 'have', 'has', 'had', 'having', 'do', 'does', 'did', 'doing', 'a', 'an', 'the', 'and', 'but', 'if', 'or', 'because', 'as', 'until', 'while', 'of', 'at', 'by', 'for', 'with', 'about', 'against', 'between', 'into', 'through', 'during', 'before', 'after', 'above', 'below', 'to', 'from', 'up', 'down', 'in', 'out', 'on', 'off', 'over', 'under', 'again', 'further', 'then', 'once', 'here', 'there', 'when', 'where', 'why', 'how', 'all', 'any', 'both', 'each', 'few', 'more', 'most', 'other', 'some', 'such', 'no', 'nor', 'not', 'only', 'own', 'same', 'so', 'than', 'too', 'very', 's', 't', 'can', 'will', 'just', 'don', \"don't\", 'should', \"should've\", 'now', 'd', 'll', 'm', 'o', 're', 've', 'y', 'ain', 'aren', \"aren't\", 'couldn', \"couldn't\", 'didn', \"didn't\", 'doesn', \"doesn't\", 'hadn', \"hadn't\", 'hasn', \"hasn't\", 'haven', \"haven't\", 'isn', \"isn't\", 'ma', 'mightn', \"mightn't\", 'mustn', \"mustn't\", 'needn', \"needn't\", 'shan', \"shan't\", 'shouldn', \"shouldn't\", 'wasn', \"wasn't\", 'weren', \"weren't\", 'won', \"won't\", 'wouldn', \"wouldn't\"]\n"
     ]
    }
   ],
   "source": [
    "STOPWORDS = nltk.corpus.stopwords.words('english')\n",
    "print(STOPWORDS)"
   ]
  },
  {
   "cell_type": "code",
   "execution_count": 63,
   "metadata": {},
   "outputs": [
    {
     "data": {
      "text/plain": [
       "(False, True)"
      ]
     },
     "execution_count": 63,
     "metadata": {},
     "output_type": "execute_result"
    }
   ],
   "source": [
    "'n\\'t' in STOPWORDS, 'not' in STOPWORDS"
   ]
  },
  {
   "cell_type": "code",
   "execution_count": 64,
   "metadata": {},
   "outputs": [
    {
     "name": "stdout",
     "output_type": "stream",
     "text": [
      "a\n",
      "The mean of labels of matching tweets = 0.41\n",
      "The rate of matching tweets = 0.921\n",
      "p-value = 0.019\n",
      "about\n",
      "The mean of labels of matching tweets = 0.37\n",
      "The rate of matching tweets = 0.037\n",
      "p-value = 0.224\n",
      "above\n",
      "The mean of labels of matching tweets = 0.75\n",
      "The rate of matching tweets = 0.001\n",
      "p-value = 0.067\n",
      "after\n",
      "The mean of labels of matching tweets = 0.40\n",
      "The rate of matching tweets = 0.008\n",
      "p-value = 1.000\n",
      "again\n",
      "The mean of labels of matching tweets = 0.39\n",
      "The rate of matching tweets = 0.010\n",
      "p-value = 0.782\n",
      "against\n",
      "The mean of labels of matching tweets = 0.65\n",
      "The rate of matching tweets = 0.002\n",
      "p-value = 0.037\n",
      "ain\n",
      "The mean of labels of matching tweets = 0.44\n",
      "The rate of matching tweets = 0.033\n",
      "p-value = 0.082\n",
      "all\n",
      "The mean of labels of matching tweets = 0.42\n",
      "The rate of matching tweets = 0.126\n",
      "p-value = 0.195\n",
      "am\n",
      "The mean of labels of matching tweets = 0.43\n",
      "The rate of matching tweets = 0.224\n",
      "p-value = 0.001\n",
      "an\n",
      "The mean of labels of matching tweets = 0.42\n",
      "The rate of matching tweets = 0.397\n",
      "p-value = 0.001\n",
      "and\n",
      "The mean of labels of matching tweets = 0.44\n",
      "The rate of matching tweets = 0.177\n",
      "p-value = 0.000\n",
      "any\n",
      "The mean of labels of matching tweets = 0.35\n",
      "The rate of matching tweets = 0.043\n",
      "p-value = 0.015\n",
      "are\n",
      "The mean of labels of matching tweets = 0.44\n",
      "The rate of matching tweets = 0.086\n",
      "p-value = 0.009\n",
      "aren\n",
      "The mean of labels of matching tweets = 0.40\n",
      "The rate of matching tweets = 0.007\n",
      "p-value = 1.000\n",
      "aren't\n",
      "The mean of labels of matching tweets = 0.32\n",
      "The rate of matching tweets = 0.001\n",
      "p-value = 0.494\n",
      "as\n",
      "The mean of labels of matching tweets = 0.47\n",
      "The rate of matching tweets = 0.269\n",
      "p-value = 0.000\n",
      "at\n",
      "The mean of labels of matching tweets = 0.43\n",
      "The rate of matching tweets = 0.496\n",
      "p-value = 0.000\n",
      "be\n",
      "The mean of labels of matching tweets = 0.40\n",
      "The rate of matching tweets = 0.202\n",
      "p-value = 0.763\n",
      "because\n",
      "The mean of labels of matching tweets = 0.48\n",
      "The rate of matching tweets = 0.016\n",
      "p-value = 0.018\n",
      "been\n",
      "The mean of labels of matching tweets = 0.34\n",
      "The rate of matching tweets = 0.019\n",
      "p-value = 0.056\n",
      "before\n",
      "The mean of labels of matching tweets = 0.32\n",
      "The rate of matching tweets = 0.007\n",
      "p-value = 0.110\n",
      "being\n",
      "The mean of labels of matching tweets = 0.41\n",
      "The rate of matching tweets = 0.014\n",
      "p-value = 0.762\n",
      "below\n",
      "The mean of labels of matching tweets = 0.33\n",
      "The rate of matching tweets = 0.000\n",
      "p-value = 1.000\n",
      "between\n",
      "The mean of labels of matching tweets = 0.53\n",
      "The rate of matching tweets = 0.001\n",
      "p-value = 0.349\n",
      "both\n",
      "The mean of labels of matching tweets = 0.44\n",
      "The rate of matching tweets = 0.007\n",
      "p-value = 0.447\n",
      "but\n",
      "The mean of labels of matching tweets = 0.38\n",
      "The rate of matching tweets = 0.083\n",
      "p-value = 0.221\n",
      "by\n",
      "The mean of labels of matching tweets = 0.38\n",
      "The rate of matching tweets = 0.021\n",
      "p-value = 0.530\n",
      "can\n",
      "The mean of labels of matching tweets = 0.43\n",
      "The rate of matching tweets = 0.059\n",
      "p-value = 0.127\n",
      "couldn\n",
      "The mean of labels of matching tweets = 0.52\n",
      "The rate of matching tweets = 0.002\n",
      "p-value = 0.227\n",
      "couldn't\n",
      "The mean of labels of matching tweets = 0.58\n",
      "The rate of matching tweets = 0.001\n",
      "p-value = 0.158\n",
      "d\n",
      "The mean of labels of matching tweets = 0.40\n",
      "The rate of matching tweets = 0.738\n",
      "p-value = 0.542\n",
      "did\n",
      "The mean of labels of matching tweets = 0.42\n",
      "The rate of matching tweets = 0.034\n",
      "p-value = 0.434\n",
      "didn\n",
      "The mean of labels of matching tweets = 0.50\n",
      "The rate of matching tweets = 0.014\n",
      "p-value = 0.011\n",
      "didn't\n",
      "The mean of labels of matching tweets = 0.51\n",
      "The rate of matching tweets = 0.009\n",
      "p-value = 0.019\n",
      "do\n",
      "The mean of labels of matching tweets = 0.37\n",
      "The rate of matching tweets = 0.195\n",
      "p-value = 0.001\n",
      "does\n",
      "The mean of labels of matching tweets = 0.38\n",
      "The rate of matching tweets = 0.017\n",
      "p-value = 0.536\n",
      "doesn\n",
      "The mean of labels of matching tweets = 0.40\n",
      "The rate of matching tweets = 0.007\n",
      "p-value = 1.000\n",
      "doesn't\n",
      "The mean of labels of matching tweets = 0.44\n",
      "The rate of matching tweets = 0.005\n",
      "p-value = 0.515\n",
      "doing\n",
      "The mean of labels of matching tweets = 0.42\n",
      "The rate of matching tweets = 0.009\n",
      "p-value = 0.696\n",
      "don\n",
      "The mean of labels of matching tweets = 0.41\n",
      "The rate of matching tweets = 0.065\n",
      "p-value = 0.570\n",
      "don't\n",
      "The mean of labels of matching tweets = 0.48\n",
      "The rate of matching tweets = 0.035\n",
      "p-value = 0.001\n",
      "down\n",
      "The mean of labels of matching tweets = 0.51\n",
      "The rate of matching tweets = 0.013\n",
      "p-value = 0.004\n",
      "during\n",
      "The mean of labels of matching tweets = 0.11\n",
      "The rate of matching tweets = 0.001\n",
      "p-value = 0.009\n",
      "each\n",
      "The mean of labels of matching tweets = 0.38\n",
      "The rate of matching tweets = 0.006\n",
      "p-value = 0.732\n",
      "few\n",
      "The mean of labels of matching tweets = 0.56\n",
      "The rate of matching tweets = 0.004\n",
      "p-value = 0.023\n",
      "for\n",
      "The mean of labels of matching tweets = 0.40\n",
      "The rate of matching tweets = 0.112\n",
      "p-value = 0.850\n",
      "from\n",
      "The mean of labels of matching tweets = 0.38\n",
      "The rate of matching tweets = 0.020\n",
      "p-value = 0.613\n",
      "further\n",
      "The mean of labels of matching tweets = 0.40\n",
      "The rate of matching tweets = 0.000\n",
      "p-value = 1.000\n",
      "had\n",
      "The mean of labels of matching tweets = 0.36\n",
      "The rate of matching tweets = 0.024\n",
      "p-value = 0.126\n",
      "hadn\n",
      "The mean of labels of matching tweets = 0.57\n",
      "The rate of matching tweets = 0.001\n",
      "p-value = 0.274\n",
      "hadn't\n",
      "The mean of labels of matching tweets = 0.62\n",
      "The rate of matching tweets = 0.001\n",
      "p-value = 0.156\n",
      "has\n",
      "The mean of labels of matching tweets = 0.41\n",
      "The rate of matching tweets = 0.015\n",
      "p-value = 0.883\n",
      "hasn\n",
      "The mean of labels of matching tweets = 0.71\n",
      "The rate of matching tweets = 0.001\n",
      "p-value = 0.026\n",
      "hasn't\n",
      "The mean of labels of matching tweets = 0.71\n",
      "The rate of matching tweets = 0.001\n",
      "p-value = 0.124\n",
      "have\n",
      "The mean of labels of matching tweets = 0.33\n",
      "The rate of matching tweets = 0.085\n",
      "p-value = 0.000\n",
      "haven\n",
      "The mean of labels of matching tweets = 0.25\n",
      "The rate of matching tweets = 0.005\n",
      "p-value = 0.024\n",
      "haven't\n",
      "The mean of labels of matching tweets = 0.38\n",
      "The rate of matching tweets = 0.003\n",
      "p-value = 0.872\n",
      "having\n",
      "The mean of labels of matching tweets = 0.37\n",
      "The rate of matching tweets = 0.006\n",
      "p-value = 0.651\n",
      "he\n",
      "The mean of labels of matching tweets = 0.42\n",
      "The rate of matching tweets = 0.457\n",
      "p-value = 0.001\n",
      "her\n",
      "The mean of labels of matching tweets = 0.42\n",
      "The rate of matching tweets = 0.111\n",
      "p-value = 0.137\n",
      "here\n",
      "The mean of labels of matching tweets = 0.41\n",
      "The rate of matching tweets = 0.056\n",
      "p-value = 0.566\n",
      "hers\n",
      "The mean of labels of matching tweets = 0.33\n",
      "The rate of matching tweets = 0.005\n",
      "p-value = 0.306\n",
      "herself\n",
      "The mean of labels of matching tweets = 0.50\n",
      "The rate of matching tweets = 0.001\n",
      "p-value = 0.721\n",
      "him\n",
      "The mean of labels of matching tweets = 0.53\n",
      "The rate of matching tweets = 0.019\n",
      "p-value = 0.000\n",
      "himself\n",
      "The mean of labels of matching tweets = 0.40\n",
      "The rate of matching tweets = 0.001\n",
      "p-value = 1.000\n",
      "his\n",
      "The mean of labels of matching tweets = 0.49\n",
      "The rate of matching tweets = 0.063\n",
      "p-value = 0.000\n",
      "how\n",
      "The mean of labels of matching tweets = 0.38\n",
      "The rate of matching tweets = 0.052\n",
      "p-value = 0.363\n",
      "i\n",
      "The mean of labels of matching tweets = 0.41\n",
      "The rate of matching tweets = 0.858\n",
      "p-value = 0.146\n",
      "if\n",
      "The mean of labels of matching tweets = 0.39\n",
      "The rate of matching tweets = 0.081\n",
      "p-value = 0.409\n",
      "in\n",
      "The mean of labels of matching tweets = 0.42\n",
      "The rate of matching tweets = 0.487\n",
      "p-value = 0.000\n",
      "into\n",
      "The mean of labels of matching tweets = 0.47\n",
      "The rate of matching tweets = 0.006\n",
      "p-value = 0.245\n",
      "is\n",
      "The mean of labels of matching tweets = 0.43\n",
      "The rate of matching tweets = 0.256\n",
      "p-value = 0.001\n",
      "isn\n",
      "The mean of labels of matching tweets = 0.44\n",
      "The rate of matching tweets = 0.005\n",
      "p-value = 0.536\n",
      "isn't\n",
      "The mean of labels of matching tweets = 0.51\n",
      "The rate of matching tweets = 0.003\n",
      "p-value = 0.153\n",
      "it\n",
      "The mean of labels of matching tweets = 0.44\n",
      "The rate of matching tweets = 0.374\n",
      "p-value = 0.000\n",
      "it's\n",
      "The mean of labels of matching tweets = 0.41\n",
      "The rate of matching tweets = 0.031\n",
      "p-value = 0.647\n",
      "its\n",
      "The mean of labels of matching tweets = 0.34\n",
      "The rate of matching tweets = 0.030\n",
      "p-value = 0.016\n",
      "itself\n",
      "The mean of labels of matching tweets = 0.50\n",
      "The rate of matching tweets = 0.000\n",
      "p-value = 0.689\n",
      "just\n",
      "The mean of labels of matching tweets = 0.45\n",
      "The rate of matching tweets = 0.063\n",
      "p-value = 0.003\n",
      "ll\n",
      "The mean of labels of matching tweets = 0.42\n",
      "The rate of matching tweets = 0.262\n",
      "p-value = 0.004\n",
      "m\n",
      "The mean of labels of matching tweets = 0.42\n",
      "The rate of matching tweets = 0.683\n",
      "p-value = 0.001\n",
      "ma\n",
      "The mean of labels of matching tweets = 0.42\n",
      "The rate of matching tweets = 0.168\n",
      "p-value = 0.108\n",
      "me\n",
      "The mean of labels of matching tweets = 0.41\n",
      "The rate of matching tweets = 0.277\n",
      "p-value = 0.100\n",
      "mightn\n",
      "The mean of labels of matching tweets = nan\n",
      "The rate of matching tweets = 0.000\n",
      "p-value = 1.000\n",
      "mightn't\n",
      "The mean of labels of matching tweets = nan\n",
      "The rate of matching tweets = 0.000\n",
      "p-value = 1.000\n",
      "more\n"
     ]
    },
    {
     "name": "stdout",
     "output_type": "stream",
     "text": [
      "The mean of labels of matching tweets = 0.38\n",
      "The rate of matching tweets = 0.025\n",
      "p-value = 0.569\n",
      "most\n",
      "The mean of labels of matching tweets = 0.30\n",
      "The rate of matching tweets = 0.014\n",
      "p-value = 0.008\n",
      "mustn\n",
      "The mean of labels of matching tweets = nan\n",
      "The rate of matching tweets = 0.000\n",
      "p-value = 1.000\n",
      "mustn't\n",
      "The mean of labels of matching tweets = nan\n",
      "The rate of matching tweets = 0.000\n",
      "p-value = 1.000\n",
      "my\n",
      "The mean of labels of matching tweets = 0.43\n",
      "The rate of matching tweets = 0.121\n",
      "p-value = 0.036\n",
      "myself\n",
      "The mean of labels of matching tweets = 0.45\n",
      "The rate of matching tweets = 0.006\n",
      "p-value = 0.353\n",
      "needn\n",
      "The mean of labels of matching tweets = nan\n",
      "The rate of matching tweets = 0.000\n",
      "p-value = 1.000\n",
      "needn't\n",
      "The mean of labels of matching tweets = nan\n",
      "The rate of matching tweets = 0.000\n",
      "p-value = 1.000\n",
      "no\n",
      "The mean of labels of matching tweets = 0.39\n",
      "The rate of matching tweets = 0.217\n",
      "p-value = 0.253\n",
      "nor\n",
      "The mean of labels of matching tweets = 0.46\n",
      "The rate of matching tweets = 0.006\n",
      "p-value = 0.337\n",
      "not\n",
      "The mean of labels of matching tweets = 0.37\n",
      "The rate of matching tweets = 0.070\n",
      "p-value = 0.094\n",
      "now\n",
      "The mean of labels of matching tweets = 0.44\n",
      "The rate of matching tweets = 0.085\n",
      "p-value = 0.013\n",
      "o\n",
      "The mean of labels of matching tweets = 0.40\n",
      "The rate of matching tweets = 0.899\n",
      "p-value = 0.587\n",
      "of\n",
      "The mean of labels of matching tweets = 0.43\n",
      "The rate of matching tweets = 0.142\n",
      "p-value = 0.015\n",
      "off\n",
      "The mean of labels of matching tweets = 0.51\n",
      "The rate of matching tweets = 0.033\n",
      "p-value = 0.000\n",
      "on\n",
      "The mean of labels of matching tweets = 0.41\n",
      "The rate of matching tweets = 0.350\n",
      "p-value = 0.368\n",
      "once\n",
      "The mean of labels of matching tweets = 0.42\n",
      "The rate of matching tweets = 0.008\n",
      "p-value = 0.761\n",
      "only\n",
      "The mean of labels of matching tweets = 0.39\n",
      "The rate of matching tweets = 0.016\n",
      "p-value = 0.774\n",
      "or\n",
      "The mean of labels of matching tweets = 0.40\n",
      "The rate of matching tweets = 0.293\n",
      "p-value = 0.739\n",
      "other\n",
      "The mean of labels of matching tweets = 0.40\n",
      "The rate of matching tweets = 0.025\n",
      "p-value = 1.000\n",
      "our\n",
      "The mean of labels of matching tweets = 0.40\n",
      "The rate of matching tweets = 0.108\n",
      "p-value = 0.912\n",
      "ours\n",
      "The mean of labels of matching tweets = 0.34\n",
      "The rate of matching tweets = 0.011\n",
      "p-value = 0.165\n",
      "ourselves\n",
      "The mean of labels of matching tweets = 0.00\n",
      "The rate of matching tweets = 0.000\n",
      "p-value = 0.520\n",
      "out\n",
      "The mean of labels of matching tweets = 0.41\n",
      "The rate of matching tweets = 0.094\n",
      "p-value = 0.537\n",
      "over\n",
      "The mean of labels of matching tweets = 0.50\n",
      "The rate of matching tweets = 0.020\n",
      "p-value = 0.001\n",
      "own\n",
      "The mean of labels of matching tweets = 0.47\n",
      "The rate of matching tweets = 0.026\n",
      "p-value = 0.016\n",
      "re\n",
      "The mean of labels of matching tweets = 0.42\n",
      "The rate of matching tweets = 0.382\n",
      "p-value = 0.026\n",
      "s\n",
      "The mean of labels of matching tweets = 0.41\n",
      "The rate of matching tweets = 0.833\n",
      "p-value = 0.059\n",
      "same\n",
      "The mean of labels of matching tweets = 0.34\n",
      "The rate of matching tweets = 0.010\n",
      "p-value = 0.198\n",
      "shan\n",
      "The mean of labels of matching tweets = 0.40\n",
      "The rate of matching tweets = 0.000\n",
      "p-value = 1.000\n",
      "shan't\n",
      "The mean of labels of matching tweets = nan\n",
      "The rate of matching tweets = 0.000\n",
      "p-value = 1.000\n",
      "she\n",
      "The mean of labels of matching tweets = 0.53\n",
      "The rate of matching tweets = 0.026\n",
      "p-value = 0.000\n",
      "she's\n",
      "The mean of labels of matching tweets = 0.55\n",
      "The rate of matching tweets = 0.003\n",
      "p-value = 0.064\n",
      "should\n",
      "The mean of labels of matching tweets = 0.45\n",
      "The rate of matching tweets = 0.016\n",
      "p-value = 0.198\n",
      "should've\n",
      "The mean of labels of matching tweets = 0.00\n",
      "The rate of matching tweets = 0.000\n",
      "p-value = 0.520\n",
      "shouldn\n",
      "The mean of labels of matching tweets = 0.59\n",
      "The rate of matching tweets = 0.001\n",
      "p-value = 0.138\n",
      "shouldn't\n",
      "The mean of labels of matching tweets = 0.67\n",
      "The rate of matching tweets = 0.001\n",
      "p-value = 0.077\n",
      "so\n",
      "The mean of labels of matching tweets = 0.41\n",
      "The rate of matching tweets = 0.202\n",
      "p-value = 0.355\n",
      "some\n",
      "The mean of labels of matching tweets = 0.39\n",
      "The rate of matching tweets = 0.064\n",
      "p-value = 0.593\n",
      "such\n",
      "The mean of labels of matching tweets = 0.56\n",
      "The rate of matching tweets = 0.007\n",
      "p-value = 0.003\n",
      "t\n",
      "The mean of labels of matching tweets = 0.41\n",
      "The rate of matching tweets = 0.889\n",
      "p-value = 0.031\n",
      "than\n",
      "The mean of labels of matching tweets = 0.35\n",
      "The rate of matching tweets = 0.031\n",
      "p-value = 0.045\n",
      "that\n",
      "The mean of labels of matching tweets = 0.47\n",
      "The rate of matching tweets = 0.203\n",
      "p-value = 0.000\n",
      "that'll\n",
      "The mean of labels of matching tweets = 0.86\n",
      "The rate of matching tweets = 0.001\n",
      "p-value = 0.019\n",
      "the\n",
      "The mean of labels of matching tweets = 0.41\n",
      "The rate of matching tweets = 0.345\n",
      "p-value = 0.051\n",
      "their\n",
      "The mean of labels of matching tweets = 0.37\n",
      "The rate of matching tweets = 0.009\n",
      "p-value = 0.566\n",
      "theirs\n",
      "The mean of labels of matching tweets = 0.60\n",
      "The rate of matching tweets = 0.000\n",
      "p-value = 0.395\n",
      "them\n",
      "The mean of labels of matching tweets = 0.45\n",
      "The rate of matching tweets = 0.028\n",
      "p-value = 0.057\n",
      "themselves\n",
      "The mean of labels of matching tweets = 0.50\n",
      "The rate of matching tweets = 0.001\n",
      "p-value = 0.534\n",
      "then\n",
      "The mean of labels of matching tweets = 0.49\n",
      "The rate of matching tweets = 0.020\n",
      "p-value = 0.005\n",
      "there\n",
      "The mean of labels of matching tweets = 0.40\n",
      "The rate of matching tweets = 0.028\n",
      "p-value = 1.000\n",
      "these\n",
      "The mean of labels of matching tweets = 0.50\n",
      "The rate of matching tweets = 0.006\n",
      "p-value = 0.086\n",
      "they\n",
      "The mean of labels of matching tweets = 0.44\n",
      "The rate of matching tweets = 0.042\n",
      "p-value = 0.058\n",
      "this\n",
      "The mean of labels of matching tweets = 0.46\n",
      "The rate of matching tweets = 0.044\n",
      "p-value = 0.007\n",
      "those\n",
      "The mean of labels of matching tweets = 0.40\n",
      "The rate of matching tweets = 0.012\n",
      "p-value = 1.000\n",
      "through\n",
      "The mean of labels of matching tweets = 0.46\n",
      "The rate of matching tweets = 0.003\n",
      "p-value = 0.428\n",
      "to\n",
      "The mean of labels of matching tweets = 0.42\n",
      "The rate of matching tweets = 0.305\n",
      "p-value = 0.050\n",
      "too\n",
      "The mean of labels of matching tweets = 0.38\n",
      "The rate of matching tweets = 0.039\n",
      "p-value = 0.274\n",
      "under\n",
      "The mean of labels of matching tweets = 0.32\n",
      "The rate of matching tweets = 0.005\n",
      "p-value = 0.209\n",
      "until\n",
      "The mean of labels of matching tweets = 0.55\n",
      "The rate of matching tweets = 0.004\n",
      "p-value = 0.037\n",
      "up\n",
      "The mean of labels of matching tweets = 0.48\n",
      "The rate of matching tweets = 0.077\n",
      "p-value = 0.000\n",
      "ve\n",
      "The mean of labels of matching tweets = 0.36\n",
      "The rate of matching tweets = 0.266\n",
      "p-value = 0.000\n",
      "very\n",
      "The mean of labels of matching tweets = 0.38\n",
      "The rate of matching tweets = 0.028\n",
      "p-value = 0.555\n",
      "was\n",
      "The mean of labels of matching tweets = 0.43\n",
      "The rate of matching tweets = 0.070\n",
      "p-value = 0.102\n",
      "wasn\n",
      "The mean of labels of matching tweets = 0.50\n",
      "The rate of matching tweets = 0.004\n",
      "p-value = 0.135\n",
      "wasn't\n",
      "The mean of labels of matching tweets = 0.48\n",
      "The rate of matching tweets = 0.003\n",
      "p-value = 0.346\n",
      "we\n",
      "The mean of labels of matching tweets = 0.40\n",
      "The rate of matching tweets = 0.133\n",
      "p-value = 0.729\n",
      "were\n",
      "The mean of labels of matching tweets = 0.41\n",
      "The rate of matching tweets = 0.014\n",
      "p-value = 0.881\n",
      "weren\n",
      "The mean of labels of matching tweets = 0.60\n",
      "The rate of matching tweets = 0.001\n",
      "p-value = 0.213\n",
      "weren't\n",
      "The mean of labels of matching tweets = 0.67\n",
      "The rate of matching tweets = 0.001\n",
      "p-value = 0.170\n",
      "what\n",
      "The mean of labels of matching tweets = 0.26\n",
      "The rate of matching tweets = 0.080\n",
      "p-value = 0.000\n",
      "when\n",
      "The mean of labels of matching tweets = 0.40\n",
      "The rate of matching tweets = 0.041\n",
      "p-value = 1.000\n",
      "where\n",
      "The mean of labels of matching tweets = 0.34\n",
      "The rate of matching tweets = 0.013\n",
      "p-value = 0.128\n",
      "which\n",
      "The mean of labels of matching tweets = 0.22\n",
      "The rate of matching tweets = 0.006\n",
      "p-value = 0.001\n",
      "while\n",
      "The mean of labels of matching tweets = 0.41\n",
      "The rate of matching tweets = 0.006\n",
      "p-value = 0.910\n",
      "who\n",
      "The mean of labels of matching tweets = 0.44\n",
      "The rate of matching tweets = 0.046\n",
      "p-value = 0.048\n",
      "whom\n",
      "The mean of labels of matching tweets = 0.00\n",
      "The rate of matching tweets = 0.000\n",
      "p-value = 0.280\n",
      "why\n",
      "The mean of labels of matching tweets = 0.39\n",
      "The rate of matching tweets = 0.026\n",
      "p-value = 0.735\n",
      "will\n",
      "The mean of labels of matching tweets = 0.46\n",
      "The rate of matching tweets = 0.024\n",
      "p-value = 0.032\n",
      "with\n",
      "The mean of labels of matching tweets = 0.41\n",
      "The rate of matching tweets = 0.058\n",
      "p-value = 0.573\n",
      "won\n",
      "The mean of labels of matching tweets = 0.46\n",
      "The rate of matching tweets = 0.011\n",
      "p-value = 0.147\n",
      "won't\n",
      "The mean of labels of matching tweets = 0.62\n",
      "The rate of matching tweets = 0.004\n",
      "p-value = 0.004\n",
      "wouldn\n",
      "The mean of labels of matching tweets = 0.45\n",
      "The rate of matching tweets = 0.005\n",
      "p-value = 0.450\n",
      "wouldn't\n",
      "The mean of labels of matching tweets = 0.53\n",
      "The rate of matching tweets = 0.004\n",
      "p-value = 0.079\n",
      "y\n"
     ]
    },
    {
     "name": "stdout",
     "output_type": "stream",
     "text": [
      "The mean of labels of matching tweets = 0.40\n",
      "The rate of matching tweets = 0.745\n",
      "p-value = 0.676\n",
      "you\n",
      "The mean of labels of matching tweets = 0.39\n",
      "The rate of matching tweets = 0.337\n",
      "p-value = 0.171\n",
      "you'd\n",
      "The mean of labels of matching tweets = 0.62\n",
      "The rate of matching tweets = 0.002\n",
      "p-value = 0.028\n",
      "you'll\n",
      "The mean of labels of matching tweets = 0.59\n",
      "The rate of matching tweets = 0.004\n",
      "p-value = 0.015\n",
      "you're\n",
      "The mean of labels of matching tweets = 0.59\n",
      "The rate of matching tweets = 0.016\n",
      "p-value = 0.000\n",
      "you've\n",
      "The mean of labels of matching tweets = 0.45\n",
      "The rate of matching tweets = 0.002\n",
      "p-value = 0.665\n",
      "your\n",
      "The mean of labels of matching tweets = 0.40\n",
      "The rate of matching tweets = 0.088\n",
      "p-value = 1.000\n",
      "yours\n",
      "The mean of labels of matching tweets = 0.42\n",
      "The rate of matching tweets = 0.006\n",
      "p-value = 0.729\n",
      "yourself\n",
      "The mean of labels of matching tweets = 0.40\n",
      "The rate of matching tweets = 0.005\n",
      "p-value = 1.000\n",
      "yourselves\n",
      "The mean of labels of matching tweets = nan\n",
      "The rate of matching tweets = 0.000\n",
      "p-value = 1.000\n"
     ]
    }
   ],
   "source": [
    "X_train_lower = X_train.apply(str.lower)\n",
    "IRRELEVANT_STOPWORDS = []\n",
    "for stopword in np.sort(STOPWORDS):\n",
    "    print(stopword)\n",
    "    data_extended = find_all_matches(X_train_lower, y_train, stopword)\n",
    "    pvalue = compute_binom_pvalue(data_extended, stopword, p)\n",
    "    print_matching_statistics(data_extended, stopword, p)\n",
    "    if pvalue >= 0.01:\n",
    "        IRRELEVANT_STOPWORDS.append(stopword)"
   ]
  },
  {
   "cell_type": "code",
   "execution_count": 65,
   "metadata": {},
   "outputs": [
    {
     "name": "stdout",
     "output_type": "stream",
     "text": [
      "['a', 'about', 'above', 'after', 'again', 'against', 'ain', 'all', 'any', 'aren', \"aren't\", 'be', 'because', 'been', 'before', 'being', 'below', 'between', 'both', 'but', 'by', 'can', 'couldn', \"couldn't\", 'd', 'did', 'didn', \"didn't\", 'does', 'doesn', \"doesn't\", 'doing', 'don', 'each', 'few', 'for', 'from', 'further', 'had', 'hadn', \"hadn't\", 'has', 'hasn', \"hasn't\", 'haven', \"haven't\", 'having', 'her', 'here', 'hers', 'herself', 'himself', 'how', 'i', 'if', 'into', 'isn', \"isn't\", \"it's\", 'its', 'itself', 'ma', 'me', 'mightn', \"mightn't\", 'more', 'mustn', \"mustn't\", 'my', 'myself', 'needn', \"needn't\", 'no', 'nor', 'not', 'now', 'o', 'of', 'on', 'once', 'only', 'or', 'other', 'our', 'ours', 'ourselves', 'out', 'own', 're', 's', 'same', 'shan', \"shan't\", \"she's\", 'should', \"should've\", 'shouldn', \"shouldn't\", 'so', 'some', 't', 'than', \"that'll\", 'the', 'their', 'theirs', 'them', 'themselves', 'there', 'these', 'they', 'those', 'through', 'to', 'too', 'under', 'until', 'very', 'was', 'wasn', \"wasn't\", 'we', 'were', 'weren', \"weren't\", 'when', 'where', 'while', 'who', 'whom', 'why', 'will', 'with', 'won', 'wouldn', \"wouldn't\", 'y', 'you', \"you'd\", \"you'll\", \"you've\", 'your', 'yours', 'yourself', 'yourselves']\n"
     ]
    }
   ],
   "source": [
    "print(IRRELEVANT_STOPWORDS)"
   ]
  },
  {
   "cell_type": "code",
   "execution_count": 66,
   "metadata": {},
   "outputs": [
    {
     "data": {
      "text/plain": [
       "(179, 145)"
      ]
     },
     "execution_count": 66,
     "metadata": {},
     "output_type": "execute_result"
    }
   ],
   "source": [
    "len(STOPWORDS), len(IRRELEVANT_STOPWORDS)"
   ]
  },
  {
   "cell_type": "code",
   "execution_count": 67,
   "metadata": {},
   "outputs": [
    {
     "name": "stdout",
     "output_type": "stream",
     "text": [
      "{\"don't\", 'is', 'then', 'm', 'down', 'an', 'are', 'off', 'it', 'have', 've', 'he', 'she', 'do', 'what', \"you're\", 'at', 'and', 'during', 'as', 'this', 'just', 'that', 'over', 'am', 'up', 'such', \"won't\", 'll', 'him', 'which', 'most', 'his', 'in'}\n"
     ]
    }
   ],
   "source": [
    "print(set(STOPWORDS) - set(IRRELEVANT_STOPWORDS))"
   ]
  },
  {
   "cell_type": "code",
   "execution_count": 68,
   "metadata": {},
   "outputs": [],
   "source": [
    "df = pd.DataFrame(IRRELEVANT_STOPWORDS)\n",
    "df.to_csv('./Data/irrelevant_stopwords.csv', index=False, header=False)"
   ]
  },
  {
   "cell_type": "markdown",
   "metadata": {},
   "source": [
    "## Stemming and Lemmatization"
   ]
  },
  {
   "cell_type": "code",
   "execution_count": 69,
   "metadata": {},
   "outputs": [],
   "source": [
    "import nltk\n",
    "from nltk.corpus.reader.wordnet import NOUN, VERB, ADJ, ADV"
   ]
  },
  {
   "cell_type": "code",
   "execution_count": 70,
   "metadata": {},
   "outputs": [],
   "source": [
    "stemmer = nltk.stem.PorterStemmer()\n",
    "lemmatizer = nltk.stem.WordNetLemmatizer()"
   ]
  },
  {
   "cell_type": "code",
   "execution_count": 71,
   "metadata": {},
   "outputs": [],
   "source": [
    "train_tagged_corpus = nltk.corpus.brown.tagged_sents()"
   ]
  },
  {
   "cell_type": "code",
   "execution_count": 72,
   "metadata": {},
   "outputs": [],
   "source": [
    "tagger = nltk.DefaultTagger('X')\n",
    "for n in range(1, 4):\n",
    "    tagger = nltk.NgramTagger(n, train_tagged_corpus, backoff=tagger)"
   ]
  },
  {
   "cell_type": "code",
   "execution_count": 73,
   "metadata": {},
   "outputs": [],
   "source": [
    "pos_to_wordnet_dict = {\n",
    "    'J': ADJ,\n",
    "    'R': ADV,\n",
    "    'N': NOUN,\n",
    "    'V': VERB\n",
    "}"
   ]
  },
  {
   "cell_type": "code",
   "execution_count": 74,
   "metadata": {},
   "outputs": [
    {
     "name": "stdout",
     "output_type": "stream",
     "text": [
      "RB: adverb\n",
      "    occasionally unabatingly maddeningly adventurously professedly\n",
      "    stirringly prominently technologically magisterially predominately\n",
      "    swiftly fiscally pitilessly ...\n"
     ]
    }
   ],
   "source": [
    "nltk.help.upenn_tagset('RB')"
   ]
  },
  {
   "cell_type": "code",
   "execution_count": 75,
   "metadata": {},
   "outputs": [
    {
     "name": "stdout",
     "output_type": "stream",
     "text": [
      "after my surgery mine was anywhere from 45-60% of a normal sized bladder. My life sucks.\n",
      "\n",
      "======== nltk ===============================\n",
      "['after', 'my', 'surgery', 'mine', 'was', 'anywhere', 'from', '45-60', '%', 'of', 'a', 'normal', 'sized', 'bladder', '.', 'My', 'life', 'sucks', '.']\n",
      "\n",
      "======== split ==============================\n",
      "['after', 'my', 'surgery', 'mine', 'was', 'anywhere', 'from', '45', '60', 'of', 'a', 'normal', 'sized', 'bladder', 'my', 'life', 'sucks']\n",
      "\n",
      "[('after', 'IN'), ('my', 'PP$'), ('surgery', 'NN'), ('mine', 'NN'), ('was', 'BEDZ'), ('anywhere', 'RB'), ('from', 'IN'), ('45', 'CD'), ('60', 'CD'), ('of', 'IN'), ('a', 'AT'), ('normal', 'JJ'), ('sized', 'JJ'), ('bladder', 'X'), ('my', 'PP$'), ('life', 'NN'), ('sucks', 'X')]\n",
      "\n",
      "== LEM ==  == STEM ==\n",
      "after      after\n",
      "my         my\n",
      "surgery    surgeri\n",
      "mine       mine\n",
      "was        wa\n",
      "anywhere   anywher\n",
      "from       from\n",
      "45         45\n",
      "60         60\n",
      "of         of\n",
      "a          a\n",
      "normal     normal\n",
      "sized      size\n",
      "bladder    bladder\n",
      "my         my\n",
      "life       life\n",
      "sucks      suck\n"
     ]
    }
   ],
   "source": [
    "n = 1359\n",
    "print(X_train[n], end='\\n\\n')\n",
    "\n",
    "print('======== nltk ===============================')\n",
    "X_tokenized = nltk.word_tokenize(X_train[n])\n",
    "print(X_tokenized, end='\\n\\n')\n",
    "\n",
    "print('======== split ==============================')\n",
    "X_tokenized = [list(filter(None, re.split('[^\\\\w\\'*]', doc))) for doc in [X_train[n]]][0]\n",
    "X_tokenized = list(map(str.lower, X_tokenized))\n",
    "print(X_tokenized, end='\\n\\n')\n",
    "\n",
    "tagged_words = tagger.tag(X_tokenized)\n",
    "print(tagged_words, end='\\n\\n')\n",
    "\n",
    "lem_w = [lemmatizer.lemmatize(word, pos=pos_to_wordnet_dict[pos[0]])\n",
    "          if pos[0] in pos_to_wordnet_dict else word\n",
    "         for word, pos in tagged_words]\n",
    "stem_w = [stemmer.stem(word) for word in X_tokenized]\n",
    "print('{0:<10s} {1:s}'.format('== LEM ==', '== STEM =='))\n",
    "for words in zip(lem_w, stem_w):\n",
    "    print('{0:<10s} {1:s}'.format(*words))"
   ]
  },
  {
   "cell_type": "markdown",
   "metadata": {},
   "source": [
    "## Sentences"
   ]
  },
  {
   "cell_type": "code",
   "execution_count": 16,
   "metadata": {},
   "outputs": [],
   "source": [
    "from scipy import stats"
   ]
  },
  {
   "cell_type": "markdown",
   "metadata": {},
   "source": [
    "A smaller number of sentences is more related to nonaggressive tweets"
   ]
  },
  {
   "cell_type": "code",
   "execution_count": 17,
   "metadata": {},
   "outputs": [],
   "source": [
    "sents_count = np.array(list(map(len, [nltk.sent_tokenize(doc) for doc in X_train])))"
   ]
  },
  {
   "cell_type": "code",
   "execution_count": 87,
   "metadata": {},
   "outputs": [
    {
     "name": "stdout",
     "output_type": "stream",
     "text": [
      "No. of sentences: 1     No. of aggressive twets: 2139  No. of nonaggressive tweets: 3975  p-value 0.000\n",
      "No. of sentences: 2     No. of aggressive twets: 1691  No. of nonaggressive tweets: 2181  p-value 0.000\n",
      "No. of sentences: 3     No. of aggressive twets: 835   No. of nonaggressive tweets: 1026  p-value 0.000\n",
      "No. of sentences: 4     No. of aggressive twets: 296   No. of nonaggressive tweets: 353   p-value 0.001\n",
      "No. of sentences: 5     No. of aggressive twets: 87    No. of nonaggressive tweets: 111   p-value 0.166\n",
      "No. of sentences: 6     No. of aggressive twets: 15    No. of nonaggressive tweets: 45    p-value 0.033\n",
      "No. of sentences: 7     No. of aggressive twets: 3     No. of nonaggressive tweets: 6     p-value 1.000\n",
      "No. of sentences: 8     No. of aggressive twets: 2     No. of nonaggressive tweets: 4     p-value 1.000\n",
      "No. of sentences: 9     No. of aggressive twets: 0     No. of nonaggressive tweets: 2     p-value 0.524\n",
      "No. of sentences: 10    No. of aggressive twets: 2     No. of nonaggressive tweets: 2     p-value 0.646\n"
     ]
    }
   ],
   "source": [
    "for i in range(1, 11):\n",
    "    aggressive_tweets_no = (sents_count[y_train == 1] == i).sum()\n",
    "    nonaggressive_tweets_no = (sents_count[y_train == 0] == i).sum()\n",
    "    \n",
    "    successes_no = aggressive_tweets_no\n",
    "    trials_no = aggressive_tweets_no + nonaggressive_tweets_no\n",
    "    pvalue = stats.binom_test(x=successes_no, n=trials_no, p=0.39)\n",
    "    \n",
    "    print('No. of sentences: {0:<5} No. of aggressive twets: {1:<5} No. of nonaggressive tweets: {2:<5} p-value {3:.3f}'.\\\n",
    "          format(i, aggressive_tweets_no, nonaggressive_tweets_no, pvalue))"
   ]
  },
  {
   "cell_type": "markdown",
   "metadata": {},
   "source": [
    "Similarity to aggressive tweets"
   ]
  },
  {
   "cell_type": "code",
   "execution_count": 6,
   "metadata": {},
   "outputs": [],
   "source": [
    "from mytextpreprocessing import SimilarityToAggressiveTweets"
   ]
  },
  {
   "cell_type": "code",
   "execution_count": 7,
   "metadata": {},
   "outputs": [],
   "source": [
    "texts = [\n",
    "        'Thanks!', \n",
    "         'she is way way better than your nasty asss. Bahahahahhaha!!! aggress that kristens pretty tighht', \n",
    "         'i hate u'\n",
    "        ]"
   ]
  },
  {
   "cell_type": "code",
   "execution_count": 8,
   "metadata": {},
   "outputs": [
    {
     "name": "stdout",
     "output_type": "stream",
     "text": [
      "i hate u like miniature dogs hate people dressing them in t-shirts and little booties. 1\n",
      "you asian!!! I hate asians!!! Bahahahahhaha!!! Jk! I am well on my way to getting fucked up!!! See you next year!!! Hahahahaha!! 1\n",
      " austins new girllfriend is not uglly  &amp;&amp; she is way way better than your nasty asss willll ever be. Ha evven youur so callled bestfriend &quot;katellyn&quot; aggress that kristens pretty tighht. 1\n",
      "  Not currently. 0\n"
     ]
    }
   ],
   "source": [
    "print(X_train[0], y_train[0])\n",
    "print(X_train[1], y_train[1])\n",
    "print(X_train[2], y_train[2])\n",
    "print(X_train[3], y_train[3])"
   ]
  },
  {
   "cell_type": "code",
   "execution_count": 9,
   "metadata": {},
   "outputs": [],
   "source": [
    "sim = SimilarityToAggressiveTweets()\n",
    "sim.fit(X_train, y_train);"
   ]
  },
  {
   "cell_type": "code",
   "execution_count": 26,
   "metadata": {},
   "outputs": [],
   "source": [
    "import os\n",
    "import pickle\n",
    "models_path = './Models'\n",
    "if not os.path.exists(models_path):\n",
    "    os.makedirs(models_path)\n",
    "with open(os.path.join(models_path, 'similarity.p'), 'wb') as file:\n",
    "    pickle.dump(sim, file, protocol=4)"
   ]
  },
  {
   "cell_type": "code",
   "execution_count": 10,
   "metadata": {},
   "outputs": [
    {
     "data": {
      "text/plain": [
       "array([0.37796447, 0.52704628, 1.        ])"
      ]
     },
     "execution_count": 10,
     "metadata": {},
     "output_type": "execute_result"
    }
   ],
   "source": [
    "sim.transform(texts)"
   ]
  },
  {
   "cell_type": "code",
   "execution_count": 11,
   "metadata": {},
   "outputs": [
    {
     "data": {
      "text/plain": [
       "array([1.        , 0.81649658, 0.48507125, 0.40824829])"
      ]
     },
     "execution_count": 11,
     "metadata": {},
     "output_type": "execute_result"
    }
   ],
   "source": [
    "sim.transform(X_train[:4])"
   ]
  },
  {
   "cell_type": "code",
   "execution_count": 12,
   "metadata": {},
   "outputs": [],
   "source": [
    "aggressive_sim = sim.transform(X_train[y_train == 1][:100])"
   ]
  },
  {
   "cell_type": "code",
   "execution_count": 18,
   "metadata": {},
   "outputs": [
    {
     "data": {
      "text/plain": [
       "39"
      ]
     },
     "execution_count": 18,
     "metadata": {},
     "output_type": "execute_result"
    }
   ],
   "source": [
    "# a number of aggressive tweets that have one sentence\n",
    "(sents_count[y_train == 1][:100] == 1).sum()"
   ]
  },
  {
   "cell_type": "code",
   "execution_count": 19,
   "metadata": {},
   "outputs": [
    {
     "data": {
      "text/plain": [
       "42"
      ]
     },
     "execution_count": 19,
     "metadata": {},
     "output_type": "execute_result"
    }
   ],
   "source": [
    "(aggressive_sim == 1).sum()"
   ]
  },
  {
   "cell_type": "code",
   "execution_count": 20,
   "metadata": {},
   "outputs": [
    {
     "data": {
      "text/plain": [
       "70"
      ]
     },
     "execution_count": 20,
     "metadata": {},
     "output_type": "execute_result"
    }
   ],
   "source": [
    "(aggressive_sim >= 0.5).sum()"
   ]
  },
  {
   "cell_type": "code",
   "execution_count": 21,
   "metadata": {},
   "outputs": [],
   "source": [
    "nonaggressive_sim = sim.transform(X_train[y_train == 0][:100])"
   ]
  },
  {
   "cell_type": "code",
   "execution_count": 22,
   "metadata": {},
   "outputs": [
    {
     "data": {
      "text/plain": [
       "65"
      ]
     },
     "execution_count": 22,
     "metadata": {},
     "output_type": "execute_result"
    }
   ],
   "source": [
    "(nonaggressive_sim < 0.5).sum()"
   ]
  },
  {
   "cell_type": "code",
   "execution_count": null,
   "metadata": {},
   "outputs": [],
   "source": []
  }
 ],
 "metadata": {
  "kernelspec": {
   "display_name": "Python 3",
   "language": "python",
   "name": "python3"
  },
  "language_info": {
   "codemirror_mode": {
    "name": "ipython",
    "version": 3
   },
   "file_extension": ".py",
   "mimetype": "text/x-python",
   "name": "python",
   "nbconvert_exporter": "python",
   "pygments_lexer": "ipython3",
   "version": "3.6.5"
  }
 },
 "nbformat": 4,
 "nbformat_minor": 2
}
